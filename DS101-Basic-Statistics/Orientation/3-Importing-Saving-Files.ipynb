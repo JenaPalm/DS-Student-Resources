{
 "cells": [
  {
   "cell_type": "markdown",
   "id": "6c7513b2-1d33-4b17-a0b1-63956290c5aa",
   "metadata": {},
   "source": [
    "# Computer Basics and Importing Data"
   ]
  },
  {
   "cell_type": "markdown",
   "id": "7180bd19-c1c4-400d-af5e-551bb7d3844f",
   "metadata": {},
   "source": [
    "### Table of Contents <a class=\"anchor\" id=\"Computer_Basics\"></a>\n",
    "\n",
    "* [Table of Contents](#Computer_Basics)\n",
    "    * [Page 1 - Windows Basic Computer Skills](#Computer_Basics_page_1)\n",
    "    * [Page 2 - Windows Part I Importing Data, Finding Paths, Saving Files](#Computer_Basics_page_2)\n",
    "    * [Page 3 - Windows Part II Importing Data and Finding Path](#Computer_Basics_page_3)\n",
    "    * [Page 4 - Mac Part I Basic Computer Skills](#Computer_Basics_page_4)\n",
    "    * [Page 5 - Mac Part II Basic Computer Skills](#Computer_Basics_page_5)\n",
    "    * [Page 6 - Mac Importing Data, Finding Paths, Saving Files](#Computer_Basics_page_6)\n",
    "    * [Page 7 - Importing R Syntax and Extra Resources](#Computer_Basics_page_7)\n",
    "    * [Page 8 - Importing Python Syntax and Extra Resources](#Computer_Basics_page_8)"
   ]
  },
  {
   "cell_type": "markdown",
   "id": "77cd8c5b-a3a9-45c7-8e12-4b1fc82cd24e",
   "metadata": {},
   "source": [
    "<hr style=\"height:10px;border-width:0;color:gray;background-color:gray\">\n",
    "\n",
    "# Page 1 - Windows Computer Basics Skills <a class=\"anchor\" id=\"Computer_Basics_page_1\"></a>\n",
    "\n",
    "[Back to Top](#Computer_Basics)\n",
    "\n",
    "<hr style=\"height:10px;border-width:0;color:gray;background-color:gray\">"
   ]
  },
  {
   "cell_type": "code",
   "execution_count": 1,
   "id": "c3bdb193-d289-437c-98ef-9940b593a077",
   "metadata": {},
   "outputs": [
    {
     "data": {
      "text/html": [
       "\n",
       "        <iframe\n",
       "            width=\"720\"\n",
       "            height=\"480\"\n",
       "            src=\"https://player.vimeo.com/video/352609377\"\n",
       "            frameborder=\"0\"\n",
       "            allowfullscreen\n",
       "            \n",
       "        ></iframe>\n",
       "        "
      ],
      "text/plain": [
       "<IPython.lib.display.VimeoVideo at 0x127792d90>"
      ]
     },
     "execution_count": 1,
     "metadata": {},
     "output_type": "execute_result"
    }
   ],
   "source": [
    "from IPython.display import VimeoVideo\n",
    "# Tutorial Video Name: Your Path through Data Science Pipeline\n",
    "VimeoVideo('352609377', width=720, height=480)"
   ]
  },
  {
   "cell_type": "markdown",
   "id": "5ce670ca-716b-4781-a873-96ba2adbdba7",
   "metadata": {},
   "source": [
    "<hr style=\"height:10px;border-width:0;color:gray;background-color:gray\">\n",
    "\n",
    "# Page 2 - Windows Part I Importing Data, Finding Paths, Saving Files <a class=\"anchor\" id=\"Computer_Basics_page_2\"></a>\n",
    "\n",
    "[Back to Top](#Computer_Basics)\n",
    "\n",
    "<hr style=\"height:10px;border-width:0;color:gray;background-color:gray\">"
   ]
  },
  {
   "cell_type": "markdown",
   "id": "c1b05a23-2ab1-47ec-b587-bfce15c379df",
   "metadata": {},
   "source": [
    "- Importing Data on Windows\n",
    "- Finding pathway on Windows (Time start: 1:10)\n",
    "- Zip/Unzip files on Windows(Time start: 2:05)\n",
    "- Save files on Windows (Time start: 2:16)"
   ]
  },
  {
   "cell_type": "code",
   "execution_count": 6,
   "id": "b30a6116-c351-4738-97f4-4c60768ca493",
   "metadata": {},
   "outputs": [
    {
     "data": {
      "text/html": [
       "\n",
       "        <iframe\n",
       "            width=\"720\"\n",
       "            height=\"480\"\n",
       "            src=\"https://player.vimeo.com/video/718457259\"\n",
       "            frameborder=\"0\"\n",
       "            allowfullscreen\n",
       "            \n",
       "        ></iframe>\n",
       "        "
      ],
      "text/plain": [
       "<IPython.lib.display.VimeoVideo at 0x121326580>"
      ]
     },
     "execution_count": 6,
     "metadata": {},
     "output_type": "execute_result"
    }
   ],
   "source": [
    "from IPython.display import VimeoVideo\n",
    "# Tutorial Video Name: Loading Data and Archiving with R and Python Walk-through\n",
    "VimeoVideo('718457259', width=720, height=480)"
   ]
  },
  {
   "cell_type": "markdown",
   "id": "111aceec-192e-4433-9360-4ffe588001de",
   "metadata": {},
   "source": [
    "<hr style=\"height:10px;border-width:0;color:gray;background-color:gray\">\n",
    "\n",
    "# Page 3 - Windows Part II Importing Data and Finding Path <a class=\"anchor\" id=\"Computer_Basics_page_3\"></a>\n",
    "\n",
    "[Back to Top](#Computer_Basics)\n",
    "\n",
    "<hr style=\"height:10px;border-width:0;color:gray;background-color:gray\">"
   ]
  },
  {
   "cell_type": "markdown",
   "id": "112f0d86-130a-44c6-ad06-1ee731f65d74",
   "metadata": {},
   "source": [
    "- Find Pathways on Windows\n",
    "- Importing Data on Windows"
   ]
  },
  {
   "cell_type": "code",
   "execution_count": 2,
   "id": "2c9a5fc2-c37b-4c1d-aae9-540eeeec6fe5",
   "metadata": {},
   "outputs": [
    {
     "data": {
      "text/html": [
       "\n",
       "        <iframe\n",
       "            width=\"720\"\n",
       "            height=\"480\"\n",
       "            src=\"https://player.vimeo.com/video/644123075\"\n",
       "            frameborder=\"0\"\n",
       "            allowfullscreen\n",
       "            \n",
       "        ></iframe>\n",
       "        "
      ],
      "text/plain": [
       "<IPython.lib.display.VimeoVideo at 0x1213268e0>"
      ]
     },
     "execution_count": 2,
     "metadata": {},
     "output_type": "execute_result"
    }
   ],
   "source": [
    "from IPython.display import VimeoVideo\n",
    "# Tutorial Video Name: Loading Data and Archiving with R and Python Walk-through\n",
    "VimeoVideo('644123075', width=720, height=480)"
   ]
  },
  {
   "cell_type": "markdown",
   "id": "49765883-554d-40f8-a7e5-85cf52eb2e16",
   "metadata": {},
   "source": [
    "<hr style=\"height:10px;border-width:0;color:gray;background-color:gray\">\n",
    "\n",
    "# Page 4 - Mac Part I Basic Computer Skills <a class=\"anchor\" id=\"Computer_Basics_page_4\"></a>\n",
    "\n",
    "[Back to Top](#Computer_Basics)\n",
    "\n",
    "<hr style=\"height:10px;border-width:0;color:gray;background-color:gray\">"
   ]
  },
  {
   "cell_type": "code",
   "execution_count": 2,
   "id": "8783ac48-2fe9-4f55-84da-22aac760ff29",
   "metadata": {},
   "outputs": [
    {
     "data": {
      "text/html": [
       "\n",
       "        <iframe\n",
       "            width=\"720\"\n",
       "            height=\"480\"\n",
       "            src=\"https://player.vimeo.com/video/352615114\"\n",
       "            frameborder=\"0\"\n",
       "            allowfullscreen\n",
       "            \n",
       "        ></iframe>\n",
       "        "
      ],
      "text/plain": [
       "<IPython.lib.display.VimeoVideo at 0x127792b50>"
      ]
     },
     "execution_count": 2,
     "metadata": {},
     "output_type": "execute_result"
    }
   ],
   "source": [
    "from IPython.display import VimeoVideo\n",
    "# Tutorial Video Name: Your Path through Data Science Pipeline\n",
    "VimeoVideo('352615114', width=720, height=480)"
   ]
  },
  {
   "cell_type": "markdown",
   "id": "b6b0500a-b56a-4776-9423-11edfa0eaa14",
   "metadata": {},
   "source": [
    "<hr style=\"height:10px;border-width:0;color:gray;background-color:gray\">\n",
    "\n",
    "# Page 5 - Mac Part II Basic Computer Skills <a class=\"anchor\" id=\"Computer_Basics_page_5\"></a>\n",
    "\n",
    "[Back to Top](#Computer_Basics)\n",
    "\n",
    "<hr style=\"height:10px;border-width:0;color:gray;background-color:gray\">"
   ]
  },
  {
   "cell_type": "code",
   "execution_count": 3,
   "id": "7066ae80-358e-4d1d-b378-84bbbc730e5f",
   "metadata": {},
   "outputs": [
    {
     "data": {
      "text/html": [
       "\n",
       "        <iframe\n",
       "            width=\"720\"\n",
       "            height=\"480\"\n",
       "            src=\"https://player.vimeo.com/video/352616280\"\n",
       "            frameborder=\"0\"\n",
       "            allowfullscreen\n",
       "            \n",
       "        ></iframe>\n",
       "        "
      ],
      "text/plain": [
       "<IPython.lib.display.VimeoVideo at 0x127792ca0>"
      ]
     },
     "execution_count": 3,
     "metadata": {},
     "output_type": "execute_result"
    }
   ],
   "source": [
    "from IPython.display import VimeoVideo\n",
    "# Tutorial Video Name: Your Path through Data Science Pipeline\n",
    "VimeoVideo('352616280', width=720, height=480)"
   ]
  },
  {
   "cell_type": "markdown",
   "id": "6aa0eb8c-9871-4c72-8077-a076c44a02bc",
   "metadata": {},
   "source": [
    "<hr style=\"height:10px;border-width:0;color:gray;background-color:gray\">\n",
    "\n",
    "# Page 6 - Mac Importing Data, Finding Paths, Saving Files <a class=\"anchor\" id=\"Computer_Basics_page_6\"></a>\n",
    "\n",
    "[Back to Top](#Computer_Basics)\n",
    "\n",
    "<hr style=\"height:10px;border-width:0;color:gray;background-color:gray\">"
   ]
  },
  {
   "cell_type": "markdown",
   "id": "8777946f-943a-41d8-bb0c-10b9b8e5a959",
   "metadata": {},
   "source": [
    "- Importing Data on Mac\n",
    "- Finding pathway on Mac (Time start: 1.27)\n",
    "- Save Files on Mac (Time start 7:34)\n",
    "- Zip/Unzip Files on Mac (Time start: 10:05)"
   ]
  },
  {
   "cell_type": "code",
   "execution_count": 4,
   "id": "6b39f105-fd5e-4325-8add-091cf208c8c6",
   "metadata": {},
   "outputs": [
    {
     "data": {
      "text/html": [
       "\n",
       "        <iframe\n",
       "            width=\"720\"\n",
       "            height=\"480\"\n",
       "            src=\"https://player.vimeo.com/video/718123061\"\n",
       "            frameborder=\"0\"\n",
       "            allowfullscreen\n",
       "            \n",
       "        ></iframe>\n",
       "        "
      ],
      "text/plain": [
       "<IPython.lib.display.VimeoVideo at 0x1277921c0>"
      ]
     },
     "execution_count": 4,
     "metadata": {},
     "output_type": "execute_result"
    }
   ],
   "source": [
    "from IPython.display import VimeoVideo\n",
    "# Tutorial Video Name: Loading Data and Archiving with R and Python Walk-through\n",
    "VimeoVideo('718123061', width=720, height=480)"
   ]
  },
  {
   "cell_type": "markdown",
   "id": "543c4731-5771-49b7-bb51-d1661393b955",
   "metadata": {},
   "source": [
    "<hr style=\"height:10px;border-width:0;color:gray;background-color:gray\">\n",
    "\n",
    "# Page 7 - Importing R Syntax and Extra Resources <a class=\"anchor\" id=\"Computer_Basics_page_7\"></a>\n",
    "\n",
    "[Back to Top](#Computer_Basics)\n",
    "\n",
    "<hr style=\"height:10px;border-width:0;color:gray;background-color:gray\">"
   ]
  },
  {
   "cell_type": "markdown",
   "id": "411bbdc5-d0b4-4e17-8dce-224ebdf7616c",
   "metadata": {},
   "source": [
    "# R:\n",
    "## Syntax for importing data in R\n",
    "\n",
    "``` r\n",
    "#Import Packages:\n",
    "install.packages(“readr”)\n",
    "install.packages(“readxl”)\n",
    "library(readr)\n",
    "library(readxl)\n",
    "\n",
    "# Import Data:\n",
    "# CSV:\n",
    "DatasetName <- read_csv(\"pathway.csv\")\n",
    "# EXCEL:\n",
    "DatasetName <- read_excel(\"pathway.xlsx\")\n",
    "\n",
    "# Look at Dataset:\n",
    "View(DatasetName)\n",
    "head(DatasetName)\n",
    "```\n"
   ]
  },
  {
   "cell_type": "markdown",
   "id": "3004ec26-7d23-4b89-b422-8b8831bbad30",
   "metadata": {},
   "source": [
    "## Check out this R Importing Tutorial"
   ]
  },
  {
   "cell_type": "code",
   "execution_count": 3,
   "id": "0ea48ffa-765c-487a-8c35-8f9c9ff7a76b",
   "metadata": {},
   "outputs": [
    {
     "data": {
      "image/jpeg": "[encoded data removed]",
      "text/html": [
       "\n",
       "        <iframe\n",
       "            width=\"720\"\n",
       "            height=\"480\"\n",
       "            src=\"https://www.youtube.com/embed/JYVWufSQ4OI\"\n",
       "            frameborder=\"0\"\n",
       "            allowfullscreen\n",
       "            \n",
       "        ></iframe>\n",
       "        "
      ],
      "text/plain": [
       "<IPython.lib.display.YouTubeVideo at 0x12757b760>"
      ]
     },
     "execution_count": 3,
     "metadata": {},
     "output_type": "execute_result"
    }
   ],
   "source": [
    "from IPython.display import YouTubeVideo\n",
    "# Import Data in R Tutorial Video\n",
    "YouTubeVideo('JYVWufSQ4OI', width=720, height=480)"
   ]
  },
  {
   "cell_type": "markdown",
   "id": "1cd2803a-fe9d-4904-b21a-babf1580ab12",
   "metadata": {},
   "source": [
    "---\n",
    "\n",
    "## If you recieve this error..."
   ]
  },
  {
   "cell_type": "markdown",
   "id": "6a8ccb97-2519-403f-8e28-7333d5acccea",
   "metadata": {},
   "source": [
    "<p style=\"text-align: left;\">\n",
    "  <img width=\"400\" alt=\"ggplot not found\" src=\"../Media/ggplotNotFoundError.png\">\n",
    "</p>"
   ]
  },
  {
   "cell_type": "markdown",
   "id": "371434b9-535c-4ec5-ac3f-2eecaaf8602c",
   "metadata": {},
   "source": [
    "---"
   ]
  },
  {
   "cell_type": "markdown",
   "id": "a5c0e1f2-a910-4316-aee8-6d8eb98aac0d",
   "metadata": {},
   "source": [
    "The Error above means that R cannot find the function `ggplot`. Without the proper package of `ggplot2`, it cannot run the function. The same thing goes for all other functions and packages. It you recieve an error saying that your code cannot find function for `readr`,`readxl`,`ggplot`, etc. You will need to follow the steps below but replace the name what you need instead. \n",
    "\n",
    "1. On Line 1, please put `install.packages(“ggplot2”)` \n",
    "2. Then run the code\n",
    "3. This should import the package `ggplot` and fix the error \n",
    "4. Re-run the block of code `library(ggplot2)`\n",
    "5. Good to go \n",
    "\n",
    "6. NOTE: R Studio is touchy with the packages, you may need to install packages multiple times throughout the program. Just pay attention to the error and what it says. Apart of learning to code is reading errors. "
   ]
  },
  {
   "cell_type": "markdown",
   "id": "2537ab60-11c6-467b-ab4e-6429f4309e51",
   "metadata": {},
   "source": [
    "<hr style=\"height:10px;border-width:0;color:gray;background-color:gray\">\n",
    "\n",
    "# Page 8 - Importing Python Syntax and Extra Resources <a class=\"anchor\" id=\"Computer_Basics_page_8\"></a>\n",
    "\n",
    "[Back to Top](#Computer_Basics)\n",
    "\n",
    "<hr style=\"height:10px;border-width:0;color:gray;background-color:gray\">"
   ]
  },
  {
   "cell_type": "markdown",
   "id": "781c1160-94fe-4809-b0f6-f2300806a05a",
   "metadata": {
    "tags": []
   },
   "source": [
    "# Python:\n",
    "## Syntax for importing data in Python\n",
    "\n",
    "```python\n",
    "# Import packages:\n",
    "import pandas as pd\n",
    "\n",
    "# Import data:\n",
    "# CSV:\n",
    "DatasetName = pd.read_csv(\"pathway.csv\")\n",
    "# EXCEL:\n",
    "DatasetName = pd.read_excel(\"pathway.xlsx\")\n",
    "\n",
    "# Look at data:\n",
    "DatasetName.head()\n",
    "```\n",
    "\n",
    "---"
   ]
  },
  {
   "cell_type": "markdown",
   "id": "48350d15-48e8-42fa-9fc5-45fcd3a7ea08",
   "metadata": {},
   "source": [
    "## If you recieve this error..."
   ]
  },
  {
   "cell_type": "markdown",
   "id": "c626bf64-ad2d-4bd5-b088-6bfde855be7f",
   "metadata": {},
   "source": [
    "<p style=\"text-align: left;\">\n",
    "  <img width=\"600\" alt=\"module pandas not found\" src=\"../Media/PandasNotFoundError.png\">\n",
    "</p>"
   ]
  },
  {
   "cell_type": "markdown",
   "id": "a1eade0b-c7ce-4c67-b30a-d86d70b11c6d",
   "metadata": {},
   "source": [
    "The Error above means that Python cannot find the packages. Without the proper package, it cannot import the function you are trying to import. The same thing goes for all other functions and packages. It you recieve an error saying that your code cannot find module for `pandas`,`sklearn`,`scipy`, etc. You will need to follow the steps below but replace the name what you need instead. \n",
    "\n",
    "1. On a seperate block on code, please put `pip install pandas` \n",
    "2. Then run the block of code\n",
    "3. This should import the package `pandas` and fix the error \n",
    "4. Re-run the block of code `import pandas as pd`\n",
    "5. Good to go \n",
    "\n",
    "6. NOTE: You only need to pip install this 1 time, after this you only need to import package \n",
    "\n",
    "---"
   ]
  }
 ],
 "metadata": {
  "kernelspec": {
   "display_name": "Python 3 (ipykernel)",
   "language": "python",
   "name": "python3"
  },
  "language_info": {
   "codemirror_mode": {
    "name": "ipython",
    "version": 3
   },
   "file_extension": ".py",
   "mimetype": "text/x-python",
   "name": "python",
   "nbconvert_exporter": "python",
   "pygments_lexer": "ipython3",
   "version": "3.9.13"
  }
 },
 "nbformat": 4,
 "nbformat_minor": 5
}
