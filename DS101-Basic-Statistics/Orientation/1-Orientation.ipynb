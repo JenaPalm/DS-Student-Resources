{
 "cells": [
  {
   "cell_type": "markdown",
   "id": "09cefb24-a035-47b7-b93b-c00dcdd62035",
   "metadata": {
    "tags": []
   },
   "source": [
    "# ORIENTATION:\n",
    "\n",
    "1. Welcome to the Data Science Team\n",
    "\n",
    "\n",
    "2. Let's start with Program Installations\n",
    "    - All the applications you need for the Program.\n",
    "    - At the beginning of each lesson, there will be instructions to reinstall the programs. Please `DO NOT` re-install, do a update!!!\n",
    "        - [Windows/Chocolatey](https://nbviewer.org/github/woz-u/DS-Student-Resources/blob/main/DS101-Basic-Statistics/Installation/Chocolatey.ipynb)\n",
    "        - [Mac/Homebrew](https://nbviewer.org/github/woz-u/DS-Student-Resources/blob/main/DS101-Basic-Statistics/Installation/Homebrew.ipynb)\n",
    "\n",
    "\n",
    "3. Stay Organized\n",
    "    - Learn to organize school work and use modern software and techniques.\n",
    "        - Watch and Follow [GitHub Desktop](https://nbviewer.org/github/woz-u/DS-Student-Resources/blob/main/DS101-Basic-Statistics/Examples/1-Github-Basics.ipynb)\n",
    "\n",
    "\n",
    "4. Learn Companion Notebooks Basics\n",
    "    - Let's walk through some Jupyter Notebooks AKA Companion Notebooks Series AKA DS-Students Resources. This is a series made in Jupyterlab. These were specifically made to provide you with extra resources, what we call Example Notebooks, to help you with Hands-on assignments and more. Given how fast technology updates, the example notebooks, or companion notebooks, are our way of keeping up with new information in the world of data analysis. \n",
    "        - [Navigate the Companion Noteboooks Series](../Examples/0-Navigating-the-Companion-Notebook-Series.ipynb)\n",
    "\n",
    "\n",
    "5. Basic Computer Skills\n",
    "    - [Windows](https://vimeo.com/352609377)\n",
    "        - [Unzipping and Zipping files on Windows](https://vimeo.com/718457259)\n",
    "        - [Save to GitHub](https://vimeo.com/709720043)\n",
    "    - [Macs Part 1](https://vimeo.com/352615114)/ [Macs Part 2](https://vimeo.com/352616280)\n",
    "        - [Unzipping and Zipping Files on Mac](https://vimeo.com/718123061)\n",
    "        - [Save to GitHub](https://vimeo.com/709720043)\n",
    "\n",
    "\n",
    "\n",
    "6. Proper Communication\n",
    "    - Slack Basics\n",
    "        - [Turn on Notifications](https://vimeo.com/734515479)\n",
    "        - [How to create a help ticket](https://vimeo.com/734512203)\n",
    "        - [Slack tips like huddle, screen-sharing, etc](https://vimeo.com/734518012)\n",
    "    - Zoom Basics\n",
    "        - Download on computer\n",
    "        - Zoom etiquette\n",
    "            - If you have a question, please be ready on your computer, at the scheduled time, and ready to start working\n",
    "            - Please have camera on to have face to face interaction\n",
    "            - Please be clothed \n",
    "            - Please be ready to share your screen\n",
    "            - Students need to be ready on computer or RESCHEDULE AHEAD OF TIME\n",
    "            - Quiet Place\n",
    "\n",
    "\n",
    "7. Key Board Basics\n",
    "    - Common Key board shortcuts:\n",
    "        - copying: \n",
    "            - `Windows(CTRL + C)` \n",
    "            - `Mac(CMD + C)`\n",
    "        - pasting: \n",
    "            - `Windows(CTRL + V)` \n",
    "            - `Mac(CMD + V)`\n",
    "        - undo: \n",
    "            - `Windows(CTRL + Z)` \n",
    "            - `Mac(CMD + Z)`\n",
    "        - screen shots: \n",
    "            - `Windows(Windows + shift + s)` \n",
    "            - `Mac(CMD + shift + 3,4,5)`\n",
    "        - shows all open applications: \n",
    "            - `Windows(alt+ tab)` \n",
    "            - `Mac(3 fingers on track pad and swipe up)` \n",
    "\n",
    "\n",
    "8. How to Problem Solve!\n",
    "    - Google\n",
    "    - YouTube\n",
    "    - Various Forums such as StackOverflow\n",
    "    - Using code validators\n",
    "        - [Python](https://extendsclass.com/python-tester.html)\n",
    "        - [SQL](https://www.eversql.com/sql-syntax-check-validator/)\n",
    "        - [Markdown](https://codebeautify.org/markdown-viewer)\n"
   ]
  },
  {
   "cell_type": "markdown",
   "id": "53e50c1a-c313-4614-ae48-1723d410076c",
   "metadata": {},
   "source": [
    "---"
   ]
  }
 ],
 "metadata": {
  "kernelspec": {
   "display_name": "Python 3 (ipykernel)",
   "language": "python",
   "name": "python3"
  },
  "language_info": {
   "codemirror_mode": {
    "name": "ipython",
    "version": 3
   },
   "file_extension": ".py",
   "mimetype": "text/x-python",
   "name": "python",
   "nbconvert_exporter": "python",
   "pygments_lexer": "ipython3",
   "version": "3.9.13"
  }
 },
 "nbformat": 4,
 "nbformat_minor": 5
}
