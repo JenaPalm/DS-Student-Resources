{
 "cells": [
  {
   "cell_type": "code",
   "execution_count": 2,
   "id": "3bbd085f-af93-4b25-8cbd-46e970a34637",
   "metadata": {},
   "outputs": [],
   "source": [
    "pass_rates <- read.csv(\"../Data/pass_rates.txt\") "
   ]
  },
  {
   "cell_type": "code",
   "execution_count": 3,
   "id": "31799556-7eec-4241-9814-fc00becd8daf",
   "metadata": {},
   "outputs": [
    {
     "data": {
      "text/html": [
       "<table class=\"dataframe\">\n",
       "<caption>A data.frame: 8 × 2</caption>\n",
       "<thead>\n",
       "\t<tr><th scope=col>Student.group</th><th scope=col>pass.rate</th></tr>\n",
       "\t<tr><th scope=col>&lt;int&gt;</th><th scope=col>&lt;dbl&gt;</th></tr>\n",
       "</thead>\n",
       "<tbody>\n",
       "\t<tr><td>1</td><td>0.88</td></tr>\n",
       "\t<tr><td>2</td><td>0.80</td></tr>\n",
       "\t<tr><td>3</td><td>0.78</td></tr>\n",
       "\t<tr><td>4</td><td>0.77</td></tr>\n",
       "\t<tr><td>5</td><td>0.82</td></tr>\n",
       "\t<tr><td>6</td><td>0.90</td></tr>\n",
       "\t<tr><td>7</td><td>0.90</td></tr>\n",
       "\t<tr><td>8</td><td>0.72</td></tr>\n",
       "</tbody>\n",
       "</table>\n"
      ],
      "text/latex": [
       "A data.frame: 8 × 2\n",
       "\\begin{tabular}{ll}\n",
       " Student.group & pass.rate\\\\\n",
       " <int> & <dbl>\\\\\n",
       "\\hline\n",
       "\t 1 & 0.88\\\\\n",
       "\t 2 & 0.80\\\\\n",
       "\t 3 & 0.78\\\\\n",
       "\t 4 & 0.77\\\\\n",
       "\t 5 & 0.82\\\\\n",
       "\t 6 & 0.90\\\\\n",
       "\t 7 & 0.90\\\\\n",
       "\t 8 & 0.72\\\\\n",
       "\\end{tabular}\n"
      ],
      "text/markdown": [
       "\n",
       "A data.frame: 8 × 2\n",
       "\n",
       "| Student.group &lt;int&gt; | pass.rate &lt;dbl&gt; |\n",
       "|---|---|\n",
       "| 1 | 0.88 |\n",
       "| 2 | 0.80 |\n",
       "| 3 | 0.78 |\n",
       "| 4 | 0.77 |\n",
       "| 5 | 0.82 |\n",
       "| 6 | 0.90 |\n",
       "| 7 | 0.90 |\n",
       "| 8 | 0.72 |\n",
       "\n"
      ],
      "text/plain": [
       "  Student.group pass.rate\n",
       "1 1             0.88     \n",
       "2 2             0.80     \n",
       "3 3             0.78     \n",
       "4 4             0.77     \n",
       "5 5             0.82     \n",
       "6 6             0.90     \n",
       "7 7             0.90     \n",
       "8 8             0.72     "
      ]
     },
     "metadata": {},
     "output_type": "display_data"
    }
   ],
   "source": [
    "pass_rates"
   ]
  },
  {
   "cell_type": "code",
   "execution_count": 4,
   "id": "c699e3e4-dc14-444e-bf96-04f51d318877",
   "metadata": {},
   "outputs": [
    {
     "data": {
      "text/html": [
       "'data.frame'"
      ],
      "text/latex": [
       "'data.frame'"
      ],
      "text/markdown": [
       "'data.frame'"
      ],
      "text/plain": [
       "[1] \"data.frame\""
      ]
     },
     "metadata": {},
     "output_type": "display_data"
    }
   ],
   "source": [
    "class(pass_rates)"
   ]
  },
  {
   "cell_type": "code",
   "execution_count": 5,
   "id": "74b658dd-63df-4b21-8f04-9f7fe25bf322",
   "metadata": {},
   "outputs": [
    {
     "data": {
      "text/html": [
       "'integer'"
      ],
      "text/latex": [
       "'integer'"
      ],
      "text/markdown": [
       "'integer'"
      ],
      "text/plain": [
       "[1] \"integer\""
      ]
     },
     "metadata": {},
     "output_type": "display_data"
    }
   ],
   "source": [
    "class(pass_rates$Student.group)"
   ]
  },
  {
   "cell_type": "code",
   "execution_count": 6,
   "id": "cd104e94-aeeb-4815-aafd-0965ff13ea0d",
   "metadata": {},
   "outputs": [
    {
     "data": {
      "text/html": [
       "'numeric'"
      ],
      "text/latex": [
       "'numeric'"
      ],
      "text/markdown": [
       "'numeric'"
      ],
      "text/plain": [
       "[1] \"numeric\""
      ]
     },
     "metadata": {},
     "output_type": "display_data"
    }
   ],
   "source": [
    "class(pass_rates$pass.rate)"
   ]
  },
  {
   "cell_type": "code",
   "execution_count": 10,
   "id": "a40b7b88-43ca-4dd9-933a-dd93abeb5327",
   "metadata": {},
   "outputs": [
    {
     "data": {
      "text/html": [
       "<style>\n",
       ".list-inline {list-style: none; margin:0; padding: 0}\n",
       ".list-inline>li {display: inline-block}\n",
       ".list-inline>li:not(:last-child)::after {content: \"\\00b7\"; padding: 0 .5ex}\n",
       "</style>\n",
       "<ol class=list-inline><li>1</li><li>2</li><li>3</li><li>4</li><li>5</li><li>6</li><li>7</li><li>8</li></ol>\n",
       "\n",
       "<details>\n",
       "\t<summary style=display:list-item;cursor:pointer>\n",
       "\t\t<strong>Levels</strong>:\n",
       "\t</summary>\n",
       "\t<style>\n",
       "\t.list-inline {list-style: none; margin:0; padding: 0}\n",
       "\t.list-inline>li {display: inline-block}\n",
       "\t.list-inline>li:not(:last-child)::after {content: \"\\00b7\"; padding: 0 .5ex}\n",
       "\t</style>\n",
       "\t<ol class=list-inline><li>'1'</li><li>'2'</li><li>'3'</li><li>'4'</li><li>'5'</li><li>'6'</li><li>'7'</li><li>'8'</li></ol>\n",
       "</details>"
      ],
      "text/latex": [
       "\\begin{enumerate*}\n",
       "\\item 1\n",
       "\\item 2\n",
       "\\item 3\n",
       "\\item 4\n",
       "\\item 5\n",
       "\\item 6\n",
       "\\item 7\n",
       "\\item 8\n",
       "\\end{enumerate*}\n",
       "\n",
       "\\emph{Levels}: \\begin{enumerate*}\n",
       "\\item '1'\n",
       "\\item '2'\n",
       "\\item '3'\n",
       "\\item '4'\n",
       "\\item '5'\n",
       "\\item '6'\n",
       "\\item '7'\n",
       "\\item '8'\n",
       "\\end{enumerate*}\n"
      ],
      "text/markdown": [
       "1. 1\n",
       "2. 2\n",
       "3. 3\n",
       "4. 4\n",
       "5. 5\n",
       "6. 6\n",
       "7. 7\n",
       "8. 8\n",
       "\n",
       "\n",
       "\n",
       "**Levels**: 1. '1'\n",
       "2. '2'\n",
       "3. '3'\n",
       "4. '4'\n",
       "5. '5'\n",
       "6. '6'\n",
       "7. '7'\n",
       "8. '8'\n",
       "\n",
       "\n"
      ],
      "text/plain": [
       "[1] 1 2 3 4 5 6 7 8\n",
       "Levels: 1 2 3 4 5 6 7 8"
      ]
     },
     "metadata": {},
     "output_type": "display_data"
    }
   ],
   "source": [
    "as.factor(pass_rates$Student.group)"
   ]
  },
  {
   "cell_type": "code",
   "execution_count": null,
   "id": "e420a5dc-aa0f-4bc2-a574-20cd0845a8e2",
   "metadata": {},
   "outputs": [],
   "source": []
  }
 ],
 "metadata": {
  "kernelspec": {
   "display_name": "R 4.3.0",
   "language": "R",
   "name": "ir"
  },
  "language_info": {
   "codemirror_mode": "r",
   "file_extension": ".r",
   "mimetype": "text/x-r-source",
   "name": "R",
   "pygments_lexer": "r",
   "version": "4.3.0"
  }
 },
 "nbformat": 4,
 "nbformat_minor": 5
}
