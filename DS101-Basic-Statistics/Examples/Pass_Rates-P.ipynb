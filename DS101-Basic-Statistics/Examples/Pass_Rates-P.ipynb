{
 "cells": [
  {
   "cell_type": "markdown",
   "id": "01f63f46-11d5-4f76-bc32-ae6463b1c3e5",
   "metadata": {},
   "source": [
    "# pass rates\n",
    "\n",
    "- Student group 1:  88%\n",
    "- Student group 2:  80%\n",
    "- Student group 3:  78%\n",
    "- Student group 4:  77%\n",
    "- Student group 5:  82%\n",
    "- Student group 6:  90%\n",
    "- Student group 7:  90%\n",
    "- Student group 8:  72%"
   ]
  },
  {
   "cell_type": "code",
   "execution_count": 6,
   "id": "aa644ab4-facd-4ba6-b26b-3cec3d539dcf",
   "metadata": {},
   "outputs": [
    {
     "data": {
      "text/plain": [
       "6.57"
      ]
     },
     "execution_count": 6,
     "metadata": {},
     "output_type": "execute_result"
    }
   ],
   "source": [
    "sum = (.88 + .80 + .78 + .77 + .82 + .90 + .90 + .72)\n",
    "sum"
   ]
  },
  {
   "cell_type": "code",
   "execution_count": 8,
   "id": "8b9467f0-eee8-4dcf-abe0-8a71a1542a4d",
   "metadata": {},
   "outputs": [
    {
     "data": {
      "text/plain": [
       "82.125"
      ]
     },
     "execution_count": 8,
     "metadata": {},
     "output_type": "execute_result"
    }
   ],
   "source": [
    "total_average = (sum / 8)\n",
    "total_average * 100"
   ]
  },
  {
   "cell_type": "code",
   "execution_count": 9,
   "id": "cdc06b63-c23e-4832-aa3b-9722cefe3cb0",
   "metadata": {},
   "outputs": [],
   "source": [
    "import pandas as pd"
   ]
  },
  {
   "cell_type": "code",
   "execution_count": 17,
   "id": "e32c07db-078d-4bfe-a5ae-6b68f9d17687",
   "metadata": {},
   "outputs": [],
   "source": [
    "pass_rates = pd.read_csv(\"../Data/pass_rates.txt\")"
   ]
  },
  {
   "cell_type": "code",
   "execution_count": 18,
   "id": "369f049b-40a6-445d-a498-92ff34cdab41",
   "metadata": {},
   "outputs": [
    {
     "data": {
      "text/html": [
       "<div><div id=b63728f0-53b7-4d93-84b8-be0a7a647b90 style=\"display:none; background-color:#9D6CFF; color:white; width:200px; height:30px; padding-left:5px; border-radius:4px; flex-direction:row; justify-content:space-around; align-items:center;\" onmouseover=\"this.style.backgroundColor='#BA9BF8'\" onmouseout=\"this.style.backgroundColor='#9D6CFF'\" onclick=\"window.commands?.execute('create-mitosheet-from-dataframe-output');\">See Full Dataframe in Mito</div> <script> if (window.commands?.hasCommand('create-mitosheet-from-dataframe-output')) document.getElementById('b63728f0-53b7-4d93-84b8-be0a7a647b90').style.display = 'flex' </script> <table border=\"1\" class=\"dataframe\">\n",
       "  <thead>\n",
       "    <tr style=\"text-align: right;\">\n",
       "      <th></th>\n",
       "      <th>Student-group</th>\n",
       "      <th>pass-rate</th>\n",
       "    </tr>\n",
       "  </thead>\n",
       "  <tbody>\n",
       "    <tr>\n",
       "      <th>0</th>\n",
       "      <td>1</td>\n",
       "      <td>0.88</td>\n",
       "    </tr>\n",
       "    <tr>\n",
       "      <th>1</th>\n",
       "      <td>2</td>\n",
       "      <td>0.80</td>\n",
       "    </tr>\n",
       "    <tr>\n",
       "      <th>2</th>\n",
       "      <td>3</td>\n",
       "      <td>0.78</td>\n",
       "    </tr>\n",
       "    <tr>\n",
       "      <th>3</th>\n",
       "      <td>4</td>\n",
       "      <td>0.77</td>\n",
       "    </tr>\n",
       "    <tr>\n",
       "      <th>4</th>\n",
       "      <td>5</td>\n",
       "      <td>0.82</td>\n",
       "    </tr>\n",
       "    <tr>\n",
       "      <th>5</th>\n",
       "      <td>6</td>\n",
       "      <td>0.90</td>\n",
       "    </tr>\n",
       "    <tr>\n",
       "      <th>6</th>\n",
       "      <td>7</td>\n",
       "      <td>0.90</td>\n",
       "    </tr>\n",
       "    <tr>\n",
       "      <th>7</th>\n",
       "      <td>8</td>\n",
       "      <td>0.72</td>\n",
       "    </tr>\n",
       "  </tbody>\n",
       "</table></div>"
      ],
      "text/plain": [
       "   Student-group   pass-rate \n",
       "0              1         0.88\n",
       "1              2         0.80\n",
       "2              3         0.78\n",
       "3              4         0.77\n",
       "4              5         0.82\n",
       "5              6         0.90\n",
       "6              7         0.90\n",
       "7              8         0.72"
      ]
     },
     "execution_count": 18,
     "metadata": {},
     "output_type": "execute_result"
    }
   ],
   "source": [
    "pass_rates"
   ]
  },
  {
   "cell_type": "code",
   "execution_count": null,
   "id": "da10f506-e7e0-4e72-b78d-e0b6be287728",
   "metadata": {},
   "outputs": [],
   "source": []
  }
 ],
 "metadata": {
  "kernelspec": {
   "display_name": "Python 3.9",
   "language": "python",
   "name": "python3"
  },
  "language_info": {
   "codemirror_mode": {
    "name": "ipython",
    "version": 3
   },
   "file_extension": ".py",
   "mimetype": "text/x-python",
   "name": "python",
   "nbconvert_exporter": "python",
   "pygments_lexer": "ipython3",
   "version": "3.9.16"
  }
 },
 "nbformat": 4,
 "nbformat_minor": 5
}
