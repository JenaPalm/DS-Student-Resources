{
 "cells": [
  {
   "cell_type": "code",
   "execution_count": 1,
   "id": "d1584716-c88b-495b-83be-bc2d8100c9eb",
   "metadata": {},
   "outputs": [
    {
     "name": "stderr",
     "output_type": "stream",
     "text": [
      "\n",
      "Attaching package: ‘dplyr’\n",
      "\n",
      "\n",
      "The following objects are masked from ‘package:stats’:\n",
      "\n",
      "    filter, lag\n",
      "\n",
      "\n",
      "The following objects are masked from ‘package:base’:\n",
      "\n",
      "    intersect, setdiff, setequal, union\n",
      "\n",
      "\n"
     ]
    },
    {
     "ename": "ERROR",
     "evalue": "Error in filter(., paid == \"yes\"): object 'student.mat' not found\n",
     "output_type": "error",
     "traceback": [
      "Error in filter(., paid == \"yes\"): object 'student.mat' not found\nTraceback:\n",
      "1. student.mat %>% filter(paid == \"yes\")",
      "2. filter(., paid == \"yes\")"
     ]
    }
   ],
   "source": [
    "library(\"dplyr\")\n",
    "Paid <- student.mat %>% filter(paid == 'yes')\n",
    "# Filter to show only those who have eihter a mother or a father as a guardian\n",
    "MotherFather <- student.mat %>% filter(guardian %in% c(\"mother\", \"father\"))\n",
    "# Order that data frame so that we see all the mothers first - since it was just Mother's day\n",
    "SortedMomFirst <- MotherFather %>% arrange(desc(guardian))\n",
    "# Include only the columns on their age, guardian, and whether they have paid\n",
    "SortedMomFirstColumns = SortedMomFirst %>% select(age, guardian, paid)\n",
    "# Find the mean age of this dataset\n",
    "MeanAge <- SortedMomFirstColumns %>% summarise(MeanAge=mean(age))\n",
    "# Find the mean age per guardian\n",
    "MeanAgeByGuardian <- SortedMomFirstColumns %>% group_by(guardian) %>% summarise(MeanAge=mean(age))\n",
    "# Do this all at once - link them all!\n",
    "Final <- student.mat %>%\n",
    "filter(guardian %in% c(\"mother\", \"father\")) %>% arrange(desc(guardian)) %>%\n",
    "select(age, guardian, paid) %>% group_by(guardian) %>% summarise(MeanAge=mean(age))"
   ]
  },
  {
   "cell_type": "code",
   "execution_count": null,
   "id": "8bbfc8a3-8589-4ad3-b02b-9264921c97a0",
   "metadata": {},
   "outputs": [],
   "source": []
  }
 ],
 "metadata": {
  "kernelspec": {
   "display_name": "R",
   "language": "R",
   "name": "ir"
  },
  "language_info": {
   "codemirror_mode": "r",
   "file_extension": ".r",
   "mimetype": "text/x-r-source",
   "name": "R",
   "pygments_lexer": "r",
   "version": "4.1.1"
  }
 },
 "nbformat": 4,
 "nbformat_minor": 5
}
