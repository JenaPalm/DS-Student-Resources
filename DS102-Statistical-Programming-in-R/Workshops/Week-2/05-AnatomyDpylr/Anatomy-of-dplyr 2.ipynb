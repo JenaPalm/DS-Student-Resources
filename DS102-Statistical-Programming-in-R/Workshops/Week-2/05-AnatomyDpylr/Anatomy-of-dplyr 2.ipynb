{
 "cells": [
  {
   "cell_type": "markdown",
   "id": "336d40c3-2f42-4828-bee4-282976de387e",
   "metadata": {},
   "source": [
    "# Anatomy of dplyr\n",
    "\n",
    "dplyr is an R package for data manipulation and aggregation.\n",
    "\n",
    "This notebook will review some basic usage of this package in R. "
   ]
  },
  {
   "cell_type": "markdown",
   "id": "f111b125-98c4-4f55-bf78-d89d7d78688e",
   "metadata": {},
   "source": [
    "[dplyr](https://www.rdocumentation.org/packages/dplyr/versions/0.7.8)"
   ]
  },
  {
   "cell_type": "code",
   "execution_count": 1,
   "id": "e6b0b84c-85f8-4f98-bf6c-835dbc3d9b69",
   "metadata": {},
   "outputs": [],
   "source": [
    "options(repr.matrix.max.cols=150, repr.matrix.max.rows=200)"
   ]
  },
  {
   "cell_type": "code",
   "execution_count": 2,
   "id": "d22e64fd-4fdc-4684-8b72-d000a871ec79",
   "metadata": {},
   "outputs": [
    {
     "name": "stdout",
     "output_type": "stream",
     "text": [
      "\n",
      "The downloaded binary packages are in\n",
      "\t/var/folders/9q/yp0trhm570d82rk1lfh67tq00000gn/T//RtmpW6CR6d/downloaded_packages\n"
     ]
    }
   ],
   "source": [
    "install.packages('dplyr')"
   ]
  },
  {
   "cell_type": "code",
   "execution_count": 3,
   "id": "dfd50cf7-b93a-4a9c-8ee4-260839f3d4ac",
   "metadata": {},
   "outputs": [
    {
     "name": "stderr",
     "output_type": "stream",
     "text": [
      "\n",
      "Attaching package: ‘dplyr’\n",
      "\n",
      "\n",
      "The following objects are masked from ‘package:stats’:\n",
      "\n",
      "    filter, lag\n",
      "\n",
      "\n",
      "The following objects are masked from ‘package:base’:\n",
      "\n",
      "    intersect, setdiff, setequal, union\n",
      "\n",
      "\n"
     ]
    }
   ],
   "source": [
    "library('dplyr')"
   ]
  },
  {
   "cell_type": "code",
   "execution_count": 4,
   "id": "07a4aca1-d204-4edb-a914-961266b3c249",
   "metadata": {},
   "outputs": [],
   "source": [
    "student.mat = read.csv('../../Data/student-mat.csv')"
   ]
  },
  {
   "cell_type": "code",
   "execution_count": 5,
   "id": "8fefbe8f-4064-4dea-8f81-cde79027f8a9",
   "metadata": {},
   "outputs": [
    {
     "data": {
      "text/html": [
       "<table class=\"dataframe\">\n",
       "<caption>A data.frame: 6 × 33</caption>\n",
       "<thead>\n",
       "\t<tr><th></th><th scope=col>school</th><th scope=col>sex</th><th scope=col>age</th><th scope=col>address</th><th scope=col>famsize</th><th scope=col>Pstatus</th><th scope=col>Medu</th><th scope=col>Fedu</th><th scope=col>Mjob</th><th scope=col>Fjob</th><th scope=col>reason</th><th scope=col>guardian</th><th scope=col>traveltime</th><th scope=col>studytime</th><th scope=col>failures</th><th scope=col>schoolsup</th><th scope=col>famsup</th><th scope=col>paid</th><th scope=col>activities</th><th scope=col>nursery</th><th scope=col>higher</th><th scope=col>internet</th><th scope=col>romantic</th><th scope=col>famrel</th><th scope=col>freetime</th><th scope=col>goout</th><th scope=col>Dalc</th><th scope=col>Walc</th><th scope=col>health</th><th scope=col>absences</th><th scope=col>G1</th><th scope=col>G2</th><th scope=col>G3</th></tr>\n",
       "\t<tr><th></th><th scope=col>&lt;chr&gt;</th><th scope=col>&lt;chr&gt;</th><th scope=col>&lt;int&gt;</th><th scope=col>&lt;chr&gt;</th><th scope=col>&lt;chr&gt;</th><th scope=col>&lt;chr&gt;</th><th scope=col>&lt;int&gt;</th><th scope=col>&lt;int&gt;</th><th scope=col>&lt;chr&gt;</th><th scope=col>&lt;chr&gt;</th><th scope=col>&lt;chr&gt;</th><th scope=col>&lt;chr&gt;</th><th scope=col>&lt;int&gt;</th><th scope=col>&lt;int&gt;</th><th scope=col>&lt;int&gt;</th><th scope=col>&lt;chr&gt;</th><th scope=col>&lt;chr&gt;</th><th scope=col>&lt;chr&gt;</th><th scope=col>&lt;chr&gt;</th><th scope=col>&lt;chr&gt;</th><th scope=col>&lt;chr&gt;</th><th scope=col>&lt;chr&gt;</th><th scope=col>&lt;chr&gt;</th><th scope=col>&lt;int&gt;</th><th scope=col>&lt;int&gt;</th><th scope=col>&lt;int&gt;</th><th scope=col>&lt;int&gt;</th><th scope=col>&lt;int&gt;</th><th scope=col>&lt;int&gt;</th><th scope=col>&lt;int&gt;</th><th scope=col>&lt;int&gt;</th><th scope=col>&lt;int&gt;</th><th scope=col>&lt;int&gt;</th></tr>\n",
       "</thead>\n",
       "<tbody>\n",
       "\t<tr><th scope=row>1</th><td>GP</td><td>F</td><td>18</td><td>U</td><td>GT3</td><td>A</td><td>4</td><td>4</td><td>at_home </td><td>teacher </td><td>course    </td><td>mother</td><td>2</td><td>2</td><td>0</td><td>yes</td><td>no </td><td>no </td><td>no </td><td>yes</td><td>yes</td><td>no </td><td>no </td><td>4</td><td>3</td><td>4</td><td>1</td><td>1</td><td>3</td><td> 6</td><td> 5</td><td> 6</td><td> 6</td></tr>\n",
       "\t<tr><th scope=row>2</th><td>GP</td><td>F</td><td>17</td><td>U</td><td>GT3</td><td>T</td><td>1</td><td>1</td><td>at_home </td><td>other   </td><td>course    </td><td>father</td><td>1</td><td>2</td><td>0</td><td>no </td><td>yes</td><td>no </td><td>no </td><td>no </td><td>yes</td><td>yes</td><td>no </td><td>5</td><td>3</td><td>3</td><td>1</td><td>1</td><td>3</td><td> 4</td><td> 5</td><td> 5</td><td> 6</td></tr>\n",
       "\t<tr><th scope=row>3</th><td>GP</td><td>F</td><td>15</td><td>U</td><td>LE3</td><td>T</td><td>1</td><td>1</td><td>at_home </td><td>other   </td><td>other     </td><td>mother</td><td>1</td><td>2</td><td>3</td><td>yes</td><td>no </td><td>yes</td><td>no </td><td>yes</td><td>yes</td><td>yes</td><td>no </td><td>4</td><td>3</td><td>2</td><td>2</td><td>3</td><td>3</td><td>10</td><td> 7</td><td> 8</td><td>10</td></tr>\n",
       "\t<tr><th scope=row>4</th><td>GP</td><td>F</td><td>15</td><td>U</td><td>GT3</td><td>T</td><td>4</td><td>2</td><td>health  </td><td>services</td><td>home      </td><td>mother</td><td>1</td><td>3</td><td>0</td><td>no </td><td>yes</td><td>yes</td><td>yes</td><td>yes</td><td>yes</td><td>yes</td><td>yes</td><td>3</td><td>2</td><td>2</td><td>1</td><td>1</td><td>5</td><td> 2</td><td>15</td><td>14</td><td>15</td></tr>\n",
       "\t<tr><th scope=row>5</th><td>GP</td><td>F</td><td>16</td><td>U</td><td>GT3</td><td>T</td><td>3</td><td>3</td><td>other   </td><td>other   </td><td>home      </td><td>father</td><td>1</td><td>2</td><td>0</td><td>no </td><td>yes</td><td>yes</td><td>no </td><td>yes</td><td>yes</td><td>no </td><td>no </td><td>4</td><td>3</td><td>2</td><td>1</td><td>2</td><td>5</td><td> 4</td><td> 6</td><td>10</td><td>10</td></tr>\n",
       "\t<tr><th scope=row>6</th><td>GP</td><td>M</td><td>16</td><td>U</td><td>LE3</td><td>T</td><td>4</td><td>3</td><td>services</td><td>other   </td><td>reputation</td><td>mother</td><td>1</td><td>2</td><td>0</td><td>no </td><td>yes</td><td>yes</td><td>yes</td><td>yes</td><td>yes</td><td>yes</td><td>no </td><td>5</td><td>4</td><td>2</td><td>1</td><td>2</td><td>5</td><td>10</td><td>15</td><td>15</td><td>15</td></tr>\n",
       "</tbody>\n",
       "</table>\n"
      ],
      "text/latex": [
       "A data.frame: 6 × 33\n",
       "\\begin{tabular}{r|lllllllllllllllllllllllllllllllll}\n",
       "  & school & sex & age & address & famsize & Pstatus & Medu & Fedu & Mjob & Fjob & reason & guardian & traveltime & studytime & failures & schoolsup & famsup & paid & activities & nursery & higher & internet & romantic & famrel & freetime & goout & Dalc & Walc & health & absences & G1 & G2 & G3\\\\\n",
       "  & <chr> & <chr> & <int> & <chr> & <chr> & <chr> & <int> & <int> & <chr> & <chr> & <chr> & <chr> & <int> & <int> & <int> & <chr> & <chr> & <chr> & <chr> & <chr> & <chr> & <chr> & <chr> & <int> & <int> & <int> & <int> & <int> & <int> & <int> & <int> & <int> & <int>\\\\\n",
       "\\hline\n",
       "\t1 & GP & F & 18 & U & GT3 & A & 4 & 4 & at\\_home  & teacher  & course     & mother & 2 & 2 & 0 & yes & no  & no  & no  & yes & yes & no  & no  & 4 & 3 & 4 & 1 & 1 & 3 &  6 &  5 &  6 &  6\\\\\n",
       "\t2 & GP & F & 17 & U & GT3 & T & 1 & 1 & at\\_home  & other    & course     & father & 1 & 2 & 0 & no  & yes & no  & no  & no  & yes & yes & no  & 5 & 3 & 3 & 1 & 1 & 3 &  4 &  5 &  5 &  6\\\\\n",
       "\t3 & GP & F & 15 & U & LE3 & T & 1 & 1 & at\\_home  & other    & other      & mother & 1 & 2 & 3 & yes & no  & yes & no  & yes & yes & yes & no  & 4 & 3 & 2 & 2 & 3 & 3 & 10 &  7 &  8 & 10\\\\\n",
       "\t4 & GP & F & 15 & U & GT3 & T & 4 & 2 & health   & services & home       & mother & 1 & 3 & 0 & no  & yes & yes & yes & yes & yes & yes & yes & 3 & 2 & 2 & 1 & 1 & 5 &  2 & 15 & 14 & 15\\\\\n",
       "\t5 & GP & F & 16 & U & GT3 & T & 3 & 3 & other    & other    & home       & father & 1 & 2 & 0 & no  & yes & yes & no  & yes & yes & no  & no  & 4 & 3 & 2 & 1 & 2 & 5 &  4 &  6 & 10 & 10\\\\\n",
       "\t6 & GP & M & 16 & U & LE3 & T & 4 & 3 & services & other    & reputation & mother & 1 & 2 & 0 & no  & yes & yes & yes & yes & yes & yes & no  & 5 & 4 & 2 & 1 & 2 & 5 & 10 & 15 & 15 & 15\\\\\n",
       "\\end{tabular}\n"
      ],
      "text/markdown": [
       "\n",
       "A data.frame: 6 × 33\n",
       "\n",
       "| <!--/--> | school &lt;chr&gt; | sex &lt;chr&gt; | age &lt;int&gt; | address &lt;chr&gt; | famsize &lt;chr&gt; | Pstatus &lt;chr&gt; | Medu &lt;int&gt; | Fedu &lt;int&gt; | Mjob &lt;chr&gt; | Fjob &lt;chr&gt; | reason &lt;chr&gt; | guardian &lt;chr&gt; | traveltime &lt;int&gt; | studytime &lt;int&gt; | failures &lt;int&gt; | schoolsup &lt;chr&gt; | famsup &lt;chr&gt; | paid &lt;chr&gt; | activities &lt;chr&gt; | nursery &lt;chr&gt; | higher &lt;chr&gt; | internet &lt;chr&gt; | romantic &lt;chr&gt; | famrel &lt;int&gt; | freetime &lt;int&gt; | goout &lt;int&gt; | Dalc &lt;int&gt; | Walc &lt;int&gt; | health &lt;int&gt; | absences &lt;int&gt; | G1 &lt;int&gt; | G2 &lt;int&gt; | G3 &lt;int&gt; |\n",
       "|---|---|---|---|---|---|---|---|---|---|---|---|---|---|---|---|---|---|---|---|---|---|---|---|---|---|---|---|---|---|---|---|---|---|\n",
       "| 1 | GP | F | 18 | U | GT3 | A | 4 | 4 | at_home  | teacher  | course     | mother | 2 | 2 | 0 | yes | no  | no  | no  | yes | yes | no  | no  | 4 | 3 | 4 | 1 | 1 | 3 |  6 |  5 |  6 |  6 |\n",
       "| 2 | GP | F | 17 | U | GT3 | T | 1 | 1 | at_home  | other    | course     | father | 1 | 2 | 0 | no  | yes | no  | no  | no  | yes | yes | no  | 5 | 3 | 3 | 1 | 1 | 3 |  4 |  5 |  5 |  6 |\n",
       "| 3 | GP | F | 15 | U | LE3 | T | 1 | 1 | at_home  | other    | other      | mother | 1 | 2 | 3 | yes | no  | yes | no  | yes | yes | yes | no  | 4 | 3 | 2 | 2 | 3 | 3 | 10 |  7 |  8 | 10 |\n",
       "| 4 | GP | F | 15 | U | GT3 | T | 4 | 2 | health   | services | home       | mother | 1 | 3 | 0 | no  | yes | yes | yes | yes | yes | yes | yes | 3 | 2 | 2 | 1 | 1 | 5 |  2 | 15 | 14 | 15 |\n",
       "| 5 | GP | F | 16 | U | GT3 | T | 3 | 3 | other    | other    | home       | father | 1 | 2 | 0 | no  | yes | yes | no  | yes | yes | no  | no  | 4 | 3 | 2 | 1 | 2 | 5 |  4 |  6 | 10 | 10 |\n",
       "| 6 | GP | M | 16 | U | LE3 | T | 4 | 3 | services | other    | reputation | mother | 1 | 2 | 0 | no  | yes | yes | yes | yes | yes | yes | no  | 5 | 4 | 2 | 1 | 2 | 5 | 10 | 15 | 15 | 15 |\n",
       "\n"
      ],
      "text/plain": [
       "  school sex age address famsize Pstatus Medu Fedu Mjob     Fjob     reason    \n",
       "1 GP     F   18  U       GT3     A       4    4    at_home  teacher  course    \n",
       "2 GP     F   17  U       GT3     T       1    1    at_home  other    course    \n",
       "3 GP     F   15  U       LE3     T       1    1    at_home  other    other     \n",
       "4 GP     F   15  U       GT3     T       4    2    health   services home      \n",
       "5 GP     F   16  U       GT3     T       3    3    other    other    home      \n",
       "6 GP     M   16  U       LE3     T       4    3    services other    reputation\n",
       "  guardian traveltime studytime failures schoolsup famsup paid activities\n",
       "1 mother   2          2         0        yes       no     no   no        \n",
       "2 father   1          2         0        no        yes    no   no        \n",
       "3 mother   1          2         3        yes       no     yes  no        \n",
       "4 mother   1          3         0        no        yes    yes  yes       \n",
       "5 father   1          2         0        no        yes    yes  no        \n",
       "6 mother   1          2         0        no        yes    yes  yes       \n",
       "  nursery higher internet romantic famrel freetime goout Dalc Walc health\n",
       "1 yes     yes    no       no       4      3        4     1    1    3     \n",
       "2 no      yes    yes      no       5      3        3     1    1    3     \n",
       "3 yes     yes    yes      no       4      3        2     2    3    3     \n",
       "4 yes     yes    yes      yes      3      2        2     1    1    5     \n",
       "5 yes     yes    no       no       4      3        2     1    2    5     \n",
       "6 yes     yes    yes      no       5      4        2     1    2    5     \n",
       "  absences G1 G2 G3\n",
       "1  6        5  6  6\n",
       "2  4        5  5  6\n",
       "3 10        7  8 10\n",
       "4  2       15 14 15\n",
       "5  4        6 10 10\n",
       "6 10       15 15 15"
      ]
     },
     "metadata": {},
     "output_type": "display_data"
    }
   ],
   "source": [
    "head(student.mat)"
   ]
  },
  {
   "cell_type": "code",
   "execution_count": 6,
   "id": "e00320d6-2b91-4543-a0bb-04d207e97055",
   "metadata": {},
   "outputs": [
    {
     "data": {
      "text/html": [
       "<table class=\"dataframe\">\n",
       "<caption>A data.frame: 6 × 33</caption>\n",
       "<thead>\n",
       "\t<tr><th></th><th scope=col>school</th><th scope=col>sex</th><th scope=col>age</th><th scope=col>address</th><th scope=col>famsize</th><th scope=col>Pstatus</th><th scope=col>Medu</th><th scope=col>Fedu</th><th scope=col>Mjob</th><th scope=col>Fjob</th><th scope=col>reason</th><th scope=col>guardian</th><th scope=col>traveltime</th><th scope=col>studytime</th><th scope=col>failures</th><th scope=col>schoolsup</th><th scope=col>famsup</th><th scope=col>paid</th><th scope=col>activities</th><th scope=col>nursery</th><th scope=col>higher</th><th scope=col>internet</th><th scope=col>romantic</th><th scope=col>famrel</th><th scope=col>freetime</th><th scope=col>goout</th><th scope=col>Dalc</th><th scope=col>Walc</th><th scope=col>health</th><th scope=col>absences</th><th scope=col>G1</th><th scope=col>G2</th><th scope=col>G3</th></tr>\n",
       "\t<tr><th></th><th scope=col>&lt;chr&gt;</th><th scope=col>&lt;chr&gt;</th><th scope=col>&lt;int&gt;</th><th scope=col>&lt;chr&gt;</th><th scope=col>&lt;chr&gt;</th><th scope=col>&lt;chr&gt;</th><th scope=col>&lt;int&gt;</th><th scope=col>&lt;int&gt;</th><th scope=col>&lt;chr&gt;</th><th scope=col>&lt;chr&gt;</th><th scope=col>&lt;chr&gt;</th><th scope=col>&lt;chr&gt;</th><th scope=col>&lt;int&gt;</th><th scope=col>&lt;int&gt;</th><th scope=col>&lt;int&gt;</th><th scope=col>&lt;chr&gt;</th><th scope=col>&lt;chr&gt;</th><th scope=col>&lt;chr&gt;</th><th scope=col>&lt;chr&gt;</th><th scope=col>&lt;chr&gt;</th><th scope=col>&lt;chr&gt;</th><th scope=col>&lt;chr&gt;</th><th scope=col>&lt;chr&gt;</th><th scope=col>&lt;int&gt;</th><th scope=col>&lt;int&gt;</th><th scope=col>&lt;int&gt;</th><th scope=col>&lt;int&gt;</th><th scope=col>&lt;int&gt;</th><th scope=col>&lt;int&gt;</th><th scope=col>&lt;int&gt;</th><th scope=col>&lt;int&gt;</th><th scope=col>&lt;int&gt;</th><th scope=col>&lt;int&gt;</th></tr>\n",
       "</thead>\n",
       "<tbody>\n",
       "\t<tr><th scope=row>1</th><td>GP</td><td>F</td><td>15</td><td>U</td><td>LE3</td><td>T</td><td>1</td><td>1</td><td>at_home </td><td>other   </td><td>other     </td><td>mother</td><td>1</td><td>2</td><td>3</td><td>yes</td><td>no </td><td>yes</td><td>no </td><td>yes</td><td>yes</td><td>yes</td><td>no </td><td>4</td><td>3</td><td>2</td><td>2</td><td>3</td><td>3</td><td>10</td><td> 7</td><td> 8</td><td>10</td></tr>\n",
       "\t<tr><th scope=row>2</th><td>GP</td><td>F</td><td>15</td><td>U</td><td>GT3</td><td>T</td><td>4</td><td>2</td><td>health  </td><td>services</td><td>home      </td><td>mother</td><td>1</td><td>3</td><td>0</td><td>no </td><td>yes</td><td>yes</td><td>yes</td><td>yes</td><td>yes</td><td>yes</td><td>yes</td><td>3</td><td>2</td><td>2</td><td>1</td><td>1</td><td>5</td><td> 2</td><td>15</td><td>14</td><td>15</td></tr>\n",
       "\t<tr><th scope=row>3</th><td>GP</td><td>F</td><td>16</td><td>U</td><td>GT3</td><td>T</td><td>3</td><td>3</td><td>other   </td><td>other   </td><td>home      </td><td>father</td><td>1</td><td>2</td><td>0</td><td>no </td><td>yes</td><td>yes</td><td>no </td><td>yes</td><td>yes</td><td>no </td><td>no </td><td>4</td><td>3</td><td>2</td><td>1</td><td>2</td><td>5</td><td> 4</td><td> 6</td><td>10</td><td>10</td></tr>\n",
       "\t<tr><th scope=row>4</th><td>GP</td><td>M</td><td>16</td><td>U</td><td>LE3</td><td>T</td><td>4</td><td>3</td><td>services</td><td>other   </td><td>reputation</td><td>mother</td><td>1</td><td>2</td><td>0</td><td>no </td><td>yes</td><td>yes</td><td>yes</td><td>yes</td><td>yes</td><td>yes</td><td>no </td><td>5</td><td>4</td><td>2</td><td>1</td><td>2</td><td>5</td><td>10</td><td>15</td><td>15</td><td>15</td></tr>\n",
       "\t<tr><th scope=row>5</th><td>GP</td><td>M</td><td>15</td><td>U</td><td>LE3</td><td>A</td><td>3</td><td>2</td><td>services</td><td>other   </td><td>home      </td><td>mother</td><td>1</td><td>2</td><td>0</td><td>no </td><td>yes</td><td>yes</td><td>no </td><td>yes</td><td>yes</td><td>yes</td><td>no </td><td>4</td><td>2</td><td>2</td><td>1</td><td>1</td><td>1</td><td> 0</td><td>16</td><td>18</td><td>19</td></tr>\n",
       "\t<tr><th scope=row>6</th><td>GP</td><td>M</td><td>15</td><td>U</td><td>GT3</td><td>T</td><td>3</td><td>4</td><td>other   </td><td>other   </td><td>home      </td><td>mother</td><td>1</td><td>2</td><td>0</td><td>no </td><td>yes</td><td>yes</td><td>yes</td><td>yes</td><td>yes</td><td>yes</td><td>no </td><td>5</td><td>5</td><td>1</td><td>1</td><td>1</td><td>5</td><td> 0</td><td>14</td><td>15</td><td>15</td></tr>\n",
       "</tbody>\n",
       "</table>\n"
      ],
      "text/latex": [
       "A data.frame: 6 × 33\n",
       "\\begin{tabular}{r|lllllllllllllllllllllllllllllllll}\n",
       "  & school & sex & age & address & famsize & Pstatus & Medu & Fedu & Mjob & Fjob & reason & guardian & traveltime & studytime & failures & schoolsup & famsup & paid & activities & nursery & higher & internet & romantic & famrel & freetime & goout & Dalc & Walc & health & absences & G1 & G2 & G3\\\\\n",
       "  & <chr> & <chr> & <int> & <chr> & <chr> & <chr> & <int> & <int> & <chr> & <chr> & <chr> & <chr> & <int> & <int> & <int> & <chr> & <chr> & <chr> & <chr> & <chr> & <chr> & <chr> & <chr> & <int> & <int> & <int> & <int> & <int> & <int> & <int> & <int> & <int> & <int>\\\\\n",
       "\\hline\n",
       "\t1 & GP & F & 15 & U & LE3 & T & 1 & 1 & at\\_home  & other    & other      & mother & 1 & 2 & 3 & yes & no  & yes & no  & yes & yes & yes & no  & 4 & 3 & 2 & 2 & 3 & 3 & 10 &  7 &  8 & 10\\\\\n",
       "\t2 & GP & F & 15 & U & GT3 & T & 4 & 2 & health   & services & home       & mother & 1 & 3 & 0 & no  & yes & yes & yes & yes & yes & yes & yes & 3 & 2 & 2 & 1 & 1 & 5 &  2 & 15 & 14 & 15\\\\\n",
       "\t3 & GP & F & 16 & U & GT3 & T & 3 & 3 & other    & other    & home       & father & 1 & 2 & 0 & no  & yes & yes & no  & yes & yes & no  & no  & 4 & 3 & 2 & 1 & 2 & 5 &  4 &  6 & 10 & 10\\\\\n",
       "\t4 & GP & M & 16 & U & LE3 & T & 4 & 3 & services & other    & reputation & mother & 1 & 2 & 0 & no  & yes & yes & yes & yes & yes & yes & no  & 5 & 4 & 2 & 1 & 2 & 5 & 10 & 15 & 15 & 15\\\\\n",
       "\t5 & GP & M & 15 & U & LE3 & A & 3 & 2 & services & other    & home       & mother & 1 & 2 & 0 & no  & yes & yes & no  & yes & yes & yes & no  & 4 & 2 & 2 & 1 & 1 & 1 &  0 & 16 & 18 & 19\\\\\n",
       "\t6 & GP & M & 15 & U & GT3 & T & 3 & 4 & other    & other    & home       & mother & 1 & 2 & 0 & no  & yes & yes & yes & yes & yes & yes & no  & 5 & 5 & 1 & 1 & 1 & 5 &  0 & 14 & 15 & 15\\\\\n",
       "\\end{tabular}\n"
      ],
      "text/markdown": [
       "\n",
       "A data.frame: 6 × 33\n",
       "\n",
       "| <!--/--> | school &lt;chr&gt; | sex &lt;chr&gt; | age &lt;int&gt; | address &lt;chr&gt; | famsize &lt;chr&gt; | Pstatus &lt;chr&gt; | Medu &lt;int&gt; | Fedu &lt;int&gt; | Mjob &lt;chr&gt; | Fjob &lt;chr&gt; | reason &lt;chr&gt; | guardian &lt;chr&gt; | traveltime &lt;int&gt; | studytime &lt;int&gt; | failures &lt;int&gt; | schoolsup &lt;chr&gt; | famsup &lt;chr&gt; | paid &lt;chr&gt; | activities &lt;chr&gt; | nursery &lt;chr&gt; | higher &lt;chr&gt; | internet &lt;chr&gt; | romantic &lt;chr&gt; | famrel &lt;int&gt; | freetime &lt;int&gt; | goout &lt;int&gt; | Dalc &lt;int&gt; | Walc &lt;int&gt; | health &lt;int&gt; | absences &lt;int&gt; | G1 &lt;int&gt; | G2 &lt;int&gt; | G3 &lt;int&gt; |\n",
       "|---|---|---|---|---|---|---|---|---|---|---|---|---|---|---|---|---|---|---|---|---|---|---|---|---|---|---|---|---|---|---|---|---|---|\n",
       "| 1 | GP | F | 15 | U | LE3 | T | 1 | 1 | at_home  | other    | other      | mother | 1 | 2 | 3 | yes | no  | yes | no  | yes | yes | yes | no  | 4 | 3 | 2 | 2 | 3 | 3 | 10 |  7 |  8 | 10 |\n",
       "| 2 | GP | F | 15 | U | GT3 | T | 4 | 2 | health   | services | home       | mother | 1 | 3 | 0 | no  | yes | yes | yes | yes | yes | yes | yes | 3 | 2 | 2 | 1 | 1 | 5 |  2 | 15 | 14 | 15 |\n",
       "| 3 | GP | F | 16 | U | GT3 | T | 3 | 3 | other    | other    | home       | father | 1 | 2 | 0 | no  | yes | yes | no  | yes | yes | no  | no  | 4 | 3 | 2 | 1 | 2 | 5 |  4 |  6 | 10 | 10 |\n",
       "| 4 | GP | M | 16 | U | LE3 | T | 4 | 3 | services | other    | reputation | mother | 1 | 2 | 0 | no  | yes | yes | yes | yes | yes | yes | no  | 5 | 4 | 2 | 1 | 2 | 5 | 10 | 15 | 15 | 15 |\n",
       "| 5 | GP | M | 15 | U | LE3 | A | 3 | 2 | services | other    | home       | mother | 1 | 2 | 0 | no  | yes | yes | no  | yes | yes | yes | no  | 4 | 2 | 2 | 1 | 1 | 1 |  0 | 16 | 18 | 19 |\n",
       "| 6 | GP | M | 15 | U | GT3 | T | 3 | 4 | other    | other    | home       | mother | 1 | 2 | 0 | no  | yes | yes | yes | yes | yes | yes | no  | 5 | 5 | 1 | 1 | 1 | 5 |  0 | 14 | 15 | 15 |\n",
       "\n"
      ],
      "text/plain": [
       "  school sex age address famsize Pstatus Medu Fedu Mjob     Fjob     reason    \n",
       "1 GP     F   15  U       LE3     T       1    1    at_home  other    other     \n",
       "2 GP     F   15  U       GT3     T       4    2    health   services home      \n",
       "3 GP     F   16  U       GT3     T       3    3    other    other    home      \n",
       "4 GP     M   16  U       LE3     T       4    3    services other    reputation\n",
       "5 GP     M   15  U       LE3     A       3    2    services other    home      \n",
       "6 GP     M   15  U       GT3     T       3    4    other    other    home      \n",
       "  guardian traveltime studytime failures schoolsup famsup paid activities\n",
       "1 mother   1          2         3        yes       no     yes  no        \n",
       "2 mother   1          3         0        no        yes    yes  yes       \n",
       "3 father   1          2         0        no        yes    yes  no        \n",
       "4 mother   1          2         0        no        yes    yes  yes       \n",
       "5 mother   1          2         0        no        yes    yes  no        \n",
       "6 mother   1          2         0        no        yes    yes  yes       \n",
       "  nursery higher internet romantic famrel freetime goout Dalc Walc health\n",
       "1 yes     yes    yes      no       4      3        2     2    3    3     \n",
       "2 yes     yes    yes      yes      3      2        2     1    1    5     \n",
       "3 yes     yes    no       no       4      3        2     1    2    5     \n",
       "4 yes     yes    yes      no       5      4        2     1    2    5     \n",
       "5 yes     yes    yes      no       4      2        2     1    1    1     \n",
       "6 yes     yes    yes      no       5      5        1     1    1    5     \n",
       "  absences G1 G2 G3\n",
       "1 10        7  8 10\n",
       "2  2       15 14 15\n",
       "3  4        6 10 10\n",
       "4 10       15 15 15\n",
       "5  0       16 18 19\n",
       "6  0       14 15 15"
      ]
     },
     "metadata": {},
     "output_type": "display_data"
    }
   ],
   "source": [
    "# Filter data to only paid students\n",
    "Paid <- student.mat %>% filter(paid == 'yes')\n",
    "head(Paid)"
   ]
  },
  {
   "cell_type": "code",
   "execution_count": 7,
   "id": "65b760ca-5555-49c3-a407-473e8c8acd91",
   "metadata": {},
   "outputs": [
    {
     "data": {
      "text/html": [
       "<style>\n",
       ".list-inline {list-style: none; margin:0; padding: 0}\n",
       ".list-inline>li {display: inline-block}\n",
       ".list-inline>li:not(:last-child)::after {content: \"\\00b7\"; padding: 0 .5ex}\n",
       "</style>\n",
       "<ol class=list-inline><li>'mother'</li><li>'father'</li><li>'other'</li></ol>\n"
      ],
      "text/latex": [
       "\\begin{enumerate*}\n",
       "\\item 'mother'\n",
       "\\item 'father'\n",
       "\\item 'other'\n",
       "\\end{enumerate*}\n"
      ],
      "text/markdown": [
       "1. 'mother'\n",
       "2. 'father'\n",
       "3. 'other'\n",
       "\n",
       "\n"
      ],
      "text/plain": [
       "[1] \"mother\" \"father\" \"other\" "
      ]
     },
     "metadata": {},
     "output_type": "display_data"
    }
   ],
   "source": [
    "# See unique values in guardian column\n",
    "unique(student.mat$guardian)"
   ]
  },
  {
   "cell_type": "code",
   "execution_count": 8,
   "id": "6b8444e2-a90e-494d-9734-5b7ae092cec2",
   "metadata": {},
   "outputs": [],
   "source": [
    "# Filter to show only those who have eihter a mother or a father as a guardian\n",
    "MotherFather <- student.mat %>% filter(guardian %in% c(\"mother\", \"father\"))"
   ]
  },
  {
   "cell_type": "code",
   "execution_count": 9,
   "id": "870972dc-4779-4282-988e-82ceee0e506a",
   "metadata": {},
   "outputs": [
    {
     "data": {
      "text/html": [
       "<table class=\"dataframe\">\n",
       "<caption>A data.frame: 6 × 33</caption>\n",
       "<thead>\n",
       "\t<tr><th></th><th scope=col>school</th><th scope=col>sex</th><th scope=col>age</th><th scope=col>address</th><th scope=col>famsize</th><th scope=col>Pstatus</th><th scope=col>Medu</th><th scope=col>Fedu</th><th scope=col>Mjob</th><th scope=col>Fjob</th><th scope=col>reason</th><th scope=col>guardian</th><th scope=col>traveltime</th><th scope=col>studytime</th><th scope=col>failures</th><th scope=col>schoolsup</th><th scope=col>famsup</th><th scope=col>paid</th><th scope=col>activities</th><th scope=col>nursery</th><th scope=col>higher</th><th scope=col>internet</th><th scope=col>romantic</th><th scope=col>famrel</th><th scope=col>freetime</th><th scope=col>goout</th><th scope=col>Dalc</th><th scope=col>Walc</th><th scope=col>health</th><th scope=col>absences</th><th scope=col>G1</th><th scope=col>G2</th><th scope=col>G3</th></tr>\n",
       "\t<tr><th></th><th scope=col>&lt;chr&gt;</th><th scope=col>&lt;chr&gt;</th><th scope=col>&lt;int&gt;</th><th scope=col>&lt;chr&gt;</th><th scope=col>&lt;chr&gt;</th><th scope=col>&lt;chr&gt;</th><th scope=col>&lt;int&gt;</th><th scope=col>&lt;int&gt;</th><th scope=col>&lt;chr&gt;</th><th scope=col>&lt;chr&gt;</th><th scope=col>&lt;chr&gt;</th><th scope=col>&lt;chr&gt;</th><th scope=col>&lt;int&gt;</th><th scope=col>&lt;int&gt;</th><th scope=col>&lt;int&gt;</th><th scope=col>&lt;chr&gt;</th><th scope=col>&lt;chr&gt;</th><th scope=col>&lt;chr&gt;</th><th scope=col>&lt;chr&gt;</th><th scope=col>&lt;chr&gt;</th><th scope=col>&lt;chr&gt;</th><th scope=col>&lt;chr&gt;</th><th scope=col>&lt;chr&gt;</th><th scope=col>&lt;int&gt;</th><th scope=col>&lt;int&gt;</th><th scope=col>&lt;int&gt;</th><th scope=col>&lt;int&gt;</th><th scope=col>&lt;int&gt;</th><th scope=col>&lt;int&gt;</th><th scope=col>&lt;int&gt;</th><th scope=col>&lt;int&gt;</th><th scope=col>&lt;int&gt;</th><th scope=col>&lt;int&gt;</th></tr>\n",
       "</thead>\n",
       "<tbody>\n",
       "\t<tr><th scope=row>1</th><td>GP</td><td>F</td><td>18</td><td>U</td><td>GT3</td><td>A</td><td>4</td><td>4</td><td>at_home </td><td>teacher </td><td>course    </td><td>mother</td><td>2</td><td>2</td><td>0</td><td>yes</td><td>no </td><td>no </td><td>no </td><td>yes</td><td>yes</td><td>no </td><td>no </td><td>4</td><td>3</td><td>4</td><td>1</td><td>1</td><td>3</td><td> 6</td><td> 5</td><td> 6</td><td> 6</td></tr>\n",
       "\t<tr><th scope=row>2</th><td>GP</td><td>F</td><td>17</td><td>U</td><td>GT3</td><td>T</td><td>1</td><td>1</td><td>at_home </td><td>other   </td><td>course    </td><td>father</td><td>1</td><td>2</td><td>0</td><td>no </td><td>yes</td><td>no </td><td>no </td><td>no </td><td>yes</td><td>yes</td><td>no </td><td>5</td><td>3</td><td>3</td><td>1</td><td>1</td><td>3</td><td> 4</td><td> 5</td><td> 5</td><td> 6</td></tr>\n",
       "\t<tr><th scope=row>3</th><td>GP</td><td>F</td><td>15</td><td>U</td><td>LE3</td><td>T</td><td>1</td><td>1</td><td>at_home </td><td>other   </td><td>other     </td><td>mother</td><td>1</td><td>2</td><td>3</td><td>yes</td><td>no </td><td>yes</td><td>no </td><td>yes</td><td>yes</td><td>yes</td><td>no </td><td>4</td><td>3</td><td>2</td><td>2</td><td>3</td><td>3</td><td>10</td><td> 7</td><td> 8</td><td>10</td></tr>\n",
       "\t<tr><th scope=row>4</th><td>GP</td><td>F</td><td>15</td><td>U</td><td>GT3</td><td>T</td><td>4</td><td>2</td><td>health  </td><td>services</td><td>home      </td><td>mother</td><td>1</td><td>3</td><td>0</td><td>no </td><td>yes</td><td>yes</td><td>yes</td><td>yes</td><td>yes</td><td>yes</td><td>yes</td><td>3</td><td>2</td><td>2</td><td>1</td><td>1</td><td>5</td><td> 2</td><td>15</td><td>14</td><td>15</td></tr>\n",
       "\t<tr><th scope=row>5</th><td>GP</td><td>F</td><td>16</td><td>U</td><td>GT3</td><td>T</td><td>3</td><td>3</td><td>other   </td><td>other   </td><td>home      </td><td>father</td><td>1</td><td>2</td><td>0</td><td>no </td><td>yes</td><td>yes</td><td>no </td><td>yes</td><td>yes</td><td>no </td><td>no </td><td>4</td><td>3</td><td>2</td><td>1</td><td>2</td><td>5</td><td> 4</td><td> 6</td><td>10</td><td>10</td></tr>\n",
       "\t<tr><th scope=row>6</th><td>GP</td><td>M</td><td>16</td><td>U</td><td>LE3</td><td>T</td><td>4</td><td>3</td><td>services</td><td>other   </td><td>reputation</td><td>mother</td><td>1</td><td>2</td><td>0</td><td>no </td><td>yes</td><td>yes</td><td>yes</td><td>yes</td><td>yes</td><td>yes</td><td>no </td><td>5</td><td>4</td><td>2</td><td>1</td><td>2</td><td>5</td><td>10</td><td>15</td><td>15</td><td>15</td></tr>\n",
       "</tbody>\n",
       "</table>\n"
      ],
      "text/latex": [
       "A data.frame: 6 × 33\n",
       "\\begin{tabular}{r|lllllllllllllllllllllllllllllllll}\n",
       "  & school & sex & age & address & famsize & Pstatus & Medu & Fedu & Mjob & Fjob & reason & guardian & traveltime & studytime & failures & schoolsup & famsup & paid & activities & nursery & higher & internet & romantic & famrel & freetime & goout & Dalc & Walc & health & absences & G1 & G2 & G3\\\\\n",
       "  & <chr> & <chr> & <int> & <chr> & <chr> & <chr> & <int> & <int> & <chr> & <chr> & <chr> & <chr> & <int> & <int> & <int> & <chr> & <chr> & <chr> & <chr> & <chr> & <chr> & <chr> & <chr> & <int> & <int> & <int> & <int> & <int> & <int> & <int> & <int> & <int> & <int>\\\\\n",
       "\\hline\n",
       "\t1 & GP & F & 18 & U & GT3 & A & 4 & 4 & at\\_home  & teacher  & course     & mother & 2 & 2 & 0 & yes & no  & no  & no  & yes & yes & no  & no  & 4 & 3 & 4 & 1 & 1 & 3 &  6 &  5 &  6 &  6\\\\\n",
       "\t2 & GP & F & 17 & U & GT3 & T & 1 & 1 & at\\_home  & other    & course     & father & 1 & 2 & 0 & no  & yes & no  & no  & no  & yes & yes & no  & 5 & 3 & 3 & 1 & 1 & 3 &  4 &  5 &  5 &  6\\\\\n",
       "\t3 & GP & F & 15 & U & LE3 & T & 1 & 1 & at\\_home  & other    & other      & mother & 1 & 2 & 3 & yes & no  & yes & no  & yes & yes & yes & no  & 4 & 3 & 2 & 2 & 3 & 3 & 10 &  7 &  8 & 10\\\\\n",
       "\t4 & GP & F & 15 & U & GT3 & T & 4 & 2 & health   & services & home       & mother & 1 & 3 & 0 & no  & yes & yes & yes & yes & yes & yes & yes & 3 & 2 & 2 & 1 & 1 & 5 &  2 & 15 & 14 & 15\\\\\n",
       "\t5 & GP & F & 16 & U & GT3 & T & 3 & 3 & other    & other    & home       & father & 1 & 2 & 0 & no  & yes & yes & no  & yes & yes & no  & no  & 4 & 3 & 2 & 1 & 2 & 5 &  4 &  6 & 10 & 10\\\\\n",
       "\t6 & GP & M & 16 & U & LE3 & T & 4 & 3 & services & other    & reputation & mother & 1 & 2 & 0 & no  & yes & yes & yes & yes & yes & yes & no  & 5 & 4 & 2 & 1 & 2 & 5 & 10 & 15 & 15 & 15\\\\\n",
       "\\end{tabular}\n"
      ],
      "text/markdown": [
       "\n",
       "A data.frame: 6 × 33\n",
       "\n",
       "| <!--/--> | school &lt;chr&gt; | sex &lt;chr&gt; | age &lt;int&gt; | address &lt;chr&gt; | famsize &lt;chr&gt; | Pstatus &lt;chr&gt; | Medu &lt;int&gt; | Fedu &lt;int&gt; | Mjob &lt;chr&gt; | Fjob &lt;chr&gt; | reason &lt;chr&gt; | guardian &lt;chr&gt; | traveltime &lt;int&gt; | studytime &lt;int&gt; | failures &lt;int&gt; | schoolsup &lt;chr&gt; | famsup &lt;chr&gt; | paid &lt;chr&gt; | activities &lt;chr&gt; | nursery &lt;chr&gt; | higher &lt;chr&gt; | internet &lt;chr&gt; | romantic &lt;chr&gt; | famrel &lt;int&gt; | freetime &lt;int&gt; | goout &lt;int&gt; | Dalc &lt;int&gt; | Walc &lt;int&gt; | health &lt;int&gt; | absences &lt;int&gt; | G1 &lt;int&gt; | G2 &lt;int&gt; | G3 &lt;int&gt; |\n",
       "|---|---|---|---|---|---|---|---|---|---|---|---|---|---|---|---|---|---|---|---|---|---|---|---|---|---|---|---|---|---|---|---|---|---|\n",
       "| 1 | GP | F | 18 | U | GT3 | A | 4 | 4 | at_home  | teacher  | course     | mother | 2 | 2 | 0 | yes | no  | no  | no  | yes | yes | no  | no  | 4 | 3 | 4 | 1 | 1 | 3 |  6 |  5 |  6 |  6 |\n",
       "| 2 | GP | F | 17 | U | GT3 | T | 1 | 1 | at_home  | other    | course     | father | 1 | 2 | 0 | no  | yes | no  | no  | no  | yes | yes | no  | 5 | 3 | 3 | 1 | 1 | 3 |  4 |  5 |  5 |  6 |\n",
       "| 3 | GP | F | 15 | U | LE3 | T | 1 | 1 | at_home  | other    | other      | mother | 1 | 2 | 3 | yes | no  | yes | no  | yes | yes | yes | no  | 4 | 3 | 2 | 2 | 3 | 3 | 10 |  7 |  8 | 10 |\n",
       "| 4 | GP | F | 15 | U | GT3 | T | 4 | 2 | health   | services | home       | mother | 1 | 3 | 0 | no  | yes | yes | yes | yes | yes | yes | yes | 3 | 2 | 2 | 1 | 1 | 5 |  2 | 15 | 14 | 15 |\n",
       "| 5 | GP | F | 16 | U | GT3 | T | 3 | 3 | other    | other    | home       | father | 1 | 2 | 0 | no  | yes | yes | no  | yes | yes | no  | no  | 4 | 3 | 2 | 1 | 2 | 5 |  4 |  6 | 10 | 10 |\n",
       "| 6 | GP | M | 16 | U | LE3 | T | 4 | 3 | services | other    | reputation | mother | 1 | 2 | 0 | no  | yes | yes | yes | yes | yes | yes | no  | 5 | 4 | 2 | 1 | 2 | 5 | 10 | 15 | 15 | 15 |\n",
       "\n"
      ],
      "text/plain": [
       "  school sex age address famsize Pstatus Medu Fedu Mjob     Fjob     reason    \n",
       "1 GP     F   18  U       GT3     A       4    4    at_home  teacher  course    \n",
       "2 GP     F   17  U       GT3     T       1    1    at_home  other    course    \n",
       "3 GP     F   15  U       LE3     T       1    1    at_home  other    other     \n",
       "4 GP     F   15  U       GT3     T       4    2    health   services home      \n",
       "5 GP     F   16  U       GT3     T       3    3    other    other    home      \n",
       "6 GP     M   16  U       LE3     T       4    3    services other    reputation\n",
       "  guardian traveltime studytime failures schoolsup famsup paid activities\n",
       "1 mother   2          2         0        yes       no     no   no        \n",
       "2 father   1          2         0        no        yes    no   no        \n",
       "3 mother   1          2         3        yes       no     yes  no        \n",
       "4 mother   1          3         0        no        yes    yes  yes       \n",
       "5 father   1          2         0        no        yes    yes  no        \n",
       "6 mother   1          2         0        no        yes    yes  yes       \n",
       "  nursery higher internet romantic famrel freetime goout Dalc Walc health\n",
       "1 yes     yes    no       no       4      3        4     1    1    3     \n",
       "2 no      yes    yes      no       5      3        3     1    1    3     \n",
       "3 yes     yes    yes      no       4      3        2     2    3    3     \n",
       "4 yes     yes    yes      yes      3      2        2     1    1    5     \n",
       "5 yes     yes    no       no       4      3        2     1    2    5     \n",
       "6 yes     yes    yes      no       5      4        2     1    2    5     \n",
       "  absences G1 G2 G3\n",
       "1  6        5  6  6\n",
       "2  4        5  5  6\n",
       "3 10        7  8 10\n",
       "4  2       15 14 15\n",
       "5  4        6 10 10\n",
       "6 10       15 15 15"
      ]
     },
     "metadata": {},
     "output_type": "display_data"
    }
   ],
   "source": [
    "head(MotherFather)"
   ]
  },
  {
   "cell_type": "code",
   "execution_count": 10,
   "id": "9d2102ef-4ed1-4297-97d4-c8e2552c1a65",
   "metadata": {},
   "outputs": [],
   "source": [
    "# Order that data frame so that we see all the mothers first\n",
    "SortedMomFirst <- MotherFather %>% arrange(desc(guardian))"
   ]
  },
  {
   "cell_type": "code",
   "execution_count": 11,
   "id": "4d4ab7b8-321b-404d-8613-ee59894b4b94",
   "metadata": {},
   "outputs": [
    {
     "data": {
      "text/html": [
       "<table class=\"dataframe\">\n",
       "<caption>A data.frame: 6 × 33</caption>\n",
       "<thead>\n",
       "\t<tr><th></th><th scope=col>school</th><th scope=col>sex</th><th scope=col>age</th><th scope=col>address</th><th scope=col>famsize</th><th scope=col>Pstatus</th><th scope=col>Medu</th><th scope=col>Fedu</th><th scope=col>Mjob</th><th scope=col>Fjob</th><th scope=col>reason</th><th scope=col>guardian</th><th scope=col>traveltime</th><th scope=col>studytime</th><th scope=col>failures</th><th scope=col>schoolsup</th><th scope=col>famsup</th><th scope=col>paid</th><th scope=col>activities</th><th scope=col>nursery</th><th scope=col>higher</th><th scope=col>internet</th><th scope=col>romantic</th><th scope=col>famrel</th><th scope=col>freetime</th><th scope=col>goout</th><th scope=col>Dalc</th><th scope=col>Walc</th><th scope=col>health</th><th scope=col>absences</th><th scope=col>G1</th><th scope=col>G2</th><th scope=col>G3</th></tr>\n",
       "\t<tr><th></th><th scope=col>&lt;chr&gt;</th><th scope=col>&lt;chr&gt;</th><th scope=col>&lt;int&gt;</th><th scope=col>&lt;chr&gt;</th><th scope=col>&lt;chr&gt;</th><th scope=col>&lt;chr&gt;</th><th scope=col>&lt;int&gt;</th><th scope=col>&lt;int&gt;</th><th scope=col>&lt;chr&gt;</th><th scope=col>&lt;chr&gt;</th><th scope=col>&lt;chr&gt;</th><th scope=col>&lt;chr&gt;</th><th scope=col>&lt;int&gt;</th><th scope=col>&lt;int&gt;</th><th scope=col>&lt;int&gt;</th><th scope=col>&lt;chr&gt;</th><th scope=col>&lt;chr&gt;</th><th scope=col>&lt;chr&gt;</th><th scope=col>&lt;chr&gt;</th><th scope=col>&lt;chr&gt;</th><th scope=col>&lt;chr&gt;</th><th scope=col>&lt;chr&gt;</th><th scope=col>&lt;chr&gt;</th><th scope=col>&lt;int&gt;</th><th scope=col>&lt;int&gt;</th><th scope=col>&lt;int&gt;</th><th scope=col>&lt;int&gt;</th><th scope=col>&lt;int&gt;</th><th scope=col>&lt;int&gt;</th><th scope=col>&lt;int&gt;</th><th scope=col>&lt;int&gt;</th><th scope=col>&lt;int&gt;</th><th scope=col>&lt;int&gt;</th></tr>\n",
       "</thead>\n",
       "<tbody>\n",
       "\t<tr><th scope=row>1</th><td>GP</td><td>F</td><td>18</td><td>U</td><td>GT3</td><td>A</td><td>4</td><td>4</td><td>at_home </td><td>teacher </td><td>course    </td><td>mother</td><td>2</td><td>2</td><td>0</td><td>yes</td><td>no </td><td>no </td><td>no </td><td>yes</td><td>yes</td><td>no </td><td>no </td><td>4</td><td>3</td><td>4</td><td>1</td><td>1</td><td>3</td><td> 6</td><td> 5</td><td> 6</td><td> 6</td></tr>\n",
       "\t<tr><th scope=row>2</th><td>GP</td><td>F</td><td>15</td><td>U</td><td>LE3</td><td>T</td><td>1</td><td>1</td><td>at_home </td><td>other   </td><td>other     </td><td>mother</td><td>1</td><td>2</td><td>3</td><td>yes</td><td>no </td><td>yes</td><td>no </td><td>yes</td><td>yes</td><td>yes</td><td>no </td><td>4</td><td>3</td><td>2</td><td>2</td><td>3</td><td>3</td><td>10</td><td> 7</td><td> 8</td><td>10</td></tr>\n",
       "\t<tr><th scope=row>3</th><td>GP</td><td>F</td><td>15</td><td>U</td><td>GT3</td><td>T</td><td>4</td><td>2</td><td>health  </td><td>services</td><td>home      </td><td>mother</td><td>1</td><td>3</td><td>0</td><td>no </td><td>yes</td><td>yes</td><td>yes</td><td>yes</td><td>yes</td><td>yes</td><td>yes</td><td>3</td><td>2</td><td>2</td><td>1</td><td>1</td><td>5</td><td> 2</td><td>15</td><td>14</td><td>15</td></tr>\n",
       "\t<tr><th scope=row>4</th><td>GP</td><td>M</td><td>16</td><td>U</td><td>LE3</td><td>T</td><td>4</td><td>3</td><td>services</td><td>other   </td><td>reputation</td><td>mother</td><td>1</td><td>2</td><td>0</td><td>no </td><td>yes</td><td>yes</td><td>yes</td><td>yes</td><td>yes</td><td>yes</td><td>no </td><td>5</td><td>4</td><td>2</td><td>1</td><td>2</td><td>5</td><td>10</td><td>15</td><td>15</td><td>15</td></tr>\n",
       "\t<tr><th scope=row>5</th><td>GP</td><td>M</td><td>16</td><td>U</td><td>LE3</td><td>T</td><td>2</td><td>2</td><td>other   </td><td>other   </td><td>home      </td><td>mother</td><td>1</td><td>2</td><td>0</td><td>no </td><td>no </td><td>no </td><td>no </td><td>yes</td><td>yes</td><td>yes</td><td>no </td><td>4</td><td>4</td><td>4</td><td>1</td><td>1</td><td>3</td><td> 0</td><td>12</td><td>12</td><td>11</td></tr>\n",
       "\t<tr><th scope=row>6</th><td>GP</td><td>F</td><td>17</td><td>U</td><td>GT3</td><td>A</td><td>4</td><td>4</td><td>other   </td><td>teacher </td><td>home      </td><td>mother</td><td>2</td><td>2</td><td>0</td><td>yes</td><td>yes</td><td>no </td><td>no </td><td>yes</td><td>yes</td><td>no </td><td>no </td><td>4</td><td>1</td><td>4</td><td>1</td><td>1</td><td>1</td><td> 6</td><td> 6</td><td> 5</td><td> 6</td></tr>\n",
       "</tbody>\n",
       "</table>\n"
      ],
      "text/latex": [
       "A data.frame: 6 × 33\n",
       "\\begin{tabular}{r|lllllllllllllllllllllllllllllllll}\n",
       "  & school & sex & age & address & famsize & Pstatus & Medu & Fedu & Mjob & Fjob & reason & guardian & traveltime & studytime & failures & schoolsup & famsup & paid & activities & nursery & higher & internet & romantic & famrel & freetime & goout & Dalc & Walc & health & absences & G1 & G2 & G3\\\\\n",
       "  & <chr> & <chr> & <int> & <chr> & <chr> & <chr> & <int> & <int> & <chr> & <chr> & <chr> & <chr> & <int> & <int> & <int> & <chr> & <chr> & <chr> & <chr> & <chr> & <chr> & <chr> & <chr> & <int> & <int> & <int> & <int> & <int> & <int> & <int> & <int> & <int> & <int>\\\\\n",
       "\\hline\n",
       "\t1 & GP & F & 18 & U & GT3 & A & 4 & 4 & at\\_home  & teacher  & course     & mother & 2 & 2 & 0 & yes & no  & no  & no  & yes & yes & no  & no  & 4 & 3 & 4 & 1 & 1 & 3 &  6 &  5 &  6 &  6\\\\\n",
       "\t2 & GP & F & 15 & U & LE3 & T & 1 & 1 & at\\_home  & other    & other      & mother & 1 & 2 & 3 & yes & no  & yes & no  & yes & yes & yes & no  & 4 & 3 & 2 & 2 & 3 & 3 & 10 &  7 &  8 & 10\\\\\n",
       "\t3 & GP & F & 15 & U & GT3 & T & 4 & 2 & health   & services & home       & mother & 1 & 3 & 0 & no  & yes & yes & yes & yes & yes & yes & yes & 3 & 2 & 2 & 1 & 1 & 5 &  2 & 15 & 14 & 15\\\\\n",
       "\t4 & GP & M & 16 & U & LE3 & T & 4 & 3 & services & other    & reputation & mother & 1 & 2 & 0 & no  & yes & yes & yes & yes & yes & yes & no  & 5 & 4 & 2 & 1 & 2 & 5 & 10 & 15 & 15 & 15\\\\\n",
       "\t5 & GP & M & 16 & U & LE3 & T & 2 & 2 & other    & other    & home       & mother & 1 & 2 & 0 & no  & no  & no  & no  & yes & yes & yes & no  & 4 & 4 & 4 & 1 & 1 & 3 &  0 & 12 & 12 & 11\\\\\n",
       "\t6 & GP & F & 17 & U & GT3 & A & 4 & 4 & other    & teacher  & home       & mother & 2 & 2 & 0 & yes & yes & no  & no  & yes & yes & no  & no  & 4 & 1 & 4 & 1 & 1 & 1 &  6 &  6 &  5 &  6\\\\\n",
       "\\end{tabular}\n"
      ],
      "text/markdown": [
       "\n",
       "A data.frame: 6 × 33\n",
       "\n",
       "| <!--/--> | school &lt;chr&gt; | sex &lt;chr&gt; | age &lt;int&gt; | address &lt;chr&gt; | famsize &lt;chr&gt; | Pstatus &lt;chr&gt; | Medu &lt;int&gt; | Fedu &lt;int&gt; | Mjob &lt;chr&gt; | Fjob &lt;chr&gt; | reason &lt;chr&gt; | guardian &lt;chr&gt; | traveltime &lt;int&gt; | studytime &lt;int&gt; | failures &lt;int&gt; | schoolsup &lt;chr&gt; | famsup &lt;chr&gt; | paid &lt;chr&gt; | activities &lt;chr&gt; | nursery &lt;chr&gt; | higher &lt;chr&gt; | internet &lt;chr&gt; | romantic &lt;chr&gt; | famrel &lt;int&gt; | freetime &lt;int&gt; | goout &lt;int&gt; | Dalc &lt;int&gt; | Walc &lt;int&gt; | health &lt;int&gt; | absences &lt;int&gt; | G1 &lt;int&gt; | G2 &lt;int&gt; | G3 &lt;int&gt; |\n",
       "|---|---|---|---|---|---|---|---|---|---|---|---|---|---|---|---|---|---|---|---|---|---|---|---|---|---|---|---|---|---|---|---|---|---|\n",
       "| 1 | GP | F | 18 | U | GT3 | A | 4 | 4 | at_home  | teacher  | course     | mother | 2 | 2 | 0 | yes | no  | no  | no  | yes | yes | no  | no  | 4 | 3 | 4 | 1 | 1 | 3 |  6 |  5 |  6 |  6 |\n",
       "| 2 | GP | F | 15 | U | LE3 | T | 1 | 1 | at_home  | other    | other      | mother | 1 | 2 | 3 | yes | no  | yes | no  | yes | yes | yes | no  | 4 | 3 | 2 | 2 | 3 | 3 | 10 |  7 |  8 | 10 |\n",
       "| 3 | GP | F | 15 | U | GT3 | T | 4 | 2 | health   | services | home       | mother | 1 | 3 | 0 | no  | yes | yes | yes | yes | yes | yes | yes | 3 | 2 | 2 | 1 | 1 | 5 |  2 | 15 | 14 | 15 |\n",
       "| 4 | GP | M | 16 | U | LE3 | T | 4 | 3 | services | other    | reputation | mother | 1 | 2 | 0 | no  | yes | yes | yes | yes | yes | yes | no  | 5 | 4 | 2 | 1 | 2 | 5 | 10 | 15 | 15 | 15 |\n",
       "| 5 | GP | M | 16 | U | LE3 | T | 2 | 2 | other    | other    | home       | mother | 1 | 2 | 0 | no  | no  | no  | no  | yes | yes | yes | no  | 4 | 4 | 4 | 1 | 1 | 3 |  0 | 12 | 12 | 11 |\n",
       "| 6 | GP | F | 17 | U | GT3 | A | 4 | 4 | other    | teacher  | home       | mother | 2 | 2 | 0 | yes | yes | no  | no  | yes | yes | no  | no  | 4 | 1 | 4 | 1 | 1 | 1 |  6 |  6 |  5 |  6 |\n",
       "\n"
      ],
      "text/plain": [
       "  school sex age address famsize Pstatus Medu Fedu Mjob     Fjob     reason    \n",
       "1 GP     F   18  U       GT3     A       4    4    at_home  teacher  course    \n",
       "2 GP     F   15  U       LE3     T       1    1    at_home  other    other     \n",
       "3 GP     F   15  U       GT3     T       4    2    health   services home      \n",
       "4 GP     M   16  U       LE3     T       4    3    services other    reputation\n",
       "5 GP     M   16  U       LE3     T       2    2    other    other    home      \n",
       "6 GP     F   17  U       GT3     A       4    4    other    teacher  home      \n",
       "  guardian traveltime studytime failures schoolsup famsup paid activities\n",
       "1 mother   2          2         0        yes       no     no   no        \n",
       "2 mother   1          2         3        yes       no     yes  no        \n",
       "3 mother   1          3         0        no        yes    yes  yes       \n",
       "4 mother   1          2         0        no        yes    yes  yes       \n",
       "5 mother   1          2         0        no        no     no   no        \n",
       "6 mother   2          2         0        yes       yes    no   no        \n",
       "  nursery higher internet romantic famrel freetime goout Dalc Walc health\n",
       "1 yes     yes    no       no       4      3        4     1    1    3     \n",
       "2 yes     yes    yes      no       4      3        2     2    3    3     \n",
       "3 yes     yes    yes      yes      3      2        2     1    1    5     \n",
       "4 yes     yes    yes      no       5      4        2     1    2    5     \n",
       "5 yes     yes    yes      no       4      4        4     1    1    3     \n",
       "6 yes     yes    no       no       4      1        4     1    1    1     \n",
       "  absences G1 G2 G3\n",
       "1  6        5  6  6\n",
       "2 10        7  8 10\n",
       "3  2       15 14 15\n",
       "4 10       15 15 15\n",
       "5  0       12 12 11\n",
       "6  6        6  5  6"
      ]
     },
     "metadata": {},
     "output_type": "display_data"
    }
   ],
   "source": [
    "head(SortedMomFirst)"
   ]
  },
  {
   "cell_type": "code",
   "execution_count": 12,
   "id": "77ab0c17-df1b-4932-928e-96b365d6cc6d",
   "metadata": {},
   "outputs": [],
   "source": [
    "# Include only the columns on their age, guardian, and whether they have paid\n",
    "SortedMomFirstColumns = SortedMomFirst %>% select(age, guardian, paid)"
   ]
  },
  {
   "cell_type": "code",
   "execution_count": 13,
   "id": "debd3a40-7eb5-451f-abf7-5d9c508f6c29",
   "metadata": {},
   "outputs": [
    {
     "data": {
      "text/html": [
       "<table class=\"dataframe\">\n",
       "<caption>A data.frame: 6 × 3</caption>\n",
       "<thead>\n",
       "\t<tr><th></th><th scope=col>age</th><th scope=col>guardian</th><th scope=col>paid</th></tr>\n",
       "\t<tr><th></th><th scope=col>&lt;int&gt;</th><th scope=col>&lt;chr&gt;</th><th scope=col>&lt;chr&gt;</th></tr>\n",
       "</thead>\n",
       "<tbody>\n",
       "\t<tr><th scope=row>1</th><td>18</td><td>mother</td><td>no </td></tr>\n",
       "\t<tr><th scope=row>2</th><td>15</td><td>mother</td><td>yes</td></tr>\n",
       "\t<tr><th scope=row>3</th><td>15</td><td>mother</td><td>yes</td></tr>\n",
       "\t<tr><th scope=row>4</th><td>16</td><td>mother</td><td>yes</td></tr>\n",
       "\t<tr><th scope=row>5</th><td>16</td><td>mother</td><td>no </td></tr>\n",
       "\t<tr><th scope=row>6</th><td>17</td><td>mother</td><td>no </td></tr>\n",
       "</tbody>\n",
       "</table>\n"
      ],
      "text/latex": [
       "A data.frame: 6 × 3\n",
       "\\begin{tabular}{r|lll}\n",
       "  & age & guardian & paid\\\\\n",
       "  & <int> & <chr> & <chr>\\\\\n",
       "\\hline\n",
       "\t1 & 18 & mother & no \\\\\n",
       "\t2 & 15 & mother & yes\\\\\n",
       "\t3 & 15 & mother & yes\\\\\n",
       "\t4 & 16 & mother & yes\\\\\n",
       "\t5 & 16 & mother & no \\\\\n",
       "\t6 & 17 & mother & no \\\\\n",
       "\\end{tabular}\n"
      ],
      "text/markdown": [
       "\n",
       "A data.frame: 6 × 3\n",
       "\n",
       "| <!--/--> | age &lt;int&gt; | guardian &lt;chr&gt; | paid &lt;chr&gt; |\n",
       "|---|---|---|---|\n",
       "| 1 | 18 | mother | no  |\n",
       "| 2 | 15 | mother | yes |\n",
       "| 3 | 15 | mother | yes |\n",
       "| 4 | 16 | mother | yes |\n",
       "| 5 | 16 | mother | no  |\n",
       "| 6 | 17 | mother | no  |\n",
       "\n"
      ],
      "text/plain": [
       "  age guardian paid\n",
       "1 18  mother   no  \n",
       "2 15  mother   yes \n",
       "3 15  mother   yes \n",
       "4 16  mother   yes \n",
       "5 16  mother   no  \n",
       "6 17  mother   no  "
      ]
     },
     "metadata": {},
     "output_type": "display_data"
    }
   ],
   "source": [
    "head(SortedMomFirstColumns)"
   ]
  },
  {
   "cell_type": "code",
   "execution_count": 14,
   "id": "e5ce5216-97e9-403e-a547-806f911470b5",
   "metadata": {},
   "outputs": [
    {
     "data": {
      "text/html": [
       "<table class=\"dataframe\">\n",
       "<caption>A data.frame: 1 × 1</caption>\n",
       "<thead>\n",
       "\t<tr><th scope=col>MeanAge</th></tr>\n",
       "\t<tr><th scope=col>&lt;dbl&gt;</th></tr>\n",
       "</thead>\n",
       "<tbody>\n",
       "\t<tr><td>16.54545</td></tr>\n",
       "</tbody>\n",
       "</table>\n"
      ],
      "text/latex": [
       "A data.frame: 1 × 1\n",
       "\\begin{tabular}{l}\n",
       " MeanAge\\\\\n",
       " <dbl>\\\\\n",
       "\\hline\n",
       "\t 16.54545\\\\\n",
       "\\end{tabular}\n"
      ],
      "text/markdown": [
       "\n",
       "A data.frame: 1 × 1\n",
       "\n",
       "| MeanAge &lt;dbl&gt; |\n",
       "|---|\n",
       "| 16.54545 |\n",
       "\n"
      ],
      "text/plain": [
       "  MeanAge \n",
       "1 16.54545"
      ]
     },
     "metadata": {},
     "output_type": "display_data"
    }
   ],
   "source": [
    "# Find the mean age of this dataset\n",
    "MeanAge <- SortedMomFirstColumns %>% summarise(MeanAge=mean(age))\n",
    "MeanAge"
   ]
  },
  {
   "cell_type": "code",
   "execution_count": 15,
   "id": "7b51a266-8a07-4766-9301-4f941c181e8b",
   "metadata": {},
   "outputs": [
    {
     "data": {
      "text/html": [
       "<table class=\"dataframe\">\n",
       "<caption>A tibble: 2 × 2</caption>\n",
       "<thead>\n",
       "\t<tr><th scope=col>guardian</th><th scope=col>MeanAge</th></tr>\n",
       "\t<tr><th scope=col>&lt;chr&gt;</th><th scope=col>&lt;dbl&gt;</th></tr>\n",
       "</thead>\n",
       "<tbody>\n",
       "\t<tr><td>father</td><td>16.43333</td></tr>\n",
       "\t<tr><td>mother</td><td>16.58242</td></tr>\n",
       "</tbody>\n",
       "</table>\n"
      ],
      "text/latex": [
       "A tibble: 2 × 2\n",
       "\\begin{tabular}{ll}\n",
       " guardian & MeanAge\\\\\n",
       " <chr> & <dbl>\\\\\n",
       "\\hline\n",
       "\t father & 16.43333\\\\\n",
       "\t mother & 16.58242\\\\\n",
       "\\end{tabular}\n"
      ],
      "text/markdown": [
       "\n",
       "A tibble: 2 × 2\n",
       "\n",
       "| guardian &lt;chr&gt; | MeanAge &lt;dbl&gt; |\n",
       "|---|---|\n",
       "| father | 16.43333 |\n",
       "| mother | 16.58242 |\n",
       "\n"
      ],
      "text/plain": [
       "  guardian MeanAge \n",
       "1 father   16.43333\n",
       "2 mother   16.58242"
      ]
     },
     "metadata": {},
     "output_type": "display_data"
    }
   ],
   "source": [
    "# Find the mean age per guardian\n",
    "MeanAgeByGuardian <- SortedMomFirstColumns %>% group_by(guardian) %>% summarise(MeanAge=mean(age))\n",
    "MeanAgeByGuardian"
   ]
  },
  {
   "cell_type": "code",
   "execution_count": 16,
   "id": "cdf7f87d-fb91-43c1-b9b5-1812239b9e05",
   "metadata": {},
   "outputs": [],
   "source": [
    "# Do this all at once - link them all!\n",
    "Final <- student.mat %>%\n",
    "    filter(guardian %in% c(\"mother\", \"father\")) %>% arrange(desc(guardian)) %>%\n",
    "    select(age, guardian, paid) %>% group_by(guardian) %>% summarise(MeanAge=mean(age))"
   ]
  },
  {
   "cell_type": "code",
   "execution_count": 17,
   "id": "fbaac6c4-dc4d-4fb0-9555-1c6c5b8c1e77",
   "metadata": {},
   "outputs": [
    {
     "data": {
      "text/html": [
       "<table class=\"dataframe\">\n",
       "<caption>A tibble: 2 × 2</caption>\n",
       "<thead>\n",
       "\t<tr><th scope=col>guardian</th><th scope=col>MeanAge</th></tr>\n",
       "\t<tr><th scope=col>&lt;chr&gt;</th><th scope=col>&lt;dbl&gt;</th></tr>\n",
       "</thead>\n",
       "<tbody>\n",
       "\t<tr><td>father</td><td>16.43333</td></tr>\n",
       "\t<tr><td>mother</td><td>16.58242</td></tr>\n",
       "</tbody>\n",
       "</table>\n"
      ],
      "text/latex": [
       "A tibble: 2 × 2\n",
       "\\begin{tabular}{ll}\n",
       " guardian & MeanAge\\\\\n",
       " <chr> & <dbl>\\\\\n",
       "\\hline\n",
       "\t father & 16.43333\\\\\n",
       "\t mother & 16.58242\\\\\n",
       "\\end{tabular}\n"
      ],
      "text/markdown": [
       "\n",
       "A tibble: 2 × 2\n",
       "\n",
       "| guardian &lt;chr&gt; | MeanAge &lt;dbl&gt; |\n",
       "|---|---|\n",
       "| father | 16.43333 |\n",
       "| mother | 16.58242 |\n",
       "\n"
      ],
      "text/plain": [
       "  guardian MeanAge \n",
       "1 father   16.43333\n",
       "2 mother   16.58242"
      ]
     },
     "metadata": {},
     "output_type": "display_data"
    }
   ],
   "source": [
    "Final"
   ]
  },
  {
   "cell_type": "code",
   "execution_count": null,
   "id": "7d494b0e-4b38-47a5-87d7-feb1a3a89a1c",
   "metadata": {},
   "outputs": [],
   "source": []
  }
 ],
 "metadata": {
  "kernelspec": {
   "display_name": "R",
   "language": "R",
   "name": "ir"
  },
  "language_info": {
   "codemirror_mode": "r",
   "file_extension": ".r",
   "mimetype": "text/x-r-source",
   "name": "R",
   "pygments_lexer": "r",
   "version": "4.1.1"
  }
 },
 "nbformat": 4,
 "nbformat_minor": 5
}
