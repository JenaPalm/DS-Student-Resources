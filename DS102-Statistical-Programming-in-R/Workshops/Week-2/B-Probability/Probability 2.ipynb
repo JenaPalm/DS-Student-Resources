{
 "cells": [
  {
   "cell_type": "markdown",
   "id": "db45b9c5-4eed-450e-a260-a19a80289480",
   "metadata": {},
   "source": [
    "# Probability\n",
    "\n",
    "It's time for us to put descriptive statistics down for the time being. It was fun for a while, but we're no longer content just determining the properties of observed data; now we want to start making deductions about data we haven't observed. This leads us to the realm of inferential statistics. In data analysis, probability is used to quantify uncertainty of our deductions about unobserved data. In the land of inferential statistics, probability reigns supreme."
   ]
  },
  {
   "cell_type": "code",
   "execution_count": 2,
   "id": "a69f77d9-08d3-4b81-8d59-0c5cdb479c89",
   "metadata": {},
   "outputs": [],
   "source": [
    "#https://vimeo.com/738768565\n",
    "#install.packages(\"vembedr\")\n",
    "#library(\"vembedr\")\n",
    "#embed_vimeo(\"\")"
   ]
  },
  {
   "cell_type": "markdown",
   "id": "03a085bd-b6e9-4c4b-8481-ffe6ab83fa80",
   "metadata": {},
   "source": [
    "### Table of Contents <a class=\"anchor\" id=\"DS102L1-WS2.6_toc\"></a>\n",
    "\n",
    "* [Table of Contents](#DS102L1-WS2._toc)\n",
    "    * [Page 1 - Basic probability](#DS102L1-WS2.6_page_1)\n"
   ]
  },
  {
   "cell_type": "markdown",
   "id": "a1a5c75e-e2e1-4b3a-ac3a-a613fe9a6490",
   "metadata": {},
   "source": [
    "<hr style=\"height:10px;border-width:0;color:gray;background-color:gray\">\n",
    "\n",
    "# Page 1 - Basic probability <a class=\"anchor\" id=\"DS102L1-WS2.6_page_1\"></a>\n",
    "\n",
    "[Back to Top](#DS102L1-WS2.6_toc)\n",
    "\n",
    "<hr style=\"height:10px;border-width:0;color:gray;background-color:gray\">"
   ]
  },
  {
   "cell_type": "markdown",
   "id": "1be6d496-59d6-4d6f-8b98-825041079a44",
   "metadata": {},
   "source": [
    "Probability measures the likeliness that a particular event will occur. When mathematicians (us, for now!) speak of an event, we are referring to a set of potential outcomes of an experiment, or trial, to which we can assign a probability of occurrence.\n",
    "\n",
    "Probabilities are expressed as a number between 0 and 1 (or as a percentage out of 100). An event with a probability of 0 denotes an impossible outcome, and a probability of 1 describes an event that is certain to occur.\n",
    "\n",
    "The canonical example of probability at work is a coin flip. In the coin flip event, there are two outcomes: the coin lands on heads or the coin lands on tails. Pretending that coins never land on their edge (they almost never do), those two outcomes are the only ones possible. The sample space (the set of all possible outcomes), therefore, is {heads, tails}. As the entire sample space is covered by these two outcomes, they are said to be collectively exhaustive.\n",
    "\n",
    "The sum of the probabilities of collectively exhaustive events is always 1. In this example, the probability that the coin flip will yield heads or yield tails is 1; it is certain that the coin will land on one of those. In a fair and correctly balanced coin, each of those two outcomes is equally likely. Therefore, we split the probability equally among the outcomes: in the event of a coin flip, the probability of obtaining heads is 0.5, and the probability of tails is 0.5 as well. This is usually denoted as follows:\n",
    "\n",
    "$$ P(heads) = 0.5$$\n",
    "\n",
    "The probability of a coin flip yielding either heads or tails looks like this:\n",
    "\n",
    "$$ P(heads \\bigcup tails) = 1$$\n",
    "\n",
    "The probability of a coin flip yielding both heads and tails is denoted as follows:\n",
    "\n",
    "$$ P(heads \\bigcap tails) = 0$$\n",
    "\n",
    "The two outcomes, in addition to being collectively exhaustive, are also mutually exclusive. This means that they can never co-occur. This is why the probability of heads and tails is 0; it just can't happen.\n",
    "\n",
    "The next obligatory application of beginner probability theory is in the case of rolling a standard six-sided die. In the event of a die roll, the sample space is (1, 2, 3, 4, 5, 6). With every roll of the die, we are sampling from this space. In this event too, each outcome is equally likely, except now we have to divide the probability across six outcomes. In the following equation, we denote the probability of rolling a 1 as P(1):"
   ]
  },
  {
   "cell_type": "code",
   "execution_count": null,
   "id": "70da9748-1a58-495c-b1af-58d8ce53a7e0",
   "metadata": {},
   "outputs": [],
   "source": []
  }
 ],
 "metadata": {
  "kernelspec": {
   "display_name": "R",
   "language": "R",
   "name": "ir"
  },
  "language_info": {
   "codemirror_mode": "r",
   "file_extension": ".r",
   "mimetype": "text/x-r-source",
   "name": "R",
   "pygments_lexer": "r",
   "version": "4.2.1"
  }
 },
 "nbformat": 4,
 "nbformat_minor": 5
}
