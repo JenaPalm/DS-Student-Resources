{
 "cells": [
  {
   "cell_type": "code",
   "execution_count": 1,
   "id": "0d40a562-616a-460b-b692-6b51216839f3",
   "metadata": {},
   "outputs": [
    {
     "ename": "ERROR",
     "evalue": "Error in ggplot(student.mat, aes(x = absences)): object 'student.mat' not found\n",
     "output_type": "error",
     "traceback": [
      "Error in ggplot(student.mat, aes(x = absences)): object 'student.mat' not found\nTraceback:\n",
      "1. ggplot(student.mat, aes(x = absences))"
     ]
    }
   ],
   "source": [
    "# Create a histogram with suitable bin widths for the number of absences each student has\n",
    "library(\"ggplot2\")\n",
    "\n",
    "ggplot(student.mat, aes(x=absences)) + geom_histogram(bins=50) + gg\u0000tle(\"Number of Student Absences\") + xlab(\"Absences\") + ylab(\"Frequency Count\")\n",
    "\n",
    "# Create a boxplot of the number of absences each student has\n",
    "ggplot(student.mat, aes(y=absences)) + geom_boxplot(outlier.color=\"red\") + gg\u0000tle(\"Number of Student Absences\") + xlab(\"Absences\") + ylab(\"Frequency Count\")\n",
    "\n",
    "# Are there outliers? High or low?\n",
    "\n",
    "# Yes there are outliers- they are all high # Create a normal probability plot\n",
    "ggplot(student.mat, aes(sample=absences)) + geom_qq() +\n",
    "gg\u0000tle(\"Number of Student Absences\") + xlab(\"Absences\") + ylab(\"Frequency Count\")\n",
    "\n",
    "# Is the data normally distributed?\n",
    "\n",
    "#No, because a) you can see a good chunk of the line even if you put a fat pencil from the first dot to the last dot # and b) because if you go back and look at the histogram, it doesn't look like the bell curve\n"
   ]
  },
  {
   "cell_type": "code",
   "execution_count": null,
   "id": "fc013ec5-f42c-4d90-b32f-e3aa530f41fe",
   "metadata": {},
   "outputs": [],
   "source": []
  }
 ],
 "metadata": {
  "kernelspec": {
   "display_name": "R",
   "language": "R",
   "name": "ir"
  },
  "language_info": {
   "codemirror_mode": "r",
   "file_extension": ".r",
   "mimetype": "text/x-r-source",
   "name": "R",
   "pygments_lexer": "r",
   "version": "4.2.1"
  }
 },
 "nbformat": 4,
 "nbformat_minor": 5
}
