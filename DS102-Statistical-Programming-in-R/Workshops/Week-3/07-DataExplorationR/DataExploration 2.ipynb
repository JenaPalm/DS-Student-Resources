{
 "cells": [
  {
   "cell_type": "code",
   "execution_count": null,
   "id": "2310e666-92eb-4f15-ad6b-4bb2a0fdc6f1",
   "metadata": {},
   "outputs": [],
   "source": [
    "# Data Exploration\n",
    "library(\"ggplot2\") library(\"dplyr\")\n",
    "#Find the different ar\u0000sts in the dataset - exploring categorical, i.e. factor data levels(top10s$ar\u0000st)\n",
    "#Find all the years in this par\u0000cular dataset unique(top10s$year)\n",
    "head(top10s)\n",
    "tail(top10s)\n",
    "#Boxplot of beats per minute\n",
    "ggplot(top10s, aes(x =ar\u0000st, y=bpm)) + geom_boxplot()\n",
    "#That's way too crazy! Let's filter and only look at a few ar\u0000sts! Choose five!\n",
    "Ladies <- top10s %>% filter(ar\u0000st %in% c(\"Lady Gaga\", \"Rihanna\", \"Alicia Keys\", \"Katy Perry\", \"Britney Spears\")) ggplot(Ladies, aes(x =ar\u0000st, y=bpm)) + geom_boxplot()\n",
    "#How about you graph with ar\u0000st as a color?\n",
    "ggplot(Ladies, aes(x =year, y=bpm, color = ar\u0000st)) + geom_line()\n",
    "#Highest bpm in 2010? 2019?\n",
    "filter(Ladies, year %in% c(2010,2019)) %>% arrange(desc(bpm))\n",
    "#What if you don't wnat all that noise? Well, you can select columns too\n",
    "filter(Ladies, year %in% c(2010,2019)) %>% arrange(desc(bpm)) %>% select(ar\u0000st,year,bpm)\n",
    "#Get the median beats per minute\n",
    "median <- Ladies %>% select(year, bpm) %>% group_by(year) %>% summarise(medBPM = median(bpm))"
   ]
  }
 ],
 "metadata": {
  "kernelspec": {
   "display_name": "R",
   "language": "R",
   "name": "ir"
  },
  "language_info": {
   "codemirror_mode": "r",
   "file_extension": ".r",
   "mimetype": "text/x-r-source",
   "name": "R",
   "pygments_lexer": "r",
   "version": "4.1.1"
  }
 },
 "nbformat": 4,
 "nbformat_minor": 5
}
