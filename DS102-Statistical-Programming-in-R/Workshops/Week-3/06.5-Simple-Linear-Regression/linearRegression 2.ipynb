{
 "cells": [
  {
   "cell_type": "code",
   "execution_count": 2,
   "id": "b0696f34-98a0-4ec4-aceb-cd4d0926dad0",
   "metadata": {},
   "outputs": [
    {
     "ename": "ERROR",
     "evalue": "Error in parse(text = x, srcfile = src): <text>:4:52: unexpected symbol\n3: library(\"ggplot2\")\n4: regressionModel <- lm(Assault~UrbanPop, USArrests) summary\n                                                      ^\n",
     "output_type": "error",
     "traceback": [
      "Error in parse(text = x, srcfile = src): <text>:4:52: unexpected symbol\n3: library(\"ggplot2\")\n4: regressionModel <- lm(Assault~UrbanPop, USArrests) summary\n                                                      ^\nTraceback:\n"
     ]
    }
   ],
   "source": [
    "data(\"USArrests\")\n",
    "\n",
    "library(\"ggplot2\")\n",
    "\n",
    "regressionModel <- lm(Assault~UrbanPop, USArrests) summary(regressionModel)\n",
    "d <- ggplot(USArrests, aes(x = UrbanPop, y = Assault))\n",
    "d + geom_point() + geom_smooth(method=lm, se=FALSE)"
   ]
  },
  {
   "cell_type": "code",
   "execution_count": null,
   "id": "f13b2c9c-897d-455f-a21e-b654512d9932",
   "metadata": {},
   "outputs": [],
   "source": []
  }
 ],
 "metadata": {
  "kernelspec": {
   "display_name": "R",
   "language": "R",
   "name": "ir"
  },
  "language_info": {
   "codemirror_mode": "r",
   "file_extension": ".r",
   "mimetype": "text/x-r-source",
   "name": "R",
   "pygments_lexer": "r",
   "version": "4.1.1"
  }
 },
 "nbformat": 4,
 "nbformat_minor": 5
}
