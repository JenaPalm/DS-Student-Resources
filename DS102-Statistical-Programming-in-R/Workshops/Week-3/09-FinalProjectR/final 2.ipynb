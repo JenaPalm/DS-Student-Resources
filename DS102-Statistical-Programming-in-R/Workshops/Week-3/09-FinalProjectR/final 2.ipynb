{
 "cells": [
  {
   "cell_type": "code",
   "execution_count": null,
   "id": "80d4660e-4bb5-4dcb-9425-7b325f9fc6ae",
   "metadata": {},
   "outputs": [],
   "source": [
    "# Loading in Libraries\n",
    "library(\"ggplot2\") library(\"dplyr\")\n",
    "# Create a boxplot of the energy ra\u0000ng by genre\n",
    "ggplot(top10s, aes(x = top.genre, y = nrgy)) + geom_boxplot()\n",
    "# Which genres have the highest energy ra\u0000ngs, and which have the lowest?\n",
    "top10s %>% group_by(top.genre) %>% summarise(Mean = mean(nrgy)) %>% arrange(Mean)\n",
    "#Alaska Indie is the slowest.\n",
    "top10s %>% group_by(top.genre) %>% summarise(Mean = mean(nrgy)) %>% arrange(desc(Mean))\n",
    "#French Indie pop is the fastest.\n",
    "#Find the median energy ra\u0000ng for all the genres for each year.\n",
    "MedianDF <- top10s %>% group_by(year) %>% summarise(Median = median(nrgy))\n",
    "#Plot this median value for the years 2010-2019\n",
    "ggplot(MedianDF, aes(x=year, y=Median)) + geom_point()\n",
    "#Create a sca\u0000er plot of energy level versus danceability for all genres and all years.\n",
    "ggplot(top10s, aes(x=nrgy, y=dnce)) + geom_point() + geom_smooth(method=lm)\n",
    "# Is the energy level and danceability correlated?\n",
    "cor.test(top10s$nrgy, top10s$dnce, method=\"pearson\", use=\"complete.obs\")\n",
    "#It looks like the higher the energy, the more it's danceable. This looks significantly but slightly correlated, r=.17, p < .05.\n",
    "#Change the sca\u0000er plot to show the points for each year in a different color.\n",
    "ggplot(top10s, aes(x=nrgy, y=dnce, color=year)) + geom_point() + geom_smooth(method=lm) #Does the rela\u0000onship between the two variables change over \u0000me?\n",
    "# No, it does not seem to.\n",
    "# Do a linear regression for those two variables.\n",
    "regression <- lm(dnce ~ nrgy, top10s) summary(regression)\n",
    "# How much variability does the line explain? #It explains 3% of the variability.\n",
    "# The dura\u0000on of the song is in seconds, which is hard for people to understand! Convert it to minutes and then graph it to see how the number of minutes is related to the amount of speech in the song.\n",
    "DurMin <- top10s %>% mutate(Minutes = dur / 60)\n",
    "ggplot(DurMin, aes(x=Minutes, y=spch)) + geom_point()\n",
    "# Create a data frame with just the rows from 2010.\n",
    "Songs2010 <- top10s %>% filter(year == 2010) Songs2010Subset <- Songs2010[1:31,]\n",
    "# Create a second data frame with just the rows from 2019\n",
    "Songs2019 <- top10s %>% filter(year == 2019)\n",
    "#Use a paired t-test to see if the amount of speech has changed over \u0000me.\n",
    "t.obj <- t.test(Songs2010Subset$spch, Songs2019$spch, paired=TRUE) t.obj"
   ]
  }
 ],
 "metadata": {
  "kernelspec": {
   "display_name": "R",
   "language": "R",
   "name": "ir"
  },
  "language_info": {
   "codemirror_mode": "r",
   "file_extension": ".r",
   "mimetype": "text/x-r-source",
   "name": "R",
   "pygments_lexer": "r",
   "version": "4.1.1"
  }
 },
 "nbformat": 4,
 "nbformat_minor": 5
}
