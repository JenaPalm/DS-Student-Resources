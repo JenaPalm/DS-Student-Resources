{
 "cells": [
  {
   "cell_type": "code",
   "execution_count": 19,
   "id": "bc32f642-bcd1-4b7d-bd3b-b6559b695916",
   "metadata": {},
   "outputs": [],
   "source": [
    "# save any warnings\n",
    "options(warn=1)"
   ]
  },
  {
   "cell_type": "code",
   "execution_count": 20,
   "id": "151fb893-ec49-4f9a-a264-3deb53addb5b",
   "metadata": {},
   "outputs": [
    {
     "name": "stderr",
     "output_type": "stream",
     "text": [
      "Warning message in sqrt(x):\n",
      "“NaNs produced”\n",
      "Warning message in eval(expr, envir, enclos):\n",
      "“srx contains NaNs!”\n"
     ]
    }
   ],
   "source": [
    "# generate warnings\n",
    "x <- seq(-5,5)  # positive and negative numbers\n",
    "srx <- sqrt(x)\n",
    "if (any(is.nan(srx))) warning(\"srx contains NaNs!\")"
   ]
  },
  {
   "cell_type": "code",
   "execution_count": 21,
   "id": "196f200c-1f93-4cb8-9e8e-6c34a1d8ba6f",
   "metadata": {},
   "outputs": [],
   "source": [
    "# print saved warnings\n",
    "warnings()"
   ]
  },
  {
   "cell_type": "code",
   "execution_count": 15,
   "id": "c6c8ed99-0da0-4509-b001-0c8410ddfa8f",
   "metadata": {},
   "outputs": [
    {
     "ename": "ERROR",
     "evalue": "Error in eval(expr, envir, enclos): The matrix M is not symmetric!\n",
     "output_type": "error",
     "traceback": [
      "Error in eval(expr, envir, enclos): The matrix M is not symmetric!\nTraceback:\n",
      "1. stop(\"The matrix M is not symmetric!\")   # at line 4 of file <text>"
     ]
    }
   ],
   "source": [
    "# generate error\n",
    "M <- matrix(1:4, nrow=2)\n",
    "if (!isSymmetric(M)) {\n",
    "    stop(\"The matrix M is not symmetric!\")\n",
    "}"
   ]
  },
  {
   "cell_type": "code",
   "execution_count": 16,
   "id": "92c81d10-ab64-40b2-995c-c0ff7fec95ca",
   "metadata": {},
   "outputs": [
    {
     "data": {
      "text/html": [
       "'Error in eval(expr, envir, enclos) : \\n'"
      ],
      "text/latex": [
       "'Error in eval(expr, envir, enclos) : \\textbackslash{}n'"
      ],
      "text/markdown": [
       "'Error in eval(expr, envir, enclos) : \\n'"
      ],
      "text/plain": [
       "[1] \"Error in eval(expr, envir, enclos) : \\n\""
      ]
     },
     "metadata": {},
     "output_type": "display_data"
    }
   ],
   "source": [
    "# get last error message\n",
    "geterrmessage()"
   ]
  },
  {
   "cell_type": "code",
   "execution_count": null,
   "id": "1047278b-5d60-4427-96c9-32de191839c3",
   "metadata": {},
   "outputs": [],
   "source": []
  }
 ],
 "metadata": {
  "kernelspec": {
   "display_name": "R",
   "language": "R",
   "name": "ir"
  },
  "language_info": {
   "codemirror_mode": "r",
   "file_extension": ".r",
   "mimetype": "text/x-r-source",
   "name": "R",
   "pygments_lexer": "r",
   "version": "4.2.1"
  }
 },
 "nbformat": 4,
 "nbformat_minor": 5
}
