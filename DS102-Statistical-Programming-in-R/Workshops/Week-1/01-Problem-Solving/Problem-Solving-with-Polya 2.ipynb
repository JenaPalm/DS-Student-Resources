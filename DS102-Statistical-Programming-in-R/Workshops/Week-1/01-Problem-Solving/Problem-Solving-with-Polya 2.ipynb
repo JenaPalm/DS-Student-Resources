{
 "cells": [
  {
   "cell_type": "markdown",
   "id": "83f92aae-3b49-428e-8488-66417f695656",
   "metadata": {},
   "source": [
    "_Mathematics \"in statu nascendi\" means in the process of being invented_ ~ [_G. Polya_](https://en.wikipedia.org/wiki/George_P%C3%B3lya)\n",
    "\n",
    "Read [_\"How to Solve it\" ~ G. Polya_](https://www.amazon.com/How-Solve-Aspect-Mathematical-Method-dp-B00948TS9S/dp/B00948TS9S/ref=mt_other?_encoding=UTF8&me=&qid=1635181756)"
   ]
  },
  {
   "cell_type": "markdown",
   "id": "0649bac6-3ba9-49df-a96c-6236e7516d03",
   "metadata": {},
   "source": [
    "\n",
    "\n",
    "\n",
    "## UNDERSTANDING THE PROBLEM\n",
    "1. what is the unknown?\n",
    "2. what are the data?\n",
    "3. what is the condition?\n",
    "4. Is it possible to satisfy the condition?\n",
    "5. Is the condition sufficient to determine the unknown?\n",
    "6. Or is it insufficient?\n",
    "7. Or is it redundant?\n",
    "8. Or contradictory\n",
    "9. Draw a figure\n",
    "10. Introduce suitable notation\n",
    "11. Separate various parts of the condition. \n",
    "12. Can you write them down\n",
    "\n",
    "## DEVISING A PLAN\n",
    "1. Have you seen it before?\n",
    "2. Or have you seen the same problem in a slightly different form?\n",
    "3. Do you know a related problem?\n",
    "4. Do you know a theorem that could be useful?\n",
    "5. Look at the unknown! And try to think of a familiar problem having the same or similar unknown.\n",
    "6. Here is a probelm related to yours and solved before. Could you use it?\n",
    "7. Could you use the result? Could you use its methods? Should you introduce some auxiliary element in order to make its use possible?\n",
    "8. Could you restate the problem? Could you restate it still differently?\n",
    "9. Go back to definitions.\n",
    "10. If you cannot solve the proposed problem try to solve first some related problem. Could you imagine a more accessible related problem? A more general problem? A more special problem? An analogous problem? Could you solve part of the problem? Keep only a part of the condition, drop the other part; how far is the unknown then determined, how can it vary? Could you derive something useful from the data? Could you think of other data appropriate to determine the unknown? Could you change the unknwn or the data, or both if necessary, so that the new unknown and the new data are nearer to each other? Did you use all the data? Did you use the whole condition? Have you taken into account all essential notions involved in the problem?\n",
    "\n",
    "## CARRYING OUT THE PLAN\n",
    "1. Carrying out your plan of the solution, check each step. Can you see clearly that the step is correct? Can you prove that it is correct?\n",
    "\n",
    "## LOOKING BACK\n",
    "1. Can you check the result? Can you check the argument?\n",
    "2. Can you derive the result differently? Can you see it at a glance?\n",
    "3. Can you use the result, or the method, for some other problem?\n"
   ]
  },
  {
   "cell_type": "code",
   "execution_count": null,
   "id": "ea9ad5bb-c79c-4c66-a63a-f85af7478e63",
   "metadata": {},
   "outputs": [],
   "source": []
  }
 ],
 "metadata": {
  "kernelspec": {
   "display_name": "R",
   "language": "R",
   "name": "ir"
  },
  "language_info": {
   "codemirror_mode": "r",
   "file_extension": ".r",
   "mimetype": "text/x-r-source",
   "name": "R",
   "pygments_lexer": "r",
   "version": "4.1.1"
  }
 },
 "nbformat": 4,
 "nbformat_minor": 5
}
