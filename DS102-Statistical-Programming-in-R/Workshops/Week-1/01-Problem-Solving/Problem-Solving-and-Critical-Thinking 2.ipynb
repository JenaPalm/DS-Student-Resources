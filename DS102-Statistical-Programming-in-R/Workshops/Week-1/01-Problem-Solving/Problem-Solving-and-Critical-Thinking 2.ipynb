{
 "cells": [
  {
   "cell_type": "markdown",
   "id": "ad79936b-fd94-4412-abf2-031fcb4efe50",
   "metadata": {},
   "source": [
    "# Problem Solving and Critical Thinking"
   ]
  },
  {
   "cell_type": "markdown",
   "id": "4264fab0-d6c9-4ed7-9f8e-c043a636d945",
   "metadata": {},
   "source": [
    "## Steps to Problem Solving\n",
    "\n",
    "1. Define the problem\n",
    "2. Set a goal – what do you want to achieve by solving the problem?\n",
    "3. Brainstorm possible solutions\n",
    "4. Rule out any bad options\n",
    "5. Evaluate pros and cons of options\n",
    "6. Identify and choose the best solution\n",
    "7. Use your solution\n",
    "8. Evaluate your solution"
   ]
  },
  {
   "cell_type": "markdown",
   "id": "a957a37c-c86d-40d3-a085-57aa5de65cda",
   "metadata": {},
   "source": [
    "## Question Everything\n",
    "\n",
    "1. What information about this problem do you alreadyhave?\n",
    "2. How do you know the above information?\n",
    "3. What is your goal and what are you trying to discover, prove, disprove, support or criticize?\n",
    "4. What might you be overlooking?\n",
    "5. Write down / say out loud the answers\n",
    "6. Use someone else as a sounding board"
   ]
  },
  {
   "cell_type": "markdown",
   "id": "43d30d3a-54e6-4a56-adbb-a853a2421f32",
   "metadata": {},
   "source": [
    "## Summarize, think it through and cycle on\n",
    "\n",
    "1. What do I have?\n",
    "2. What do I need?\n",
    "3. How do I get there?\n",
    "4. How can I make the solution more elegant and efficient?"
   ]
  },
  {
   "cell_type": "markdown",
   "id": "397869da-da49-4683-a454-7571bb36dac8",
   "metadata": {},
   "source": [
    "## Problem Solving in Data Science\n",
    "\n",
    "Code for Success\n",
    "\n",
    "1. Do the smallest, simplest piece you can at a time\n",
    "2. Check to ensure your code worked\n",
    "3. Add another piece\n",
    "4. This lets you pinpoint what went wrong\n",
    "\n",
    "For instance one line of code per notebook cell to ensure each line works. ;)"
   ]
  },
  {
   "cell_type": "markdown",
   "id": "b98df8a9-dffd-4bb1-afcf-b87e9a64d416",
   "metadata": {},
   "source": [
    "## Organize your Code\n",
    "\n",
    "1. Make notes/comments so you know what each step is doing\n",
    "2. Break your work up into sections\n",
    "3. Import packages/libraries\n",
    "4. Data import\n",
    "5. Wrangling\n",
    "6. Analysis, visualization\n",
    "7. Code linearly – everything from start to finish should go in order\n",
    "8. Remove code attempts that didn’t work\n",
    "9. Save code by module, lesson, and topic"
   ]
  },
  {
   "cell_type": "code",
   "execution_count": null,
   "id": "b67af954-bed2-4293-8232-901debc18cc6",
   "metadata": {},
   "outputs": [],
   "source": []
  }
 ],
 "metadata": {
  "kernelspec": {
   "display_name": "R",
   "language": "R",
   "name": "ir"
  },
  "language_info": {
   "codemirror_mode": "r",
   "file_extension": ".r",
   "mimetype": "text/x-r-source",
   "name": "R",
   "pygments_lexer": "r",
   "version": "4.2.0"
  }
 },
 "nbformat": 4,
 "nbformat_minor": 5
}
