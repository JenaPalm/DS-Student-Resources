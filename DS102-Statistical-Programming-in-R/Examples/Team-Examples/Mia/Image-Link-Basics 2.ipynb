{
 "cells": [
  {
   "cell_type": "markdown",
   "id": "f93220e1-ce21-4c42-95da-d3347ce65d8a",
   "metadata": {},
   "source": [
    "<p style=\"text-align: left\">\n",
    "  <img  src=\"../../../Media/Plant.png\" width=\"600\" alt=\"Plant\">\n",
    "</p>"
   ]
  },
  {
   "cell_type": "markdown",
   "id": "244859cb-daba-4a9f-b176-a714be79cf5e",
   "metadata": {},
   "source": [
    "<p style=\"text-align: left\">\n",
    "  <img  src=\"../../../Media/Plant1.jpeg\" width=\"600\" alt=\"Plant1\">\n",
    "</p>"
   ]
  },
  {
   "cell_type": "markdown",
   "id": "986ebdac-b3fa-44ea-83f1-6a15c94be511",
   "metadata": {},
   "source": [
    "<p style=\"text-align: left\">\n",
    "  <img  src=\"../../../Media/PlantImage.png\" width=\"600\" alt=\"PlantImage\">\n",
    "</p>"
   ]
  },
  {
   "cell_type": "code",
   "execution_count": null,
   "id": "eef3ce94-c56f-4918-8770-51ca7201f675",
   "metadata": {},
   "outputs": [],
   "source": []
  }
 ],
 "metadata": {
  "kernelspec": {
   "display_name": "R",
   "language": "R",
   "name": "ir"
  },
  "language_info": {
   "codemirror_mode": "r",
   "file_extension": ".r",
   "mimetype": "text/x-r-source",
   "name": "R",
   "pygments_lexer": "r",
   "version": "4.2.0"
  }
 },
 "nbformat": 4,
 "nbformat_minor": 5
}
