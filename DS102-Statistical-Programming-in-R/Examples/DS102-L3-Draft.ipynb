{
 "cells": [
  {
   "cell_type": "markdown",
   "id": "534529cd-1822-4b2c-baac-8fbd190d972b",
   "metadata": {},
   "source": [
    "# DS102 - Lesson 3 "
   ]
  },
  {
   "cell_type": "markdown",
   "id": "7d5e9633-b68f-4ec5-a5d7-4e00b51b0c82",
   "metadata": {},
   "source": [
    "Create a function called diam() that computes the diameter of the sphere from its argument. Create a for loop that will use your diam() function to compute the diameters of spheres with the following weights in grams: 0.96, 1.51, 2.17, 3.85, 4.45, and 6.02."
   ]
  },
  {
   "cell_type": "markdown",
   "id": "83fd581e-a5a0-4821-9242-cdef078d16b0",
   "metadata": {},
   "source": [
    "---\n",
    "![d equals two divided by two point five four open parentheses w divided by zero point nine two times four thirds times pi close parentheses to one third power.](Media/diam-formula.png)\n",
    "\n",
    "---"
   ]
  },
  {
   "cell_type": "code",
   "execution_count": null,
   "id": "c6c7fbfd-8299-4c1a-ab8a-d47ebbb71422",
   "metadata": {},
   "outputs": [],
   "source": []
  }
 ],
 "metadata": {
  "kernelspec": {
   "display_name": "R",
   "language": "R",
   "name": "ir"
  },
  "language_info": {
   "codemirror_mode": "r",
   "file_extension": ".r",
   "mimetype": "text/x-r-source",
   "name": "R",
   "pygments_lexer": "r",
   "version": "4.2.2"
  }
 },
 "nbformat": 4,
 "nbformat_minor": 5
}
