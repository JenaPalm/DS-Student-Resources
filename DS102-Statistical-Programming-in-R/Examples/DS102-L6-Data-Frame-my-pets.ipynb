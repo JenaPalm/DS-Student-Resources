{
 "cells": [
  {
   "cell_type": "code",
   "execution_count": 2,
   "id": "b38040d1-8562-4b8c-88e7-9dd102b799bc",
   "metadata": {},
   "outputs": [
    {
     "name": "stdout",
     "output_type": "stream",
     "text": [
      "\n",
      "The downloaded binary packages are in\n",
      "\t/var/folders/wk/6why77bn1kn0l0pkd4vd3zl00000gn/T//RtmpyxU0hk/downloaded_packages\n",
      "\n",
      "The downloaded binary packages are in\n",
      "\t/var/folders/wk/6why77bn1kn0l0pkd4vd3zl00000gn/T//RtmpyxU0hk/downloaded_packages\n"
     ]
    }
   ],
   "source": [
    "# Install packages\n",
    "install.packages(\"readxl\")\n",
    "install.packages(\"tidyverse\")"
   ]
  },
  {
   "cell_type": "code",
   "execution_count": 3,
   "id": "aabb010b-bf15-4a57-a41f-95ae05b047bc",
   "metadata": {},
   "outputs": [
    {
     "name": "stderr",
     "output_type": "stream",
     "text": [
      "── \u001b[1mAttaching packages\u001b[22m ─────────────────────────────────────────── tidyverse 1.3.1 ──\n",
      "\n",
      "\u001b[32m✔\u001b[39m \u001b[34mggplot2\u001b[39m 3.3.5     \u001b[32m✔\u001b[39m \u001b[34mpurrr  \u001b[39m 0.3.4\n",
      "\u001b[32m✔\u001b[39m \u001b[34mtibble \u001b[39m 3.1.6     \u001b[32m✔\u001b[39m \u001b[34mdplyr  \u001b[39m 1.0.7\n",
      "\u001b[32m✔\u001b[39m \u001b[34mtidyr  \u001b[39m 1.1.4     \u001b[32m✔\u001b[39m \u001b[34mstringr\u001b[39m 1.4.0\n",
      "\u001b[32m✔\u001b[39m \u001b[34mreadr  \u001b[39m 2.1.0     \u001b[32m✔\u001b[39m \u001b[34mforcats\u001b[39m 0.5.1\n",
      "\n",
      "── \u001b[1mConflicts\u001b[22m ────────────────────────────────────────────── tidyverse_conflicts() ──\n",
      "\u001b[31m✖\u001b[39m \u001b[34mdplyr\u001b[39m::\u001b[32mfilter()\u001b[39m masks \u001b[34mstats\u001b[39m::filter()\n",
      "\u001b[31m✖\u001b[39m \u001b[34mdplyr\u001b[39m::\u001b[32mlag()\u001b[39m    masks \u001b[34mstats\u001b[39m::lag()\n",
      "\n"
     ]
    }
   ],
   "source": [
    "#use the packages\n",
    "library(readxl)\n",
    "library(tidyverse)"
   ]
  },
  {
   "cell_type": "code",
   "execution_count": 4,
   "id": "77fe838d-cee6-4913-9c94-b75e2c3d5425",
   "metadata": {},
   "outputs": [],
   "source": [
    "# load the csv data and create your dataframe\n",
    "my_pets <- read.csv(\"../Data/Pets.csv\")"
   ]
  },
  {
   "cell_type": "code",
   "execution_count": 6,
   "id": "146fe54d-145b-46e2-a56d-a4ff7a5cfa9c",
   "metadata": {},
   "outputs": [
    {
     "data": {
      "text/html": [
       "<table class=\"dataframe\">\n",
       "<caption>A data.frame: 6 × 4</caption>\n",
       "<thead>\n",
       "\t<tr><th></th><th scope=col>Name</th><th scope=col>Animal</th><th scope=col>Age</th><th scope=col>Weight</th></tr>\n",
       "\t<tr><th></th><th scope=col>&lt;chr&gt;</th><th scope=col>&lt;chr&gt;</th><th scope=col>&lt;int&gt;</th><th scope=col>&lt;dbl&gt;</th></tr>\n",
       "</thead>\n",
       "<tbody>\n",
       "\t<tr><th scope=row>1</th><td>Bruno  </td><td>Goat      </td><td> 4</td><td>35.00</td></tr>\n",
       "\t<tr><th scope=row>2</th><td>Jacko  </td><td>Goat      </td><td> 1</td><td>45.00</td></tr>\n",
       "\t<tr><th scope=row>3</th><td>Sophie </td><td>Cat       </td><td>12</td><td> 3.50</td></tr>\n",
       "\t<tr><th scope=row>4</th><td>Patches</td><td>Guinea Pig</td><td> 2</td><td> 2.00</td></tr>\n",
       "\t<tr><th scope=row>5</th><td>Boozer </td><td>Gold Fish </td><td> 3</td><td> 0.04</td></tr>\n",
       "\t<tr><th scope=row>6</th><td>Boozer </td><td>Gold Fish </td><td> 2</td><td> 0.03</td></tr>\n",
       "</tbody>\n",
       "</table>\n"
      ],
      "text/latex": [
       "A data.frame: 6 × 4\n",
       "\\begin{tabular}{r|llll}\n",
       "  & Name & Animal & Age & Weight\\\\\n",
       "  & <chr> & <chr> & <int> & <dbl>\\\\\n",
       "\\hline\n",
       "\t1 & Bruno   & Goat       &  4 & 35.00\\\\\n",
       "\t2 & Jacko   & Goat       &  1 & 45.00\\\\\n",
       "\t3 & Sophie  & Cat        & 12 &  3.50\\\\\n",
       "\t4 & Patches & Guinea Pig &  2 &  2.00\\\\\n",
       "\t5 & Boozer  & Gold Fish  &  3 &  0.04\\\\\n",
       "\t6 & Boozer  & Gold Fish  &  2 &  0.03\\\\\n",
       "\\end{tabular}\n"
      ],
      "text/markdown": [
       "\n",
       "A data.frame: 6 × 4\n",
       "\n",
       "| <!--/--> | Name &lt;chr&gt; | Animal &lt;chr&gt; | Age &lt;int&gt; | Weight &lt;dbl&gt; |\n",
       "|---|---|---|---|---|\n",
       "| 1 | Bruno   | Goat       |  4 | 35.00 |\n",
       "| 2 | Jacko   | Goat       |  1 | 45.00 |\n",
       "| 3 | Sophie  | Cat        | 12 |  3.50 |\n",
       "| 4 | Patches | Guinea Pig |  2 |  2.00 |\n",
       "| 5 | Boozer  | Gold Fish  |  3 |  0.04 |\n",
       "| 6 | Boozer  | Gold Fish  |  2 |  0.03 |\n",
       "\n"
      ],
      "text/plain": [
       "  Name    Animal     Age Weight\n",
       "1 Bruno   Goat        4  35.00 \n",
       "2 Jacko   Goat        1  45.00 \n",
       "3 Sophie  Cat        12   3.50 \n",
       "4 Patches Guinea Pig  2   2.00 \n",
       "5 Boozer  Gold Fish   3   0.04 \n",
       "6 Boozer  Gold Fish   2   0.03 "
      ]
     },
     "metadata": {},
     "output_type": "display_data"
    }
   ],
   "source": [
    "head(my_pets)"
   ]
  },
  {
   "cell_type": "code",
   "execution_count": 5,
   "id": "c56ea0ae-3821-4ee3-b932-1109f42e0c87",
   "metadata": {},
   "outputs": [],
   "source": [
    "# load the xlsx data and create your dataframe\n",
    "my_petsExcel <- read_excel(\"../Data/Pets.xlsx\")"
   ]
  },
  {
   "cell_type": "code",
   "execution_count": 7,
   "id": "48186f11-4bff-4397-a93c-586e958f15c2",
   "metadata": {},
   "outputs": [
    {
     "data": {
      "text/html": [
       "<table class=\"dataframe\">\n",
       "<caption>A tibble: 6 × 4</caption>\n",
       "<thead>\n",
       "\t<tr><th scope=col>Name</th><th scope=col>Animal</th><th scope=col>Age</th><th scope=col>Weight</th></tr>\n",
       "\t<tr><th scope=col>&lt;chr&gt;</th><th scope=col>&lt;chr&gt;</th><th scope=col>&lt;dbl&gt;</th><th scope=col>&lt;dbl&gt;</th></tr>\n",
       "</thead>\n",
       "<tbody>\n",
       "\t<tr><td>Bruno  </td><td>Goat      </td><td> 4</td><td>35.00</td></tr>\n",
       "\t<tr><td>Jacko  </td><td>Goat      </td><td> 1</td><td>45.00</td></tr>\n",
       "\t<tr><td>Sophie </td><td>Cat       </td><td>12</td><td> 3.50</td></tr>\n",
       "\t<tr><td>Patches</td><td>Guinea Pig</td><td> 2</td><td> 2.00</td></tr>\n",
       "\t<tr><td>Boozer </td><td>Gold Fish </td><td> 3</td><td> 0.04</td></tr>\n",
       "\t<tr><td>Boozer </td><td>Gold Fish </td><td> 2</td><td> 0.03</td></tr>\n",
       "</tbody>\n",
       "</table>\n"
      ],
      "text/latex": [
       "A tibble: 6 × 4\n",
       "\\begin{tabular}{llll}\n",
       " Name & Animal & Age & Weight\\\\\n",
       " <chr> & <chr> & <dbl> & <dbl>\\\\\n",
       "\\hline\n",
       "\t Bruno   & Goat       &  4 & 35.00\\\\\n",
       "\t Jacko   & Goat       &  1 & 45.00\\\\\n",
       "\t Sophie  & Cat        & 12 &  3.50\\\\\n",
       "\t Patches & Guinea Pig &  2 &  2.00\\\\\n",
       "\t Boozer  & Gold Fish  &  3 &  0.04\\\\\n",
       "\t Boozer  & Gold Fish  &  2 &  0.03\\\\\n",
       "\\end{tabular}\n"
      ],
      "text/markdown": [
       "\n",
       "A tibble: 6 × 4\n",
       "\n",
       "| Name &lt;chr&gt; | Animal &lt;chr&gt; | Age &lt;dbl&gt; | Weight &lt;dbl&gt; |\n",
       "|---|---|---|---|\n",
       "| Bruno   | Goat       |  4 | 35.00 |\n",
       "| Jacko   | Goat       |  1 | 45.00 |\n",
       "| Sophie  | Cat        | 12 |  3.50 |\n",
       "| Patches | Guinea Pig |  2 |  2.00 |\n",
       "| Boozer  | Gold Fish  |  3 |  0.04 |\n",
       "| Boozer  | Gold Fish  |  2 |  0.03 |\n",
       "\n"
      ],
      "text/plain": [
       "  Name    Animal     Age Weight\n",
       "1 Bruno   Goat        4  35.00 \n",
       "2 Jacko   Goat        1  45.00 \n",
       "3 Sophie  Cat        12   3.50 \n",
       "4 Patches Guinea Pig  2   2.00 \n",
       "5 Boozer  Gold Fish   3   0.04 \n",
       "6 Boozer  Gold Fish   2   0.03 "
      ]
     },
     "metadata": {},
     "output_type": "display_data"
    }
   ],
   "source": [
    "head(my_petsExcel)"
   ]
  },
  {
   "cell_type": "code",
   "execution_count": 8,
   "id": "431fd73a-0558-4cb6-991a-7b69d5ad02bb",
   "metadata": {},
   "outputs": [
    {
     "data": {
      "text/html": [
       "<table class=\"dataframe\">\n",
       "<caption>A data.frame: 2 × 4</caption>\n",
       "<thead>\n",
       "\t<tr><th scope=col>Name</th><th scope=col>Animal</th><th scope=col>Age</th><th scope=col>Weight</th></tr>\n",
       "\t<tr><th scope=col>&lt;chr&gt;</th><th scope=col>&lt;chr&gt;</th><th scope=col>&lt;int&gt;</th><th scope=col>&lt;dbl&gt;</th></tr>\n",
       "</thead>\n",
       "<tbody>\n",
       "\t<tr><td>Bruno</td><td>Goat</td><td>4</td><td>35</td></tr>\n",
       "\t<tr><td>Jacko</td><td>Goat</td><td>1</td><td>45</td></tr>\n",
       "</tbody>\n",
       "</table>\n"
      ],
      "text/latex": [
       "A data.frame: 2 × 4\n",
       "\\begin{tabular}{llll}\n",
       " Name & Animal & Age & Weight\\\\\n",
       " <chr> & <chr> & <int> & <dbl>\\\\\n",
       "\\hline\n",
       "\t Bruno & Goat & 4 & 35\\\\\n",
       "\t Jacko & Goat & 1 & 45\\\\\n",
       "\\end{tabular}\n"
      ],
      "text/markdown": [
       "\n",
       "A data.frame: 2 × 4\n",
       "\n",
       "| Name &lt;chr&gt; | Animal &lt;chr&gt; | Age &lt;int&gt; | Weight &lt;dbl&gt; |\n",
       "|---|---|---|---|\n",
       "| Bruno | Goat | 4 | 35 |\n",
       "| Jacko | Goat | 1 | 45 |\n",
       "\n"
      ],
      "text/plain": [
       "  Name  Animal Age Weight\n",
       "1 Bruno Goat   4   35    \n",
       "2 Jacko Goat   1   45    "
      ]
     },
     "metadata": {},
     "output_type": "display_data"
    }
   ],
   "source": [
    "# Suppose you wish to get all observations (rows) that contain goats. \n",
    "# You can do this with the following filter() function:\n",
    "\n",
    "filter(my_pets, Animal == \"Goat\")\n"
   ]
  },
  {
   "cell_type": "code",
   "execution_count": 9,
   "id": "7916a8a6-0424-4f08-a5a2-577e8befc7bd",
   "metadata": {},
   "outputs": [
    {
     "data": {
      "text/html": [
       "<table class=\"dataframe\">\n",
       "<caption>A data.frame: 1 × 4</caption>\n",
       "<thead>\n",
       "\t<tr><th scope=col>Name</th><th scope=col>Animal</th><th scope=col>Age</th><th scope=col>Weight</th></tr>\n",
       "\t<tr><th scope=col>&lt;chr&gt;</th><th scope=col>&lt;chr&gt;</th><th scope=col>&lt;int&gt;</th><th scope=col>&lt;dbl&gt;</th></tr>\n",
       "</thead>\n",
       "<tbody>\n",
       "\t<tr><td>Jacko</td><td>Goat</td><td>1</td><td>45</td></tr>\n",
       "</tbody>\n",
       "</table>\n"
      ],
      "text/latex": [
       "A data.frame: 1 × 4\n",
       "\\begin{tabular}{llll}\n",
       " Name & Animal & Age & Weight\\\\\n",
       " <chr> & <chr> & <int> & <dbl>\\\\\n",
       "\\hline\n",
       "\t Jacko & Goat & 1 & 45\\\\\n",
       "\\end{tabular}\n"
      ],
      "text/markdown": [
       "\n",
       "A data.frame: 1 × 4\n",
       "\n",
       "| Name &lt;chr&gt; | Animal &lt;chr&gt; | Age &lt;int&gt; | Weight &lt;dbl&gt; |\n",
       "|---|---|---|---|\n",
       "| Jacko | Goat | 1 | 45 |\n",
       "\n"
      ],
      "text/plain": [
       "  Name  Animal Age Weight\n",
       "1 Jacko Goat   1   45    "
      ]
     },
     "metadata": {},
     "output_type": "display_data"
    }
   ],
   "source": [
    "filter(my_pets, Animal == \"Goat\", Age <= 2)"
   ]
  },
  {
   "cell_type": "code",
   "execution_count": 10,
   "id": "e7a1519f-bae9-4bb6-931d-ea3798835385",
   "metadata": {},
   "outputs": [
    {
     "data": {
      "text/html": [
       "<table class=\"dataframe\">\n",
       "<caption>A data.frame: 4 × 4</caption>\n",
       "<thead>\n",
       "\t<tr><th scope=col>Name</th><th scope=col>Animal</th><th scope=col>Age</th><th scope=col>Weight</th></tr>\n",
       "\t<tr><th scope=col>&lt;chr&gt;</th><th scope=col>&lt;chr&gt;</th><th scope=col>&lt;int&gt;</th><th scope=col>&lt;dbl&gt;</th></tr>\n",
       "</thead>\n",
       "<tbody>\n",
       "\t<tr><td>Bruno  </td><td>Goat      </td><td> 4</td><td>35.0</td></tr>\n",
       "\t<tr><td>Jacko  </td><td>Goat      </td><td> 1</td><td>45.0</td></tr>\n",
       "\t<tr><td>Sophie </td><td>Cat       </td><td>12</td><td> 3.5</td></tr>\n",
       "\t<tr><td>Patches</td><td>Guinea Pig</td><td> 2</td><td> 2.0</td></tr>\n",
       "</tbody>\n",
       "</table>\n"
      ],
      "text/latex": [
       "A data.frame: 4 × 4\n",
       "\\begin{tabular}{llll}\n",
       " Name & Animal & Age & Weight\\\\\n",
       " <chr> & <chr> & <int> & <dbl>\\\\\n",
       "\\hline\n",
       "\t Bruno   & Goat       &  4 & 35.0\\\\\n",
       "\t Jacko   & Goat       &  1 & 45.0\\\\\n",
       "\t Sophie  & Cat        & 12 &  3.5\\\\\n",
       "\t Patches & Guinea Pig &  2 &  2.0\\\\\n",
       "\\end{tabular}\n"
      ],
      "text/markdown": [
       "\n",
       "A data.frame: 4 × 4\n",
       "\n",
       "| Name &lt;chr&gt; | Animal &lt;chr&gt; | Age &lt;int&gt; | Weight &lt;dbl&gt; |\n",
       "|---|---|---|---|\n",
       "| Bruno   | Goat       |  4 | 35.0 |\n",
       "| Jacko   | Goat       |  1 | 45.0 |\n",
       "| Sophie  | Cat        | 12 |  3.5 |\n",
       "| Patches | Guinea Pig |  2 |  2.0 |\n",
       "\n"
      ],
      "text/plain": [
       "  Name    Animal     Age Weight\n",
       "1 Bruno   Goat        4  35.0  \n",
       "2 Jacko   Goat        1  45.0  \n",
       "3 Sophie  Cat        12   3.5  \n",
       "4 Patches Guinea Pig  2   2.0  "
      ]
     },
     "metadata": {},
     "output_type": "display_data"
    }
   ],
   "source": [
    "# Suppose you want all the observations of mammals in the data frame. You could do this as follows:\n",
    "filter(my_pets, Animal %in% c(\"Goat\", \"Cat\", \"Guinea Pig\"))"
   ]
  },
  {
   "cell_type": "code",
   "execution_count": 11,
   "id": "f7e1e9dc-bb0e-46da-b891-f23067953def",
   "metadata": {},
   "outputs": [
    {
     "data": {
      "text/html": [
       "<table class=\"dataframe\">\n",
       "<caption>A data.frame: 4 × 4</caption>\n",
       "<thead>\n",
       "\t<tr><th scope=col>Name</th><th scope=col>Animal</th><th scope=col>Age</th><th scope=col>Weight</th></tr>\n",
       "\t<tr><th scope=col>&lt;chr&gt;</th><th scope=col>&lt;chr&gt;</th><th scope=col>&lt;int&gt;</th><th scope=col>&lt;dbl&gt;</th></tr>\n",
       "</thead>\n",
       "<tbody>\n",
       "\t<tr><td>Bruno  </td><td>Goat      </td><td> 4</td><td>35.0</td></tr>\n",
       "\t<tr><td>Jacko  </td><td>Goat      </td><td> 1</td><td>45.0</td></tr>\n",
       "\t<tr><td>Sophie </td><td>Cat       </td><td>12</td><td> 3.5</td></tr>\n",
       "\t<tr><td>Patches</td><td>Guinea Pig</td><td> 2</td><td> 2.0</td></tr>\n",
       "</tbody>\n",
       "</table>\n"
      ],
      "text/latex": [
       "A data.frame: 4 × 4\n",
       "\\begin{tabular}{llll}\n",
       " Name & Animal & Age & Weight\\\\\n",
       " <chr> & <chr> & <int> & <dbl>\\\\\n",
       "\\hline\n",
       "\t Bruno   & Goat       &  4 & 35.0\\\\\n",
       "\t Jacko   & Goat       &  1 & 45.0\\\\\n",
       "\t Sophie  & Cat        & 12 &  3.5\\\\\n",
       "\t Patches & Guinea Pig &  2 &  2.0\\\\\n",
       "\\end{tabular}\n"
      ],
      "text/markdown": [
       "\n",
       "A data.frame: 4 × 4\n",
       "\n",
       "| Name &lt;chr&gt; | Animal &lt;chr&gt; | Age &lt;int&gt; | Weight &lt;dbl&gt; |\n",
       "|---|---|---|---|\n",
       "| Bruno   | Goat       |  4 | 35.0 |\n",
       "| Jacko   | Goat       |  1 | 45.0 |\n",
       "| Sophie  | Cat        | 12 |  3.5 |\n",
       "| Patches | Guinea Pig |  2 |  2.0 |\n",
       "\n"
      ],
      "text/plain": [
       "  Name    Animal     Age Weight\n",
       "1 Bruno   Goat        4  35.0  \n",
       "2 Jacko   Goat        1  45.0  \n",
       "3 Sophie  Cat        12   3.5  \n",
       "4 Patches Guinea Pig  2   2.0  "
      ]
     },
     "metadata": {},
     "output_type": "display_data"
    }
   ],
   "source": [
    "filter(my_pets, Animal != \"Gold Fish\")"
   ]
  },
  {
   "cell_type": "code",
   "execution_count": 12,
   "id": "a84152a1-1214-4e3b-b44b-c78382d9367b",
   "metadata": {},
   "outputs": [
    {
     "data": {
      "text/html": [
       "<table class=\"dataframe\">\n",
       "<caption>A data.frame: 4 × 4</caption>\n",
       "<thead>\n",
       "\t<tr><th scope=col>Name</th><th scope=col>Animal</th><th scope=col>Age</th><th scope=col>Weight</th></tr>\n",
       "\t<tr><th scope=col>&lt;chr&gt;</th><th scope=col>&lt;chr&gt;</th><th scope=col>&lt;int&gt;</th><th scope=col>&lt;dbl&gt;</th></tr>\n",
       "</thead>\n",
       "<tbody>\n",
       "\t<tr><td>Bruno  </td><td>Goat      </td><td> 4</td><td>35.0</td></tr>\n",
       "\t<tr><td>Jacko  </td><td>Goat      </td><td> 1</td><td>45.0</td></tr>\n",
       "\t<tr><td>Sophie </td><td>Cat       </td><td>12</td><td> 3.5</td></tr>\n",
       "\t<tr><td>Patches</td><td>Guinea Pig</td><td> 2</td><td> 2.0</td></tr>\n",
       "</tbody>\n",
       "</table>\n"
      ],
      "text/latex": [
       "A data.frame: 4 × 4\n",
       "\\begin{tabular}{llll}\n",
       " Name & Animal & Age & Weight\\\\\n",
       " <chr> & <chr> & <int> & <dbl>\\\\\n",
       "\\hline\n",
       "\t Bruno   & Goat       &  4 & 35.0\\\\\n",
       "\t Jacko   & Goat       &  1 & 45.0\\\\\n",
       "\t Sophie  & Cat        & 12 &  3.5\\\\\n",
       "\t Patches & Guinea Pig &  2 &  2.0\\\\\n",
       "\\end{tabular}\n"
      ],
      "text/markdown": [
       "\n",
       "A data.frame: 4 × 4\n",
       "\n",
       "| Name &lt;chr&gt; | Animal &lt;chr&gt; | Age &lt;int&gt; | Weight &lt;dbl&gt; |\n",
       "|---|---|---|---|\n",
       "| Bruno   | Goat       |  4 | 35.0 |\n",
       "| Jacko   | Goat       |  1 | 45.0 |\n",
       "| Sophie  | Cat        | 12 |  3.5 |\n",
       "| Patches | Guinea Pig |  2 |  2.0 |\n",
       "\n"
      ],
      "text/plain": [
       "  Name    Animal     Age Weight\n",
       "1 Bruno   Goat        4  35.0  \n",
       "2 Jacko   Goat        1  45.0  \n",
       "3 Sophie  Cat        12   3.5  \n",
       "4 Patches Guinea Pig  2   2.0  "
      ]
     },
     "metadata": {},
     "output_type": "display_data"
    }
   ],
   "source": [
    "mammals <- filter(my_pets, Animal != \"Gold Fish\")\n",
    "mammals"
   ]
  },
  {
   "cell_type": "code",
   "execution_count": 13,
   "id": "0bc00b95-1410-4f00-b5ac-0c8704c8f659",
   "metadata": {},
   "outputs": [
    {
     "data": {
      "image/png": "[encoded data removed]",
      "text/plain": [
       "plot without title"
      ]
     },
     "metadata": {
      "image/png": {
       "height": 420,
       "width": 420
      }
     },
     "output_type": "display_data"
    }
   ],
   "source": [
    "plot(mammals)"
   ]
  },
  {
   "cell_type": "code",
   "execution_count": 16,
   "id": "e273bf15-4d5b-4522-be14-f0be06a4e87b",
   "metadata": {},
   "outputs": [
    {
     "data": {
      "text/html": [
       "<table class=\"dataframe\">\n",
       "<caption>A data.frame: 6 × 4</caption>\n",
       "<thead>\n",
       "\t<tr><th scope=col>Name</th><th scope=col>Animal</th><th scope=col>Age</th><th scope=col>Weight</th></tr>\n",
       "\t<tr><th scope=col>&lt;chr&gt;</th><th scope=col>&lt;chr&gt;</th><th scope=col>&lt;int&gt;</th><th scope=col>&lt;dbl&gt;</th></tr>\n",
       "</thead>\n",
       "<tbody>\n",
       "\t<tr><td>Jacko  </td><td>Goat      </td><td> 1</td><td>45.00</td></tr>\n",
       "\t<tr><td>Patches</td><td>Guinea Pig</td><td> 2</td><td> 2.00</td></tr>\n",
       "\t<tr><td>Boozer </td><td>Gold Fish </td><td> 2</td><td> 0.03</td></tr>\n",
       "\t<tr><td>Boozer </td><td>Gold Fish </td><td> 3</td><td> 0.04</td></tr>\n",
       "\t<tr><td>Bruno  </td><td>Goat      </td><td> 4</td><td>35.00</td></tr>\n",
       "\t<tr><td>Sophie </td><td>Cat       </td><td>12</td><td> 3.50</td></tr>\n",
       "</tbody>\n",
       "</table>\n"
      ],
      "text/latex": [
       "A data.frame: 6 × 4\n",
       "\\begin{tabular}{llll}\n",
       " Name & Animal & Age & Weight\\\\\n",
       " <chr> & <chr> & <int> & <dbl>\\\\\n",
       "\\hline\n",
       "\t Jacko   & Goat       &  1 & 45.00\\\\\n",
       "\t Patches & Guinea Pig &  2 &  2.00\\\\\n",
       "\t Boozer  & Gold Fish  &  2 &  0.03\\\\\n",
       "\t Boozer  & Gold Fish  &  3 &  0.04\\\\\n",
       "\t Bruno   & Goat       &  4 & 35.00\\\\\n",
       "\t Sophie  & Cat        & 12 &  3.50\\\\\n",
       "\\end{tabular}\n"
      ],
      "text/markdown": [
       "\n",
       "A data.frame: 6 × 4\n",
       "\n",
       "| Name &lt;chr&gt; | Animal &lt;chr&gt; | Age &lt;int&gt; | Weight &lt;dbl&gt; |\n",
       "|---|---|---|---|\n",
       "| Jacko   | Goat       |  1 | 45.00 |\n",
       "| Patches | Guinea Pig |  2 |  2.00 |\n",
       "| Boozer  | Gold Fish  |  2 |  0.03 |\n",
       "| Boozer  | Gold Fish  |  3 |  0.04 |\n",
       "| Bruno   | Goat       |  4 | 35.00 |\n",
       "| Sophie  | Cat        | 12 |  3.50 |\n",
       "\n"
      ],
      "text/plain": [
       "  Name    Animal     Age Weight\n",
       "1 Jacko   Goat        1  45.00 \n",
       "2 Patches Guinea Pig  2   2.00 \n",
       "3 Boozer  Gold Fish   2   0.03 \n",
       "4 Boozer  Gold Fish   3   0.04 \n",
       "5 Bruno   Goat        4  35.00 \n",
       "6 Sophie  Cat        12   3.50 "
      ]
     },
     "metadata": {},
     "output_type": "display_data"
    }
   ],
   "source": [
    "arrange(my_pets, Age)"
   ]
  },
  {
   "cell_type": "code",
   "execution_count": 17,
   "id": "57666fce-3e35-4963-a66b-1167c4b442af",
   "metadata": {},
   "outputs": [
    {
     "data": {
      "text/html": [
       "<table class=\"dataframe\">\n",
       "<caption>A data.frame: 4 × 4</caption>\n",
       "<thead>\n",
       "\t<tr><th scope=col>Name</th><th scope=col>Animal</th><th scope=col>Age</th><th scope=col>Weight</th></tr>\n",
       "\t<tr><th scope=col>&lt;chr&gt;</th><th scope=col>&lt;chr&gt;</th><th scope=col>&lt;int&gt;</th><th scope=col>&lt;dbl&gt;</th></tr>\n",
       "</thead>\n",
       "<tbody>\n",
       "\t<tr><td>Jacko  </td><td>Goat      </td><td> 1</td><td>45.0</td></tr>\n",
       "\t<tr><td>Patches</td><td>Guinea Pig</td><td> 2</td><td> 2.0</td></tr>\n",
       "\t<tr><td>Bruno  </td><td>Goat      </td><td> 4</td><td>35.0</td></tr>\n",
       "\t<tr><td>Sophie </td><td>Cat       </td><td>12</td><td> 3.5</td></tr>\n",
       "</tbody>\n",
       "</table>\n"
      ],
      "text/latex": [
       "A data.frame: 4 × 4\n",
       "\\begin{tabular}{llll}\n",
       " Name & Animal & Age & Weight\\\\\n",
       " <chr> & <chr> & <int> & <dbl>\\\\\n",
       "\\hline\n",
       "\t Jacko   & Goat       &  1 & 45.0\\\\\n",
       "\t Patches & Guinea Pig &  2 &  2.0\\\\\n",
       "\t Bruno   & Goat       &  4 & 35.0\\\\\n",
       "\t Sophie  & Cat        & 12 &  3.5\\\\\n",
       "\\end{tabular}\n"
      ],
      "text/markdown": [
       "\n",
       "A data.frame: 4 × 4\n",
       "\n",
       "| Name &lt;chr&gt; | Animal &lt;chr&gt; | Age &lt;int&gt; | Weight &lt;dbl&gt; |\n",
       "|---|---|---|---|\n",
       "| Jacko   | Goat       |  1 | 45.0 |\n",
       "| Patches | Guinea Pig |  2 |  2.0 |\n",
       "| Bruno   | Goat       |  4 | 35.0 |\n",
       "| Sophie  | Cat        | 12 |  3.5 |\n",
       "\n"
      ],
      "text/plain": [
       "  Name    Animal     Age Weight\n",
       "1 Jacko   Goat        1  45.0  \n",
       "2 Patches Guinea Pig  2   2.0  \n",
       "3 Bruno   Goat        4  35.0  \n",
       "4 Sophie  Cat        12   3.5  "
      ]
     },
     "metadata": {},
     "output_type": "display_data"
    }
   ],
   "source": [
    "my_pets %>% filter(Animal != \"Gold Fish\") %>% arrange(Age)"
   ]
  },
  {
   "cell_type": "code",
   "execution_count": 18,
   "id": "403d03d9-1c30-4bf2-9453-8f1be6c2c822",
   "metadata": {},
   "outputs": [
    {
     "data": {
      "text/html": [
       "<table class=\"dataframe\">\n",
       "<caption>A data.frame: 6 × 2</caption>\n",
       "<thead>\n",
       "\t<tr><th scope=col>Name</th><th scope=col>Animal</th></tr>\n",
       "\t<tr><th scope=col>&lt;chr&gt;</th><th scope=col>&lt;chr&gt;</th></tr>\n",
       "</thead>\n",
       "<tbody>\n",
       "\t<tr><td>Bruno  </td><td>Goat      </td></tr>\n",
       "\t<tr><td>Jacko  </td><td>Goat      </td></tr>\n",
       "\t<tr><td>Sophie </td><td>Cat       </td></tr>\n",
       "\t<tr><td>Patches</td><td>Guinea Pig</td></tr>\n",
       "\t<tr><td>Boozer </td><td>Gold Fish </td></tr>\n",
       "\t<tr><td>Boozer </td><td>Gold Fish </td></tr>\n",
       "</tbody>\n",
       "</table>\n"
      ],
      "text/latex": [
       "A data.frame: 6 × 2\n",
       "\\begin{tabular}{ll}\n",
       " Name & Animal\\\\\n",
       " <chr> & <chr>\\\\\n",
       "\\hline\n",
       "\t Bruno   & Goat      \\\\\n",
       "\t Jacko   & Goat      \\\\\n",
       "\t Sophie  & Cat       \\\\\n",
       "\t Patches & Guinea Pig\\\\\n",
       "\t Boozer  & Gold Fish \\\\\n",
       "\t Boozer  & Gold Fish \\\\\n",
       "\\end{tabular}\n"
      ],
      "text/markdown": [
       "\n",
       "A data.frame: 6 × 2\n",
       "\n",
       "| Name &lt;chr&gt; | Animal &lt;chr&gt; |\n",
       "|---|---|\n",
       "| Bruno   | Goat       |\n",
       "| Jacko   | Goat       |\n",
       "| Sophie  | Cat        |\n",
       "| Patches | Guinea Pig |\n",
       "| Boozer  | Gold Fish  |\n",
       "| Boozer  | Gold Fish  |\n",
       "\n"
      ],
      "text/plain": [
       "  Name    Animal    \n",
       "1 Bruno   Goat      \n",
       "2 Jacko   Goat      \n",
       "3 Sophie  Cat       \n",
       "4 Patches Guinea Pig\n",
       "5 Boozer  Gold Fish \n",
       "6 Boozer  Gold Fish "
      ]
     },
     "metadata": {},
     "output_type": "display_data"
    }
   ],
   "source": [
    "select(my_pets, Name, Animal)"
   ]
  },
  {
   "cell_type": "code",
   "execution_count": 19,
   "id": "7fa34da2-168f-4ebc-a1a1-533445a53b35",
   "metadata": {},
   "outputs": [
    {
     "data": {
      "text/html": [
       "<table class=\"dataframe\">\n",
       "<caption>A data.frame: 6 × 5</caption>\n",
       "<thead>\n",
       "\t<tr><th scope=col>Name</th><th scope=col>Animal</th><th scope=col>Age</th><th scope=col>Weight</th><th scope=col>Weight_kg</th></tr>\n",
       "\t<tr><th scope=col>&lt;chr&gt;</th><th scope=col>&lt;chr&gt;</th><th scope=col>&lt;int&gt;</th><th scope=col>&lt;dbl&gt;</th><th scope=col>&lt;dbl&gt;</th></tr>\n",
       "</thead>\n",
       "<tbody>\n",
       "\t<tr><td>Bruno  </td><td>Goat      </td><td> 4</td><td>35.00</td><td>15.87575183</td></tr>\n",
       "\t<tr><td>Jacko  </td><td>Goat      </td><td> 1</td><td>45.00</td><td>20.41168092</td></tr>\n",
       "\t<tr><td>Sophie </td><td>Cat       </td><td>12</td><td> 3.50</td><td> 1.58757518</td></tr>\n",
       "\t<tr><td>Patches</td><td>Guinea Pig</td><td> 2</td><td> 2.00</td><td> 0.90718582</td></tr>\n",
       "\t<tr><td>Boozer </td><td>Gold Fish </td><td> 3</td><td> 0.04</td><td> 0.01814372</td></tr>\n",
       "\t<tr><td>Boozer </td><td>Gold Fish </td><td> 2</td><td> 0.03</td><td> 0.01360779</td></tr>\n",
       "</tbody>\n",
       "</table>\n"
      ],
      "text/latex": [
       "A data.frame: 6 × 5\n",
       "\\begin{tabular}{lllll}\n",
       " Name & Animal & Age & Weight & Weight\\_kg\\\\\n",
       " <chr> & <chr> & <int> & <dbl> & <dbl>\\\\\n",
       "\\hline\n",
       "\t Bruno   & Goat       &  4 & 35.00 & 15.87575183\\\\\n",
       "\t Jacko   & Goat       &  1 & 45.00 & 20.41168092\\\\\n",
       "\t Sophie  & Cat        & 12 &  3.50 &  1.58757518\\\\\n",
       "\t Patches & Guinea Pig &  2 &  2.00 &  0.90718582\\\\\n",
       "\t Boozer  & Gold Fish  &  3 &  0.04 &  0.01814372\\\\\n",
       "\t Boozer  & Gold Fish  &  2 &  0.03 &  0.01360779\\\\\n",
       "\\end{tabular}\n"
      ],
      "text/markdown": [
       "\n",
       "A data.frame: 6 × 5\n",
       "\n",
       "| Name &lt;chr&gt; | Animal &lt;chr&gt; | Age &lt;int&gt; | Weight &lt;dbl&gt; | Weight_kg &lt;dbl&gt; |\n",
       "|---|---|---|---|---|\n",
       "| Bruno   | Goat       |  4 | 35.00 | 15.87575183 |\n",
       "| Jacko   | Goat       |  1 | 45.00 | 20.41168092 |\n",
       "| Sophie  | Cat        | 12 |  3.50 |  1.58757518 |\n",
       "| Patches | Guinea Pig |  2 |  2.00 |  0.90718582 |\n",
       "| Boozer  | Gold Fish  |  3 |  0.04 |  0.01814372 |\n",
       "| Boozer  | Gold Fish  |  2 |  0.03 |  0.01360779 |\n",
       "\n"
      ],
      "text/plain": [
       "  Name    Animal     Age Weight Weight_kg  \n",
       "1 Bruno   Goat        4  35.00  15.87575183\n",
       "2 Jacko   Goat        1  45.00  20.41168092\n",
       "3 Sophie  Cat        12   3.50   1.58757518\n",
       "4 Patches Guinea Pig  2   2.00   0.90718582\n",
       "5 Boozer  Gold Fish   3   0.04   0.01814372\n",
       "6 Boozer  Gold Fish   2   0.03   0.01360779"
      ]
     },
     "metadata": {},
     "output_type": "display_data"
    }
   ],
   "source": [
    "mutate(my_pets, Weight_kg = Weight/2.20462)"
   ]
  },
  {
   "cell_type": "code",
   "execution_count": 20,
   "id": "136c8d1b-6847-4570-83d2-64d55fe16774",
   "metadata": {},
   "outputs": [
    {
     "data": {
      "text/html": [
       "<table class=\"dataframe\">\n",
       "<caption>A data.frame: 6 × 5</caption>\n",
       "<thead>\n",
       "\t<tr><th scope=col>Name</th><th scope=col>Animal</th><th scope=col>Age</th><th scope=col>Weight</th><th scope=col>Status</th></tr>\n",
       "\t<tr><th scope=col>&lt;chr&gt;</th><th scope=col>&lt;chr&gt;</th><th scope=col>&lt;int&gt;</th><th scope=col>&lt;dbl&gt;</th><th scope=col>&lt;chr&gt;</th></tr>\n",
       "</thead>\n",
       "<tbody>\n",
       "\t<tr><td>Bruno  </td><td>Goat      </td><td> 4</td><td>35.00</td><td>Alive</td></tr>\n",
       "\t<tr><td>Jacko  </td><td>Goat      </td><td> 1</td><td>45.00</td><td>Alive</td></tr>\n",
       "\t<tr><td>Sophie </td><td>Cat       </td><td>12</td><td> 3.50</td><td>Alive</td></tr>\n",
       "\t<tr><td>Patches</td><td>Guinea Pig</td><td> 2</td><td> 2.00</td><td>Alive</td></tr>\n",
       "\t<tr><td>Boozer </td><td>Gold Fish </td><td> 3</td><td> 0.04</td><td>Alive</td></tr>\n",
       "\t<tr><td>Boozer </td><td>Gold Fish </td><td> 2</td><td> 0.03</td><td>Alive</td></tr>\n",
       "</tbody>\n",
       "</table>\n"
      ],
      "text/latex": [
       "A data.frame: 6 × 5\n",
       "\\begin{tabular}{lllll}\n",
       " Name & Animal & Age & Weight & Status\\\\\n",
       " <chr> & <chr> & <int> & <dbl> & <chr>\\\\\n",
       "\\hline\n",
       "\t Bruno   & Goat       &  4 & 35.00 & Alive\\\\\n",
       "\t Jacko   & Goat       &  1 & 45.00 & Alive\\\\\n",
       "\t Sophie  & Cat        & 12 &  3.50 & Alive\\\\\n",
       "\t Patches & Guinea Pig &  2 &  2.00 & Alive\\\\\n",
       "\t Boozer  & Gold Fish  &  3 &  0.04 & Alive\\\\\n",
       "\t Boozer  & Gold Fish  &  2 &  0.03 & Alive\\\\\n",
       "\\end{tabular}\n"
      ],
      "text/markdown": [
       "\n",
       "A data.frame: 6 × 5\n",
       "\n",
       "| Name &lt;chr&gt; | Animal &lt;chr&gt; | Age &lt;int&gt; | Weight &lt;dbl&gt; | Status &lt;chr&gt; |\n",
       "|---|---|---|---|---|\n",
       "| Bruno   | Goat       |  4 | 35.00 | Alive |\n",
       "| Jacko   | Goat       |  1 | 45.00 | Alive |\n",
       "| Sophie  | Cat        | 12 |  3.50 | Alive |\n",
       "| Patches | Guinea Pig |  2 |  2.00 | Alive |\n",
       "| Boozer  | Gold Fish  |  3 |  0.04 | Alive |\n",
       "| Boozer  | Gold Fish  |  2 |  0.03 | Alive |\n",
       "\n"
      ],
      "text/plain": [
       "  Name    Animal     Age Weight Status\n",
       "1 Bruno   Goat        4  35.00  Alive \n",
       "2 Jacko   Goat        1  45.00  Alive \n",
       "3 Sophie  Cat        12   3.50  Alive \n",
       "4 Patches Guinea Pig  2   2.00  Alive \n",
       "5 Boozer  Gold Fish   3   0.04  Alive \n",
       "6 Boozer  Gold Fish   2   0.03  Alive "
      ]
     },
     "metadata": {},
     "output_type": "display_data"
    }
   ],
   "source": [
    "mutate(my_pets, Status = \"Alive\")"
   ]
  },
  {
   "cell_type": "code",
   "execution_count": 21,
   "id": "dd4f51f4-fc45-4d52-948d-5b95dc4764c4",
   "metadata": {},
   "outputs": [
    {
     "data": {
      "text/html": [
       "<table class=\"dataframe\">\n",
       "<caption>A data.frame: 1 × 1</caption>\n",
       "<thead>\n",
       "\t<tr><th scope=col>ave_age</th></tr>\n",
       "\t<tr><th scope=col>&lt;dbl&gt;</th></tr>\n",
       "</thead>\n",
       "<tbody>\n",
       "\t<tr><td>4</td></tr>\n",
       "</tbody>\n",
       "</table>\n"
      ],
      "text/latex": [
       "A data.frame: 1 × 1\n",
       "\\begin{tabular}{l}\n",
       " ave\\_age\\\\\n",
       " <dbl>\\\\\n",
       "\\hline\n",
       "\t 4\\\\\n",
       "\\end{tabular}\n"
      ],
      "text/markdown": [
       "\n",
       "A data.frame: 1 × 1\n",
       "\n",
       "| ave_age &lt;dbl&gt; |\n",
       "|---|\n",
       "| 4 |\n",
       "\n"
      ],
      "text/plain": [
       "  ave_age\n",
       "1 4      "
      ]
     },
     "metadata": {},
     "output_type": "display_data"
    }
   ],
   "source": [
    "summarize(my_pets, ave_age = mean(Age))"
   ]
  },
  {
   "cell_type": "code",
   "execution_count": 22,
   "id": "79ff764c-8372-46ff-bf02-03f345d29d11",
   "metadata": {},
   "outputs": [
    {
     "data": {
      "text/html": [
       "<table class=\"dataframe\">\n",
       "<caption>A tibble: 4 × 2</caption>\n",
       "<thead>\n",
       "\t<tr><th scope=col>Animal</th><th scope=col>ave.age</th></tr>\n",
       "\t<tr><th scope=col>&lt;chr&gt;</th><th scope=col>&lt;dbl&gt;</th></tr>\n",
       "</thead>\n",
       "<tbody>\n",
       "\t<tr><td>Cat       </td><td>12.0</td></tr>\n",
       "\t<tr><td>Goat      </td><td> 2.5</td></tr>\n",
       "\t<tr><td>Gold Fish </td><td> 2.5</td></tr>\n",
       "\t<tr><td>Guinea Pig</td><td> 2.0</td></tr>\n",
       "</tbody>\n",
       "</table>\n"
      ],
      "text/latex": [
       "A tibble: 4 × 2\n",
       "\\begin{tabular}{ll}\n",
       " Animal & ave.age\\\\\n",
       " <chr> & <dbl>\\\\\n",
       "\\hline\n",
       "\t Cat        & 12.0\\\\\n",
       "\t Goat       &  2.5\\\\\n",
       "\t Gold Fish  &  2.5\\\\\n",
       "\t Guinea Pig &  2.0\\\\\n",
       "\\end{tabular}\n"
      ],
      "text/markdown": [
       "\n",
       "A tibble: 4 × 2\n",
       "\n",
       "| Animal &lt;chr&gt; | ave.age &lt;dbl&gt; |\n",
       "|---|---|\n",
       "| Cat        | 12.0 |\n",
       "| Goat       |  2.5 |\n",
       "| Gold Fish  |  2.5 |\n",
       "| Guinea Pig |  2.0 |\n",
       "\n"
      ],
      "text/plain": [
       "  Animal     ave.age\n",
       "1 Cat        12.0   \n",
       "2 Goat        2.5   \n",
       "3 Gold Fish   2.5   \n",
       "4 Guinea Pig  2.0   "
      ]
     },
     "metadata": {},
     "output_type": "display_data"
    }
   ],
   "source": [
    "my_pets %>% group_by(Animal) %>% summarize(ave.age = mean(Age))"
   ]
  },
  {
   "cell_type": "code",
   "execution_count": 23,
   "id": "d766679b-5dbc-4b44-ad90-38254ba85cce",
   "metadata": {},
   "outputs": [
    {
     "data": {
      "text/html": [
       "<table class=\"dataframe\">\n",
       "<caption>A tibble: 4 × 2</caption>\n",
       "<thead>\n",
       "\t<tr><th scope=col>Animal</th><th scope=col>count</th></tr>\n",
       "\t<tr><th scope=col>&lt;chr&gt;</th><th scope=col>&lt;int&gt;</th></tr>\n",
       "</thead>\n",
       "<tbody>\n",
       "\t<tr><td>Cat       </td><td>1</td></tr>\n",
       "\t<tr><td>Goat      </td><td>2</td></tr>\n",
       "\t<tr><td>Gold Fish </td><td>2</td></tr>\n",
       "\t<tr><td>Guinea Pig</td><td>1</td></tr>\n",
       "</tbody>\n",
       "</table>\n"
      ],
      "text/latex": [
       "A tibble: 4 × 2\n",
       "\\begin{tabular}{ll}\n",
       " Animal & count\\\\\n",
       " <chr> & <int>\\\\\n",
       "\\hline\n",
       "\t Cat        & 1\\\\\n",
       "\t Goat       & 2\\\\\n",
       "\t Gold Fish  & 2\\\\\n",
       "\t Guinea Pig & 1\\\\\n",
       "\\end{tabular}\n"
      ],
      "text/markdown": [
       "\n",
       "A tibble: 4 × 2\n",
       "\n",
       "| Animal &lt;chr&gt; | count &lt;int&gt; |\n",
       "|---|---|\n",
       "| Cat        | 1 |\n",
       "| Goat       | 2 |\n",
       "| Gold Fish  | 2 |\n",
       "| Guinea Pig | 1 |\n",
       "\n"
      ],
      "text/plain": [
       "  Animal     count\n",
       "1 Cat        1    \n",
       "2 Goat       2    \n",
       "3 Gold Fish  2    \n",
       "4 Guinea Pig 1    "
      ]
     },
     "metadata": {},
     "output_type": "display_data"
    }
   ],
   "source": [
    "my_pets %>% group_by(Animal) %>% summarize(count = n())"
   ]
  },
  {
   "cell_type": "code",
   "execution_count": 24,
   "id": "583f4934-4a39-41af-818d-d500418d1719",
   "metadata": {},
   "outputs": [
    {
     "name": "stderr",
     "output_type": "stream",
     "text": [
      "`summarise()` has grouped output by 'Name'. You can override using the `.groups` argument.\n",
      "\n"
     ]
    },
    {
     "data": {
      "text/html": [
       "<table class=\"dataframe\">\n",
       "<caption>A grouped_df: 5 × 3</caption>\n",
       "<thead>\n",
       "\t<tr><th scope=col>Name</th><th scope=col>Animal</th><th scope=col>count</th></tr>\n",
       "\t<tr><th scope=col>&lt;chr&gt;</th><th scope=col>&lt;chr&gt;</th><th scope=col>&lt;int&gt;</th></tr>\n",
       "</thead>\n",
       "<tbody>\n",
       "\t<tr><td>Boozer </td><td>Gold Fish </td><td>2</td></tr>\n",
       "\t<tr><td>Bruno  </td><td>Goat      </td><td>1</td></tr>\n",
       "\t<tr><td>Jacko  </td><td>Goat      </td><td>1</td></tr>\n",
       "\t<tr><td>Patches</td><td>Guinea Pig</td><td>1</td></tr>\n",
       "\t<tr><td>Sophie </td><td>Cat       </td><td>1</td></tr>\n",
       "</tbody>\n",
       "</table>\n"
      ],
      "text/latex": [
       "A grouped\\_df: 5 × 3\n",
       "\\begin{tabular}{lll}\n",
       " Name & Animal & count\\\\\n",
       " <chr> & <chr> & <int>\\\\\n",
       "\\hline\n",
       "\t Boozer  & Gold Fish  & 2\\\\\n",
       "\t Bruno   & Goat       & 1\\\\\n",
       "\t Jacko   & Goat       & 1\\\\\n",
       "\t Patches & Guinea Pig & 1\\\\\n",
       "\t Sophie  & Cat        & 1\\\\\n",
       "\\end{tabular}\n"
      ],
      "text/markdown": [
       "\n",
       "A grouped_df: 5 × 3\n",
       "\n",
       "| Name &lt;chr&gt; | Animal &lt;chr&gt; | count &lt;int&gt; |\n",
       "|---|---|---|\n",
       "| Boozer  | Gold Fish  | 2 |\n",
       "| Bruno   | Goat       | 1 |\n",
       "| Jacko   | Goat       | 1 |\n",
       "| Patches | Guinea Pig | 1 |\n",
       "| Sophie  | Cat        | 1 |\n",
       "\n"
      ],
      "text/plain": [
       "  Name    Animal     count\n",
       "1 Boozer  Gold Fish  2    \n",
       "2 Bruno   Goat       1    \n",
       "3 Jacko   Goat       1    \n",
       "4 Patches Guinea Pig 1    \n",
       "5 Sophie  Cat        1    "
      ]
     },
     "metadata": {},
     "output_type": "display_data"
    }
   ],
   "source": [
    "my_pets %>% group_by(Name, Animal) %>% summarize(count = n())"
   ]
  },
  {
   "cell_type": "code",
   "execution_count": 25,
   "id": "9a22080d-d627-454d-a716-26708aa77a22",
   "metadata": {},
   "outputs": [
    {
     "data": {
      "text/html": [
       "<table class=\"dataframe\">\n",
       "<caption>A data.frame: 6 × 3</caption>\n",
       "<thead>\n",
       "\t<tr><th></th><th scope=col>Expt</th><th scope=col>Run</th><th scope=col>Speed</th></tr>\n",
       "\t<tr><th></th><th scope=col>&lt;int&gt;</th><th scope=col>&lt;int&gt;</th><th scope=col>&lt;int&gt;</th></tr>\n",
       "</thead>\n",
       "<tbody>\n",
       "\t<tr><th scope=row>001</th><td>1</td><td>1</td><td> 850</td></tr>\n",
       "\t<tr><th scope=row>002</th><td>1</td><td>2</td><td> 740</td></tr>\n",
       "\t<tr><th scope=row>003</th><td>1</td><td>3</td><td> 900</td></tr>\n",
       "\t<tr><th scope=row>004</th><td>1</td><td>4</td><td>1070</td></tr>\n",
       "\t<tr><th scope=row>005</th><td>1</td><td>5</td><td> 930</td></tr>\n",
       "\t<tr><th scope=row>006</th><td>1</td><td>6</td><td> 850</td></tr>\n",
       "</tbody>\n",
       "</table>\n"
      ],
      "text/latex": [
       "A data.frame: 6 × 3\n",
       "\\begin{tabular}{r|lll}\n",
       "  & Expt & Run & Speed\\\\\n",
       "  & <int> & <int> & <int>\\\\\n",
       "\\hline\n",
       "\t001 & 1 & 1 &  850\\\\\n",
       "\t002 & 1 & 2 &  740\\\\\n",
       "\t003 & 1 & 3 &  900\\\\\n",
       "\t004 & 1 & 4 & 1070\\\\\n",
       "\t005 & 1 & 5 &  930\\\\\n",
       "\t006 & 1 & 6 &  850\\\\\n",
       "\\end{tabular}\n"
      ],
      "text/markdown": [
       "\n",
       "A data.frame: 6 × 3\n",
       "\n",
       "| <!--/--> | Expt &lt;int&gt; | Run &lt;int&gt; | Speed &lt;int&gt; |\n",
       "|---|---|---|---|\n",
       "| 001 | 1 | 1 |  850 |\n",
       "| 002 | 1 | 2 |  740 |\n",
       "| 003 | 1 | 3 |  900 |\n",
       "| 004 | 1 | 4 | 1070 |\n",
       "| 005 | 1 | 5 |  930 |\n",
       "| 006 | 1 | 6 |  850 |\n",
       "\n"
      ],
      "text/plain": [
       "    Expt Run Speed\n",
       "001 1    1    850 \n",
       "002 1    2    740 \n",
       "003 1    3    900 \n",
       "004 1    4   1070 \n",
       "005 1    5    930 \n",
       "006 1    6    850 "
      ]
     },
     "metadata": {},
     "output_type": "display_data"
    }
   ],
   "source": [
    "head(morley)"
   ]
  },
  {
   "cell_type": "code",
   "execution_count": 26,
   "id": "13909ac7-e42b-4a52-8bd8-42f16d85f2c6",
   "metadata": {},
   "outputs": [
    {
     "data": {
      "image/png": "[encoded data removed]",
      "text/plain": [
       "plot without title"
      ]
     },
     "metadata": {
      "image/png": {
       "height": 420,
       "width": 420
      }
     },
     "output_type": "display_data"
    }
   ],
   "source": [
    "ggplot(morley, aes(x = Expt, y = Speed)) + geom_boxplot(aes(group=Expt))"
   ]
  },
  {
   "cell_type": "code",
   "execution_count": 27,
   "id": "b135da01-cc0e-4224-ab20-f7d41550b393",
   "metadata": {},
   "outputs": [
    {
     "data": {
      "text/html": [
       "<table class=\"dataframe\">\n",
       "<caption>A tibble: 5 × 2</caption>\n",
       "<thead>\n",
       "\t<tr><th scope=col>Expt</th><th scope=col>m.speed</th></tr>\n",
       "\t<tr><th scope=col>&lt;int&gt;</th><th scope=col>&lt;dbl&gt;</th></tr>\n",
       "</thead>\n",
       "<tbody>\n",
       "\t<tr><td>1</td><td>909.0</td></tr>\n",
       "\t<tr><td>2</td><td>856.0</td></tr>\n",
       "\t<tr><td>3</td><td>845.0</td></tr>\n",
       "\t<tr><td>4</td><td>820.5</td></tr>\n",
       "\t<tr><td>5</td><td>831.5</td></tr>\n",
       "</tbody>\n",
       "</table>\n"
      ],
      "text/latex": [
       "A tibble: 5 × 2\n",
       "\\begin{tabular}{ll}\n",
       " Expt & m.speed\\\\\n",
       " <int> & <dbl>\\\\\n",
       "\\hline\n",
       "\t 1 & 909.0\\\\\n",
       "\t 2 & 856.0\\\\\n",
       "\t 3 & 845.0\\\\\n",
       "\t 4 & 820.5\\\\\n",
       "\t 5 & 831.5\\\\\n",
       "\\end{tabular}\n"
      ],
      "text/markdown": [
       "\n",
       "A tibble: 5 × 2\n",
       "\n",
       "| Expt &lt;int&gt; | m.speed &lt;dbl&gt; |\n",
       "|---|---|\n",
       "| 1 | 909.0 |\n",
       "| 2 | 856.0 |\n",
       "| 3 | 845.0 |\n",
       "| 4 | 820.5 |\n",
       "| 5 | 831.5 |\n",
       "\n"
      ],
      "text/plain": [
       "  Expt m.speed\n",
       "1 1    909.0  \n",
       "2 2    856.0  \n",
       "3 3    845.0  \n",
       "4 4    820.5  \n",
       "5 5    831.5  "
      ]
     },
     "metadata": {},
     "output_type": "display_data"
    }
   ],
   "source": [
    "morley %>% group_by(Expt) %>% summarize(m.speed = mean(Speed))"
   ]
  },
  {
   "cell_type": "code",
   "execution_count": null,
   "id": "c8764c11-0635-4f63-8a57-e6688602df9f",
   "metadata": {},
   "outputs": [],
   "source": []
  }
 ],
 "metadata": {
  "kernelspec": {
   "display_name": "R",
   "language": "R",
   "name": "ir"
  },
  "language_info": {
   "codemirror_mode": "r",
   "file_extension": ".r",
   "mimetype": "text/x-r-source",
   "name": "R",
   "pygments_lexer": "r",
   "version": "4.3.0"
  }
 },
 "nbformat": 4,
 "nbformat_minor": 5
}
