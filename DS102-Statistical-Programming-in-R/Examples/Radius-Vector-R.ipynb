{
 "cells": [
  {
   "cell_type": "code",
   "execution_count": 1,
   "id": "acf16960-e44e-4bbc-9175-48cc6285d712",
   "metadata": {},
   "outputs": [],
   "source": [
    "# Create a vector aka list called \"radius\", use \"c()\" function to create the vector\n",
    "radius <- c(1, 2, 3, 4, 5, 6, 7, 8, 9)"
   ]
  },
  {
   "cell_type": "code",
   "execution_count": 2,
   "id": "703725ce-ff08-45ff-927a-53f83b414387",
   "metadata": {},
   "outputs": [],
   "source": [
    "# Using the \"function()\" called \"area\". Naming our variable \"r\" \n",
    "area = function(r){ pi*(r^2) }"
   ]
  },
  {
   "cell_type": "code",
   "execution_count": 3,
   "id": "344735c1-4d5b-4329-afd3-1180fc891b22",
   "metadata": {},
   "outputs": [
    {
     "name": "stdout",
     "output_type": "stream",
     "text": [
      "[1] 3.141593\n",
      "[1] 12.56637\n",
      "[1] 28.27433\n",
      "[1] 50.26548\n",
      "[1] 78.53982\n",
      "[1] 113.0973\n",
      "[1] 153.938\n",
      "[1] 201.0619\n",
      "[1] 254.469\n"
     ]
    }
   ],
   "source": [
    "for (r in radius) {\n",
    "  print(area(r))\n",
    "}"
   ]
  },
  {
   "cell_type": "code",
   "execution_count": 6,
   "id": "31f8611f-2af4-4912-bdde-f460edac8cac",
   "metadata": {},
   "outputs": [
    {
     "name": "stdout",
     "output_type": "stream",
     "text": [
      "1 3.141593 \n",
      "2 12.56637 \n",
      "3 28.27433 \n",
      "4 50.26548 \n",
      "5 78.53982 \n",
      "6 113.0973 \n",
      "7 153.938 \n",
      "8 201.0619 \n",
      "9 254.469 \n"
     ]
    }
   ],
   "source": [
    "for (r in radius) {\n",
    "  cat(r,area(r),\"\\n\")\n",
    "}"
   ]
  },
  {
   "cell_type": "code",
   "execution_count": 7,
   "id": "3326e3a5-19da-4709-a2f2-d08dec313c13",
   "metadata": {},
   "outputs": [
    {
     "name": "stdout",
     "output_type": "stream",
     "text": [
      "1 3.141593 \n",
      "2 12.56637 \n",
      "3 28.27433 \n",
      "4 50.26548 \n",
      "5 78.53982 \n",
      "6 113.0973 \n",
      "7 153.938 \n",
      "8 201.0619 \n",
      "9 254.469 \n"
     ]
    }
   ],
   "source": [
    "for (r in radius) {\n",
    "  connect = area(r)\n",
    "  cat(r,connect,\"\\n\")\n",
    "}"
   ]
  },
  {
   "cell_type": "code",
   "execution_count": 8,
   "id": "d6313abf-6b6f-433d-bf62-2ea58eb7f873",
   "metadata": {},
   "outputs": [
    {
     "name": "stdout",
     "output_type": "stream",
     "text": [
      "The radius is 1 , computing the area to 3.141593 !\n",
      "The radius is 2 , computing the area to 12.56637 !\n",
      "The radius is 3 , computing the area to 28.27433 !\n",
      "The radius is 4 , computing the area to 50.26548 !\n",
      "The radius is 5 , computing the area to 78.53982 !\n",
      "The radius is 6 , computing the area to 113.0973 !\n",
      "The radius is 7 , computing the area to 153.938 !\n",
      "The radius is 8 , computing the area to 201.0619 !\n",
      "The radius is 9 , computing the area to 254.469 !\n"
     ]
    }
   ],
   "source": [
    "for (r in radius) {\n",
    "  connect = area(r)\n",
    "  cat(\"The radius is\",r,\", computing the area to\",connect,\"!\\n\")\n",
    "}"
   ]
  },
  {
   "cell_type": "code",
   "execution_count": null,
   "id": "d9f79621-11fe-4391-86a7-4a2f1926c2ab",
   "metadata": {},
   "outputs": [],
   "source": []
  }
 ],
 "metadata": {
  "kernelspec": {
   "display_name": "R",
   "language": "R",
   "name": "ir"
  },
  "language_info": {
   "codemirror_mode": "r",
   "file_extension": ".r",
   "mimetype": "text/x-r-source",
   "name": "R",
   "pygments_lexer": "r",
   "version": "4.2.2"
  }
 },
 "nbformat": 4,
 "nbformat_minor": 5
}
