{
 "cells": [
  {
   "cell_type": "markdown",
   "id": "c1cc87ac-4191-44f8-b884-f48f900dfbab",
   "metadata": {},
   "source": [
    "# DS102 L3 Handson Helper- R\n",
    "##### Julie Boucher"
   ]
  },
  {
   "cell_type": "markdown",
   "id": "6f3cc578-55cb-447f-a23a-33f83c4d5a6b",
   "metadata": {},
   "source": [
    "#\n",
    "## Let's Touch Base and put Certain Concepts into Perspective\n",
    "\n",
    "R-Basics:\n",
    "- Looking at the Big Picture\n",
    "- What is the R Structure?\n",
    "- R Structure Visual\n",
    "\n",
    "Vectors:\n",
    "- The Break Down of Vectors\n",
    "- What is a Vector?\n",
    "- What Types of Vectors are there?\n",
    "- Basic Vector and Indexes\n",
    "- How to Create Vector?\n",
    "\n",
    "Functions:\n",
    "- What are Functions?\n",
    "- How to Create a Function?\n",
    "- What are Formulas and/or Equations?\n",
    "- Basic Arthemtic in R\n",
    "- What are Order of Operations?\n",
    "- How to Create a Function using a specific Formula\n",
    "\n",
    "For Loops:\n",
    "- What are For Loops?\n",
    "- Why are For Loops Important\n",
    "- What does a For Loop look like?\n",
    "- How to Create a For Loop\n",
    "\n",
    "### Handson Helper Example for DS102 Lesson 3\n",
    "- Examples\n",
    "- Code\n",
    "- Break Down\n",
    "#"
   ]
  },
  {
   "cell_type": "markdown",
   "id": "82feca64-332f-4f4e-8930-24d172eec2d6",
   "metadata": {},
   "source": [
    "# R-Basics: Looking at the Big Picture"
   ]
  },
  {
   "cell_type": "markdown",
   "id": "c3f63d91-0d5d-472e-8577-85af2524226f",
   "metadata": {},
   "source": [
    "### What is an R structure?\n",
    "\n",
    "`R's basic data structures include the vector, list, matrix, data frame, and factors.` Some of these structures require that all members be of the `same data type (e.g. vectors, matrices)` while others permit multiple data types (e.g. lists, data frames). Objects may have attributes, such as name, dimension, and class.\n",
    "\n",
    "Source: \n",
    "https://swcarpentry.github.io/r-novice-inflammation/13-supp-data-structures/"
   ]
  },
  {
   "cell_type": "markdown",
   "id": "67fe8332-bc06-443c-bcb5-0b2b53b823f5",
   "metadata": {},
   "source": [
    "### What makes up the R Structure?\n",
    "<p style=\"text-align: left;\">\n",
    "  <img width=\"600\" alt=\"R Structure\" src=\"../Media/R-L3/r-structures.png\">\n",
    "</p>"
   ]
  },
  {
   "cell_type": "markdown",
   "id": "885a0471-a177-4f4f-b77c-8a121952d234",
   "metadata": {},
   "source": [
    "### What does the R Structure look like?\n",
    "<p style=\"text-align: left;\">\n",
    "  <img width=\"600\" alt=\"R Structure\" src=\"../Media/R-L3/data-structure-in-R.jpeg\">\n",
    "</p>"
   ]
  },
  {
   "cell_type": "markdown",
   "id": "e66ef583-e903-4d21-8a99-e06991a78373",
   "metadata": {},
   "source": [
    "#\n",
    "# Vector: The Break Down of Vectors"
   ]
  },
  {
   "cell_type": "markdown",
   "id": "12893ab1-84ff-4a9a-bb07-52a2d7706cd6",
   "metadata": {},
   "source": [
    "### What is a Vector?\n",
    "\n",
    "`Vector` is a basic data structure in R. It `contains element of the same type`. The data types can be logical, integer, double, character, complex or raw.\n",
    "\n",
    "A vector’s type can be checked with the typeof() function.\n",
    "\n",
    "Another important property of a vector is its length. This is the number of elements in the vector and can be checked with the function length().\n",
    "\n",
    "Source:\n",
    "https://www.datamentor.io/r-programming/vector/"
   ]
  },
  {
   "cell_type": "markdown",
   "id": "4945b873-0df3-45be-a5b6-4dc00dfd3090",
   "metadata": {},
   "source": [
    "### What Types of Vectors are there?\n",
    "<p style=\"text-align: left;\">\n",
    "  <img width=\"600\" alt=\"Vector Types\" src=\"../Media/R-L3/all-vectors-in-R.png\">\n",
    "</p>"
   ]
  },
  {
   "cell_type": "markdown",
   "id": "7ce7e31f-808d-4760-9770-4294322d4400",
   "metadata": {},
   "source": [
    "### Basic Vector and Indexes\n",
    "\n",
    "<p style=\"text-align: left;\">\n",
    "  <img width=\"600\" alt=\"Vector Indexes\" src=\"../Media/R-L3/vector-values-indexes.jpeg\">\n",
    "</p>\n"
   ]
  },
  {
   "cell_type": "markdown",
   "id": "547a5188-f4c8-4b73-a02f-35fd5e9215da",
   "metadata": {
    "tags": []
   },
   "source": [
    "### How to Create Vector?\n",
    "\n",
    "Vectors are generally created using the `c() function`.\n",
    "Since, a vector must have elements of the same type, this function will try and coerce elements to the same type, if they are different.\n",
    "\n",
    "Combine elements into a vector using the `c function`, `e.g. x <- c(\"A\", \"B\", \"C\")` creates a vector `x` with three elements. Furthermore, we can extend that vector again using `c`, `e.g. y <- c(x, \"D\")` creates a vector `y` with four elements. \n",
    "\n",
    "Source:\n",
    "https://swcarpentry.github.io/r-novice-inflammation/02-func-R\n",
    "https://www.datamentor.io/r-programming/vector/"
   ]
  },
  {
   "cell_type": "markdown",
   "id": "ec075989-766a-484a-a531-067bc4394c0e",
   "metadata": {},
   "source": [
    "### What is will look like afterwards\n",
    "\n",
    "<p style=\"text-align: left;\">\n",
    "  <img width=\"600\" alt=\"Creating a Vector with c() function\" src=\"../Media/R-L3/r-vector.jpeg\">\n",
    "</p>"
   ]
  },
  {
   "cell_type": "markdown",
   "id": "fc531dfd-bdde-4335-9b76-a5b803c52061",
   "metadata": {},
   "source": [
    "#\n",
    "# Functions:"
   ]
  },
  {
   "cell_type": "markdown",
   "id": "b10f2840-6be9-44fa-830d-3c889a4bc5ef",
   "metadata": {},
   "source": [
    "### What are Functions?"
   ]
  },
  {
   "cell_type": "markdown",
   "id": "c5bd58e2-ac81-47dd-a84f-0561ae3beee2",
   "metadata": {},
   "source": [
    "In R, a `function is an object` so the `R interpreter is able to pass control to the function`, along with arguments that may be necessary for the `function to accomplish the actions`. The function in turn performs its task and returns control to the interpreter as well as any result which may be stored in other objects.\n",
    "\n",
    "Source: \n",
    "https://www.tutorialspoint.com/r/r_functions.htm"
   ]
  },
  {
   "cell_type": "markdown",
   "id": "b9bbf9c6-147f-4a55-9a9b-6477e9c219f6",
   "metadata": {},
   "source": [
    "### How to Create a Function?"
   ]
  },
  {
   "cell_type": "markdown",
   "id": "b54444ad-d4c6-4d25-a7d3-f26660911add",
   "metadata": {},
   "source": [
    "An R function is created by using the keyword function. The `basic syntax of an R function` definition is as follows −"
   ]
  },
  {
   "cell_type": "markdown",
   "id": "ddaf70ff-cc61-47d4-b75c-d356fc75b7c9",
   "metadata": {},
   "source": [
    "#### Syntax for Functions in R\n",
    "<p style=\"text-align: left;\">\n",
    "  <img width=\"600\" alt=\"syntax funcation\" src=\"../Media/R-L3/syntax-function.jpg\">\n",
    "</p>"
   ]
  },
  {
   "cell_type": "markdown",
   "id": "99751c11-037b-4d52-98cf-98163bcd71f1",
   "metadata": {},
   "source": [
    "Here, we can see that the `reserved word function is used to declare a function in R`.\n",
    "The `statements within the curly braces` form the body of the function. These braces are optional if the body contains only a single expression.\n",
    "Finally, this function object is given a name by assigning it to a variable, func_name."
   ]
  },
  {
   "cell_type": "markdown",
   "id": "56ba9bf3-d34c-4e2f-82b8-aa8c7553e424",
   "metadata": {},
   "source": [
    "### What are Formulas and/or Equations?"
   ]
  },
  {
   "cell_type": "markdown",
   "id": "fbb57377-0bd1-4611-8330-46caf8580b35",
   "metadata": {},
   "source": [
    "First, an equation is a way to say that one thing is equal to, or the same value as, another. A formula is a special equation that expresses an important relationship between variables expressing commonly-used ideas, like speed, temperature, etc.\n",
    "\n",
    "```\n",
    "Formula Example:\n",
    "Area of cirle = pi*(r^2)\n",
    "\n",
    "Equation Example:\n",
    "a= 2\n",
    "b= 2\n",
    "x= a+b\n",
    "```\n",
    "\n",
    "Source:\n",
    "https://study.com/academy/lesson/how-to-write-equations-formulas.html#:~:text=First%2C%20an%20equation%20is%20a,like%20speed%2C%20temperature%2C%20etc"
   ]
  },
  {
   "cell_type": "markdown",
   "id": "c11099c0-77b9-4069-a3eb-2b1ebefd1dca",
   "metadata": {},
   "source": [
    "### Basic Arthemtic in R"
   ]
  },
  {
   "cell_type": "markdown",
   "id": "fd617e48-e0ad-4747-889f-d8c01a64a4d4",
   "metadata": {},
   "source": [
    "The `R Arithmetic operators include operators like Arithmetic Addition, Subtraction, Division, Multiplication, Exponent, Integer Division, and Modulus`. All these R arithmetic operators are binary operators, which means they operate on two operands. The table below shows all the Arithmetic Operators in R Programming language with examples.\n",
    "\n",
    "Source:\n",
    "https://www.tutorialgateway.org/r-arithmetic-operators/"
   ]
  },
  {
   "cell_type": "markdown",
   "id": "486b2b55-2e50-4706-8fdf-11dc37afa32f",
   "metadata": {},
   "source": [
    "#### Arithmetic in R\n",
    "<p style=\"text-align: left;\">\n",
    "  <img width=\"600\" alt=\"Arithmetic in R\" src=\"../Media/R-L3/Arithmetic-R.jpg\">\n",
    "</p>"
   ]
  },
  {
   "cell_type": "markdown",
   "id": "ab4370de-1473-4b49-a506-aa0a341198e9",
   "metadata": {},
   "source": [
    "### What are Order of Operations?"
   ]
  },
  {
   "cell_type": "markdown",
   "id": "6e697225-9bed-4648-9ddb-81934042c0cd",
   "metadata": {},
   "source": [
    "In mathematics and computer programming, the `order of operations` is a collection of rules that reflect conventions about which procedures to perform first in order to evaluate a given mathematical expression.\n",
    "\n",
    "The order that we use to simplify expressions in math is called the order of operations. `The order of operations is the order in which we add, subtract, multiply or divide to solve a problem`.\n",
    "\n",
    "Source:\n",
    "https://en.wikipedia.org/wiki/Order_of_operations\n",
    "https://study.com/academy/lesson/order-of-operations.html"
   ]
  },
  {
   "cell_type": "markdown",
   "id": "9545eff9-bb9d-4bc4-913e-07aadb89a445",
   "metadata": {},
   "source": [
    "### Order of Operations Steps"
   ]
  },
  {
   "cell_type": "markdown",
   "id": "49713cc2-0889-43b0-ba50-76ae3d12135c",
   "metadata": {},
   "source": [
    "The steps we use to solve any mathematical expression are:\n",
    "\n",
    "- Simplify all of the parentheses. This includes all forms of grouping symbols, such as brackets and braces, in addition to parentheses.\n",
    "- Simplify all exponents.\n",
    "- Simplify all multiplication and division from left to right. When simplifying the multiplication and division, work from left to right.\n",
    "- Simplify all addition and subtraction from left to right. Again, when simplifying the addition and subtraction, work from left to right.\n",
    "\n",
    "By following this order, we can all solve the problem and get the same solution."
   ]
  },
  {
   "cell_type": "markdown",
   "id": "506fed75-b660-441b-852c-540ecedbac7b",
   "metadata": {},
   "source": [
    "### PEMDAS !"
   ]
  },
  {
   "cell_type": "markdown",
   "id": "d27d5ad9-5706-40f0-a603-f2ad1abd12ee",
   "metadata": {},
   "source": [
    "After explaining all of those rules to my Aunt Sally, she seems a little overwhelmed. However, I do have a shortcut to help her remember these steps. It's called `PEMDAS`.\n",
    "\n",
    "It stands for:\n",
    "\n",
    "P - Parentheses\n",
    "\n",
    "E - Exponents\n",
    "\n",
    "M - Multiplication\n",
    "\n",
    "D - Division\n",
    "\n",
    "A - Addition\n",
    "\n",
    "S - Subtraction\n",
    "\n",
    "Remember that the steps for multiplication and division is one step. We work all of the multiplication and division in one step from left to right. Multiplication does not always come before division; they are worked in the order that they appear. This is also true for addition and subtraction. They are worked in the same step from left to right. An easy way for me to remember these steps is to remember the phrase `Please Excuse My Dear Aunt Sally`, where the:\n",
    "\n",
    "P - Parentheses - Please\n",
    "\n",
    "E - Exponents - Excuse\n",
    "\n",
    "M - Multiplication - My\n",
    "\n",
    "D - Division - Dear\n",
    "\n",
    "A - Addition - Aunt\n",
    "\n",
    "S - Subtraction - Sally"
   ]
  },
  {
   "cell_type": "markdown",
   "id": "8b5255cf-f782-403e-ac82-d6b4925a17e7",
   "metadata": {},
   "source": [
    "#\n",
    "# How to Create a Function using a specific Formula: \n",
    "## Let's put the tools we just learned together"
   ]
  },
  {
   "cell_type": "markdown",
   "id": "783df0a6-9b28-4d2e-b8e5-220d069028f9",
   "metadata": {},
   "source": [
    "Now let’s see this process with an example. We are going to define a `function fahrenheit_to_celsius` that `converts temperatures` from Fahrenheit to Celsius:"
   ]
  },
  {
   "cell_type": "markdown",
   "id": "e5bbd452-dab2-4bca-9150-900e47f23e26",
   "metadata": {},
   "source": [
    "### Formula for Farenheit and Celsius\n",
    "<p style=\"text-align: left;\">\n",
    "  <img width=\"600\" alt=\"Farrenheit/Celsius Formula\" src=\"../Media/R-L3/temp1-formuals.jpeg\">\n",
    "</p>"
   ]
  },
  {
   "cell_type": "markdown",
   "id": "719c9c77-d861-4401-acd6-17e9fbc69d83",
   "metadata": {},
   "source": [
    "Use the `Function Syntax form` and your `Order of Operations` and a `good naming convention` for you variables and combine the concepts together. It should look similiar to this example below.  "
   ]
  },
  {
   "cell_type": "markdown",
   "id": "f34167a5-5629-49fb-8cb2-b0d56d4342e0",
   "metadata": {},
   "source": [
    "#\n",
    "#### Farenheit to Celsius Formula using the Syntax Function Form in R\n",
    "<p style=\"text-align: left;\">\n",
    "  <img width=\"600\" alt=\"Farrenheit Formula\" src=\"../Media/R-L3/temp-function-syntax.jpg\">\n",
    "</p>"
   ]
  },
  {
   "cell_type": "markdown",
   "id": "5698f7af-9d40-493e-835b-32e0ae417b6a",
   "metadata": {},
   "source": [
    "We define `fahrenheit_to_celsius` by assigning it to the output of function. The list of argument names are contained within `parentheses`. Next, the `body of the function`– the statements that are executed when it runs–is contained within curly braces `({})`. The statements in the body are indented by two spaces, which makes the code easier to read but does not affect how the code operates.\n",
    "\n",
    "When we call the function, the values we pass to it are assigned to those variables so that we can use them inside the function. Inside the function, we use a return statement to send a result back to whoever asked for it.\n",
    "\n"
   ]
  },
  {
   "cell_type": "markdown",
   "id": "bb0bb8a7-443a-4011-be52-b534024ac8ff",
   "metadata": {},
   "source": [
    "#\n",
    "# You just created your 1st Function! Congrats!!! After you've created your Vector and your Function, you want to create a For Loop. Keep Reading and Learning =)"
   ]
  },
  {
   "cell_type": "markdown",
   "id": "16d7d055-f659-4626-a844-57c9dc848cf1",
   "metadata": {},
   "source": [
    "#\n",
    "## For Loops:"
   ]
  },
  {
   "cell_type": "markdown",
   "id": "67f9244d-1824-4504-958b-c4714c88c652",
   "metadata": {},
   "source": [
    "### What Does For Loop Mean?\n",
    "\n",
    "For loop is a programming language conditional iterative statement which is used to check for certain conditions and then repeatedly execute a block of code as long as those conditions are met.\n",
    "\n",
    "Source:\n",
    "https://www.techopedia.com/definition/19415/for-loop"
   ]
  },
  {
   "cell_type": "markdown",
   "id": "b8efbd1d-d6b1-41c0-ab9f-e03299820ecf",
   "metadata": {},
   "source": [
    "### Why are For Loops Important"
   ]
  },
  {
   "cell_type": "markdown",
   "id": "cd17c3af-dbf9-4bd6-b153-185c7974d37f",
   "metadata": {},
   "source": [
    "Definition: Loops are a programming element that repeat a portion of code a set number of times until the desired process is complete. Repetitive tasks are common in programming, and loops are essential to save time and minimize errors. ... Why We Use Loops: Loops make code more manageable and organized.\n",
    "\n",
    "Source:\n",
    "https://www.google.com/search?q=why+are+loops+important+&bih=823&biw=1141&hl=en&sxsrf=APq-WBu1R9VhS0w_xwTph9eXlyz12kFfjg%3A1644966127622&ei=7zAMYrO5JcaT0PEP1JSBmAU&ved=0ahUKEwjz7NCt6IL2AhXGCTQIHVRKAFMQ4dUDCA4&uact=5&oq=why+are+loops+important+&gs_lcp=Cgdnd3Mtd2l6EAMyBAgAEEMyBggAEBYQHjIGCAAQFhAeMgYIABAWEB4yBggAEBYQHjIGCAAQFhAeMgYIABAWEB4yBggAEBYQHjIFCAAQhgMyBQgAEIYDOgcIABBHELADSgQIQRgASgQIRhgAUNUEWNUEYK8GaAFwAXgAgAGPAYgBjwGSAQMwLjGYAQCgAQHIAQjAAQE&sclient=gws-wiz"
   ]
  },
  {
   "cell_type": "markdown",
   "id": "bf7b3729-77e5-4cbd-87c6-a18ab99c2b12",
   "metadata": {},
   "source": [
    "Here are some more reasons why we need For Loops:\n",
    "\n",
    "- The needs of loop in a computer arises for various reasons depending on tasks to be performed.\n",
    "- Loops is needed in codes to excutes the actions as many times.\n",
    "- The process is done, such as getting an item of data and then conditions is checked such as whether a counter has reached a prescribed number. This method loop is needed in program.\n",
    "- In types of loop.for loop are needed as they Best express the programers intent.\n",
    "- Loops is needed for repeats a statement or group of statements while a given condition is satisfied as true.\n",
    "- Loops in computer programming are so important for perform the tasks within while reducing.\n",
    "- It also extent the geeater Time and effort of the users.we needs for excutes the tasks faster saving Time and energy.\n",
    "- Loops are needs to iterate some code that would otherwise takes lines and lines need a game loop that repeats the drawing of board, movement of items, input etc.\n",
    "- Loops are needed for software developers to create such software modules or programs that are effective and efficient and also to meet the requirements of business.\n",
    "- In order to get the print outs of the pay slips of Allah employees of a particular cost requires a loop to be assigned an then the loops can be employed to pick data belongings it's accounts such as current , Long term assets,expenses etc. Which may in turn to help to prepare trial balance income statement and other report that are need by management.\n",
    "- Validating input that has been read and reading lists of data terminated by a sentinel value are good applications of the while loop.\n",
    "\n",
    "Source:\n",
    "https://www.quora.com/Why-do-we-use-looping-in-programming"
   ]
  },
  {
   "cell_type": "markdown",
   "id": "b05cbda2-98e8-4df6-ac03-2b320286cac5",
   "metadata": {},
   "source": [
    "### What does a For Loop look like?\n",
    "<p style=\"text-align: left;\">\n",
    "  <img width=\"600\" alt=\"for loop\" src=\"../Media/L03-R-for-loop-pic.png\">\n",
    "</p>"
   ]
  },
  {
   "cell_type": "markdown",
   "id": "087d15b8-db35-44cc-9642-173c68311414",
   "metadata": {},
   "source": [
    "#\n",
    "### How to Create a For Loop"
   ]
  },
  {
   "cell_type": "markdown",
   "id": "4d0d23a0-2f8b-4790-b85f-a73637549a6a",
   "metadata": {},
   "source": [
    "A `for` loop is used for iterating over a sequence:\n",
    "\n",
    "This is less like the for keyword in other programming languages, and works more like an iterator method as found in other object-orientated programming languages.\n",
    "\n",
    "With the for loop we can execute a set of statements, once for each item in a vector, array, list, etc..\n",
    "\n",
    "Source:\n",
    "https://www.w3schools.com/r/r_for_loop.asp\n",
    "\n",
    "#"
   ]
  },
  {
   "cell_type": "markdown",
   "id": "839f28f6-3443-48c2-b865-82bb8f19a7a6",
   "metadata": {},
   "source": [
    "### For Loop Syntax over Sequence\n",
    "<p style=\"text-align: left;\">\n",
    "  <img width=\"600\" alt=\"For Loop Syntax over Sequence\" src=\"../Media/R-L3/For-Loop-Syntax-over-Sequence.jpg\">\n",
    "</p>\n",
    "\n",
    "#"
   ]
  },
  {
   "cell_type": "markdown",
   "id": "fbe62c85-8d20-4a02-830a-aa9aad8d7d72",
   "metadata": {},
   "source": [
    "### For Loop Syntax over List\n",
    "<p style=\"text-align: left;\">\n",
    "  <img width=\"600\" alt=\"For Loop Syntax over List\" src=\"../Media/R-L3/For-Loop-Syntax-over-List.png\">\n",
    "</p>\n",
    "\n",
    "#"
   ]
  },
  {
   "cell_type": "markdown",
   "id": "09bbe43b-5663-478c-8290-5467579b8063",
   "metadata": {},
   "source": [
    "### For Loop Syntax over Vector\n",
    "<p style=\"text-align: left;\">\n",
    "  <img width=\"600\" alt=\"For Loop Syntax over Vector\" src=\"../Media/R-L3/For-Loop-Syntax-over-Vector.png\">\n",
    "</p>\n",
    "\n",
    "#"
   ]
  },
  {
   "cell_type": "markdown",
   "id": "36645fcc-78c4-4356-912f-c224fd7a028e",
   "metadata": {},
   "source": [
    "# Now let's go through an Example and Practice..."
   ]
  },
  {
   "cell_type": "markdown",
   "id": "5c24fa5b-b3b1-4a86-ac0a-64b3c2df23f5",
   "metadata": {},
   "source": [
    "#\n",
    "# Handson Helper Example for DS102 Lesson 3"
   ]
  },
  {
   "cell_type": "markdown",
   "id": "ac812ac3-a9fd-454a-9153-18d60df67281",
   "metadata": {},
   "source": [
    "## Information:\n",
    "\n",
    "Formula for the Area of a Circle\n",
    "A circle is a closed curve formed by a set of points on a plane that are the same distance from its center. The area of a circle is the region enclosed by the circle. The area of a circle is equals to pi (π) multiplied by its radius squared.\n",
    "\n",
    "Pi (π) is the ratio of the circumference of a circle to its diameter. Pi is always the same number for any circle. The value of π (pi) is approximately 3.14159265358979323846… but usually rounding to 3.142 should be sufficient.\n",
    "\n",
    "The area of a circle is given by the formula:\n",
    "\n",
    "A = πr2    (see a mnemonic for this formula)\n",
    "where A is the area and r is the radius.\n",
    "\n",
    "Since the formula is only given in terms of radius, remember to change from diameter to radius when necessary. The radius is equals to half the diameter.\n",
    "\n",
    "\n",
    "## Instructions:\n",
    "Create a function called ```area()``` that computes the area of a circle from its argument.\n",
    "Create a for loop that will use your ```area()``` function to compute the radius with the following arguements: 1, 2, 3, 4, 5, 6, 7, 8, and 9.\n"
   ]
  },
  {
   "cell_type": "markdown",
   "id": "344148de-08da-4847-b8bc-b84ad8b0eaae",
   "metadata": {},
   "source": [
    "#\n",
    "# Step by Step\n",
    "- Vector\n",
    "- Function\n",
    "- For Loop"
   ]
  },
  {
   "cell_type": "markdown",
   "id": "ad2ab43e-6930-4bd6-b1f1-ac7d99560ebe",
   "metadata": {},
   "source": [
    "# Create Vector:"
   ]
  },
  {
   "cell_type": "markdown",
   "id": "0a2bf299-f57b-49a3-99ae-64bc51be8cab",
   "metadata": {},
   "source": [
    "- We know our radius elements are listed above."
   ]
  },
  {
   "cell_type": "code",
   "execution_count": 1,
   "id": "8e6d74aa-84fe-4b68-a481-214b5f44c2bd",
   "metadata": {},
   "outputs": [],
   "source": [
    "# Create a vector aka list called \"radius\", use \"c()\" function to create the vector\n",
    "radius <- c(1, 2, 3, 4, 5, 6, 7, 8, 9)"
   ]
  },
  {
   "cell_type": "markdown",
   "id": "fa26d7f4-a50d-41f7-84e3-f0d861e6f43f",
   "metadata": {},
   "source": [
    "# Create Function:"
   ]
  },
  {
   "cell_type": "markdown",
   "id": "80c020ef-058e-4376-a4a1-000827929b04",
   "metadata": {},
   "source": [
    "- We know that the area of a cirlce is pi times r squared. "
   ]
  },
  {
   "cell_type": "code",
   "execution_count": null,
   "id": "f58cb3fd-5912-43b8-8569-bc2a6ecd742a",
   "metadata": {},
   "outputs": [],
   "source": [
    "# Using the \"function()\" called \"area\". Naming our variable \"r\" \n",
    "area = function(r){ pi*(r^2) }"
   ]
  },
  {
   "cell_type": "markdown",
   "id": "fa92ba7c-25f8-4f87-a1e5-0ffa9ee1f2d0",
   "metadata": {},
   "source": [
    "# Create For Loop:"
   ]
  },
  {
   "cell_type": "markdown",
   "id": "e33f79e3-e744-4f81-a6a5-d45ebe3ba301",
   "metadata": {},
   "source": [
    "- We have our Vector and Function created. \n",
    "- Now Let's combined the Vector and Function through iterating the vector into the function. "
   ]
  },
  {
   "cell_type": "markdown",
   "id": "1fb8b579-9b8e-4808-a7d4-efc4ca875fe5",
   "metadata": {},
   "source": [
    "## Example 1\n",
    "```{r}\n",
    "for (variable in iterable) {\n",
    "   print(function(variable))\n",
    "}\n",
    "```"
   ]
  },
  {
   "cell_type": "code",
   "execution_count": null,
   "id": "8ba99e07-4143-4b6e-b4f6-4da1750e78dc",
   "metadata": {},
   "outputs": [],
   "source": [
    "for (r in radius) {\n",
    "  print(area(r))\n",
    "}"
   ]
  },
  {
   "cell_type": "markdown",
   "id": "d05f30e1-8d95-47c8-b7e0-19e1f45b6e8e",
   "metadata": {
    "tags": []
   },
   "source": [
    "### Break Down of Example 1:\n",
    "\n",
    "We are taking the `function area(r)` and using the `print() function` to call the output. "
   ]
  },
  {
   "cell_type": "markdown",
   "id": "7ec3fcb4-9f8a-40ed-bf2a-0493d03323f3",
   "metadata": {},
   "source": [
    "## Example 2 \n",
    "```{r}\n",
    "for (variable in iterable) {\n",
    "   cat(variable, function(variable),\"\\n\")\n",
    "}\n",
    "```"
   ]
  },
  {
   "cell_type": "code",
   "execution_count": null,
   "id": "20366c42-4b06-45cb-bc7e-7cde448e192b",
   "metadata": {},
   "outputs": [],
   "source": [
    "for (r in radius) {\n",
    "  cat(r,area(r),\"\\n\")\n",
    "}"
   ]
  },
  {
   "cell_type": "markdown",
   "id": "73647847-92da-4792-851e-929b40169239",
   "metadata": {},
   "source": [
    "### Break Down of Exmaple 2:\n",
    "\n",
    "We are taking the variable `r` and the `function area(r)` and combining them into a single print statement using the `cat() function`. Remember the `cat() function` is a fancy print function that allows you to prints strings and multiple variables at once. The `\\n` prints each output on a seperate line to make the output look more organized and easier to read. Also, very important to keep in mind... When using the `cat()` or `print()` the variables must be in the same order when creating the for loop. Notice how `r in radius` is the same order and we `cat()` and `print()` always. "
   ]
  },
  {
   "cell_type": "markdown",
   "id": "67fa5d95-58c5-436b-b84f-0eeda2c44d47",
   "metadata": {},
   "source": [
    "## Example 3\n",
    "```{r}\n",
    "for (variable in iterable) {\n",
    "    NewVariableName= FunctionName(variable)\n",
    "    cat(variable, NewVariableName,\"\\n\")\n",
    "}\n",
    "```"
   ]
  },
  {
   "cell_type": "code",
   "execution_count": null,
   "id": "9d2e1761-ce5f-4df3-a7a2-517cd01787e3",
   "metadata": {},
   "outputs": [],
   "source": [
    "for (r in radius) {\n",
    "  connect = area(r)\n",
    "  cat(r,connect,\"\\n\")\n",
    "}"
   ]
  },
  {
   "cell_type": "markdown",
   "id": "c3b9d651-4776-4988-93dd-b3b0737e8ccc",
   "metadata": {
    "tags": []
   },
   "source": [
    "### Break Down of Example 3:\n",
    "\n",
    "Let's say you don't like the way `area(r)` looks... You can simply give it a variable name, in our case we called it `connect`. Now just plug that into the `cat() function`. "
   ]
  },
  {
   "cell_type": "markdown",
   "id": "68cb452e-d5ed-478b-8de1-64bdec81417d",
   "metadata": {},
   "source": [
    "## Example 4\n",
    "```{r}\n",
    "for (variable in iterable) {\n",
    "    NewVariableName= FunctionName(variable)\n",
    "    cat(\"The statment piece\",variable,\"you can write wahtever you want in the quotes\", NewVariableName,\".\\n\")\n",
    "}\n",
    "```"
   ]
  },
  {
   "cell_type": "code",
   "execution_count": null,
   "id": "44560ef0-d055-43e2-b373-d2647418b194",
   "metadata": {},
   "outputs": [],
   "source": [
    "for (r in radius) {\n",
    "  connect = area(r)\n",
    "  cat(\"The radius is\",r,\", computing the area to\",connect,\"!\\n\")\n",
    "}"
   ]
  },
  {
   "cell_type": "markdown",
   "id": "cae14d2c-2be5-49be-8e8a-3db932f9203a",
   "metadata": {},
   "source": [
    "#\n",
    "# THE END"
   ]
  }
 ],
 "metadata": {
  "kernelspec": {
   "display_name": "R",
   "language": "R",
   "name": "ir"
  },
  "language_info": {
   "codemirror_mode": "r",
   "file_extension": ".r",
   "mimetype": "text/x-r-source",
   "name": "R",
   "pygments_lexer": "r",
   "version": "4.2.1"
  }
 },
 "nbformat": 4,
 "nbformat_minor": 5
}
