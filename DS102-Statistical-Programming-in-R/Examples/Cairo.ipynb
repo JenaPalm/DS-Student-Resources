{
 "cells": [
  {
   "cell_type": "code",
   "execution_count": 1,
   "id": "f699367e-ba58-4929-802e-e6dc992c7d75",
   "metadata": {
    "tags": []
   },
   "outputs": [],
   "source": [
    "# Cairo"
   ]
  },
  {
   "cell_type": "code",
   "execution_count": 2,
   "id": "9d0f3ab5-665d-4811-b03e-a91661c8e74e",
   "metadata": {
    "tags": []
   },
   "outputs": [
    {
     "name": "stderr",
     "output_type": "stream",
     "text": [
      "Warning message in install.packages(\"Cairo\"):\n",
      "“installation of package ‘Cairo’ had non-zero exit status”\n",
      "Updating HTML index of packages in '.Library'\n",
      "\n",
      "Making 'packages.html' ...\n",
      " done\n",
      "\n"
     ]
    }
   ],
   "source": [
    "install.packages('Cairo')"
   ]
  },
  {
   "cell_type": "code",
   "execution_count": 2,
   "id": "872b1ac3-4019-45f8-a75f-6fd990e38a55",
   "metadata": {
    "tags": []
   },
   "outputs": [
    {
     "ename": "ERROR",
     "evalue": "Error in library(\"Cairo\"): there is no package called ‘Cairo’\n",
     "output_type": "error",
     "traceback": [
      "Error in library(\"Cairo\"): there is no package called ‘Cairo’\nTraceback:\n",
      "1. library(\"Cairo\")"
     ]
    }
   ],
   "source": [
    "library('Cairo')"
   ]
  },
  {
   "cell_type": "code",
   "execution_count": null,
   "id": "9858a072-a5b7-4a5f-bf5d-af4f5d850699",
   "metadata": {},
   "outputs": [],
   "source": [
    "# CairoWin(6,6);\n",
    "CairoPNG(filename = \"PB-hexa2.png\", width = 600, height = 600);"
   ]
  },
  {
   "cell_type": "code",
   "execution_count": null,
   "id": "f9dd9933-a148-4c77-a327-dd43c683f5b9",
   "metadata": {},
   "outputs": [],
   "source": [
    "\n",
    "\n",
    "data<-read.table(\"../Data/PB_r.txt\",header=TRUE);\n",
    "a<-data$a;  # x coordinate of point of the superimposed/mixture process \n",
    "b<-data$b;  # y coordinate of point of the superimposed/mixture process \n",
    "aNN<-data$aNN;  # x coordinate of nearest neighbor point to (a,b) across all processes\n",
    "bNN<-data$bNN;  # y coordinate of nearest neighbor point to (a,b) across all processes\n",
    "processID<-data$processID;\n",
    "\n",
    "plot(a,b,xlim=c(0,15),ylim=c(0,15),pch=20,cex=0,\n",
    "                    col=rgb(0,0,0),xlab=\"\",ylab=\"\",axes=TRUE  );\n",
    "arrows(a, b, aNN, bNN, length = 0.10, angle = 10, code = 2,col=rgb(0.7,0.7,0.7));\n",
    "\n",
    "aa<-data$a[processID == 0];\n",
    "bb<-data$b[processID == 0];\n",
    "points(aa,bb,col=rgb(1,0,0),pch=20,cex=1.75);\n",
    "\n",
    "aa<-data$a[processID == 1];\n",
    "bb<-data$b[processID == 1];\n",
    "points(aa,bb,col=rgb(0,0,1),pch=20,cex=1.55);\n",
    "\n",
    "aa<-data$a[processID == 2];\n",
    "bb<-data$b[processID == 2];\n",
    "points(aa,bb,col=rgb(1,0.7,0),pch=20,cex=1.75);\n",
    "\n",
    "aa<-data$a[processID == 3];\n",
    "bb<-data$b[processID == 3];\n",
    "points(aa,bb,col=rgb(0,0,0),pch=20,cex=1.75);\n",
    "\n",
    "aa<-data$a[processID == 4];\n",
    "bb<-data$b[processID == 4];\n",
    "points(aa,bb,col=rgb(0,0.7,0),pch=20,cex=1.75);\n",
    "\n",
    "dev.off();"
   ]
  }
 ],
 "metadata": {
  "kernelspec": {
   "display_name": "R",
   "language": "R",
   "name": "ir"
  },
  "language_info": {
   "codemirror_mode": "r",
   "file_extension": ".r",
   "mimetype": "text/x-r-source",
   "name": "R",
   "pygments_lexer": "r",
   "version": "4.2.2"
  }
 },
 "nbformat": 4,
 "nbformat_minor": 5
}
