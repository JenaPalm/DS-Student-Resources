{
 "cells": [
  {
   "cell_type": "markdown",
   "id": "773b7373-4e94-49ce-befc-165200cc6ea0",
   "metadata": {},
   "source": [
    "# Choosing the right statistic\n",
    "\n",
    "[reference](https://stats.oarc.ucla.edu/r/whatstat/what-statistical-analysis-should-i-usestatistical-analyses-using-r/#1sampt)"
   ]
  },
  {
   "cell_type": "markdown",
   "id": "53484c6d-51e9-46b7-bed6-e496c7d798f1",
   "metadata": {},
   "source": [
    "### Introduction\n",
    "This page shows how to perform a number of statistical tests using R. Each section gives a brief description of the aim of the statistical test, when it is used, an example showing the R commands and R output with a brief interpretation of the output. You can see the page [Choosing the Correct Statistical Test](https://stats.idre.ucla.edu/other/mult-pkg/whatstat/) for a table that shows an overview of when each test is appropriate to use.  In deciding which test is appropriate to use, it is important to consider the type of variables that you have (i.e., whether your variables are categorical, ordinal or interval and whether they are normally distributed), see What is the difference between categorical, ordinal and interval variables? for more information on this."
   ]
  },
  {
   "cell_type": "code",
   "execution_count": 2,
   "id": "d7cd1240-48e0-4a00-8d7d-810a5d75c97b",
   "metadata": {},
   "outputs": [],
   "source": [
    "hsb2 <- within(read.csv(\"https://stats.idre.ucla.edu/stat/data/hsb2.csv\"), {\n",
    "    race <- as.factor(race)\n",
    "    schtyp <- as.factor(schtyp)\n",
    "    prog <- as.factor(prog)\n",
    "})\n",
    "\n",
    "attach(hsb2)"
   ]
  },
  {
   "cell_type": "code",
   "execution_count": 5,
   "id": "a25671c8-f3d5-4b73-8d70-65ffd1ec1b8f",
   "metadata": {},
   "outputs": [
    {
     "data": {
      "text/plain": [
       "\n",
       "\tOne Sample t-test\n",
       "\n",
       "data:  write\n",
       "t = 4.1403, df = 199, p-value = 5.121e-05\n",
       "alternative hypothesis: true mean is not equal to 50\n",
       "95 percent confidence interval:\n",
       " 51.45332 54.09668\n",
       "sample estimates:\n",
       "mean of x \n",
       "   52.775 \n"
      ]
     },
     "metadata": {},
     "output_type": "display_data"
    }
   ],
   "source": [
    "# One sample t-test\n",
    "t.test(write, mu = 50)"
   ]
  },
  {
   "cell_type": "code",
   "execution_count": 6,
   "id": "f6d86651-becd-4c4f-ba21-99d8ec4008db",
   "metadata": {},
   "outputs": [
    {
     "data": {
      "text/plain": [
       "\n",
       "\tWilcoxon signed rank test with continuity correction\n",
       "\n",
       "data:  write\n",
       "V = 13177, p-value = 3.702e-05\n",
       "alternative hypothesis: true location is not equal to 50\n"
      ]
     },
     "metadata": {},
     "output_type": "display_data"
    }
   ],
   "source": [
    "# One sample median test\n",
    "wilcox.test(write, mu = 50)"
   ]
  },
  {
   "cell_type": "code",
   "execution_count": 7,
   "id": "345b47e6-4dce-41cb-9633-5199e93564c5",
   "metadata": {},
   "outputs": [
    {
     "data": {
      "text/plain": [
       "\n",
       "\t1-sample proportions test with continuity correction\n",
       "\n",
       "data:  sum(female) out of length(female), null probability 0.5\n",
       "X-squared = 1.445, df = 1, p-value = 0.2293\n",
       "alternative hypothesis: true p is not equal to 0.5\n",
       "95 percent confidence interval:\n",
       " 0.4733037 0.6149394\n",
       "sample estimates:\n",
       "    p \n",
       "0.545 \n"
      ]
     },
     "metadata": {},
     "output_type": "display_data"
    }
   ],
   "source": [
    "# Binomial test\n",
    "prop.test(sum(female), length(female), p = 0.5)"
   ]
  },
  {
   "cell_type": "code",
   "execution_count": 8,
   "id": "ac3bed6e-c641-4f59-9f19-faa5e03eff6b",
   "metadata": {},
   "outputs": [
    {
     "data": {
      "text/plain": [
       "\n",
       "\tChi-squared test for given probabilities\n",
       "\n",
       "data:  table(race)\n",
       "X-squared = 5.0286, df = 3, p-value = 0.1697\n"
      ]
     },
     "metadata": {},
     "output_type": "display_data"
    }
   ],
   "source": [
    "# Chi-square goodness of fit\n",
    "chisq.test(table(race), p = c(10, 10, 10, 70)/100)"
   ]
  },
  {
   "cell_type": "code",
   "execution_count": 9,
   "id": "1411386e-4694-4915-8ea1-f1a52ae27e3c",
   "metadata": {},
   "outputs": [
    {
     "data": {
      "text/plain": [
       "\n",
       "\tWelch Two Sample t-test\n",
       "\n",
       "data:  write by female\n",
       "t = -3.6564, df = 169.71, p-value = 0.0003409\n",
       "alternative hypothesis: true difference in means between group 0 and group 1 is not equal to 0\n",
       "95 percent confidence interval:\n",
       " -7.499159 -2.240734\n",
       "sample estimates:\n",
       "mean in group 0 mean in group 1 \n",
       "       50.12088        54.99083 \n"
      ]
     },
     "metadata": {},
     "output_type": "display_data"
    }
   ],
   "source": [
    "# Two independent samples t-test\n",
    "t.test(write ~ female)"
   ]
  },
  {
   "cell_type": "code",
   "execution_count": 10,
   "id": "b230ab56-2081-4534-967d-94b282f938d1",
   "metadata": {},
   "outputs": [
    {
     "data": {
      "text/plain": [
       "\n",
       "\tWilcoxon rank sum test with continuity correction\n",
       "\n",
       "data:  write by female\n",
       "W = 3606, p-value = 0.0008749\n",
       "alternative hypothesis: true location shift is not equal to 0\n"
      ]
     },
     "metadata": {},
     "output_type": "display_data"
    }
   ],
   "source": [
    "# Wilcoxon-Mann-Whitney test\n",
    "wilcox.test(write ~ female)"
   ]
  },
  {
   "cell_type": "code",
   "execution_count": 11,
   "id": "8060e75a-bbb9-4969-9967-9b19818fa148",
   "metadata": {},
   "outputs": [
    {
     "data": {
      "text/plain": [
       "\n",
       "\tPearson's Chi-squared test with Yates' continuity correction\n",
       "\n",
       "data:  table(female, schtyp)\n",
       "X-squared = 0.00054009, df = 1, p-value = 0.9815\n"
      ]
     },
     "metadata": {},
     "output_type": "display_data"
    }
   ],
   "source": [
    "# Chi-square test\n",
    "chisq.test(table(female, schtyp))"
   ]
  },
  {
   "cell_type": "code",
   "execution_count": 12,
   "id": "a4546591-97c5-4c33-ae15-41aa2056b4c5",
   "metadata": {},
   "outputs": [
    {
     "data": {
      "text/plain": [
       "\n",
       "\tFisher's Exact Test for Count Data\n",
       "\n",
       "data:  table(race, schtyp)\n",
       "p-value = 0.5975\n",
       "alternative hypothesis: two.sided\n"
      ]
     },
     "metadata": {},
     "output_type": "display_data"
    }
   ],
   "source": [
    "# Fisher’s exact test\n",
    "fisher.test(table(race, schtyp))"
   ]
  },
  {
   "cell_type": "code",
   "execution_count": 13,
   "id": "e77f9919-47e6-42ae-82cf-977d29c8463c",
   "metadata": {},
   "outputs": [
    {
     "data": {
      "text/plain": [
       "             Df Sum Sq Mean Sq F value   Pr(>F)    \n",
       "prog          2   3176  1587.8   21.27 4.31e-09 ***\n",
       "Residuals   197  14703    74.6                     \n",
       "---\n",
       "Signif. codes:  0 ‘***’ 0.001 ‘**’ 0.01 ‘*’ 0.05 ‘.’ 0.1 ‘ ’ 1"
      ]
     },
     "metadata": {},
     "output_type": "display_data"
    }
   ],
   "source": [
    "# One-way ANOVA\n",
    "summary(aov(write ~ prog))"
   ]
  },
  {
   "cell_type": "code",
   "execution_count": 14,
   "id": "0c4f02eb-643f-4a62-8c39-e1533e94650a",
   "metadata": {},
   "outputs": [
    {
     "data": {
      "text/plain": [
       "\n",
       "\tKruskal-Wallis rank sum test\n",
       "\n",
       "data:  write and prog\n",
       "Kruskal-Wallis chi-squared = 34.045, df = 2, p-value = 4.047e-08\n"
      ]
     },
     "metadata": {},
     "output_type": "display_data"
    }
   ],
   "source": [
    "# Kruskal Wallis test\n",
    "kruskal.test(write, prog)"
   ]
  },
  {
   "cell_type": "code",
   "execution_count": 15,
   "id": "f845455c-cd38-44fa-b90c-8e400ffb8ae4",
   "metadata": {},
   "outputs": [
    {
     "data": {
      "text/plain": [
       "\n",
       "\tPaired t-test\n",
       "\n",
       "data:  write and read\n",
       "t = 0.86731, df = 199, p-value = 0.3868\n",
       "alternative hypothesis: true mean difference is not equal to 0\n",
       "95 percent confidence interval:\n",
       " -0.6941424  1.7841424\n",
       "sample estimates:\n",
       "mean difference \n",
       "          0.545 \n"
      ]
     },
     "metadata": {},
     "output_type": "display_data"
    }
   ],
   "source": [
    "# Paired t-test\n",
    "t.test(write, read, paired = TRUE)"
   ]
  },
  {
   "cell_type": "code",
   "execution_count": 16,
   "id": "ab701cd2-ad3d-4051-9eaf-629e7fff2fae",
   "metadata": {},
   "outputs": [
    {
     "data": {
      "text/plain": [
       "\n",
       "\tWilcoxon signed rank test with continuity correction\n",
       "\n",
       "data:  write and read\n",
       "V = 9261, p-value = 0.3666\n",
       "alternative hypothesis: true location shift is not equal to 0\n"
      ]
     },
     "metadata": {},
     "output_type": "display_data"
    }
   ],
   "source": [
    "# Wilcoxon signed rank sum test\n",
    "wilcox.test(write, read, paired = TRUE)"
   ]
  },
  {
   "cell_type": "code",
   "execution_count": 17,
   "id": "e276282f-6c4f-4bd6-aad9-ad0efe1b3fb7",
   "metadata": {},
   "outputs": [
    {
     "data": {
      "text/plain": [
       "\n",
       "\tMcNemar's Chi-squared test with continuity correction\n",
       "\n",
       "data:  X\n",
       "McNemar's chi-squared = 0, df = 1, p-value = 1\n"
      ]
     },
     "metadata": {},
     "output_type": "display_data"
    }
   ],
   "source": [
    "# McNemar test\n",
    "X <- matrix(c(172, 7, 6, 15), 2, 2)\n",
    "mcnemar.test(X)"
   ]
  },
  {
   "cell_type": "code",
   "execution_count": 18,
   "id": "c38645f0-6282-4879-9aee-5a5af205eecf",
   "metadata": {},
   "outputs": [
    {
     "name": "stderr",
     "output_type": "stream",
     "text": [
      "Loading required package: car\n",
      "\n",
      "Loading required package: carData\n",
      "\n"
     ]
    }
   ],
   "source": [
    "# One-way repeated measures ANOVA\n",
    "require(car)"
   ]
  },
  {
   "cell_type": "code",
   "execution_count": 19,
   "id": "5b5abb3f-e71e-4523-b9c5-c1b640f7a0f9",
   "metadata": {},
   "outputs": [
    {
     "name": "stderr",
     "output_type": "stream",
     "text": [
      "Loading required package: foreign\n",
      "\n"
     ]
    }
   ],
   "source": [
    "require(foreign)"
   ]
  },
  {
   "cell_type": "code",
   "execution_count": 20,
   "id": "b1126910-b8f6-459a-b440-c18232b7251c",
   "metadata": {},
   "outputs": [
    {
     "name": "stdout",
     "output_type": "stream",
     "text": [
      "Anova Table (Type II tests)\n",
      "\n",
      "Response: y\n",
      "          Sum Sq Df F value    Pr(>F)    \n",
      "a           49.0  3 11.6271 0.0001056 ***\n",
      "s           31.5  7  3.2034 0.0180188 *  \n",
      "Residuals   29.5 21                      \n",
      "---\n",
      "Signif. codes:  0 ‘***’ 0.001 ‘**’ 0.01 ‘*’ 0.05 ‘.’ 0.1 ‘ ’ 1\n"
     ]
    }
   ],
   "source": [
    "kirk <- within(read.dta(\"https://stats.idre.ucla.edu/stat/stata/examples/kirk/rb4.dta\"), \n",
    "    {\n",
    "        s <- as.factor(s)\n",
    "        a <- as.factor(a)\n",
    "    })\n",
    "\n",
    "model <- lm(y ~ a + s, data = kirk)\n",
    "analysis <- Anova(model, idata = kirk, idesign = ~s)\n",
    "print(analysis)"
   ]
  },
  {
   "cell_type": "code",
   "execution_count": 21,
   "id": "ec664794-bb2a-4104-8d66-611b2bdbab60",
   "metadata": {},
   "outputs": [
    {
     "name": "stderr",
     "output_type": "stream",
     "text": [
      "Loading required package: lme4\n",
      "\n",
      "Loading required package: Matrix\n",
      "\n"
     ]
    }
   ],
   "source": [
    "# Repeated measures logistic regression\n",
    "require(lme4)"
   ]
  },
  {
   "cell_type": "code",
   "execution_count": 22,
   "id": "a6b4ea10-c6f2-428f-aa20-48ac7e3eccd3",
   "metadata": {},
   "outputs": [
    {
     "data": {
      "text/plain": [
       "Generalized linear mixed model fit by maximum likelihood (Laplace\n",
       "  Approximation) [glmerMod]\n",
       " Family: binomial  ( logit )\n",
       "Formula: highpulse ~ diet + (1 | id)\n",
       "   Data: exercise\n",
       "     AIC      BIC   logLik deviance df.resid \n",
       "105.4679 112.9674 -49.7340  99.4679       87 \n",
       "Random effects:\n",
       " Groups Name        Std.Dev.\n",
       " id     (Intercept) 1.821   \n",
       "Number of obs: 90, groups:  id, 30\n",
       "Fixed Effects:\n",
       "(Intercept)        diet2  \n",
       "     -2.004        1.145  "
      ]
     },
     "metadata": {},
     "output_type": "display_data"
    }
   ],
   "source": [
    "exercise <- within(read.dta(\"https://stats.idre.ucla.edu/stat/stata/whatstat/exercise.dta\"), \n",
    "    {\n",
    "        id <- as.factor(id)\n",
    "        diet <- as.factor(diet)\n",
    "    })\n",
    "glmer(highpulse ~ diet + (1 | id), data = exercise, family = binomial)"
   ]
  },
  {
   "cell_type": "code",
   "execution_count": 23,
   "id": "d7787e22-5f1b-4e6c-9253-6aec392f7971",
   "metadata": {},
   "outputs": [
    {
     "data": {
      "text/html": [
       "<table class=\"dataframe\">\n",
       "<caption>A anova: 4 × 5</caption>\n",
       "<thead>\n",
       "\t<tr><th></th><th scope=col>Df</th><th scope=col>Sum Sq</th><th scope=col>Mean Sq</th><th scope=col>F value</th><th scope=col>Pr(&gt;F)</th></tr>\n",
       "\t<tr><th></th><th scope=col>&lt;int&gt;</th><th scope=col>&lt;dbl&gt;</th><th scope=col>&lt;dbl&gt;</th><th scope=col>&lt;dbl&gt;</th><th scope=col>&lt;dbl&gt;</th></tr>\n",
       "</thead>\n",
       "<tbody>\n",
       "\t<tr><th scope=row>female</th><td>  1</td><td>1.176214e+03</td><td>1.176214e+03</td><td>1.472116e+01</td><td>0.0001680282</td></tr>\n",
       "\t<tr><th scope=row>ses</th><td>  1</td><td>1.042318e+03</td><td>1.042318e+03</td><td>1.304536e+01</td><td>0.0003862492</td></tr>\n",
       "\t<tr><th scope=row>female:ses</th><td>  1</td><td>3.741666e-02</td><td>3.741666e-02</td><td>4.682964e-04</td><td>0.9827570151</td></tr>\n",
       "\t<tr><th scope=row>Residuals</th><td>196</td><td>1.566031e+04</td><td>7.989952e+01</td><td>          NA</td><td>          NA</td></tr>\n",
       "</tbody>\n",
       "</table>\n"
      ],
      "text/latex": [
       "A anova: 4 × 5\n",
       "\\begin{tabular}{r|lllll}\n",
       "  & Df & Sum Sq & Mean Sq & F value & Pr(>F)\\\\\n",
       "  & <int> & <dbl> & <dbl> & <dbl> & <dbl>\\\\\n",
       "\\hline\n",
       "\tfemale &   1 & 1.176214e+03 & 1.176214e+03 & 1.472116e+01 & 0.0001680282\\\\\n",
       "\tses &   1 & 1.042318e+03 & 1.042318e+03 & 1.304536e+01 & 0.0003862492\\\\\n",
       "\tfemale:ses &   1 & 3.741666e-02 & 3.741666e-02 & 4.682964e-04 & 0.9827570151\\\\\n",
       "\tResiduals & 196 & 1.566031e+04 & 7.989952e+01 &           NA &           NA\\\\\n",
       "\\end{tabular}\n"
      ],
      "text/markdown": [
       "\n",
       "A anova: 4 × 5\n",
       "\n",
       "| <!--/--> | Df &lt;int&gt; | Sum Sq &lt;dbl&gt; | Mean Sq &lt;dbl&gt; | F value &lt;dbl&gt; | Pr(&gt;F) &lt;dbl&gt; |\n",
       "|---|---|---|---|---|---|\n",
       "| female |   1 | 1.176214e+03 | 1.176214e+03 | 1.472116e+01 | 0.0001680282 |\n",
       "| ses |   1 | 1.042318e+03 | 1.042318e+03 | 1.304536e+01 | 0.0003862492 |\n",
       "| female:ses |   1 | 3.741666e-02 | 3.741666e-02 | 4.682964e-04 | 0.9827570151 |\n",
       "| Residuals | 196 | 1.566031e+04 | 7.989952e+01 |           NA |           NA |\n",
       "\n"
      ],
      "text/plain": [
       "           Df  Sum Sq       Mean Sq      F value      Pr(>F)      \n",
       "female       1 1.176214e+03 1.176214e+03 1.472116e+01 0.0001680282\n",
       "ses          1 1.042318e+03 1.042318e+03 1.304536e+01 0.0003862492\n",
       "female:ses   1 3.741666e-02 3.741666e-02 4.682964e-04 0.9827570151\n",
       "Residuals  196 1.566031e+04 7.989952e+01           NA           NA"
      ]
     },
     "metadata": {},
     "output_type": "display_data"
    }
   ],
   "source": [
    "# Factorial ANOVA\n",
    "anova(lm(write ~ female * ses, data = hsb2))"
   ]
  },
  {
   "cell_type": "code",
   "execution_count": 24,
   "id": "d31a8722-10ef-4529-9d6f-b828a3e53e9f",
   "metadata": {},
   "outputs": [
    {
     "data": {
      "text/plain": [
       "\n",
       "\tFriedman rank sum test\n",
       "\n",
       "data:  cbind(read, write, math)\n",
       "Friedman chi-squared = 0.64491, df = 2, p-value = 0.7244\n"
      ]
     },
     "metadata": {},
     "output_type": "display_data"
    }
   ],
   "source": [
    "# Friedman test\n",
    "friedman.test(cbind(read, write, math))"
   ]
  },
  {
   "cell_type": "code",
   "execution_count": 25,
   "id": "a833e63e-655d-41ae-bd86-518e1ddaa93c",
   "metadata": {},
   "outputs": [
    {
     "data": {
      "text/plain": [
       "\n",
       "Call:\n",
       "glm(formula = female ~ prog * schtyp, family = binomial, data = hsb2)\n",
       "\n",
       "Deviance Residuals: \n",
       "   Min      1Q  Median      3Q     Max  \n",
       "-1.893  -1.249   1.064   1.107   1.199  \n",
       "\n",
       "Coefficients:\n",
       "              Estimate Std. Error z value Pr(>|z|)\n",
       "(Intercept)   -0.05129    0.32036  -0.160    0.873\n",
       "prog2          0.32459    0.39108   0.830    0.407\n",
       "prog3          0.21835    0.43191   0.506    0.613\n",
       "schtyp2        1.66073    1.14131   1.455    0.146\n",
       "prog2:schtyp2 -1.93402    1.23271  -1.569    0.117\n",
       "prog3:schtyp2 -1.82779    1.84025  -0.993    0.321\n",
       "\n",
       "(Dispersion parameter for binomial family taken to be 1)\n",
       "\n",
       "    Null deviance: 275.64  on 199  degrees of freedom\n",
       "Residual deviance: 272.49  on 194  degrees of freedom\n",
       "AIC: 284.49\n",
       "\n",
       "Number of Fisher Scoring iterations: 3\n"
      ]
     },
     "metadata": {},
     "output_type": "display_data"
    }
   ],
   "source": [
    "# Factorial logistic regression\n",
    "summary(glm(female ~ prog * schtyp, data = hsb2, family = binomial))"
   ]
  },
  {
   "cell_type": "code",
   "execution_count": 26,
   "id": "63acd494-cfca-4bb2-836f-9a622ee1d14e",
   "metadata": {},
   "outputs": [
    {
     "data": {
      "text/html": [
       "0.596776479088045"
      ],
      "text/latex": [
       "0.596776479088045"
      ],
      "text/markdown": [
       "0.596776479088045"
      ],
      "text/plain": [
       "[1] 0.5967765"
      ]
     },
     "metadata": {},
     "output_type": "display_data"
    }
   ],
   "source": [
    "# Correlation\n",
    "cor(read, write)"
   ]
  },
  {
   "cell_type": "code",
   "execution_count": 27,
   "id": "299868f3-d103-4652-b74a-d3ebf91579a2",
   "metadata": {},
   "outputs": [
    {
     "data": {
      "text/plain": [
       "\n",
       "\tPearson's product-moment correlation\n",
       "\n",
       "data:  read and write\n",
       "t = 10.465, df = 198, p-value < 2.2e-16\n",
       "alternative hypothesis: true correlation is not equal to 0\n",
       "95 percent confidence interval:\n",
       " 0.4993831 0.6792753\n",
       "sample estimates:\n",
       "      cor \n",
       "0.5967765 \n"
      ]
     },
     "metadata": {},
     "output_type": "display_data"
    }
   ],
   "source": [
    "cor.test(read, write)"
   ]
  },
  {
   "cell_type": "code",
   "execution_count": 28,
   "id": "ff7053c7-9582-45c8-8365-31b29da5d739",
   "metadata": {},
   "outputs": [
    {
     "data": {
      "text/plain": [
       "\n",
       "Call:\n",
       "lm(formula = write ~ read)\n",
       "\n",
       "Coefficients:\n",
       "(Intercept)         read  \n",
       "    23.9594       0.5517  \n"
      ]
     },
     "metadata": {},
     "output_type": "display_data"
    }
   ],
   "source": [
    "# Simple linear regression\n",
    "lm(write ~ read)"
   ]
  },
  {
   "cell_type": "code",
   "execution_count": 29,
   "id": "5a7e80e6-5c93-4c1b-894d-21ddcb8a13c7",
   "metadata": {},
   "outputs": [
    {
     "name": "stderr",
     "output_type": "stream",
     "text": [
      "Warning message in cor.test.default(write, read, method = \"spearman\"):\n",
      "“Cannot compute exact p-value with ties”\n"
     ]
    },
    {
     "data": {
      "text/plain": [
       "\n",
       "\tSpearman's rank correlation rho\n",
       "\n",
       "data:  write and read\n",
       "S = 510993, p-value < 2.2e-16\n",
       "alternative hypothesis: true rho is not equal to 0\n",
       "sample estimates:\n",
       "      rho \n",
       "0.6167455 \n"
      ]
     },
     "metadata": {},
     "output_type": "display_data"
    }
   ],
   "source": [
    "# Non-parametric correlation\n",
    "cor.test(write, read, method = \"spearman\")"
   ]
  },
  {
   "cell_type": "code",
   "execution_count": 30,
   "id": "2ff89eca-9a0f-48ff-affa-bb4460803402",
   "metadata": {},
   "outputs": [
    {
     "data": {
      "text/plain": [
       "\n",
       "Call:  glm(formula = female ~ read, family = binomial)\n",
       "\n",
       "Coefficients:\n",
       "(Intercept)         read  \n",
       "    0.72609     -0.01044  \n",
       "\n",
       "Degrees of Freedom: 199 Total (i.e. Null);  198 Residual\n",
       "Null Deviance:\t    275.6 \n",
       "Residual Deviance: 275.1 \tAIC: 279.1"
      ]
     },
     "metadata": {},
     "output_type": "display_data"
    }
   ],
   "source": [
    "# Simple logistic regression\n",
    "glm(female ~ read, family = binomial)"
   ]
  },
  {
   "cell_type": "code",
   "execution_count": 31,
   "id": "d0e5a5a5-7281-445d-9183-72d081b95db7",
   "metadata": {},
   "outputs": [
    {
     "data": {
      "text/plain": [
       "\n",
       "Call:\n",
       "lm(formula = write ~ female + read + math + science + socst)\n",
       "\n",
       "Coefficients:\n",
       "(Intercept)       female         read         math      science        socst  \n",
       "     6.1388       5.4925       0.1254       0.2381       0.2419       0.2293  \n"
      ]
     },
     "metadata": {},
     "output_type": "display_data"
    }
   ],
   "source": [
    "# Multiple regression\n",
    "lm(write ~ female + read + math + science + socst)"
   ]
  },
  {
   "cell_type": "code",
   "execution_count": 32,
   "id": "8be97d31-8968-4ce4-a1f0-3a067b9242b5",
   "metadata": {},
   "outputs": [
    {
     "data": {
      "text/plain": [
       "             Df Sum Sq Mean Sq F value   Pr(>F)    \n",
       "prog          2   3176    1588   28.65 1.21e-11 ***\n",
       "read          1   3842    3842   69.33 1.41e-14 ***\n",
       "Residuals   196  10861      55                     \n",
       "---\n",
       "Signif. codes:  0 ‘***’ 0.001 ‘**’ 0.01 ‘*’ 0.05 ‘.’ 0.1 ‘ ’ 1"
      ]
     },
     "metadata": {},
     "output_type": "display_data"
    }
   ],
   "source": [
    "# Analysis of covariance\n",
    "summary(aov(write ~ prog + read))"
   ]
  },
  {
   "cell_type": "code",
   "execution_count": 33,
   "id": "c9ea402b-a2bf-4bd7-bb4a-82eb706a8518",
   "metadata": {},
   "outputs": [
    {
     "data": {
      "text/plain": [
       "\n",
       "Call:  glm(formula = female ~ read + write, family = binomial)\n",
       "\n",
       "Coefficients:\n",
       "(Intercept)         read        write  \n",
       "   -1.70614     -0.07101      0.10637  \n",
       "\n",
       "Degrees of Freedom: 199 Total (i.e. Null);  197 Residual\n",
       "Null Deviance:\t    275.6 \n",
       "Residual Deviance: 247.8 \tAIC: 253.8"
      ]
     },
     "metadata": {},
     "output_type": "display_data"
    }
   ],
   "source": [
    "# Multiple logistic regression\n",
    "glm(female ~ read + write, family = binomial)"
   ]
  },
  {
   "cell_type": "markdown",
   "id": "e9586183-e28e-4f24-9af4-a698ffddb50f",
   "metadata": {},
   "source": [
    "### Ordered logistic regression\n",
    "Ordered logistic regression is used when the dependent variable is ordered, but not continuous. For example, using the hsb2 data file we will create an ordered variable called write3. This variable will have the values 1, 2 and 3, indicating a low, medium or high writing score. We do not generally recommend categorizing a continuous variable in this way; we are simply creating a variable to use for this example. We will use gender (female), reading score (read) and social studies score (socst) as predictor variables in this model."
   ]
  },
  {
   "cell_type": "code",
   "execution_count": 34,
   "id": "533e9d27-efef-47bb-97e4-b83f45f4c76c",
   "metadata": {},
   "outputs": [
    {
     "name": "stderr",
     "output_type": "stream",
     "text": [
      "Loading required package: MASS\n",
      "\n"
     ]
    }
   ],
   "source": [
    "require(MASS)"
   ]
  },
  {
   "cell_type": "code",
   "execution_count": 35,
   "id": "37834c3e-37cf-44f6-ba26-c089d117807a",
   "metadata": {},
   "outputs": [
    {
     "data": {
      "text/plain": [
       "\n",
       " 1  2  3 \n",
       "61 61 78 "
      ]
     },
     "metadata": {},
     "output_type": "display_data"
    }
   ],
   "source": [
    "# Creat order variable write3 as a factor with levels 1, 2, and 3\n",
    "hsb2$write3 <- cut(hsb2$write, c(0, 48, 57, 70),  right = TRUE, labels = c(1,2,3))\n",
    "table(hsb2$write3)"
   ]
  },
  {
   "cell_type": "code",
   "execution_count": 36,
   "id": "cbf4bd4b-096b-401b-b761-9ddf07f2255c",
   "metadata": {},
   "outputs": [
    {
     "data": {
      "text/plain": [
       "Call:\n",
       "polr(formula = write3 ~ female + read + socst, data = hsb2, Hess = TRUE)\n",
       "\n",
       "Coefficients:\n",
       "         Value Std. Error t value\n",
       "female 1.28543    0.32445   3.962\n",
       "read   0.11772    0.02136   5.512\n",
       "socst  0.08019    0.01944   4.124\n",
       "\n",
       "Intercepts:\n",
       "    Value   Std. Error t value\n",
       "1|2  9.7037  1.1968     8.1080\n",
       "2|3 11.8001  1.3041     9.0486\n",
       "\n",
       "Residual Deviance: 312.5526 \n",
       "AIC: 322.5526 "
      ]
     },
     "metadata": {},
     "output_type": "display_data"
    }
   ],
   "source": [
    "## fit ordered logit model and store results 'm'\n",
    "m <- polr(write3 ~ female + read + socst, data = hsb2, Hess=TRUE)\n",
    "## view a summary of the model\n",
    "summary(m)"
   ]
  },
  {
   "cell_type": "markdown",
   "id": "4caf3181-e6ea-4038-9c25-e8c55241574a",
   "metadata": {},
   "source": [
    "### Discriminant analysis\n",
    "Discriminant analysis is used when you have one or more normally distributed interval independent variables and a categorical dependent variable. It is a multivariate technique that considers the latent dimensions in the independent variables for predicting group membership in the categorical dependent variable. For example, using the hsb2 data say we wish to use read, write and math scores to predict the type of program a student belongs to (prog)."
   ]
  },
  {
   "cell_type": "code",
   "execution_count": 37,
   "id": "4acb0919-46ee-441a-bf9e-1a12028c4e12",
   "metadata": {},
   "outputs": [],
   "source": [
    "require(MASS)"
   ]
  },
  {
   "cell_type": "code",
   "execution_count": 38,
   "id": "8c84eaee-1386-4c11-9163-d2aa9db251f8",
   "metadata": {},
   "outputs": [
    {
     "data": {
      "text/plain": [
       "Call:\n",
       "lda(factor(prog) ~ read + write + math, data = hsb2)\n",
       "\n",
       "Prior probabilities of groups:\n",
       "    1     2     3 \n",
       "0.225 0.525 0.250 \n",
       "\n",
       "Group means:\n",
       "      read    write     math\n",
       "1 49.75556 51.33333 50.02222\n",
       "2 56.16190 56.25714 56.73333\n",
       "3 46.20000 46.76000 46.42000\n",
       "\n",
       "Coefficients of linear discriminants:\n",
       "             LD1         LD2\n",
       "read  0.02919876  0.04385321\n",
       "write 0.03832289 -0.13698224\n",
       "math  0.07034625  0.07931008\n",
       "\n",
       "Proportion of trace:\n",
       "   LD1    LD2 \n",
       "0.9874 0.0126 "
      ]
     },
     "metadata": {},
     "output_type": "display_data"
    }
   ],
   "source": [
    "fit <- lda(factor(prog) ~ read + write + math, data = hsb2)\n",
    "fit # show results "
   ]
  },
  {
   "cell_type": "code",
   "execution_count": 39,
   "id": "9cdd660b-cf11-4749-b8d4-68ddabdb2d08",
   "metadata": {},
   "outputs": [
    {
     "data": {
      "text/plain": [
       "           Df  Pillai approx F num Df den Df    Pr(>F)    \n",
       "prog        2 0.26721   10.075      6    392 2.304e-10 ***\n",
       "Residuals 197                                             \n",
       "---\n",
       "Signif. codes:  0 ‘***’ 0.001 ‘**’ 0.01 ‘*’ 0.05 ‘.’ 0.1 ‘ ’ 1"
      ]
     },
     "metadata": {},
     "output_type": "display_data"
    }
   ],
   "source": [
    "# One-way MANOVA\n",
    "summary(manova(cbind(read, write, math) ~ prog))"
   ]
  },
  {
   "cell_type": "code",
   "execution_count": 40,
   "id": "3504be30-af71-465c-a53b-d7bc11a56a65",
   "metadata": {},
   "outputs": [
    {
     "data": {
      "text/plain": [
       "\n",
       "Type II MANOVA Tests:\n",
       "\n",
       "Sum of squares and products for error:\n",
       "         write     read\n",
       "write 7258.783 1091.057\n",
       "read  1091.057 8699.762\n",
       "\n",
       "------------------------------------------\n",
       " \n",
       "Term: female \n",
       "\n",
       "Sum of squares and products for the hypothesis:\n",
       "          write       read\n",
       "write 1413.5284 -133.48461\n",
       "read  -133.4846   12.60544\n",
       "\n",
       "Multivariate Tests: female\n",
       "                 Df test stat approx F num Df den Df     Pr(>F)    \n",
       "Pillai            1 0.1698853 19.85132      2    194 1.4335e-08 ***\n",
       "Wilks             1 0.8301147 19.85132      2    194 1.4335e-08 ***\n",
       "Hotelling-Lawley  1 0.2046528 19.85132      2    194 1.4335e-08 ***\n",
       "Roy               1 0.2046528 19.85132      2    194 1.4335e-08 ***\n",
       "---\n",
       "Signif. codes:  0 ‘***’ 0.001 ‘**’ 0.01 ‘*’ 0.05 ‘.’ 0.1 ‘ ’ 1\n",
       "\n",
       "------------------------------------------\n",
       " \n",
       "Term: math \n",
       "\n",
       "Sum of squares and products for the hypothesis:\n",
       "         write      read\n",
       "write 714.8665  856.2825\n",
       "read  856.2825 1025.6735\n",
       "\n",
       "Multivariate Tests: math\n",
       "                 Df test stat approx F num Df den Df     Pr(>F)    \n",
       "Pillai            1 0.1599321 18.46685      2    194 4.5551e-08 ***\n",
       "Wilks             1 0.8400679 18.46685      2    194 4.5551e-08 ***\n",
       "Hotelling-Lawley  1 0.1903800 18.46685      2    194 4.5551e-08 ***\n",
       "Roy               1 0.1903800 18.46685      2    194 4.5551e-08 ***\n",
       "---\n",
       "Signif. codes:  0 ‘***’ 0.001 ‘**’ 0.01 ‘*’ 0.05 ‘.’ 0.1 ‘ ’ 1\n",
       "\n",
       "------------------------------------------\n",
       " \n",
       "Term: science \n",
       "\n",
       "Sum of squares and products for the hypothesis:\n",
       "         write     read\n",
       "write 857.8824 901.3191\n",
       "read  901.3191 946.9551\n",
       "\n",
       "Multivariate Tests: science\n",
       "                 Df test stat approx F num Df den Df     Pr(>F)    \n",
       "Pillai            1 0.1664254 19.36631      2    194 2.1459e-08 ***\n",
       "Wilks             1 0.8335746 19.36631      2    194 2.1459e-08 ***\n",
       "Hotelling-Lawley  1 0.1996526 19.36631      2    194 2.1459e-08 ***\n",
       "Roy               1 0.1996526 19.36631      2    194 2.1459e-08 ***\n",
       "---\n",
       "Signif. codes:  0 ‘***’ 0.001 ‘**’ 0.01 ‘*’ 0.05 ‘.’ 0.1 ‘ ’ 1\n",
       "\n",
       "------------------------------------------\n",
       " \n",
       "Term: socst \n",
       "\n",
       "Sum of squares and products for the hypothesis:\n",
       "         write     read\n",
       "write 1105.653 1277.393\n",
       "read  1277.393 1475.810\n",
       "\n",
       "Multivariate Tests: socst\n",
       "                 Df test stat approx F num Df den Df     Pr(>F)    \n",
       "Pillai            1 0.2206710 27.46604      2    194 3.1399e-11 ***\n",
       "Wilks             1 0.7793290 27.46604      2    194 3.1399e-11 ***\n",
       "Hotelling-Lawley  1 0.2831551 27.46604      2    194 3.1399e-11 ***\n",
       "Roy               1 0.2831551 27.46604      2    194 3.1399e-11 ***\n",
       "---\n",
       "Signif. codes:  0 ‘***’ 0.001 ‘**’ 0.01 ‘*’ 0.05 ‘.’ 0.1 ‘ ’ 1"
      ]
     },
     "metadata": {},
     "output_type": "display_data"
    }
   ],
   "source": [
    "# Multivariate multiple regression\n",
    "M1 <- lm(cbind(write, read) ~ female + math + science + socst, data = hsb2)\n",
    "\n",
    "require(car)\n",
    "summary(Anova(M1))"
   ]
  },
  {
   "cell_type": "code",
   "execution_count": 42,
   "id": "5fcaa3fe-2efb-415e-9cf2-d2d96bb0bcb7",
   "metadata": {},
   "outputs": [
    {
     "name": "stderr",
     "output_type": "stream",
     "text": [
      "Loading required package: CCA\n",
      "\n",
      "Warning message in library(package, lib.loc = lib.loc, character.only = TRUE, logical.return = TRUE, :\n",
      "“there is no package called ‘CCA’”\n"
     ]
    }
   ],
   "source": [
    "# Canonical correlation can't seem to locate CCA package\n",
    "require(CCA)"
   ]
  },
  {
   "cell_type": "code",
   "execution_count": 43,
   "id": "10c1a19a-27e9-40ba-8b9f-ef5bf3636c5c",
   "metadata": {},
   "outputs": [
    {
     "name": "stderr",
     "output_type": "stream",
     "text": [
      "Loading required package: psych\n",
      "\n",
      "\n",
      "Attaching package: ‘psych’\n",
      "\n",
      "\n",
      "The following object is masked from ‘package:car’:\n",
      "\n",
      "    logit\n",
      "\n",
      "\n",
      "maximum iteration exceeded\n",
      "\n"
     ]
    },
    {
     "data": {
      "text/plain": [
       "Factor Analysis using method =  pa\n",
       "Call: fa(r = cor(model.matrix(~read + write + math + science + socst - \n",
       "    1, data = hsb2)), nfactors = 2, rotate = \"none\", fm = \"pa\")\n",
       "Standardized loadings (pattern matrix) based upon correlation matrix\n",
       "         PA1   PA2   h2   u2 com\n",
       "read    0.81  0.06 0.66 0.34 1.0\n",
       "write   0.76  0.00 0.58 0.42 1.0\n",
       "math    0.80  0.17 0.67 0.33 1.1\n",
       "science 0.75  0.26 0.62 0.38 1.2\n",
       "socst   0.79 -0.48 0.85 0.15 1.6\n",
       "\n",
       "                       PA1  PA2\n",
       "SS loadings           3.06 0.33\n",
       "Proportion Var        0.61 0.07\n",
       "Cumulative Var        0.61 0.68\n",
       "Proportion Explained  0.90 0.10\n",
       "Cumulative Proportion 0.90 1.00\n",
       "\n",
       "Mean item complexity =  1.2\n",
       "Test of the hypothesis that 2 factors are sufficient.\n",
       "\n",
       "The degrees of freedom for the null model are  10  and the objective function was  2.51\n",
       "The degrees of freedom for the model are 1  and the objective function was  0.01 \n",
       "\n",
       "The root mean square of the residuals (RMSR) is  0.01 \n",
       "The df corrected root mean square of the residuals is  0.03 \n",
       "\n",
       "Fit based upon off diagonal values = 1\n",
       "Measures of factor score adequacy             \n",
       "                                                   PA1  PA2\n",
       "Correlation of (regression) scores with factors   0.95 0.79\n",
       "Multiple R square of scores with factors          0.91 0.62\n",
       "Minimum correlation of possible factor scores     0.82 0.23"
      ]
     },
     "metadata": {},
     "output_type": "display_data"
    }
   ],
   "source": [
    "#Factor analysis\n",
    "require(psych)\n",
    "fa(r = cor(model.matrix(~read + write + math + science + socst - 1, data = hsb2)), rotate = \"none\", fm = \"pa\", 2)"
   ]
  },
  {
   "cell_type": "code",
   "execution_count": 44,
   "id": "67d243b8-669b-43ca-9562-cd1d64e12a86",
   "metadata": {},
   "outputs": [
    {
     "data": {
      "text/plain": [
       "Call:\n",
       "princomp(formula = ~read + write + math + science + socst, data = hsb2)\n",
       "\n",
       "Standard deviations:\n",
       "   Comp.1    Comp.2    Comp.3    Comp.4    Comp.5 \n",
       "18.252929  7.677044  6.213371  5.774331  5.429881 \n",
       "\n",
       " 5  variables and  200 observations."
      ]
     },
     "metadata": {},
     "output_type": "display_data"
    }
   ],
   "source": [
    "# Principal components analysis\n",
    "princomp(formula = ~read + write + math + science + socst, data = hsb2)"
   ]
  },
  {
   "cell_type": "code",
   "execution_count": null,
   "id": "fc73f5ff-8466-4f51-b447-b699c6dce490",
   "metadata": {},
   "outputs": [],
   "source": []
  }
 ],
 "metadata": {
  "kernelspec": {
   "display_name": "R",
   "language": "R",
   "name": "ir"
  },
  "language_info": {
   "codemirror_mode": "r",
   "file_extension": ".r",
   "mimetype": "text/x-r-source",
   "name": "R",
   "pygments_lexer": "r",
   "version": "4.2.1"
  }
 },
 "nbformat": 4,
 "nbformat_minor": 5
}
