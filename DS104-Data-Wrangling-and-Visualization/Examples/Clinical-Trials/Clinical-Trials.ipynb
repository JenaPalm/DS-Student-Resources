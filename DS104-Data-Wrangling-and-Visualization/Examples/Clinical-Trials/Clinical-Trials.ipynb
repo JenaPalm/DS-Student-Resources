{
 "cells": [
  {
   "cell_type": "markdown",
   "id": "58fac4a4-ed58-4223-95f1-4583e05015d8",
   "metadata": {},
   "source": [
    "# Clinicaltrials.gov"
   ]
  },
  {
   "cell_type": "markdown",
   "id": "8ac98d4e-f5dd-49cd-b3b9-736d36eaa383",
   "metadata": {},
   "source": [
    "How to search and find datasets on clinicaltrials.gov then extract into dataframe in a jupyter notebook\n",
    "\n",
    "clinicaltrials.gov is a registry of clinical trials conducted around the world. To search and extract data from clinicaltrials.gov, you can use the [API](https://clinicaltrials.gov/api/gui) provided by the website. Below is a step-by-step guide to search for datasets, extract them, and load them into a pandas DataFrame in a Jupyter Notebook.\n",
    "\n",
    "First, install the required libraries if you haven't already. You can install them using pip:\n",
    "```!pip install pandas requests```\n",
    "\n",
    "Next, import the necessary libraries in your Jupyter Notebook:"
   ]
  },
  {
   "cell_type": "code",
   "execution_count": 7,
   "id": "f01f758e-162a-4063-9819-09224f523956",
   "metadata": {
    "tags": []
   },
   "outputs": [],
   "source": [
    "import requests\n",
    "import pandas as pd"
   ]
  },
  {
   "cell_type": "markdown",
   "id": "dd645d96-6d8f-452b-b9c8-fddce559396d",
   "metadata": {},
   "source": [
    "Define a function to fetch data from clinicaltrials.gov using the API:"
   ]
  },
  {
   "cell_type": "code",
   "execution_count": 8,
   "id": "91785e92-dee7-4cc7-ad17-5dbd4cf32569",
   "metadata": {
    "tags": []
   },
   "outputs": [],
   "source": [
    "def fetch_trials(search_term, max_results=1000):\n",
    "    base_url = \"https://clinicaltrials.gov/api/query/study_fields\"\n",
    "    fields = [\n",
    "        \"NCTId\",\n",
    "        \"BriefTitle\",\n",
    "        \"Condition\",\n",
    "        \"EnrollmentCount\",\n",
    "        \"StudyType\",\n",
    "        \"StatusVerifiedDate\",\n",
    "        \"PrimaryCompletionDate\",\n",
    "        \"ResultsFirstPostDate\",\n",
    "        \"LastUpdatePostDate\",\n",
    "        \"StudyFirstPostDate\",\n",
    "        \"LocationCountry\"\n",
    "    ]\n",
    "\n",
    "    params = {\n",
    "        \"expr\": search_term,\n",
    "        \"fields\": \",\".join(fields),\n",
    "        \"min_rnk\": 1,\n",
    "        \"max_rnk\": max_results,\n",
    "        \"fmt\": \"json\"\n",
    "    }\n",
    "\n",
    "    response = requests.get(base_url, params=params)\n",
    "\n",
    "    if response.status_code == 200:\n",
    "        return response.json()\n",
    "    else:\n",
    "        print(f\"Error fetching data: {response.status_code}\")\n",
    "        return None"
   ]
  },
  {
   "cell_type": "markdown",
   "id": "50debbc6-0fd6-4cdd-a191-d4da555d51d2",
   "metadata": {},
   "source": [
    "Use the function to fetch data based on your search term:"
   ]
  },
  {
   "cell_type": "code",
   "execution_count": 9,
   "id": "c98bf5d4-067e-46df-97e5-f491a6ee18f2",
   "metadata": {
    "tags": []
   },
   "outputs": [],
   "source": [
    "search_term = \"diabetes\"\n",
    "data = fetch_trials(search_term)"
   ]
  },
  {
   "cell_type": "markdown",
   "id": "2700da5a-3013-4194-830d-9740fdb59cda",
   "metadata": {},
   "source": [
    "Extract the data into a pandas DataFrame:"
   ]
  },
  {
   "cell_type": "code",
   "execution_count": 10,
   "id": "0bab2361-8df9-42be-8a08-77aa7cee770c",
   "metadata": {
    "tags": []
   },
   "outputs": [],
   "source": [
    "def extract_to_dataframe(data):\n",
    "    if data:\n",
    "        trials = data[\"StudyFieldsResponse\"][\"StudyFields\"]\n",
    "        df = pd.DataFrame(trials)\n",
    "        return df\n",
    "    else:\n",
    "        print(\"No data to extract.\")\n",
    "        return None\n",
    "\n",
    "df = extract_to_dataframe(data)"
   ]
  },
  {
   "cell_type": "markdown",
   "id": "5004a832-6690-4daf-bfb0-67fb1d8692ef",
   "metadata": {},
   "source": [
    "Now you can work with the DataFrame as you normally would:"
   ]
  },
  {
   "cell_type": "code",
   "execution_count": 11,
   "id": "491ce7e5-59b8-44dd-9501-0dcad6f5ba7d",
   "metadata": {
    "tags": []
   },
   "outputs": [
    {
     "name": "stdout",
     "output_type": "stream",
     "text": [
      "   Rank          NCTId                                         BriefTitle  \\\n",
      "0     1  [NCT04016584]  [Diabetes Pueblo Program - Application and Acc...   \n",
      "1     2  [NCT04216875]  [Best Practice Study of Diabetes Type 2 Manage...   \n",
      "2     3  [NCT02076568]  [Diabetes and Partnership: Evaluation of a Dia...   \n",
      "3     4  [NCT02076542]  [Diabetes and Sports: Evaluation of a Diabetes...   \n",
      "4     5  [NCT02077686]  [Diabetes and Travel: Evaluation of a Diabetes...   \n",
      "\n",
      "                                   Condition EnrollmentCount  \\\n",
      "0                           [Type2 Diabetes]            [25]   \n",
      "1  [Diabetes Mellitus, Type 2, Primary Care]           [738]   \n",
      "2                        [Diabetes Mellitus]           [201]   \n",
      "3                        [Diabetes Mellitus]           [284]   \n",
      "4                        [Diabetes Mellitus]           [262]   \n",
      "\n",
      "          StudyType StatusVerifiedDate PrimaryCompletionDate  \\\n",
      "0  [Interventional]   [September 2021]   [February 25, 2020]   \n",
      "1   [Observational]       [April 2021]        [June 1, 2019]   \n",
      "2  [Interventional]      [August 2019]        [January 2019]   \n",
      "3  [Interventional]      [August 2019]        [January 2019]   \n",
      "4  [Interventional]      [August 2019]        [January 2019]   \n",
      "\n",
      "  ResultsFirstPostDate   LastUpdatePostDate StudyFirstPostDate  \\\n",
      "0                   []  [September 5, 2021]    [July 11, 2019]   \n",
      "1                   []        [May 4, 2021]  [January 3, 2020]   \n",
      "2                   []     [August 9, 2019]    [March 3, 2014]   \n",
      "3                   []     [August 9, 2019]    [March 3, 2014]   \n",
      "4                   []     [August 9, 2019]    [March 4, 2014]   \n",
      "\n",
      "                        LocationCountry  \n",
      "0                       [United States]  \n",
      "1                         [Switzerland]  \n",
      "2  [Germany, Germany, Germany, Germany]  \n",
      "3  [Germany, Germany, Germany, Germany]  \n",
      "4  [Germany, Germany, Germany, Germany]  \n"
     ]
    }
   ],
   "source": [
    "print(df.head())"
   ]
  },
  {
   "cell_type": "markdown",
   "id": "7ec68377-3807-4913-bec8-af473833bf82",
   "metadata": {},
   "source": [
    "Remember to replace the search_term variable with the specific term you want to search for. You can also adjust the max_results parameter in the fetch_trials function to control the number of results fetched."
   ]
  },
  {
   "cell_type": "code",
   "execution_count": 5,
   "id": "908d9317-884c-4889-b1da-bc6794d26126",
   "metadata": {
    "tags": []
   },
   "outputs": [
    {
     "data": {
      "text/html": [
       "<div><div id=9581e27e-6f13-462e-8879-0fef30096747 style=\"display:none; background-color:#9D6CFF; color:white; width:200px; height:30px; padding-left:5px; border-radius:4px; flex-direction:row; justify-content:space-around; align-items:center;\" onmouseover=\"this.style.backgroundColor='#BA9BF8'\" onmouseout=\"this.style.backgroundColor='#9D6CFF'\" onclick=\"window.commands?.execute('create-mitosheet-from-dataframe-output');\">See Full Dataframe in Mito</div> <script> if (window.commands?.hasCommand('create-mitosheet-from-dataframe-output')) document.getElementById('9581e27e-6f13-462e-8879-0fef30096747').style.display = 'flex' </script> <table border=\"1\" class=\"dataframe\">\n",
       "  <thead>\n",
       "    <tr style=\"text-align: right;\">\n",
       "      <th></th>\n",
       "      <th>Rank</th>\n",
       "      <th>NCTId</th>\n",
       "      <th>BriefTitle</th>\n",
       "      <th>Condition</th>\n",
       "      <th>EnrollmentCount</th>\n",
       "      <th>StudyType</th>\n",
       "      <th>StatusVerifiedDate</th>\n",
       "      <th>PrimaryCompletionDate</th>\n",
       "      <th>ResultsFirstPostDate</th>\n",
       "      <th>LastUpdatePostDate</th>\n",
       "      <th>StudyFirstPostDate</th>\n",
       "      <th>LocationCountry</th>\n",
       "    </tr>\n",
       "  </thead>\n",
       "  <tbody>\n",
       "    <tr>\n",
       "      <th>0</th>\n",
       "      <td>1</td>\n",
       "      <td>[NCT04016584]</td>\n",
       "      <td>[Diabetes Pueblo Program - Application and Acceptability of Culturally Appropriate Latino Education for Insulin Therapy]</td>\n",
       "      <td>[Type2 Diabetes]</td>\n",
       "      <td>[25]</td>\n",
       "      <td>[Interventional]</td>\n",
       "      <td>[September 2021]</td>\n",
       "      <td>[February 25, 2020]</td>\n",
       "      <td>[]</td>\n",
       "      <td>[September 5, 2021]</td>\n",
       "      <td>[July 11, 2019]</td>\n",
       "      <td>[United States]</td>\n",
       "    </tr>\n",
       "    <tr>\n",
       "      <th>1</th>\n",
       "      <td>2</td>\n",
       "      <td>[NCT04216875]</td>\n",
       "      <td>[Best Practice Study of Diabetes Type 2 Management in Primary Care in Switzerland]</td>\n",
       "      <td>[Diabetes Mellitus, Type 2, Primary Care]</td>\n",
       "      <td>[738]</td>\n",
       "      <td>[Observational]</td>\n",
       "      <td>[April 2021]</td>\n",
       "      <td>[June 1, 2019]</td>\n",
       "      <td>[]</td>\n",
       "      <td>[May 4, 2021]</td>\n",
       "      <td>[January 3, 2020]</td>\n",
       "      <td>[Switzerland]</td>\n",
       "    </tr>\n",
       "    <tr>\n",
       "      <th>2</th>\n",
       "      <td>3</td>\n",
       "      <td>[NCT02076568]</td>\n",
       "      <td>[Diabetes and Partnership: Evaluation of a Diabetes Education Module]</td>\n",
       "      <td>[Diabetes Mellitus]</td>\n",
       "      <td>[201]</td>\n",
       "      <td>[Interventional]</td>\n",
       "      <td>[August 2019]</td>\n",
       "      <td>[January 2019]</td>\n",
       "      <td>[]</td>\n",
       "      <td>[August 9, 2019]</td>\n",
       "      <td>[March 3, 2014]</td>\n",
       "      <td>[Germany, Germany, Germany, Germany]</td>\n",
       "    </tr>\n",
       "    <tr>\n",
       "      <th>3</th>\n",
       "      <td>4</td>\n",
       "      <td>[NCT02076542]</td>\n",
       "      <td>[Diabetes and Sports: Evaluation of a Diabetes Education Module]</td>\n",
       "      <td>[Diabetes Mellitus]</td>\n",
       "      <td>[284]</td>\n",
       "      <td>[Interventional]</td>\n",
       "      <td>[August 2019]</td>\n",
       "      <td>[January 2019]</td>\n",
       "      <td>[]</td>\n",
       "      <td>[August 9, 2019]</td>\n",
       "      <td>[March 3, 2014]</td>\n",
       "      <td>[Germany, Germany, Germany, Germany]</td>\n",
       "    </tr>\n",
       "    <tr>\n",
       "      <th>4</th>\n",
       "      <td>5</td>\n",
       "      <td>[NCT02077686]</td>\n",
       "      <td>[Diabetes and Travel: Evaluation of a Diabetes Education Module - a Randomized Controlled Trial (PRIMO_Travel)]</td>\n",
       "      <td>[Diabetes Mellitus]</td>\n",
       "      <td>[262]</td>\n",
       "      <td>[Interventional]</td>\n",
       "      <td>[August 2019]</td>\n",
       "      <td>[January 2019]</td>\n",
       "      <td>[]</td>\n",
       "      <td>[August 9, 2019]</td>\n",
       "      <td>[March 4, 2014]</td>\n",
       "      <td>[Germany, Germany, Germany, Germany]</td>\n",
       "    </tr>\n",
       "  </tbody>\n",
       "</table></div>"
      ],
      "text/plain": [
       "   Rank          NCTId                                         BriefTitle  \\\n",
       "0     1  [NCT04016584]  [Diabetes Pueblo Program - Application and Acc...   \n",
       "1     2  [NCT04216875]  [Best Practice Study of Diabetes Type 2 Manage...   \n",
       "2     3  [NCT02076568]  [Diabetes and Partnership: Evaluation of a Dia...   \n",
       "3     4  [NCT02076542]  [Diabetes and Sports: Evaluation of a Diabetes...   \n",
       "4     5  [NCT02077686]  [Diabetes and Travel: Evaluation of a Diabetes...   \n",
       "\n",
       "                                   Condition EnrollmentCount  \\\n",
       "0                           [Type2 Diabetes]            [25]   \n",
       "1  [Diabetes Mellitus, Type 2, Primary Care]           [738]   \n",
       "2                        [Diabetes Mellitus]           [201]   \n",
       "3                        [Diabetes Mellitus]           [284]   \n",
       "4                        [Diabetes Mellitus]           [262]   \n",
       "\n",
       "          StudyType StatusVerifiedDate PrimaryCompletionDate  \\\n",
       "0  [Interventional]   [September 2021]   [February 25, 2020]   \n",
       "1   [Observational]       [April 2021]        [June 1, 2019]   \n",
       "2  [Interventional]      [August 2019]        [January 2019]   \n",
       "3  [Interventional]      [August 2019]        [January 2019]   \n",
       "4  [Interventional]      [August 2019]        [January 2019]   \n",
       "\n",
       "  ResultsFirstPostDate   LastUpdatePostDate StudyFirstPostDate  \\\n",
       "0                   []  [September 5, 2021]    [July 11, 2019]   \n",
       "1                   []        [May 4, 2021]  [January 3, 2020]   \n",
       "2                   []     [August 9, 2019]    [March 3, 2014]   \n",
       "3                   []     [August 9, 2019]    [March 3, 2014]   \n",
       "4                   []     [August 9, 2019]    [March 4, 2014]   \n",
       "\n",
       "                        LocationCountry  \n",
       "0                       [United States]  \n",
       "1                         [Switzerland]  \n",
       "2  [Germany, Germany, Germany, Germany]  \n",
       "3  [Germany, Germany, Germany, Germany]  \n",
       "4  [Germany, Germany, Germany, Germany]  "
      ]
     },
     "execution_count": 5,
     "metadata": {},
     "output_type": "execute_result"
    }
   ],
   "source": [
    "df.head()"
   ]
  }
 ],
 "metadata": {
  "kernelspec": {
   "display_name": "Python 3 (ipykernel)",
   "language": "python",
   "name": "python3"
  },
  "language_info": {
   "codemirror_mode": {
    "name": "ipython",
    "version": 3
   },
   "file_extension": ".py",
   "mimetype": "text/x-python",
   "name": "python",
   "nbconvert_exporter": "python",
   "pygments_lexer": "ipython3",
   "version": "3.9.16"
  }
 },
 "nbformat": 4,
 "nbformat_minor": 5
}
