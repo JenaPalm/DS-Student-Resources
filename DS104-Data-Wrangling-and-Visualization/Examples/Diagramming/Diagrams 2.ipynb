{
 "cells": [
  {
   "cell_type": "markdown",
   "id": "43753f4d-ae36-4c96-b977-f95800b5cc78",
   "metadata": {},
   "source": [
    "# Diagrams as Code using GraphViz\n",
    "\n",
    "[reference:](https://diagrams.mingrammer.com/)\n",
    "\n",
    "\n",
    "```bash\n",
    "pip install diagrams\n",
    "```\n",
    "\n",
    "if you're on a mac\n",
    "\n",
    "```bash\n",
    "brew install graphviz\n",
    "```\n",
    "\n",
    "it fixes a path issue"
   ]
  },
  {
   "cell_type": "markdown",
   "id": "900839b3-bad2-480b-90ba-1fc912776db9",
   "metadata": {},
   "source": [
    "## Simple Web Service"
   ]
  },
  {
   "cell_type": "code",
   "execution_count": 6,
   "id": "e746c280-acf9-49c6-90b0-1659fb7be88b",
   "metadata": {},
   "outputs": [],
   "source": [
    "# diagram.py\n",
    "from diagrams import Diagram\n",
    "from diagrams.aws.compute import EC2\n",
    "from diagrams.aws.database import RDS\n",
    "from diagrams.aws.network import ELB\n",
    "from diagrams.aws.database import Aurora \n",
    "from diagrams.aws.database import DDB\n",
    "\n",
    "with Diagram(\"Web Service\", show=False):\n",
    "    ELB(\"ELB\") >> EC2(\"EC2-Web\") >> RDS(\"RDS-userdb\") >> Aurora(\"Aurora\") >> DDB(\"DDB\")"
   ]
  },
  {
   "cell_type": "markdown",
   "id": "a5167429-6a44-4a90-9b63-a8cbc669821c",
   "metadata": {},
   "source": [
    "## Grouped Workers on AWS"
   ]
  },
  {
   "cell_type": "code",
   "execution_count": 7,
   "id": "852efbe6-2adb-4ea1-b088-1fc0c92a2cee",
   "metadata": {},
   "outputs": [],
   "source": [
    "from diagrams import Diagram\n",
    "from diagrams.aws.compute import EC2\n",
    "from diagrams.aws.database import RDS\n",
    "from diagrams.aws.network import ELB\n",
    "\n",
    "with Diagram(\"Grouped Workers\", show=False, direction=\"TB\"):\n",
    "    ELB(\"lb\") >> [EC2(\"worker1\"),\n",
    "                  EC2(\"worker2\"),\n",
    "                  EC2(\"worker3\"),\n",
    "                  EC2(\"worker4\"),\n",
    "                  EC2(\"worker5\"), \n",
    "                  EC2(\"worker6\")]>> RDS(\"events\")"
   ]
  },
  {
   "cell_type": "markdown",
   "id": "8f77be4b-c790-41fa-9394-10dd8229eb54",
   "metadata": {},
   "source": [
    "## Clustered Web Services"
   ]
  },
  {
   "cell_type": "code",
   "execution_count": 3,
   "id": "f7d307b4-6ee0-4e3d-9368-70210dfc36ef",
   "metadata": {},
   "outputs": [],
   "source": [
    "from diagrams import Cluster, Diagram\n",
    "from diagrams.aws.compute import ECS\n",
    "from diagrams.aws.database import ElastiCache, RDS\n",
    "from diagrams.aws.network import ELB\n",
    "from diagrams.aws.network import Route53\n",
    "\n",
    "with Diagram(\"Clustered Web Services\", show=False):\n",
    "    dns = Route53(\"dns\")\n",
    "    lb = ELB(\"lb\")\n",
    "\n",
    "    with Cluster(\"Services\"):\n",
    "        svc_group = [ECS(\"web1\"),\n",
    "                     ECS(\"web2\"),\n",
    "                     ECS(\"web3\")]\n",
    "\n",
    "    with Cluster(\"DB Cluster\"):\n",
    "        db_primary = RDS(\"userdb\")\n",
    "        db_primary - [RDS(\"userdb ro\")]\n",
    "\n",
    "    memcached = ElastiCache(\"memcached\")\n",
    "\n",
    "    dns >> lb >> svc_group\n",
    "    svc_group >> db_primary\n",
    "    svc_group >> memcached"
   ]
  },
  {
   "cell_type": "markdown",
   "id": "e3bcc9c1-f435-479c-852a-52617d8a23a9",
   "metadata": {},
   "source": [
    "## Event Processing on AWS"
   ]
  },
  {
   "cell_type": "code",
   "execution_count": 4,
   "id": "e29abfdd-ee76-4a3a-b2f5-e683ef93b499",
   "metadata": {},
   "outputs": [],
   "source": [
    "from diagrams import Cluster, Diagram\n",
    "from diagrams.aws.compute import ECS, EKS, Lambda\n",
    "from diagrams.aws.database import Redshift\n",
    "from diagrams.aws.integration import SQS\n",
    "from diagrams.aws.storage import S3\n",
    "\n",
    "with Diagram(\"Event Processing\", show=False):\n",
    "    source = EKS(\"k8s source\")\n",
    "\n",
    "    with Cluster(\"Event Flows\"):\n",
    "        with Cluster(\"Event Workers\"):\n",
    "            workers = [ECS(\"worker1\"),\n",
    "                       ECS(\"worker2\"),\n",
    "                       ECS(\"worker3\")]\n",
    "\n",
    "        queue = SQS(\"event queue\")\n",
    "\n",
    "        with Cluster(\"Processing\"):\n",
    "            handlers = [Lambda(\"proc1\"),\n",
    "                        Lambda(\"proc2\"),\n",
    "                        Lambda(\"proc3\")]\n",
    "\n",
    "    store = S3(\"events store\")\n",
    "    dw = Redshift(\"analytics\")\n",
    "\n",
    "    source >> workers >> queue >> handlers\n",
    "    handlers >> store\n",
    "    handlers >> dw"
   ]
  },
  {
   "cell_type": "markdown",
   "id": "5347b0ec-7681-435d-bc21-ebc9f358e0be",
   "metadata": {},
   "source": [
    "## Message Collecting System on GCP"
   ]
  },
  {
   "cell_type": "code",
   "execution_count": 5,
   "id": "dfcc77fb-daee-43c9-8df3-abd81ff084d1",
   "metadata": {},
   "outputs": [],
   "source": [
    "from diagrams import Cluster, Diagram\n",
    "from diagrams.gcp.analytics import BigQuery, Dataflow, PubSub\n",
    "from diagrams.gcp.compute import AppEngine, Functions\n",
    "from diagrams.gcp.database import BigTable\n",
    "from diagrams.gcp.iot import IotCore\n",
    "from diagrams.gcp.storage import GCS\n",
    "\n",
    "with Diagram(\"Message Collecting\", show=False):\n",
    "    pubsub = PubSub(\"pubsub\")\n",
    "\n",
    "    with Cluster(\"Source of Data\"):\n",
    "        [IotCore(\"core1\"),\n",
    "         IotCore(\"core2\"),\n",
    "         IotCore(\"core3\")] >> pubsub\n",
    "\n",
    "    with Cluster(\"Targets\"):\n",
    "        with Cluster(\"Data Flow\"):\n",
    "            flow = Dataflow(\"data flow\")\n",
    "\n",
    "        with Cluster(\"Data Lake\"):\n",
    "            flow >> [BigQuery(\"bq\"),\n",
    "                     GCS(\"storage\")]\n",
    "\n",
    "        with Cluster(\"Event Driven\"):\n",
    "            with Cluster(\"Processing\"):\n",
    "                flow >> AppEngine(\"engine\") >> BigTable(\"bigtable\")\n",
    "\n",
    "            with Cluster(\"Serverless\"):\n",
    "                flow >> Functions(\"func\") >> AppEngine(\"appengine\")\n",
    "\n",
    "    pubsub >> flow"
   ]
  },
  {
   "cell_type": "markdown",
   "id": "60defa69-6958-4350-aa51-faa4a073651d",
   "metadata": {},
   "source": [
    "## Exposed Pod with 3 Replicas on Kubernetes"
   ]
  },
  {
   "cell_type": "code",
   "execution_count": 6,
   "id": "7b808b2b-f274-4a51-b855-d6a10625104a",
   "metadata": {},
   "outputs": [],
   "source": [
    "from diagrams import Diagram\n",
    "from diagrams.k8s.clusterconfig import HPA\n",
    "from diagrams.k8s.compute import Deployment, Pod, ReplicaSet\n",
    "from diagrams.k8s.network import Ingress, Service\n",
    "\n",
    "with Diagram(\"Exposed Pod with 3 Replicas\", show=False):\n",
    "    net = Ingress(\"domain.com\") >> Service(\"svc\")\n",
    "    net >> [Pod(\"pod1\"),\n",
    "            Pod(\"pod2\"),\n",
    "            Pod(\"pod3\")] << ReplicaSet(\"rs\") << Deployment(\"dp\") << HPA(\"hpa\")"
   ]
  },
  {
   "cell_type": "markdown",
   "id": "b0315e11-c0a4-418c-bb77-b12789fb3a4f",
   "metadata": {},
   "source": [
    "## Stateful Architecture on Kubernetes"
   ]
  },
  {
   "cell_type": "code",
   "execution_count": 7,
   "id": "bcb293fb-bcad-41c2-9e0f-c05cebe23d53",
   "metadata": {},
   "outputs": [],
   "source": [
    "from diagrams import Cluster, Diagram\n",
    "from diagrams.k8s.compute import Pod, StatefulSet\n",
    "from diagrams.k8s.network import Service\n",
    "from diagrams.k8s.storage import PV, PVC, StorageClass\n",
    "\n",
    "with Diagram(\"Stateful Architecture\", show=False):\n",
    "    with Cluster(\"Apps\"):\n",
    "        svc = Service(\"svc\")\n",
    "        sts = StatefulSet(\"sts\")\n",
    "\n",
    "        apps = []\n",
    "        for _ in range(3):\n",
    "            pod = Pod(\"pod\")\n",
    "            pvc = PVC(\"pvc\")\n",
    "            pod - sts - pvc\n",
    "            apps.append(svc >> pod >> pvc)\n",
    "\n",
    "    apps << PV(\"pv\") << StorageClass(\"sc\")"
   ]
  },
  {
   "cell_type": "markdown",
   "id": "611a2f21-df42-4806-b16b-21ed781aa533",
   "metadata": {},
   "source": [
    "## Advanced Web Service with On-Premise"
   ]
  },
  {
   "cell_type": "code",
   "execution_count": 8,
   "id": "f2b44930-60d3-4d1c-8d41-0b23e2efcf19",
   "metadata": {},
   "outputs": [],
   "source": [
    "from diagrams import Cluster, Diagram\n",
    "from diagrams.onprem.analytics import Spark\n",
    "from diagrams.onprem.compute import Server\n",
    "from diagrams.onprem.database import PostgreSQL\n",
    "from diagrams.onprem.inmemory import Redis\n",
    "from diagrams.onprem.aggregator import Fluentd\n",
    "from diagrams.onprem.monitoring import Grafana, Prometheus\n",
    "from diagrams.onprem.network import Nginx\n",
    "from diagrams.onprem.queue import Kafka\n",
    "\n",
    "with Diagram(\"Advanced Web Service with On-Premise\", show=False):\n",
    "    ingress = Nginx(\"ingress\")\n",
    "\n",
    "    metrics = Prometheus(\"metric\")\n",
    "    metrics << Grafana(\"monitoring\")\n",
    "\n",
    "    with Cluster(\"Service Cluster\"):\n",
    "        grpcsvc = [\n",
    "            Server(\"grpc1\"),\n",
    "            Server(\"grpc2\"),\n",
    "            Server(\"grpc3\")]\n",
    "\n",
    "    with Cluster(\"Sessions HA\"):\n",
    "        primary = Redis(\"session\")\n",
    "        primary - Redis(\"replica\") << metrics\n",
    "        grpcsvc >> primary\n",
    "\n",
    "    with Cluster(\"Database HA\"):\n",
    "        primary = PostgreSQL(\"users\")\n",
    "        primary - PostgreSQL(\"replica\") << metrics\n",
    "        grpcsvc >> primary\n",
    "\n",
    "    aggregator = Fluentd(\"logging\")\n",
    "    aggregator >> Kafka(\"stream\") >> Spark(\"analytics\")\n",
    "\n",
    "    ingress >> grpcsvc >> aggregator"
   ]
  },
  {
   "cell_type": "markdown",
   "id": "51109ffe-9a36-40fc-ba98-394d9d6e4b74",
   "metadata": {},
   "source": [
    "## Advanced Web Service with On-Premise (with colors and labels)"
   ]
  },
  {
   "cell_type": "code",
   "execution_count": 9,
   "id": "bf71a36f-fb2e-4155-8cab-81a83e2b8ca9",
   "metadata": {},
   "outputs": [],
   "source": [
    "from diagrams import Cluster, Diagram, Edge\n",
    "from diagrams.onprem.analytics import Spark\n",
    "from diagrams.onprem.compute import Server\n",
    "from diagrams.onprem.database import PostgreSQL\n",
    "from diagrams.onprem.inmemory import Redis\n",
    "from diagrams.onprem.aggregator import Fluentd\n",
    "from diagrams.onprem.monitoring import Grafana, Prometheus\n",
    "from diagrams.onprem.network import Nginx\n",
    "from diagrams.onprem.queue import Kafka\n",
    "\n",
    "with Diagram(name=\"Advanced Web Service with On-Premise (colored)\", show=False):\n",
    "    ingress = Nginx(\"ingress\")\n",
    "\n",
    "    metrics = Prometheus(\"metric\")\n",
    "    metrics << Edge(color=\"firebrick\", style=\"dashed\") << Grafana(\"monitoring\")\n",
    "\n",
    "    with Cluster(\"Service Cluster\"):\n",
    "        grpcsvc = [\n",
    "            Server(\"grpc1\"),\n",
    "            Server(\"grpc2\"),\n",
    "            Server(\"grpc3\")]\n",
    "\n",
    "    with Cluster(\"Sessions HA\"):\n",
    "        primary = Redis(\"session\")\n",
    "        primary - Edge(color=\"brown\", style=\"dashed\") - Redis(\"replica\") << Edge(label=\"collect\") << metrics\n",
    "        grpcsvc >> Edge(color=\"brown\") >> primary\n",
    "\n",
    "    with Cluster(\"Database HA\"):\n",
    "        primary = PostgreSQL(\"users\")\n",
    "        primary - Edge(color=\"brown\", style=\"dotted\") - PostgreSQL(\"replica\") << Edge(label=\"collect\") << metrics\n",
    "        grpcsvc >> Edge(color=\"black\") >> primary\n",
    "\n",
    "    aggregator = Fluentd(\"logging\")\n",
    "    aggregator >> Edge(label=\"parse\") >> Kafka(\"stream\") >> Edge(color=\"black\", style=\"bold\") >> Spark(\"analytics\")\n",
    "\n",
    "    ingress >> Edge(color=\"darkgreen\") << grpcsvc >> Edge(color=\"darkorange\") >> aggregator"
   ]
  },
  {
   "cell_type": "markdown",
   "id": "662d01ec-ff5c-4bfe-a179-e99a4b813c4c",
   "metadata": {},
   "source": [
    "## RabbitMQ Consumers with Custom Nodes"
   ]
  },
  {
   "cell_type": "code",
   "execution_count": 10,
   "id": "d7b98b6f-507b-4a38-9877-1673e71273d2",
   "metadata": {},
   "outputs": [],
   "source": [
    "from urllib.request import urlretrieve\n",
    "\n",
    "from diagrams import Cluster, Diagram\n",
    "from diagrams.aws.database import Aurora\n",
    "from diagrams.custom import Custom\n",
    "from diagrams.k8s.compute import Pod\n",
    "\n",
    "# Download an image to be used into a Custom Node class\n",
    "rabbitmq_url = \"https://jpadilla.github.io/rabbitmqapp/assets/img/icon.png\"\n",
    "rabbitmq_icon = \"rabbitmq.png\"\n",
    "urlretrieve(rabbitmq_url, rabbitmq_icon)\n",
    "\n",
    "with Diagram(\"Broker Consumers\", show=False):\n",
    "    with Cluster(\"Consumers\"):\n",
    "        consumers = [\n",
    "            Pod(\"worker\"),\n",
    "            Pod(\"worker\"),\n",
    "            Pod(\"worker\")]\n",
    "\n",
    "    queue = Custom(\"Message queue\", rabbitmq_icon)\n",
    "\n",
    "    queue >> consumers >> Aurora(\"Database\")"
   ]
  },
  {
   "cell_type": "code",
   "execution_count": null,
   "id": "9ce076fc-0ab8-491a-be83-48b5d7e041dd",
   "metadata": {},
   "outputs": [],
   "source": []
  }
 ],
 "metadata": {
  "kernelspec": {
   "display_name": "Python 3 (ipykernel)",
   "language": "python",
   "name": "python3"
  },
  "language_info": {
   "codemirror_mode": {
    "name": "ipython",
    "version": 3
   },
   "file_extension": ".py",
   "mimetype": "text/x-python",
   "name": "python",
   "nbconvert_exporter": "python",
   "pygments_lexer": "ipython3",
   "version": "3.9.13"
  }
 },
 "nbformat": 4,
 "nbformat_minor": 5
}
