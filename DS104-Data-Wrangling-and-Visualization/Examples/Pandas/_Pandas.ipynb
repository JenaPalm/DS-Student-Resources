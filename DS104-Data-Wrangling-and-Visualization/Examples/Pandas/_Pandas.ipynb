{
 "cells": [
  {
   "cell_type": "markdown",
   "id": "cefed3ce-13fa-46df-abd6-c905af0b4a13",
   "metadata": {},
   "source": [
    "# Pandas\n",
    "\n",
    "<a href=\"https://amzn.to/3DyLaJc\"><img src=\"https://pandas.pydata.org/static/img/pydata_book.gif\" alt=\"Pandas Book\" width = \"200\"></a>\n",
    "\n"
   ]
  },
  {
   "cell_type": "markdown",
   "id": "159b674f-14ea-48fc-9587-21d2d9c8c9f3",
   "metadata": {
    "tags": []
   },
   "source": [
    "***\n",
    "[Home](https://pandas.pydata.org/) | \n",
    "[About](https://pandas.pydata.org/about/) | \n",
    "[Getting Started](https://pandas.pydata.org/docs/getting_started/index.html) | \n",
    "[User Guide](https://pandas.pydata.org/docs/user_guide/index.html) | \n",
    "[Blog](https://pandas.pydata.org/community/blog/) | \n",
    "[Docs](https://pandas.pydata.org/docs/)\n",
    "***"
   ]
  },
  {
   "cell_type": "code",
   "execution_count": null,
   "id": "bd8e3cab-73d4-4b72-bd7f-8566d683c87a",
   "metadata": {},
   "outputs": [],
   "source": []
  }
 ],
 "metadata": {
  "kernelspec": {
   "display_name": "Python 3 (ipykernel)",
   "language": "python",
   "name": "python3"
  },
  "language_info": {
   "codemirror_mode": {
    "name": "ipython",
    "version": 3
   },
   "file_extension": ".py",
   "mimetype": "text/x-python",
   "name": "python",
   "nbconvert_exporter": "python",
   "pygments_lexer": "ipython3",
   "version": "3.9.16"
  }
 },
 "nbformat": 4,
 "nbformat_minor": 5
}
