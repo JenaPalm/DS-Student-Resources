{
 "cells": [
  {
   "cell_type": "markdown",
   "id": "ff9f1c35-192e-4d5c-949c-ccc2a8693807",
   "metadata": {},
   "source": [
    "# What Is Synthetic Data? \n",
    "\n",
    "[Reference: Accelerating AI with Synthetic Data](https://learning.oreilly.com/library/view/accelerating-ai-with/9781492045991/) - [Khaled El Emam](https://learning.oreilly.com/search/?query=author%3A%22Khaled%20El%20Emam%22&sort=relevance&highlight=true)\n",
    "\n",
    "At a conceptual level, synthetic data is not real data but is data that has been generated from real data and that has the same statistical properties as the real data. This means that an analyst who works with a synthetic dataset should get analysis results that are similar to those they would get with real data. The degree to which a synthetic dataset is an accurate proxy for real data is a measure of utility. Furthermore, we refer to the process of generating synthetic data as synthesis.\n",
    "\n",
    "Data in this context can mean different things. For example, data can be structured data (i.e., rows and columns), as one would see in a relational database. Data can also be unstructured text, such as doctors’ notes, transcripts of conversations among people or with digital assistants, or online interactions by email or chat. Furthermore, images, videos, audio, and virtual environments are also types of data that can be synthesized. We have seen examples of fake images in the machine learning literature; for instance, realistic faces of people who do not exist in the real world can be created, and you can view the results online.\n",
    "\n",
    "\n",
    "To create a synthetic dataset, follow these steps: - [ChatGPT](https://chat.openai.com/chat)\n",
    "\n",
    "1. Define the problem and determine the type of data needed: Determine what kind of data is required for your problem and the type of distribution it should follow.\n",
    "2. Select the appropriate statistical distribution: Choose a statistical distribution that best fits the data you want to generate. For example, if you want to generate data for a normally distributed variable, use the Gaussian distribution.\n",
    "3. Set the parameters of the distribution: Determine the mean and standard deviation of the distribution you have selected.\n",
    "4. Generate the data: Use a random number generator or a library in your preferred programming language to generate data samples from the distribution you have selected.\n",
    "5. Validate the synthetic data: Verify that the generated data is similar to the real-world data. This can be done by comparing various statistical measures, such as mean, standard deviation, and distribution shape.\n",
    "6. Save and use the synthetic data: Store the synthetic data in a file or database for future use.\n",
    "\n",
    "Note: It is important to understand the underlying distribution of the real-world data to generate accurate synthetic data. In some cases, you may need to use multiple distributions to generate synthetic data that mimics real-world data.\n",
    "\n",
    "Synthetic data is divided into two types, based on whether it is generated from actual datasets or not.\n",
    "\n",
    "1. The first type is synthesized from real datasets. The analyst will have some real datasets and then build a model to capture the distributions and structure of that real data.\n",
    "2. The second type of synthetic data is not generated from real data. It is created by using existing models or by using background knowledge of the analyst."
   ]
  },
  {
   "cell_type": "markdown",
   "id": "5a12f26a-4275-44cb-b3ac-2a2ced93987c",
   "metadata": {},
   "source": [
    "|Type of synthetic data|Utility|\n",
    "|:---|:---|\n",
    "|Generated from real (nonpublic) datasets | Can be quite high |\n",
    "|Generated from real public data | Can be high, although limitations exist because public data tends to be de-identified or aggregated |\n",
    "| Generated from an existing model of a process, which can also be represented in a simulation engine | Will depend on the fidelity of the existing generating model|\n",
    "|Based on analyst knowledge | Will depend on how well the analyst knows the domain and the complexity of the phenomenon|\n",
    "|Generated from generic assumptions not specific to the phenomenon|Will likely be low|"
   ]
  },
  {
   "cell_type": "markdown",
   "id": "7ab46e12-e465-4e29-89ef-5c7c22d35b83",
   "metadata": {},
   "source": [
    "# Faker\n",
    "\n",
    "[Faker Docs](https://faker.readthedocs.io/en/master/)\n",
    "\n",
    "Creating synthetic data is a technique that can be used in several different areas of academics, including computer science, statistics, and artificial intelligence.\n",
    "\n",
    "In computer science, synthetic data generation can be used to train machine learning models or to test software systems. In statistics, it can be used to generate datasets that have certain statistical properties or to create data that adheres to a particular model. In artificial intelligence, synthetic data can be used to generate more diverse and representative datasets for training machine learning models.\n",
    "\n",
    "Therefore, creating synthetic data can be applied in various fields of academics, including those mentioned above, to create data that can be used to test or train algorithms or systems."
   ]
  },
  {
   "cell_type": "markdown",
   "id": "3252c226-3b0c-486f-85c4-87c4d1567c2f",
   "metadata": {},
   "source": [
    "## Generate synthetic data with Python Faker\n",
    "\n",
    "`Example 1: fake.name(), fake.address(), fake.email(), fake.phone_number()`"
   ]
  },
  {
   "cell_type": "code",
   "execution_count": 3,
   "id": "13223e41-9eaa-4165-8213-1d52a5e5b529",
   "metadata": {
    "tags": []
   },
   "outputs": [],
   "source": [
    "#%pip install faker\n",
    "from faker import Faker\n",
    "import pandas as pd # for data manipulation"
   ]
  },
  {
   "cell_type": "code",
   "execution_count": 4,
   "id": "9f74f990-5a19-47eb-846e-947749546cf2",
   "metadata": {
    "tags": []
   },
   "outputs": [
    {
     "data": {
      "text/html": [
       "<div><div id=e383ee26-2b03-4e6e-b8ad-238ab57b55ae style=\"display:none; background-color:#9D6CFF; color:white; width:200px; height:30px; padding-left:5px; border-radius:4px; flex-direction:row; justify-content:space-around; align-items:center;\" onmouseover=\"this.style.backgroundColor='#BA9BF8'\" onmouseout=\"this.style.backgroundColor='#9D6CFF'\" onclick=\"window.commands?.execute('create-mitosheet-from-dataframe-output');\">See Full Dataframe in Mito</div> <script> if (window.commands?.hasCommand('create-mitosheet-from-dataframe-output')) document.getElementById('e383ee26-2b03-4e6e-b8ad-238ab57b55ae').style.display = 'flex' </script> <table border=\"1\" class=\"dataframe\">\n",
       "  <thead>\n",
       "    <tr style=\"text-align: right;\">\n",
       "      <th></th>\n",
       "      <th>Name</th>\n",
       "      <th>Address</th>\n",
       "      <th>Email</th>\n",
       "      <th>Phone</th>\n",
       "    </tr>\n",
       "  </thead>\n",
       "  <tbody>\n",
       "    <tr>\n",
       "      <th>0</th>\n",
       "      <td>Mark Mitchell</td>\n",
       "      <td>584 Rebecca Curve\\nPort Jessica, WV 76188</td>\n",
       "      <td>cbrown@example.com</td>\n",
       "      <td>+1-709-223-0764x617</td>\n",
       "    </tr>\n",
       "    <tr>\n",
       "      <th>1</th>\n",
       "      <td>Julia Parker</td>\n",
       "      <td>84809 Megan Tunnel\\nWest Angela, NY 23621</td>\n",
       "      <td>newtondustin@example.net</td>\n",
       "      <td>717-181-2111</td>\n",
       "    </tr>\n",
       "    <tr>\n",
       "      <th>2</th>\n",
       "      <td>Matthew Gonzalez</td>\n",
       "      <td>74744 Mariah Extension Apt. 996\\nLake Tonyside, PA 01028</td>\n",
       "      <td>collinschelsea@example.net</td>\n",
       "      <td>+1-996-732-7982x2493</td>\n",
       "    </tr>\n",
       "    <tr>\n",
       "      <th>3</th>\n",
       "      <td>Cindy Wallace</td>\n",
       "      <td>804 Dennis Ports\\nWest Mark, RI 41849</td>\n",
       "      <td>erin65@example.net</td>\n",
       "      <td>746.878.8865x2503</td>\n",
       "    </tr>\n",
       "    <tr>\n",
       "      <th>4</th>\n",
       "      <td>Patricia Sweeney</td>\n",
       "      <td>16843 Turner Mills\\nNew Derrick, AK 10627</td>\n",
       "      <td>leonardjohnson@example.net</td>\n",
       "      <td>5409020195</td>\n",
       "    </tr>\n",
       "  </tbody>\n",
       "</table></div>"
      ],
      "text/plain": [
       "               Name                                            Address  \\\n",
       "0     Mark Mitchell          584 Rebecca Curve\\nPort Jessica, WV 76188   \n",
       "1      Julia Parker          84809 Megan Tunnel\\nWest Angela, NY 23621   \n",
       "2  Matthew Gonzalez  74744 Mariah Extension Apt. 996\\nLake Tonyside...   \n",
       "3     Cindy Wallace              804 Dennis Ports\\nWest Mark, RI 41849   \n",
       "4  Patricia Sweeney          16843 Turner Mills\\nNew Derrick, AK 10627   \n",
       "\n",
       "                        Email                 Phone  \n",
       "0          cbrown@example.com   +1-709-223-0764x617  \n",
       "1    newtondustin@example.net          717-181-2111  \n",
       "2  collinschelsea@example.net  +1-996-732-7982x2493  \n",
       "3          erin65@example.net     746.878.8865x2503  \n",
       "4  leonardjohnson@example.net            5409020195  "
      ]
     },
     "execution_count": 4,
     "metadata": {},
     "output_type": "execute_result"
    }
   ],
   "source": [
    "# Instantiate Faker() instance\n",
    "fake = Faker()\n",
    "\n",
    "# Create a dataset including names, addresses, emails, and phone numbers\n",
    "data = []\n",
    "for _ in range(10):\n",
    "    data.append([fake.name(), fake.address(), fake.email(), fake.phone_number()])\n",
    "\n",
    "# Convert to DataFrame\n",
    "df = pd.DataFrame(data, columns=['Name', 'Address', 'Email', 'Phone'])\n",
    "df.head()"
   ]
  },
  {
   "cell_type": "code",
   "execution_count": 18,
   "id": "95b34b61-65fb-4538-b072-2f1fbaa7cdfd",
   "metadata": {
    "tags": []
   },
   "outputs": [
    {
     "data": {
      "text/plain": [
       "[<faker.providers.user_agent.Provider at 0x172e429d0>,\n",
       " <faker.providers.ssn.en_US.Provider at 0x172e42940>,\n",
       " <faker.providers.python.Provider at 0x172e42a00>,\n",
       " <faker.providers.profile.Provider at 0x172e428e0>,\n",
       " <faker.providers.phone_number.en_US.Provider at 0x172e427c0>,\n",
       " <faker.providers.person.en_US.Provider at 0x172e42640>,\n",
       " <faker.providers.misc.en_US.Provider at 0x172e42550>,\n",
       " <faker.providers.lorem.en_US.Provider at 0x172e423a0>,\n",
       " <faker.providers.job.en_US.Provider at 0x172e421f0>,\n",
       " <faker.providers.isbn.Provider at 0x172e421c0>,\n",
       " <faker.providers.internet.en_US.Provider at 0x172e42160>,\n",
       " <faker.providers.geo.en_US.Provider at 0x1720e2610>,\n",
       " <faker.providers.file.Provider at 0x1720e2940>,\n",
       " <faker.providers.emoji.Provider at 0x1720e2580>,\n",
       " <faker.providers.date_time.en_US.Provider at 0x172e1d910>,\n",
       " <faker.providers.currency.en_US.Provider at 0x172e1dd90>,\n",
       " <faker.providers.credit_card.en_US.Provider at 0x172e1dbb0>,\n",
       " <faker.providers.company.en_US.Provider at 0x172e1db20>,\n",
       " <faker.providers.color.en_US.Provider at 0x172e1db50>,\n",
       " <faker.providers.barcode.en_US.Provider at 0x172e0eee0>,\n",
       " <faker.providers.bank.en_GB.Provider at 0x172e22610>,\n",
       " <faker.providers.automotive.en_US.Provider at 0x172e22670>,\n",
       " <faker.providers.address.en_US.Provider at 0x10ca20d90>]"
      ]
     },
     "execution_count": 18,
     "metadata": {},
     "output_type": "execute_result"
    }
   ],
   "source": [
    "fake.providers"
   ]
  },
  {
   "cell_type": "markdown",
   "id": "857d6237-6eeb-4df7-a231-1366d80a61cb",
   "metadata": {},
   "source": [
    "Faker's package has a number of callable functions, called providers, that will generate random data for you. In the above code chunk, I used the BaseProvider's functions to generate names, physical mailing addresses, email addresses, and phone numbers.\n",
    "\n",
    "## Example 2: fake.profile()\n",
    "Let's use another provider: profile, and see what data we can generate."
   ]
  },
  {
   "cell_type": "code",
   "execution_count": 5,
   "id": "9ac02afb-72fe-4eb0-9dad-ffa717b72e8e",
   "metadata": {
    "tags": []
   },
   "outputs": [
    {
     "data": {
      "text/html": [
       "<div><div id=214c0e95-f542-4b4d-a617-25bba74fc575 style=\"display:none; background-color:#9D6CFF; color:white; width:200px; height:30px; padding-left:5px; border-radius:4px; flex-direction:row; justify-content:space-around; align-items:center;\" onmouseover=\"this.style.backgroundColor='#BA9BF8'\" onmouseout=\"this.style.backgroundColor='#9D6CFF'\" onclick=\"window.commands?.execute('create-mitosheet-from-dataframe-output');\">See Full Dataframe in Mito</div> <script> if (window.commands?.hasCommand('create-mitosheet-from-dataframe-output')) document.getElementById('214c0e95-f542-4b4d-a617-25bba74fc575').style.display = 'flex' </script> <table border=\"1\" class=\"dataframe\">\n",
       "  <thead>\n",
       "    <tr style=\"text-align: right;\">\n",
       "      <th></th>\n",
       "      <th>job</th>\n",
       "      <th>company</th>\n",
       "      <th>ssn</th>\n",
       "      <th>residence</th>\n",
       "      <th>current_location</th>\n",
       "      <th>blood_group</th>\n",
       "      <th>website</th>\n",
       "      <th>username</th>\n",
       "      <th>name</th>\n",
       "      <th>sex</th>\n",
       "      <th>address</th>\n",
       "      <th>mail</th>\n",
       "      <th>birthdate</th>\n",
       "    </tr>\n",
       "  </thead>\n",
       "  <tbody>\n",
       "    <tr>\n",
       "      <th>0</th>\n",
       "      <td>Horticulturist, commercial</td>\n",
       "      <td>Lynch Group</td>\n",
       "      <td>814-97-0579</td>\n",
       "      <td>30920 Gardner Coves Apt. 546\\nBryanbury, VT 17671</td>\n",
       "      <td>(54.184749, 161.444703)</td>\n",
       "      <td>B+</td>\n",
       "      <td>[https://white-taylor.com/, https://kelley-reynolds.biz/]</td>\n",
       "      <td>christopherpeterson</td>\n",
       "      <td>Pam Conner</td>\n",
       "      <td>F</td>\n",
       "      <td>4934 Christopher Terrace Suite 004\\nWest Amanda, RI 92088</td>\n",
       "      <td>mbarrera@gmail.com</td>\n",
       "      <td>1981-10-15</td>\n",
       "    </tr>\n",
       "    <tr>\n",
       "      <th>1</th>\n",
       "      <td>Oncologist</td>\n",
       "      <td>Cross-Cross</td>\n",
       "      <td>498-71-6922</td>\n",
       "      <td>579 Bob Island Suite 419\\nBradleyburgh, HI 25576</td>\n",
       "      <td>(69.3295965, -29.756487)</td>\n",
       "      <td>A+</td>\n",
       "      <td>[https://king.com/, https://silva-bruce.org/]</td>\n",
       "      <td>kimberlyanderson</td>\n",
       "      <td>Robert Wallace</td>\n",
       "      <td>M</td>\n",
       "      <td>Unit 3754 Box 2163\\nDPO AE 44468</td>\n",
       "      <td>jennifer06@yahoo.com</td>\n",
       "      <td>2016-11-08</td>\n",
       "    </tr>\n",
       "    <tr>\n",
       "      <th>2</th>\n",
       "      <td>Heritage manager</td>\n",
       "      <td>Farley LLC</td>\n",
       "      <td>266-67-8839</td>\n",
       "      <td>873 Harris Well Suite 661\\nRobbinshaven, SD 09887</td>\n",
       "      <td>(-26.379812, -127.134039)</td>\n",
       "      <td>A+</td>\n",
       "      <td>[http://www.mckenzie-gallagher.org/, http://smith-nielsen.com/, https://gregory-franklin.com/, http://williams.biz/]</td>\n",
       "      <td>daniel02</td>\n",
       "      <td>Cameron Horne</td>\n",
       "      <td>M</td>\n",
       "      <td>2055 Caitlin Track\\nSouth Jamie, NY 14047</td>\n",
       "      <td>uroberts@yahoo.com</td>\n",
       "      <td>2001-10-10</td>\n",
       "    </tr>\n",
       "    <tr>\n",
       "      <th>3</th>\n",
       "      <td>Engineer, aeronautical</td>\n",
       "      <td>Dennis-Holder</td>\n",
       "      <td>005-80-4211</td>\n",
       "      <td>1569 Jill Mountain Suite 451\\nSouth Joshuastad, ME 14246</td>\n",
       "      <td>(7.229123, -32.277896)</td>\n",
       "      <td>O-</td>\n",
       "      <td>[https://cruz.org/]</td>\n",
       "      <td>shane19</td>\n",
       "      <td>Linda Armstrong</td>\n",
       "      <td>F</td>\n",
       "      <td>530 Lucas Road Suite 009\\nWest Rachelview, NC 82802</td>\n",
       "      <td>barnettandrea@hotmail.com</td>\n",
       "      <td>1969-01-21</td>\n",
       "    </tr>\n",
       "    <tr>\n",
       "      <th>4</th>\n",
       "      <td>Public librarian</td>\n",
       "      <td>Vang, Williamson and Alvarado</td>\n",
       "      <td>683-98-0658</td>\n",
       "      <td>6639 Russell Crossing\\nHoodburgh, MO 87971</td>\n",
       "      <td>(51.9849805, 88.212373)</td>\n",
       "      <td>O+</td>\n",
       "      <td>[http://www.cross.com/]</td>\n",
       "      <td>jnorris</td>\n",
       "      <td>Jacob Mclaughlin</td>\n",
       "      <td>M</td>\n",
       "      <td>328 Smith Land\\nKelleyton, AR 84140</td>\n",
       "      <td>linda43@yahoo.com</td>\n",
       "      <td>1978-10-18</td>\n",
       "    </tr>\n",
       "  </tbody>\n",
       "</table></div>"
      ],
      "text/plain": [
       "                          job                        company          ssn  \\\n",
       "0  Horticulturist, commercial                    Lynch Group  814-97-0579   \n",
       "1                  Oncologist                    Cross-Cross  498-71-6922   \n",
       "2            Heritage manager                     Farley LLC  266-67-8839   \n",
       "3      Engineer, aeronautical                  Dennis-Holder  005-80-4211   \n",
       "4            Public librarian  Vang, Williamson and Alvarado  683-98-0658   \n",
       "\n",
       "                                           residence  \\\n",
       "0  30920 Gardner Coves Apt. 546\\nBryanbury, VT 17671   \n",
       "1   579 Bob Island Suite 419\\nBradleyburgh, HI 25576   \n",
       "2  873 Harris Well Suite 661\\nRobbinshaven, SD 09887   \n",
       "3  1569 Jill Mountain Suite 451\\nSouth Joshuastad...   \n",
       "4         6639 Russell Crossing\\nHoodburgh, MO 87971   \n",
       "\n",
       "            current_location blood_group  \\\n",
       "0    (54.184749, 161.444703)          B+   \n",
       "1   (69.3295965, -29.756487)          A+   \n",
       "2  (-26.379812, -127.134039)          A+   \n",
       "3     (7.229123, -32.277896)          O-   \n",
       "4    (51.9849805, 88.212373)          O+   \n",
       "\n",
       "                                             website             username  \\\n",
       "0  [https://white-taylor.com/, https://kelley-rey...  christopherpeterson   \n",
       "1      [https://king.com/, https://silva-bruce.org/]     kimberlyanderson   \n",
       "2  [http://www.mckenzie-gallagher.org/, http://sm...             daniel02   \n",
       "3                                [https://cruz.org/]              shane19   \n",
       "4                            [http://www.cross.com/]              jnorris   \n",
       "\n",
       "               name sex                                            address  \\\n",
       "0        Pam Conner   F  4934 Christopher Terrace Suite 004\\nWest Amand...   \n",
       "1    Robert Wallace   M                   Unit 3754 Box 2163\\nDPO AE 44468   \n",
       "2     Cameron Horne   M          2055 Caitlin Track\\nSouth Jamie, NY 14047   \n",
       "3   Linda Armstrong   F  530 Lucas Road Suite 009\\nWest Rachelview, NC ...   \n",
       "4  Jacob Mclaughlin   M                328 Smith Land\\nKelleyton, AR 84140   \n",
       "\n",
       "                        mail   birthdate  \n",
       "0         mbarrera@gmail.com  1981-10-15  \n",
       "1       jennifer06@yahoo.com  2016-11-08  \n",
       "2         uroberts@yahoo.com  2001-10-10  \n",
       "3  barnettandrea@hotmail.com  1969-01-21  \n",
       "4          linda43@yahoo.com  1978-10-18  "
      ]
     },
     "execution_count": 5,
     "metadata": {},
     "output_type": "execute_result"
    }
   ],
   "source": [
    "# Create a list of fake profiles\n",
    "profiles = []\n",
    "\n",
    "for _ in range(10):\n",
    "    profiles.append(fake.profile())\n",
    "\n",
    "# Save as a DataFrame\n",
    "df2 = pd.DataFrame(profiles, columns = profiles[0].keys())\n",
    "df2.head()"
   ]
  },
  {
   "cell_type": "markdown",
   "id": "9329a861-b13b-4960-933e-0d49fdcfec03",
   "metadata": {},
   "source": [
    "As you can see from the output, there's a lot of information. Let's take a look at an individual profile:"
   ]
  },
  {
   "cell_type": "code",
   "execution_count": 4,
   "id": "88c91e39-a5cc-4e89-bb4f-f116658e40d8",
   "metadata": {
    "tags": []
   },
   "outputs": [
    {
     "data": {
      "text/plain": [
       "{'job': 'Farm manager',\n",
       " 'company': 'Hill Ltd',\n",
       " 'ssn': '039-03-3022',\n",
       " 'residence': '04481 Karen Springs Suite 061\\nGeorgeburgh, PR 61159',\n",
       " 'current_location': (Decimal('-85.390027'), Decimal('-29.155379')),\n",
       " 'blood_group': 'O-',\n",
       " 'website': ['https://www.callahan-logan.com/',\n",
       "  'https://www.johnson-west.com/'],\n",
       " 'username': 'brandon61',\n",
       " 'name': 'Shannon Harrington',\n",
       " 'sex': 'F',\n",
       " 'address': '24924 Michael Circle\\nPhiliptown, NC 91944',\n",
       " 'mail': 'keithnicholas@gmail.com',\n",
       " 'birthdate': datetime.date(1918, 12, 14)}"
      ]
     },
     "execution_count": 4,
     "metadata": {},
     "output_type": "execute_result"
    }
   ],
   "source": [
    "fake.profile()"
   ]
  },
  {
   "cell_type": "markdown",
   "id": "c1901447-e5c7-4331-93d9-162b859e8973",
   "metadata": {},
   "source": [
    "## Example 3: customize fake.profile(fields = [])\n",
    "Depending on the columns you actually want for your fake profiles, you can list whichever attributes you're interested in using the `fields` argument."
   ]
  },
  {
   "cell_type": "code",
   "execution_count": 10,
   "id": "9244bfdf-d10d-4dbc-a03b-e02a217c6ae3",
   "metadata": {
    "tags": []
   },
   "outputs": [
    {
     "data": {
      "text/html": [
       "<div><div id=bf308e7f-edd1-4f7b-bf61-5c01cc5d2ff9 style=\"display:none; background-color:#9D6CFF; color:white; width:200px; height:30px; padding-left:5px; border-radius:4px; flex-direction:row; justify-content:space-around; align-items:center;\" onmouseover=\"this.style.backgroundColor='#BA9BF8'\" onmouseout=\"this.style.backgroundColor='#9D6CFF'\" onclick=\"window.commands?.execute('create-mitosheet-from-dataframe-output');\">See Full Dataframe in Mito</div> <script> if (window.commands?.hasCommand('create-mitosheet-from-dataframe-output')) document.getElementById('bf308e7f-edd1-4f7b-bf61-5c01cc5d2ff9').style.display = 'flex' </script> <table border=\"1\" class=\"dataframe\">\n",
       "  <thead>\n",
       "    <tr style=\"text-align: right;\">\n",
       "      <th></th>\n",
       "      <th>ssn</th>\n",
       "      <th>blood_group</th>\n",
       "      <th>name</th>\n",
       "      <th>sex</th>\n",
       "      <th>birthdate</th>\n",
       "    </tr>\n",
       "  </thead>\n",
       "  <tbody>\n",
       "    <tr>\n",
       "      <th>0</th>\n",
       "      <td>466-17-6145</td>\n",
       "      <td>B+</td>\n",
       "      <td>Sophia Davis</td>\n",
       "      <td>F</td>\n",
       "      <td>2013-09-19</td>\n",
       "    </tr>\n",
       "    <tr>\n",
       "      <th>1</th>\n",
       "      <td>333-23-5147</td>\n",
       "      <td>A-</td>\n",
       "      <td>Theresa Morrison</td>\n",
       "      <td>F</td>\n",
       "      <td>1980-02-25</td>\n",
       "    </tr>\n",
       "    <tr>\n",
       "      <th>2</th>\n",
       "      <td>761-08-9917</td>\n",
       "      <td>O-</td>\n",
       "      <td>George Adams</td>\n",
       "      <td>M</td>\n",
       "      <td>2009-08-12</td>\n",
       "    </tr>\n",
       "    <tr>\n",
       "      <th>3</th>\n",
       "      <td>749-87-6525</td>\n",
       "      <td>A-</td>\n",
       "      <td>Eric Brown</td>\n",
       "      <td>M</td>\n",
       "      <td>1932-09-29</td>\n",
       "    </tr>\n",
       "    <tr>\n",
       "      <th>4</th>\n",
       "      <td>239-45-3588</td>\n",
       "      <td>O-</td>\n",
       "      <td>Patrick Mendez</td>\n",
       "      <td>M</td>\n",
       "      <td>1973-03-05</td>\n",
       "    </tr>\n",
       "  </tbody>\n",
       "</table></div>"
      ],
      "text/plain": [
       "           ssn blood_group              name sex   birthdate\n",
       "0  466-17-6145          B+      Sophia Davis   F  2013-09-19\n",
       "1  333-23-5147          A-  Theresa Morrison   F  1980-02-25\n",
       "2  761-08-9917          O-      George Adams   M  2009-08-12\n",
       "3  749-87-6525          A-        Eric Brown   M  1932-09-29\n",
       "4  239-45-3588          O-    Patrick Mendez   M  1973-03-05"
      ]
     },
     "execution_count": 10,
     "metadata": {},
     "output_type": "execute_result"
    }
   ],
   "source": [
    "# Create fake profiles using specific columns\n",
    "profiles2 = []\n",
    "\n",
    "for _ in range(10):\n",
    "    profiles2.append(fake.profile(fields = [\"name\", \"sex\", \"ssn\", \"blood_group\", \"birthdate\"]))\n",
    "\n",
    "df3 = pd.DataFrame(profiles2, columns = profiles2[0].keys())\n",
    "df3.head()"
   ]
  },
  {
   "cell_type": "markdown",
   "id": "240746cc-4c39-4042-9ab4-533ccd8dcafa",
   "metadata": {},
   "source": [
    "## DynamicProvider: customizable provider"
   ]
  },
  {
   "cell_type": "code",
   "execution_count": 13,
   "id": "9573b140-64cc-4dfc-98f4-6e4e7f91977f",
   "metadata": {
    "tags": []
   },
   "outputs": [],
   "source": [
    "from faker.providers import DynamicProvider"
   ]
  },
  {
   "cell_type": "code",
   "execution_count": 14,
   "id": "de5f9d09-4772-4e0a-9ac9-250e79dfd97e",
   "metadata": {
    "tags": []
   },
   "outputs": [],
   "source": [
    "df_museums = pd.read_csv('../../Data/museums.csv')"
   ]
  },
  {
   "cell_type": "code",
   "execution_count": 16,
   "id": "58953acb-ab9e-46a9-9878-ccea747aee8b",
   "metadata": {
    "tags": []
   },
   "outputs": [
    {
     "data": {
      "text/plain": [
       "'BREMEN HISTORICAL SOCIETY'"
      ]
     },
     "execution_count": 16,
     "metadata": {},
     "output_type": "execute_result"
    }
   ],
   "source": [
    "# Get unique list of museum names from existing dataset\n",
    "museum_list = set(df_museums[\"Museum Name\"])\n",
    "\n",
    "# Create museum_provider\n",
    "museum_provider = DynamicProvider(\n",
    "     provider_name = \"museum_provider\",\n",
    "     elements = museum_list,\n",
    ")\n",
    "\n",
    "# Instantiate new Faker() instance\n",
    "fake_more = Faker()\n",
    "\n",
    "# Add new provider\n",
    "fake_more.add_provider(museum_provider)\n",
    "\n",
    "# Use new provider\n",
    "fake_more.museum_provider()"
   ]
  },
  {
   "cell_type": "code",
   "execution_count": 17,
   "id": "5085288b-bd35-4937-9ad9-d7c6a1f831d5",
   "metadata": {
    "tags": []
   },
   "outputs": [
    {
     "data": {
      "text/plain": [
       "'QUEPONCO RAILWAY STATION'"
      ]
     },
     "execution_count": 17,
     "metadata": {},
     "output_type": "execute_result"
    }
   ],
   "source": [
    "fake_more.museum_provider()"
   ]
  },
  {
   "cell_type": "code",
   "execution_count": 22,
   "id": "594cdc9e-8ab5-48b6-80f1-66d9d886fde8",
   "metadata": {
    "tags": []
   },
   "outputs": [
    {
     "data": {
      "text/plain": [
       "[<faker.providers.DynamicProvider at 0x17667bf10>,\n",
       " <faker.providers.user_agent.Provider at 0x175fe90d0>,\n",
       " <faker.providers.ssn.en_US.Provider at 0x175fe9790>,\n",
       " <faker.providers.python.Provider at 0x175fe9a00>,\n",
       " <faker.providers.profile.Provider at 0x175fe90a0>,\n",
       " <faker.providers.phone_number.en_US.Provider at 0x175fe9100>,\n",
       " <faker.providers.person.en_US.Provider at 0x175fe9d90>,\n",
       " <faker.providers.misc.en_US.Provider at 0x175fe96a0>,\n",
       " <faker.providers.lorem.en_US.Provider at 0x175fe9fa0>,\n",
       " <faker.providers.job.en_US.Provider at 0x175fe9ac0>,\n",
       " <faker.providers.isbn.Provider at 0x175fe9be0>,\n",
       " <faker.providers.internet.en_US.Provider at 0x175fe9ee0>,\n",
       " <faker.providers.geo.en_US.Provider at 0x175cd69d0>,\n",
       " <faker.providers.file.Provider at 0x175cd6520>,\n",
       " <faker.providers.emoji.Provider at 0x175cd6340>,\n",
       " <faker.providers.date_time.en_US.Provider at 0x175cd65b0>,\n",
       " <faker.providers.currency.en_US.Provider at 0x175cd66a0>,\n",
       " <faker.providers.credit_card.en_US.Provider at 0x176687850>,\n",
       " <faker.providers.company.en_US.Provider at 0x176687c40>,\n",
       " <faker.providers.color.en_US.Provider at 0x176687fd0>,\n",
       " <faker.providers.barcode.en_US.Provider at 0x176687d00>,\n",
       " <faker.providers.bank.en_GB.Provider at 0x175fe6730>,\n",
       " <faker.providers.automotive.en_US.Provider at 0x17667bd30>,\n",
       " <faker.providers.address.en_US.Provider at 0x175cef160>]"
      ]
     },
     "execution_count": 22,
     "metadata": {},
     "output_type": "execute_result"
    }
   ],
   "source": [
    "fake_more.providers"
   ]
  },
  {
   "cell_type": "markdown",
   "id": "74e5b793-e41a-4298-8df0-3d12c5fd7845",
   "metadata": {},
   "source": [
    "In this dummy example, I took an existing [dataset on museums](https://www.kaggle.com/datasets/imls/museum-directory?resource=download), extracted just the names, and in 2 lines of code, created a new provider that will randomly generate a museum name based on the data I've provided it. This could be applied to any other existing dataset that you have."
   ]
  },
  {
   "cell_type": "markdown",
   "id": "9af5f41f-ae00-417b-a698-8f5a470e3b5d",
   "metadata": {},
   "source": [
    "## Python Faker providers: standard vs. community\n",
    "To learn more about other providers you can use the following line of code. Note that we're calling on the providers attribute of a Faker() instance, called fake. All of the providers' accompanying functions can be called on like we did above without any additional import statements."
   ]
  },
  {
   "cell_type": "code",
   "execution_count": 9,
   "id": "ff8aee7a-26fa-43f2-8133-63e469007e7e",
   "metadata": {
    "tags": []
   },
   "outputs": [
    {
     "data": {
      "text/plain": [
       "[<faker.providers.user_agent.Provider at 0x174593eb0>,\n",
       " <faker.providers.ssn.en_US.Provider at 0x174593e20>,\n",
       " <faker.providers.python.Provider at 0x174593ee0>,\n",
       " <faker.providers.profile.Provider at 0x174593dc0>,\n",
       " <faker.providers.phone_number.en_US.Provider at 0x174593ca0>,\n",
       " <faker.providers.person.en_US.Provider at 0x174593b20>,\n",
       " <faker.providers.misc.en_US.Provider at 0x174593a30>,\n",
       " <faker.providers.lorem.en_US.Provider at 0x174593880>,\n",
       " <faker.providers.job.en_US.Provider at 0x1745936d0>,\n",
       " <faker.providers.isbn.Provider at 0x1745936a0>,\n",
       " <faker.providers.internet.en_US.Provider at 0x174593640>,\n",
       " <faker.providers.geo.en_US.Provider at 0x1745932b0>,\n",
       " <faker.providers.file.Provider at 0x1745934f0>,\n",
       " <faker.providers.emoji.Provider at 0x174593430>,\n",
       " <faker.providers.date_time.en_US.Provider at 0x174593040>,\n",
       " <faker.providers.currency.en_US.Provider at 0x1742aee20>,\n",
       " <faker.providers.credit_card.en_US.Provider at 0x1742ae610>,\n",
       " <faker.providers.company.en_US.Provider at 0x1745708b0>,\n",
       " <faker.providers.color.en_US.Provider at 0x174570eb0>,\n",
       " <faker.providers.barcode.en_US.Provider at 0x174570d60>,\n",
       " <faker.providers.bank.en_GB.Provider at 0x174579e80>,\n",
       " <faker.providers.automotive.en_US.Provider at 0x14bd3d0d0>,\n",
       " <faker.providers.address.en_US.Provider at 0x10eb76df0>]"
      ]
     },
     "execution_count": 9,
     "metadata": {},
     "output_type": "execute_result"
    }
   ],
   "source": [
    "# Get full list of built-in providers\n",
    "fake.providers"
   ]
  },
  {
   "cell_type": "markdown",
   "id": "be15a2ef-0942-4d39-85d3-d257582fb474",
   "metadata": {},
   "source": [
    "Beyond the basic providers, there are also community-developed providers, such as:\n",
    "\n",
    "- faker_airtravel: airport and flight information\n",
    "- faker_music: music genres, subgenres, and instrument information\n",
    "- faker_vehicle: year, make, model, and other vehicle information\n",
    "\n",
    "But you will have to install and import community providers separately:"
   ]
  },
  {
   "cell_type": "code",
   "execution_count": 10,
   "id": "5c5f096c-8aba-44c0-9081-16490da19af9",
   "metadata": {
    "tags": []
   },
   "outputs": [],
   "source": [
    "#%pip install faker_airtravel"
   ]
  },
  {
   "cell_type": "code",
   "execution_count": 20,
   "id": "1814a31c-3c91-4668-8680-1df8eb8e6730",
   "metadata": {
    "tags": []
   },
   "outputs": [],
   "source": [
    "from faker import Faker\n",
    "from faker_airtravel import AirTravelProvider\n",
    "fake.add_provider(AirTravelProvider)"
   ]
  },
  {
   "cell_type": "markdown",
   "id": "c47a5f64-32d0-4d7c-8235-3ae5f8d26ef0",
   "metadata": {},
   "source": [
    "Check out Python Faker's full [GitHub](https://github.com/joke2k/faker) and [documentation](https://faker.readthedocs.io/en/master/) for more."
   ]
  },
  {
   "cell_type": "code",
   "execution_count": 21,
   "id": "69585ede-ee56-40e7-aa53-2ef5dd08216e",
   "metadata": {
    "tags": []
   },
   "outputs": [],
   "source": [
    "#%pip install faker_vehicle\n",
    "#%pip install faker_music"
   ]
  },
  {
   "cell_type": "code",
   "execution_count": 22,
   "id": "181065cd-41df-48c7-bb70-d96c69c3258c",
   "metadata": {
    "tags": []
   },
   "outputs": [],
   "source": [
    "import faker_music\n",
    "from faker_music import MusicProvider\n",
    "fake.add_provider(MusicProvider)"
   ]
  },
  {
   "cell_type": "code",
   "execution_count": 23,
   "id": "0c2b835d-125d-4c95-9682-e31912fc2fce",
   "metadata": {
    "tags": []
   },
   "outputs": [],
   "source": [
    "import faker_vehicle\n",
    "from faker_vehicle import VehicleProvider\n",
    "fake.add_provider(VehicleProvider)"
   ]
  },
  {
   "cell_type": "code",
   "execution_count": 24,
   "id": "37b88f45-1284-4cc7-9aea-5f85656b06c1",
   "metadata": {
    "tags": []
   },
   "outputs": [
    {
     "data": {
      "text/plain": [
       "[<faker_vehicle.VehicleProvider at 0x172f2f0d0>,\n",
       " <faker_music.music.MusicProvider at 0x173bc4700>,\n",
       " <faker_airtravel.airports.AirTravelProvider at 0x173bd2e20>,\n",
       " <faker.providers.user_agent.Provider at 0x172e429d0>,\n",
       " <faker.providers.ssn.en_US.Provider at 0x172e42940>,\n",
       " <faker.providers.python.Provider at 0x172e42a00>,\n",
       " <faker.providers.profile.Provider at 0x172e428e0>,\n",
       " <faker.providers.phone_number.en_US.Provider at 0x172e427c0>,\n",
       " <faker.providers.person.en_US.Provider at 0x172e42640>,\n",
       " <faker.providers.misc.en_US.Provider at 0x172e42550>,\n",
       " <faker.providers.lorem.en_US.Provider at 0x172e423a0>,\n",
       " <faker.providers.job.en_US.Provider at 0x172e421f0>,\n",
       " <faker.providers.isbn.Provider at 0x172e421c0>,\n",
       " <faker.providers.internet.en_US.Provider at 0x172e42160>,\n",
       " <faker.providers.geo.en_US.Provider at 0x1720e2610>,\n",
       " <faker.providers.file.Provider at 0x1720e2940>,\n",
       " <faker.providers.emoji.Provider at 0x1720e2580>,\n",
       " <faker.providers.date_time.en_US.Provider at 0x172e1d910>,\n",
       " <faker.providers.currency.en_US.Provider at 0x172e1dd90>,\n",
       " <faker.providers.credit_card.en_US.Provider at 0x172e1dbb0>,\n",
       " <faker.providers.company.en_US.Provider at 0x172e1db20>,\n",
       " <faker.providers.color.en_US.Provider at 0x172e1db50>,\n",
       " <faker.providers.barcode.en_US.Provider at 0x172e0eee0>,\n",
       " <faker.providers.bank.en_GB.Provider at 0x172e22610>,\n",
       " <faker.providers.automotive.en_US.Provider at 0x172e22670>,\n",
       " <faker.providers.address.en_US.Provider at 0x10ca20d90>]"
      ]
     },
     "execution_count": 24,
     "metadata": {},
     "output_type": "execute_result"
    }
   ],
   "source": [
    "fake.providers"
   ]
  },
  {
   "cell_type": "code",
   "execution_count": 25,
   "id": "9cd299c9-8fb9-4f35-8a2a-aaebe80f4c84",
   "metadata": {
    "tags": []
   },
   "outputs": [
    {
     "data": {
      "text/plain": [
       "'Tropic Air'"
      ]
     },
     "execution_count": 25,
     "metadata": {},
     "output_type": "execute_result"
    }
   ],
   "source": [
    "fake.airline()"
   ]
  },
  {
   "cell_type": "code",
   "execution_count": 30,
   "id": "bcda977c-27fb-4285-a1cd-a079249d3816",
   "metadata": {},
   "outputs": [],
   "source": [
    "#todo: create a fake dataset with a specific distribution starting with Gaussian\n"
   ]
  },
  {
   "cell_type": "code",
   "execution_count": null,
   "id": "15148ece-f84a-4668-9d73-e724a908de09",
   "metadata": {},
   "outputs": [],
   "source": []
  }
 ],
 "metadata": {
  "kernelspec": {
   "display_name": "Python 3 (ipykernel)",
   "language": "python",
   "name": "python3"
  },
  "language_info": {
   "codemirror_mode": {
    "name": "ipython",
    "version": 3
   },
   "file_extension": ".py",
   "mimetype": "text/x-python",
   "name": "python",
   "nbconvert_exporter": "python",
   "pygments_lexer": "ipython3",
   "version": "3.9.16"
  }
 },
 "nbformat": 4,
 "nbformat_minor": 5
}
