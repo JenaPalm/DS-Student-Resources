{
 "cells": [
  {
   "cell_type": "markdown",
   "id": "ceea8db5-696e-468b-b3e6-93cac18f45d5",
   "metadata": {},
   "source": [
    "# Concatentation-Merging Datasets\n",
    "## Concatenation:\n",
    "Concatenation is used when you want to combine datasets vertically or horizontally, based on their index or column names."
   ]
  },
  {
   "cell_type": "code",
   "execution_count": 1,
   "id": "07d32867-5688-44f9-8592-45c27446f087",
   "metadata": {
    "tags": []
   },
   "outputs": [
    {
     "name": "stdout",
     "output_type": "stream",
     "text": [
      "   A   B\n",
      "0  1   4\n",
      "1  2   5\n",
      "2  3   6\n",
      "0  7  10\n",
      "1  8  11\n",
      "2  9  12\n"
     ]
    }
   ],
   "source": [
    "# Example 1: Concatenating DataFrames vertically\n",
    "\n",
    "import pandas as pd\n",
    "\n",
    "df1 = pd.DataFrame({'A': [1, 2, 3],\n",
    "                    'B': [4, 5, 6]})\n",
    "\n",
    "df2 = pd.DataFrame({'A': [7, 8, 9],\n",
    "                    'B': [10, 11, 12]})\n",
    "\n",
    "merged_df = pd.concat([df1, df2], axis=0)\n",
    "print(merged_df)\n"
   ]
  },
  {
   "cell_type": "code",
   "execution_count": 3,
   "id": "b1573da9-f45a-4d2b-9c47-3840a9a9c3d0",
   "metadata": {
    "tags": []
   },
   "outputs": [
    {
     "name": "stdout",
     "output_type": "stream",
     "text": [
      "   A  B  C   D\n",
      "0  1  4  7  10\n",
      "1  2  5  8  11\n",
      "2  3  6  9  12\n"
     ]
    }
   ],
   "source": [
    "# Example 2: Concatenating DataFrames horizontally\n",
    "\n",
    "df1 = pd.DataFrame({'A': [1, 2, 3],\n",
    "                    'B': [4, 5, 6]})\n",
    "\n",
    "df2 = pd.DataFrame({'C': [7, 8, 9],\n",
    "                    'D': [10, 11, 12]})\n",
    "\n",
    "merged_df = pd.concat([df1, df2], axis=1)\n",
    "print(merged_df)\n"
   ]
  },
  {
   "cell_type": "markdown",
   "id": "e47c6ae9-f897-4d8e-9f33-9cacbaa3f6fc",
   "metadata": {},
   "source": [
    "## Joining:\n",
    "Joining is used when you want to combine datasets based on a common column or index."
   ]
  },
  {
   "cell_type": "code",
   "execution_count": 4,
   "id": "f79f48a9-3a5f-4887-83cf-17e61c95fbda",
   "metadata": {
    "tags": []
   },
   "outputs": [
    {
     "name": "stdout",
     "output_type": "stream",
     "text": [
      "   ID     Name  Age\n",
      "0   2      Bob   25\n",
      "1   3  Charlie   30\n"
     ]
    }
   ],
   "source": [
    "# Example 1: Joining DataFrames based on a common column\n",
    "\n",
    "df1 = pd.DataFrame({'ID': [1, 2, 3],\n",
    "                    'Name': ['Alice', 'Bob', 'Charlie']})\n",
    "\n",
    "df2 = pd.DataFrame({'ID': [2, 3, 4],\n",
    "                    'Age': [25, 30, 35]})\n",
    "\n",
    "merged_df = df1.merge(df2, on='ID', how='inner')\n",
    "print(merged_df)\n"
   ]
  },
  {
   "cell_type": "code",
   "execution_count": 5,
   "id": "fc57c332-72b7-4631-a2f2-74f61b1f3cca",
   "metadata": {
    "tags": []
   },
   "outputs": [
    {
     "name": "stdout",
     "output_type": "stream",
     "text": [
      "    A  B  C   D\n",
      "20  2  5  7  10\n",
      "30  3  6  8  11\n"
     ]
    }
   ],
   "source": [
    "# Example 2: Joining DataFrames based on a common index\n",
    "\n",
    "df1 = pd.DataFrame({'A': [1, 2, 3],\n",
    "                    'B': [4, 5, 6]},\n",
    "                   index=[10, 20, 30])\n",
    "\n",
    "df2 = pd.DataFrame({'C': [7, 8, 9],\n",
    "                    'D': [10, 11, 12]},\n",
    "                   index=[20, 30, 40])\n",
    "\n",
    "merged_df = df1.join(df2, how='inner')\n",
    "print(merged_df)\n"
   ]
  },
  {
   "cell_type": "markdown",
   "id": "d12059fd-d282-4725-83ee-423be01a8a95",
   "metadata": {},
   "source": [
    "## Merging:\n",
    "Merging is similar to joining, but it provides more flexibility to handle different column names in the datasets."
   ]
  },
  {
   "cell_type": "code",
   "execution_count": 6,
   "id": "7dceb62e-3868-4907-aab7-d7b5cebc916d",
   "metadata": {
    "tags": []
   },
   "outputs": [
    {
     "name": "stdout",
     "output_type": "stream",
     "text": [
      "   ID     Name  EmpID  Age\n",
      "0   2      Bob      2   25\n",
      "1   3  Charlie      3   30\n"
     ]
    }
   ],
   "source": [
    "# Example: Merging DataFrames with different column names\n",
    "\n",
    "df1 = pd.DataFrame({'ID': [1, 2, 3],\n",
    "                    'Name': ['Alice', 'Bob', 'Charlie']})\n",
    "\n",
    "df2 = pd.DataFrame({'EmpID': [2, 3, 4],\n",
    "                    'Age': [25, 30, 35]})\n",
    "\n",
    "merged_df = pd.merge(df1, df2, left_on='ID', right_on='EmpID', how='inner')\n",
    "print(merged_df)\n"
   ]
  },
  {
   "cell_type": "code",
   "execution_count": null,
   "id": "a69c4b70-f990-461c-b94e-eceb46d0703d",
   "metadata": {},
   "outputs": [],
   "source": []
  }
 ],
 "metadata": {
  "kernelspec": {
   "display_name": "Python 3.11",
   "language": "python",
   "name": "mykernel"
  },
  "language_info": {
   "codemirror_mode": {
    "name": "ipython",
    "version": 3
   },
   "file_extension": ".py",
   "mimetype": "text/x-python",
   "name": "python",
   "nbconvert_exporter": "python",
   "pygments_lexer": "ipython3",
   "version": "3.11.3"
  }
 },
 "nbformat": 4,
 "nbformat_minor": 5
}
