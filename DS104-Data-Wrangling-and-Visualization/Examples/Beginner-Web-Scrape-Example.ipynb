{
 "cells": [
  {
   "cell_type": "markdown",
   "id": "d772f75f-bb7a-44e1-bf01-0d4d988a2ee5",
   "metadata": {},
   "source": [
    "# Main Site"
   ]
  },
  {
   "cell_type": "code",
   "execution_count": 19,
   "id": "48692bcc-79fd-444a-a986-9e60361be019",
   "metadata": {},
   "outputs": [],
   "source": [
    "import requests\n",
    "from bs4 import BeautifulSoup"
   ]
  },
  {
   "cell_type": "code",
   "execution_count": 21,
   "id": "48f07f42-55f3-411c-a07e-2ebf404c425e",
   "metadata": {},
   "outputs": [],
   "source": [
    "URL = \"https://www.nbcnews.com/us-news\"\n",
    "page = requests.get(URL)\n",
    "\n",
    "soup = BeautifulSoup(page.content, \"html.parser\")"
   ]
  },
  {
   "cell_type": "code",
   "execution_count": 25,
   "id": "426b0f20-70e4-4c5b-b63b-2145235d8434",
   "metadata": {},
   "outputs": [],
   "source": [
    "# soup"
   ]
  },
  {
   "cell_type": "code",
   "execution_count": 34,
   "id": "15883f13-a76e-408f-a013-e9973f45d8c6",
   "metadata": {},
   "outputs": [
    {
     "data": {
      "text/plain": [
       "<h2 class=\"styles_headline__ice3t\"><a href=\"https://www.nbcnews.com/news/us-news/colorado-cardiologist-accused-sexual-assault-case-named-9-women-met-hi-rcna85141\">Colorado cardiologist accused in sexual assault case named by 9 more women he met on Hinge dating app</a></h2>"
      ]
     },
     "execution_count": 34,
     "metadata": {},
     "output_type": "execute_result"
    }
   ],
   "source": [
    "soup.find('h2', class_=\"styles_headline__ice3t\")"
   ]
  },
  {
   "cell_type": "code",
   "execution_count": 31,
   "id": "01f668a7-1fe2-4f2c-9644-b27b8e38ae1e",
   "metadata": {},
   "outputs": [
    {
     "data": {
      "text/plain": [
       "'https://www.nbcnews.com/news/us-news/colorado-cardiologist-accused-sexual-assault-case-named-9-women-met-hi-rcna85141'"
      ]
     },
     "execution_count": 31,
     "metadata": {},
     "output_type": "execute_result"
    }
   ],
   "source": [
    "article = soup.find('h2', class_=\"styles_headline__ice3t\").find('a')['href']\n",
    "article"
   ]
  },
  {
   "cell_type": "code",
   "execution_count": null,
   "id": "e38f794c-efe8-4560-a207-b554ffa642c7",
   "metadata": {},
   "outputs": [],
   "source": []
  },
  {
   "cell_type": "code",
   "execution_count": null,
   "id": "9f0b8cac-3af1-406e-a3cf-dd62d36c7b72",
   "metadata": {},
   "outputs": [],
   "source": []
  },
  {
   "cell_type": "code",
   "execution_count": null,
   "id": "27acd83b-3b63-48dd-8dbe-921677603b79",
   "metadata": {},
   "outputs": [],
   "source": []
  },
  {
   "cell_type": "markdown",
   "id": "c7d6d264-492e-4960-a0b5-061a06698cf9",
   "metadata": {},
   "source": [
    "---\n",
    "# Article"
   ]
  },
  {
   "cell_type": "code",
   "execution_count": 36,
   "id": "e254eb39-88ca-42bb-976b-868b5c5a4ed7",
   "metadata": {},
   "outputs": [],
   "source": [
    "URL = \"https://www.nbcnews.com/news/us-news/8-year-old-girl-dies-us-border-patrol-custody-texas-migrant-rcna85019\"\n",
    "page = requests.get(URL)\n",
    "\n",
    "soup = BeautifulSoup(page.content, \"html.parser\")"
   ]
  },
  {
   "cell_type": "code",
   "execution_count": 3,
   "id": "7998b5ad-e1a0-4fc3-b51f-7a2d0fee7bb5",
   "metadata": {},
   "outputs": [],
   "source": [
    "# soup"
   ]
  },
  {
   "cell_type": "code",
   "execution_count": 6,
   "id": "5d69080a-17e0-49ee-a1ce-d42db82fd4ac",
   "metadata": {},
   "outputs": [
    {
     "data": {
      "text/plain": [
       "<h1 class=\"article-hero-headline__htag lh-none-print black-print article-hero-headline__htag--loading\">8-year-old girl dies in U.S. Border Patrol custody in Texas</h1>"
      ]
     },
     "execution_count": 6,
     "metadata": {},
     "output_type": "execute_result"
    }
   ],
   "source": [
    "soup.find('h1')"
   ]
  },
  {
   "cell_type": "code",
   "execution_count": 8,
   "id": "5d0b18e0-00a3-4a17-ba29-0e59af5c4645",
   "metadata": {},
   "outputs": [
    {
     "data": {
      "text/plain": [
       "'8-year-old girl dies in U.S. Border Patrol custody in Texas'"
      ]
     },
     "execution_count": 8,
     "metadata": {},
     "output_type": "execute_result"
    }
   ],
   "source": [
    "title = soup.find('h1').text\n",
    "title"
   ]
  },
  {
   "cell_type": "code",
   "execution_count": 16,
   "id": "136ff757-def5-461d-99e3-934d4abe1b1f",
   "metadata": {},
   "outputs": [
    {
     "data": {
      "text/plain": [
       "'An 8-year-old girl died after suffering a \"medical emergency\" while in U.S. Border Patrol custody in Texas on Wednesday, authorities said.The girl and her family were being held at a facility in the city of Harlingen, near the Mexico border, Customs and Border Protection said in a statement. No more details have been released about the girl\\'s identity.\"Emergency Medical Services were called to the station and transported her to the local hospital where she was pronounced dead,\" the statement said, adding that the Office of Professional Responsibility would conduct an investigation as is standard protocol in the case of a death. Illegal border crossings declined yesterday as tensions grow in citiesMay 16, 202301:28The agency said it had contacted the Department of Homeland Security’s Office of Inspector General and the Harlingen Police Department about the incident.Sgt. Larry Moore, a spokesman for the Harlingen Police Department, told the Associated Press he had no information about the death.The death comes days after a 17-year-old unaccompanied migrant from Honduras died at a facility run by the Department of Health and Human Services’ Office of Refugee Resettlement in Florida.The Honduran government named him as Ángel Eduardo Maradiaga Espinoza and called for a full investigation and a criminal investigation if any wrongdoing is found.On May 12, Title 42 was lifted — a Covid-19 pandemic-related restriction that put limits on immigration. Amid fears of a big influx of migrants, and after an initial surge, the numbers returned to normal.Blas Nuñez-Neto, assistant secretary for border & immigration policy at the Department for Homeland Security, told reporters in a briefing Wednesday that the daily average of “\\xa0“encounters” with migrants seeking to cross the border since May 12 had fallen from more than 10,000 to just over 4,400, including less than 4,000 on Tuesday and Wednesday.\"This represents a decrease of 56%, or less than half of the average encountered in the four days leading up to the title the lifting of Title 42 when the Border Patrol encountered an average of 10,100 individuals each day,\" he said.In the four days after Title 42 was lifted, Border Patrol processed and released more than 6,000 migrants into the U.S. without court dates or the ability to track them.Mexico, Colombia and Guatemala are currently the most popular countries of origin for migrants attempting to cross the border, he said.'"
      ]
     },
     "execution_count": 16,
     "metadata": {},
     "output_type": "execute_result"
    }
   ],
   "source": [
    "content = soup.find('div', class_=\"article-body__content\").text\n",
    "content"
   ]
  },
  {
   "cell_type": "code",
   "execution_count": 18,
   "id": "42ce49a9-e4b5-4e5d-bb23-f87ee93223b3",
   "metadata": {},
   "outputs": [
    {
     "data": {
      "text/plain": [
       "'https://www.nbcnews.com/news/us-news/8-year-old-girl-dies-us-border-patrol-custody-texas-migrant-rcna85019'"
      ]
     },
     "execution_count": 18,
     "metadata": {},
     "output_type": "execute_result"
    }
   ],
   "source": [
    "url = URL\n",
    "url"
   ]
  },
  {
   "cell_type": "code",
   "execution_count": null,
   "id": "a60555d3-4c6c-438b-81b1-f1e95fbcd600",
   "metadata": {},
   "outputs": [],
   "source": []
  },
  {
   "cell_type": "markdown",
   "id": "88ad3e72-7afe-41b1-8ba6-f12f83baae8e",
   "metadata": {},
   "source": [
    "# Putting it all together"
   ]
  },
  {
   "cell_type": "code",
   "execution_count": 38,
   "id": "6cfa8293-6647-4823-bab2-da387095608e",
   "metadata": {},
   "outputs": [],
   "source": [
    "import requests\n",
    "from bs4 import BeautifulSoup"
   ]
  },
  {
   "cell_type": "code",
   "execution_count": 39,
   "id": "8817b06a-1669-4120-8d29-5d61185ce9c6",
   "metadata": {},
   "outputs": [],
   "source": [
    "URL = \"https://www.nbcnews.com/us-news\"\n",
    "page = requests.get(URL)\n",
    "\n",
    "soup = BeautifulSoup(page.content, \"html.parser\")"
   ]
  },
  {
   "cell_type": "code",
   "execution_count": 45,
   "id": "1845b69d-98c1-4a48-8d19-5c70d336c97f",
   "metadata": {},
   "outputs": [],
   "source": [
    "result = soup.find_all('h2', class_=\"styles_headline__ice3t\")"
   ]
  },
  {
   "cell_type": "code",
   "execution_count": 64,
   "id": "e6c24bb2-7318-4b25-b84e-e57088be3645",
   "metadata": {},
   "outputs": [
    {
     "name": "stdout",
     "output_type": "stream",
     "text": [
      "Colorado cardiologist accused in sexual assault case named by 9 more women he met on Hinge dating app\n",
      "New Mexico teen gunman died in hail of police gunfire, likely his final wish, chief says\n",
      "States with abortion bans could drive away young doctors, survey finds\n",
      "Suspected overdose deaths of 2 girls at a high school lead to murder charges against student\n",
      "Woman who refused tuberculosis treatment is not in custody 2 months after arrest warrant issued\n",
      "GOP witnesses undermined Jan. 6 cases with conspiracy theories, FBI says\n",
      "FDA panel recommends the first shot to prevent RSV in infants by vaccinating pregnant mothers\n",
      "Disney scraps plan for new Florida campus amid DeSantis feud\n",
      "Wife of radiologist who drove Tesla off Calif. cliff with family inside said he did it 'on purpose,' unsealed docs reveal\n",
      "Groom whose wife was killed in wedding night crash sues driver and bars she allegedly visited\n",
      "The fractured GOP is leaning on Rep. Garret Graves to negotiate the debt ceiling and keep the party united\n",
      "Rep. Marjorie Taylor Greene introduces articles of impeachment against Biden\n",
      "Biden meets with Japan’s Prime Minister as U.S. tries to reach deal on debt ceiling\n",
      "Sen. Dianne Feinstein suffered previously undisclosed complications from shingles\n",
      "Robert Kennedy Jr. names Dennis Kucinich as 2024 campaign manager\n",
      "Colorado cardiologist accused in multiple sexual assault cases\n",
      "Fire engulfs construction site in Charlotte\n",
      "Dodgers disinvite Sisters of Perpetual Indulgence from Pride Night celebrations\n",
      "Lost hikers rescued after using iPhone SOS feature\n",
      "Demi Lovato opens up about her struggles with mental health\n"
     ]
    }
   ],
   "source": [
    "for job_element in soup.find_all('h2', class_=\"styles_headline__ice3t\"):\n",
    "    links = job_element.find_all(\"a\")\n",
    "    for link in links:\n",
    "        print(link.text.strip())"
   ]
  },
  {
   "cell_type": "code",
   "execution_count": 72,
   "id": "732245a1-3b06-4d47-b873-d318aa93b48c",
   "metadata": {},
   "outputs": [],
   "source": [
    "list_urls = []"
   ]
  },
  {
   "cell_type": "code",
   "execution_count": 73,
   "id": "c3c0f81e-47cb-4d5f-8416-6ae3ba67d3ae",
   "metadata": {},
   "outputs": [
    {
     "name": "stdout",
     "output_type": "stream",
     "text": [
      "https://www.nbcnews.com/news/us-news/colorado-cardiologist-accused-sexual-assault-case-named-9-women-met-hi-rcna85141\n",
      "\n",
      "https://www.nbcnews.com/news/us-news/new-mexico-shooting-new-details-women-shot-while-trying-to-help-victim-rcna85158\n",
      "\n",
      "https://www.nbcnews.com/health/health-news/states-abortion-bans-young-doctors-survey-rcna84899\n",
      "\n",
      "https://www.nbcnews.com/news/us-news/tennessee-student-charged-murder-overdose-deaths-high-school-girls-rcna85140\n",
      "\n",
      "https://www.nbcnews.com/news/us-news/woman-refused-tuberculosis-treatment-not-custody-2-months-arrest-warra-rcna85076\n",
      "\n",
      "https://www.nbcnews.com/politics/congress/gop-witnesses-undermined-jan-6-cases-conspiracy-theories-fbi-says-rcna85095\n",
      "\n",
      "https://www.nbcnews.com/health/kids-health/rsv-vaccine-infants-fda-panel-vote-rcna84740\n",
      "\n",
      "https://www.nbcnews.com/business/corporations/disney-scraps-plan-new-florida-campus-desantis-feud-rcna85130\n",
      "\n",
      "https://www.nbcnews.com/news/us-news/wife-radiologist-drove-tesla-ca-cliff-family-said-purpose-unsealed-doc-rcna85033\n",
      "\n",
      "https://www.nbcnews.com/news/crime-courts/groom-whose-wife-was-killed-wedding-night-crash-files-suit-driver-bars-rcna85031\n",
      "\n",
      "https://www.nbcnews.com/politics/congress/rep-graves-negotiating-debt-ceiling-keeping-fractured-gop-united-rcna84845\n",
      "\n",
      "https://www.nbcnews.com/politics/congress/marjorie-taylor-greene-introduces-biden-impeachment-articles-rcna85098\n",
      "\n",
      "https://www.nbcnews.com/nightly-news/video/biden-meets-with-japan-s-prime-minister-as-u-s-tries-to-reach-deal-on-debt-ceiling-174866501756\n",
      "\n",
      "https://www.nbcnews.com/politics/congress/sen-dianne-feinstein-suffered-previously-undisclosed-complications-shi-rcna85124\n",
      "\n",
      "https://www.nbcnews.com/politics/2024-election/robert-kennedy-jr-names-dennis-kucinich-2024-campaign-manager-rcna85177\n",
      "\n",
      "https://www.nbcnews.com/video/colorado-cardiologist-accused-in-multiple-sexual-assault-cases-174863941555\n",
      "\n",
      "https://www.nbcnews.com/now/video/fire-engulfs-construction-site-in-charlotte-174833221895\n",
      "\n",
      "https://www.nbcnews.com/video/dodgers-disinvite-lgbtq-nonprofit-from-pride-night-celebrations-174825541715\n",
      "\n",
      "https://www.nbcnews.com/now/video/lost-hikers-rescued-after-using-iphone-sos-feature-174790213834\n",
      "\n",
      "https://www.nbcnews.com/now/video/demi-lovato-opens-up-about-her-struggles-with-mental-health-174777925865\n",
      "\n"
     ]
    }
   ],
   "source": [
    "for job_element in soup.find_all('h2', class_=\"styles_headline__ice3t\"):\n",
    "    # -- snip --\n",
    "    links = job_element.find_all(\"a\")\n",
    "    for link in links:\n",
    "        link_url = link[\"href\"]\n",
    "        print(f\"{link_url}\\n\")\n",
    "        list_urls.append(link_url)"
   ]
  },
  {
   "cell_type": "code",
   "execution_count": 76,
   "id": "9e63be66-6274-4699-8526-d7cb76ced89b",
   "metadata": {},
   "outputs": [
    {
     "data": {
      "text/plain": [
       "['https://www.nbcnews.com/news/us-news/colorado-cardiologist-accused-sexual-assault-case-named-9-women-met-hi-rcna85141',\n",
       " 'https://www.nbcnews.com/news/us-news/new-mexico-shooting-new-details-women-shot-while-trying-to-help-victim-rcna85158',\n",
       " 'https://www.nbcnews.com/health/health-news/states-abortion-bans-young-doctors-survey-rcna84899',\n",
       " 'https://www.nbcnews.com/news/us-news/tennessee-student-charged-murder-overdose-deaths-high-school-girls-rcna85140',\n",
       " 'https://www.nbcnews.com/news/us-news/woman-refused-tuberculosis-treatment-not-custody-2-months-arrest-warra-rcna85076',\n",
       " 'https://www.nbcnews.com/politics/congress/gop-witnesses-undermined-jan-6-cases-conspiracy-theories-fbi-says-rcna85095',\n",
       " 'https://www.nbcnews.com/health/kids-health/rsv-vaccine-infants-fda-panel-vote-rcna84740',\n",
       " 'https://www.nbcnews.com/business/corporations/disney-scraps-plan-new-florida-campus-desantis-feud-rcna85130',\n",
       " 'https://www.nbcnews.com/news/us-news/wife-radiologist-drove-tesla-ca-cliff-family-said-purpose-unsealed-doc-rcna85033',\n",
       " 'https://www.nbcnews.com/news/crime-courts/groom-whose-wife-was-killed-wedding-night-crash-files-suit-driver-bars-rcna85031',\n",
       " 'https://www.nbcnews.com/politics/congress/rep-graves-negotiating-debt-ceiling-keeping-fractured-gop-united-rcna84845',\n",
       " 'https://www.nbcnews.com/politics/congress/marjorie-taylor-greene-introduces-biden-impeachment-articles-rcna85098',\n",
       " 'https://www.nbcnews.com/nightly-news/video/biden-meets-with-japan-s-prime-minister-as-u-s-tries-to-reach-deal-on-debt-ceiling-174866501756',\n",
       " 'https://www.nbcnews.com/politics/congress/sen-dianne-feinstein-suffered-previously-undisclosed-complications-shi-rcna85124',\n",
       " 'https://www.nbcnews.com/politics/2024-election/robert-kennedy-jr-names-dennis-kucinich-2024-campaign-manager-rcna85177',\n",
       " 'https://www.nbcnews.com/video/colorado-cardiologist-accused-in-multiple-sexual-assault-cases-174863941555',\n",
       " 'https://www.nbcnews.com/now/video/fire-engulfs-construction-site-in-charlotte-174833221895',\n",
       " 'https://www.nbcnews.com/video/dodgers-disinvite-lgbtq-nonprofit-from-pride-night-celebrations-174825541715',\n",
       " 'https://www.nbcnews.com/now/video/lost-hikers-rescued-after-using-iphone-sos-feature-174790213834',\n",
       " 'https://www.nbcnews.com/now/video/demi-lovato-opens-up-about-her-struggles-with-mental-health-174777925865']"
      ]
     },
     "execution_count": 76,
     "metadata": {},
     "output_type": "execute_result"
    }
   ],
   "source": [
    "list_urls"
   ]
  },
  {
   "cell_type": "code",
   "execution_count": 85,
   "id": "c43595ea-ee5d-413b-865c-98a6b3ca3d6b",
   "metadata": {},
   "outputs": [],
   "source": [
    "list_titles = []"
   ]
  },
  {
   "cell_type": "code",
   "execution_count": 86,
   "id": "37388c88-ba36-49a8-8084-4fdb9baf293c",
   "metadata": {},
   "outputs": [
    {
     "name": "stdout",
     "output_type": "stream",
     "text": [
      "Colorado cardiologist accused in sexual assault case named by 9 more women he met on Hinge dating app\n",
      "New Mexico teen gunman died in hail of police gunfire, likely his final wish, chief says\n",
      "States with abortion bans could drive away young doctors, survey finds\n",
      "Suspected overdose deaths of 2 girls at a high school lead to murder charges against student\n",
      "Woman who refused tuberculosis treatment is not in custody 2 months after arrest warrant issued\n",
      "GOP witnesses undermined Jan. 6 cases with conspiracy theories, FBI says\n",
      "FDA panel recommends the first shot to prevent RSV in infants by vaccinating pregnant mothers\n",
      "Disney scraps plan for new Florida campus amid DeSantis feud\n",
      "Wife of radiologist who drove Tesla off Calif. cliff with family inside said he did it 'on purpose,' unsealed docs reveal\n",
      "Groom whose wife was killed in wedding night crash sues driver and bars she allegedly visited\n",
      "The fractured GOP is leaning on Rep. Garret Graves to negotiate the debt ceiling and keep the party united\n",
      "Rep. Marjorie Taylor Greene introduces articles of impeachment against Biden\n",
      "Biden meets with Japan’s Prime Minister as U.S. tries to reach deal on debt ceiling\n",
      "Sen. Dianne Feinstein suffered previously undisclosed complications from shingles\n",
      "Robert Kennedy Jr. names Dennis Kucinich as 2024 campaign manager\n",
      "Colorado cardiologist accused in multiple sexual assault cases\n",
      "Fire engulfs construction site in Charlotte\n",
      "Dodgers disinvite Sisters of Perpetual Indulgence from Pride Night celebrations\n",
      "Lost hikers rescued after using iPhone SOS feature\n",
      "Demi Lovato opens up about her struggles with mental health\n"
     ]
    }
   ],
   "source": [
    "for job_element in soup.find_all('h2', class_=\"styles_headline__ice3t\"):\n",
    "    links = job_element.find_all(\"a\")\n",
    "    for link in links:\n",
    "        title_text = link.text.strip()\n",
    "        print(title_text)\n",
    "        list_titles.append(title_text)"
   ]
  },
  {
   "cell_type": "code",
   "execution_count": 87,
   "id": "fb425ad1-9c26-4aad-a237-4d0bae2c1d61",
   "metadata": {},
   "outputs": [
    {
     "data": {
      "text/plain": [
       "['Colorado cardiologist accused in sexual assault case named by 9 more women he met on Hinge dating app',\n",
       " 'New Mexico teen gunman died in hail of police gunfire, likely his final wish, chief says',\n",
       " 'States with abortion bans could drive away young doctors, survey finds',\n",
       " 'Suspected overdose deaths of 2 girls at a high school lead to murder charges against student',\n",
       " 'Woman who refused tuberculosis treatment is not in custody 2 months after arrest warrant issued',\n",
       " 'GOP witnesses undermined Jan. 6 cases with conspiracy theories, FBI says',\n",
       " 'FDA panel recommends the first shot to prevent RSV in infants by vaccinating pregnant mothers',\n",
       " 'Disney scraps plan for new Florida campus amid DeSantis feud',\n",
       " \"Wife of radiologist who drove Tesla off Calif. cliff with family inside said he did it 'on purpose,' unsealed docs reveal\",\n",
       " 'Groom whose wife was killed in wedding night crash sues driver and bars she allegedly visited',\n",
       " 'The fractured GOP is leaning on Rep. Garret Graves to negotiate the debt ceiling and keep the party united',\n",
       " 'Rep. Marjorie Taylor Greene introduces articles of impeachment against Biden',\n",
       " 'Biden meets with Japan’s Prime Minister as U.S. tries to reach deal on debt ceiling',\n",
       " 'Sen. Dianne Feinstein suffered previously undisclosed complications from shingles',\n",
       " 'Robert Kennedy Jr. names Dennis Kucinich as 2024 campaign manager',\n",
       " 'Colorado cardiologist accused in multiple sexual assault cases',\n",
       " 'Fire engulfs construction site in Charlotte',\n",
       " 'Dodgers disinvite Sisters of Perpetual Indulgence from Pride Night celebrations',\n",
       " 'Lost hikers rescued after using iPhone SOS feature',\n",
       " 'Demi Lovato opens up about her struggles with mental health']"
      ]
     },
     "execution_count": 87,
     "metadata": {},
     "output_type": "execute_result"
    }
   ],
   "source": [
    "list_titles"
   ]
  },
  {
   "cell_type": "code",
   "execution_count": null,
   "id": "f0535969-9ce4-4185-b01d-259e1e16d225",
   "metadata": {},
   "outputs": [],
   "source": []
  },
  {
   "cell_type": "code",
   "execution_count": null,
   "id": "acb70045-4253-4cbc-9a76-d10941516dc5",
   "metadata": {},
   "outputs": [],
   "source": []
  },
  {
   "cell_type": "code",
   "execution_count": null,
   "id": "02590c77-8741-42fc-9b08-bde0c0a3f32c",
   "metadata": {},
   "outputs": [],
   "source": []
  },
  {
   "cell_type": "code",
   "execution_count": null,
   "id": "3b5523cf-b09f-4f9c-b94f-8831ccceda4d",
   "metadata": {},
   "outputs": [],
   "source": []
  },
  {
   "cell_type": "code",
   "execution_count": 17,
   "id": "0aecf88b-c445-45a6-b825-f7d29e27b141",
   "metadata": {},
   "outputs": [],
   "source": [
    "import urllib"
   ]
  },
  {
   "cell_type": "code",
   "execution_count": null,
   "id": "18d6783a-4697-4d5e-91bb-bcfbe8234e81",
   "metadata": {},
   "outputs": [],
   "source": []
  }
 ],
 "metadata": {
  "kernelspec": {
   "display_name": "Python 3 (ipykernel)",
   "language": "python",
   "name": "python3"
  },
  "language_info": {
   "codemirror_mode": {
    "name": "ipython",
    "version": 3
   },
   "file_extension": ".py",
   "mimetype": "text/x-python",
   "name": "python",
   "nbconvert_exporter": "python",
   "pygments_lexer": "ipython3",
   "version": "3.10.4"
  }
 },
 "nbformat": 4,
 "nbformat_minor": 5
}
