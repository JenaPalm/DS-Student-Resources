{
 "cells": [
  {
   "cell_type": "markdown",
   "id": "82c3e0da",
   "metadata": {},
   "source": [
    "# This is a notebook that demonstrates data cleaning and running a Principal Component Analysis"
   ]
  },
  {
   "cell_type": "markdown",
   "id": "c0c61ec2-1b46-448e-a20d-caa375488a73",
   "metadata": {},
   "source": [
    "# Part I- Research Question"
   ]
  },
  {
   "cell_type": "markdown",
   "id": "66156b8c-418e-46ef-b711-24a1341fd269",
   "metadata": {},
   "source": [
    "## A. Research Question: Taking account the medical data, which variables cause high risk of admission?"
   ]
  },
  {
   "cell_type": "markdown",
   "id": "ca2646c2-2488-4cc5-9d21-874d0c21bd99",
   "metadata": {
    "tags": []
   },
   "source": [
    "### Installing the needed packages for the performance assessment."
   ]
  },
  {
   "cell_type": "code",
   "execution_count": 13,
   "id": "15264b8c-2f5f-4a88-b42d-be5403e8679c",
   "metadata": {
    "tags": [],
    "vscode": {
     "languageId": "r"
    }
   },
   "outputs": [
    {
     "name": "stderr",
     "output_type": "stream",
     "text": [
      "Warning message:\n",
      "\"package 'readr' is in use and will not be installed\"\n",
      "Warning message:\n",
      "\"package 'plyr' is in use and will not be installed\"\n",
      "Warning message:\n",
      "\"package 'dplyr' is in use and will not be installed\"\n",
      "Warning message:\n",
      "\"package 'ggplot2' is in use and will not be installed\"\n",
      "Warning message:\n",
      "\"package 'factoextra' is in use and will not be installed\"\n",
      "Warning message:\n",
      "\"package 'FactoMineR' is in use and will not be installed\"\n",
      "Warning message:\n",
      "\"package 'tidyverse' is in use and will not be installed\"\n",
      "Warning message:\n",
      "\"package 'mice' is in use and will not be installed\"\n",
      "Warning message:\n",
      "\"package 'outliers' is in use and will not be installed\"\n",
      "Warning message:\n",
      "\"package 'IDPmisc' is in use and will not be installed\"\n"
     ]
    }
   ],
   "source": [
    "install.packages(\"readr\")\n",
    "install.packages(\"plyr\")\n",
    "install.packages(\"dplyr\")\n",
    "install.packages(\"ggplot2\")\n",
    "install.packages(\"factoextra\")\n",
    "install.packages(\"FactoMineR\")\n",
    "install.packages(\"tidyverse\")\n",
    "install.packages(\"mice\")\n",
    "install.packages(\"outliers\")\n",
    "install.packages(\"IDPmisc\")"
   ]
  },
  {
   "cell_type": "markdown",
   "id": "b2d6523b-d106-4388-b939-932e765b642a",
   "metadata": {},
   "source": [
    "### Loading the packages that are needed for the data cleaning process."
   ]
  },
  {
   "cell_type": "code",
   "execution_count": 14,
   "id": "6be4f643-a03c-4093-b0f5-0054714b698c",
   "metadata": {
    "tags": [],
    "vscode": {
     "languageId": "r"
    }
   },
   "outputs": [],
   "source": [
    "library(readr) # for importing data\n",
    "library(plyr) # to change the data type to numeric.\n",
    "library(dplyr) # is used for data manipulation\n",
    "library(ggplot2) # for visualization\n",
    "library(factoextra) # to conduct the PCA\n",
    "library(FactoMineR) # to conduct the PCA\n",
    "library(tidyverse) # to tidy and clean the data\n",
    "library(mice) # for null value mitigation\n",
    "library(outliers) # to check for outliers\n",
    "library(IDPmisc)"
   ]
  },
  {
   "cell_type": "markdown",
   "id": "ba364ce5-4ebb-446e-9c15-2ec0c1006c26",
   "metadata": {},
   "source": [
    "### Loading in the medical data set to begin cleaning it."
   ]
  },
  {
   "cell_type": "code",
   "execution_count": 15,
   "id": "1290a3ce-60ac-42ad-a6ac-2040b5fcb3b5",
   "metadata": {
    "tags": [],
    "vscode": {
     "languageId": "r"
    }
   },
   "outputs": [
    {
     "data": {
      "text/html": [
       "<table class=\"dataframe\">\n",
       "<caption>A tibble: 5 × 53</caption>\n",
       "<thead>\n",
       "\t<tr><th scope=col>...1</th><th scope=col>CaseOrder</th><th scope=col>Customer_id</th><th scope=col>Interaction</th><th scope=col>UID</th><th scope=col>City</th><th scope=col>State</th><th scope=col>County</th><th scope=col>Zip</th><th scope=col>Lat</th><th scope=col>...</th><th scope=col>TotalCharge</th><th scope=col>Additional_charges</th><th scope=col>Survey_TimelyAdmin</th><th scope=col>Survey_TimelyTreatment</th><th scope=col>Survey_TimelyVisits</th><th scope=col>Survey_Reliability</th><th scope=col>Survey_Options</th><th scope=col>Survey_HoursTreatment</th><th scope=col>Survey_CourteousStaff</th><th scope=col>Survey_ActiveListening</th></tr>\n",
       "\t<tr><th scope=col>&lt;dbl&gt;</th><th scope=col>&lt;dbl&gt;</th><th scope=col>&lt;lgl&gt;</th><th scope=col>&lt;lgl&gt;</th><th scope=col>&lt;lgl&gt;</th><th scope=col>&lt;lgl&gt;</th><th scope=col>&lt;lgl&gt;</th><th scope=col>&lt;lgl&gt;</th><th scope=col>&lt;dbl&gt;</th><th scope=col>&lt;dbl&gt;</th><th scope=col>...</th><th scope=col>&lt;dbl&gt;</th><th scope=col>&lt;dbl&gt;</th><th scope=col>&lt;dbl&gt;</th><th scope=col>&lt;dbl&gt;</th><th scope=col>&lt;dbl&gt;</th><th scope=col>&lt;dbl&gt;</th><th scope=col>&lt;dbl&gt;</th><th scope=col>&lt;dbl&gt;</th><th scope=col>&lt;dbl&gt;</th><th scope=col>&lt;dbl&gt;</th></tr>\n",
       "</thead>\n",
       "<tbody>\n",
       "\t<tr><td>1</td><td>1</td><td>NA</td><td>NA</td><td>NA</td><td>NA</td><td>NA</td><td>NA</td><td>35621</td><td>34.34960</td><td>...</td><td>3191.049</td><td>17939.403</td><td>3</td><td>3</td><td>2</td><td>2</td><td>4</td><td>3</td><td>3</td><td>4</td></tr>\n",
       "\t<tr><td>2</td><td>2</td><td>NA</td><td>NA</td><td>NA</td><td>NA</td><td>NA</td><td>NA</td><td>32446</td><td>30.84513</td><td>...</td><td>4214.905</td><td>17612.998</td><td>3</td><td>4</td><td>3</td><td>4</td><td>4</td><td>4</td><td>3</td><td>3</td></tr>\n",
       "\t<tr><td>3</td><td>3</td><td>NA</td><td>NA</td><td>NA</td><td>NA</td><td>NA</td><td>NA</td><td>57110</td><td>43.54321</td><td>...</td><td>2177.587</td><td>17505.192</td><td>2</td><td>4</td><td>4</td><td>4</td><td>3</td><td>4</td><td>3</td><td>3</td></tr>\n",
       "\t<tr><td>4</td><td>4</td><td>NA</td><td>NA</td><td>NA</td><td>NA</td><td>NA</td><td>NA</td><td>56072</td><td>43.89744</td><td>...</td><td>2465.119</td><td>12993.437</td><td>3</td><td>5</td><td>5</td><td>3</td><td>4</td><td>5</td><td>5</td><td>5</td></tr>\n",
       "\t<tr><td>5</td><td>5</td><td>NA</td><td>NA</td><td>NA</td><td>NA</td><td>NA</td><td>NA</td><td>23181</td><td>37.59894</td><td>...</td><td>1885.655</td><td> 3716.526</td><td>2</td><td>1</td><td>3</td><td>3</td><td>5</td><td>3</td><td>4</td><td>3</td></tr>\n",
       "</tbody>\n",
       "</table>\n"
      ],
      "text/latex": [
       "A tibble: 5 × 53\n",
       "\\begin{tabular}{lllllllllllllllllllll}\n",
       " ...1 & CaseOrder & Customer\\_id & Interaction & UID & City & State & County & Zip & Lat & ... & TotalCharge & Additional\\_charges & Survey\\_TimelyAdmin & Survey\\_TimelyTreatment & Survey\\_TimelyVisits & Survey\\_Reliability & Survey\\_Options & Survey\\_HoursTreatment & Survey\\_CourteousStaff & Survey\\_ActiveListening\\\\\n",
       " <dbl> & <dbl> & <lgl> & <lgl> & <lgl> & <lgl> & <lgl> & <lgl> & <dbl> & <dbl> & ... & <dbl> & <dbl> & <dbl> & <dbl> & <dbl> & <dbl> & <dbl> & <dbl> & <dbl> & <dbl>\\\\\n",
       "\\hline\n",
       "\t 1 & 1 & NA & NA & NA & NA & NA & NA & 35621 & 34.34960 & ... & 3191.049 & 17939.403 & 3 & 3 & 2 & 2 & 4 & 3 & 3 & 4\\\\\n",
       "\t 2 & 2 & NA & NA & NA & NA & NA & NA & 32446 & 30.84513 & ... & 4214.905 & 17612.998 & 3 & 4 & 3 & 4 & 4 & 4 & 3 & 3\\\\\n",
       "\t 3 & 3 & NA & NA & NA & NA & NA & NA & 57110 & 43.54321 & ... & 2177.587 & 17505.192 & 2 & 4 & 4 & 4 & 3 & 4 & 3 & 3\\\\\n",
       "\t 4 & 4 & NA & NA & NA & NA & NA & NA & 56072 & 43.89744 & ... & 2465.119 & 12993.437 & 3 & 5 & 5 & 3 & 4 & 5 & 5 & 5\\\\\n",
       "\t 5 & 5 & NA & NA & NA & NA & NA & NA & 23181 & 37.59894 & ... & 1885.655 &  3716.526 & 2 & 1 & 3 & 3 & 5 & 3 & 4 & 3\\\\\n",
       "\\end{tabular}\n"
      ],
      "text/markdown": [
       "\n",
       "A tibble: 5 × 53\n",
       "\n",
       "| ...1 &lt;dbl&gt; | CaseOrder &lt;dbl&gt; | Customer_id &lt;lgl&gt; | Interaction &lt;lgl&gt; | UID &lt;lgl&gt; | City &lt;lgl&gt; | State &lt;lgl&gt; | County &lt;lgl&gt; | Zip &lt;dbl&gt; | Lat &lt;dbl&gt; | ... ... | TotalCharge &lt;dbl&gt; | Additional_charges &lt;dbl&gt; | Survey_TimelyAdmin &lt;dbl&gt; | Survey_TimelyTreatment &lt;dbl&gt; | Survey_TimelyVisits &lt;dbl&gt; | Survey_Reliability &lt;dbl&gt; | Survey_Options &lt;dbl&gt; | Survey_HoursTreatment &lt;dbl&gt; | Survey_CourteousStaff &lt;dbl&gt; | Survey_ActiveListening &lt;dbl&gt; |\n",
       "|---|---|---|---|---|---|---|---|---|---|---|---|---|---|---|---|---|---|---|---|---|\n",
       "| 1 | 1 | NA | NA | NA | NA | NA | NA | 35621 | 34.34960 | ... | 3191.049 | 17939.403 | 3 | 3 | 2 | 2 | 4 | 3 | 3 | 4 |\n",
       "| 2 | 2 | NA | NA | NA | NA | NA | NA | 32446 | 30.84513 | ... | 4214.905 | 17612.998 | 3 | 4 | 3 | 4 | 4 | 4 | 3 | 3 |\n",
       "| 3 | 3 | NA | NA | NA | NA | NA | NA | 57110 | 43.54321 | ... | 2177.587 | 17505.192 | 2 | 4 | 4 | 4 | 3 | 4 | 3 | 3 |\n",
       "| 4 | 4 | NA | NA | NA | NA | NA | NA | 56072 | 43.89744 | ... | 2465.119 | 12993.437 | 3 | 5 | 5 | 3 | 4 | 5 | 5 | 5 |\n",
       "| 5 | 5 | NA | NA | NA | NA | NA | NA | 23181 | 37.59894 | ... | 1885.655 |  3716.526 | 2 | 1 | 3 | 3 | 5 | 3 | 4 | 3 |\n",
       "\n"
      ],
      "text/plain": [
       "  ...1 CaseOrder Customer_id Interaction UID City State County Zip   Lat     \n",
       "1 1    1         NA          NA          NA  NA   NA    NA     35621 34.34960\n",
       "2 2    2         NA          NA          NA  NA   NA    NA     32446 30.84513\n",
       "3 3    3         NA          NA          NA  NA   NA    NA     57110 43.54321\n",
       "4 4    4         NA          NA          NA  NA   NA    NA     56072 43.89744\n",
       "5 5    5         NA          NA          NA  NA   NA    NA     23181 37.59894\n",
       "  ... TotalCharge Additional_charges Survey_TimelyAdmin Survey_TimelyTreatment\n",
       "1 ... 3191.049    17939.403          3                  3                     \n",
       "2 ... 4214.905    17612.998          3                  4                     \n",
       "3 ... 2177.587    17505.192          2                  4                     \n",
       "4 ... 2465.119    12993.437          3                  5                     \n",
       "5 ... 1885.655     3716.526          2                  1                     \n",
       "  Survey_TimelyVisits Survey_Reliability Survey_Options Survey_HoursTreatment\n",
       "1 2                   2                  4              3                    \n",
       "2 3                   4                  4              4                    \n",
       "3 4                   4                  3              4                    \n",
       "4 5                   3                  4              5                    \n",
       "5 3                   3                  5              3                    \n",
       "  Survey_CourteousStaff Survey_ActiveListening\n",
       "1 3                     4                     \n",
       "2 3                     3                     \n",
       "3 3                     3                     \n",
       "4 5                     5                     \n",
       "5 4                     3                     "
      ]
     },
     "metadata": {},
     "output_type": "display_data"
    }
   ],
   "source": [
    "medical_raw_data <- read_csv(\"~/WGU/Data Cleaning/Medical_Data/medical_raw_data.csv\", show_col_types= FALSE)\n",
    "# Viewing my data's first 5 rows to see what I have to work with using the head command.\n",
    "head(medical_raw_data, 5)"
   ]
  },
  {
   "cell_type": "markdown",
   "id": "b942557e-1a62-475e-a87a-43aa50b481eb",
   "metadata": {},
   "source": [
    "##### Viewing all of the column names below to see what I have to work with."
   ]
  },
  {
   "cell_type": "code",
   "execution_count": 16,
   "id": "313ec5a5-851d-4cb2-8d9a-d29eb798e3a1",
   "metadata": {
    "vscode": {
     "languageId": "r"
    }
   },
   "outputs": [
    {
     "data": {
      "text/html": [
       "<style>\n",
       ".list-inline {list-style: none; margin:0; padding: 0}\n",
       ".list-inline>li {display: inline-block}\n",
       ".list-inline>li:not(:last-child)::after {content: \"\\00b7\"; padding: 0 .5ex}\n",
       "</style>\n",
       "<ol class=list-inline><li>'...1'</li><li>'CaseOrder'</li><li>'Customer_id'</li><li>'Interaction'</li><li>'UID'</li><li>'City'</li><li>'State'</li><li>'County'</li><li>'Zip'</li><li>'Lat'</li><li>'Lng'</li><li>'Population'</li><li>'Area'</li><li>'Timezone'</li><li>'Job'</li><li>'Children'</li><li>'Age'</li><li>'Education'</li><li>'Employment'</li><li>'Household_Income'</li><li>'Marital'</li><li>'Gender'</li><li>'ReAdmis'</li><li>'VitD_levels'</li><li>'Doc_visits'</li><li>'Full_meals_eaten'</li><li>'VitD_supp'</li><li>'Soft_drink'</li><li>'Initial_admin'</li><li>'HighBlood'</li><li>'Stroke'</li><li>'Complication_risk'</li><li>'Overweight'</li><li>'Arthritis'</li><li>'Diabetes'</li><li>'Hyperlipidemia'</li><li>'BackPain'</li><li>'Anxiety'</li><li>'Allergic_rhinitis'</li><li>'Reflux_esophagitis'</li><li>'Asthma'</li><li>'Services'</li><li>'Initial_days'</li><li>'TotalCharge'</li><li>'Additional_charges'</li><li>'Survey_TimelyAdmin'</li><li>'Survey_TimelyTreatment'</li><li>'Survey_TimelyVisits'</li><li>'Survey_Reliability'</li><li>'Survey_Options'</li><li>'Survey_HoursTreatment'</li><li>'Survey_CourteousStaff'</li><li>'Survey_ActiveListening'</li></ol>\n"
      ],
      "text/latex": [
       "\\begin{enumerate*}\n",
       "\\item '...1'\n",
       "\\item 'CaseOrder'\n",
       "\\item 'Customer\\_id'\n",
       "\\item 'Interaction'\n",
       "\\item 'UID'\n",
       "\\item 'City'\n",
       "\\item 'State'\n",
       "\\item 'County'\n",
       "\\item 'Zip'\n",
       "\\item 'Lat'\n",
       "\\item 'Lng'\n",
       "\\item 'Population'\n",
       "\\item 'Area'\n",
       "\\item 'Timezone'\n",
       "\\item 'Job'\n",
       "\\item 'Children'\n",
       "\\item 'Age'\n",
       "\\item 'Education'\n",
       "\\item 'Employment'\n",
       "\\item 'Household\\_Income'\n",
       "\\item 'Marital'\n",
       "\\item 'Gender'\n",
       "\\item 'ReAdmis'\n",
       "\\item 'VitD\\_levels'\n",
       "\\item 'Doc\\_visits'\n",
       "\\item 'Full\\_meals\\_eaten'\n",
       "\\item 'VitD\\_supp'\n",
       "\\item 'Soft\\_drink'\n",
       "\\item 'Initial\\_admin'\n",
       "\\item 'HighBlood'\n",
       "\\item 'Stroke'\n",
       "\\item 'Complication\\_risk'\n",
       "\\item 'Overweight'\n",
       "\\item 'Arthritis'\n",
       "\\item 'Diabetes'\n",
       "\\item 'Hyperlipidemia'\n",
       "\\item 'BackPain'\n",
       "\\item 'Anxiety'\n",
       "\\item 'Allergic\\_rhinitis'\n",
       "\\item 'Reflux\\_esophagitis'\n",
       "\\item 'Asthma'\n",
       "\\item 'Services'\n",
       "\\item 'Initial\\_days'\n",
       "\\item 'TotalCharge'\n",
       "\\item 'Additional\\_charges'\n",
       "\\item 'Survey\\_TimelyAdmin'\n",
       "\\item 'Survey\\_TimelyTreatment'\n",
       "\\item 'Survey\\_TimelyVisits'\n",
       "\\item 'Survey\\_Reliability'\n",
       "\\item 'Survey\\_Options'\n",
       "\\item 'Survey\\_HoursTreatment'\n",
       "\\item 'Survey\\_CourteousStaff'\n",
       "\\item 'Survey\\_ActiveListening'\n",
       "\\end{enumerate*}\n"
      ],
      "text/markdown": [
       "1. '...1'\n",
       "2. 'CaseOrder'\n",
       "3. 'Customer_id'\n",
       "4. 'Interaction'\n",
       "5. 'UID'\n",
       "6. 'City'\n",
       "7. 'State'\n",
       "8. 'County'\n",
       "9. 'Zip'\n",
       "10. 'Lat'\n",
       "11. 'Lng'\n",
       "12. 'Population'\n",
       "13. 'Area'\n",
       "14. 'Timezone'\n",
       "15. 'Job'\n",
       "16. 'Children'\n",
       "17. 'Age'\n",
       "18. 'Education'\n",
       "19. 'Employment'\n",
       "20. 'Household_Income'\n",
       "21. 'Marital'\n",
       "22. 'Gender'\n",
       "23. 'ReAdmis'\n",
       "24. 'VitD_levels'\n",
       "25. 'Doc_visits'\n",
       "26. 'Full_meals_eaten'\n",
       "27. 'VitD_supp'\n",
       "28. 'Soft_drink'\n",
       "29. 'Initial_admin'\n",
       "30. 'HighBlood'\n",
       "31. 'Stroke'\n",
       "32. 'Complication_risk'\n",
       "33. 'Overweight'\n",
       "34. 'Arthritis'\n",
       "35. 'Diabetes'\n",
       "36. 'Hyperlipidemia'\n",
       "37. 'BackPain'\n",
       "38. 'Anxiety'\n",
       "39. 'Allergic_rhinitis'\n",
       "40. 'Reflux_esophagitis'\n",
       "41. 'Asthma'\n",
       "42. 'Services'\n",
       "43. 'Initial_days'\n",
       "44. 'TotalCharge'\n",
       "45. 'Additional_charges'\n",
       "46. 'Survey_TimelyAdmin'\n",
       "47. 'Survey_TimelyTreatment'\n",
       "48. 'Survey_TimelyVisits'\n",
       "49. 'Survey_Reliability'\n",
       "50. 'Survey_Options'\n",
       "51. 'Survey_HoursTreatment'\n",
       "52. 'Survey_CourteousStaff'\n",
       "53. 'Survey_ActiveListening'\n",
       "\n",
       "\n"
      ],
      "text/plain": [
       " [1] \"...1\"                   \"CaseOrder\"              \"Customer_id\"           \n",
       " [4] \"Interaction\"            \"UID\"                    \"City\"                  \n",
       " [7] \"State\"                  \"County\"                 \"Zip\"                   \n",
       "[10] \"Lat\"                    \"Lng\"                    \"Population\"            \n",
       "[13] \"Area\"                   \"Timezone\"               \"Job\"                   \n",
       "[16] \"Children\"               \"Age\"                    \"Education\"             \n",
       "[19] \"Employment\"             \"Household_Income\"       \"Marital\"               \n",
       "[22] \"Gender\"                 \"ReAdmis\"                \"VitD_levels\"           \n",
       "[25] \"Doc_visits\"             \"Full_meals_eaten\"       \"VitD_supp\"             \n",
       "[28] \"Soft_drink\"             \"Initial_admin\"          \"HighBlood\"             \n",
       "[31] \"Stroke\"                 \"Complication_risk\"      \"Overweight\"            \n",
       "[34] \"Arthritis\"              \"Diabetes\"               \"Hyperlipidemia\"        \n",
       "[37] \"BackPain\"               \"Anxiety\"                \"Allergic_rhinitis\"     \n",
       "[40] \"Reflux_esophagitis\"     \"Asthma\"                 \"Services\"              \n",
       "[43] \"Initial_days\"           \"TotalCharge\"            \"Additional_charges\"    \n",
       "[46] \"Survey_TimelyAdmin\"     \"Survey_TimelyTreatment\" \"Survey_TimelyVisits\"   \n",
       "[49] \"Survey_Reliability\"     \"Survey_Options\"         \"Survey_HoursTreatment\" \n",
       "[52] \"Survey_CourteousStaff\"  \"Survey_ActiveListening\""
      ]
     },
     "metadata": {},
     "output_type": "display_data"
    }
   ],
   "source": [
    "colnames(medical_raw_data)"
   ]
  },
  {
   "cell_type": "markdown",
   "id": "1da3573d-2f85-4039-9272-47ffe3357826",
   "metadata": {},
   "source": [
    "## Part I- B. Variable Description"
   ]
  },
  {
   "cell_type": "code",
   "execution_count": 17,
   "id": "23e3fb17-cea6-474c-8de6-99fd539ce9e7",
   "metadata": {
    "vscode": {
     "languageId": "r"
    }
   },
   "outputs": [
    {
     "name": "stdout",
     "output_type": "stream",
     "text": [
      "spec_tbl_df [10,000 x 53] (S3: spec_tbl_df/tbl_df/tbl/data.frame)\n",
      " $ ...1                  : num [1:10000] 1 2 3 4 5 6 7 8 9 10 ...\n",
      " $ CaseOrder             : num [1:10000] 1 2 3 4 5 6 7 8 9 10 ...\n",
      " $ Customer_id           : logi [1:10000] NA NA NA NA NA NA ...\n",
      " $ Interaction           : logi [1:10000] NA NA NA NA NA NA ...\n",
      " $ UID                   : logi [1:10000] NA NA NA NA NA NA ...\n",
      " $ City                  : logi [1:10000] NA NA NA NA NA NA ...\n",
      " $ State                 : logi [1:10000] NA NA NA NA NA NA ...\n",
      " $ County                : logi [1:10000] NA NA NA NA NA NA ...\n",
      " $ Zip                   : num [1:10000] 35621 32446 57110 56072 23181 ...\n",
      " $ Lat                   : num [1:10000] 34.3 30.8 43.5 43.9 37.6 ...\n",
      " $ Lng                   : num [1:10000] -86.7 -85.2 -96.6 -93.5 -76.9 ...\n",
      " $ Population            : num [1:10000] 2951 11303 17125 2162 5287 ...\n",
      " $ Area                  : logi [1:10000] NA NA NA NA NA NA ...\n",
      " $ Timezone              : logi [1:10000] NA NA NA NA NA NA ...\n",
      " $ Job                   : logi [1:10000] NA NA NA NA NA NA ...\n",
      " $ Children              : num [1:10000] 1 3 3 0 1 1 0 7 1 2 ...\n",
      " $ Age                   : num [1:10000] 53 51 53 78 22 76 50 40 48 78 ...\n",
      " $ Education             : logi [1:10000] NA NA NA NA NA NA ...\n",
      " $ Employment            : logi [1:10000] NA NA NA NA NA NA ...\n",
      " $ Household_Income      : num [1:10000] 86576 46806 14370 39741 1210 ...\n",
      " $ Marital               : logi [1:10000] NA NA NA NA NA NA ...\n",
      " $ Gender                : logi [1:10000] NA NA NA NA NA NA ...\n",
      " $ ReAdmis               : logi [1:10000] NA NA NA NA NA NA ...\n",
      " $ VitD_levels           : num [1:10000] 17.8 19 17.4 17.4 16.9 ...\n",
      " $ Doc_visits            : num [1:10000] 6 4 4 4 5 6 6 7 6 7 ...\n",
      " $ Full_meals_eaten      : num [1:10000] 0 2 1 1 0 0 0 2 3 1 ...\n",
      " $ VitD_supp             : num [1:10000] 0 1 0 0 2 0 0 0 0 2 ...\n",
      " $ Soft_drink            : logi [1:10000] NA NA NA NA NA NA ...\n",
      " $ Initial_admin         : logi [1:10000] NA NA NA NA NA NA ...\n",
      " $ HighBlood             : logi [1:10000] NA NA NA NA NA NA ...\n",
      " $ Stroke                : logi [1:10000] NA NA NA NA NA NA ...\n",
      " $ Complication_risk     : logi [1:10000] NA NA NA NA NA NA ...\n",
      " $ Overweight            : num [1:10000] 0 1 1 0 0 1 1 1 1 1 ...\n",
      " $ Arthritis             : logi [1:10000] NA NA NA NA NA NA ...\n",
      " $ Diabetes              : logi [1:10000] NA NA NA NA NA NA ...\n",
      " $ Hyperlipidemia        : logi [1:10000] NA NA NA NA NA NA ...\n",
      " $ BackPain              : logi [1:10000] NA NA NA NA NA NA ...\n",
      " $ Anxiety               : num [1:10000] 1 0 0 0 0 0 1 0 0 0 ...\n",
      " $ Allergic_rhinitis     : logi [1:10000] NA NA NA NA NA NA ...\n",
      " $ Reflux_esophagitis    : logi [1:10000] NA NA NA NA NA NA ...\n",
      " $ Asthma                : logi [1:10000] NA NA NA NA NA NA ...\n",
      " $ Services              : logi [1:10000] NA NA NA NA NA NA ...\n",
      " $ Initial_days          : num [1:10000] 10.59 15.13 4.77 1.71 1.25 ...\n",
      " $ TotalCharge           : num [1:10000] 3191 4215 2178 2465 1886 ...\n",
      " $ Additional_charges    : num [1:10000] 17939 17613 17505 12993 3717 ...\n",
      " $ Survey_TimelyAdmin    : num [1:10000] 3 3 2 3 2 4 4 1 3 5 ...\n",
      " $ Survey_TimelyTreatment: num [1:10000] 3 4 4 5 1 5 3 2 3 5 ...\n",
      " $ Survey_TimelyVisits   : num [1:10000] 2 3 4 5 3 4 3 2 2 5 ...\n",
      " $ Survey_Reliability    : num [1:10000] 2 4 4 3 3 4 2 5 3 3 ...\n",
      " $ Survey_Options        : num [1:10000] 4 4 3 4 5 3 3 4 3 4 ...\n",
      " $ Survey_HoursTreatment : num [1:10000] 3 4 4 5 3 5 4 2 3 2 ...\n",
      " $ Survey_CourteousStaff : num [1:10000] 3 3 3 5 4 4 5 4 4 3 ...\n",
      " $ Survey_ActiveListening: num [1:10000] 4 3 3 5 3 6 5 2 2 2 ...\n",
      " - attr(*, \"spec\")=\n",
      "  .. cols(\n",
      "  ..   ...1 = \u001b[32mcol_double()\u001b[39m,\n",
      "  ..   CaseOrder = \u001b[32mcol_double()\u001b[39m,\n",
      "  ..   Customer_id = \u001b[33mcol_logical()\u001b[39m,\n",
      "  ..   Interaction = \u001b[33mcol_logical()\u001b[39m,\n",
      "  ..   UID = \u001b[33mcol_logical()\u001b[39m,\n",
      "  ..   City = \u001b[33mcol_logical()\u001b[39m,\n",
      "  ..   State = \u001b[33mcol_logical()\u001b[39m,\n",
      "  ..   County = \u001b[33mcol_logical()\u001b[39m,\n",
      "  ..   Zip = \u001b[32mcol_double()\u001b[39m,\n",
      "  ..   Lat = \u001b[32mcol_double()\u001b[39m,\n",
      "  ..   Lng = \u001b[32mcol_double()\u001b[39m,\n",
      "  ..   Population = \u001b[32mcol_double()\u001b[39m,\n",
      "  ..   Area = \u001b[33mcol_logical()\u001b[39m,\n",
      "  ..   Timezone = \u001b[33mcol_logical()\u001b[39m,\n",
      "  ..   Job = \u001b[33mcol_logical()\u001b[39m,\n",
      "  ..   Children = \u001b[32mcol_double()\u001b[39m,\n",
      "  ..   Age = \u001b[32mcol_double()\u001b[39m,\n",
      "  ..   Education = \u001b[33mcol_logical()\u001b[39m,\n",
      "  ..   Employment = \u001b[33mcol_logical()\u001b[39m,\n",
      "  ..   Household_Income = \u001b[32mcol_double()\u001b[39m,\n",
      "  ..   Marital = \u001b[33mcol_logical()\u001b[39m,\n",
      "  ..   Gender = \u001b[33mcol_logical()\u001b[39m,\n",
      "  ..   ReAdmis = \u001b[33mcol_logical()\u001b[39m,\n",
      "  ..   VitD_levels = \u001b[32mcol_double()\u001b[39m,\n",
      "  ..   Doc_visits = \u001b[32mcol_double()\u001b[39m,\n",
      "  ..   Full_meals_eaten = \u001b[32mcol_double()\u001b[39m,\n",
      "  ..   VitD_supp = \u001b[32mcol_double()\u001b[39m,\n",
      "  ..   Soft_drink = \u001b[33mcol_logical()\u001b[39m,\n",
      "  ..   Initial_admin = \u001b[33mcol_logical()\u001b[39m,\n",
      "  ..   HighBlood = \u001b[33mcol_logical()\u001b[39m,\n",
      "  ..   Stroke = \u001b[33mcol_logical()\u001b[39m,\n",
      "  ..   Complication_risk = \u001b[33mcol_logical()\u001b[39m,\n",
      "  ..   Overweight = \u001b[32mcol_double()\u001b[39m,\n",
      "  ..   Arthritis = \u001b[33mcol_logical()\u001b[39m,\n",
      "  ..   Diabetes = \u001b[33mcol_logical()\u001b[39m,\n",
      "  ..   Hyperlipidemia = \u001b[33mcol_logical()\u001b[39m,\n",
      "  ..   BackPain = \u001b[33mcol_logical()\u001b[39m,\n",
      "  ..   Anxiety = \u001b[32mcol_double()\u001b[39m,\n",
      "  ..   Allergic_rhinitis = \u001b[33mcol_logical()\u001b[39m,\n",
      "  ..   Reflux_esophagitis = \u001b[33mcol_logical()\u001b[39m,\n",
      "  ..   Asthma = \u001b[33mcol_logical()\u001b[39m,\n",
      "  ..   Services = \u001b[33mcol_logical()\u001b[39m,\n",
      "  ..   Initial_days = \u001b[32mcol_double()\u001b[39m,\n",
      "  ..   TotalCharge = \u001b[32mcol_double()\u001b[39m,\n",
      "  ..   Additional_charges = \u001b[32mcol_double()\u001b[39m,\n",
      "  ..   Survey_TimelyAdmin = \u001b[32mcol_double()\u001b[39m,\n",
      "  ..   Survey_TimelyTreatment = \u001b[32mcol_double()\u001b[39m,\n",
      "  ..   Survey_TimelyVisits = \u001b[32mcol_double()\u001b[39m,\n",
      "  ..   Survey_Reliability = \u001b[32mcol_double()\u001b[39m,\n",
      "  ..   Survey_Options = \u001b[32mcol_double()\u001b[39m,\n",
      "  ..   Survey_HoursTreatment = \u001b[32mcol_double()\u001b[39m,\n",
      "  ..   Survey_CourteousStaff = \u001b[32mcol_double()\u001b[39m,\n",
      "  ..   Survey_ActiveListening = \u001b[32mcol_double()\u001b[39m\n",
      "  .. )\n",
      " - attr(*, \"problems\")=<externalptr> \n"
     ]
    }
   ],
   "source": [
    "str(medical_raw_data)"
   ]
  },
  {
   "cell_type": "markdown",
   "id": "9d56ed7a-705f-451d-9bc8-44bb0b34e05e",
   "metadata": {
    "jp-MarkdownHeadingCollapsed": true,
    "tags": []
   },
   "source": [
    "# Variable and data type description:\n",
    "- ...1: is an unnamed integer index\n",
    "- CaseOrder: integer index to preserve the original order of the raw data\n",
    "- Customer_id: character string that is unique and identifies each patient through an ID\n",
    "- Interaction: character string that is unique and identifies patient transactions, procedures, and admissions\n",
    "- UID: character string that is unique and identifies patient transactions, procedures, and admissions\n",
    "- City: character string indicating patient's city of residence; listed on the billing statement\n",
    "- State: character string indicating patient's state of residence; listed on the billing statement\n",
    "- County: character string indicating patient's county of residence; listed on the billing statement\n",
    "- Zip: integer indicating patient's zip code of residence; listed on the billing statement\n",
    "- Lat: continuous numeric of latitude GPS coordinates of residence; listed on the billing statement\n",
    "- Lng: continuous numeric of longitude GPS coordinates of residence; listed on the billing statement\n",
    "- Population: integer value indicating population within a mile radius of a patient, based on census data\n",
    "- Area: a nominal categorical indicating character string area type (rural, urban, suburban), based on unofficial census data\n",
    "- Timezone: a nominal categorical string indicating character string indicating the time zone of patient residence based on the patient’s sign-up information\n",
    "- Job: a nominal categorical string indicating the job of the patient (or primary insurance holder) as reported in the admissions information\n",
    "- Children: float indicating the number of children in the patient’s household as reported in the admissions information\n",
    "- Age: float indicating the age of the patient as reported in admissions information\n",
    "- Education: a nominal categorical string indicating the highest earned degree of a patient as reported in admissions information\n",
    "- Employment: a categorical string indicating the employment status of a patient as reported in admissions information\n",
    "- Income: numerical indicating the annual income of the patient (or primary insurance holder) as reported at the time of admission\n",
    "- Marital: a nominal categorical string indicating the marital status of the patient (or primary insurance holder) as reported on admission information\n",
    "- Gender: a nominal categorical string indicating the customer's self-identification as male, female, or nonbinary\n",
    "- ReAdmis: a binary categorical string indicating whether the patient was readmitted within a month of release or not (yes, no)\n",
    "- VitD_levels: continuous numerical indicating the patient’s vitamin D levels as measured in ng/mL\n",
    "- Doc_visits: integer indicating the number of times the primary physician visited the patient during the initial hospitalization\n",
    "- Full_meals_eaten: integer the number of complete meals the patient ate while hospitalized (partial meals count as 0, and some patients had more than three meals in a day if requested)\n",
    "- VitD_supp: integer indicating the number of times that vitamin D supplements were administered to the patient \n",
    "- Soft_drink: a binary categorical string indicating whether the patient habitually drinks three or more sodas in a day (yes, no)\n",
    "- Initial_admin: a nominal categorical string indicating how the patient was admitted into the hospital initially (emergency admission, elective admission, observation)\n",
    "- HighBlood: a character string indicating whether the patient has high blood pressure (yes, no)\n",
    "- Stroke: a character string indicating whether the patient has had a stroke (yes, no)\n",
    "- Complication_risk: a string indicating the level of complication risk for the patient as assessed by a primary patient assessment (high, medium, low)\n",
    "- Overweight: an integer indicating whether the patient is considered overweight based on age, gender, and height (yes, no)\n",
    "- Arthritis: a character string indicating whether the patient has arthritis (yes, no)\n",
    "- Diabetes: a character string indicating whether the patient has diabetes (yes, no)\n",
    "- Hyperlipidemia: a character string indicating whether the patient has hyperlipidemia (yes, no)\n",
    "- BackPain: a character string indicating whether the patient has chronic back pain (yes, no)\n",
    "- Anxiety: an integer indicating whether the patient has an anxiety disorder (yes, no)\n",
    "- Allergic_rhinitis: a character string indicating whether the patient has allergic rhinitis (yes, no)\n",
    "- Reflux_esophigitis: a character string indicating whether the patient has reflux esophagitis (yes, no)\n",
    "- Asthma: a character string indicating whether the patient has asthma (yes, no)\n",
    "- Services: a character string indicating primary service the patient received while hospitalized (blood work, intravenous, CT scan, MRI)\n",
    "- Initial_days: numerical, indicating the number of days the patient stayed in the hospital during the initial visit\n",
    "- TotalCharge: numerical, indicating the amount charged to the patient daily. This value reflects an average per patient based on the total charge divided by the number of days hospitalized. This amount reflects the typical charges billed to patients, not including specialized treatments.\n",
    "- Additional_charges: numerical, indicating the average amount charged to the patient for miscellaneous procedures, treatments, medicines, anesthesiology, etc.\n",
    "The following variables describe an eight-question survey asking customers to rate their experience on a scale from 1 to 8. The number one represents the most important and 8 represents the least important:\n",
    "- Item1: an integer that describes a timely admission\n",
    "- Item2: an integer that describes a timely treatment\n",
    "- Item3: an integer that describes timely visits\n",
    "- Item4: an integer that describes the reliability\n",
    "- Item5: an integer that describes options\n",
    "- Item6: an integer that describes hours of treatment\n",
    "- Item7: an integer that describes courteous staff\n",
    "- Item8: an integer that describes evidence of active listening from a doctor"
   ]
  },
  {
   "cell_type": "markdown",
   "id": "66ffc196-9998-40f6-90d2-785f3f3a1428",
   "metadata": {},
   "source": [
    "# Part II: Data-Cleaning Plan\n",
    "\n",
    "## C. Plan\n",
    "- 1. Rename misleading variables\n",
    "- 2. Missing data\n",
    "    - Find missing data\n",
    "    - Identify the columns the missing data is in\n",
    "- 3. Convert categorical data types into numeric\n",
    "- 4. Check for outliers using boxplot and distribution graphs\n",
    "- 5. Run a hypothesis test for those variables using a Grubbs Test\n",
    "- 6. Mitigate NAs\n",
    "- 7. Standardize the variables that need to be standardized\n",
    "- 8. To assess the quality and clean the data, I will be using R which was created by statisticians. R has a massive library of packages for data cleaning, exploration, statistical analysis, machine modeling and learning, and reporting. I will be using the following packages to support my data cleaning:\n",
    "    - readr is used to import data (Larose & Larose, 2019)\n",
    "    - dplyr is used for data manipulation (Hadley Wickham & Garrett Grolemund, 2017)\n",
    "    - ggplot2 is used for visualization/plots (Hadley Wickham & Garrett Grolemund, 2017)\n",
    "    - FactoMineR is used to conduct the PCA (Hadley Wickham & Garrett Grolemund, 2017)\n",
    "    - factoextra is used to conduct the PCA (Hadley Wickham & Garrett Grolemund, 2017)\n",
    "    - tidyverse is used to tidy and clean the data (Larose & Larose, 2019)\n",
    "    - plyr is used to change the data type to numeric. (Larose & Larose, 2019)\n",
    "    - mice is used for null value mitigation (Hadley Wickham & Garrett Grolemund, 2017)\n",
    "    - outliers is used to check for outliers (Hadley Wickham & Garrett Grolemund, 2017)\n",
    "    - IDPmisc is use to make sure we don't have infinite or missing values\n",
    "- 9. I have provided the code in its entirety below to identify the anomalies in the data"
   ]
  },
  {
   "cell_type": "markdown",
   "id": "673ffdd9-8420-4c52-bcda-61fa63a543b7",
   "metadata": {},
   "source": [
    "# Part III- D: Apply the Cleaning Plan"
   ]
  },
  {
   "cell_type": "markdown",
   "id": "4e3d1fc3-0af1-40cc-8f09-55ff02880d6e",
   "metadata": {},
   "source": [
    "# 1- First, I renamed the survey variables to names that are easier to understand for cleaning purposes since the survey questions were called items."
   ]
  },
  {
   "cell_type": "code",
   "execution_count": 18,
   "id": "c17d31f1-e9b6-4616-ae1e-0f7e6430f06c",
   "metadata": {
    "tags": [],
    "vscode": {
     "languageId": "r"
    }
   },
   "outputs": [
    {
     "data": {
      "text/html": [
       "<table class=\"dataframe\">\n",
       "<caption>A tibble: 6 × 53</caption>\n",
       "<thead>\n",
       "\t<tr><th scope=col>...1</th><th scope=col>CaseOrder</th><th scope=col>Customer_id</th><th scope=col>Interaction</th><th scope=col>UID</th><th scope=col>City</th><th scope=col>State</th><th scope=col>County</th><th scope=col>Zip</th><th scope=col>Lat</th><th scope=col>...</th><th scope=col>TotalCharge</th><th scope=col>Additional_charges</th><th scope=col>Survey_TimelyAdmin</th><th scope=col>Survey_TimelyTreatment</th><th scope=col>Survey_TimelyVisits</th><th scope=col>Survey_Reliability</th><th scope=col>Survey_Options</th><th scope=col>Survey_HoursTreatment</th><th scope=col>Survey_CourteousStaff</th><th scope=col>Survey_ActiveListening</th></tr>\n",
       "\t<tr><th scope=col>&lt;dbl&gt;</th><th scope=col>&lt;dbl&gt;</th><th scope=col>&lt;lgl&gt;</th><th scope=col>&lt;lgl&gt;</th><th scope=col>&lt;lgl&gt;</th><th scope=col>&lt;lgl&gt;</th><th scope=col>&lt;lgl&gt;</th><th scope=col>&lt;lgl&gt;</th><th scope=col>&lt;dbl&gt;</th><th scope=col>&lt;dbl&gt;</th><th scope=col>...</th><th scope=col>&lt;dbl&gt;</th><th scope=col>&lt;dbl&gt;</th><th scope=col>&lt;dbl&gt;</th><th scope=col>&lt;dbl&gt;</th><th scope=col>&lt;dbl&gt;</th><th scope=col>&lt;dbl&gt;</th><th scope=col>&lt;dbl&gt;</th><th scope=col>&lt;dbl&gt;</th><th scope=col>&lt;dbl&gt;</th><th scope=col>&lt;dbl&gt;</th></tr>\n",
       "</thead>\n",
       "<tbody>\n",
       "\t<tr><td>1</td><td>1</td><td>NA</td><td>NA</td><td>NA</td><td>NA</td><td>NA</td><td>NA</td><td>35621</td><td>34.34960</td><td>...</td><td>3191.049</td><td>17939.403</td><td>3</td><td>3</td><td>2</td><td>2</td><td>4</td><td>3</td><td>3</td><td>4</td></tr>\n",
       "\t<tr><td>2</td><td>2</td><td>NA</td><td>NA</td><td>NA</td><td>NA</td><td>NA</td><td>NA</td><td>32446</td><td>30.84513</td><td>...</td><td>4214.905</td><td>17612.998</td><td>3</td><td>4</td><td>3</td><td>4</td><td>4</td><td>4</td><td>3</td><td>3</td></tr>\n",
       "\t<tr><td>3</td><td>3</td><td>NA</td><td>NA</td><td>NA</td><td>NA</td><td>NA</td><td>NA</td><td>57110</td><td>43.54321</td><td>...</td><td>2177.587</td><td>17505.192</td><td>2</td><td>4</td><td>4</td><td>4</td><td>3</td><td>4</td><td>3</td><td>3</td></tr>\n",
       "\t<tr><td>4</td><td>4</td><td>NA</td><td>NA</td><td>NA</td><td>NA</td><td>NA</td><td>NA</td><td>56072</td><td>43.89744</td><td>...</td><td>2465.119</td><td>12993.437</td><td>3</td><td>5</td><td>5</td><td>3</td><td>4</td><td>5</td><td>5</td><td>5</td></tr>\n",
       "\t<tr><td>5</td><td>5</td><td>NA</td><td>NA</td><td>NA</td><td>NA</td><td>NA</td><td>NA</td><td>23181</td><td>37.59894</td><td>...</td><td>1885.655</td><td> 3716.526</td><td>2</td><td>1</td><td>3</td><td>3</td><td>5</td><td>3</td><td>4</td><td>3</td></tr>\n",
       "\t<tr><td>6</td><td>6</td><td>NA</td><td>NA</td><td>NA</td><td>NA</td><td>NA</td><td>NA</td><td>74423</td><td>35.67302</td><td>...</td><td>2774.090</td><td>12742.590</td><td>4</td><td>5</td><td>4</td><td>4</td><td>3</td><td>5</td><td>4</td><td>6</td></tr>\n",
       "</tbody>\n",
       "</table>\n"
      ],
      "text/latex": [
       "A tibble: 6 × 53\n",
       "\\begin{tabular}{lllllllllllllllllllll}\n",
       " ...1 & CaseOrder & Customer\\_id & Interaction & UID & City & State & County & Zip & Lat & ... & TotalCharge & Additional\\_charges & Survey\\_TimelyAdmin & Survey\\_TimelyTreatment & Survey\\_TimelyVisits & Survey\\_Reliability & Survey\\_Options & Survey\\_HoursTreatment & Survey\\_CourteousStaff & Survey\\_ActiveListening\\\\\n",
       " <dbl> & <dbl> & <lgl> & <lgl> & <lgl> & <lgl> & <lgl> & <lgl> & <dbl> & <dbl> & ... & <dbl> & <dbl> & <dbl> & <dbl> & <dbl> & <dbl> & <dbl> & <dbl> & <dbl> & <dbl>\\\\\n",
       "\\hline\n",
       "\t 1 & 1 & NA & NA & NA & NA & NA & NA & 35621 & 34.34960 & ... & 3191.049 & 17939.403 & 3 & 3 & 2 & 2 & 4 & 3 & 3 & 4\\\\\n",
       "\t 2 & 2 & NA & NA & NA & NA & NA & NA & 32446 & 30.84513 & ... & 4214.905 & 17612.998 & 3 & 4 & 3 & 4 & 4 & 4 & 3 & 3\\\\\n",
       "\t 3 & 3 & NA & NA & NA & NA & NA & NA & 57110 & 43.54321 & ... & 2177.587 & 17505.192 & 2 & 4 & 4 & 4 & 3 & 4 & 3 & 3\\\\\n",
       "\t 4 & 4 & NA & NA & NA & NA & NA & NA & 56072 & 43.89744 & ... & 2465.119 & 12993.437 & 3 & 5 & 5 & 3 & 4 & 5 & 5 & 5\\\\\n",
       "\t 5 & 5 & NA & NA & NA & NA & NA & NA & 23181 & 37.59894 & ... & 1885.655 &  3716.526 & 2 & 1 & 3 & 3 & 5 & 3 & 4 & 3\\\\\n",
       "\t 6 & 6 & NA & NA & NA & NA & NA & NA & 74423 & 35.67302 & ... & 2774.090 & 12742.590 & 4 & 5 & 4 & 4 & 3 & 5 & 4 & 6\\\\\n",
       "\\end{tabular}\n"
      ],
      "text/markdown": [
       "\n",
       "A tibble: 6 × 53\n",
       "\n",
       "| ...1 &lt;dbl&gt; | CaseOrder &lt;dbl&gt; | Customer_id &lt;lgl&gt; | Interaction &lt;lgl&gt; | UID &lt;lgl&gt; | City &lt;lgl&gt; | State &lt;lgl&gt; | County &lt;lgl&gt; | Zip &lt;dbl&gt; | Lat &lt;dbl&gt; | ... ... | TotalCharge &lt;dbl&gt; | Additional_charges &lt;dbl&gt; | Survey_TimelyAdmin &lt;dbl&gt; | Survey_TimelyTreatment &lt;dbl&gt; | Survey_TimelyVisits &lt;dbl&gt; | Survey_Reliability &lt;dbl&gt; | Survey_Options &lt;dbl&gt; | Survey_HoursTreatment &lt;dbl&gt; | Survey_CourteousStaff &lt;dbl&gt; | Survey_ActiveListening &lt;dbl&gt; |\n",
       "|---|---|---|---|---|---|---|---|---|---|---|---|---|---|---|---|---|---|---|---|---|\n",
       "| 1 | 1 | NA | NA | NA | NA | NA | NA | 35621 | 34.34960 | ... | 3191.049 | 17939.403 | 3 | 3 | 2 | 2 | 4 | 3 | 3 | 4 |\n",
       "| 2 | 2 | NA | NA | NA | NA | NA | NA | 32446 | 30.84513 | ... | 4214.905 | 17612.998 | 3 | 4 | 3 | 4 | 4 | 4 | 3 | 3 |\n",
       "| 3 | 3 | NA | NA | NA | NA | NA | NA | 57110 | 43.54321 | ... | 2177.587 | 17505.192 | 2 | 4 | 4 | 4 | 3 | 4 | 3 | 3 |\n",
       "| 4 | 4 | NA | NA | NA | NA | NA | NA | 56072 | 43.89744 | ... | 2465.119 | 12993.437 | 3 | 5 | 5 | 3 | 4 | 5 | 5 | 5 |\n",
       "| 5 | 5 | NA | NA | NA | NA | NA | NA | 23181 | 37.59894 | ... | 1885.655 |  3716.526 | 2 | 1 | 3 | 3 | 5 | 3 | 4 | 3 |\n",
       "| 6 | 6 | NA | NA | NA | NA | NA | NA | 74423 | 35.67302 | ... | 2774.090 | 12742.590 | 4 | 5 | 4 | 4 | 3 | 5 | 4 | 6 |\n",
       "\n"
      ],
      "text/plain": [
       "  ...1 CaseOrder Customer_id Interaction UID City State County Zip   Lat     \n",
       "1 1    1         NA          NA          NA  NA   NA    NA     35621 34.34960\n",
       "2 2    2         NA          NA          NA  NA   NA    NA     32446 30.84513\n",
       "3 3    3         NA          NA          NA  NA   NA    NA     57110 43.54321\n",
       "4 4    4         NA          NA          NA  NA   NA    NA     56072 43.89744\n",
       "5 5    5         NA          NA          NA  NA   NA    NA     23181 37.59894\n",
       "6 6    6         NA          NA          NA  NA   NA    NA     74423 35.67302\n",
       "  ... TotalCharge Additional_charges Survey_TimelyAdmin Survey_TimelyTreatment\n",
       "1 ... 3191.049    17939.403          3                  3                     \n",
       "2 ... 4214.905    17612.998          3                  4                     \n",
       "3 ... 2177.587    17505.192          2                  4                     \n",
       "4 ... 2465.119    12993.437          3                  5                     \n",
       "5 ... 1885.655     3716.526          2                  1                     \n",
       "6 ... 2774.090    12742.590          4                  5                     \n",
       "  Survey_TimelyVisits Survey_Reliability Survey_Options Survey_HoursTreatment\n",
       "1 2                   2                  4              3                    \n",
       "2 3                   4                  4              4                    \n",
       "3 4                   4                  3              4                    \n",
       "4 5                   3                  4              5                    \n",
       "5 3                   3                  5              3                    \n",
       "6 4                   4                  3              5                    \n",
       "  Survey_CourteousStaff Survey_ActiveListening\n",
       "1 3                     4                     \n",
       "2 3                     3                     \n",
       "3 3                     3                     \n",
       "4 5                     5                     \n",
       "5 4                     3                     \n",
       "6 4                     6                     "
      ]
     },
     "metadata": {},
     "output_type": "display_data"
    }
   ],
   "source": [
    "names(medical_raw_data)[names(medical_raw_data) == 'Income'] <- 'Household_Income'\n",
    "names(medical_raw_data)[names(medical_raw_data) == 'Item1'] <- 'Survey_TimelyAdmin'\n",
    "names(medical_raw_data)[names(medical_raw_data) == 'Item2'] <- 'Survey_TimelyTreatment'\n",
    "names(medical_raw_data)[names(medical_raw_data) == 'Item3'] <- 'Survey_TimelyVisits'\n",
    "names(medical_raw_data)[names(medical_raw_data) == 'Item4'] <- 'Survey_Reliability'\n",
    "names(medical_raw_data)[names(medical_raw_data) == 'Item5'] <- 'Survey_Options'\n",
    "names(medical_raw_data)[names(medical_raw_data) == 'Item6'] <- 'Survey_HoursTreatment'\n",
    "names(medical_raw_data)[names(medical_raw_data) == 'Item7'] <- 'Survey_CourteousStaff'\n",
    "names(medical_raw_data)[names(medical_raw_data) == 'Item8'] <- 'Survey_ActiveListening'\n",
    "head(medical_raw_data)"
   ]
  },
  {
   "cell_type": "markdown",
   "id": "b05cf74f-80c1-4c09-845c-e485cb41bbb4",
   "metadata": {},
   "source": [
    "# 2- Search for NA values in columns across the entire dataset"
   ]
  },
  {
   "cell_type": "code",
   "execution_count": 20,
   "id": "c6f96c9d-7692-4c6a-a61a-f9b86c7b55a7",
   "metadata": {
    "vscode": {
     "languageId": "r"
    }
   },
   "outputs": [
    {
     "data": {
      "text/html": [
       "270000"
      ],
      "text/latex": [
       "270000"
      ],
      "text/markdown": [
       "270000"
      ],
      "text/plain": [
       "[1] 270000"
      ]
     },
     "metadata": {},
     "output_type": "display_data"
    }
   ],
   "source": [
    "sum(is.na(medical_raw_data))\n",
    "# There are 270,000 total NA values."
   ]
  },
  {
   "cell_type": "code",
   "execution_count": 21,
   "id": "b4ddb54d-9e52-4bbe-86d4-f007720cf09e",
   "metadata": {
    "vscode": {
     "languageId": "r"
    }
   },
   "outputs": [
    {
     "data": {
      "text/html": [
       "<style>\n",
       ".dl-inline {width: auto; margin:0; padding: 0}\n",
       ".dl-inline>dt, .dl-inline>dd {float: none; width: auto; display: inline-block}\n",
       ".dl-inline>dt::after {content: \":\\0020\"; padding-right: .5ex}\n",
       ".dl-inline>dt:not(:first-of-type) {padding-left: .5ex}\n",
       "</style><dl class=dl-inline><dt>...1</dt><dd>0</dd><dt>CaseOrder</dt><dd>0</dd><dt>Customer_id</dt><dd>10000</dd><dt>Interaction</dt><dd>10000</dd><dt>UID</dt><dd>10000</dd><dt>City</dt><dd>10000</dd><dt>State</dt><dd>10000</dd><dt>County</dt><dd>10000</dd><dt>Zip</dt><dd>0</dd><dt>Lat</dt><dd>0</dd><dt>Lng</dt><dd>0</dd><dt>Population</dt><dd>0</dd><dt>Area</dt><dd>10000</dd><dt>Timezone</dt><dd>10000</dd><dt>Job</dt><dd>10000</dd><dt>Children</dt><dd>0</dd><dt>Age</dt><dd>0</dd><dt>Education</dt><dd>10000</dd><dt>Employment</dt><dd>10000</dd><dt>Household_Income</dt><dd>0</dd><dt>Marital</dt><dd>10000</dd><dt>Gender</dt><dd>10000</dd><dt>ReAdmis</dt><dd>10000</dd><dt>VitD_levels</dt><dd>0</dd><dt>Doc_visits</dt><dd>0</dd><dt>Full_meals_eaten</dt><dd>0</dd><dt>VitD_supp</dt><dd>0</dd><dt>Soft_drink</dt><dd>10000</dd><dt>Initial_admin</dt><dd>10000</dd><dt>HighBlood</dt><dd>10000</dd><dt>Stroke</dt><dd>10000</dd><dt>Complication_risk</dt><dd>10000</dd><dt>Overweight</dt><dd>0</dd><dt>Arthritis</dt><dd>10000</dd><dt>Diabetes</dt><dd>10000</dd><dt>Hyperlipidemia</dt><dd>10000</dd><dt>BackPain</dt><dd>10000</dd><dt>Anxiety</dt><dd>0</dd><dt>Allergic_rhinitis</dt><dd>10000</dd><dt>Reflux_esophagitis</dt><dd>10000</dd><dt>Asthma</dt><dd>10000</dd><dt>Services</dt><dd>10000</dd><dt>Initial_days</dt><dd>0</dd><dt>TotalCharge</dt><dd>0</dd><dt>Additional_charges</dt><dd>0</dd><dt>Survey_TimelyAdmin</dt><dd>0</dd><dt>Survey_TimelyTreatment</dt><dd>0</dd><dt>Survey_TimelyVisits</dt><dd>0</dd><dt>Survey_Reliability</dt><dd>0</dd><dt>Survey_Options</dt><dd>0</dd><dt>Survey_HoursTreatment</dt><dd>0</dd><dt>Survey_CourteousStaff</dt><dd>0</dd><dt>Survey_ActiveListening</dt><dd>0</dd></dl>\n"
      ],
      "text/latex": [
       "\\begin{description*}\n",
       "\\item[...1] 0\n",
       "\\item[CaseOrder] 0\n",
       "\\item[Customer\\textbackslash{}\\_id] 10000\n",
       "\\item[Interaction] 10000\n",
       "\\item[UID] 10000\n",
       "\\item[City] 10000\n",
       "\\item[State] 10000\n",
       "\\item[County] 10000\n",
       "\\item[Zip] 0\n",
       "\\item[Lat] 0\n",
       "\\item[Lng] 0\n",
       "\\item[Population] 0\n",
       "\\item[Area] 10000\n",
       "\\item[Timezone] 10000\n",
       "\\item[Job] 10000\n",
       "\\item[Children] 0\n",
       "\\item[Age] 0\n",
       "\\item[Education] 10000\n",
       "\\item[Employment] 10000\n",
       "\\item[Household\\textbackslash{}\\_Income] 0\n",
       "\\item[Marital] 10000\n",
       "\\item[Gender] 10000\n",
       "\\item[ReAdmis] 10000\n",
       "\\item[VitD\\textbackslash{}\\_levels] 0\n",
       "\\item[Doc\\textbackslash{}\\_visits] 0\n",
       "\\item[Full\\textbackslash{}\\_meals\\textbackslash{}\\_eaten] 0\n",
       "\\item[VitD\\textbackslash{}\\_supp] 0\n",
       "\\item[Soft\\textbackslash{}\\_drink] 10000\n",
       "\\item[Initial\\textbackslash{}\\_admin] 10000\n",
       "\\item[HighBlood] 10000\n",
       "\\item[Stroke] 10000\n",
       "\\item[Complication\\textbackslash{}\\_risk] 10000\n",
       "\\item[Overweight] 0\n",
       "\\item[Arthritis] 10000\n",
       "\\item[Diabetes] 10000\n",
       "\\item[Hyperlipidemia] 10000\n",
       "\\item[BackPain] 10000\n",
       "\\item[Anxiety] 0\n",
       "\\item[Allergic\\textbackslash{}\\_rhinitis] 10000\n",
       "\\item[Reflux\\textbackslash{}\\_esophagitis] 10000\n",
       "\\item[Asthma] 10000\n",
       "\\item[Services] 10000\n",
       "\\item[Initial\\textbackslash{}\\_days] 0\n",
       "\\item[TotalCharge] 0\n",
       "\\item[Additional\\textbackslash{}\\_charges] 0\n",
       "\\item[Survey\\textbackslash{}\\_TimelyAdmin] 0\n",
       "\\item[Survey\\textbackslash{}\\_TimelyTreatment] 0\n",
       "\\item[Survey\\textbackslash{}\\_TimelyVisits] 0\n",
       "\\item[Survey\\textbackslash{}\\_Reliability] 0\n",
       "\\item[Survey\\textbackslash{}\\_Options] 0\n",
       "\\item[Survey\\textbackslash{}\\_HoursTreatment] 0\n",
       "\\item[Survey\\textbackslash{}\\_CourteousStaff] 0\n",
       "\\item[Survey\\textbackslash{}\\_ActiveListening] 0\n",
       "\\end{description*}\n"
      ],
      "text/markdown": [
       "...1\n",
       ":   0CaseOrder\n",
       ":   0Customer_id\n",
       ":   10000Interaction\n",
       ":   10000UID\n",
       ":   10000City\n",
       ":   10000State\n",
       ":   10000County\n",
       ":   10000Zip\n",
       ":   0Lat\n",
       ":   0Lng\n",
       ":   0Population\n",
       ":   0Area\n",
       ":   10000Timezone\n",
       ":   10000Job\n",
       ":   10000Children\n",
       ":   0Age\n",
       ":   0Education\n",
       ":   10000Employment\n",
       ":   10000Household_Income\n",
       ":   0Marital\n",
       ":   10000Gender\n",
       ":   10000ReAdmis\n",
       ":   10000VitD_levels\n",
       ":   0Doc_visits\n",
       ":   0Full_meals_eaten\n",
       ":   0VitD_supp\n",
       ":   0Soft_drink\n",
       ":   10000Initial_admin\n",
       ":   10000HighBlood\n",
       ":   10000Stroke\n",
       ":   10000Complication_risk\n",
       ":   10000Overweight\n",
       ":   0Arthritis\n",
       ":   10000Diabetes\n",
       ":   10000Hyperlipidemia\n",
       ":   10000BackPain\n",
       ":   10000Anxiety\n",
       ":   0Allergic_rhinitis\n",
       ":   10000Reflux_esophagitis\n",
       ":   10000Asthma\n",
       ":   10000Services\n",
       ":   10000Initial_days\n",
       ":   0TotalCharge\n",
       ":   0Additional_charges\n",
       ":   0Survey_TimelyAdmin\n",
       ":   0Survey_TimelyTreatment\n",
       ":   0Survey_TimelyVisits\n",
       ":   0Survey_Reliability\n",
       ":   0Survey_Options\n",
       ":   0Survey_HoursTreatment\n",
       ":   0Survey_CourteousStaff\n",
       ":   0Survey_ActiveListening\n",
       ":   0\n",
       "\n"
      ],
      "text/plain": [
       "                  ...1              CaseOrder            Customer_id \n",
       "                     0                      0                  10000 \n",
       "           Interaction                    UID                   City \n",
       "                 10000                  10000                  10000 \n",
       "                 State                 County                    Zip \n",
       "                 10000                  10000                      0 \n",
       "                   Lat                    Lng             Population \n",
       "                     0                      0                      0 \n",
       "                  Area               Timezone                    Job \n",
       "                 10000                  10000                  10000 \n",
       "              Children                    Age              Education \n",
       "                     0                      0                  10000 \n",
       "            Employment       Household_Income                Marital \n",
       "                 10000                      0                  10000 \n",
       "                Gender                ReAdmis            VitD_levels \n",
       "                 10000                  10000                      0 \n",
       "            Doc_visits       Full_meals_eaten              VitD_supp \n",
       "                     0                      0                      0 \n",
       "            Soft_drink          Initial_admin              HighBlood \n",
       "                 10000                  10000                  10000 \n",
       "                Stroke      Complication_risk             Overweight \n",
       "                 10000                  10000                      0 \n",
       "             Arthritis               Diabetes         Hyperlipidemia \n",
       "                 10000                  10000                  10000 \n",
       "              BackPain                Anxiety      Allergic_rhinitis \n",
       "                 10000                      0                  10000 \n",
       "    Reflux_esophagitis                 Asthma               Services \n",
       "                 10000                  10000                  10000 \n",
       "          Initial_days            TotalCharge     Additional_charges \n",
       "                     0                      0                      0 \n",
       "    Survey_TimelyAdmin Survey_TimelyTreatment    Survey_TimelyVisits \n",
       "                     0                      0                      0 \n",
       "    Survey_Reliability         Survey_Options  Survey_HoursTreatment \n",
       "                     0                      0                      0 \n",
       " Survey_CourteousStaff Survey_ActiveListening \n",
       "                     0                      0 "
      ]
     },
     "metadata": {},
     "output_type": "display_data"
    }
   ],
   "source": [
    "colSums(is.na(medical_raw_data))"
   ]
  },
  {
   "cell_type": "markdown",
   "id": "22809166-9884-4696-85ff-057e20f43172",
   "metadata": {},
   "source": [
    "### The results for NA values in columns are the following:\n",
    "- Children = 2588\n",
    "- Age = 2414\n",
    "- Household_Income = 2464\n",
    "- Soft_drink = 2467\n",
    "- Overweight = 982\n",
    "- Anxiety = 984\n",
    "- Initial_days = 1056"
   ]
  },
  {
   "cell_type": "markdown",
   "id": "39f3f853-6ae0-44eb-bf28-858cdd412285",
   "metadata": {},
   "source": [
    "#### The output is NULL since the variables contain NA values. This confirms that, indeed, this is correct. Now, we take a look at the distribution using the mice packages, which is an excellent choice for large data to see the location. Let's use the md.pattern function to display all of the NULL values below."
   ]
  },
  {
   "cell_type": "code",
   "execution_count": 22,
   "id": "9f3ef106-5d57-4bbb-9236-4dfe833c675c",
   "metadata": {
    "tags": [],
    "vscode": {
     "languageId": "r"
    }
   },
   "outputs": [
    {
     "data": {
      "text/html": [
       "<table class=\"dataframe\">\n",
       "<caption>A matrix: 2 × 54 of type dbl</caption>\n",
       "<thead>\n",
       "\t<tr><th></th><th scope=col>...1</th><th scope=col>CaseOrder</th><th scope=col>Zip</th><th scope=col>Lat</th><th scope=col>Lng</th><th scope=col>Population</th><th scope=col>Children</th><th scope=col>Age</th><th scope=col>Household_Income</th><th scope=col>VitD_levels</th><th scope=col>...</th><th scope=col>Complication_risk</th><th scope=col>Arthritis</th><th scope=col>Diabetes</th><th scope=col>Hyperlipidemia</th><th scope=col>BackPain</th><th scope=col>Allergic_rhinitis</th><th scope=col>Reflux_esophagitis</th><th scope=col>Asthma</th><th scope=col>Services</th><th scope=col></th></tr>\n",
       "</thead>\n",
       "<tbody>\n",
       "\t<tr><th scope=row>10000</th><td>1</td><td>1</td><td>1</td><td>1</td><td>1</td><td>1</td><td>1</td><td>1</td><td>1</td><td>1</td><td>...</td><td>    0</td><td>    0</td><td>    0</td><td>    0</td><td>    0</td><td>    0</td><td>    0</td><td>    0</td><td>    0</td><td>    27</td></tr>\n",
       "\t<tr><th scope=row></th><td>0</td><td>0</td><td>0</td><td>0</td><td>0</td><td>0</td><td>0</td><td>0</td><td>0</td><td>0</td><td>...</td><td>10000</td><td>10000</td><td>10000</td><td>10000</td><td>10000</td><td>10000</td><td>10000</td><td>10000</td><td>10000</td><td>270000</td></tr>\n",
       "</tbody>\n",
       "</table>\n"
      ],
      "text/latex": [
       "A matrix: 2 × 54 of type dbl\n",
       "\\begin{tabular}{r|lllllllllllllllllllll}\n",
       "  & ...1 & CaseOrder & Zip & Lat & Lng & Population & Children & Age & Household\\_Income & VitD\\_levels & ... & Complication\\_risk & Arthritis & Diabetes & Hyperlipidemia & BackPain & Allergic\\_rhinitis & Reflux\\_esophagitis & Asthma & Services & \\\\\n",
       "\\hline\n",
       "\t10000 & 1 & 1 & 1 & 1 & 1 & 1 & 1 & 1 & 1 & 1 & ... &     0 &     0 &     0 &     0 &     0 &     0 &     0 &     0 &     0 &     27\\\\\n",
       "\t & 0 & 0 & 0 & 0 & 0 & 0 & 0 & 0 & 0 & 0 & ... & 10000 & 10000 & 10000 & 10000 & 10000 & 10000 & 10000 & 10000 & 10000 & 270000\\\\\n",
       "\\end{tabular}\n"
      ],
      "text/markdown": [
       "\n",
       "A matrix: 2 × 54 of type dbl\n",
       "\n",
       "| <!--/--> | ...1 | CaseOrder | Zip | Lat | Lng | Population | Children | Age | Household_Income | VitD_levels | ... | Complication_risk | Arthritis | Diabetes | Hyperlipidemia | BackPain | Allergic_rhinitis | Reflux_esophagitis | Asthma | Services | <!----> |\n",
       "|---|---|---|---|---|---|---|---|---|---|---|---|---|---|---|---|---|---|---|---|---|---|\n",
       "| 10000 | 1 | 1 | 1 | 1 | 1 | 1 | 1 | 1 | 1 | 1 | ... |     0 |     0 |     0 |     0 |     0 |     0 |     0 |     0 |     0 |     27 |\n",
       "| <!----> | 0 | 0 | 0 | 0 | 0 | 0 | 0 | 0 | 0 | 0 | ... | 10000 | 10000 | 10000 | 10000 | 10000 | 10000 | 10000 | 10000 | 10000 | 270000 |\n",
       "\n"
      ],
      "text/plain": [
       "      ...1 CaseOrder Zip Lat Lng Population Children Age Household_Income\n",
       "10000 1    1         1   1   1   1          1        1   1               \n",
       "      0    0         0   0   0   0          0        0   0               \n",
       "      VitD_levels ... Complication_risk Arthritis Diabetes Hyperlipidemia\n",
       "10000 1           ...     0                 0         0        0         \n",
       "      0           ... 10000             10000     10000    10000         \n",
       "      BackPain Allergic_rhinitis Reflux_esophagitis Asthma Services       \n",
       "10000     0        0                 0                  0      0        27\n",
       "      10000    10000             10000              10000  10000    270000"
      ]
     },
     "metadata": {},
     "output_type": "display_data"
    },
    {
     "data": {
      "image/png": "[encoded data removed]",
      "text/plain": [
       "plot without title"
      ]
     },
     "metadata": {
      "image/png": {
       "height": 420,
       "width": 420
      }
     },
     "output_type": "display_data"
    }
   ],
   "source": [
    "md.pattern(medical_raw_data) # (Hadley Wickham & Garrett Grolemund, 2017)"
   ]
  },
  {
   "cell_type": "markdown",
   "id": "d4a9bae4-ea1a-4c83-9e9b-efd27f312602",
   "metadata": {},
   "source": [
    "### After taking a look at the visual above, it appears that half of the data has the most missing values. In the following codes, we will look at the columns in depth to see where the missing data is."
   ]
  },
  {
   "cell_type": "markdown",
   "id": "9b9e99f2-f05f-46d2-aa4c-cbf0f5f8299d",
   "metadata": {},
   "source": [
    "I am printing the name of the columns below:"
   ]
  },
  {
   "cell_type": "code",
   "execution_count": 23,
   "id": "234c72dc-7ba1-427b-a35a-55cc5f8b3fd4",
   "metadata": {
    "vscode": {
     "languageId": "r"
    }
   },
   "outputs": [
    {
     "data": {
      "text/html": [
       "<style>\n",
       ".list-inline {list-style: none; margin:0; padding: 0}\n",
       ".list-inline>li {display: inline-block}\n",
       ".list-inline>li:not(:last-child)::after {content: \"\\00b7\"; padding: 0 .5ex}\n",
       "</style>\n",
       "<ol class=list-inline><li>'...1'</li><li>'CaseOrder'</li><li>'Customer_id'</li><li>'Interaction'</li><li>'UID'</li><li>'City'</li><li>'State'</li><li>'County'</li><li>'Zip'</li><li>'Lat'</li><li>'Lng'</li><li>'Population'</li><li>'Area'</li><li>'Timezone'</li><li>'Job'</li><li>'Children'</li><li>'Age'</li><li>'Education'</li><li>'Employment'</li><li>'Household_Income'</li><li>'Marital'</li><li>'Gender'</li><li>'ReAdmis'</li><li>'VitD_levels'</li><li>'Doc_visits'</li><li>'Full_meals_eaten'</li><li>'VitD_supp'</li><li>'Soft_drink'</li><li>'Initial_admin'</li><li>'HighBlood'</li><li>'Stroke'</li><li>'Complication_risk'</li><li>'Overweight'</li><li>'Arthritis'</li><li>'Diabetes'</li><li>'Hyperlipidemia'</li><li>'BackPain'</li><li>'Anxiety'</li><li>'Allergic_rhinitis'</li><li>'Reflux_esophagitis'</li><li>'Asthma'</li><li>'Services'</li><li>'Initial_days'</li><li>'TotalCharge'</li><li>'Additional_charges'</li><li>'Survey_TimelyAdmin'</li><li>'Survey_TimelyTreatment'</li><li>'Survey_TimelyVisits'</li><li>'Survey_Reliability'</li><li>'Survey_Options'</li><li>'Survey_HoursTreatment'</li><li>'Survey_CourteousStaff'</li><li>'Survey_ActiveListening'</li></ol>\n"
      ],
      "text/latex": [
       "\\begin{enumerate*}\n",
       "\\item '...1'\n",
       "\\item 'CaseOrder'\n",
       "\\item 'Customer\\_id'\n",
       "\\item 'Interaction'\n",
       "\\item 'UID'\n",
       "\\item 'City'\n",
       "\\item 'State'\n",
       "\\item 'County'\n",
       "\\item 'Zip'\n",
       "\\item 'Lat'\n",
       "\\item 'Lng'\n",
       "\\item 'Population'\n",
       "\\item 'Area'\n",
       "\\item 'Timezone'\n",
       "\\item 'Job'\n",
       "\\item 'Children'\n",
       "\\item 'Age'\n",
       "\\item 'Education'\n",
       "\\item 'Employment'\n",
       "\\item 'Household\\_Income'\n",
       "\\item 'Marital'\n",
       "\\item 'Gender'\n",
       "\\item 'ReAdmis'\n",
       "\\item 'VitD\\_levels'\n",
       "\\item 'Doc\\_visits'\n",
       "\\item 'Full\\_meals\\_eaten'\n",
       "\\item 'VitD\\_supp'\n",
       "\\item 'Soft\\_drink'\n",
       "\\item 'Initial\\_admin'\n",
       "\\item 'HighBlood'\n",
       "\\item 'Stroke'\n",
       "\\item 'Complication\\_risk'\n",
       "\\item 'Overweight'\n",
       "\\item 'Arthritis'\n",
       "\\item 'Diabetes'\n",
       "\\item 'Hyperlipidemia'\n",
       "\\item 'BackPain'\n",
       "\\item 'Anxiety'\n",
       "\\item 'Allergic\\_rhinitis'\n",
       "\\item 'Reflux\\_esophagitis'\n",
       "\\item 'Asthma'\n",
       "\\item 'Services'\n",
       "\\item 'Initial\\_days'\n",
       "\\item 'TotalCharge'\n",
       "\\item 'Additional\\_charges'\n",
       "\\item 'Survey\\_TimelyAdmin'\n",
       "\\item 'Survey\\_TimelyTreatment'\n",
       "\\item 'Survey\\_TimelyVisits'\n",
       "\\item 'Survey\\_Reliability'\n",
       "\\item 'Survey\\_Options'\n",
       "\\item 'Survey\\_HoursTreatment'\n",
       "\\item 'Survey\\_CourteousStaff'\n",
       "\\item 'Survey\\_ActiveListening'\n",
       "\\end{enumerate*}\n"
      ],
      "text/markdown": [
       "1. '...1'\n",
       "2. 'CaseOrder'\n",
       "3. 'Customer_id'\n",
       "4. 'Interaction'\n",
       "5. 'UID'\n",
       "6. 'City'\n",
       "7. 'State'\n",
       "8. 'County'\n",
       "9. 'Zip'\n",
       "10. 'Lat'\n",
       "11. 'Lng'\n",
       "12. 'Population'\n",
       "13. 'Area'\n",
       "14. 'Timezone'\n",
       "15. 'Job'\n",
       "16. 'Children'\n",
       "17. 'Age'\n",
       "18. 'Education'\n",
       "19. 'Employment'\n",
       "20. 'Household_Income'\n",
       "21. 'Marital'\n",
       "22. 'Gender'\n",
       "23. 'ReAdmis'\n",
       "24. 'VitD_levels'\n",
       "25. 'Doc_visits'\n",
       "26. 'Full_meals_eaten'\n",
       "27. 'VitD_supp'\n",
       "28. 'Soft_drink'\n",
       "29. 'Initial_admin'\n",
       "30. 'HighBlood'\n",
       "31. 'Stroke'\n",
       "32. 'Complication_risk'\n",
       "33. 'Overweight'\n",
       "34. 'Arthritis'\n",
       "35. 'Diabetes'\n",
       "36. 'Hyperlipidemia'\n",
       "37. 'BackPain'\n",
       "38. 'Anxiety'\n",
       "39. 'Allergic_rhinitis'\n",
       "40. 'Reflux_esophagitis'\n",
       "41. 'Asthma'\n",
       "42. 'Services'\n",
       "43. 'Initial_days'\n",
       "44. 'TotalCharge'\n",
       "45. 'Additional_charges'\n",
       "46. 'Survey_TimelyAdmin'\n",
       "47. 'Survey_TimelyTreatment'\n",
       "48. 'Survey_TimelyVisits'\n",
       "49. 'Survey_Reliability'\n",
       "50. 'Survey_Options'\n",
       "51. 'Survey_HoursTreatment'\n",
       "52. 'Survey_CourteousStaff'\n",
       "53. 'Survey_ActiveListening'\n",
       "\n",
       "\n"
      ],
      "text/plain": [
       " [1] \"...1\"                   \"CaseOrder\"              \"Customer_id\"           \n",
       " [4] \"Interaction\"            \"UID\"                    \"City\"                  \n",
       " [7] \"State\"                  \"County\"                 \"Zip\"                   \n",
       "[10] \"Lat\"                    \"Lng\"                    \"Population\"            \n",
       "[13] \"Area\"                   \"Timezone\"               \"Job\"                   \n",
       "[16] \"Children\"               \"Age\"                    \"Education\"             \n",
       "[19] \"Employment\"             \"Household_Income\"       \"Marital\"               \n",
       "[22] \"Gender\"                 \"ReAdmis\"                \"VitD_levels\"           \n",
       "[25] \"Doc_visits\"             \"Full_meals_eaten\"       \"VitD_supp\"             \n",
       "[28] \"Soft_drink\"             \"Initial_admin\"          \"HighBlood\"             \n",
       "[31] \"Stroke\"                 \"Complication_risk\"      \"Overweight\"            \n",
       "[34] \"Arthritis\"              \"Diabetes\"               \"Hyperlipidemia\"        \n",
       "[37] \"BackPain\"               \"Anxiety\"                \"Allergic_rhinitis\"     \n",
       "[40] \"Reflux_esophagitis\"     \"Asthma\"                 \"Services\"              \n",
       "[43] \"Initial_days\"           \"TotalCharge\"            \"Additional_charges\"    \n",
       "[46] \"Survey_TimelyAdmin\"     \"Survey_TimelyTreatment\" \"Survey_TimelyVisits\"   \n",
       "[49] \"Survey_Reliability\"     \"Survey_Options\"         \"Survey_HoursTreatment\" \n",
       "[52] \"Survey_CourteousStaff\"  \"Survey_ActiveListening\""
      ]
     },
     "metadata": {},
     "output_type": "display_data"
    }
   ],
   "source": [
    "colnames(medical_raw_data)"
   ]
  },
  {
   "cell_type": "markdown",
   "id": "7302138c-57cc-4a77-a3f5-26e4d0954a0a",
   "metadata": {},
   "source": [
    "### I am printing the total number of the columns below:"
   ]
  },
  {
   "cell_type": "code",
   "execution_count": 24,
   "id": "2981a861-5597-4e7a-97b5-aa402a277924",
   "metadata": {
    "vscode": {
     "languageId": "r"
    }
   },
   "outputs": [
    {
     "data": {
      "text/html": [
       "53"
      ],
      "text/latex": [
       "53"
      ],
      "text/markdown": [
       "53"
      ],
      "text/plain": [
       "[1] 53"
      ]
     },
     "metadata": {},
     "output_type": "display_data"
    }
   ],
   "source": [
    "ncol(medical_raw_data)"
   ]
  },
  {
   "cell_type": "markdown",
   "id": "b3852596-bffd-4c8b-a3a0-0fd71b6951e7",
   "metadata": {},
   "source": [
    "### I am printing the number of rows below:"
   ]
  },
  {
   "cell_type": "code",
   "execution_count": 25,
   "id": "4f6def77-2cac-4335-9e46-8e880c052e92",
   "metadata": {
    "vscode": {
     "languageId": "r"
    }
   },
   "outputs": [
    {
     "data": {
      "text/html": [
       "10000"
      ],
      "text/latex": [
       "10000"
      ],
      "text/markdown": [
       "10000"
      ],
      "text/plain": [
       "[1] 10000"
      ]
     },
     "metadata": {},
     "output_type": "display_data"
    }
   ],
   "source": [
    "nrow(medical_raw_data)"
   ]
  },
  {
   "cell_type": "markdown",
   "id": "72805583-f433-4b1e-a189-175876b301f4",
   "metadata": {},
   "source": [
    "### NAs will be addressed and/or at the end of the data cleaning process since there are a few more steps I will be taking before throughout the data cleaning process."
   ]
  },
  {
   "cell_type": "markdown",
   "id": "2e21f518-8a87-429f-9a82-c84616dcd2ba",
   "metadata": {},
   "source": [
    "# 4- It is crucial to change any non-numeric data (categorical) into numeric data:"
   ]
  },
  {
   "cell_type": "code",
   "execution_count": 26,
   "id": "a6c75e5b-5285-4b35-9a7f-23ff350aa2d8",
   "metadata": {
    "tags": [],
    "vscode": {
     "languageId": "r"
    }
   },
   "outputs": [],
   "source": [
    "medical_raw_data$Customer_id <- as.numeric(medical_raw_data$Customer_id)\n",
    "medical_raw_data$Interaction <- as.numeric(medical_raw_data$Interaction)\n",
    "medical_raw_data$UID <- as.numeric(medical_raw_data$UID)\n",
    "medical_raw_data$City <- as.numeric(medical_raw_data$City)\n",
    "medical_raw_data$State <- as.numeric(medical_raw_data$State)\n",
    "medical_raw_data$County <- as.numeric(medical_raw_data$County)\n",
    "medical_raw_data$Area <- as.numeric(medical_raw_data$Area)\n",
    "medical_raw_data$Timezone <- as.numeric(medical_raw_data$Timezone)\n",
    "medical_raw_data$Job <- as.numeric(medical_raw_data$Job)\n",
    "medical_raw_data$Education <- as.numeric(medical_raw_data$Education)\n",
    "medical_raw_data$Employment <- as.numeric(medical_raw_data$Employment)\n",
    "medical_raw_data$Marital <- as.numeric(medical_raw_data$Marital)\n",
    "medical_raw_data$Gender <- as.numeric(medical_raw_data$Gender)\n",
    "medical_raw_data$Employment <- as.numeric(medical_raw_data$Employment)\n",
    "medical_raw_data$ReAdmis <- as.numeric(medical_raw_data$ReAdmis)\n",
    "medical_raw_data$Soft_drink <- as.numeric(medical_raw_data$Soft_drink)\n",
    "medical_raw_data$Initial_admin <- as.numeric(medical_raw_data$Initial_admin)\n",
    "medical_raw_data$Initial_admin <- as.numeric(medical_raw_data$HighBlood)\n",
    "medical_raw_data$Initial_admin <- as.numeric(medical_raw_data$Stroke)\n",
    "medical_raw_data$Complication_risk <- as.numeric(medical_raw_data$Complication_risk)\n",
    "medical_raw_data$Overweight <- as.numeric(medical_raw_data$Overweight)\n",
    "medical_raw_data$Arthritis <- as.numeric(medical_raw_data$Arthritis)\n",
    "medical_raw_data$Diabetes <- as.numeric(medical_raw_data$Diabetes)\n",
    "medical_raw_data$Hyperlipidemia <- as.numeric(medical_raw_data$Hyperlipidemia)\n",
    "medical_raw_data$BackPain <- as.numeric(medical_raw_data$BackPain)\n",
    "medical_raw_data$Allergic_rhinitis <- as.numeric(medical_raw_data$Allergic_rhinitis)\n",
    "medical_raw_data$Reflux_esophagitis <- as.numeric(medical_raw_data$Reflux_esophagitis)\n",
    "medical_raw_data$Asthma <- as.numeric(medical_raw_data$Asthma)\n",
    "medical_raw_data$Services <- as.numeric(medical_raw_data$Services)\n",
    "medical_raw_data$CaseOrder <- as.numeric(medical_raw_data$CaseOrder)\n",
    "medical_raw_data$Zip <- as.numeric(medical_raw_data$Zip)\n",
    "medical_raw_data$Population <- as.numeric(medical_raw_data$Population)\n",
    "medical_raw_data$Children <- as.numeric(medical_raw_data$Children)\n",
    "medical_raw_data$Age <- as.numeric(medical_raw_data$Age)\n",
    "medical_raw_data$Doc_visits <- as.numeric(medical_raw_data$Doc_visits)\n",
    "medical_raw_data$Full_meals_eaten <- as.numeric(medical_raw_data$Full_meals_eaten)\n",
    "medical_raw_data$VitD_supp  <- as.numeric(medical_raw_data$VitD_supp)\n",
    "medical_raw_data$HighBlood  <- as.numeric(medical_raw_data$HighBlood)\n",
    "medical_raw_data$Stroke  <- as.numeric(medical_raw_data$Stroke)\n",
    "medical_raw_data$Anxiety  <- as.numeric(medical_raw_data$Anxiety)\n",
    "medical_raw_data$Survey_TimelyAdmin  <- as.numeric(medical_raw_data$Survey_TimelyAdmin)\n",
    "medical_raw_data$Survey_TimelyTreatment  <- as.numeric(medical_raw_data$Survey_TimelyTreatment)\n",
    "medical_raw_data$Survey_Reliability  <- as.numeric(medical_raw_data$Survey_Reliability)\n",
    "medical_raw_data$Survey_Options  <- as.numeric(medical_raw_data$Survey_Options)\n",
    "medical_raw_data$Survey_HoursTreatment  <- as.numeric(medical_raw_data$Survey_HoursTreatment)\n",
    "medical_raw_data$Survey_CourteousStaff  <- as.numeric(medical_raw_data$Survey_CourteousStaff)\n",
    "medical_raw_data$Survey_ActiveListening  <- as.numeric(medical_raw_data$Survey_ActiveListening)\n",
    "# (Hadley Wickham & Garrett Grolemund, 2017)."
   ]
  },
  {
   "cell_type": "markdown",
   "id": "ce6fa075-b708-4340-bd4a-34e7898d3073",
   "metadata": {},
   "source": [
    "### I will make sure that the data is, indeed, converted all non-numerics into numerics using the following code:"
   ]
  },
  {
   "cell_type": "code",
   "execution_count": 27,
   "id": "87730818-c27e-4923-ac8a-632559f0b395",
   "metadata": {
    "vscode": {
     "languageId": "r"
    }
   },
   "outputs": [
    {
     "name": "stdout",
     "output_type": "stream",
     "text": [
      "spec_tbl_df [10,000 x 53] (S3: spec_tbl_df/tbl_df/tbl/data.frame)\n",
      " $ ...1                  : num [1:10000] 1 2 3 4 5 6 7 8 9 10 ...\n",
      " $ CaseOrder             : num [1:10000] 1 2 3 4 5 6 7 8 9 10 ...\n",
      " $ Customer_id           : num [1:10000] NA NA NA NA NA NA NA NA NA NA ...\n",
      " $ Interaction           : num [1:10000] NA NA NA NA NA NA NA NA NA NA ...\n",
      " $ UID                   : num [1:10000] NA NA NA NA NA NA NA NA NA NA ...\n",
      " $ City                  : num [1:10000] NA NA NA NA NA NA NA NA NA NA ...\n",
      " $ State                 : num [1:10000] NA NA NA NA NA NA NA NA NA NA ...\n",
      " $ County                : num [1:10000] NA NA NA NA NA NA NA NA NA NA ...\n",
      " $ Zip                   : num [1:10000] 35621 32446 57110 56072 23181 ...\n",
      " $ Lat                   : num [1:10000] 34.3 30.8 43.5 43.9 37.6 ...\n",
      " $ Lng                   : num [1:10000] -86.7 -85.2 -96.6 -93.5 -76.9 ...\n",
      " $ Population            : num [1:10000] 2951 11303 17125 2162 5287 ...\n",
      " $ Area                  : num [1:10000] NA NA NA NA NA NA NA NA NA NA ...\n",
      " $ Timezone              : num [1:10000] NA NA NA NA NA NA NA NA NA NA ...\n",
      " $ Job                   : num [1:10000] NA NA NA NA NA NA NA NA NA NA ...\n",
      " $ Children              : num [1:10000] 1 3 3 0 1 1 0 7 1 2 ...\n",
      " $ Age                   : num [1:10000] 53 51 53 78 22 76 50 40 48 78 ...\n",
      " $ Education             : num [1:10000] NA NA NA NA NA NA NA NA NA NA ...\n",
      " $ Employment            : num [1:10000] NA NA NA NA NA NA NA NA NA NA ...\n",
      " $ Household_Income      : num [1:10000] 86576 46806 14370 39741 1210 ...\n",
      " $ Marital               : num [1:10000] NA NA NA NA NA NA NA NA NA NA ...\n",
      " $ Gender                : num [1:10000] NA NA NA NA NA NA NA NA NA NA ...\n",
      " $ ReAdmis               : num [1:10000] NA NA NA NA NA NA NA NA NA NA ...\n",
      " $ VitD_levels           : num [1:10000] 17.8 19 17.4 17.4 16.9 ...\n",
      " $ Doc_visits            : num [1:10000] 6 4 4 4 5 6 6 7 6 7 ...\n",
      " $ Full_meals_eaten      : num [1:10000] 0 2 1 1 0 0 0 2 3 1 ...\n",
      " $ VitD_supp             : num [1:10000] 0 1 0 0 2 0 0 0 0 2 ...\n",
      " $ Soft_drink            : num [1:10000] NA NA NA NA NA NA NA NA NA NA ...\n",
      " $ Initial_admin         : num [1:10000] NA NA NA NA NA NA NA NA NA NA ...\n",
      " $ HighBlood             : num [1:10000] NA NA NA NA NA NA NA NA NA NA ...\n",
      " $ Stroke                : num [1:10000] NA NA NA NA NA NA NA NA NA NA ...\n",
      " $ Complication_risk     : num [1:10000] NA NA NA NA NA NA NA NA NA NA ...\n",
      " $ Overweight            : num [1:10000] 0 1 1 0 0 1 1 1 1 1 ...\n",
      " $ Arthritis             : num [1:10000] NA NA NA NA NA NA NA NA NA NA ...\n",
      " $ Diabetes              : num [1:10000] NA NA NA NA NA NA NA NA NA NA ...\n",
      " $ Hyperlipidemia        : num [1:10000] NA NA NA NA NA NA NA NA NA NA ...\n",
      " $ BackPain              : num [1:10000] NA NA NA NA NA NA NA NA NA NA ...\n",
      " $ Anxiety               : num [1:10000] 1 0 0 0 0 0 1 0 0 0 ...\n",
      " $ Allergic_rhinitis     : num [1:10000] NA NA NA NA NA NA NA NA NA NA ...\n",
      " $ Reflux_esophagitis    : num [1:10000] NA NA NA NA NA NA NA NA NA NA ...\n",
      " $ Asthma                : num [1:10000] NA NA NA NA NA NA NA NA NA NA ...\n",
      " $ Services              : num [1:10000] NA NA NA NA NA NA NA NA NA NA ...\n",
      " $ Initial_days          : num [1:10000] 10.59 15.13 4.77 1.71 1.25 ...\n",
      " $ TotalCharge           : num [1:10000] 3191 4215 2178 2465 1886 ...\n",
      " $ Additional_charges    : num [1:10000] 17939 17613 17505 12993 3717 ...\n",
      " $ Survey_TimelyAdmin    : num [1:10000] 3 3 2 3 2 4 4 1 3 5 ...\n",
      " $ Survey_TimelyTreatment: num [1:10000] 3 4 4 5 1 5 3 2 3 5 ...\n",
      " $ Survey_TimelyVisits   : num [1:10000] 2 3 4 5 3 4 3 2 2 5 ...\n",
      " $ Survey_Reliability    : num [1:10000] 2 4 4 3 3 4 2 5 3 3 ...\n",
      " $ Survey_Options        : num [1:10000] 4 4 3 4 5 3 3 4 3 4 ...\n",
      " $ Survey_HoursTreatment : num [1:10000] 3 4 4 5 3 5 4 2 3 2 ...\n",
      " $ Survey_CourteousStaff : num [1:10000] 3 3 3 5 4 4 5 4 4 3 ...\n",
      " $ Survey_ActiveListening: num [1:10000] 4 3 3 5 3 6 5 2 2 2 ...\n",
      " - attr(*, \"spec\")=\n",
      "  .. cols(\n",
      "  ..   ...1 = \u001b[32mcol_double()\u001b[39m,\n",
      "  ..   CaseOrder = \u001b[32mcol_double()\u001b[39m,\n",
      "  ..   Customer_id = \u001b[33mcol_logical()\u001b[39m,\n",
      "  ..   Interaction = \u001b[33mcol_logical()\u001b[39m,\n",
      "  ..   UID = \u001b[33mcol_logical()\u001b[39m,\n",
      "  ..   City = \u001b[33mcol_logical()\u001b[39m,\n",
      "  ..   State = \u001b[33mcol_logical()\u001b[39m,\n",
      "  ..   County = \u001b[33mcol_logical()\u001b[39m,\n",
      "  ..   Zip = \u001b[32mcol_double()\u001b[39m,\n",
      "  ..   Lat = \u001b[32mcol_double()\u001b[39m,\n",
      "  ..   Lng = \u001b[32mcol_double()\u001b[39m,\n",
      "  ..   Population = \u001b[32mcol_double()\u001b[39m,\n",
      "  ..   Area = \u001b[33mcol_logical()\u001b[39m,\n",
      "  ..   Timezone = \u001b[33mcol_logical()\u001b[39m,\n",
      "  ..   Job = \u001b[33mcol_logical()\u001b[39m,\n",
      "  ..   Children = \u001b[32mcol_double()\u001b[39m,\n",
      "  ..   Age = \u001b[32mcol_double()\u001b[39m,\n",
      "  ..   Education = \u001b[33mcol_logical()\u001b[39m,\n",
      "  ..   Employment = \u001b[33mcol_logical()\u001b[39m,\n",
      "  ..   Household_Income = \u001b[32mcol_double()\u001b[39m,\n",
      "  ..   Marital = \u001b[33mcol_logical()\u001b[39m,\n",
      "  ..   Gender = \u001b[33mcol_logical()\u001b[39m,\n",
      "  ..   ReAdmis = \u001b[33mcol_logical()\u001b[39m,\n",
      "  ..   VitD_levels = \u001b[32mcol_double()\u001b[39m,\n",
      "  ..   Doc_visits = \u001b[32mcol_double()\u001b[39m,\n",
      "  ..   Full_meals_eaten = \u001b[32mcol_double()\u001b[39m,\n",
      "  ..   VitD_supp = \u001b[32mcol_double()\u001b[39m,\n",
      "  ..   Soft_drink = \u001b[33mcol_logical()\u001b[39m,\n",
      "  ..   Initial_admin = \u001b[33mcol_logical()\u001b[39m,\n",
      "  ..   HighBlood = \u001b[33mcol_logical()\u001b[39m,\n",
      "  ..   Stroke = \u001b[33mcol_logical()\u001b[39m,\n",
      "  ..   Complication_risk = \u001b[33mcol_logical()\u001b[39m,\n",
      "  ..   Overweight = \u001b[32mcol_double()\u001b[39m,\n",
      "  ..   Arthritis = \u001b[33mcol_logical()\u001b[39m,\n",
      "  ..   Diabetes = \u001b[33mcol_logical()\u001b[39m,\n",
      "  ..   Hyperlipidemia = \u001b[33mcol_logical()\u001b[39m,\n",
      "  ..   BackPain = \u001b[33mcol_logical()\u001b[39m,\n",
      "  ..   Anxiety = \u001b[32mcol_double()\u001b[39m,\n",
      "  ..   Allergic_rhinitis = \u001b[33mcol_logical()\u001b[39m,\n",
      "  ..   Reflux_esophagitis = \u001b[33mcol_logical()\u001b[39m,\n",
      "  ..   Asthma = \u001b[33mcol_logical()\u001b[39m,\n",
      "  ..   Services = \u001b[33mcol_logical()\u001b[39m,\n",
      "  ..   Initial_days = \u001b[32mcol_double()\u001b[39m,\n",
      "  ..   TotalCharge = \u001b[32mcol_double()\u001b[39m,\n",
      "  ..   Additional_charges = \u001b[32mcol_double()\u001b[39m,\n",
      "  ..   Survey_TimelyAdmin = \u001b[32mcol_double()\u001b[39m,\n",
      "  ..   Survey_TimelyTreatment = \u001b[32mcol_double()\u001b[39m,\n",
      "  ..   Survey_TimelyVisits = \u001b[32mcol_double()\u001b[39m,\n",
      "  ..   Survey_Reliability = \u001b[32mcol_double()\u001b[39m,\n",
      "  ..   Survey_Options = \u001b[32mcol_double()\u001b[39m,\n",
      "  ..   Survey_HoursTreatment = \u001b[32mcol_double()\u001b[39m,\n",
      "  ..   Survey_CourteousStaff = \u001b[32mcol_double()\u001b[39m,\n",
      "  ..   Survey_ActiveListening = \u001b[32mcol_double()\u001b[39m\n",
      "  .. )\n",
      " - attr(*, \"problems\")=<externalptr> \n"
     ]
    }
   ],
   "source": [
    "str(medical_raw_data)"
   ]
  },
  {
   "cell_type": "markdown",
   "id": "992a7dca-e0b1-4da0-bf66-47916aa4a62b",
   "metadata": {},
   "source": [
    "##### *Success! All of the variables from the data set that was not numeric are, indeed, numeric.*"
   ]
  },
  {
   "cell_type": "markdown",
   "id": "531d8184-ab44-4d39-ae72-66fd7ffcd6a3",
   "metadata": {},
   "source": [
    "# 4- Next, it is also vital to identify outliers using the summary function, boxplots, and check for normal probability using plots to further confirm this."
   ]
  },
  {
   "cell_type": "markdown",
   "id": "0f82de89-82b4-4c9c-9865-dbedb5567a7c",
   "metadata": {},
   "source": [
    "What does min, 1st quartile, median, mean, 3rd quartile, and max mean?\n",
    "- Min.: is the minimum value of the data set (per variable)\n",
    "- 1st Qu.: is the middle value (median) of the lower half of the data (per variable)\n",
    "- Median: is the mid-point of the data and marks the data in half and demonstrates that divided into two parts. Half is greater than the midpoint and half is less.\n",
    "- Mean: is the average value of the data.\n",
    "- 3rd Qu.: is the middle value (median) of the upper half of the data (per variable)\n",
    "- Max: the high data point of the dataset (per variable), not including any outliers."
   ]
  },
  {
   "cell_type": "markdown",
   "id": "084dbfa9-c777-4f0b-ba68-2218b780a768",
   "metadata": {},
   "source": [
    "## *I will use the summary() function to display all of the NULL values below.*"
   ]
  },
  {
   "cell_type": "code",
   "execution_count": 28,
   "id": "4c0e5672-f39d-4a1e-b615-bc296f57154f",
   "metadata": {
    "vscode": {
     "languageId": "r"
    }
   },
   "outputs": [
    {
     "data": {
      "text/plain": [
       "      ...1         CaseOrder      Customer_id     Interaction   \n",
       " Min.   :    1   Min.   :    1   Min.   : NA     Min.   : NA    \n",
       " 1st Qu.: 2501   1st Qu.: 2501   1st Qu.: NA     1st Qu.: NA    \n",
       " Median : 5000   Median : 5000   Median : NA     Median : NA    \n",
       " Mean   : 5000   Mean   : 5000   Mean   :NaN     Mean   :NaN    \n",
       " 3rd Qu.: 7500   3rd Qu.: 7500   3rd Qu.: NA     3rd Qu.: NA    \n",
       " Max.   :10000   Max.   :10000   Max.   : NA     Max.   : NA    \n",
       "                                 NA's   :10000   NA's   :10000  \n",
       "      UID             City           State           County     \n",
       " Min.   : NA     Min.   : NA     Min.   : NA     Min.   : NA    \n",
       " 1st Qu.: NA     1st Qu.: NA     1st Qu.: NA     1st Qu.: NA    \n",
       " Median : NA     Median : NA     Median : NA     Median : NA    \n",
       " Mean   :NaN     Mean   :NaN     Mean   :NaN     Mean   :NaN    \n",
       " 3rd Qu.: NA     3rd Qu.: NA     3rd Qu.: NA     3rd Qu.: NA    \n",
       " Max.   : NA     Max.   : NA     Max.   : NA     Max.   : NA    \n",
       " NA's   :10000   NA's   :10000   NA's   :10000   NA's   :10000  \n",
       "      Zip             Lat             Lng            Population      \n",
       " Min.   :  610   Min.   :17.97   Min.   :-174.21   Min.   :     0.0  \n",
       " 1st Qu.:27592   1st Qu.:35.26   1st Qu.: -97.35   1st Qu.:   694.8  \n",
       " Median :50207   Median :39.42   Median : -88.40   Median :  2769.0  \n",
       " Mean   :50159   Mean   :38.75   Mean   : -91.24   Mean   :  9965.2  \n",
       " 3rd Qu.:72412   3rd Qu.:42.04   3rd Qu.: -80.44   3rd Qu.: 13945.0  \n",
       " Max.   :99929   Max.   :70.56   Max.   : -65.29   Max.   :122814.0  \n",
       "                                                                     \n",
       "      Area          Timezone          Job           Children     \n",
       " Min.   : NA     Min.   : NA     Min.   : NA     Min.   : 0.000  \n",
       " 1st Qu.: NA     1st Qu.: NA     1st Qu.: NA     1st Qu.: 1.000  \n",
       " Median : NA     Median : NA     Median : NA     Median : 1.000  \n",
       " Mean   :NaN     Mean   :NaN     Mean   :NaN     Mean   : 1.814  \n",
       " 3rd Qu.: NA     3rd Qu.: NA     3rd Qu.: NA     3rd Qu.: 3.000  \n",
       " Max.   : NA     Max.   : NA     Max.   : NA     Max.   :10.000  \n",
       " NA's   :10000   NA's   :10000   NA's   :10000                   \n",
       "      Age          Education       Employment    Household_Income  \n",
       " Min.   :18.00   Min.   : NA     Min.   : NA     Min.   :   154.1  \n",
       " 1st Qu.:41.00   1st Qu.: NA     1st Qu.: NA     1st Qu.: 23956.2  \n",
       " Median :53.00   Median : NA     Median : NA     Median : 33942.3  \n",
       " Mean   :53.22   Mean   :NaN     Mean   :NaN     Mean   : 38872.4  \n",
       " 3rd Qu.:65.00   3rd Qu.: NA     3rd Qu.: NA     3rd Qu.: 46466.8  \n",
       " Max.   :89.00   Max.   : NA     Max.   : NA     Max.   :207249.1  \n",
       "                 NA's   :10000   NA's   :10000                     \n",
       "    Marital          Gender         ReAdmis       VitD_levels    \n",
       " Min.   : NA     Min.   : NA     Min.   : NA     Min.   : 9.519  \n",
       " 1st Qu.: NA     1st Qu.: NA     1st Qu.: NA     1st Qu.:16.513  \n",
       " Median : NA     Median : NA     Median : NA     Median :18.081  \n",
       " Mean   :NaN     Mean   :NaN     Mean   :NaN     Mean   :19.413  \n",
       " 3rd Qu.: NA     3rd Qu.: NA     3rd Qu.: NA     3rd Qu.:19.790  \n",
       " Max.   : NA     Max.   : NA     Max.   : NA     Max.   :53.019  \n",
       " NA's   :10000   NA's   :10000   NA's   :10000                   \n",
       "   Doc_visits    Full_meals_eaten   VitD_supp        Soft_drink   \n",
       " Min.   :1.000   Min.   :0.000    Min.   :0.0000   Min.   : NA    \n",
       " 1st Qu.:4.000   1st Qu.:0.000    1st Qu.:0.0000   1st Qu.: NA    \n",
       " Median :5.000   Median :1.000    Median :0.0000   Median : NA    \n",
       " Mean   :5.012   Mean   :1.001    Mean   :0.3989   Mean   :NaN    \n",
       " 3rd Qu.:6.000   3rd Qu.:2.000    3rd Qu.:1.0000   3rd Qu.: NA    \n",
       " Max.   :9.000   Max.   :7.000    Max.   :5.0000   Max.   : NA    \n",
       "                                                   NA's   :10000  \n",
       " Initial_admin     HighBlood         Stroke      Complication_risk\n",
       " Min.   : NA     Min.   : NA     Min.   : NA     Min.   : NA      \n",
       " 1st Qu.: NA     1st Qu.: NA     1st Qu.: NA     1st Qu.: NA      \n",
       " Median : NA     Median : NA     Median : NA     Median : NA      \n",
       " Mean   :NaN     Mean   :NaN     Mean   :NaN     Mean   :NaN      \n",
       " 3rd Qu.: NA     3rd Qu.: NA     3rd Qu.: NA     3rd Qu.: NA      \n",
       " Max.   : NA     Max.   : NA     Max.   : NA     Max.   : NA      \n",
       " NA's   :10000   NA's   :10000   NA's   :10000   NA's   :10000    \n",
       "   Overweight       Arthritis        Diabetes     Hyperlipidemia \n",
       " Min.   :0.0000   Min.   : NA     Min.   : NA     Min.   : NA    \n",
       " 1st Qu.:0.0000   1st Qu.: NA     1st Qu.: NA     1st Qu.: NA    \n",
       " Median :1.0000   Median : NA     Median : NA     Median : NA    \n",
       " Mean   :0.7377   Mean   :NaN     Mean   :NaN     Mean   :NaN    \n",
       " 3rd Qu.:1.0000   3rd Qu.: NA     3rd Qu.: NA     3rd Qu.: NA    \n",
       " Max.   :1.0000   Max.   : NA     Max.   : NA     Max.   : NA    \n",
       "                  NA's   :10000   NA's   :10000   NA's   :10000  \n",
       "    BackPain        Anxiety       Allergic_rhinitis Reflux_esophagitis\n",
       " Min.   : NA     Min.   :0.0000   Min.   : NA       Min.   : NA       \n",
       " 1st Qu.: NA     1st Qu.:0.0000   1st Qu.: NA       1st Qu.: NA       \n",
       " Median : NA     Median :0.0000   Median : NA       Median : NA       \n",
       " Mean   :NaN     Mean   :0.2906   Mean   :NaN       Mean   :NaN       \n",
       " 3rd Qu.: NA     3rd Qu.:1.0000   3rd Qu.: NA       3rd Qu.: NA       \n",
       " Max.   : NA     Max.   :1.0000   Max.   : NA       Max.   : NA       \n",
       " NA's   :10000                    NA's   :10000     NA's   :10000     \n",
       "     Asthma         Services      Initial_days     TotalCharge   \n",
       " Min.   : NA     Min.   : NA     Min.   : 1.002   Min.   : 1257  \n",
       " 1st Qu.: NA     1st Qu.: NA     1st Qu.: 8.929   1st Qu.: 3253  \n",
       " Median : NA     Median : NA     Median :34.447   Median : 5852  \n",
       " Mean   :NaN     Mean   :NaN     Mean   :34.434   Mean   : 5892  \n",
       " 3rd Qu.: NA     3rd Qu.: NA     3rd Qu.:59.460   3rd Qu.: 7615  \n",
       " Max.   : NA     Max.   : NA     Max.   :71.981   Max.   :21524  \n",
       " NA's   :10000   NA's   :10000                                   \n",
       " Additional_charges Survey_TimelyAdmin Survey_TimelyTreatment\n",
       " Min.   : 3126      Min.   :1.000      Min.   :1.000         \n",
       " 1st Qu.: 7986      1st Qu.:3.000      1st Qu.:3.000         \n",
       " Median :11574      Median :4.000      Median :3.000         \n",
       " Mean   :12935      Mean   :3.519      Mean   :3.507         \n",
       " 3rd Qu.:15626      3rd Qu.:4.000      3rd Qu.:4.000         \n",
       " Max.   :30566      Max.   :8.000      Max.   :7.000         \n",
       "                                                             \n",
       " Survey_TimelyVisits Survey_Reliability Survey_Options  Survey_HoursTreatment\n",
       " Min.   :1.000       Min.   :1.000      Min.   :1.000   Min.   :1.000        \n",
       " 1st Qu.:3.000       1st Qu.:3.000      1st Qu.:3.000   1st Qu.:3.000        \n",
       " Median :4.000       Median :4.000      Median :3.000   Median :4.000        \n",
       " Mean   :3.511       Mean   :3.515      Mean   :3.497   Mean   :3.522        \n",
       " 3rd Qu.:4.000       3rd Qu.:4.000      3rd Qu.:4.000   3rd Qu.:4.000        \n",
       " Max.   :8.000       Max.   :7.000      Max.   :7.000   Max.   :7.000        \n",
       "                                                                             \n",
       " Survey_CourteousStaff Survey_ActiveListening\n",
       " Min.   :1.000         Min.   :1.00          \n",
       " 1st Qu.:3.000         1st Qu.:3.00          \n",
       " Median :3.000         Median :3.00          \n",
       " Mean   :3.494         Mean   :3.51          \n",
       " 3rd Qu.:4.000         3rd Qu.:4.00          \n",
       " Max.   :7.000         Max.   :7.00          \n",
       "                                             "
      ]
     },
     "metadata": {},
     "output_type": "display_data"
    }
   ],
   "source": [
    "summary(medical_raw_data) # (Hadley Wickham & Garrett Grolemund, 2017)"
   ]
  },
  {
   "cell_type": "markdown",
   "id": "b48eb46c-697d-4657-8c69-06e635b41459",
   "metadata": {
    "tags": []
   },
   "source": [
    "### NULL values are found in the following variables:\n",
    "- Customer_id\n",
    "- Interaction\n",
    "- UID\n",
    "- City\n",
    "- State\n",
    "- County\n",
    "- Area\n",
    "- Timezone\n",
    "- Job \n",
    "- Education\n",
    "- Employment\n",
    "- Marital\n",
    "- Gender\n",
    "- ReAdmis\n",
    "- Soft_drink    \n",
    "- Initial_admin  \n",
    "- HighBlood\n",
    "- Stroke\n",
    "- Complication_risk\n",
    "- Arthritis\n",
    "- Diabetes\n",
    "- Hyperlipidemia\n",
    "- BackPain\n",
    "- Allergic_rhinitis\n",
    "- Reflux_esophagitis\n",
    "- Asthma\n",
    "- Services"
   ]
  },
  {
   "cell_type": "markdown",
   "id": "c6fe6d37-7033-4692-a1a7-1a1321e05620",
   "metadata": {},
   "source": [
    "## Next, using the summary from above, I will double-check for outliers using plots."
   ]
  },
  {
   "cell_type": "code",
   "execution_count": 29,
   "id": "52fe520e-1ab5-474c-afbc-84668dfb979b",
   "metadata": {
    "vscode": {
     "languageId": "r"
    }
   },
   "outputs": [
    {
     "data": {
      "image/png": "[encoded data removed]",
      "text/plain": [
       "plot without title"
      ]
     },
     "metadata": {
      "image/png": {
       "height": 420,
       "width": 420
      }
     },
     "output_type": "display_data"
    }
   ],
   "source": [
    "ggplot(medical_raw_data, aes(sample = Children)) + geom_qq() + stat_qq()\n",
    "options(repr.plot.width=7, repr.plot.height=6)"
   ]
  },
  {
   "cell_type": "code",
   "execution_count": 30,
   "id": "5d7a74e0-f35c-4193-be38-cac4ef13edfd",
   "metadata": {
    "vscode": {
     "languageId": "r"
    }
   },
   "outputs": [
    {
     "data": {
      "image/png": "[encoded data removed]",
      "text/plain": [
       "plot without title"
      ]
     },
     "metadata": {
      "image/png": {
       "height": 360,
       "width": 420
      }
     },
     "output_type": "display_data"
    }
   ],
   "source": [
    "boxplot(medical_raw_data$Children)\n",
    "options(repr.plot.width=7, repr.plot.height=6)"
   ]
  },
  {
   "cell_type": "code",
   "execution_count": 31,
   "id": "a273bc41-c46f-425a-a4f9-4ec6e86c945b",
   "metadata": {
    "tags": [],
    "vscode": {
     "languageId": "r"
    }
   },
   "outputs": [
    {
     "data": {
      "image/png": "[encoded data removed]",
      "text/plain": [
       "plot without title"
      ]
     },
     "metadata": {
      "image/png": {
       "height": 360,
       "width": 420
      }
     },
     "output_type": "display_data"
    }
   ],
   "source": [
    "ggplot(medical_raw_data, aes(sample = VitD_levels)) + geom_qq() + stat_qq()\n",
    "options(repr.plot.width=7, repr.plot.height=6)"
   ]
  },
  {
   "cell_type": "code",
   "execution_count": 32,
   "id": "04dce9c9-f126-411d-be1a-07435c037e18",
   "metadata": {
    "tags": [],
    "vscode": {
     "languageId": "r"
    }
   },
   "outputs": [
    {
     "data": {
      "image/png": "[encoded data removed]",
      "text/plain": [
       "plot without title"
      ]
     },
     "metadata": {
      "image/png": {
       "height": 360,
       "width": 420
      }
     },
     "output_type": "display_data"
    }
   ],
   "source": [
    "boxplot(medical_raw_data$VitD_levels)\n",
    "options(repr.plot.width=7, repr.plot.height=6)"
   ]
  },
  {
   "cell_type": "code",
   "execution_count": 33,
   "id": "f3be90a0-2c90-4dc1-8ab2-0572067c4bd2",
   "metadata": {
    "vscode": {
     "languageId": "r"
    }
   },
   "outputs": [
    {
     "data": {
      "image/png": "[encoded data removed]",
      "text/plain": [
       "plot without title"
      ]
     },
     "metadata": {
      "image/png": {
       "height": 360,
       "width": 420
      }
     },
     "output_type": "display_data"
    }
   ],
   "source": [
    "ggplot(medical_raw_data, aes(sample = VitD_supp)) + geom_qq() + stat_qq()\n",
    "options(repr.plot.width=7, repr.plot.height=6)"
   ]
  },
  {
   "cell_type": "code",
   "execution_count": 34,
   "id": "51ce0a8e-ec76-4411-b125-81b434ebc8ef",
   "metadata": {
    "vscode": {
     "languageId": "r"
    }
   },
   "outputs": [
    {
     "data": {
      "image/png": "[encoded data removed]",
      "text/plain": [
       "plot without title"
      ]
     },
     "metadata": {
      "image/png": {
       "height": 360,
       "width": 420
      }
     },
     "output_type": "display_data"
    }
   ],
   "source": [
    "boxplot(medical_raw_data$VitD_supp)\n",
    "options(repr.plot.width=7, repr.plot.height=6)"
   ]
  },
  {
   "cell_type": "code",
   "execution_count": 35,
   "id": "c2b4f901-2fe0-4bfa-b9a0-fa437f3b43dd",
   "metadata": {
    "vscode": {
     "languageId": "r"
    }
   },
   "outputs": [
    {
     "data": {
      "image/png": "[encoded data removed]",
      "text/plain": [
       "plot without title"
      ]
     },
     "metadata": {
      "image/png": {
       "height": 360,
       "width": 420
      }
     },
     "output_type": "display_data"
    }
   ],
   "source": [
    "ggplot(medical_raw_data, aes(sample = Full_meals_eaten)) + geom_qq() + stat_qq()\n",
    "options(repr.plot.width=7, repr.plot.height=6)"
   ]
  },
  {
   "cell_type": "code",
   "execution_count": 36,
   "id": "24565132-2ccd-4407-97f1-2a2f8c7cfe14",
   "metadata": {
    "vscode": {
     "languageId": "r"
    }
   },
   "outputs": [
    {
     "data": {
      "image/png": "[encoded data removed]",
      "text/plain": [
       "plot without title"
      ]
     },
     "metadata": {
      "image/png": {
       "height": 360,
       "width": 420
      }
     },
     "output_type": "display_data"
    }
   ],
   "source": [
    "boxplot(medical_raw_data$Full_meals_eaten)\n",
    "options(repr.plot.width=7, repr.plot.height=6)"
   ]
  },
  {
   "cell_type": "code",
   "execution_count": 37,
   "id": "477a5c13-9692-44e5-a03f-340ce1748d6a",
   "metadata": {
    "vscode": {
     "languageId": "r"
    }
   },
   "outputs": [
    {
     "data": {
      "image/png": "[encoded data removed]",
      "text/plain": [
       "plot without title"
      ]
     },
     "metadata": {
      "image/png": {
       "height": 360,
       "width": 420
      }
     },
     "output_type": "display_data"
    }
   ],
   "source": [
    "ggplot(medical_raw_data, aes(sample = Population)) + geom_qq() + stat_qq()\n",
    "options(repr.plot.width=7, repr.plot.height=6)"
   ]
  },
  {
   "cell_type": "code",
   "execution_count": 38,
   "id": "3fbc1ba4-423f-4834-b6e7-1f3ea6d757bc",
   "metadata": {
    "vscode": {
     "languageId": "r"
    }
   },
   "outputs": [
    {
     "data": {
      "image/png": "[encoded data removed]",
      "text/plain": [
       "plot without title"
      ]
     },
     "metadata": {
      "image/png": {
       "height": 360,
       "width": 420
      }
     },
     "output_type": "display_data"
    }
   ],
   "source": [
    "boxplot(medical_raw_data$Population)\n",
    "options(repr.plot.width=7, repr.plot.height=6)"
   ]
  },
  {
   "cell_type": "code",
   "execution_count": 39,
   "id": "fc01ecbb-d415-4059-9ff1-9e5a55703624",
   "metadata": {
    "vscode": {
     "languageId": "r"
    }
   },
   "outputs": [
    {
     "data": {
      "image/png": "[encoded data removed]",
      "text/plain": [
       "plot without title"
      ]
     },
     "metadata": {
      "image/png": {
       "height": 360,
       "width": 420
      }
     },
     "output_type": "display_data"
    }
   ],
   "source": [
    "ggplot(medical_raw_data, aes(sample = Household_Income)) + geom_qq() + stat_qq()\n",
    "options(repr.plot.width=7, repr.plot.height=6)"
   ]
  },
  {
   "cell_type": "code",
   "execution_count": 40,
   "id": "c932735b-1452-4f6c-952b-3c538a306adc",
   "metadata": {
    "vscode": {
     "languageId": "r"
    }
   },
   "outputs": [
    {
     "data": {
      "image/png": "[encoded data removed]",
      "text/plain": [
       "plot without title"
      ]
     },
     "metadata": {
      "image/png": {
       "height": 360,
       "width": 420
      }
     },
     "output_type": "display_data"
    }
   ],
   "source": [
    "boxplot(medical_raw_data$Household_Income)\n",
    "options(repr.plot.width=7, repr.plot.height=6)"
   ]
  },
  {
   "cell_type": "markdown",
   "id": "b5408072-4920-46ee-b36e-887d7375a5ad",
   "metadata": {},
   "source": [
    "### The boxplots for the following columns show outliers:\n",
    "- children\n",
    "- vitamin D levels\n",
    "- vitamin D supplements\n",
    "- full meals eaten\n",
    "- population\n",
    "- household income"
   ]
  },
  {
   "cell_type": "markdown",
   "id": "2e5b6077-22bf-4003-8c84-67c255e79850",
   "metadata": {},
   "source": [
    "## 6- Using the summary from above, let's run a hypothesis using the Grubbs test."
   ]
  },
  {
   "cell_type": "code",
   "execution_count": 41,
   "id": "661cb56d-d736-490c-bf4a-27c4b6e3455f",
   "metadata": {
    "vscode": {
     "languageId": "r"
    }
   },
   "outputs": [
    {
     "data": {
      "text/plain": [
       "\n",
       "\tGrubbs test for one outlier\n",
       "\n",
       "data:  x\n",
       "G = 4.27028, U = 0.99818, p-value = 0.09681\n",
       "alternative hypothesis: highest value 10 is an outlier\n"
      ]
     },
     "metadata": {},
     "output_type": "display_data"
    },
    {
     "data": {
      "text/plain": [
       "\n",
       "\tGrubbs test for one outlier\n",
       "\n",
       "data:  x\n",
       "G = 4.9985, U = 0.9975, p-value = 0.002844\n",
       "alternative hypothesis: highest value 53.01912416 is an outlier\n"
      ]
     },
     "metadata": {},
     "output_type": "display_data"
    },
    {
     "data": {
      "text/plain": [
       "\n",
       "\tGrubbs test for one outlier\n",
       "\n",
       "data:  x\n",
       "G = 7.32071, U = 0.99464, p-value = 1.148e-09\n",
       "alternative hypothesis: highest value 5 is an outlier\n"
      ]
     },
     "metadata": {},
     "output_type": "display_data"
    },
    {
     "data": {
      "text/plain": [
       "\n",
       "\tGrubbs test for one outlier\n",
       "\n",
       "data:  x\n",
       "G = 5.95030, U = 0.99646, p-value = 1.297e-05\n",
       "alternative hypothesis: highest value 7 is an outlier\n"
      ]
     },
     "metadata": {},
     "output_type": "display_data"
    },
    {
     "data": {
      "text/plain": [
       "\n",
       "\tGrubbs test for one outlier\n",
       "\n",
       "data:  x\n",
       "G = 4.27028, U = 0.99818, p-value = 0.09681\n",
       "alternative hypothesis: highest value 10 is an outlier\n"
      ]
     },
     "metadata": {},
     "output_type": "display_data"
    },
    {
     "data": {
      "text/plain": [
       "\n",
       "\tGrubbs test for one outlier\n",
       "\n",
       "data:  x\n",
       "G = 7.6122, U = 0.9942, p-value = 1.243e-10\n",
       "alternative hypothesis: highest value 122814 is an outlier\n"
      ]
     },
     "metadata": {},
     "output_type": "display_data"
    },
    {
     "data": {
      "text/plain": [
       "\n",
       "\tGrubbs test for one outlier\n",
       "\n",
       "data:  x\n",
       "G = 6.72356, U = 0.99548, p-value = 8.425e-08\n",
       "alternative hypothesis: highest value 207249.13 is an outlier\n"
      ]
     },
     "metadata": {},
     "output_type": "display_data"
    }
   ],
   "source": [
    "x <- medical_raw_data$Children\n",
    "grubbs.test(x)\n",
    "\n",
    "x <- medical_raw_data$VitD_levels\n",
    "grubbs.test(x)\n",
    "\n",
    "x <- medical_raw_data$VitD_supp\n",
    "grubbs.test(x)\n",
    "\n",
    "x <- medical_raw_data$Full_meals_eaten\n",
    "grubbs.test(x)\n",
    "\n",
    "x <- medical_raw_data$Children\n",
    "grubbs.test(x)\n",
    "\n",
    "x <- medical_raw_data$Population\n",
    "grubbs.test(x)\n",
    "\n",
    "x <- medical_raw_data$Household_Income\n",
    "grubbs.test(x)"
   ]
  },
  {
   "cell_type": "markdown",
   "id": "5f0273ca-2ed0-4774-9dea-9847532131ab",
   "metadata": {},
   "source": [
    "##### *A p-value less than 0.05 is statistically significant, in which the null hypothesis is to be rejected.*\n",
    "\n",
    "##### *A p-value greater than 0.05 is not statistically significant, and the null hypothesis is not rejected.*\n",
    "\n",
    "##### *The only variable above that was less than 0.05 is VitD_level. All others are not statistically significant*"
   ]
  },
  {
   "cell_type": "markdown",
   "id": "c4903951-4139-4783-8a80-3e8fcfd1dd8b",
   "metadata": {},
   "source": [
    "# 7- The next step is to impute/mitigate the missing NAs because removing them can severely skew the data and cause issues later on when performing further analysis."
   ]
  },
  {
   "cell_type": "code",
   "execution_count": 42,
   "id": "67687629-5655-4aa0-8c3d-586579cf7d29",
   "metadata": {
    "vscode": {
     "languageId": "r"
    }
   },
   "outputs": [
    {
     "data": {
      "text/html": [
       "<style>\n",
       ".dl-inline {width: auto; margin:0; padding: 0}\n",
       ".dl-inline>dt, .dl-inline>dd {float: none; width: auto; display: inline-block}\n",
       ".dl-inline>dt::after {content: \":\\0020\"; padding-right: .5ex}\n",
       ".dl-inline>dt:not(:first-of-type) {padding-left: .5ex}\n",
       "</style><dl class=dl-inline><dt>...1</dt><dd>0</dd><dt>CaseOrder</dt><dd>0</dd><dt>Customer_id</dt><dd>10000</dd><dt>Interaction</dt><dd>10000</dd><dt>UID</dt><dd>10000</dd><dt>City</dt><dd>10000</dd><dt>State</dt><dd>10000</dd><dt>County</dt><dd>10000</dd><dt>Zip</dt><dd>0</dd><dt>Lat</dt><dd>0</dd><dt>Lng</dt><dd>0</dd><dt>Population</dt><dd>0</dd><dt>Area</dt><dd>10000</dd><dt>Timezone</dt><dd>10000</dd><dt>Job</dt><dd>10000</dd><dt>Children</dt><dd>0</dd><dt>Age</dt><dd>0</dd><dt>Education</dt><dd>10000</dd><dt>Employment</dt><dd>10000</dd><dt>Household_Income</dt><dd>0</dd><dt>Marital</dt><dd>10000</dd><dt>Gender</dt><dd>10000</dd><dt>ReAdmis</dt><dd>10000</dd><dt>VitD_levels</dt><dd>0</dd><dt>Doc_visits</dt><dd>0</dd><dt>Full_meals_eaten</dt><dd>0</dd><dt>VitD_supp</dt><dd>0</dd><dt>Soft_drink</dt><dd>10000</dd><dt>Initial_admin</dt><dd>10000</dd><dt>HighBlood</dt><dd>10000</dd><dt>Stroke</dt><dd>10000</dd><dt>Complication_risk</dt><dd>10000</dd><dt>Overweight</dt><dd>0</dd><dt>Arthritis</dt><dd>10000</dd><dt>Diabetes</dt><dd>10000</dd><dt>Hyperlipidemia</dt><dd>10000</dd><dt>BackPain</dt><dd>10000</dd><dt>Anxiety</dt><dd>0</dd><dt>Allergic_rhinitis</dt><dd>10000</dd><dt>Reflux_esophagitis</dt><dd>10000</dd><dt>Asthma</dt><dd>10000</dd><dt>Services</dt><dd>10000</dd><dt>Initial_days</dt><dd>0</dd><dt>TotalCharge</dt><dd>0</dd><dt>Additional_charges</dt><dd>0</dd><dt>Survey_TimelyAdmin</dt><dd>0</dd><dt>Survey_TimelyTreatment</dt><dd>0</dd><dt>Survey_TimelyVisits</dt><dd>0</dd><dt>Survey_Reliability</dt><dd>0</dd><dt>Survey_Options</dt><dd>0</dd><dt>Survey_HoursTreatment</dt><dd>0</dd><dt>Survey_CourteousStaff</dt><dd>0</dd><dt>Survey_ActiveListening</dt><dd>0</dd></dl>\n"
      ],
      "text/latex": [
       "\\begin{description*}\n",
       "\\item[...1] 0\n",
       "\\item[CaseOrder] 0\n",
       "\\item[Customer\\textbackslash{}\\_id] 10000\n",
       "\\item[Interaction] 10000\n",
       "\\item[UID] 10000\n",
       "\\item[City] 10000\n",
       "\\item[State] 10000\n",
       "\\item[County] 10000\n",
       "\\item[Zip] 0\n",
       "\\item[Lat] 0\n",
       "\\item[Lng] 0\n",
       "\\item[Population] 0\n",
       "\\item[Area] 10000\n",
       "\\item[Timezone] 10000\n",
       "\\item[Job] 10000\n",
       "\\item[Children] 0\n",
       "\\item[Age] 0\n",
       "\\item[Education] 10000\n",
       "\\item[Employment] 10000\n",
       "\\item[Household\\textbackslash{}\\_Income] 0\n",
       "\\item[Marital] 10000\n",
       "\\item[Gender] 10000\n",
       "\\item[ReAdmis] 10000\n",
       "\\item[VitD\\textbackslash{}\\_levels] 0\n",
       "\\item[Doc\\textbackslash{}\\_visits] 0\n",
       "\\item[Full\\textbackslash{}\\_meals\\textbackslash{}\\_eaten] 0\n",
       "\\item[VitD\\textbackslash{}\\_supp] 0\n",
       "\\item[Soft\\textbackslash{}\\_drink] 10000\n",
       "\\item[Initial\\textbackslash{}\\_admin] 10000\n",
       "\\item[HighBlood] 10000\n",
       "\\item[Stroke] 10000\n",
       "\\item[Complication\\textbackslash{}\\_risk] 10000\n",
       "\\item[Overweight] 0\n",
       "\\item[Arthritis] 10000\n",
       "\\item[Diabetes] 10000\n",
       "\\item[Hyperlipidemia] 10000\n",
       "\\item[BackPain] 10000\n",
       "\\item[Anxiety] 0\n",
       "\\item[Allergic\\textbackslash{}\\_rhinitis] 10000\n",
       "\\item[Reflux\\textbackslash{}\\_esophagitis] 10000\n",
       "\\item[Asthma] 10000\n",
       "\\item[Services] 10000\n",
       "\\item[Initial\\textbackslash{}\\_days] 0\n",
       "\\item[TotalCharge] 0\n",
       "\\item[Additional\\textbackslash{}\\_charges] 0\n",
       "\\item[Survey\\textbackslash{}\\_TimelyAdmin] 0\n",
       "\\item[Survey\\textbackslash{}\\_TimelyTreatment] 0\n",
       "\\item[Survey\\textbackslash{}\\_TimelyVisits] 0\n",
       "\\item[Survey\\textbackslash{}\\_Reliability] 0\n",
       "\\item[Survey\\textbackslash{}\\_Options] 0\n",
       "\\item[Survey\\textbackslash{}\\_HoursTreatment] 0\n",
       "\\item[Survey\\textbackslash{}\\_CourteousStaff] 0\n",
       "\\item[Survey\\textbackslash{}\\_ActiveListening] 0\n",
       "\\end{description*}\n"
      ],
      "text/markdown": [
       "...1\n",
       ":   0CaseOrder\n",
       ":   0Customer_id\n",
       ":   10000Interaction\n",
       ":   10000UID\n",
       ":   10000City\n",
       ":   10000State\n",
       ":   10000County\n",
       ":   10000Zip\n",
       ":   0Lat\n",
       ":   0Lng\n",
       ":   0Population\n",
       ":   0Area\n",
       ":   10000Timezone\n",
       ":   10000Job\n",
       ":   10000Children\n",
       ":   0Age\n",
       ":   0Education\n",
       ":   10000Employment\n",
       ":   10000Household_Income\n",
       ":   0Marital\n",
       ":   10000Gender\n",
       ":   10000ReAdmis\n",
       ":   10000VitD_levels\n",
       ":   0Doc_visits\n",
       ":   0Full_meals_eaten\n",
       ":   0VitD_supp\n",
       ":   0Soft_drink\n",
       ":   10000Initial_admin\n",
       ":   10000HighBlood\n",
       ":   10000Stroke\n",
       ":   10000Complication_risk\n",
       ":   10000Overweight\n",
       ":   0Arthritis\n",
       ":   10000Diabetes\n",
       ":   10000Hyperlipidemia\n",
       ":   10000BackPain\n",
       ":   10000Anxiety\n",
       ":   0Allergic_rhinitis\n",
       ":   10000Reflux_esophagitis\n",
       ":   10000Asthma\n",
       ":   10000Services\n",
       ":   10000Initial_days\n",
       ":   0TotalCharge\n",
       ":   0Additional_charges\n",
       ":   0Survey_TimelyAdmin\n",
       ":   0Survey_TimelyTreatment\n",
       ":   0Survey_TimelyVisits\n",
       ":   0Survey_Reliability\n",
       ":   0Survey_Options\n",
       ":   0Survey_HoursTreatment\n",
       ":   0Survey_CourteousStaff\n",
       ":   0Survey_ActiveListening\n",
       ":   0\n",
       "\n"
      ],
      "text/plain": [
       "                  ...1              CaseOrder            Customer_id \n",
       "                     0                      0                  10000 \n",
       "           Interaction                    UID                   City \n",
       "                 10000                  10000                  10000 \n",
       "                 State                 County                    Zip \n",
       "                 10000                  10000                      0 \n",
       "                   Lat                    Lng             Population \n",
       "                     0                      0                      0 \n",
       "                  Area               Timezone                    Job \n",
       "                 10000                  10000                  10000 \n",
       "              Children                    Age              Education \n",
       "                     0                      0                  10000 \n",
       "            Employment       Household_Income                Marital \n",
       "                 10000                      0                  10000 \n",
       "                Gender                ReAdmis            VitD_levels \n",
       "                 10000                  10000                      0 \n",
       "            Doc_visits       Full_meals_eaten              VitD_supp \n",
       "                     0                      0                      0 \n",
       "            Soft_drink          Initial_admin              HighBlood \n",
       "                 10000                  10000                  10000 \n",
       "                Stroke      Complication_risk             Overweight \n",
       "                 10000                  10000                      0 \n",
       "             Arthritis               Diabetes         Hyperlipidemia \n",
       "                 10000                  10000                  10000 \n",
       "              BackPain                Anxiety      Allergic_rhinitis \n",
       "                 10000                      0                  10000 \n",
       "    Reflux_esophagitis                 Asthma               Services \n",
       "                 10000                  10000                  10000 \n",
       "          Initial_days            TotalCharge     Additional_charges \n",
       "                     0                      0                      0 \n",
       "    Survey_TimelyAdmin Survey_TimelyTreatment    Survey_TimelyVisits \n",
       "                     0                      0                      0 \n",
       "    Survey_Reliability         Survey_Options  Survey_HoursTreatment \n",
       "                     0                      0                      0 \n",
       " Survey_CourteousStaff Survey_ActiveListening \n",
       "                     0                      0 "
      ]
     },
     "metadata": {},
     "output_type": "display_data"
    }
   ],
   "source": [
    "colSums(is.na(medical_raw_data))"
   ]
  },
  {
   "cell_type": "code",
   "execution_count": 43,
   "id": "b0c053d5-2e9d-4ac6-9156-74d6d755ee91",
   "metadata": {
    "vscode": {
     "languageId": "r"
    }
   },
   "outputs": [
    {
     "data": {
      "text/html": [
       "<style>\n",
       ".list-inline {list-style: none; margin:0; padding: 0}\n",
       ".list-inline>li {display: inline-block}\n",
       ".list-inline>li:not(:last-child)::after {content: \"\\00b7\"; padding: 0 .5ex}\n",
       "</style>\n",
       "<ol class=list-inline><li>'Additional_charges'</li><li>'Age'</li><li>'Allergic_rhinitis'</li><li>'Anxiety'</li><li>'Area'</li><li>'Arthritis'</li><li>'Asthma'</li><li>'BackPain'</li><li>'CaseOrder'</li><li>'Children'</li><li>'City'</li><li>'Complication_risk'</li><li>'County'</li><li>'Customer_id'</li><li>'Diabetes'</li><li>'Doc_visits'</li><li>'Education'</li><li>'Employment'</li><li>'Full_meals_eaten'</li><li>'Gender'</li><li>'HighBlood'</li><li>'Household_Income'</li><li>'Hyperlipidemia'</li><li>'Initial_admin'</li><li>'Initial_days'</li><li>'Interaction'</li><li>'Job'</li><li>'Lat'</li><li>'Lng'</li><li>'Marital'</li><li>'Overweight'</li><li>'Population'</li><li>'ReAdmis'</li><li>'Reflux_esophagitis'</li><li>'Services'</li><li>'Soft_drink'</li><li>'State'</li><li>'Stroke'</li><li>'Survey_ActiveListening'</li><li>'Survey_CourteousStaff'</li><li>'Survey_HoursTreatment'</li><li>'Survey_Options'</li><li>'Survey_Reliability'</li><li>'Survey_TimelyAdmin'</li><li>'Survey_TimelyTreatment'</li><li>'Survey_TimelyVisits'</li><li>'Timezone'</li><li>'TotalCharge'</li><li>'UID'</li><li>'VitD_levels'</li><li>'VitD_supp'</li><li>'Zip'</li></ol>\n"
      ],
      "text/latex": [
       "\\begin{enumerate*}\n",
       "\\item 'Additional\\_charges'\n",
       "\\item 'Age'\n",
       "\\item 'Allergic\\_rhinitis'\n",
       "\\item 'Anxiety'\n",
       "\\item 'Area'\n",
       "\\item 'Arthritis'\n",
       "\\item 'Asthma'\n",
       "\\item 'BackPain'\n",
       "\\item 'CaseOrder'\n",
       "\\item 'Children'\n",
       "\\item 'City'\n",
       "\\item 'Complication\\_risk'\n",
       "\\item 'County'\n",
       "\\item 'Customer\\_id'\n",
       "\\item 'Diabetes'\n",
       "\\item 'Doc\\_visits'\n",
       "\\item 'Education'\n",
       "\\item 'Employment'\n",
       "\\item 'Full\\_meals\\_eaten'\n",
       "\\item 'Gender'\n",
       "\\item 'HighBlood'\n",
       "\\item 'Household\\_Income'\n",
       "\\item 'Hyperlipidemia'\n",
       "\\item 'Initial\\_admin'\n",
       "\\item 'Initial\\_days'\n",
       "\\item 'Interaction'\n",
       "\\item 'Job'\n",
       "\\item 'Lat'\n",
       "\\item 'Lng'\n",
       "\\item 'Marital'\n",
       "\\item 'Overweight'\n",
       "\\item 'Population'\n",
       "\\item 'ReAdmis'\n",
       "\\item 'Reflux\\_esophagitis'\n",
       "\\item 'Services'\n",
       "\\item 'Soft\\_drink'\n",
       "\\item 'State'\n",
       "\\item 'Stroke'\n",
       "\\item 'Survey\\_ActiveListening'\n",
       "\\item 'Survey\\_CourteousStaff'\n",
       "\\item 'Survey\\_HoursTreatment'\n",
       "\\item 'Survey\\_Options'\n",
       "\\item 'Survey\\_Reliability'\n",
       "\\item 'Survey\\_TimelyAdmin'\n",
       "\\item 'Survey\\_TimelyTreatment'\n",
       "\\item 'Survey\\_TimelyVisits'\n",
       "\\item 'Timezone'\n",
       "\\item 'TotalCharge'\n",
       "\\item 'UID'\n",
       "\\item 'VitD\\_levels'\n",
       "\\item 'VitD\\_supp'\n",
       "\\item 'Zip'\n",
       "\\end{enumerate*}\n"
      ],
      "text/markdown": [
       "1. 'Additional_charges'\n",
       "2. 'Age'\n",
       "3. 'Allergic_rhinitis'\n",
       "4. 'Anxiety'\n",
       "5. 'Area'\n",
       "6. 'Arthritis'\n",
       "7. 'Asthma'\n",
       "8. 'BackPain'\n",
       "9. 'CaseOrder'\n",
       "10. 'Children'\n",
       "11. 'City'\n",
       "12. 'Complication_risk'\n",
       "13. 'County'\n",
       "14. 'Customer_id'\n",
       "15. 'Diabetes'\n",
       "16. 'Doc_visits'\n",
       "17. 'Education'\n",
       "18. 'Employment'\n",
       "19. 'Full_meals_eaten'\n",
       "20. 'Gender'\n",
       "21. 'HighBlood'\n",
       "22. 'Household_Income'\n",
       "23. 'Hyperlipidemia'\n",
       "24. 'Initial_admin'\n",
       "25. 'Initial_days'\n",
       "26. 'Interaction'\n",
       "27. 'Job'\n",
       "28. 'Lat'\n",
       "29. 'Lng'\n",
       "30. 'Marital'\n",
       "31. 'Overweight'\n",
       "32. 'Population'\n",
       "33. 'ReAdmis'\n",
       "34. 'Reflux_esophagitis'\n",
       "35. 'Services'\n",
       "36. 'Soft_drink'\n",
       "37. 'State'\n",
       "38. 'Stroke'\n",
       "39. 'Survey_ActiveListening'\n",
       "40. 'Survey_CourteousStaff'\n",
       "41. 'Survey_HoursTreatment'\n",
       "42. 'Survey_Options'\n",
       "43. 'Survey_Reliability'\n",
       "44. 'Survey_TimelyAdmin'\n",
       "45. 'Survey_TimelyTreatment'\n",
       "46. 'Survey_TimelyVisits'\n",
       "47. 'Timezone'\n",
       "48. 'TotalCharge'\n",
       "49. 'UID'\n",
       "50. 'VitD_levels'\n",
       "51. 'VitD_supp'\n",
       "52. 'Zip'\n",
       "\n",
       "\n"
      ],
      "text/plain": [
       " [1] \"Additional_charges\"     \"Age\"                    \"Allergic_rhinitis\"     \n",
       " [4] \"Anxiety\"                \"Area\"                   \"Arthritis\"             \n",
       " [7] \"Asthma\"                 \"BackPain\"               \"CaseOrder\"             \n",
       "[10] \"Children\"               \"City\"                   \"Complication_risk\"     \n",
       "[13] \"County\"                 \"Customer_id\"            \"Diabetes\"              \n",
       "[16] \"Doc_visits\"             \"Education\"              \"Employment\"            \n",
       "[19] \"Full_meals_eaten\"       \"Gender\"                 \"HighBlood\"             \n",
       "[22] \"Household_Income\"       \"Hyperlipidemia\"         \"Initial_admin\"         \n",
       "[25] \"Initial_days\"           \"Interaction\"            \"Job\"                   \n",
       "[28] \"Lat\"                    \"Lng\"                    \"Marital\"               \n",
       "[31] \"Overweight\"             \"Population\"             \"ReAdmis\"               \n",
       "[34] \"Reflux_esophagitis\"     \"Services\"               \"Soft_drink\"            \n",
       "[37] \"State\"                  \"Stroke\"                 \"Survey_ActiveListening\"\n",
       "[40] \"Survey_CourteousStaff\"  \"Survey_HoursTreatment\"  \"Survey_Options\"        \n",
       "[43] \"Survey_Reliability\"     \"Survey_TimelyAdmin\"     \"Survey_TimelyTreatment\"\n",
       "[46] \"Survey_TimelyVisits\"    \"Timezone\"               \"TotalCharge\"           \n",
       "[49] \"UID\"                    \"VitD_levels\"            \"VitD_supp\"             \n",
       "[52] \"Zip\"                   "
      ]
     },
     "metadata": {},
     "output_type": "display_data"
    }
   ],
   "source": [
    "# Viewing all of the variables \n",
    "ls(medical_raw_data)"
   ]
  },
  {
   "cell_type": "code",
   "execution_count": 44,
   "id": "0121e59a-539c-4b37-be19-da454bf42b83",
   "metadata": {
    "vscode": {
     "languageId": "r"
    }
   },
   "outputs": [],
   "source": [
    "medical_raw_data$Children[is.na(medical_raw_data$Children)]<-median(medical_raw_data$Children, na.rm=TRUE)\n",
    "medical_raw_data$Age[is.na(medical_raw_data$Age)]<-median(medical_raw_data$Age, na.rm=TRUE)\n",
    "medical_raw_data$Household_Income[is.na(medical_raw_data$Household_Income)]<-median(medical_raw_data$Household_Income, na.rm=TRUE)\n",
    "medical_raw_data$Overweight[is.na(medical_raw_data$Overweight)]<-median(medical_raw_data$Overweight, na.rm=TRUE)\n",
    "medical_raw_data$Anxiety[is.na(medical_raw_data$Anxiety)]<-median(medical_raw_data$Anxiety, na.rm=TRUE)\n",
    "medical_raw_data$Soft_drink[is.na(medical_raw_data$Soft_drink)]<-median(medical_raw_data$Soft_drink, na.rm=TRUE)\n",
    "# (Hadley Wickham & Garrett Grolemund, 2017)"
   ]
  },
  {
   "cell_type": "markdown",
   "id": "41a59d7c-8f23-4624-995e-b0bb5909aba1",
   "metadata": {},
   "source": [
    "## I'll need to subset the data to do the PCA without the variables with NAs."
   ]
  },
  {
   "cell_type": "markdown",
   "id": "98468d98-fefa-4346-9e83-53cb677b9e61",
   "metadata": {},
   "source": [
    "### Data Cleaning Limitations, Strengths, and Weaknesses:\n",
    "*Strengths:*\n",
    "- Nearly all of the values are numeric, facilitating easier calculations, visualizations, and conversions.\n",
    "- Multiple variables made it easy to have options with a research question. I saw possibilities with Age, Children, Doc_Visits, Overweight, and many others.\n",
    "*Weaknesses:*\n",
    "- We do not have access to the original people who created the data.\n",
    "- There was a grand part of the data that was missing, eliminating the chances of analyzing *that* part of it.\n",
    "- Perhaps a better cleaning decision could have been made if we knew the purpose of the data.\n",
    "- One unclear variable was VitD_supp, which describes the number of times a patient takes the supplement. What we do not know is if this is daily, weekly, or throughout the stay in the facility while admitted."
   ]
  },
  {
   "cell_type": "markdown",
   "id": "0089c8b0-f492-4988-aa7c-5112f4d3febe",
   "metadata": {},
   "source": [
    "# Part 3- E: The cleaning process is officially complete! We may now proceed to our final step: The Principal Component Analysis (PCA).\n",
    "#### *The PCA identifies variance within a data set's variables and makes it easy to explore data to understand key variables and further confirm outliers.*\n",
    "#### A PCA will allow us to see the variables that have a strong relationship with others, and the ones who don't.\n",
    "#### It also allows for us to work with the important variables as opposed to those who are not."
   ]
  },
  {
   "cell_type": "markdown",
   "id": "66da9c2b-2188-4036-8b83-607576a45283",
   "metadata": {},
   "source": [
    "##### I will take a look at the columns once more to remember in what place the variables I need to work with are."
   ]
  },
  {
   "cell_type": "code",
   "execution_count": 45,
   "id": "d18ca4a0-4610-4369-9beb-9960c37f6a61",
   "metadata": {
    "vscode": {
     "languageId": "r"
    }
   },
   "outputs": [
    {
     "data": {
      "text/html": [
       "<style>\n",
       ".list-inline {list-style: none; margin:0; padding: 0}\n",
       ".list-inline>li {display: inline-block}\n",
       ".list-inline>li:not(:last-child)::after {content: \"\\00b7\"; padding: 0 .5ex}\n",
       "</style>\n",
       "<ol class=list-inline><li>'...1'</li><li>'CaseOrder'</li><li>'Customer_id'</li><li>'Interaction'</li><li>'UID'</li><li>'City'</li><li>'State'</li><li>'County'</li><li>'Zip'</li><li>'Lat'</li><li>'Lng'</li><li>'Population'</li><li>'Area'</li><li>'Timezone'</li><li>'Job'</li><li>'Children'</li><li>'Age'</li><li>'Education'</li><li>'Employment'</li><li>'Household_Income'</li><li>'Marital'</li><li>'Gender'</li><li>'ReAdmis'</li><li>'VitD_levels'</li><li>'Doc_visits'</li><li>'Full_meals_eaten'</li><li>'VitD_supp'</li><li>'Soft_drink'</li><li>'Initial_admin'</li><li>'HighBlood'</li><li>'Stroke'</li><li>'Complication_risk'</li><li>'Overweight'</li><li>'Arthritis'</li><li>'Diabetes'</li><li>'Hyperlipidemia'</li><li>'BackPain'</li><li>'Anxiety'</li><li>'Allergic_rhinitis'</li><li>'Reflux_esophagitis'</li><li>'Asthma'</li><li>'Services'</li><li>'Initial_days'</li><li>'TotalCharge'</li><li>'Additional_charges'</li><li>'Survey_TimelyAdmin'</li><li>'Survey_TimelyTreatment'</li><li>'Survey_TimelyVisits'</li><li>'Survey_Reliability'</li><li>'Survey_Options'</li><li>'Survey_HoursTreatment'</li><li>'Survey_CourteousStaff'</li><li>'Survey_ActiveListening'</li></ol>\n"
      ],
      "text/latex": [
       "\\begin{enumerate*}\n",
       "\\item '...1'\n",
       "\\item 'CaseOrder'\n",
       "\\item 'Customer\\_id'\n",
       "\\item 'Interaction'\n",
       "\\item 'UID'\n",
       "\\item 'City'\n",
       "\\item 'State'\n",
       "\\item 'County'\n",
       "\\item 'Zip'\n",
       "\\item 'Lat'\n",
       "\\item 'Lng'\n",
       "\\item 'Population'\n",
       "\\item 'Area'\n",
       "\\item 'Timezone'\n",
       "\\item 'Job'\n",
       "\\item 'Children'\n",
       "\\item 'Age'\n",
       "\\item 'Education'\n",
       "\\item 'Employment'\n",
       "\\item 'Household\\_Income'\n",
       "\\item 'Marital'\n",
       "\\item 'Gender'\n",
       "\\item 'ReAdmis'\n",
       "\\item 'VitD\\_levels'\n",
       "\\item 'Doc\\_visits'\n",
       "\\item 'Full\\_meals\\_eaten'\n",
       "\\item 'VitD\\_supp'\n",
       "\\item 'Soft\\_drink'\n",
       "\\item 'Initial\\_admin'\n",
       "\\item 'HighBlood'\n",
       "\\item 'Stroke'\n",
       "\\item 'Complication\\_risk'\n",
       "\\item 'Overweight'\n",
       "\\item 'Arthritis'\n",
       "\\item 'Diabetes'\n",
       "\\item 'Hyperlipidemia'\n",
       "\\item 'BackPain'\n",
       "\\item 'Anxiety'\n",
       "\\item 'Allergic\\_rhinitis'\n",
       "\\item 'Reflux\\_esophagitis'\n",
       "\\item 'Asthma'\n",
       "\\item 'Services'\n",
       "\\item 'Initial\\_days'\n",
       "\\item 'TotalCharge'\n",
       "\\item 'Additional\\_charges'\n",
       "\\item 'Survey\\_TimelyAdmin'\n",
       "\\item 'Survey\\_TimelyTreatment'\n",
       "\\item 'Survey\\_TimelyVisits'\n",
       "\\item 'Survey\\_Reliability'\n",
       "\\item 'Survey\\_Options'\n",
       "\\item 'Survey\\_HoursTreatment'\n",
       "\\item 'Survey\\_CourteousStaff'\n",
       "\\item 'Survey\\_ActiveListening'\n",
       "\\end{enumerate*}\n"
      ],
      "text/markdown": [
       "1. '...1'\n",
       "2. 'CaseOrder'\n",
       "3. 'Customer_id'\n",
       "4. 'Interaction'\n",
       "5. 'UID'\n",
       "6. 'City'\n",
       "7. 'State'\n",
       "8. 'County'\n",
       "9. 'Zip'\n",
       "10. 'Lat'\n",
       "11. 'Lng'\n",
       "12. 'Population'\n",
       "13. 'Area'\n",
       "14. 'Timezone'\n",
       "15. 'Job'\n",
       "16. 'Children'\n",
       "17. 'Age'\n",
       "18. 'Education'\n",
       "19. 'Employment'\n",
       "20. 'Household_Income'\n",
       "21. 'Marital'\n",
       "22. 'Gender'\n",
       "23. 'ReAdmis'\n",
       "24. 'VitD_levels'\n",
       "25. 'Doc_visits'\n",
       "26. 'Full_meals_eaten'\n",
       "27. 'VitD_supp'\n",
       "28. 'Soft_drink'\n",
       "29. 'Initial_admin'\n",
       "30. 'HighBlood'\n",
       "31. 'Stroke'\n",
       "32. 'Complication_risk'\n",
       "33. 'Overweight'\n",
       "34. 'Arthritis'\n",
       "35. 'Diabetes'\n",
       "36. 'Hyperlipidemia'\n",
       "37. 'BackPain'\n",
       "38. 'Anxiety'\n",
       "39. 'Allergic_rhinitis'\n",
       "40. 'Reflux_esophagitis'\n",
       "41. 'Asthma'\n",
       "42. 'Services'\n",
       "43. 'Initial_days'\n",
       "44. 'TotalCharge'\n",
       "45. 'Additional_charges'\n",
       "46. 'Survey_TimelyAdmin'\n",
       "47. 'Survey_TimelyTreatment'\n",
       "48. 'Survey_TimelyVisits'\n",
       "49. 'Survey_Reliability'\n",
       "50. 'Survey_Options'\n",
       "51. 'Survey_HoursTreatment'\n",
       "52. 'Survey_CourteousStaff'\n",
       "53. 'Survey_ActiveListening'\n",
       "\n",
       "\n"
      ],
      "text/plain": [
       " [1] \"...1\"                   \"CaseOrder\"              \"Customer_id\"           \n",
       " [4] \"Interaction\"            \"UID\"                    \"City\"                  \n",
       " [7] \"State\"                  \"County\"                 \"Zip\"                   \n",
       "[10] \"Lat\"                    \"Lng\"                    \"Population\"            \n",
       "[13] \"Area\"                   \"Timezone\"               \"Job\"                   \n",
       "[16] \"Children\"               \"Age\"                    \"Education\"             \n",
       "[19] \"Employment\"             \"Household_Income\"       \"Marital\"               \n",
       "[22] \"Gender\"                 \"ReAdmis\"                \"VitD_levels\"           \n",
       "[25] \"Doc_visits\"             \"Full_meals_eaten\"       \"VitD_supp\"             \n",
       "[28] \"Soft_drink\"             \"Initial_admin\"          \"HighBlood\"             \n",
       "[31] \"Stroke\"                 \"Complication_risk\"      \"Overweight\"            \n",
       "[34] \"Arthritis\"              \"Diabetes\"               \"Hyperlipidemia\"        \n",
       "[37] \"BackPain\"               \"Anxiety\"                \"Allergic_rhinitis\"     \n",
       "[40] \"Reflux_esophagitis\"     \"Asthma\"                 \"Services\"              \n",
       "[43] \"Initial_days\"           \"TotalCharge\"            \"Additional_charges\"    \n",
       "[46] \"Survey_TimelyAdmin\"     \"Survey_TimelyTreatment\" \"Survey_TimelyVisits\"   \n",
       "[49] \"Survey_Reliability\"     \"Survey_Options\"         \"Survey_HoursTreatment\" \n",
       "[52] \"Survey_CourteousStaff\"  \"Survey_ActiveListening\""
      ]
     },
     "metadata": {},
     "output_type": "display_data"
    }
   ],
   "source": [
    "colnames(medical_raw_data)"
   ]
  },
  {
   "cell_type": "markdown",
   "id": "daac48c5-30c3-4d00-8083-6b42e14c23f7",
   "metadata": {},
   "source": [
    "## First, I will conduct standardization/subsetting on the variables I need to answer my research question, which are the numeric ones."
   ]
  },
  {
   "cell_type": "code",
   "execution_count": 46,
   "id": "cf295e6e-de49-4be9-b4b5-a1c3e044933f",
   "metadata": {
    "vscode": {
     "languageId": "r"
    }
   },
   "outputs": [],
   "source": [
    "# To make sure we don't have infinite values\n",
    "library(\"IDPmisc\")\n",
    "medical <- NaRV.omit(medical_raw_data)"
   ]
  },
  {
   "cell_type": "code",
   "execution_count": 49,
   "id": "57a33393-cc63-4f5a-b2ed-f019a30c6db2",
   "metadata": {
    "collapsed": true,
    "jupyter": {
     "outputs_hidden": true
    },
    "tags": [],
    "vscode": {
     "languageId": "r"
    }
   },
   "outputs": [
    {
     "data": {
      "text/html": [
       "<table class=\"dataframe\">\n",
       "<caption>A matrix: 10000 × 53 of type lgl</caption>\n",
       "<thead>\n",
       "\t<tr><th scope=col>...1</th><th scope=col>CaseOrder</th><th scope=col>Customer_id</th><th scope=col>Interaction</th><th scope=col>UID</th><th scope=col>City</th><th scope=col>State</th><th scope=col>County</th><th scope=col>Zip</th><th scope=col>Lat</th><th scope=col>...</th><th scope=col>TotalCharge</th><th scope=col>Additional_charges</th><th scope=col>Survey_TimelyAdmin</th><th scope=col>Survey_TimelyTreatment</th><th scope=col>Survey_TimelyVisits</th><th scope=col>Survey_Reliability</th><th scope=col>Survey_Options</th><th scope=col>Survey_HoursTreatment</th><th scope=col>Survey_CourteousStaff</th><th scope=col>Survey_ActiveListening</th></tr>\n",
       "</thead>\n",
       "<tbody>\n",
       "\t<tr><td>FALSE</td><td>FALSE</td><td>TRUE</td><td>TRUE</td><td>TRUE</td><td>TRUE</td><td>TRUE</td><td>TRUE</td><td>FALSE</td><td>FALSE</td><td>...</td><td>FALSE</td><td>FALSE</td><td>FALSE</td><td>FALSE</td><td>FALSE</td><td>FALSE</td><td>FALSE</td><td>FALSE</td><td>FALSE</td><td>FALSE</td></tr>\n",
       "\t<tr><td>FALSE</td><td>FALSE</td><td>TRUE</td><td>TRUE</td><td>TRUE</td><td>TRUE</td><td>TRUE</td><td>TRUE</td><td>FALSE</td><td>FALSE</td><td>...</td><td>FALSE</td><td>FALSE</td><td>FALSE</td><td>FALSE</td><td>FALSE</td><td>FALSE</td><td>FALSE</td><td>FALSE</td><td>FALSE</td><td>FALSE</td></tr>\n",
       "\t<tr><td>FALSE</td><td>FALSE</td><td>TRUE</td><td>TRUE</td><td>TRUE</td><td>TRUE</td><td>TRUE</td><td>TRUE</td><td>FALSE</td><td>FALSE</td><td>...</td><td>FALSE</td><td>FALSE</td><td>FALSE</td><td>FALSE</td><td>FALSE</td><td>FALSE</td><td>FALSE</td><td>FALSE</td><td>FALSE</td><td>FALSE</td></tr>\n",
       "\t<tr><td>FALSE</td><td>FALSE</td><td>TRUE</td><td>TRUE</td><td>TRUE</td><td>TRUE</td><td>TRUE</td><td>TRUE</td><td>FALSE</td><td>FALSE</td><td>...</td><td>FALSE</td><td>FALSE</td><td>FALSE</td><td>FALSE</td><td>FALSE</td><td>FALSE</td><td>FALSE</td><td>FALSE</td><td>FALSE</td><td>FALSE</td></tr>\n",
       "\t<tr><td>FALSE</td><td>FALSE</td><td>TRUE</td><td>TRUE</td><td>TRUE</td><td>TRUE</td><td>TRUE</td><td>TRUE</td><td>FALSE</td><td>FALSE</td><td>...</td><td>FALSE</td><td>FALSE</td><td>FALSE</td><td>FALSE</td><td>FALSE</td><td>FALSE</td><td>FALSE</td><td>FALSE</td><td>FALSE</td><td>FALSE</td></tr>\n",
       "\t<tr><td>FALSE</td><td>FALSE</td><td>TRUE</td><td>TRUE</td><td>TRUE</td><td>TRUE</td><td>TRUE</td><td>TRUE</td><td>FALSE</td><td>FALSE</td><td>...</td><td>FALSE</td><td>FALSE</td><td>FALSE</td><td>FALSE</td><td>FALSE</td><td>FALSE</td><td>FALSE</td><td>FALSE</td><td>FALSE</td><td>FALSE</td></tr>\n",
       "\t<tr><td>FALSE</td><td>FALSE</td><td>TRUE</td><td>TRUE</td><td>TRUE</td><td>TRUE</td><td>TRUE</td><td>TRUE</td><td>FALSE</td><td>FALSE</td><td>...</td><td>FALSE</td><td>FALSE</td><td>FALSE</td><td>FALSE</td><td>FALSE</td><td>FALSE</td><td>FALSE</td><td>FALSE</td><td>FALSE</td><td>FALSE</td></tr>\n",
       "\t<tr><td>FALSE</td><td>FALSE</td><td>TRUE</td><td>TRUE</td><td>TRUE</td><td>TRUE</td><td>TRUE</td><td>TRUE</td><td>FALSE</td><td>FALSE</td><td>...</td><td>FALSE</td><td>FALSE</td><td>FALSE</td><td>FALSE</td><td>FALSE</td><td>FALSE</td><td>FALSE</td><td>FALSE</td><td>FALSE</td><td>FALSE</td></tr>\n",
       "\t<tr><td>FALSE</td><td>FALSE</td><td>TRUE</td><td>TRUE</td><td>TRUE</td><td>TRUE</td><td>TRUE</td><td>TRUE</td><td>FALSE</td><td>FALSE</td><td>...</td><td>FALSE</td><td>FALSE</td><td>FALSE</td><td>FALSE</td><td>FALSE</td><td>FALSE</td><td>FALSE</td><td>FALSE</td><td>FALSE</td><td>FALSE</td></tr>\n",
       "\t<tr><td>FALSE</td><td>FALSE</td><td>TRUE</td><td>TRUE</td><td>TRUE</td><td>TRUE</td><td>TRUE</td><td>TRUE</td><td>FALSE</td><td>FALSE</td><td>...</td><td>FALSE</td><td>FALSE</td><td>FALSE</td><td>FALSE</td><td>FALSE</td><td>FALSE</td><td>FALSE</td><td>FALSE</td><td>FALSE</td><td>FALSE</td></tr>\n",
       "\t<tr><td>FALSE</td><td>FALSE</td><td>TRUE</td><td>TRUE</td><td>TRUE</td><td>TRUE</td><td>TRUE</td><td>TRUE</td><td>FALSE</td><td>FALSE</td><td>...</td><td>FALSE</td><td>FALSE</td><td>FALSE</td><td>FALSE</td><td>FALSE</td><td>FALSE</td><td>FALSE</td><td>FALSE</td><td>FALSE</td><td>FALSE</td></tr>\n",
       "\t<tr><td>FALSE</td><td>FALSE</td><td>TRUE</td><td>TRUE</td><td>TRUE</td><td>TRUE</td><td>TRUE</td><td>TRUE</td><td>FALSE</td><td>FALSE</td><td>...</td><td>FALSE</td><td>FALSE</td><td>FALSE</td><td>FALSE</td><td>FALSE</td><td>FALSE</td><td>FALSE</td><td>FALSE</td><td>FALSE</td><td>FALSE</td></tr>\n",
       "\t<tr><td>FALSE</td><td>FALSE</td><td>TRUE</td><td>TRUE</td><td>TRUE</td><td>TRUE</td><td>TRUE</td><td>TRUE</td><td>FALSE</td><td>FALSE</td><td>...</td><td>FALSE</td><td>FALSE</td><td>FALSE</td><td>FALSE</td><td>FALSE</td><td>FALSE</td><td>FALSE</td><td>FALSE</td><td>FALSE</td><td>FALSE</td></tr>\n",
       "\t<tr><td>FALSE</td><td>FALSE</td><td>TRUE</td><td>TRUE</td><td>TRUE</td><td>TRUE</td><td>TRUE</td><td>TRUE</td><td>FALSE</td><td>FALSE</td><td>...</td><td>FALSE</td><td>FALSE</td><td>FALSE</td><td>FALSE</td><td>FALSE</td><td>FALSE</td><td>FALSE</td><td>FALSE</td><td>FALSE</td><td>FALSE</td></tr>\n",
       "\t<tr><td>FALSE</td><td>FALSE</td><td>TRUE</td><td>TRUE</td><td>TRUE</td><td>TRUE</td><td>TRUE</td><td>TRUE</td><td>FALSE</td><td>FALSE</td><td>...</td><td>FALSE</td><td>FALSE</td><td>FALSE</td><td>FALSE</td><td>FALSE</td><td>FALSE</td><td>FALSE</td><td>FALSE</td><td>FALSE</td><td>FALSE</td></tr>\n",
       "\t<tr><td>FALSE</td><td>FALSE</td><td>TRUE</td><td>TRUE</td><td>TRUE</td><td>TRUE</td><td>TRUE</td><td>TRUE</td><td>FALSE</td><td>FALSE</td><td>...</td><td>FALSE</td><td>FALSE</td><td>FALSE</td><td>FALSE</td><td>FALSE</td><td>FALSE</td><td>FALSE</td><td>FALSE</td><td>FALSE</td><td>FALSE</td></tr>\n",
       "\t<tr><td>FALSE</td><td>FALSE</td><td>TRUE</td><td>TRUE</td><td>TRUE</td><td>TRUE</td><td>TRUE</td><td>TRUE</td><td>FALSE</td><td>FALSE</td><td>...</td><td>FALSE</td><td>FALSE</td><td>FALSE</td><td>FALSE</td><td>FALSE</td><td>FALSE</td><td>FALSE</td><td>FALSE</td><td>FALSE</td><td>FALSE</td></tr>\n",
       "\t<tr><td>FALSE</td><td>FALSE</td><td>TRUE</td><td>TRUE</td><td>TRUE</td><td>TRUE</td><td>TRUE</td><td>TRUE</td><td>FALSE</td><td>FALSE</td><td>...</td><td>FALSE</td><td>FALSE</td><td>FALSE</td><td>FALSE</td><td>FALSE</td><td>FALSE</td><td>FALSE</td><td>FALSE</td><td>FALSE</td><td>FALSE</td></tr>\n",
       "\t<tr><td>FALSE</td><td>FALSE</td><td>TRUE</td><td>TRUE</td><td>TRUE</td><td>TRUE</td><td>TRUE</td><td>TRUE</td><td>FALSE</td><td>FALSE</td><td>...</td><td>FALSE</td><td>FALSE</td><td>FALSE</td><td>FALSE</td><td>FALSE</td><td>FALSE</td><td>FALSE</td><td>FALSE</td><td>FALSE</td><td>FALSE</td></tr>\n",
       "\t<tr><td>FALSE</td><td>FALSE</td><td>TRUE</td><td>TRUE</td><td>TRUE</td><td>TRUE</td><td>TRUE</td><td>TRUE</td><td>FALSE</td><td>FALSE</td><td>...</td><td>FALSE</td><td>FALSE</td><td>FALSE</td><td>FALSE</td><td>FALSE</td><td>FALSE</td><td>FALSE</td><td>FALSE</td><td>FALSE</td><td>FALSE</td></tr>\n",
       "\t<tr><td>FALSE</td><td>FALSE</td><td>TRUE</td><td>TRUE</td><td>TRUE</td><td>TRUE</td><td>TRUE</td><td>TRUE</td><td>FALSE</td><td>FALSE</td><td>...</td><td>FALSE</td><td>FALSE</td><td>FALSE</td><td>FALSE</td><td>FALSE</td><td>FALSE</td><td>FALSE</td><td>FALSE</td><td>FALSE</td><td>FALSE</td></tr>\n",
       "\t<tr><td>FALSE</td><td>FALSE</td><td>TRUE</td><td>TRUE</td><td>TRUE</td><td>TRUE</td><td>TRUE</td><td>TRUE</td><td>FALSE</td><td>FALSE</td><td>...</td><td>FALSE</td><td>FALSE</td><td>FALSE</td><td>FALSE</td><td>FALSE</td><td>FALSE</td><td>FALSE</td><td>FALSE</td><td>FALSE</td><td>FALSE</td></tr>\n",
       "\t<tr><td>FALSE</td><td>FALSE</td><td>TRUE</td><td>TRUE</td><td>TRUE</td><td>TRUE</td><td>TRUE</td><td>TRUE</td><td>FALSE</td><td>FALSE</td><td>...</td><td>FALSE</td><td>FALSE</td><td>FALSE</td><td>FALSE</td><td>FALSE</td><td>FALSE</td><td>FALSE</td><td>FALSE</td><td>FALSE</td><td>FALSE</td></tr>\n",
       "\t<tr><td>FALSE</td><td>FALSE</td><td>TRUE</td><td>TRUE</td><td>TRUE</td><td>TRUE</td><td>TRUE</td><td>TRUE</td><td>FALSE</td><td>FALSE</td><td>...</td><td>FALSE</td><td>FALSE</td><td>FALSE</td><td>FALSE</td><td>FALSE</td><td>FALSE</td><td>FALSE</td><td>FALSE</td><td>FALSE</td><td>FALSE</td></tr>\n",
       "\t<tr><td>FALSE</td><td>FALSE</td><td>TRUE</td><td>TRUE</td><td>TRUE</td><td>TRUE</td><td>TRUE</td><td>TRUE</td><td>FALSE</td><td>FALSE</td><td>...</td><td>FALSE</td><td>FALSE</td><td>FALSE</td><td>FALSE</td><td>FALSE</td><td>FALSE</td><td>FALSE</td><td>FALSE</td><td>FALSE</td><td>FALSE</td></tr>\n",
       "\t<tr><td>FALSE</td><td>FALSE</td><td>TRUE</td><td>TRUE</td><td>TRUE</td><td>TRUE</td><td>TRUE</td><td>TRUE</td><td>FALSE</td><td>FALSE</td><td>...</td><td>FALSE</td><td>FALSE</td><td>FALSE</td><td>FALSE</td><td>FALSE</td><td>FALSE</td><td>FALSE</td><td>FALSE</td><td>FALSE</td><td>FALSE</td></tr>\n",
       "\t<tr><td>FALSE</td><td>FALSE</td><td>TRUE</td><td>TRUE</td><td>TRUE</td><td>TRUE</td><td>TRUE</td><td>TRUE</td><td>FALSE</td><td>FALSE</td><td>...</td><td>FALSE</td><td>FALSE</td><td>FALSE</td><td>FALSE</td><td>FALSE</td><td>FALSE</td><td>FALSE</td><td>FALSE</td><td>FALSE</td><td>FALSE</td></tr>\n",
       "\t<tr><td>FALSE</td><td>FALSE</td><td>TRUE</td><td>TRUE</td><td>TRUE</td><td>TRUE</td><td>TRUE</td><td>TRUE</td><td>FALSE</td><td>FALSE</td><td>...</td><td>FALSE</td><td>FALSE</td><td>FALSE</td><td>FALSE</td><td>FALSE</td><td>FALSE</td><td>FALSE</td><td>FALSE</td><td>FALSE</td><td>FALSE</td></tr>\n",
       "\t<tr><td>FALSE</td><td>FALSE</td><td>TRUE</td><td>TRUE</td><td>TRUE</td><td>TRUE</td><td>TRUE</td><td>TRUE</td><td>FALSE</td><td>FALSE</td><td>...</td><td>FALSE</td><td>FALSE</td><td>FALSE</td><td>FALSE</td><td>FALSE</td><td>FALSE</td><td>FALSE</td><td>FALSE</td><td>FALSE</td><td>FALSE</td></tr>\n",
       "\t<tr><td>FALSE</td><td>FALSE</td><td>TRUE</td><td>TRUE</td><td>TRUE</td><td>TRUE</td><td>TRUE</td><td>TRUE</td><td>FALSE</td><td>FALSE</td><td>...</td><td>FALSE</td><td>FALSE</td><td>FALSE</td><td>FALSE</td><td>FALSE</td><td>FALSE</td><td>FALSE</td><td>FALSE</td><td>FALSE</td><td>FALSE</td></tr>\n",
       "\t<tr><td>...</td><td>...</td><td>...</td><td>...</td><td>...</td><td>...</td><td>...</td><td>...</td><td>...</td><td>...</td><td></td><td>...</td><td>...</td><td>...</td><td>...</td><td>...</td><td>...</td><td>...</td><td>...</td><td>...</td><td>...</td></tr>\n",
       "\t<tr><td>FALSE</td><td>FALSE</td><td>TRUE</td><td>TRUE</td><td>TRUE</td><td>TRUE</td><td>TRUE</td><td>TRUE</td><td>FALSE</td><td>FALSE</td><td>...</td><td>FALSE</td><td>FALSE</td><td>FALSE</td><td>FALSE</td><td>FALSE</td><td>FALSE</td><td>FALSE</td><td>FALSE</td><td>FALSE</td><td>FALSE</td></tr>\n",
       "\t<tr><td>FALSE</td><td>FALSE</td><td>TRUE</td><td>TRUE</td><td>TRUE</td><td>TRUE</td><td>TRUE</td><td>TRUE</td><td>FALSE</td><td>FALSE</td><td>...</td><td>FALSE</td><td>FALSE</td><td>FALSE</td><td>FALSE</td><td>FALSE</td><td>FALSE</td><td>FALSE</td><td>FALSE</td><td>FALSE</td><td>FALSE</td></tr>\n",
       "\t<tr><td>FALSE</td><td>FALSE</td><td>TRUE</td><td>TRUE</td><td>TRUE</td><td>TRUE</td><td>TRUE</td><td>TRUE</td><td>FALSE</td><td>FALSE</td><td>...</td><td>FALSE</td><td>FALSE</td><td>FALSE</td><td>FALSE</td><td>FALSE</td><td>FALSE</td><td>FALSE</td><td>FALSE</td><td>FALSE</td><td>FALSE</td></tr>\n",
       "\t<tr><td>FALSE</td><td>FALSE</td><td>TRUE</td><td>TRUE</td><td>TRUE</td><td>TRUE</td><td>TRUE</td><td>TRUE</td><td>FALSE</td><td>FALSE</td><td>...</td><td>FALSE</td><td>FALSE</td><td>FALSE</td><td>FALSE</td><td>FALSE</td><td>FALSE</td><td>FALSE</td><td>FALSE</td><td>FALSE</td><td>FALSE</td></tr>\n",
       "\t<tr><td>FALSE</td><td>FALSE</td><td>TRUE</td><td>TRUE</td><td>TRUE</td><td>TRUE</td><td>TRUE</td><td>TRUE</td><td>FALSE</td><td>FALSE</td><td>...</td><td>FALSE</td><td>FALSE</td><td>FALSE</td><td>FALSE</td><td>FALSE</td><td>FALSE</td><td>FALSE</td><td>FALSE</td><td>FALSE</td><td>FALSE</td></tr>\n",
       "\t<tr><td>FALSE</td><td>FALSE</td><td>TRUE</td><td>TRUE</td><td>TRUE</td><td>TRUE</td><td>TRUE</td><td>TRUE</td><td>FALSE</td><td>FALSE</td><td>...</td><td>FALSE</td><td>FALSE</td><td>FALSE</td><td>FALSE</td><td>FALSE</td><td>FALSE</td><td>FALSE</td><td>FALSE</td><td>FALSE</td><td>FALSE</td></tr>\n",
       "\t<tr><td>FALSE</td><td>FALSE</td><td>TRUE</td><td>TRUE</td><td>TRUE</td><td>TRUE</td><td>TRUE</td><td>TRUE</td><td>FALSE</td><td>FALSE</td><td>...</td><td>FALSE</td><td>FALSE</td><td>FALSE</td><td>FALSE</td><td>FALSE</td><td>FALSE</td><td>FALSE</td><td>FALSE</td><td>FALSE</td><td>FALSE</td></tr>\n",
       "\t<tr><td>FALSE</td><td>FALSE</td><td>TRUE</td><td>TRUE</td><td>TRUE</td><td>TRUE</td><td>TRUE</td><td>TRUE</td><td>FALSE</td><td>FALSE</td><td>...</td><td>FALSE</td><td>FALSE</td><td>FALSE</td><td>FALSE</td><td>FALSE</td><td>FALSE</td><td>FALSE</td><td>FALSE</td><td>FALSE</td><td>FALSE</td></tr>\n",
       "\t<tr><td>FALSE</td><td>FALSE</td><td>TRUE</td><td>TRUE</td><td>TRUE</td><td>TRUE</td><td>TRUE</td><td>TRUE</td><td>FALSE</td><td>FALSE</td><td>...</td><td>FALSE</td><td>FALSE</td><td>FALSE</td><td>FALSE</td><td>FALSE</td><td>FALSE</td><td>FALSE</td><td>FALSE</td><td>FALSE</td><td>FALSE</td></tr>\n",
       "\t<tr><td>FALSE</td><td>FALSE</td><td>TRUE</td><td>TRUE</td><td>TRUE</td><td>TRUE</td><td>TRUE</td><td>TRUE</td><td>FALSE</td><td>FALSE</td><td>...</td><td>FALSE</td><td>FALSE</td><td>FALSE</td><td>FALSE</td><td>FALSE</td><td>FALSE</td><td>FALSE</td><td>FALSE</td><td>FALSE</td><td>FALSE</td></tr>\n",
       "\t<tr><td>FALSE</td><td>FALSE</td><td>TRUE</td><td>TRUE</td><td>TRUE</td><td>TRUE</td><td>TRUE</td><td>TRUE</td><td>FALSE</td><td>FALSE</td><td>...</td><td>FALSE</td><td>FALSE</td><td>FALSE</td><td>FALSE</td><td>FALSE</td><td>FALSE</td><td>FALSE</td><td>FALSE</td><td>FALSE</td><td>FALSE</td></tr>\n",
       "\t<tr><td>FALSE</td><td>FALSE</td><td>TRUE</td><td>TRUE</td><td>TRUE</td><td>TRUE</td><td>TRUE</td><td>TRUE</td><td>FALSE</td><td>FALSE</td><td>...</td><td>FALSE</td><td>FALSE</td><td>FALSE</td><td>FALSE</td><td>FALSE</td><td>FALSE</td><td>FALSE</td><td>FALSE</td><td>FALSE</td><td>FALSE</td></tr>\n",
       "\t<tr><td>FALSE</td><td>FALSE</td><td>TRUE</td><td>TRUE</td><td>TRUE</td><td>TRUE</td><td>TRUE</td><td>TRUE</td><td>FALSE</td><td>FALSE</td><td>...</td><td>FALSE</td><td>FALSE</td><td>FALSE</td><td>FALSE</td><td>FALSE</td><td>FALSE</td><td>FALSE</td><td>FALSE</td><td>FALSE</td><td>FALSE</td></tr>\n",
       "\t<tr><td>FALSE</td><td>FALSE</td><td>TRUE</td><td>TRUE</td><td>TRUE</td><td>TRUE</td><td>TRUE</td><td>TRUE</td><td>FALSE</td><td>FALSE</td><td>...</td><td>FALSE</td><td>FALSE</td><td>FALSE</td><td>FALSE</td><td>FALSE</td><td>FALSE</td><td>FALSE</td><td>FALSE</td><td>FALSE</td><td>FALSE</td></tr>\n",
       "\t<tr><td>FALSE</td><td>FALSE</td><td>TRUE</td><td>TRUE</td><td>TRUE</td><td>TRUE</td><td>TRUE</td><td>TRUE</td><td>FALSE</td><td>FALSE</td><td>...</td><td>FALSE</td><td>FALSE</td><td>FALSE</td><td>FALSE</td><td>FALSE</td><td>FALSE</td><td>FALSE</td><td>FALSE</td><td>FALSE</td><td>FALSE</td></tr>\n",
       "\t<tr><td>FALSE</td><td>FALSE</td><td>TRUE</td><td>TRUE</td><td>TRUE</td><td>TRUE</td><td>TRUE</td><td>TRUE</td><td>FALSE</td><td>FALSE</td><td>...</td><td>FALSE</td><td>FALSE</td><td>FALSE</td><td>FALSE</td><td>FALSE</td><td>FALSE</td><td>FALSE</td><td>FALSE</td><td>FALSE</td><td>FALSE</td></tr>\n",
       "\t<tr><td>FALSE</td><td>FALSE</td><td>TRUE</td><td>TRUE</td><td>TRUE</td><td>TRUE</td><td>TRUE</td><td>TRUE</td><td>FALSE</td><td>FALSE</td><td>...</td><td>FALSE</td><td>FALSE</td><td>FALSE</td><td>FALSE</td><td>FALSE</td><td>FALSE</td><td>FALSE</td><td>FALSE</td><td>FALSE</td><td>FALSE</td></tr>\n",
       "\t<tr><td>FALSE</td><td>FALSE</td><td>TRUE</td><td>TRUE</td><td>TRUE</td><td>TRUE</td><td>TRUE</td><td>TRUE</td><td>FALSE</td><td>FALSE</td><td>...</td><td>FALSE</td><td>FALSE</td><td>FALSE</td><td>FALSE</td><td>FALSE</td><td>FALSE</td><td>FALSE</td><td>FALSE</td><td>FALSE</td><td>FALSE</td></tr>\n",
       "\t<tr><td>FALSE</td><td>FALSE</td><td>TRUE</td><td>TRUE</td><td>TRUE</td><td>TRUE</td><td>TRUE</td><td>TRUE</td><td>FALSE</td><td>FALSE</td><td>...</td><td>FALSE</td><td>FALSE</td><td>FALSE</td><td>FALSE</td><td>FALSE</td><td>FALSE</td><td>FALSE</td><td>FALSE</td><td>FALSE</td><td>FALSE</td></tr>\n",
       "\t<tr><td>FALSE</td><td>FALSE</td><td>TRUE</td><td>TRUE</td><td>TRUE</td><td>TRUE</td><td>TRUE</td><td>TRUE</td><td>FALSE</td><td>FALSE</td><td>...</td><td>FALSE</td><td>FALSE</td><td>FALSE</td><td>FALSE</td><td>FALSE</td><td>FALSE</td><td>FALSE</td><td>FALSE</td><td>FALSE</td><td>FALSE</td></tr>\n",
       "\t<tr><td>FALSE</td><td>FALSE</td><td>TRUE</td><td>TRUE</td><td>TRUE</td><td>TRUE</td><td>TRUE</td><td>TRUE</td><td>FALSE</td><td>FALSE</td><td>...</td><td>FALSE</td><td>FALSE</td><td>FALSE</td><td>FALSE</td><td>FALSE</td><td>FALSE</td><td>FALSE</td><td>FALSE</td><td>FALSE</td><td>FALSE</td></tr>\n",
       "\t<tr><td>FALSE</td><td>FALSE</td><td>TRUE</td><td>TRUE</td><td>TRUE</td><td>TRUE</td><td>TRUE</td><td>TRUE</td><td>FALSE</td><td>FALSE</td><td>...</td><td>FALSE</td><td>FALSE</td><td>FALSE</td><td>FALSE</td><td>FALSE</td><td>FALSE</td><td>FALSE</td><td>FALSE</td><td>FALSE</td><td>FALSE</td></tr>\n",
       "\t<tr><td>FALSE</td><td>FALSE</td><td>TRUE</td><td>TRUE</td><td>TRUE</td><td>TRUE</td><td>TRUE</td><td>TRUE</td><td>FALSE</td><td>FALSE</td><td>...</td><td>FALSE</td><td>FALSE</td><td>FALSE</td><td>FALSE</td><td>FALSE</td><td>FALSE</td><td>FALSE</td><td>FALSE</td><td>FALSE</td><td>FALSE</td></tr>\n",
       "\t<tr><td>FALSE</td><td>FALSE</td><td>TRUE</td><td>TRUE</td><td>TRUE</td><td>TRUE</td><td>TRUE</td><td>TRUE</td><td>FALSE</td><td>FALSE</td><td>...</td><td>FALSE</td><td>FALSE</td><td>FALSE</td><td>FALSE</td><td>FALSE</td><td>FALSE</td><td>FALSE</td><td>FALSE</td><td>FALSE</td><td>FALSE</td></tr>\n",
       "\t<tr><td>FALSE</td><td>FALSE</td><td>TRUE</td><td>TRUE</td><td>TRUE</td><td>TRUE</td><td>TRUE</td><td>TRUE</td><td>FALSE</td><td>FALSE</td><td>...</td><td>FALSE</td><td>FALSE</td><td>FALSE</td><td>FALSE</td><td>FALSE</td><td>FALSE</td><td>FALSE</td><td>FALSE</td><td>FALSE</td><td>FALSE</td></tr>\n",
       "\t<tr><td>FALSE</td><td>FALSE</td><td>TRUE</td><td>TRUE</td><td>TRUE</td><td>TRUE</td><td>TRUE</td><td>TRUE</td><td>FALSE</td><td>FALSE</td><td>...</td><td>FALSE</td><td>FALSE</td><td>FALSE</td><td>FALSE</td><td>FALSE</td><td>FALSE</td><td>FALSE</td><td>FALSE</td><td>FALSE</td><td>FALSE</td></tr>\n",
       "\t<tr><td>FALSE</td><td>FALSE</td><td>TRUE</td><td>TRUE</td><td>TRUE</td><td>TRUE</td><td>TRUE</td><td>TRUE</td><td>FALSE</td><td>FALSE</td><td>...</td><td>FALSE</td><td>FALSE</td><td>FALSE</td><td>FALSE</td><td>FALSE</td><td>FALSE</td><td>FALSE</td><td>FALSE</td><td>FALSE</td><td>FALSE</td></tr>\n",
       "\t<tr><td>FALSE</td><td>FALSE</td><td>TRUE</td><td>TRUE</td><td>TRUE</td><td>TRUE</td><td>TRUE</td><td>TRUE</td><td>FALSE</td><td>FALSE</td><td>...</td><td>FALSE</td><td>FALSE</td><td>FALSE</td><td>FALSE</td><td>FALSE</td><td>FALSE</td><td>FALSE</td><td>FALSE</td><td>FALSE</td><td>FALSE</td></tr>\n",
       "\t<tr><td>FALSE</td><td>FALSE</td><td>TRUE</td><td>TRUE</td><td>TRUE</td><td>TRUE</td><td>TRUE</td><td>TRUE</td><td>FALSE</td><td>FALSE</td><td>...</td><td>FALSE</td><td>FALSE</td><td>FALSE</td><td>FALSE</td><td>FALSE</td><td>FALSE</td><td>FALSE</td><td>FALSE</td><td>FALSE</td><td>FALSE</td></tr>\n",
       "\t<tr><td>FALSE</td><td>FALSE</td><td>TRUE</td><td>TRUE</td><td>TRUE</td><td>TRUE</td><td>TRUE</td><td>TRUE</td><td>FALSE</td><td>FALSE</td><td>...</td><td>FALSE</td><td>FALSE</td><td>FALSE</td><td>FALSE</td><td>FALSE</td><td>FALSE</td><td>FALSE</td><td>FALSE</td><td>FALSE</td><td>FALSE</td></tr>\n",
       "</tbody>\n",
       "</table>\n"
      ],
      "text/latex": [
       "A matrix: 10000 × 53 of type lgl\n",
       "\\begin{tabular}{lllllllllllllllllllll}\n",
       " ...1 & CaseOrder & Customer\\_id & Interaction & UID & City & State & County & Zip & Lat & ... & TotalCharge & Additional\\_charges & Survey\\_TimelyAdmin & Survey\\_TimelyTreatment & Survey\\_TimelyVisits & Survey\\_Reliability & Survey\\_Options & Survey\\_HoursTreatment & Survey\\_CourteousStaff & Survey\\_ActiveListening\\\\\n",
       "\\hline\n",
       "\t FALSE & FALSE & TRUE & TRUE & TRUE & TRUE & TRUE & TRUE & FALSE & FALSE & ... & FALSE & FALSE & FALSE & FALSE & FALSE & FALSE & FALSE & FALSE & FALSE & FALSE\\\\\n",
       "\t FALSE & FALSE & TRUE & TRUE & TRUE & TRUE & TRUE & TRUE & FALSE & FALSE & ... & FALSE & FALSE & FALSE & FALSE & FALSE & FALSE & FALSE & FALSE & FALSE & FALSE\\\\\n",
       "\t FALSE & FALSE & TRUE & TRUE & TRUE & TRUE & TRUE & TRUE & FALSE & FALSE & ... & FALSE & FALSE & FALSE & FALSE & FALSE & FALSE & FALSE & FALSE & FALSE & FALSE\\\\\n",
       "\t FALSE & FALSE & TRUE & TRUE & TRUE & TRUE & TRUE & TRUE & FALSE & FALSE & ... & FALSE & FALSE & FALSE & FALSE & FALSE & FALSE & FALSE & FALSE & FALSE & FALSE\\\\\n",
       "\t FALSE & FALSE & TRUE & TRUE & TRUE & TRUE & TRUE & TRUE & FALSE & FALSE & ... & FALSE & FALSE & FALSE & FALSE & FALSE & FALSE & FALSE & FALSE & FALSE & FALSE\\\\\n",
       "\t FALSE & FALSE & TRUE & TRUE & TRUE & TRUE & TRUE & TRUE & FALSE & FALSE & ... & FALSE & FALSE & FALSE & FALSE & FALSE & FALSE & FALSE & FALSE & FALSE & FALSE\\\\\n",
       "\t FALSE & FALSE & TRUE & TRUE & TRUE & TRUE & TRUE & TRUE & FALSE & FALSE & ... & FALSE & FALSE & FALSE & FALSE & FALSE & FALSE & FALSE & FALSE & FALSE & FALSE\\\\\n",
       "\t FALSE & FALSE & TRUE & TRUE & TRUE & TRUE & TRUE & TRUE & FALSE & FALSE & ... & FALSE & FALSE & FALSE & FALSE & FALSE & FALSE & FALSE & FALSE & FALSE & FALSE\\\\\n",
       "\t FALSE & FALSE & TRUE & TRUE & TRUE & TRUE & TRUE & TRUE & FALSE & FALSE & ... & FALSE & FALSE & FALSE & FALSE & FALSE & FALSE & FALSE & FALSE & FALSE & FALSE\\\\\n",
       "\t FALSE & FALSE & TRUE & TRUE & TRUE & TRUE & TRUE & TRUE & FALSE & FALSE & ... & FALSE & FALSE & FALSE & FALSE & FALSE & FALSE & FALSE & FALSE & FALSE & FALSE\\\\\n",
       "\t FALSE & FALSE & TRUE & TRUE & TRUE & TRUE & TRUE & TRUE & FALSE & FALSE & ... & FALSE & FALSE & FALSE & FALSE & FALSE & FALSE & FALSE & FALSE & FALSE & FALSE\\\\\n",
       "\t FALSE & FALSE & TRUE & TRUE & TRUE & TRUE & TRUE & TRUE & FALSE & FALSE & ... & FALSE & FALSE & FALSE & FALSE & FALSE & FALSE & FALSE & FALSE & FALSE & FALSE\\\\\n",
       "\t FALSE & FALSE & TRUE & TRUE & TRUE & TRUE & TRUE & TRUE & FALSE & FALSE & ... & FALSE & FALSE & FALSE & FALSE & FALSE & FALSE & FALSE & FALSE & FALSE & FALSE\\\\\n",
       "\t FALSE & FALSE & TRUE & TRUE & TRUE & TRUE & TRUE & TRUE & FALSE & FALSE & ... & FALSE & FALSE & FALSE & FALSE & FALSE & FALSE & FALSE & FALSE & FALSE & FALSE\\\\\n",
       "\t FALSE & FALSE & TRUE & TRUE & TRUE & TRUE & TRUE & TRUE & FALSE & FALSE & ... & FALSE & FALSE & FALSE & FALSE & FALSE & FALSE & FALSE & FALSE & FALSE & FALSE\\\\\n",
       "\t FALSE & FALSE & TRUE & TRUE & TRUE & TRUE & TRUE & TRUE & FALSE & FALSE & ... & FALSE & FALSE & FALSE & FALSE & FALSE & FALSE & FALSE & FALSE & FALSE & FALSE\\\\\n",
       "\t FALSE & FALSE & TRUE & TRUE & TRUE & TRUE & TRUE & TRUE & FALSE & FALSE & ... & FALSE & FALSE & FALSE & FALSE & FALSE & FALSE & FALSE & FALSE & FALSE & FALSE\\\\\n",
       "\t FALSE & FALSE & TRUE & TRUE & TRUE & TRUE & TRUE & TRUE & FALSE & FALSE & ... & FALSE & FALSE & FALSE & FALSE & FALSE & FALSE & FALSE & FALSE & FALSE & FALSE\\\\\n",
       "\t FALSE & FALSE & TRUE & TRUE & TRUE & TRUE & TRUE & TRUE & FALSE & FALSE & ... & FALSE & FALSE & FALSE & FALSE & FALSE & FALSE & FALSE & FALSE & FALSE & FALSE\\\\\n",
       "\t FALSE & FALSE & TRUE & TRUE & TRUE & TRUE & TRUE & TRUE & FALSE & FALSE & ... & FALSE & FALSE & FALSE & FALSE & FALSE & FALSE & FALSE & FALSE & FALSE & FALSE\\\\\n",
       "\t FALSE & FALSE & TRUE & TRUE & TRUE & TRUE & TRUE & TRUE & FALSE & FALSE & ... & FALSE & FALSE & FALSE & FALSE & FALSE & FALSE & FALSE & FALSE & FALSE & FALSE\\\\\n",
       "\t FALSE & FALSE & TRUE & TRUE & TRUE & TRUE & TRUE & TRUE & FALSE & FALSE & ... & FALSE & FALSE & FALSE & FALSE & FALSE & FALSE & FALSE & FALSE & FALSE & FALSE\\\\\n",
       "\t FALSE & FALSE & TRUE & TRUE & TRUE & TRUE & TRUE & TRUE & FALSE & FALSE & ... & FALSE & FALSE & FALSE & FALSE & FALSE & FALSE & FALSE & FALSE & FALSE & FALSE\\\\\n",
       "\t FALSE & FALSE & TRUE & TRUE & TRUE & TRUE & TRUE & TRUE & FALSE & FALSE & ... & FALSE & FALSE & FALSE & FALSE & FALSE & FALSE & FALSE & FALSE & FALSE & FALSE\\\\\n",
       "\t FALSE & FALSE & TRUE & TRUE & TRUE & TRUE & TRUE & TRUE & FALSE & FALSE & ... & FALSE & FALSE & FALSE & FALSE & FALSE & FALSE & FALSE & FALSE & FALSE & FALSE\\\\\n",
       "\t FALSE & FALSE & TRUE & TRUE & TRUE & TRUE & TRUE & TRUE & FALSE & FALSE & ... & FALSE & FALSE & FALSE & FALSE & FALSE & FALSE & FALSE & FALSE & FALSE & FALSE\\\\\n",
       "\t FALSE & FALSE & TRUE & TRUE & TRUE & TRUE & TRUE & TRUE & FALSE & FALSE & ... & FALSE & FALSE & FALSE & FALSE & FALSE & FALSE & FALSE & FALSE & FALSE & FALSE\\\\\n",
       "\t FALSE & FALSE & TRUE & TRUE & TRUE & TRUE & TRUE & TRUE & FALSE & FALSE & ... & FALSE & FALSE & FALSE & FALSE & FALSE & FALSE & FALSE & FALSE & FALSE & FALSE\\\\\n",
       "\t FALSE & FALSE & TRUE & TRUE & TRUE & TRUE & TRUE & TRUE & FALSE & FALSE & ... & FALSE & FALSE & FALSE & FALSE & FALSE & FALSE & FALSE & FALSE & FALSE & FALSE\\\\\n",
       "\t FALSE & FALSE & TRUE & TRUE & TRUE & TRUE & TRUE & TRUE & FALSE & FALSE & ... & FALSE & FALSE & FALSE & FALSE & FALSE & FALSE & FALSE & FALSE & FALSE & FALSE\\\\\n",
       "\t ... & ... & ... & ... & ... & ... & ... & ... & ... & ... &  & ... & ... & ... & ... & ... & ... & ... & ... & ... & ...\\\\\n",
       "\t FALSE & FALSE & TRUE & TRUE & TRUE & TRUE & TRUE & TRUE & FALSE & FALSE & ... & FALSE & FALSE & FALSE & FALSE & FALSE & FALSE & FALSE & FALSE & FALSE & FALSE\\\\\n",
       "\t FALSE & FALSE & TRUE & TRUE & TRUE & TRUE & TRUE & TRUE & FALSE & FALSE & ... & FALSE & FALSE & FALSE & FALSE & FALSE & FALSE & FALSE & FALSE & FALSE & FALSE\\\\\n",
       "\t FALSE & FALSE & TRUE & TRUE & TRUE & TRUE & TRUE & TRUE & FALSE & FALSE & ... & FALSE & FALSE & FALSE & FALSE & FALSE & FALSE & FALSE & FALSE & FALSE & FALSE\\\\\n",
       "\t FALSE & FALSE & TRUE & TRUE & TRUE & TRUE & TRUE & TRUE & FALSE & FALSE & ... & FALSE & FALSE & FALSE & FALSE & FALSE & FALSE & FALSE & FALSE & FALSE & FALSE\\\\\n",
       "\t FALSE & FALSE & TRUE & TRUE & TRUE & TRUE & TRUE & TRUE & FALSE & FALSE & ... & FALSE & FALSE & FALSE & FALSE & FALSE & FALSE & FALSE & FALSE & FALSE & FALSE\\\\\n",
       "\t FALSE & FALSE & TRUE & TRUE & TRUE & TRUE & TRUE & TRUE & FALSE & FALSE & ... & FALSE & FALSE & FALSE & FALSE & FALSE & FALSE & FALSE & FALSE & FALSE & FALSE\\\\\n",
       "\t FALSE & FALSE & TRUE & TRUE & TRUE & TRUE & TRUE & TRUE & FALSE & FALSE & ... & FALSE & FALSE & FALSE & FALSE & FALSE & FALSE & FALSE & FALSE & FALSE & FALSE\\\\\n",
       "\t FALSE & FALSE & TRUE & TRUE & TRUE & TRUE & TRUE & TRUE & FALSE & FALSE & ... & FALSE & FALSE & FALSE & FALSE & FALSE & FALSE & FALSE & FALSE & FALSE & FALSE\\\\\n",
       "\t FALSE & FALSE & TRUE & TRUE & TRUE & TRUE & TRUE & TRUE & FALSE & FALSE & ... & FALSE & FALSE & FALSE & FALSE & FALSE & FALSE & FALSE & FALSE & FALSE & FALSE\\\\\n",
       "\t FALSE & FALSE & TRUE & TRUE & TRUE & TRUE & TRUE & TRUE & FALSE & FALSE & ... & FALSE & FALSE & FALSE & FALSE & FALSE & FALSE & FALSE & FALSE & FALSE & FALSE\\\\\n",
       "\t FALSE & FALSE & TRUE & TRUE & TRUE & TRUE & TRUE & TRUE & FALSE & FALSE & ... & FALSE & FALSE & FALSE & FALSE & FALSE & FALSE & FALSE & FALSE & FALSE & FALSE\\\\\n",
       "\t FALSE & FALSE & TRUE & TRUE & TRUE & TRUE & TRUE & TRUE & FALSE & FALSE & ... & FALSE & FALSE & FALSE & FALSE & FALSE & FALSE & FALSE & FALSE & FALSE & FALSE\\\\\n",
       "\t FALSE & FALSE & TRUE & TRUE & TRUE & TRUE & TRUE & TRUE & FALSE & FALSE & ... & FALSE & FALSE & FALSE & FALSE & FALSE & FALSE & FALSE & FALSE & FALSE & FALSE\\\\\n",
       "\t FALSE & FALSE & TRUE & TRUE & TRUE & TRUE & TRUE & TRUE & FALSE & FALSE & ... & FALSE & FALSE & FALSE & FALSE & FALSE & FALSE & FALSE & FALSE & FALSE & FALSE\\\\\n",
       "\t FALSE & FALSE & TRUE & TRUE & TRUE & TRUE & TRUE & TRUE & FALSE & FALSE & ... & FALSE & FALSE & FALSE & FALSE & FALSE & FALSE & FALSE & FALSE & FALSE & FALSE\\\\\n",
       "\t FALSE & FALSE & TRUE & TRUE & TRUE & TRUE & TRUE & TRUE & FALSE & FALSE & ... & FALSE & FALSE & FALSE & FALSE & FALSE & FALSE & FALSE & FALSE & FALSE & FALSE\\\\\n",
       "\t FALSE & FALSE & TRUE & TRUE & TRUE & TRUE & TRUE & TRUE & FALSE & FALSE & ... & FALSE & FALSE & FALSE & FALSE & FALSE & FALSE & FALSE & FALSE & FALSE & FALSE\\\\\n",
       "\t FALSE & FALSE & TRUE & TRUE & TRUE & TRUE & TRUE & TRUE & FALSE & FALSE & ... & FALSE & FALSE & FALSE & FALSE & FALSE & FALSE & FALSE & FALSE & FALSE & FALSE\\\\\n",
       "\t FALSE & FALSE & TRUE & TRUE & TRUE & TRUE & TRUE & TRUE & FALSE & FALSE & ... & FALSE & FALSE & FALSE & FALSE & FALSE & FALSE & FALSE & FALSE & FALSE & FALSE\\\\\n",
       "\t FALSE & FALSE & TRUE & TRUE & TRUE & TRUE & TRUE & TRUE & FALSE & FALSE & ... & FALSE & FALSE & FALSE & FALSE & FALSE & FALSE & FALSE & FALSE & FALSE & FALSE\\\\\n",
       "\t FALSE & FALSE & TRUE & TRUE & TRUE & TRUE & TRUE & TRUE & FALSE & FALSE & ... & FALSE & FALSE & FALSE & FALSE & FALSE & FALSE & FALSE & FALSE & FALSE & FALSE\\\\\n",
       "\t FALSE & FALSE & TRUE & TRUE & TRUE & TRUE & TRUE & TRUE & FALSE & FALSE & ... & FALSE & FALSE & FALSE & FALSE & FALSE & FALSE & FALSE & FALSE & FALSE & FALSE\\\\\n",
       "\t FALSE & FALSE & TRUE & TRUE & TRUE & TRUE & TRUE & TRUE & FALSE & FALSE & ... & FALSE & FALSE & FALSE & FALSE & FALSE & FALSE & FALSE & FALSE & FALSE & FALSE\\\\\n",
       "\t FALSE & FALSE & TRUE & TRUE & TRUE & TRUE & TRUE & TRUE & FALSE & FALSE & ... & FALSE & FALSE & FALSE & FALSE & FALSE & FALSE & FALSE & FALSE & FALSE & FALSE\\\\\n",
       "\t FALSE & FALSE & TRUE & TRUE & TRUE & TRUE & TRUE & TRUE & FALSE & FALSE & ... & FALSE & FALSE & FALSE & FALSE & FALSE & FALSE & FALSE & FALSE & FALSE & FALSE\\\\\n",
       "\t FALSE & FALSE & TRUE & TRUE & TRUE & TRUE & TRUE & TRUE & FALSE & FALSE & ... & FALSE & FALSE & FALSE & FALSE & FALSE & FALSE & FALSE & FALSE & FALSE & FALSE\\\\\n",
       "\t FALSE & FALSE & TRUE & TRUE & TRUE & TRUE & TRUE & TRUE & FALSE & FALSE & ... & FALSE & FALSE & FALSE & FALSE & FALSE & FALSE & FALSE & FALSE & FALSE & FALSE\\\\\n",
       "\t FALSE & FALSE & TRUE & TRUE & TRUE & TRUE & TRUE & TRUE & FALSE & FALSE & ... & FALSE & FALSE & FALSE & FALSE & FALSE & FALSE & FALSE & FALSE & FALSE & FALSE\\\\\n",
       "\t FALSE & FALSE & TRUE & TRUE & TRUE & TRUE & TRUE & TRUE & FALSE & FALSE & ... & FALSE & FALSE & FALSE & FALSE & FALSE & FALSE & FALSE & FALSE & FALSE & FALSE\\\\\n",
       "\t FALSE & FALSE & TRUE & TRUE & TRUE & TRUE & TRUE & TRUE & FALSE & FALSE & ... & FALSE & FALSE & FALSE & FALSE & FALSE & FALSE & FALSE & FALSE & FALSE & FALSE\\\\\n",
       "\\end{tabular}\n"
      ],
      "text/markdown": [
       "\n",
       "A matrix: 10000 × 53 of type lgl\n",
       "\n",
       "| ...1 | CaseOrder | Customer_id | Interaction | UID | City | State | County | Zip | Lat | ... | TotalCharge | Additional_charges | Survey_TimelyAdmin | Survey_TimelyTreatment | Survey_TimelyVisits | Survey_Reliability | Survey_Options | Survey_HoursTreatment | Survey_CourteousStaff | Survey_ActiveListening |\n",
       "|---|---|---|---|---|---|---|---|---|---|---|---|---|---|---|---|---|---|---|---|---|\n",
       "| FALSE | FALSE | TRUE | TRUE | TRUE | TRUE | TRUE | TRUE | FALSE | FALSE | ... | FALSE | FALSE | FALSE | FALSE | FALSE | FALSE | FALSE | FALSE | FALSE | FALSE |\n",
       "| FALSE | FALSE | TRUE | TRUE | TRUE | TRUE | TRUE | TRUE | FALSE | FALSE | ... | FALSE | FALSE | FALSE | FALSE | FALSE | FALSE | FALSE | FALSE | FALSE | FALSE |\n",
       "| FALSE | FALSE | TRUE | TRUE | TRUE | TRUE | TRUE | TRUE | FALSE | FALSE | ... | FALSE | FALSE | FALSE | FALSE | FALSE | FALSE | FALSE | FALSE | FALSE | FALSE |\n",
       "| FALSE | FALSE | TRUE | TRUE | TRUE | TRUE | TRUE | TRUE | FALSE | FALSE | ... | FALSE | FALSE | FALSE | FALSE | FALSE | FALSE | FALSE | FALSE | FALSE | FALSE |\n",
       "| FALSE | FALSE | TRUE | TRUE | TRUE | TRUE | TRUE | TRUE | FALSE | FALSE | ... | FALSE | FALSE | FALSE | FALSE | FALSE | FALSE | FALSE | FALSE | FALSE | FALSE |\n",
       "| FALSE | FALSE | TRUE | TRUE | TRUE | TRUE | TRUE | TRUE | FALSE | FALSE | ... | FALSE | FALSE | FALSE | FALSE | FALSE | FALSE | FALSE | FALSE | FALSE | FALSE |\n",
       "| FALSE | FALSE | TRUE | TRUE | TRUE | TRUE | TRUE | TRUE | FALSE | FALSE | ... | FALSE | FALSE | FALSE | FALSE | FALSE | FALSE | FALSE | FALSE | FALSE | FALSE |\n",
       "| FALSE | FALSE | TRUE | TRUE | TRUE | TRUE | TRUE | TRUE | FALSE | FALSE | ... | FALSE | FALSE | FALSE | FALSE | FALSE | FALSE | FALSE | FALSE | FALSE | FALSE |\n",
       "| FALSE | FALSE | TRUE | TRUE | TRUE | TRUE | TRUE | TRUE | FALSE | FALSE | ... | FALSE | FALSE | FALSE | FALSE | FALSE | FALSE | FALSE | FALSE | FALSE | FALSE |\n",
       "| FALSE | FALSE | TRUE | TRUE | TRUE | TRUE | TRUE | TRUE | FALSE | FALSE | ... | FALSE | FALSE | FALSE | FALSE | FALSE | FALSE | FALSE | FALSE | FALSE | FALSE |\n",
       "| FALSE | FALSE | TRUE | TRUE | TRUE | TRUE | TRUE | TRUE | FALSE | FALSE | ... | FALSE | FALSE | FALSE | FALSE | FALSE | FALSE | FALSE | FALSE | FALSE | FALSE |\n",
       "| FALSE | FALSE | TRUE | TRUE | TRUE | TRUE | TRUE | TRUE | FALSE | FALSE | ... | FALSE | FALSE | FALSE | FALSE | FALSE | FALSE | FALSE | FALSE | FALSE | FALSE |\n",
       "| FALSE | FALSE | TRUE | TRUE | TRUE | TRUE | TRUE | TRUE | FALSE | FALSE | ... | FALSE | FALSE | FALSE | FALSE | FALSE | FALSE | FALSE | FALSE | FALSE | FALSE |\n",
       "| FALSE | FALSE | TRUE | TRUE | TRUE | TRUE | TRUE | TRUE | FALSE | FALSE | ... | FALSE | FALSE | FALSE | FALSE | FALSE | FALSE | FALSE | FALSE | FALSE | FALSE |\n",
       "| FALSE | FALSE | TRUE | TRUE | TRUE | TRUE | TRUE | TRUE | FALSE | FALSE | ... | FALSE | FALSE | FALSE | FALSE | FALSE | FALSE | FALSE | FALSE | FALSE | FALSE |\n",
       "| FALSE | FALSE | TRUE | TRUE | TRUE | TRUE | TRUE | TRUE | FALSE | FALSE | ... | FALSE | FALSE | FALSE | FALSE | FALSE | FALSE | FALSE | FALSE | FALSE | FALSE |\n",
       "| FALSE | FALSE | TRUE | TRUE | TRUE | TRUE | TRUE | TRUE | FALSE | FALSE | ... | FALSE | FALSE | FALSE | FALSE | FALSE | FALSE | FALSE | FALSE | FALSE | FALSE |\n",
       "| FALSE | FALSE | TRUE | TRUE | TRUE | TRUE | TRUE | TRUE | FALSE | FALSE | ... | FALSE | FALSE | FALSE | FALSE | FALSE | FALSE | FALSE | FALSE | FALSE | FALSE |\n",
       "| FALSE | FALSE | TRUE | TRUE | TRUE | TRUE | TRUE | TRUE | FALSE | FALSE | ... | FALSE | FALSE | FALSE | FALSE | FALSE | FALSE | FALSE | FALSE | FALSE | FALSE |\n",
       "| FALSE | FALSE | TRUE | TRUE | TRUE | TRUE | TRUE | TRUE | FALSE | FALSE | ... | FALSE | FALSE | FALSE | FALSE | FALSE | FALSE | FALSE | FALSE | FALSE | FALSE |\n",
       "| FALSE | FALSE | TRUE | TRUE | TRUE | TRUE | TRUE | TRUE | FALSE | FALSE | ... | FALSE | FALSE | FALSE | FALSE | FALSE | FALSE | FALSE | FALSE | FALSE | FALSE |\n",
       "| FALSE | FALSE | TRUE | TRUE | TRUE | TRUE | TRUE | TRUE | FALSE | FALSE | ... | FALSE | FALSE | FALSE | FALSE | FALSE | FALSE | FALSE | FALSE | FALSE | FALSE |\n",
       "| FALSE | FALSE | TRUE | TRUE | TRUE | TRUE | TRUE | TRUE | FALSE | FALSE | ... | FALSE | FALSE | FALSE | FALSE | FALSE | FALSE | FALSE | FALSE | FALSE | FALSE |\n",
       "| FALSE | FALSE | TRUE | TRUE | TRUE | TRUE | TRUE | TRUE | FALSE | FALSE | ... | FALSE | FALSE | FALSE | FALSE | FALSE | FALSE | FALSE | FALSE | FALSE | FALSE |\n",
       "| FALSE | FALSE | TRUE | TRUE | TRUE | TRUE | TRUE | TRUE | FALSE | FALSE | ... | FALSE | FALSE | FALSE | FALSE | FALSE | FALSE | FALSE | FALSE | FALSE | FALSE |\n",
       "| FALSE | FALSE | TRUE | TRUE | TRUE | TRUE | TRUE | TRUE | FALSE | FALSE | ... | FALSE | FALSE | FALSE | FALSE | FALSE | FALSE | FALSE | FALSE | FALSE | FALSE |\n",
       "| FALSE | FALSE | TRUE | TRUE | TRUE | TRUE | TRUE | TRUE | FALSE | FALSE | ... | FALSE | FALSE | FALSE | FALSE | FALSE | FALSE | FALSE | FALSE | FALSE | FALSE |\n",
       "| FALSE | FALSE | TRUE | TRUE | TRUE | TRUE | TRUE | TRUE | FALSE | FALSE | ... | FALSE | FALSE | FALSE | FALSE | FALSE | FALSE | FALSE | FALSE | FALSE | FALSE |\n",
       "| FALSE | FALSE | TRUE | TRUE | TRUE | TRUE | TRUE | TRUE | FALSE | FALSE | ... | FALSE | FALSE | FALSE | FALSE | FALSE | FALSE | FALSE | FALSE | FALSE | FALSE |\n",
       "| FALSE | FALSE | TRUE | TRUE | TRUE | TRUE | TRUE | TRUE | FALSE | FALSE | ... | FALSE | FALSE | FALSE | FALSE | FALSE | FALSE | FALSE | FALSE | FALSE | FALSE |\n",
       "| ... | ... | ... | ... | ... | ... | ... | ... | ... | ... | <!----> | ... | ... | ... | ... | ... | ... | ... | ... | ... | ... |\n",
       "| FALSE | FALSE | TRUE | TRUE | TRUE | TRUE | TRUE | TRUE | FALSE | FALSE | ... | FALSE | FALSE | FALSE | FALSE | FALSE | FALSE | FALSE | FALSE | FALSE | FALSE |\n",
       "| FALSE | FALSE | TRUE | TRUE | TRUE | TRUE | TRUE | TRUE | FALSE | FALSE | ... | FALSE | FALSE | FALSE | FALSE | FALSE | FALSE | FALSE | FALSE | FALSE | FALSE |\n",
       "| FALSE | FALSE | TRUE | TRUE | TRUE | TRUE | TRUE | TRUE | FALSE | FALSE | ... | FALSE | FALSE | FALSE | FALSE | FALSE | FALSE | FALSE | FALSE | FALSE | FALSE |\n",
       "| FALSE | FALSE | TRUE | TRUE | TRUE | TRUE | TRUE | TRUE | FALSE | FALSE | ... | FALSE | FALSE | FALSE | FALSE | FALSE | FALSE | FALSE | FALSE | FALSE | FALSE |\n",
       "| FALSE | FALSE | TRUE | TRUE | TRUE | TRUE | TRUE | TRUE | FALSE | FALSE | ... | FALSE | FALSE | FALSE | FALSE | FALSE | FALSE | FALSE | FALSE | FALSE | FALSE |\n",
       "| FALSE | FALSE | TRUE | TRUE | TRUE | TRUE | TRUE | TRUE | FALSE | FALSE | ... | FALSE | FALSE | FALSE | FALSE | FALSE | FALSE | FALSE | FALSE | FALSE | FALSE |\n",
       "| FALSE | FALSE | TRUE | TRUE | TRUE | TRUE | TRUE | TRUE | FALSE | FALSE | ... | FALSE | FALSE | FALSE | FALSE | FALSE | FALSE | FALSE | FALSE | FALSE | FALSE |\n",
       "| FALSE | FALSE | TRUE | TRUE | TRUE | TRUE | TRUE | TRUE | FALSE | FALSE | ... | FALSE | FALSE | FALSE | FALSE | FALSE | FALSE | FALSE | FALSE | FALSE | FALSE |\n",
       "| FALSE | FALSE | TRUE | TRUE | TRUE | TRUE | TRUE | TRUE | FALSE | FALSE | ... | FALSE | FALSE | FALSE | FALSE | FALSE | FALSE | FALSE | FALSE | FALSE | FALSE |\n",
       "| FALSE | FALSE | TRUE | TRUE | TRUE | TRUE | TRUE | TRUE | FALSE | FALSE | ... | FALSE | FALSE | FALSE | FALSE | FALSE | FALSE | FALSE | FALSE | FALSE | FALSE |\n",
       "| FALSE | FALSE | TRUE | TRUE | TRUE | TRUE | TRUE | TRUE | FALSE | FALSE | ... | FALSE | FALSE | FALSE | FALSE | FALSE | FALSE | FALSE | FALSE | FALSE | FALSE |\n",
       "| FALSE | FALSE | TRUE | TRUE | TRUE | TRUE | TRUE | TRUE | FALSE | FALSE | ... | FALSE | FALSE | FALSE | FALSE | FALSE | FALSE | FALSE | FALSE | FALSE | FALSE |\n",
       "| FALSE | FALSE | TRUE | TRUE | TRUE | TRUE | TRUE | TRUE | FALSE | FALSE | ... | FALSE | FALSE | FALSE | FALSE | FALSE | FALSE | FALSE | FALSE | FALSE | FALSE |\n",
       "| FALSE | FALSE | TRUE | TRUE | TRUE | TRUE | TRUE | TRUE | FALSE | FALSE | ... | FALSE | FALSE | FALSE | FALSE | FALSE | FALSE | FALSE | FALSE | FALSE | FALSE |\n",
       "| FALSE | FALSE | TRUE | TRUE | TRUE | TRUE | TRUE | TRUE | FALSE | FALSE | ... | FALSE | FALSE | FALSE | FALSE | FALSE | FALSE | FALSE | FALSE | FALSE | FALSE |\n",
       "| FALSE | FALSE | TRUE | TRUE | TRUE | TRUE | TRUE | TRUE | FALSE | FALSE | ... | FALSE | FALSE | FALSE | FALSE | FALSE | FALSE | FALSE | FALSE | FALSE | FALSE |\n",
       "| FALSE | FALSE | TRUE | TRUE | TRUE | TRUE | TRUE | TRUE | FALSE | FALSE | ... | FALSE | FALSE | FALSE | FALSE | FALSE | FALSE | FALSE | FALSE | FALSE | FALSE |\n",
       "| FALSE | FALSE | TRUE | TRUE | TRUE | TRUE | TRUE | TRUE | FALSE | FALSE | ... | FALSE | FALSE | FALSE | FALSE | FALSE | FALSE | FALSE | FALSE | FALSE | FALSE |\n",
       "| FALSE | FALSE | TRUE | TRUE | TRUE | TRUE | TRUE | TRUE | FALSE | FALSE | ... | FALSE | FALSE | FALSE | FALSE | FALSE | FALSE | FALSE | FALSE | FALSE | FALSE |\n",
       "| FALSE | FALSE | TRUE | TRUE | TRUE | TRUE | TRUE | TRUE | FALSE | FALSE | ... | FALSE | FALSE | FALSE | FALSE | FALSE | FALSE | FALSE | FALSE | FALSE | FALSE |\n",
       "| FALSE | FALSE | TRUE | TRUE | TRUE | TRUE | TRUE | TRUE | FALSE | FALSE | ... | FALSE | FALSE | FALSE | FALSE | FALSE | FALSE | FALSE | FALSE | FALSE | FALSE |\n",
       "| FALSE | FALSE | TRUE | TRUE | TRUE | TRUE | TRUE | TRUE | FALSE | FALSE | ... | FALSE | FALSE | FALSE | FALSE | FALSE | FALSE | FALSE | FALSE | FALSE | FALSE |\n",
       "| FALSE | FALSE | TRUE | TRUE | TRUE | TRUE | TRUE | TRUE | FALSE | FALSE | ... | FALSE | FALSE | FALSE | FALSE | FALSE | FALSE | FALSE | FALSE | FALSE | FALSE |\n",
       "| FALSE | FALSE | TRUE | TRUE | TRUE | TRUE | TRUE | TRUE | FALSE | FALSE | ... | FALSE | FALSE | FALSE | FALSE | FALSE | FALSE | FALSE | FALSE | FALSE | FALSE |\n",
       "| FALSE | FALSE | TRUE | TRUE | TRUE | TRUE | TRUE | TRUE | FALSE | FALSE | ... | FALSE | FALSE | FALSE | FALSE | FALSE | FALSE | FALSE | FALSE | FALSE | FALSE |\n",
       "| FALSE | FALSE | TRUE | TRUE | TRUE | TRUE | TRUE | TRUE | FALSE | FALSE | ... | FALSE | FALSE | FALSE | FALSE | FALSE | FALSE | FALSE | FALSE | FALSE | FALSE |\n",
       "| FALSE | FALSE | TRUE | TRUE | TRUE | TRUE | TRUE | TRUE | FALSE | FALSE | ... | FALSE | FALSE | FALSE | FALSE | FALSE | FALSE | FALSE | FALSE | FALSE | FALSE |\n",
       "| FALSE | FALSE | TRUE | TRUE | TRUE | TRUE | TRUE | TRUE | FALSE | FALSE | ... | FALSE | FALSE | FALSE | FALSE | FALSE | FALSE | FALSE | FALSE | FALSE | FALSE |\n",
       "| FALSE | FALSE | TRUE | TRUE | TRUE | TRUE | TRUE | TRUE | FALSE | FALSE | ... | FALSE | FALSE | FALSE | FALSE | FALSE | FALSE | FALSE | FALSE | FALSE | FALSE |\n",
       "| FALSE | FALSE | TRUE | TRUE | TRUE | TRUE | TRUE | TRUE | FALSE | FALSE | ... | FALSE | FALSE | FALSE | FALSE | FALSE | FALSE | FALSE | FALSE | FALSE | FALSE |\n",
       "\n"
      ],
      "text/plain": [
       "      ...1  CaseOrder Customer_id Interaction UID  City State County Zip  \n",
       " [1,] FALSE FALSE     TRUE        TRUE        TRUE TRUE TRUE  TRUE   FALSE\n",
       " [2,] FALSE FALSE     TRUE        TRUE        TRUE TRUE TRUE  TRUE   FALSE\n",
       " [3,] FALSE FALSE     TRUE        TRUE        TRUE TRUE TRUE  TRUE   FALSE\n",
       " [4,] FALSE FALSE     TRUE        TRUE        TRUE TRUE TRUE  TRUE   FALSE\n",
       " [5,] FALSE FALSE     TRUE        TRUE        TRUE TRUE TRUE  TRUE   FALSE\n",
       " [6,] FALSE FALSE     TRUE        TRUE        TRUE TRUE TRUE  TRUE   FALSE\n",
       " [7,] FALSE FALSE     TRUE        TRUE        TRUE TRUE TRUE  TRUE   FALSE\n",
       " [8,] FALSE FALSE     TRUE        TRUE        TRUE TRUE TRUE  TRUE   FALSE\n",
       " [9,] FALSE FALSE     TRUE        TRUE        TRUE TRUE TRUE  TRUE   FALSE\n",
       "[10,] FALSE FALSE     TRUE        TRUE        TRUE TRUE TRUE  TRUE   FALSE\n",
       "[11,] FALSE FALSE     TRUE        TRUE        TRUE TRUE TRUE  TRUE   FALSE\n",
       "[12,] FALSE FALSE     TRUE        TRUE        TRUE TRUE TRUE  TRUE   FALSE\n",
       "[13,] FALSE FALSE     TRUE        TRUE        TRUE TRUE TRUE  TRUE   FALSE\n",
       "[14,] FALSE FALSE     TRUE        TRUE        TRUE TRUE TRUE  TRUE   FALSE\n",
       "[15,] FALSE FALSE     TRUE        TRUE        TRUE TRUE TRUE  TRUE   FALSE\n",
       "[16,] FALSE FALSE     TRUE        TRUE        TRUE TRUE TRUE  TRUE   FALSE\n",
       "[17,] FALSE FALSE     TRUE        TRUE        TRUE TRUE TRUE  TRUE   FALSE\n",
       "[18,] FALSE FALSE     TRUE        TRUE        TRUE TRUE TRUE  TRUE   FALSE\n",
       "[19,] FALSE FALSE     TRUE        TRUE        TRUE TRUE TRUE  TRUE   FALSE\n",
       "[20,] FALSE FALSE     TRUE        TRUE        TRUE TRUE TRUE  TRUE   FALSE\n",
       "[21,] FALSE FALSE     TRUE        TRUE        TRUE TRUE TRUE  TRUE   FALSE\n",
       "[22,] FALSE FALSE     TRUE        TRUE        TRUE TRUE TRUE  TRUE   FALSE\n",
       "[23,] FALSE FALSE     TRUE        TRUE        TRUE TRUE TRUE  TRUE   FALSE\n",
       "[24,] FALSE FALSE     TRUE        TRUE        TRUE TRUE TRUE  TRUE   FALSE\n",
       "[25,] FALSE FALSE     TRUE        TRUE        TRUE TRUE TRUE  TRUE   FALSE\n",
       "[26,] FALSE FALSE     TRUE        TRUE        TRUE TRUE TRUE  TRUE   FALSE\n",
       "[27,] FALSE FALSE     TRUE        TRUE        TRUE TRUE TRUE  TRUE   FALSE\n",
       "[28,] FALSE FALSE     TRUE        TRUE        TRUE TRUE TRUE  TRUE   FALSE\n",
       "[29,] FALSE FALSE     TRUE        TRUE        TRUE TRUE TRUE  TRUE   FALSE\n",
       "[30,] FALSE FALSE     TRUE        TRUE        TRUE TRUE TRUE  TRUE   FALSE\n",
       "[31,] ...   ...       ...         ...         ...  ...  ...   ...    ...  \n",
       "[32,] FALSE FALSE     TRUE        TRUE        TRUE TRUE TRUE  TRUE   FALSE\n",
       "[33,] FALSE FALSE     TRUE        TRUE        TRUE TRUE TRUE  TRUE   FALSE\n",
       "[34,] FALSE FALSE     TRUE        TRUE        TRUE TRUE TRUE  TRUE   FALSE\n",
       "[35,] FALSE FALSE     TRUE        TRUE        TRUE TRUE TRUE  TRUE   FALSE\n",
       "[36,] FALSE FALSE     TRUE        TRUE        TRUE TRUE TRUE  TRUE   FALSE\n",
       "[37,] FALSE FALSE     TRUE        TRUE        TRUE TRUE TRUE  TRUE   FALSE\n",
       "[38,] FALSE FALSE     TRUE        TRUE        TRUE TRUE TRUE  TRUE   FALSE\n",
       "[39,] FALSE FALSE     TRUE        TRUE        TRUE TRUE TRUE  TRUE   FALSE\n",
       "[40,] FALSE FALSE     TRUE        TRUE        TRUE TRUE TRUE  TRUE   FALSE\n",
       "[41,] FALSE FALSE     TRUE        TRUE        TRUE TRUE TRUE  TRUE   FALSE\n",
       "[42,] FALSE FALSE     TRUE        TRUE        TRUE TRUE TRUE  TRUE   FALSE\n",
       "[43,] FALSE FALSE     TRUE        TRUE        TRUE TRUE TRUE  TRUE   FALSE\n",
       "[44,] FALSE FALSE     TRUE        TRUE        TRUE TRUE TRUE  TRUE   FALSE\n",
       "[45,] FALSE FALSE     TRUE        TRUE        TRUE TRUE TRUE  TRUE   FALSE\n",
       "[46,] FALSE FALSE     TRUE        TRUE        TRUE TRUE TRUE  TRUE   FALSE\n",
       "[47,] FALSE FALSE     TRUE        TRUE        TRUE TRUE TRUE  TRUE   FALSE\n",
       "[48,] FALSE FALSE     TRUE        TRUE        TRUE TRUE TRUE  TRUE   FALSE\n",
       "[49,] FALSE FALSE     TRUE        TRUE        TRUE TRUE TRUE  TRUE   FALSE\n",
       "[50,] FALSE FALSE     TRUE        TRUE        TRUE TRUE TRUE  TRUE   FALSE\n",
       "[51,] FALSE FALSE     TRUE        TRUE        TRUE TRUE TRUE  TRUE   FALSE\n",
       "[52,] FALSE FALSE     TRUE        TRUE        TRUE TRUE TRUE  TRUE   FALSE\n",
       "[53,] FALSE FALSE     TRUE        TRUE        TRUE TRUE TRUE  TRUE   FALSE\n",
       "[54,] FALSE FALSE     TRUE        TRUE        TRUE TRUE TRUE  TRUE   FALSE\n",
       "[55,] FALSE FALSE     TRUE        TRUE        TRUE TRUE TRUE  TRUE   FALSE\n",
       "[56,] FALSE FALSE     TRUE        TRUE        TRUE TRUE TRUE  TRUE   FALSE\n",
       "[57,] FALSE FALSE     TRUE        TRUE        TRUE TRUE TRUE  TRUE   FALSE\n",
       "[58,] FALSE FALSE     TRUE        TRUE        TRUE TRUE TRUE  TRUE   FALSE\n",
       "[59,] FALSE FALSE     TRUE        TRUE        TRUE TRUE TRUE  TRUE   FALSE\n",
       "[60,] FALSE FALSE     TRUE        TRUE        TRUE TRUE TRUE  TRUE   FALSE\n",
       "[61,] FALSE FALSE     TRUE        TRUE        TRUE TRUE TRUE  TRUE   FALSE\n",
       "      Lat   ... TotalCharge Additional_charges Survey_TimelyAdmin\n",
       " [1,] FALSE ... FALSE       FALSE              FALSE             \n",
       " [2,] FALSE ... FALSE       FALSE              FALSE             \n",
       " [3,] FALSE ... FALSE       FALSE              FALSE             \n",
       " [4,] FALSE ... FALSE       FALSE              FALSE             \n",
       " [5,] FALSE ... FALSE       FALSE              FALSE             \n",
       " [6,] FALSE ... FALSE       FALSE              FALSE             \n",
       " [7,] FALSE ... FALSE       FALSE              FALSE             \n",
       " [8,] FALSE ... FALSE       FALSE              FALSE             \n",
       " [9,] FALSE ... FALSE       FALSE              FALSE             \n",
       "[10,] FALSE ... FALSE       FALSE              FALSE             \n",
       "[11,] FALSE ... FALSE       FALSE              FALSE             \n",
       "[12,] FALSE ... FALSE       FALSE              FALSE             \n",
       "[13,] FALSE ... FALSE       FALSE              FALSE             \n",
       "[14,] FALSE ... FALSE       FALSE              FALSE             \n",
       "[15,] FALSE ... FALSE       FALSE              FALSE             \n",
       "[16,] FALSE ... FALSE       FALSE              FALSE             \n",
       "[17,] FALSE ... FALSE       FALSE              FALSE             \n",
       "[18,] FALSE ... FALSE       FALSE              FALSE             \n",
       "[19,] FALSE ... FALSE       FALSE              FALSE             \n",
       "[20,] FALSE ... FALSE       FALSE              FALSE             \n",
       "[21,] FALSE ... FALSE       FALSE              FALSE             \n",
       "[22,] FALSE ... FALSE       FALSE              FALSE             \n",
       "[23,] FALSE ... FALSE       FALSE              FALSE             \n",
       "[24,] FALSE ... FALSE       FALSE              FALSE             \n",
       "[25,] FALSE ... FALSE       FALSE              FALSE             \n",
       "[26,] FALSE ... FALSE       FALSE              FALSE             \n",
       "[27,] FALSE ... FALSE       FALSE              FALSE             \n",
       "[28,] FALSE ... FALSE       FALSE              FALSE             \n",
       "[29,] FALSE ... FALSE       FALSE              FALSE             \n",
       "[30,] FALSE ... FALSE       FALSE              FALSE             \n",
       "[31,] ...       ...         ...                ...               \n",
       "[32,] FALSE ... FALSE       FALSE              FALSE             \n",
       "[33,] FALSE ... FALSE       FALSE              FALSE             \n",
       "[34,] FALSE ... FALSE       FALSE              FALSE             \n",
       "[35,] FALSE ... FALSE       FALSE              FALSE             \n",
       "[36,] FALSE ... FALSE       FALSE              FALSE             \n",
       "[37,] FALSE ... FALSE       FALSE              FALSE             \n",
       "[38,] FALSE ... FALSE       FALSE              FALSE             \n",
       "[39,] FALSE ... FALSE       FALSE              FALSE             \n",
       "[40,] FALSE ... FALSE       FALSE              FALSE             \n",
       "[41,] FALSE ... FALSE       FALSE              FALSE             \n",
       "[42,] FALSE ... FALSE       FALSE              FALSE             \n",
       "[43,] FALSE ... FALSE       FALSE              FALSE             \n",
       "[44,] FALSE ... FALSE       FALSE              FALSE             \n",
       "[45,] FALSE ... FALSE       FALSE              FALSE             \n",
       "[46,] FALSE ... FALSE       FALSE              FALSE             \n",
       "[47,] FALSE ... FALSE       FALSE              FALSE             \n",
       "[48,] FALSE ... FALSE       FALSE              FALSE             \n",
       "[49,] FALSE ... FALSE       FALSE              FALSE             \n",
       "[50,] FALSE ... FALSE       FALSE              FALSE             \n",
       "[51,] FALSE ... FALSE       FALSE              FALSE             \n",
       "[52,] FALSE ... FALSE       FALSE              FALSE             \n",
       "[53,] FALSE ... FALSE       FALSE              FALSE             \n",
       "[54,] FALSE ... FALSE       FALSE              FALSE             \n",
       "[55,] FALSE ... FALSE       FALSE              FALSE             \n",
       "[56,] FALSE ... FALSE       FALSE              FALSE             \n",
       "[57,] FALSE ... FALSE       FALSE              FALSE             \n",
       "[58,] FALSE ... FALSE       FALSE              FALSE             \n",
       "[59,] FALSE ... FALSE       FALSE              FALSE             \n",
       "[60,] FALSE ... FALSE       FALSE              FALSE             \n",
       "[61,] FALSE ... FALSE       FALSE              FALSE             \n",
       "      Survey_TimelyTreatment Survey_TimelyVisits Survey_Reliability\n",
       " [1,] FALSE                  FALSE               FALSE             \n",
       " [2,] FALSE                  FALSE               FALSE             \n",
       " [3,] FALSE                  FALSE               FALSE             \n",
       " [4,] FALSE                  FALSE               FALSE             \n",
       " [5,] FALSE                  FALSE               FALSE             \n",
       " [6,] FALSE                  FALSE               FALSE             \n",
       " [7,] FALSE                  FALSE               FALSE             \n",
       " [8,] FALSE                  FALSE               FALSE             \n",
       " [9,] FALSE                  FALSE               FALSE             \n",
       "[10,] FALSE                  FALSE               FALSE             \n",
       "[11,] FALSE                  FALSE               FALSE             \n",
       "[12,] FALSE                  FALSE               FALSE             \n",
       "[13,] FALSE                  FALSE               FALSE             \n",
       "[14,] FALSE                  FALSE               FALSE             \n",
       "[15,] FALSE                  FALSE               FALSE             \n",
       "[16,] FALSE                  FALSE               FALSE             \n",
       "[17,] FALSE                  FALSE               FALSE             \n",
       "[18,] FALSE                  FALSE               FALSE             \n",
       "[19,] FALSE                  FALSE               FALSE             \n",
       "[20,] FALSE                  FALSE               FALSE             \n",
       "[21,] FALSE                  FALSE               FALSE             \n",
       "[22,] FALSE                  FALSE               FALSE             \n",
       "[23,] FALSE                  FALSE               FALSE             \n",
       "[24,] FALSE                  FALSE               FALSE             \n",
       "[25,] FALSE                  FALSE               FALSE             \n",
       "[26,] FALSE                  FALSE               FALSE             \n",
       "[27,] FALSE                  FALSE               FALSE             \n",
       "[28,] FALSE                  FALSE               FALSE             \n",
       "[29,] FALSE                  FALSE               FALSE             \n",
       "[30,] FALSE                  FALSE               FALSE             \n",
       "[31,] ...                    ...                 ...               \n",
       "[32,] FALSE                  FALSE               FALSE             \n",
       "[33,] FALSE                  FALSE               FALSE             \n",
       "[34,] FALSE                  FALSE               FALSE             \n",
       "[35,] FALSE                  FALSE               FALSE             \n",
       "[36,] FALSE                  FALSE               FALSE             \n",
       "[37,] FALSE                  FALSE               FALSE             \n",
       "[38,] FALSE                  FALSE               FALSE             \n",
       "[39,] FALSE                  FALSE               FALSE             \n",
       "[40,] FALSE                  FALSE               FALSE             \n",
       "[41,] FALSE                  FALSE               FALSE             \n",
       "[42,] FALSE                  FALSE               FALSE             \n",
       "[43,] FALSE                  FALSE               FALSE             \n",
       "[44,] FALSE                  FALSE               FALSE             \n",
       "[45,] FALSE                  FALSE               FALSE             \n",
       "[46,] FALSE                  FALSE               FALSE             \n",
       "[47,] FALSE                  FALSE               FALSE             \n",
       "[48,] FALSE                  FALSE               FALSE             \n",
       "[49,] FALSE                  FALSE               FALSE             \n",
       "[50,] FALSE                  FALSE               FALSE             \n",
       "[51,] FALSE                  FALSE               FALSE             \n",
       "[52,] FALSE                  FALSE               FALSE             \n",
       "[53,] FALSE                  FALSE               FALSE             \n",
       "[54,] FALSE                  FALSE               FALSE             \n",
       "[55,] FALSE                  FALSE               FALSE             \n",
       "[56,] FALSE                  FALSE               FALSE             \n",
       "[57,] FALSE                  FALSE               FALSE             \n",
       "[58,] FALSE                  FALSE               FALSE             \n",
       "[59,] FALSE                  FALSE               FALSE             \n",
       "[60,] FALSE                  FALSE               FALSE             \n",
       "[61,] FALSE                  FALSE               FALSE             \n",
       "      Survey_Options Survey_HoursTreatment Survey_CourteousStaff\n",
       " [1,] FALSE          FALSE                 FALSE                \n",
       " [2,] FALSE          FALSE                 FALSE                \n",
       " [3,] FALSE          FALSE                 FALSE                \n",
       " [4,] FALSE          FALSE                 FALSE                \n",
       " [5,] FALSE          FALSE                 FALSE                \n",
       " [6,] FALSE          FALSE                 FALSE                \n",
       " [7,] FALSE          FALSE                 FALSE                \n",
       " [8,] FALSE          FALSE                 FALSE                \n",
       " [9,] FALSE          FALSE                 FALSE                \n",
       "[10,] FALSE          FALSE                 FALSE                \n",
       "[11,] FALSE          FALSE                 FALSE                \n",
       "[12,] FALSE          FALSE                 FALSE                \n",
       "[13,] FALSE          FALSE                 FALSE                \n",
       "[14,] FALSE          FALSE                 FALSE                \n",
       "[15,] FALSE          FALSE                 FALSE                \n",
       "[16,] FALSE          FALSE                 FALSE                \n",
       "[17,] FALSE          FALSE                 FALSE                \n",
       "[18,] FALSE          FALSE                 FALSE                \n",
       "[19,] FALSE          FALSE                 FALSE                \n",
       "[20,] FALSE          FALSE                 FALSE                \n",
       "[21,] FALSE          FALSE                 FALSE                \n",
       "[22,] FALSE          FALSE                 FALSE                \n",
       "[23,] FALSE          FALSE                 FALSE                \n",
       "[24,] FALSE          FALSE                 FALSE                \n",
       "[25,] FALSE          FALSE                 FALSE                \n",
       "[26,] FALSE          FALSE                 FALSE                \n",
       "[27,] FALSE          FALSE                 FALSE                \n",
       "[28,] FALSE          FALSE                 FALSE                \n",
       "[29,] FALSE          FALSE                 FALSE                \n",
       "[30,] FALSE          FALSE                 FALSE                \n",
       "[31,] ...            ...                   ...                  \n",
       "[32,] FALSE          FALSE                 FALSE                \n",
       "[33,] FALSE          FALSE                 FALSE                \n",
       "[34,] FALSE          FALSE                 FALSE                \n",
       "[35,] FALSE          FALSE                 FALSE                \n",
       "[36,] FALSE          FALSE                 FALSE                \n",
       "[37,] FALSE          FALSE                 FALSE                \n",
       "[38,] FALSE          FALSE                 FALSE                \n",
       "[39,] FALSE          FALSE                 FALSE                \n",
       "[40,] FALSE          FALSE                 FALSE                \n",
       "[41,] FALSE          FALSE                 FALSE                \n",
       "[42,] FALSE          FALSE                 FALSE                \n",
       "[43,] FALSE          FALSE                 FALSE                \n",
       "[44,] FALSE          FALSE                 FALSE                \n",
       "[45,] FALSE          FALSE                 FALSE                \n",
       "[46,] FALSE          FALSE                 FALSE                \n",
       "[47,] FALSE          FALSE                 FALSE                \n",
       "[48,] FALSE          FALSE                 FALSE                \n",
       "[49,] FALSE          FALSE                 FALSE                \n",
       "[50,] FALSE          FALSE                 FALSE                \n",
       "[51,] FALSE          FALSE                 FALSE                \n",
       "[52,] FALSE          FALSE                 FALSE                \n",
       "[53,] FALSE          FALSE                 FALSE                \n",
       "[54,] FALSE          FALSE                 FALSE                \n",
       "[55,] FALSE          FALSE                 FALSE                \n",
       "[56,] FALSE          FALSE                 FALSE                \n",
       "[57,] FALSE          FALSE                 FALSE                \n",
       "[58,] FALSE          FALSE                 FALSE                \n",
       "[59,] FALSE          FALSE                 FALSE                \n",
       "[60,] FALSE          FALSE                 FALSE                \n",
       "[61,] FALSE          FALSE                 FALSE                \n",
       "      Survey_ActiveListening\n",
       " [1,] FALSE                 \n",
       " [2,] FALSE                 \n",
       " [3,] FALSE                 \n",
       " [4,] FALSE                 \n",
       " [5,] FALSE                 \n",
       " [6,] FALSE                 \n",
       " [7,] FALSE                 \n",
       " [8,] FALSE                 \n",
       " [9,] FALSE                 \n",
       "[10,] FALSE                 \n",
       "[11,] FALSE                 \n",
       "[12,] FALSE                 \n",
       "[13,] FALSE                 \n",
       "[14,] FALSE                 \n",
       "[15,] FALSE                 \n",
       "[16,] FALSE                 \n",
       "[17,] FALSE                 \n",
       "[18,] FALSE                 \n",
       "[19,] FALSE                 \n",
       "[20,] FALSE                 \n",
       "[21,] FALSE                 \n",
       "[22,] FALSE                 \n",
       "[23,] FALSE                 \n",
       "[24,] FALSE                 \n",
       "[25,] FALSE                 \n",
       "[26,] FALSE                 \n",
       "[27,] FALSE                 \n",
       "[28,] FALSE                 \n",
       "[29,] FALSE                 \n",
       "[30,] FALSE                 \n",
       "[31,] ...                   \n",
       "[32,] FALSE                 \n",
       "[33,] FALSE                 \n",
       "[34,] FALSE                 \n",
       "[35,] FALSE                 \n",
       "[36,] FALSE                 \n",
       "[37,] FALSE                 \n",
       "[38,] FALSE                 \n",
       "[39,] FALSE                 \n",
       "[40,] FALSE                 \n",
       "[41,] FALSE                 \n",
       "[42,] FALSE                 \n",
       "[43,] FALSE                 \n",
       "[44,] FALSE                 \n",
       "[45,] FALSE                 \n",
       "[46,] FALSE                 \n",
       "[47,] FALSE                 \n",
       "[48,] FALSE                 \n",
       "[49,] FALSE                 \n",
       "[50,] FALSE                 \n",
       "[51,] FALSE                 \n",
       "[52,] FALSE                 \n",
       "[53,] FALSE                 \n",
       "[54,] FALSE                 \n",
       "[55,] FALSE                 \n",
       "[56,] FALSE                 \n",
       "[57,] FALSE                 \n",
       "[58,] FALSE                 \n",
       "[59,] FALSE                 \n",
       "[60,] FALSE                 \n",
       "[61,] FALSE                 "
      ]
     },
     "metadata": {},
     "output_type": "display_data"
    }
   ],
   "source": [
    "# Double check that there are no NAs left\n",
    "is.na(medical_raw_data)"
   ]
  },
  {
   "cell_type": "code",
   "execution_count": 50,
   "id": "64e67387-7e95-4d53-94ee-aa793838f5f0",
   "metadata": {
    "tags": [],
    "vscode": {
     "languageId": "r"
    }
   },
   "outputs": [
    {
     "data": {
      "text/html": [
       "<table class=\"dataframe\">\n",
       "<caption>A tibble: 6 × 22</caption>\n",
       "<thead>\n",
       "\t<tr><th scope=col>...1</th><th scope=col>CaseOrder</th><th scope=col>Children</th><th scope=col>Age</th><th scope=col>Household_Income</th><th scope=col>VitD_levels</th><th scope=col>Doc_visits</th><th scope=col>Full_meals_eaten</th><th scope=col>VitD_supp</th><th scope=col>Overweight</th><th scope=col>...</th><th scope=col>TotalCharge</th><th scope=col>Additional_charges</th><th scope=col>Survey_TimelyAdmin</th><th scope=col>Survey_TimelyTreatment</th><th scope=col>Survey_TimelyVisits</th><th scope=col>Survey_Reliability</th><th scope=col>Survey_Options</th><th scope=col>Survey_HoursTreatment</th><th scope=col>Survey_CourteousStaff</th><th scope=col>Survey_ActiveListening</th></tr>\n",
       "\t<tr><th scope=col>&lt;dbl&gt;</th><th scope=col>&lt;dbl&gt;</th><th scope=col>&lt;dbl&gt;</th><th scope=col>&lt;dbl&gt;</th><th scope=col>&lt;dbl&gt;</th><th scope=col>&lt;dbl&gt;</th><th scope=col>&lt;dbl&gt;</th><th scope=col>&lt;dbl&gt;</th><th scope=col>&lt;dbl&gt;</th><th scope=col>&lt;dbl&gt;</th><th scope=col>...</th><th scope=col>&lt;dbl&gt;</th><th scope=col>&lt;dbl&gt;</th><th scope=col>&lt;dbl&gt;</th><th scope=col>&lt;dbl&gt;</th><th scope=col>&lt;dbl&gt;</th><th scope=col>&lt;dbl&gt;</th><th scope=col>&lt;dbl&gt;</th><th scope=col>&lt;dbl&gt;</th><th scope=col>&lt;dbl&gt;</th><th scope=col>&lt;dbl&gt;</th></tr>\n",
       "</thead>\n",
       "<tbody>\n",
       "\t<tr><td>1</td><td>1</td><td>1</td><td>53</td><td>86575.93</td><td>17.80233</td><td>6</td><td>0</td><td>0</td><td>0</td><td>...</td><td>3191.049</td><td>17939.403</td><td>3</td><td>3</td><td>2</td><td>2</td><td>4</td><td>3</td><td>3</td><td>4</td></tr>\n",
       "\t<tr><td>2</td><td>2</td><td>3</td><td>51</td><td>46805.99</td><td>18.99464</td><td>4</td><td>2</td><td>1</td><td>1</td><td>...</td><td>4214.905</td><td>17612.998</td><td>3</td><td>4</td><td>3</td><td>4</td><td>4</td><td>4</td><td>3</td><td>3</td></tr>\n",
       "\t<tr><td>3</td><td>3</td><td>3</td><td>53</td><td>14370.14</td><td>17.41589</td><td>4</td><td>1</td><td>0</td><td>1</td><td>...</td><td>2177.587</td><td>17505.192</td><td>2</td><td>4</td><td>4</td><td>4</td><td>3</td><td>4</td><td>3</td><td>3</td></tr>\n",
       "\t<tr><td>4</td><td>4</td><td>0</td><td>78</td><td>39741.49</td><td>17.42008</td><td>4</td><td>1</td><td>0</td><td>0</td><td>...</td><td>2465.119</td><td>12993.437</td><td>3</td><td>5</td><td>5</td><td>3</td><td>4</td><td>5</td><td>5</td><td>5</td></tr>\n",
       "\t<tr><td>5</td><td>5</td><td>1</td><td>22</td><td> 1209.56</td><td>16.87052</td><td>5</td><td>0</td><td>2</td><td>0</td><td>...</td><td>1885.655</td><td> 3716.526</td><td>2</td><td>1</td><td>3</td><td>3</td><td>5</td><td>3</td><td>4</td><td>3</td></tr>\n",
       "\t<tr><td>6</td><td>6</td><td>1</td><td>76</td><td>33942.28</td><td>19.95614</td><td>6</td><td>0</td><td>0</td><td>1</td><td>...</td><td>2774.090</td><td>12742.590</td><td>4</td><td>5</td><td>4</td><td>4</td><td>3</td><td>5</td><td>4</td><td>6</td></tr>\n",
       "</tbody>\n",
       "</table>\n"
      ],
      "text/latex": [
       "A tibble: 6 × 22\n",
       "\\begin{tabular}{lllllllllllllllllllll}\n",
       " ...1 & CaseOrder & Children & Age & Household\\_Income & VitD\\_levels & Doc\\_visits & Full\\_meals\\_eaten & VitD\\_supp & Overweight & ... & TotalCharge & Additional\\_charges & Survey\\_TimelyAdmin & Survey\\_TimelyTreatment & Survey\\_TimelyVisits & Survey\\_Reliability & Survey\\_Options & Survey\\_HoursTreatment & Survey\\_CourteousStaff & Survey\\_ActiveListening\\\\\n",
       " <dbl> & <dbl> & <dbl> & <dbl> & <dbl> & <dbl> & <dbl> & <dbl> & <dbl> & <dbl> & ... & <dbl> & <dbl> & <dbl> & <dbl> & <dbl> & <dbl> & <dbl> & <dbl> & <dbl> & <dbl>\\\\\n",
       "\\hline\n",
       "\t 1 & 1 & 1 & 53 & 86575.93 & 17.80233 & 6 & 0 & 0 & 0 & ... & 3191.049 & 17939.403 & 3 & 3 & 2 & 2 & 4 & 3 & 3 & 4\\\\\n",
       "\t 2 & 2 & 3 & 51 & 46805.99 & 18.99464 & 4 & 2 & 1 & 1 & ... & 4214.905 & 17612.998 & 3 & 4 & 3 & 4 & 4 & 4 & 3 & 3\\\\\n",
       "\t 3 & 3 & 3 & 53 & 14370.14 & 17.41589 & 4 & 1 & 0 & 1 & ... & 2177.587 & 17505.192 & 2 & 4 & 4 & 4 & 3 & 4 & 3 & 3\\\\\n",
       "\t 4 & 4 & 0 & 78 & 39741.49 & 17.42008 & 4 & 1 & 0 & 0 & ... & 2465.119 & 12993.437 & 3 & 5 & 5 & 3 & 4 & 5 & 5 & 5\\\\\n",
       "\t 5 & 5 & 1 & 22 &  1209.56 & 16.87052 & 5 & 0 & 2 & 0 & ... & 1885.655 &  3716.526 & 2 & 1 & 3 & 3 & 5 & 3 & 4 & 3\\\\\n",
       "\t 6 & 6 & 1 & 76 & 33942.28 & 19.95614 & 6 & 0 & 0 & 1 & ... & 2774.090 & 12742.590 & 4 & 5 & 4 & 4 & 3 & 5 & 4 & 6\\\\\n",
       "\\end{tabular}\n"
      ],
      "text/markdown": [
       "\n",
       "A tibble: 6 × 22\n",
       "\n",
       "| ...1 &lt;dbl&gt; | CaseOrder &lt;dbl&gt; | Children &lt;dbl&gt; | Age &lt;dbl&gt; | Household_Income &lt;dbl&gt; | VitD_levels &lt;dbl&gt; | Doc_visits &lt;dbl&gt; | Full_meals_eaten &lt;dbl&gt; | VitD_supp &lt;dbl&gt; | Overweight &lt;dbl&gt; | ... ... | TotalCharge &lt;dbl&gt; | Additional_charges &lt;dbl&gt; | Survey_TimelyAdmin &lt;dbl&gt; | Survey_TimelyTreatment &lt;dbl&gt; | Survey_TimelyVisits &lt;dbl&gt; | Survey_Reliability &lt;dbl&gt; | Survey_Options &lt;dbl&gt; | Survey_HoursTreatment &lt;dbl&gt; | Survey_CourteousStaff &lt;dbl&gt; | Survey_ActiveListening &lt;dbl&gt; |\n",
       "|---|---|---|---|---|---|---|---|---|---|---|---|---|---|---|---|---|---|---|---|---|\n",
       "| 1 | 1 | 1 | 53 | 86575.93 | 17.80233 | 6 | 0 | 0 | 0 | ... | 3191.049 | 17939.403 | 3 | 3 | 2 | 2 | 4 | 3 | 3 | 4 |\n",
       "| 2 | 2 | 3 | 51 | 46805.99 | 18.99464 | 4 | 2 | 1 | 1 | ... | 4214.905 | 17612.998 | 3 | 4 | 3 | 4 | 4 | 4 | 3 | 3 |\n",
       "| 3 | 3 | 3 | 53 | 14370.14 | 17.41589 | 4 | 1 | 0 | 1 | ... | 2177.587 | 17505.192 | 2 | 4 | 4 | 4 | 3 | 4 | 3 | 3 |\n",
       "| 4 | 4 | 0 | 78 | 39741.49 | 17.42008 | 4 | 1 | 0 | 0 | ... | 2465.119 | 12993.437 | 3 | 5 | 5 | 3 | 4 | 5 | 5 | 5 |\n",
       "| 5 | 5 | 1 | 22 |  1209.56 | 16.87052 | 5 | 0 | 2 | 0 | ... | 1885.655 |  3716.526 | 2 | 1 | 3 | 3 | 5 | 3 | 4 | 3 |\n",
       "| 6 | 6 | 1 | 76 | 33942.28 | 19.95614 | 6 | 0 | 0 | 1 | ... | 2774.090 | 12742.590 | 4 | 5 | 4 | 4 | 3 | 5 | 4 | 6 |\n",
       "\n"
      ],
      "text/plain": [
       "  ...1 CaseOrder Children Age Household_Income VitD_levels Doc_visits\n",
       "1 1    1         1        53  86575.93         17.80233    6         \n",
       "2 2    2         3        51  46805.99         18.99464    4         \n",
       "3 3    3         3        53  14370.14         17.41589    4         \n",
       "4 4    4         0        78  39741.49         17.42008    4         \n",
       "5 5    5         1        22   1209.56         16.87052    5         \n",
       "6 6    6         1        76  33942.28         19.95614    6         \n",
       "  Full_meals_eaten VitD_supp Overweight ... TotalCharge Additional_charges\n",
       "1 0                0         0          ... 3191.049    17939.403         \n",
       "2 2                1         1          ... 4214.905    17612.998         \n",
       "3 1                0         1          ... 2177.587    17505.192         \n",
       "4 1                0         0          ... 2465.119    12993.437         \n",
       "5 0                2         0          ... 1885.655     3716.526         \n",
       "6 0                0         1          ... 2774.090    12742.590         \n",
       "  Survey_TimelyAdmin Survey_TimelyTreatment Survey_TimelyVisits\n",
       "1 3                  3                      2                  \n",
       "2 3                  4                      3                  \n",
       "3 2                  4                      4                  \n",
       "4 3                  5                      5                  \n",
       "5 2                  1                      3                  \n",
       "6 4                  5                      4                  \n",
       "  Survey_Reliability Survey_Options Survey_HoursTreatment Survey_CourteousStaff\n",
       "1 2                  4              3                     3                    \n",
       "2 4                  4              4                     3                    \n",
       "3 4                  3              4                     3                    \n",
       "4 3                  4              5                     5                    \n",
       "5 3                  5              3                     4                    \n",
       "6 4                  3              5                     4                    \n",
       "  Survey_ActiveListening\n",
       "1 4                     \n",
       "2 3                     \n",
       "3 3                     \n",
       "4 5                     \n",
       "5 3                     \n",
       "6 6                     "
      ]
     },
     "metadata": {},
     "output_type": "display_data"
    }
   ],
   "source": [
    "# Subset the data to ONLY numeric\n",
    "RefinedMedical <- select(medical_raw_data, c(-Customer_id, -Interaction, -UID, -Marital, -City, -State, -County, -Zip, -Lat, -Lng, -Population, -Area, -Timezone,\n",
    "-Job, -Education, -Employment, -Gender, -ReAdmis, -Soft_drink, -Initial_admin, -HighBlood, -Stroke,\n",
    "-Complication_risk, -Arthritis, -Diabetes, -Hyperlipidemia, -BackPain, -Allergic_rhinitis,\n",
    "-Reflux_esophagitis, -Asthma, -Services))\n",
    "head(RefinedMedical)"
   ]
  },
  {
   "cell_type": "markdown",
   "id": "5fe3a897-ea01-4823-9ca0-d921147149ff",
   "metadata": {},
   "source": [
    "#### Standardization is the process of converting data into a format that facilitates usability to process and analyze it.\n"
   ]
  },
  {
   "cell_type": "markdown",
   "id": "705577d5-7b44-4c66-840c-05d8fecaeea1",
   "metadata": {},
   "source": [
    "## The Principal Component Analysis"
   ]
  },
  {
   "cell_type": "code",
   "execution_count": 51,
   "id": "04c15fbe-0ec3-478f-83a5-8dd1b05d32de",
   "metadata": {
    "tags": [],
    "vscode": {
     "languageId": "r"
    }
   },
   "outputs": [
    {
     "data": {
      "text/plain": [
       "Standard deviations (1, .., p=22):\n",
       " [1] 1.789624e+00 1.716107e+00 1.288322e+00 1.275410e+00 1.201727e+00\n",
       " [6] 1.018577e+00 1.014135e+00 1.003654e+00 9.963409e-01 9.923390e-01\n",
       "[11] 9.888096e-01 9.858613e-01 8.772767e-01 8.355682e-01 7.672901e-01\n",
       "[16] 7.306250e-01 6.883973e-01 6.151501e-01 5.726950e-01 5.465447e-01\n",
       "[21] 2.278506e-01 1.841197e-15\n",
       "\n",
       "Rotation (n x k) = (22 x 22):\n",
       "                                PC1           PC2          PC3          PC4\n",
       "...1                    0.512379792  0.0938248374 -0.058560155 -0.036585993\n",
       "CaseOrder               0.512379792  0.0938248374 -0.058560155 -0.036585993\n",
       "Children               -0.001096912  0.0022857560 -0.011256099  0.018350833\n",
       "Age                     0.006047520  0.0025433129  0.234260988  0.650405908\n",
       "Household_Income       -0.009193256 -0.0045637383  0.017111636 -0.011497962\n",
       "VitD_levels             0.141803986  0.0271424688  0.157824356  0.102100640\n",
       "Doc_visits             -0.005964344  0.0058804680  0.011014278  0.008736205\n",
       "Full_meals_eaten       -0.014869160 -0.0038305062 -0.004199894  0.042597809\n",
       "VitD_supp               0.021922216 -0.0002602211  0.002283168  0.017386272\n",
       "Overweight             -0.011719298  0.0020362402 -0.013076249  0.008587204\n",
       "Anxiety                 0.009564453  0.0019269735  0.037516596  0.009984354\n",
       "Initial_days            0.486619548  0.0859891170 -0.040582009 -0.024909853\n",
       "TotalCharge             0.429507824  0.0796601615  0.097186913  0.069923000\n",
       "Additional_charges      0.007920827  0.0064969287  0.243367899  0.647656208\n",
       "Survey_TimelyAdmin     -0.089819460  0.4456343666 -0.272338095  0.108042271\n",
       "Survey_TimelyTreatment -0.079394113  0.4209802294 -0.271248230  0.106862214\n",
       "Survey_TimelyVisits    -0.074591880  0.3880759915 -0.273164107  0.106714876\n",
       "Survey_Reliability     -0.027011902  0.1500679397  0.511116813 -0.207760937\n",
       "Survey_Options          0.023948285 -0.1894099857 -0.534817021  0.214801707\n",
       "Survey_HoursTreatment  -0.070619461  0.4045079104  0.147988302 -0.067359373\n",
       "Survey_CourteousStaff  -0.053873748  0.3531960993  0.160957430 -0.055892716\n",
       "Survey_ActiveListening -0.057195364  0.3075667812  0.153142571 -0.067972803\n",
       "                                 PC5          PC6          PC7          PC8\n",
       "...1                   -0.2250877284  0.001970826 -0.010504341  0.019228634\n",
       "CaseOrder              -0.2250877284  0.001970826 -0.010504341  0.019228634\n",
       "Children                0.0013194310 -0.469755568 -0.196281407 -0.334275278\n",
       "Age                    -0.1435700776  0.006453688  0.005334643 -0.014652100\n",
       "Household_Income        0.0114327767 -0.474203056  0.315958791  0.360252261\n",
       "VitD_levels             0.7633278394  0.034418564  0.020364821 -0.011896821\n",
       "Doc_visits              0.0007951062 -0.147202705  0.412034469  0.612574170\n",
       "Full_meals_eaten        0.0304703327 -0.054966621 -0.529189110  0.507862731\n",
       "VitD_supp               0.0027507842 -0.237069924  0.538974617 -0.336413924\n",
       "Overweight             -0.0161602851  0.595503154  0.203015198  0.084743169\n",
       "Anxiety                 0.0371575351 -0.341416792 -0.276293034 -0.005739450\n",
       "Initial_days           -0.1595700461 -0.011767842 -0.008009894  0.009107718\n",
       "TotalCharge             0.4746674601  0.016285853  0.005801142 -0.001961222\n",
       "Additional_charges     -0.1433118865  0.009440075  0.010278338 -0.001176197\n",
       "Survey_TimelyAdmin      0.0491567613 -0.005094258  0.001942845 -0.008214494\n",
       "Survey_TimelyTreatment  0.0312235434 -0.008524730  0.007493342 -0.013103650\n",
       "Survey_TimelyVisits     0.0407944251 -0.010695720 -0.003454555 -0.016013724\n",
       "Survey_Reliability     -0.0782314074  0.005008850 -0.013035116 -0.048010113\n",
       "Survey_Options          0.0930941481 -0.004611748  0.007818534 -0.005022269\n",
       "Survey_HoursTreatment  -0.0182590751  0.005062859 -0.006569303  0.022257977\n",
       "Survey_CourteousStaff  -0.0320536624 -0.005701233 -0.028766041  0.017915954\n",
       "Survey_ActiveListening -0.0128555067  0.018309126  0.041744681  0.009586964\n",
       "                                 PC9          PC10          PC11          PC12\n",
       "...1                   -0.0050472919  0.0003681157  0.0023705407 -0.0049297840\n",
       "CaseOrder              -0.0050472919  0.0003681157  0.0023705407 -0.0049297840\n",
       "Children                0.5260667874 -0.4229007637  0.1662389934 -0.3765858036\n",
       "Age                     0.0065223496  0.0080672586 -0.0047281172  0.0430661492\n",
       "Household_Income        0.0408616496  0.2456242708  0.6695166183  0.1754749039\n",
       "VitD_levels             0.0312692826 -0.0004221714 -0.0009346645  0.0090256635\n",
       "Doc_visits              0.1049577589 -0.4668126113 -0.4383445811 -0.1000524565\n",
       "Full_meals_eaten        0.0327114283  0.4022575409 -0.0664941076 -0.5320946645\n",
       "VitD_supp              -0.2526787177  0.3666361456 -0.2154027321 -0.5405491616\n",
       "Overweight             -0.0806182021 -0.2954762275  0.5156068644 -0.4823437005\n",
       "Anxiety                -0.7947714530 -0.3950782054  0.0940660718 -0.0591466276\n",
       "Initial_days            0.0127855343  0.0015389548  0.0142958533 -0.0009951885\n",
       "TotalCharge             0.0182711395 -0.0054408028  0.0089837603  0.0090336592\n",
       "Additional_charges      0.0034245349 -0.0058850530  0.0177138150  0.0094514325\n",
       "Survey_TimelyAdmin     -0.0001572565  0.0045180724 -0.0025634717  0.0044203257\n",
       "Survey_TimelyTreatment  0.0091118966 -0.0054471258  0.0028741817  0.0019439570\n",
       "Survey_TimelyVisits    -0.0133844869  0.0265677687 -0.0098747903 -0.0011302365\n",
       "Survey_Reliability      0.0409697805  0.0308410497 -0.0139819864 -0.0427147267\n",
       "Survey_Options         -0.0146347304 -0.0073038428  0.0098985236  0.0143209722\n",
       "Survey_HoursTreatment   0.0091345420  0.0092414085 -0.0117888235 -0.0080383332\n",
       "Survey_CourteousStaff   0.0131220459 -0.0016599776 -0.0214569082 -0.0037152068\n",
       "Survey_ActiveListening -0.0591573102 -0.0360932842  0.0693464736  0.0402487253\n",
       "                                PC13          PC14         PC15          PC16\n",
       "...1                    2.125672e-03 -0.0013929221  0.008349182  0.0012542162\n",
       "CaseOrder               2.125672e-03 -0.0013929221  0.008349182  0.0012542162\n",
       "Children               -4.957840e-02 -0.0035060850  0.015208768  0.0165688431\n",
       "Age                     7.638408e-04 -0.0255132995 -0.006871958 -0.0312113836\n",
       "Household_Income        5.711951e-02  0.0155629797 -0.006321686 -0.0070115572\n",
       "VitD_levels             1.250411e-02  0.0061404813  0.006200277  0.0095779322\n",
       "Doc_visits              1.444164e-02 -0.0292121064 -0.025771217 -0.0077952695\n",
       "Full_meals_eaten       -6.158911e-02 -0.0357472194 -0.012890862 -0.0015415426\n",
       "VitD_supp              -3.750066e-02  0.0269865605  0.013491939  0.0036444953\n",
       "Overweight              5.141111e-02  0.0230219864 -0.003033471  0.0050504286\n",
       "Anxiety                 6.012713e-02  0.0003794997  0.002045393 -0.0139412818\n",
       "Initial_days           -7.187407e-03 -0.0185415989 -0.014088597 -0.0149772783\n",
       "TotalCharge             7.246919e-05 -0.0031303908 -0.011440888 -0.0005081395\n",
       "Additional_charges     -4.276535e-03  0.0109193711  0.016830944  0.0260311399\n",
       "Survey_TimelyAdmin      9.753128e-02 -0.0734480189 -0.009985783 -0.0830365637\n",
       "Survey_TimelyTreatment  1.494090e-01 -0.1302963032 -0.060841371 -0.0984461078\n",
       "Survey_TimelyVisits     2.083252e-01 -0.2103012310 -0.240589327  0.4288033429\n",
       "Survey_Reliability      3.655218e-01 -0.3577228962 -0.388265739 -0.4828570619\n",
       "Survey_Options         -1.249022e-01  0.0550920504 -0.133368292 -0.6957458105\n",
       "Survey_HoursTreatment   4.845504e-02  0.0607179765  0.795099600 -0.2705110880\n",
       "Survey_CourteousStaff  -5.306916e-02  0.8443977231 -0.336075877 -0.0707029474\n",
       "Survey_ActiveListening -8.676239e-01 -0.2844243042 -0.150042881 -0.0395151269\n",
       "                                PC17         PC18          PC19          PC20\n",
       "...1                   -0.0004117271 -0.052277662 -0.0687024253  0.4049072647\n",
       "CaseOrder              -0.0004117271 -0.052277662 -0.0687024253  0.4049072647\n",
       "Children               -0.0150827418  0.007161944 -0.0057573391  0.0160366787\n",
       "Age                    -0.0568535861  0.694015699 -0.0722353339  0.0847127849\n",
       "Household_Income       -0.0044473275  0.005236232 -0.0050369053  0.0121327345\n",
       "VitD_levels             0.0099615055 -0.010511462 -0.0305713010  0.2175245668\n",
       "Doc_visits             -0.0109994677  0.004931457 -0.0013016177 -0.0047833452\n",
       "Full_meals_eaten        0.0150268939  0.010888608  0.0010673835 -0.0015589514\n",
       "VitD_supp               0.0097578633  0.006630056 -0.0004001462 -0.0009785386\n",
       "Overweight             -0.0110701064  0.025683491 -0.0031674981 -0.0042673818\n",
       "Anxiety                 0.0031199670  0.007081008 -0.0010758135 -0.0020821402\n",
       "Initial_days           -0.0024339276  0.107694373  0.1088944036 -0.7350478820\n",
       "TotalCharge            -0.0021012844  0.008789661  0.0399762914 -0.2069070243\n",
       "Additional_charges      0.0507171277 -0.696302904  0.0699398467 -0.0776014725\n",
       "Survey_TimelyAdmin      0.1867460802 -0.058126843 -0.7918893610 -0.1329510764\n",
       "Survey_TimelyTreatment  0.6234620468  0.080878287  0.5231145316  0.0920893431\n",
       "Survey_TimelyVisits    -0.6221483411 -0.025815972  0.1920100780  0.0277223019\n",
       "Survey_Reliability     -0.1068370907 -0.043869404 -0.0112545168  0.0115364971\n",
       "Survey_Options         -0.2998175257 -0.049685936  0.0931444411  0.0222301852\n",
       "Survey_HoursTreatment  -0.2758000864 -0.002919270  0.1271916357  0.0051497904\n",
       "Survey_CourteousStaff  -0.0627800654  0.015254228  0.0496127975  0.0056502415\n",
       "Survey_ActiveListening -0.0361199964 -0.007515622  0.0306576377  0.0203778058\n",
       "                                PC21          PC22\n",
       "...1                   -0.0348031254  7.071068e-01\n",
       "CaseOrder              -0.0348031254 -7.071068e-01\n",
       "Children                0.0017009755 -2.389582e-16\n",
       "Age                     0.0145556411  7.546047e-17\n",
       "Household_Income        0.0003281921  1.023487e-16\n",
       "VitD_levels            -0.5563863537  1.458252e-16\n",
       "Doc_visits              0.0003203081 -3.634246e-16\n",
       "Full_meals_eaten        0.0012832687  3.590878e-16\n",
       "VitD_supp               0.0019132408  3.504141e-16\n",
       "Overweight              0.0015528440 -2.628106e-16\n",
       "Anxiety                -0.0103058059 -3.894454e-16\n",
       "Initial_days           -0.4035404036  2.220446e-16\n",
       "TotalCharge             0.7239294417  5.551115e-17\n",
       "Additional_charges     -0.0245496876 -2.298509e-17\n",
       "Survey_TimelyAdmin      0.0046732682 -3.816392e-17\n",
       "Survey_TimelyTreatment  0.0028181934 -2.602085e-17\n",
       "Survey_TimelyVisits    -0.0065359727  3.295975e-17\n",
       "Survey_Reliability     -0.0018930997  6.505213e-17\n",
       "Survey_Options         -0.0047167014  6.071532e-18\n",
       "Survey_HoursTreatment   0.0023991885 -1.517883e-17\n",
       "Survey_CourteousStaff  -0.0049149144 -4.336809e-19\n",
       "Survey_ActiveListening -0.0057607700 -6.418477e-17"
      ]
     },
     "metadata": {},
     "output_type": "display_data"
    }
   ],
   "source": [
    "medical_pca <- prcomp(RefinedMedical, center = TRUE, scale = TRUE) # (Larose & Larose, 2019)\n",
    "medical_pca "
   ]
  },
  {
   "cell_type": "code",
   "execution_count": 52,
   "id": "ee567183-fa7d-47e1-b440-e3f58bdce5ea",
   "metadata": {
    "vscode": {
     "languageId": "r"
    }
   },
   "outputs": [
    {
     "name": "stderr",
     "output_type": "stream",
     "text": [
      "Warning message:\n",
      "\"ggrepel: 9 unlabeled data points (too many overlaps). Consider increasing max.overlaps\"\n"
     ]
    },
    {
     "data": {
      "image/png": "[encoded data removed]",
      "text/plain": [
       "plot without title"
      ]
     },
     "metadata": {
      "image/png": {
       "height": 360,
       "width": 420
      }
     },
     "output_type": "display_data"
    }
   ],
   "source": [
    "fviz_pca_var(medical_pca, col.var = \"contrib\", gradient.cols = c(\"red\", \"blue\", \"green\"),\n",
    "repel = TRUE, nudge_x = 8, max.overlaps = 30)"
   ]
  },
  {
   "cell_type": "markdown",
   "id": "9aa93bcf-3c5f-4474-9ea2-184672987b61",
   "metadata": {},
   "source": [
    "# Scree Plot"
   ]
  },
  {
   "cell_type": "code",
   "execution_count": 53,
   "id": "5f7da656-dac6-41a2-b721-7eab1dba46dd",
   "metadata": {
    "vscode": {
     "languageId": "r"
    }
   },
   "outputs": [
    {
     "data": {
      "image/png": "[encoded data removed]",
      "text/plain": [
       "plot without title"
      ]
     },
     "metadata": {
      "image/png": {
       "height": 360,
       "width": 420
      }
     },
     "output_type": "display_data"
    }
   ],
   "source": [
    "fviz_eig(medical_pca, choice = \"eigenvalue\", addlabels = TRUE)"
   ]
  },
  {
   "cell_type": "markdown",
   "id": "9d21806a-2605-4e7f-b4a5-d6ea310c1222",
   "metadata": {},
   "source": [
    "# PCA results:\n",
    "I ran the PCA using the packages FactoMineR and factoextra. Then, I created a scree plot to show the number of principal components and eigenvalues. The essential variables in PC1 turned out to be all of the survey questions: timely admin, timely treatment, timely visits, active listening, reliability, hours treatment, and courteous staff. All except for survey_options were in PC1, which was in PC3. In PC2, the most essential ones were total charge, vitamin D levels, case order, initial days, and the unnamed ...1 variable. As a result of the two graphs above, case order, total charge, and initial days seem to be correlated. On the other hand, all of the survey questions seem to be correlated with each other and not the other variables. Hospitals can benefit from an in-depth analysis, actionable insights, and an attempt to reduce doctor visits by age. Those three clusters were the three groups, and the fourth slice in the graph was empty in variables. \n",
    "\n",
    "# How can the PCA benefit the hospital?\n",
    "Comparing all of the variables in this medical data can help a hospital have a better understanding of the relationship in the variables. Furthermore, this can help them be more informed about the readmission rates with an in-depth analysis, using it to take more actions to reduce readmissions in the future. Using the aspect of the surveys, seeing patient satisfactory or unsatisfactory can help determine whether patients will most likely go to a certain hospital. Next, according to vitamin D levels, whether low or high may also determine that. Next, initial days may give hospitals a great insight on patients getting the correct treatment, preventive care, and disease management. Lastly, total charge may be one of the largest factors in whether a patient is more likely to be admitted. Perhaps this can be analyzed with patient income and job status to see whether the patient can afford to return to the hospital, and if they have the funds to pay back the hospital bill."
   ]
  },
  {
   "cell_type": "markdown",
   "id": "0114f5ec-bff9-4411-bb4e-ac7c3b6735ec",
   "metadata": {},
   "source": [
    "### Finally, the very last step is to write the clean data to CSV using the code below:"
   ]
  },
  {
   "cell_type": "markdown",
   "id": "8963dbbc-b045-4741-b775-a9128e38ac75",
   "metadata": {},
   "source": [
    "##### Installing the package I need below to write the clean data to a CSV file:"
   ]
  },
  {
   "cell_type": "code",
   "execution_count": 54,
   "id": "873f8369-93a6-401f-800a-4850f7b866ac",
   "metadata": {
    "tags": [],
    "vscode": {
     "languageId": "r"
    }
   },
   "outputs": [
    {
     "name": "stderr",
     "output_type": "stream",
     "text": [
      "Installing package into 'C:/Users/jesse/Documents/R/win-library/4.1'\n",
      "(as 'lib' is unspecified)\n",
      "\n"
     ]
    },
    {
     "name": "stdout",
     "output_type": "stream",
     "text": [
      "package 'data.table' successfully unpacked and MD5 sums checked\n",
      "\n",
      "The downloaded binary packages are in\n",
      "\tC:\\Users\\jesse\\AppData\\Local\\Temp\\Rtmp2Xj595\\downloaded_packages\n"
     ]
    },
    {
     "name": "stderr",
     "output_type": "stream",
     "text": [
      "Warning message:\n",
      "\"package 'data.table' was built under R version 4.1.3\"\n",
      "\n",
      "Attaching package: 'data.table'\n",
      "\n",
      "\n",
      "The following object is masked from 'package:purrr':\n",
      "\n",
      "    transpose\n",
      "\n",
      "\n",
      "The following objects are masked from 'package:dplyr':\n",
      "\n",
      "    between, first, last\n",
      "\n",
      "\n"
     ]
    },
    {
     "data": {
      "text/html": [
       "-1"
      ],
      "text/latex": [
       "-1"
      ],
      "text/markdown": [
       "-1"
      ],
      "text/plain": [
       "[1] -1"
      ]
     },
     "metadata": {},
     "output_type": "display_data"
    }
   ],
   "source": [
    "install.packages(\"data.table\")\n",
    "library(\"data.table\")\n",
    "(warn = - 1) # Disable warning messages globally\n",
    "\n",
    "fwrite(RefinedMedical,\"C:\\\\Users\\\\jesse\\\\Documents\\\\WGU\\\\Data Cleaning\\\\CleanMedicalData.csv\")"
   ]
  },
  {
   "cell_type": "markdown",
   "id": "32d7170a-54d7-4b93-ba91-dd2d85921931",
   "metadata": {},
   "source": [
    "# Part IV. Supporting Documents\n",
    "\n",
    "F. Panopto recording linked is included separately \n",
    "\n",
    "G. References are included below\n",
    "\n",
    "H. Citations and in-text referencing are included throughout the document\n",
    "\n",
    "*References*\n",
    "\n",
    "Hadley Wickham & Garrett Grolemund. (2017). R for data science: Import, tidy, transform, visualize, and model data. Shroff/O'Reilly; First edition.\n",
    "\n",
    "Larose, C. D., & Larose, D. T. (2019). Data science using python and r. John Wiley & Sons,inc,.\n",
    "\n",
    "Zach. (2020, October 27). How to export a data frame to a CSV file in R (with examples). Statology. Retrieved July 17, 2022, from https://www.statology.org/export-data-frame-to-csv-in-r/ \n"
   ]
  }
 ],
 "metadata": {
  "kernelspec": {
   "display_name": "R",
   "language": "R",
   "name": "ir"
  },
  "language_info": {
   "codemirror_mode": "r",
   "file_extension": ".r",
   "mimetype": "text/x-r-source",
   "name": "R",
   "pygments_lexer": "r",
   "version": "4.2.2"
  }
 },
 "nbformat": 4,
 "nbformat_minor": 5
}
