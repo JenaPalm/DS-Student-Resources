{
 "cells": [
  {
   "cell_type": "markdown",
   "id": "f9e159b1-5316-459a-acc6-99f4051dcd38",
   "metadata": {},
   "source": [
    "<img src=\"https://pages.nist.gov/OSCAL/integrated.png\" align=\"left\" alt=\"image\" width = \"50\" />\n",
    "\n",
    "# OSCAL: the Open Security Controls Assessment Language\n",
    "\n",
    "| [Home](https://pages.nist.gov/OSCAL/) | \n",
    "[About](https://pages.nist.gov/OSCAL/about/) | \n",
    "[Learn](https://pages.nist.gov/OSCAL/learn/) | \n",
    "[Concepts](https://pages.nist.gov/OSCAL/concepts/) | \n",
    "[References](https://pages.nist.gov/OSCAL/reference/) | \n",
    "[Downloads](https://pages.nist.gov/OSCAL/downloads/) | \n",
    "[Examples](https://pages.nist.gov/OSCAL/examples/) | \n",
    "[Tools](https://pages.nist.gov/OSCAL/tools/) | \n",
    "[Contribute](https://pages.nist.gov/OSCAL/contribute/) | \n",
    "[Events](https://pages.nist.gov/OSCAL/events/) | \n",
    "[Contact](https://pages.nist.gov/OSCAL/contact/) | \n",
    "[GitHub](https://github.com/usnistgov/OSCAL/issues/1383) | \n",
    "***"
   ]
  },
  {
   "cell_type": "markdown",
   "id": "0c7715c0-74cb-4659-8dd6-24a56d4c4722",
   "metadata": {},
   "source": [
    "Automated Control-Based Assessment Supporting Control-Based Risk Management with Standardized Formats\n",
    "\n",
    "Providing control-related information in machine-readable formats.\n",
    "NIST, in collaboration with industry, is developing the Open Security Controls Assessment Language (OSCAL). OSCAL is a set of formats expressed in XML, JSON, and YAML. These formats provide machine-readable representations of control catalogs, control baselines, system security plans, and assessment plans and results."
   ]
  },
  {
   "cell_type": "markdown",
   "id": "c03f5f59-4d5c-4827-9ce6-0fd9e70265a4",
   "metadata": {},
   "source": [
    "<img src=\"https://pages.nist.gov/OSCAL/dataCentric.png\" align=\"left\" alt=\"image\" width = \"50\" />\n",
    "\n",
    "## Data-centric\n",
    "Transitions the legacy approach to security plan generation and management (Word and Excel documents) to a data-centric approach based on common data standards such as XML/JSON."
   ]
  },
  {
   "cell_type": "markdown",
   "id": "562ce3f0-6b47-433d-9f13-a705a523cc07",
   "metadata": {},
   "source": [
    "<img src=\"https://pages.nist.gov/OSCAL/integrated.png\" align=\"left\" alt=\"image\" width = \"50\" />\n",
    "\n",
    "## Integrated\n",
    "Allows tool developers to implement APIs and provide a standards-based foundation for next generation compliance tools."
   ]
  },
  {
   "cell_type": "markdown",
   "id": "5ebdd3c4-981d-4253-bb76-0aaeb8c98783",
   "metadata": {},
   "source": [
    "<img src=\"https://pages.nist.gov/OSCAL/extensible.png\" align=\"left\" alt=\"image\" width = \"50\" />\n",
    "\n",
    "## Extensible\n",
    "Puts security compliance data to work by allowing an extensible architecture that expresses security controls in both machine and human readable formats."
   ]
  },
  {
   "cell_type": "markdown",
   "id": "c0f8a9ac-9f69-47b4-83bf-f9c933723143",
   "metadata": {},
   "source": [
    "<img src=\"https://pages.nist.gov/OSCAL/automated.png\" align=\"left\" alt=\"image\" width = \"50\" />\n",
    "\n",
    "## Automated\n",
    "Apply the benefits of the data-centric approach to automate existing processes that are resource intensive."
   ]
  },
  {
   "cell_type": "markdown",
   "id": "5b6752b2-acc1-46ce-b7c7-a6340ca1cc04",
   "metadata": {},
   "source": [
    "\n",
    "\n",
    "## Use Information in OSCAL Formats\n",
    "Control-based information expressed using OSCAL formats allows you to:\n",
    "\n",
    "- Easily access control information from security and privacy control catalogs\n",
    "- Establish and share machine-readable control baselines\n",
    "- Maintain and share actionable, up-to-date information about how controls are implemented in your systems\n",
    "- Automate the monitoring and assessment of your system control implementation effectiveness\n",
    "\n",
    "If you are new to the OSCAL project, we provide [learning materials](https://pages.nist.gov/OSCAL/learn/) for the project."
   ]
  },
  {
   "cell_type": "markdown",
   "id": "d14f6609-c101-4837-b20f-01c27cf91103",
   "metadata": {},
   "source": []
  },
  {
   "cell_type": "code",
   "execution_count": null,
   "id": "35cf38ce-9cc8-4e12-8238-d547ea18c1b2",
   "metadata": {},
   "outputs": [],
   "source": []
  }
 ],
 "metadata": {
  "kernelspec": {
   "display_name": "Python 3.9",
   "language": "python",
   "name": "python3"
  },
  "language_info": {
   "codemirror_mode": {
    "name": "ipython",
    "version": 3
   },
   "file_extension": ".py",
   "mimetype": "text/x-python",
   "name": "python",
   "nbconvert_exporter": "python",
   "pygments_lexer": "ipython3",
   "version": "3.9.16"
  }
 },
 "nbformat": 4,
 "nbformat_minor": 5
}
