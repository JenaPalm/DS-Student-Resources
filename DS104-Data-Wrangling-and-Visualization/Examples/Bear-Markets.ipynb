{
 "cells": [
  {
   "cell_type": "markdown",
   "id": "2fb05b50-8e1a-45b4-a77e-0beb118b66e4",
   "metadata": {},
   "source": [
    "# Bear Markets\n",
    "[reference data](https://www.hartfordfunds.com/practice-management/client-conversations/managing-volatility/bear-markets.html#:~:text=A%20bear%20market%20doesn't,15%20recessions%20during%20that%20time.&text=Bear%20markets%20often%20go%20hand,mean%20a%20recession%20is%20looming.)"
   ]
  },
  {
   "cell_type": "code",
   "execution_count": 20,
   "id": "89fab55c-6f07-4022-a13f-e13b2a79af6a",
   "metadata": {
    "tags": []
   },
   "outputs": [],
   "source": [
    "import pandas as pd"
   ]
  },
  {
   "cell_type": "code",
   "execution_count": 21,
   "id": "79591827-1438-40e6-a71d-ecaf7d222a5c",
   "metadata": {
    "tags": []
   },
   "outputs": [],
   "source": [
    "bears = pd.read_clipboard()"
   ]
  },
  {
   "cell_type": "code",
   "execution_count": 22,
   "id": "1a5e6ef0-17d8-4099-96c3-b37a64475db0",
   "metadata": {
    "tags": []
   },
   "outputs": [
    {
     "data": {
      "text/html": [
       "<div><div id=093af402-61da-4b56-ab00-1ddea9cc67a1 style=\"display:none; background-color:#9D6CFF; color:white; width:200px; height:30px; padding-left:5px; border-radius:4px; flex-direction:row; justify-content:space-around; align-items:center;\" onmouseover=\"this.style.backgroundColor='#BA9BF8'\" onmouseout=\"this.style.backgroundColor='#9D6CFF'\" onclick=\"window.commands?.execute('create-mitosheet-from-dataframe-output');\">See Full Dataframe in Mito</div> <script> if (window.commands?.hasCommand('create-mitosheet-from-dataframe-output')) document.getElementById('093af402-61da-4b56-ab00-1ddea9cc67a1').style.display = 'flex' </script> <table border=\"1\" class=\"dataframe\">\n",
       "  <thead>\n",
       "    <tr style=\"text-align: right;\">\n",
       "      <th></th>\n",
       "      <th>Start and End Date</th>\n",
       "      <th>% Price Decline</th>\n",
       "      <th>Length in Days</th>\n",
       "    </tr>\n",
       "  </thead>\n",
       "  <tbody>\n",
       "    <tr>\n",
       "      <th>0</th>\n",
       "      <td>9/7/1929–11/13/1929</td>\n",
       "      <td>-44.67</td>\n",
       "      <td>67.0</td>\n",
       "    </tr>\n",
       "    <tr>\n",
       "      <th>1</th>\n",
       "      <td>4/10/1930–12/16/1930</td>\n",
       "      <td>-44.29</td>\n",
       "      <td>250.0</td>\n",
       "    </tr>\n",
       "    <tr>\n",
       "      <th>2</th>\n",
       "      <td>2/24/1931–6/2/1931</td>\n",
       "      <td>-32.86</td>\n",
       "      <td>98.0</td>\n",
       "    </tr>\n",
       "    <tr>\n",
       "      <th>3</th>\n",
       "      <td>6/27/1931–10/5/1931</td>\n",
       "      <td>-43.10</td>\n",
       "      <td>100.0</td>\n",
       "    </tr>\n",
       "    <tr>\n",
       "      <th>4</th>\n",
       "      <td>11/9/1931–6/1/1932</td>\n",
       "      <td>-61.81</td>\n",
       "      <td>205.0</td>\n",
       "    </tr>\n",
       "    <tr>\n",
       "      <th>...</th>\n",
       "      <td>...</td>\n",
       "      <td>...</td>\n",
       "      <td>...</td>\n",
       "    </tr>\n",
       "    <tr>\n",
       "      <th>24</th>\n",
       "      <td>1/6/2009–3/9/2009</td>\n",
       "      <td>-27.62</td>\n",
       "      <td>62.0</td>\n",
       "    </tr>\n",
       "    <tr>\n",
       "      <th>25</th>\n",
       "      <td>2/19/2020–3/23/2020</td>\n",
       "      <td>-33.92</td>\n",
       "      <td>33.0</td>\n",
       "    </tr>\n",
       "    <tr>\n",
       "      <th>26</th>\n",
       "      <td>1/3/2022–12/31/2022</td>\n",
       "      <td>NaN</td>\n",
       "      <td>NaN</td>\n",
       "    </tr>\n",
       "    <tr>\n",
       "      <th>27</th>\n",
       "      <td>-19.95</td>\n",
       "      <td>NaN</td>\n",
       "      <td>NaN</td>\n",
       "    </tr>\n",
       "    <tr>\n",
       "      <th>28</th>\n",
       "      <td>361</td>\n",
       "      <td>NaN</td>\n",
       "      <td>NaN</td>\n",
       "    </tr>\n",
       "  </tbody>\n",
       "</table></div>"
      ],
      "text/plain": [
       "      Start and End Date  % Price Decline  Length in Days\n",
       "0    9/7/1929–11/13/1929           -44.67            67.0\n",
       "1   4/10/1930–12/16/1930           -44.29           250.0\n",
       "2     2/24/1931–6/2/1931           -32.86            98.0\n",
       "3    6/27/1931–10/5/1931           -43.10           100.0\n",
       "4     11/9/1931–6/1/1932           -61.81           205.0\n",
       "5     9/7/1932–2/27/1933           -40.60           173.0\n",
       "6   7/18/1933–10/21/1933           -29.75            95.0\n",
       "7     2/6/1934–3/14/1935           -31.81           401.0\n",
       "8     3/6/1937–3/31/1938           -54.50           390.0\n",
       "9     11/9/1938–4/8/1939           -26.18           150.0\n",
       "10  10/25/1939–6/10/1940           -31.95           229.0\n",
       "11   11/9/1940–4/28/1942           -34.47           535.0\n",
       "12   5/29/1946–5/17/1947           -28.78           353.0\n",
       "13   6/15/1948–6/13/1949           -20.57           363.0\n",
       "14   8/2/1956–10/22/1957           -21.63           446.0\n",
       "15  12/12/1961–6/26/1962           -27.97           196.0\n",
       "16    2/9/1966–10/7/1966           -22.18           240.0\n",
       "17  11/29/1968–5/26/1970           -36.06           543.0\n",
       "18   1/11/1973–10/3/1974           -48.20           630.0\n",
       "19  11/28/1980–8/12/1982           -27.11           622.0\n",
       "20   8/25/1987–12/4/1987           -33.51           101.0\n",
       "21   3/24/2000–9/21/2001           -36.77           546.0\n",
       "22    1/4/2002–10/9/2002           -33.75           278.0\n",
       "23  10/9/2007–11/20/2008           -51.93           408.0\n",
       "24     1/6/2009–3/9/2009           -27.62            62.0\n",
       "25   2/19/2020–3/23/2020           -33.92            33.0\n",
       "26   1/3/2022–12/31/2022              NaN             NaN\n",
       "27                -19.95              NaN             NaN\n",
       "28                   361              NaN             NaN"
      ]
     },
     "execution_count": 22,
     "metadata": {},
     "output_type": "execute_result"
    }
   ],
   "source": [
    "bears"
   ]
  },
  {
   "cell_type": "code",
   "execution_count": 23,
   "id": "24b37aa2-6ca0-4ccc-be0c-d27a79d5a042",
   "metadata": {
    "tags": []
   },
   "outputs": [
    {
     "name": "stdout",
     "output_type": "stream",
     "text": [
      "    % Price Decline  Length in Days  Start Date    End Date\n",
      "0            -44.67            67.0    9/7/1929  11/13/1929\n",
      "1            -44.29           250.0   4/10/1930  12/16/1930\n",
      "2            -32.86            98.0   2/24/1931    6/2/1931\n",
      "3            -43.10           100.0   6/27/1931   10/5/1931\n",
      "4            -61.81           205.0   11/9/1931    6/1/1932\n",
      "5            -40.60           173.0    9/7/1932   2/27/1933\n",
      "6            -29.75            95.0   7/18/1933  10/21/1933\n",
      "7            -31.81           401.0    2/6/1934   3/14/1935\n",
      "8            -54.50           390.0    3/6/1937   3/31/1938\n",
      "9            -26.18           150.0   11/9/1938    4/8/1939\n",
      "10           -31.95           229.0  10/25/1939   6/10/1940\n",
      "11           -34.47           535.0   11/9/1940   4/28/1942\n",
      "12           -28.78           353.0   5/29/1946   5/17/1947\n",
      "13           -20.57           363.0   6/15/1948   6/13/1949\n",
      "14           -21.63           446.0    8/2/1956  10/22/1957\n",
      "15           -27.97           196.0  12/12/1961   6/26/1962\n",
      "16           -22.18           240.0    2/9/1966   10/7/1966\n",
      "17           -36.06           543.0  11/29/1968   5/26/1970\n",
      "18           -48.20           630.0   1/11/1973   10/3/1974\n",
      "19           -27.11           622.0  11/28/1980   8/12/1982\n",
      "20           -33.51           101.0   8/25/1987   12/4/1987\n",
      "21           -36.77           546.0   3/24/2000   9/21/2001\n",
      "22           -33.75           278.0    1/4/2002   10/9/2002\n",
      "23           -51.93           408.0   10/9/2007  11/20/2008\n",
      "24           -27.62            62.0    1/6/2009    3/9/2009\n",
      "25           -33.92            33.0   2/19/2020   3/23/2020\n",
      "26              NaN             NaN    1/3/2022  12/31/2022\n",
      "27              NaN             NaN      -19.95        None\n",
      "28              NaN             NaN         361        None\n"
     ]
    }
   ],
   "source": [
    "# split Date column into Start Date and End Date columns\n",
    "bears[['Start Date', 'End Date']] = bears['Start and End Date'].str.split('–', expand=True)\n",
    "\n",
    "# drop the original Date column\n",
    "bears = bears.drop('Start and End Date', axis=1)\n",
    "\n",
    "# display the result\n",
    "print(bears)"
   ]
  },
  {
   "cell_type": "code",
   "execution_count": 28,
   "id": "4d80d2c9-42cf-4bcc-8055-38bfb1a4e52a",
   "metadata": {
    "tags": []
   },
   "outputs": [],
   "source": [
    "# drop rows with any NaN or None values\n",
    "bears2 = bears.dropna(how='any')"
   ]
  },
  {
   "cell_type": "code",
   "execution_count": 29,
   "id": "173d2ad9-e675-498d-b8fc-3ba143ccf090",
   "metadata": {
    "tags": []
   },
   "outputs": [
    {
     "name": "stdout",
     "output_type": "stream",
     "text": [
      "    % Price Decline  Length in Days  Start Date    End Date\n",
      "0            -44.67            67.0    9/7/1929  11/13/1929\n",
      "1            -44.29           250.0   4/10/1930  12/16/1930\n",
      "2            -32.86            98.0   2/24/1931    6/2/1931\n",
      "3            -43.10           100.0   6/27/1931   10/5/1931\n",
      "4            -61.81           205.0   11/9/1931    6/1/1932\n",
      "5            -40.60           173.0    9/7/1932   2/27/1933\n",
      "6            -29.75            95.0   7/18/1933  10/21/1933\n",
      "7            -31.81           401.0    2/6/1934   3/14/1935\n",
      "8            -54.50           390.0    3/6/1937   3/31/1938\n",
      "9            -26.18           150.0   11/9/1938    4/8/1939\n",
      "10           -31.95           229.0  10/25/1939   6/10/1940\n",
      "11           -34.47           535.0   11/9/1940   4/28/1942\n",
      "12           -28.78           353.0   5/29/1946   5/17/1947\n",
      "13           -20.57           363.0   6/15/1948   6/13/1949\n",
      "14           -21.63           446.0    8/2/1956  10/22/1957\n",
      "15           -27.97           196.0  12/12/1961   6/26/1962\n",
      "16           -22.18           240.0    2/9/1966   10/7/1966\n",
      "17           -36.06           543.0  11/29/1968   5/26/1970\n",
      "18           -48.20           630.0   1/11/1973   10/3/1974\n",
      "19           -27.11           622.0  11/28/1980   8/12/1982\n",
      "20           -33.51           101.0   8/25/1987   12/4/1987\n",
      "21           -36.77           546.0   3/24/2000   9/21/2001\n",
      "22           -33.75           278.0    1/4/2002   10/9/2002\n",
      "23           -51.93           408.0   10/9/2007  11/20/2008\n",
      "24           -27.62            62.0    1/6/2009    3/9/2009\n",
      "25           -33.92            33.0   2/19/2020   3/23/2020\n"
     ]
    }
   ],
   "source": [
    "print(bears2)"
   ]
  },
  {
   "cell_type": "code",
   "execution_count": 31,
   "id": "9d20de92-a8ff-4bbc-843b-4caded62972c",
   "metadata": {
    "tags": []
   },
   "outputs": [
    {
     "name": "stdout",
     "output_type": "stream",
     "text": [
      "    % Price Decline  Length in Days  Start Date    End Date\n",
      "0            -44.67            67.0    9/7/1929  11/13/1929\n",
      "1            -44.29           250.0   4/10/1930  12/16/1930\n",
      "2            -32.86            98.0   2/24/1931    6/2/1931\n",
      "3            -43.10           100.0   6/27/1931   10/5/1931\n",
      "4            -61.81           205.0   11/9/1931    6/1/1932\n",
      "5            -40.60           173.0    9/7/1932   2/27/1933\n",
      "6            -29.75            95.0   7/18/1933  10/21/1933\n",
      "7            -31.81           401.0    2/6/1934   3/14/1935\n",
      "8            -54.50           390.0    3/6/1937   3/31/1938\n",
      "9            -26.18           150.0   11/9/1938    4/8/1939\n",
      "10           -31.95           229.0  10/25/1939   6/10/1940\n",
      "11           -34.47           535.0   11/9/1940   4/28/1942\n",
      "12           -28.78           353.0   5/29/1946   5/17/1947\n",
      "13           -20.57           363.0   6/15/1948   6/13/1949\n",
      "14           -21.63           446.0    8/2/1956  10/22/1957\n",
      "15           -27.97           196.0  12/12/1961   6/26/1962\n",
      "16           -22.18           240.0    2/9/1966   10/7/1966\n",
      "17           -36.06           543.0  11/29/1968   5/26/1970\n",
      "18           -48.20           630.0   1/11/1973   10/3/1974\n",
      "19           -27.11           622.0  11/28/1980   8/12/1982\n",
      "20           -33.51           101.0   8/25/1987   12/4/1987\n",
      "21           -36.77           546.0   3/24/2000   9/21/2001\n",
      "22           -33.75           278.0    1/4/2002   10/9/2002\n",
      "23           -51.93           408.0   10/9/2007  11/20/2008\n",
      "24           -27.62            62.0    1/6/2009    3/9/2009\n",
      "25           -33.92            33.0   2/19/2020   3/23/2020\n",
      "26           -19.95           361.0    1/3/2022  12/31/2022\n"
     ]
    }
   ],
   "source": [
    "# we need to add the 26th row to the dataframe that was missing during copy cliboard\n",
    "\n",
    "# create dataframe with new data\n",
    "new_data = pd.DataFrame({\n",
    "    '% Price Decline': [-19.95],\n",
    "    'Length in Days': [361],\n",
    "    'Start Date': ['1/3/2022'],\n",
    "    'End Date': ['12/31/2022']\n",
    "})\n",
    "\n",
    "# concatenate new data to existing data\n",
    "bears3 = pd.concat([bears2, new_data], ignore_index=True)\n",
    "\n",
    "# display the result\n",
    "print(bears3)"
   ]
  },
  {
   "cell_type": "code",
   "execution_count": 33,
   "id": "979a8297-fe4c-4f1c-ac75-d5615bddb07b",
   "metadata": {
    "tags": []
   },
   "outputs": [
    {
     "name": "stdout",
     "output_type": "stream",
     "text": [
      "Average % Price Decline: -35.03\n",
      "Average Length in Days: 291.67\n"
     ]
    }
   ],
   "source": [
    "# calculate the mean of the % Price Decline and Length in Days columns\n",
    "avg_price_decline = bears3['% Price Decline'].mean()\n",
    "avg_length_in_days = bears3['Length in Days'].mean()\n",
    "\n",
    "# display the results\n",
    "print('Average % Price Decline: {:.2f}'.format(avg_price_decline))\n",
    "print('Average Length in Days: {:.2f}'.format(avg_length_in_days))"
   ]
  },
  {
   "cell_type": "code",
   "execution_count": 35,
   "id": "cfe2b9bc-0457-4b06-be5d-0d3f166f2c38",
   "metadata": {
    "tags": []
   },
   "outputs": [],
   "source": [
    "# create dataset\n",
    "bears3.to_csv(\"bear_markets.csv\")"
   ]
  },
  {
   "cell_type": "code",
   "execution_count": null,
   "id": "03aaa8e8-130a-413d-bc93-144d0f63c662",
   "metadata": {},
   "outputs": [],
   "source": []
  }
 ],
 "metadata": {
  "kernelspec": {
   "display_name": "Python 3 (ipykernel)",
   "language": "python",
   "name": "python3"
  },
  "language_info": {
   "codemirror_mode": {
    "name": "ipython",
    "version": 3
   },
   "file_extension": ".py",
   "mimetype": "text/x-python",
   "name": "python",
   "nbconvert_exporter": "python",
   "pygments_lexer": "ipython3",
   "version": "3.9.16"
  }
 },
 "nbformat": 4,
 "nbformat_minor": 5
}
