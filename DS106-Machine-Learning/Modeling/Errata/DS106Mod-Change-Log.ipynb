{
 "cells": [
  {
   "cell_type": "markdown",
   "id": "fdc75d44-40c6-4de7-856f-9c2f96ec9088",
   "metadata": {
    "tags": []
   },
   "source": [
    "# Change Log\n",
    "\n",
    "1. DS106L5P6, Fixed B2 to C2 in example, [DS106L5P6 Example](../DS106L5.ipynb#C2), [UAT Link](https://wozu.uat.exeterlms.com/lesson/47813/topic/785859), [Jira ticket link](https://woz-u-projects.atlassian.net/browse/CUR-1894) \n",
    "2. DS106L5P8 Modeling, included Python as option for hands on, [DS106-Modeling-L5-handson-Py](../DS106L5.ipynb#Python2), [Jira ticket link](https://woz-u-projects.atlassian.net/browse/CUR-1906)\n",
    "3. DS106L1P6 Modeling, adding a note for R code discrepancy when using Jupyter Lab, [DS106-Modeling-L1P6Code-R](../DS106-L1-Modeling-with-linear-regression.ipynb#forjupyter), [Jira ticket link](https://woz-u-projects.atlassian.net/browse/CUR-2030)\n",
    "4. DS106L1P6 Modeling, the value and location for p-value were incorrect, [DS106-Modeling-L1P6value-R](../DS106-L1-Modeling-with-linear-regression.ipynb#pvalue), [Jira ticket link](https://woz-u-projects.atlassian.net/browse/CUR-2031)\n",
    "5.  DS106L3P5 Removed repeated work does [Jira ticket link](https://woz-u-projects.atlassian.net/browse/CUR-2825)\n",
    "6.  DS106L1P6 Corrected Cooks Distance code. [Jira ticket link](https://woz-u-projects.atlassian.net/browse/CUR-3054)\n"
   ]
  },
  {
   "cell_type": "markdown",
   "id": "fdd50c47-9323-430d-8b3e-7cb5a718a7dd",
   "metadata": {},
   "source": [
    "# TODO List:\n",
    "\n",
    "1. Lesson 2 Page 5 needs better example\n",
    "2.\n"
   ]
  },
  {
   "cell_type": "code",
   "execution_count": null,
   "id": "f6e8c488-6a70-4943-9f61-8441ee6b6e4a",
   "metadata": {},
   "outputs": [],
   "source": []
  }
 ],
 "metadata": {
  "kernelspec": {
   "display_name": "Python 3 (ipykernel)",
   "language": "python",
   "name": "python3"
  },
  "language_info": {
   "codemirror_mode": {
    "name": "ipython",
    "version": 3
   },
   "file_extension": ".py",
   "mimetype": "text/x-python",
   "name": "python",
   "nbconvert_exporter": "python",
   "pygments_lexer": "ipython3",
   "version": "3.10.2"
  }
 },
 "nbformat": 4,
 "nbformat_minor": 5
}
