{
 "cells": [
  {
   "cell_type": "markdown",
   "id": "fe693344-ce64-4008-9b65-b8b6ce4ad515",
   "metadata": {},
   "source": [
    "Linear regression is just the base that we build on. Real world problems often requires more sophisticated non-linear models.\n",
    "How Non-linear? \n",
    "-  Quadratic\n",
    "-  Exponential\n",
    "-  Logistic\n"
   ]
  },
  {
   "cell_type": "markdown",
   "id": "30565126-a647-4186-be8f-b289567bf9de",
   "metadata": {},
   "source": [
    "<p style=\"text-align: center\">\n",
    "  <img  src=\"../../../Media/logistic-regression.png\" width=\"600\" alt=\"Logistic-Regression\">\n",
    "</p>"
   ]
  },
  {
   "cell_type": "markdown",
   "id": "1e6f6d41-e3ea-4f01-a738-b184d84f4c9a",
   "metadata": {},
   "source": [
    "The possible outcomes of a logistic regression are not numerical. But rather Categorical. We can predict categorical outcomes through a logistic regression"
   ]
  },
  {
   "cell_type": "markdown",
   "id": "1c3eceb7-61d2-49ad-96da-85c96e16429c",
   "metadata": {},
   "source": [
    "<p style=\"text-align: center\">\n",
    "  <img  src=\"../../../Media/logistic-regression-2.png\" width=\"600\" alt=\"Logistic-Regression\">\n",
    "</p>"
   ]
  },
  {
   "cell_type": "markdown",
   "id": "63025bc5-66be-4080-879c-7a2eb828c265",
   "metadata": {},
   "source": [
    "Similar to our SAT GPA simple linear regression example, In this section we will explore SAT Admissions problem.\n",
    "Our focus will be predicting whether a student will be admitted or not"
   ]
  },
  {
   "cell_type": "markdown",
   "id": "c046e8a8-0096-4c23-a935-f6efa0c34212",
   "metadata": {},
   "source": [
    "## Import the relevant libraries"
   ]
  },
  {
   "cell_type": "code",
   "execution_count": 26,
   "id": "334f438e-c00e-4d2d-9beb-471cd7e2369d",
   "metadata": {},
   "outputs": [],
   "source": [
    "import numpy as np\n",
    "import pandas as pd\n",
    "import statsmodels.api as sm\n",
    "import matplotlib.pyplot as plt\n",
    "import seaborn as sns\n",
    "sns.set()"
   ]
  },
  {
   "cell_type": "markdown",
   "id": "8738628b-965c-4f85-a942-1a3a9f6ab3e7",
   "metadata": {},
   "source": [
    "## Load the data"
   ]
  },
  {
   "cell_type": "code",
   "execution_count": 61,
   "id": "f34f1c1f-032c-4f2a-9a62-03609a577086",
   "metadata": {},
   "outputs": [
    {
     "data": {
      "text/html": [
       "<div>\n",
       "<style scoped>\n",
       "    .dataframe tbody tr th:only-of-type {\n",
       "        vertical-align: middle;\n",
       "    }\n",
       "\n",
       "    .dataframe tbody tr th {\n",
       "        vertical-align: top;\n",
       "    }\n",
       "\n",
       "    .dataframe thead th {\n",
       "        text-align: right;\n",
       "    }\n",
       "</style>\n",
       "<table border=\"1\" class=\"dataframe\">\n",
       "  <thead>\n",
       "    <tr style=\"text-align: right;\">\n",
       "      <th></th>\n",
       "      <th>SAT</th>\n",
       "      <th>Admitted</th>\n",
       "    </tr>\n",
       "  </thead>\n",
       "  <tbody>\n",
       "    <tr>\n",
       "      <th>0</th>\n",
       "      <td>1363</td>\n",
       "      <td>No</td>\n",
       "    </tr>\n",
       "    <tr>\n",
       "      <th>1</th>\n",
       "      <td>1792</td>\n",
       "      <td>Yes</td>\n",
       "    </tr>\n",
       "    <tr>\n",
       "      <th>2</th>\n",
       "      <td>1954</td>\n",
       "      <td>Yes</td>\n",
       "    </tr>\n",
       "    <tr>\n",
       "      <th>3</th>\n",
       "      <td>1653</td>\n",
       "      <td>No</td>\n",
       "    </tr>\n",
       "    <tr>\n",
       "      <th>4</th>\n",
       "      <td>1593</td>\n",
       "      <td>No</td>\n",
       "    </tr>\n",
       "    <tr>\n",
       "      <th>...</th>\n",
       "      <td>...</td>\n",
       "      <td>...</td>\n",
       "    </tr>\n",
       "    <tr>\n",
       "      <th>163</th>\n",
       "      <td>1722</td>\n",
       "      <td>Yes</td>\n",
       "    </tr>\n",
       "    <tr>\n",
       "      <th>164</th>\n",
       "      <td>1750</td>\n",
       "      <td>Yes</td>\n",
       "    </tr>\n",
       "    <tr>\n",
       "      <th>165</th>\n",
       "      <td>1555</td>\n",
       "      <td>No</td>\n",
       "    </tr>\n",
       "    <tr>\n",
       "      <th>166</th>\n",
       "      <td>1524</td>\n",
       "      <td>No</td>\n",
       "    </tr>\n",
       "    <tr>\n",
       "      <th>167</th>\n",
       "      <td>1461</td>\n",
       "      <td>No</td>\n",
       "    </tr>\n",
       "  </tbody>\n",
       "</table>\n",
       "<p>168 rows × 2 columns</p>\n",
       "</div>"
      ],
      "text/plain": [
       "      SAT Admitted\n",
       "0    1363       No\n",
       "1    1792      Yes\n",
       "2    1954      Yes\n",
       "3    1653       No\n",
       "4    1593       No\n",
       "..    ...      ...\n",
       "163  1722      Yes\n",
       "164  1750      Yes\n",
       "165  1555       No\n",
       "166  1524       No\n",
       "167  1461       No\n",
       "\n",
       "[168 rows x 2 columns]"
      ]
     },
     "execution_count": 61,
     "metadata": {},
     "output_type": "execute_result"
    }
   ],
   "source": [
    "raw_data = pd.read_csv(\"../../Data/admittance.csv\")\n",
    "raw_data"
   ]
  },
  {
   "cell_type": "markdown",
   "id": "e3624d40-14d4-46d6-ab41-2cd8e5548e73",
   "metadata": {},
   "source": [
    "Like dummies, we must convert Yes/No entries to 1s and 0s to be able to use the data for quantitative analysis."
   ]
  },
  {
   "cell_type": "code",
   "execution_count": 62,
   "id": "5b6aa3fd-dcee-491c-9732-f632316b688c",
   "metadata": {},
   "outputs": [],
   "source": [
    "data = raw_data.copy()\n",
    "data['Admitted'] = data['Admitted'].map({'Yes':1,'No':0})"
   ]
  },
  {
   "cell_type": "code",
   "execution_count": 63,
   "id": "a075b654-fc27-4db0-9ffa-7176c3e44ca8",
   "metadata": {},
   "outputs": [
    {
     "data": {
      "text/html": [
       "<div>\n",
       "<style scoped>\n",
       "    .dataframe tbody tr th:only-of-type {\n",
       "        vertical-align: middle;\n",
       "    }\n",
       "\n",
       "    .dataframe tbody tr th {\n",
       "        vertical-align: top;\n",
       "    }\n",
       "\n",
       "    .dataframe thead th {\n",
       "        text-align: right;\n",
       "    }\n",
       "</style>\n",
       "<table border=\"1\" class=\"dataframe\">\n",
       "  <thead>\n",
       "    <tr style=\"text-align: right;\">\n",
       "      <th></th>\n",
       "      <th>SAT</th>\n",
       "      <th>Admitted</th>\n",
       "    </tr>\n",
       "  </thead>\n",
       "  <tbody>\n",
       "    <tr>\n",
       "      <th>0</th>\n",
       "      <td>1363</td>\n",
       "      <td>0</td>\n",
       "    </tr>\n",
       "    <tr>\n",
       "      <th>1</th>\n",
       "      <td>1792</td>\n",
       "      <td>1</td>\n",
       "    </tr>\n",
       "    <tr>\n",
       "      <th>2</th>\n",
       "      <td>1954</td>\n",
       "      <td>1</td>\n",
       "    </tr>\n",
       "    <tr>\n",
       "      <th>3</th>\n",
       "      <td>1653</td>\n",
       "      <td>0</td>\n",
       "    </tr>\n",
       "    <tr>\n",
       "      <th>4</th>\n",
       "      <td>1593</td>\n",
       "      <td>0</td>\n",
       "    </tr>\n",
       "  </tbody>\n",
       "</table>\n",
       "</div>"
      ],
      "text/plain": [
       "    SAT  Admitted\n",
       "0  1363         0\n",
       "1  1792         1\n",
       "2  1954         1\n",
       "3  1653         0\n",
       "4  1593         0"
      ]
     },
     "execution_count": 63,
     "metadata": {},
     "output_type": "execute_result"
    }
   ],
   "source": [
    "data.head()"
   ]
  },
  {
   "cell_type": "markdown",
   "id": "57c7443a-ea3d-4029-9cf1-918cdae9dd26",
   "metadata": {},
   "source": [
    "## Variables"
   ]
  },
  {
   "cell_type": "code",
   "execution_count": 64,
   "id": "82d64472-7ca7-4609-a83e-c4ffd59c2e2e",
   "metadata": {},
   "outputs": [],
   "source": [
    "y = data['Admitted']\n",
    "x1 = data['SAT']"
   ]
  },
  {
   "cell_type": "markdown",
   "id": "916d01c8-b9ef-4c1f-b224-132216f42f33",
   "metadata": {},
   "source": [
    "## Let's plot the data"
   ]
  },
  {
   "cell_type": "code",
   "execution_count": 65,
   "id": "9f1eeacb-b19f-425c-8afc-0eed5b44bb9b",
   "metadata": {},
   "outputs": [
    {
     "data": {
      "image/png": "[encoded data removed]",
      "text/plain": [
       "<Figure size 432x288 with 1 Axes>"
      ]
     },
     "metadata": {},
     "output_type": "display_data"
    }
   ],
   "source": [
    "plt.scatter(x,y, color='C0')\n",
    "plt.xlabel('SAT', fontsize=20)\n",
    "plt.ylabel('Admitted', fontsize=20)\n",
    "plt.show()\n",
    "## this what happen when we deal with categorical outcomes"
   ]
  },
  {
   "cell_type": "code",
   "execution_count": 24,
   "id": "a20f2418-d395-4b68-86f7-6a6c127e1760",
   "metadata": {},
   "outputs": [],
   "source": [
    "## Its clear to note that a linear regression is not a fit for this kind of analysis, thus, we must use a non-linear approaches!"
   ]
  },
  {
   "cell_type": "code",
   "execution_count": 69,
   "id": "90b846f5-b2b9-42b6-91ca-03bf6615a493",
   "metadata": {},
   "outputs": [],
   "source": [
    "x=sm.add_constant(x1)"
   ]
  },
  {
   "cell_type": "markdown",
   "id": "36bc63ca-dbf0-4854-8b8b-86030c7cf3a6",
   "metadata": {},
   "source": [
    "### Plot with a logistic regression curve"
   ]
  },
  {
   "cell_type": "code",
   "execution_count": 70,
   "id": "664791e3-426f-4065-8927-fb134d41beae",
   "metadata": {},
   "outputs": [
    {
     "name": "stdout",
     "output_type": "stream",
     "text": [
      "Optimization terminated successfully.\n",
      "         Current function value: 0.137766\n",
      "         Iterations 10\n"
     ]
    },
    {
     "data": {
      "image/png": "[encoded data removed]",
      "text/plain": [
       "<Figure size 432x288 with 1 Axes>"
      ]
     },
     "metadata": {},
     "output_type": "display_data"
    }
   ],
   "source": [
    "reg_log = sm.Logit(y,x)\n",
    "results_log = reg_log.fit()\n",
    "def f(x,b0,b1):\n",
    "    return np.array(np.exp(b0+x*b1) / (1 + np.exp(b0+x*b1)))\n",
    "\n",
    "f_sorted = np.sort(f(x1, results_log.params[0], results_log.params[1]))\n",
    "x_sorted = np.sort(np.array(x1))\n",
    "\n",
    "plt.scatter(x1,y, color='C0')\n",
    "plt.xlabel('SAT', fontsize=20)\n",
    "plt.ylabel('Admitted', fontsize=20)\n",
    "plt.plot(x_sorted, f_sorted, color='C8')\n",
    "plt.show()"
   ]
  },
  {
   "cell_type": "markdown",
   "id": "fca7700e-61f2-42f9-a7b6-0ce4d06446ee",
   "metadata": {},
   "source": [
    "### Interpretation"
   ]
  },
  {
   "cell_type": "markdown",
   "id": "cec77a27-d469-42bc-8cd9-473a8a72b391",
   "metadata": {},
   "source": [
    "The function shows the probability of an admission given and SAT score.\n",
    "When an SAT score is relatively low, the probability of getting admitted is 0\n",
    "When an SAT score is relatively high, the probability of getting admitted is 1\n",
    "A score between 1600 and 1750 is uncertain, so there is a probability associated with it.\n",
    "For instance, if you score 1650, you have roughly 50% chance of getting admitted. \n"
   ]
  },
  {
   "cell_type": "code",
   "execution_count": null,
   "id": "5da3d03f-27d6-44cd-90b6-93e7890d91fc",
   "metadata": {},
   "outputs": [],
   "source": []
  }
 ],
 "metadata": {
  "kernelspec": {
   "display_name": "Python 3 (ipykernel)",
   "language": "python",
   "name": "python3"
  },
  "language_info": {
   "codemirror_mode": {
    "name": "ipython",
    "version": 3
   },
   "file_extension": ".py",
   "mimetype": "text/x-python",
   "name": "python",
   "nbconvert_exporter": "python",
   "pygments_lexer": "ipython3",
   "version": "3.9.16"
  }
 },
 "nbformat": 4,
 "nbformat_minor": 5
}
