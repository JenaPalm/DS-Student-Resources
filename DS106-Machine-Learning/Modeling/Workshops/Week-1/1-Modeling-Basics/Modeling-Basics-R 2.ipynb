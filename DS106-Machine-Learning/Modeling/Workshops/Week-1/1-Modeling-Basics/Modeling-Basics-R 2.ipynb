{
 "cells": [
  {
   "cell_type": "markdown",
   "id": "3ecd8d69-ad37-4df7-a0e6-3e0bc4ff7f35",
   "metadata": {},
   "source": [
    "# Modeling Basics"
   ]
  },
  {
   "cell_type": "markdown",
   "id": "46825449-20db-45b2-986a-04d1cf9da03c",
   "metadata": {},
   "source": [
    "* [Table of Contents](#DS10611_toc)\n",
    "    * [Page 1 - What is a Model?](#DS106W1_page_1)\n",
    "    * [Page 2 - Why Mathematical Modeling?](#DS106W1_page_2)\n",
    "    * [Page 3 - A Basic Regression Example](#DS106W1_page_3)\n",
    "    * [Page 4 - What is a Residual? ](#DS106W1_page_4)\n",
    "    * [Page 5 - Assumptions for Linear Regression](#DS106W1_page_5)\n",
    "    * [Page 6 - You'll Get Along Swimmingly with Regression in R!](#DS106W1_page_6)\n",
    "    * [Page 7 - Running Simple Linear Regression and Interpreting the Output](#DS106W1_page_7)\n",
    "    * [Page 8 - Regression in Python](#DS106W1_page_8)\n",
    "    * [Page 9 - Interpreting the Regression Output](#DS106W1_page_9)\n",
    "    * [Page 10 - Key Terms](#DS106W1_page_10)\n",
    "    * [Page 11 - Lesson 1 Practice Hands-On](#DS106W1_page_11)\n",
    "    * [Page 12 - Lesson 1 Practice Hands-On Solution](#DS106W1_page_12)"
   ]
  },
  {
   "cell_type": "markdown",
   "id": "4491032a-081e-4682-a4cb-d4327f7836f0",
   "metadata": {},
   "source": [
    "<hr style=\"height:10px;border-width:0;color:gray;background-color:gray\">\n",
    "\n",
    "## Page 1 - What is a Model? <a class=\"anchor\" id=\"DS106W1_page_1\"></a>\n",
    "\n",
    "[Back to Top](#DS106W1_toc)\n",
    "\n",
    "<hr style=\"height:10px;border-width:0;color:gray;background-color:gray\">"
   ]
  },
  {
   "cell_type": "markdown",
   "id": "bed8f2bc-14b7-4634-b8e6-15fd57a87d4e",
   "metadata": {},
   "source": [
    "A Model is:\n",
    "1. a miniature or abstract representation of something in the real world;\n",
    "2. a pattern of something to be made;\n",
    "3. an example for imitation or emulation;\n",
    "4. a representation of something to be visualized;\n",
    "\n",
    "**Physical models** usually take shape in the form of a miniature in scale object to showcase the larger object. These can be easily identified as models of the solar system, buildings, planes, trains, automobiles, etc. These types of models can have applications for thermodynamics, fluid mechanics, aeronautics, and architecture.\n",
    "\n",
    "**Schematic models** these take the form of organization charts, process charts, graphs, geographical maps, diagrams, etc.\n",
    "\n",
    "**Mathematical models** are the representations of the behavior of real objects and phenomena in mathematical language.\n",
    "\n",
    "These are the symbols relating to:\n",
    "\n",
    "- Algebraic equations $ x^2 + 2x + 3 = 0 $\n",
    "- Differential equations $ \\frac{dy}{dx} = \\sin x$ \n",
    "- Integral equations\n",
    "- Algorithms\n",
    "- Formulae $ x = \\frac{-b \\pm \\sqrt{b^2 - yac}}{2a}  $\n",
    "- Theorems\n",
    "\n",
    "\n",
    "\n"
   ]
  },
  {
   "cell_type": "markdown",
   "id": "97fa861e-0e54-4bdf-89d2-965d0eb94dc4",
   "metadata": {},
   "source": [
    "<hr style=\"height:10px;border-width:0;color:gray;background-color:gray\">\n",
    "\n",
    "## Page 2 - Why Mathematical Modeling? <a class=\"anchor\" id=\"DS106W1_page_2\"></a>\n",
    "\n",
    "[Back to Top](#DS106W1_toc)\n",
    "\n",
    "<hr style=\"height:10px;border-width:0;color:gray;background-color:gray\">"
   ]
  },
  {
   "cell_type": "code",
   "execution_count": null,
   "id": "fa39ed2f-f2ee-47f8-88f4-b5c4784d0eab",
   "metadata": {},
   "outputs": [],
   "source": [
    "The quantification of an abstract "
   ]
  }
 ],
 "metadata": {
  "kernelspec": {
   "display_name": "R",
   "language": "R",
   "name": "ir"
  },
  "language_info": {
   "codemirror_mode": "r",
   "file_extension": ".r",
   "mimetype": "text/x-r-source",
   "name": "R",
   "pygments_lexer": "r",
   "version": "4.2.0"
  }
 },
 "nbformat": 4,
 "nbformat_minor": 5
}
