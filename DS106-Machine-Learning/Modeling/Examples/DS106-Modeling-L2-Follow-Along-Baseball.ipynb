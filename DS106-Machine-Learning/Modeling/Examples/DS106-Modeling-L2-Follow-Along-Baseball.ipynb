{
 "cells": [
  {
   "cell_type": "markdown",
   "id": "0d2c4bb8",
   "metadata": {},
   "source": [
    "# DSO106 L2 Modeling with Logistic Regression - Python"
   ]
  },
  {
   "cell_type": "markdown",
   "id": "774c6fe7",
   "metadata": {},
   "source": [
    "# import packages"
   ]
  },
  {
   "cell_type": "code",
   "execution_count": 2,
   "id": "09634395",
   "metadata": {},
   "outputs": [],
   "source": [
    "import pandas as pd\n",
    "import statsmodels.api as sm"
   ]
  },
  {
   "cell_type": "markdown",
   "id": "6296d2b6",
   "metadata": {},
   "source": [
    "# import dataset"
   ]
  },
  {
   "cell_type": "code",
   "execution_count": 4,
   "id": "a6ad71cb",
   "metadata": {},
   "outputs": [],
   "source": [
    "baseball = pd.read_csv('../Data/baseball.csv')"
   ]
  },
  {
   "cell_type": "code",
   "execution_count": 5,
   "id": "4d99a9cc",
   "metadata": {},
   "outputs": [
    {
     "data": {
      "text/html": [
       "<div>\n",
       "<style scoped>\n",
       "    .dataframe tbody tr th:only-of-type {\n",
       "        vertical-align: middle;\n",
       "    }\n",
       "\n",
       "    .dataframe tbody tr th {\n",
       "        vertical-align: top;\n",
       "    }\n",
       "\n",
       "    .dataframe thead th {\n",
       "        text-align: right;\n",
       "    }\n",
       "</style>\n",
       "<table border=\"1\" class=\"dataframe\">\n",
       "  <thead>\n",
       "    <tr style=\"text-align: right;\">\n",
       "      <th></th>\n",
       "      <th>Game</th>\n",
       "      <th>Team</th>\n",
       "      <th>Opp</th>\n",
       "      <th>W/L</th>\n",
       "      <th>R</th>\n",
       "      <th>RA</th>\n",
       "      <th>D/N</th>\n",
       "      <th>Att</th>\n",
       "      <th>Team.1</th>\n",
       "      <th>HR Count</th>\n",
       "    </tr>\n",
       "  </thead>\n",
       "  <tbody>\n",
       "    <tr>\n",
       "      <th>0</th>\n",
       "      <td>1</td>\n",
       "      <td>ARI</td>\n",
       "      <td>SFG</td>\n",
       "      <td>W</td>\n",
       "      <td>6</td>\n",
       "      <td>5</td>\n",
       "      <td>D</td>\n",
       "      <td>49016.0</td>\n",
       "      <td>ARI</td>\n",
       "      <td>1</td>\n",
       "    </tr>\n",
       "    <tr>\n",
       "      <th>1</th>\n",
       "      <td>1</td>\n",
       "      <td>CHC</td>\n",
       "      <td>STL</td>\n",
       "      <td>L</td>\n",
       "      <td>3</td>\n",
       "      <td>4</td>\n",
       "      <td>N</td>\n",
       "      <td>47566.0</td>\n",
       "      <td>CHC</td>\n",
       "      <td>1</td>\n",
       "    </tr>\n",
       "    <tr>\n",
       "      <th>2</th>\n",
       "      <td>1</td>\n",
       "      <td>NYY</td>\n",
       "      <td>TBR</td>\n",
       "      <td>L</td>\n",
       "      <td>3</td>\n",
       "      <td>7</td>\n",
       "      <td>D</td>\n",
       "      <td>31042.0</td>\n",
       "      <td>NYY</td>\n",
       "      <td>0</td>\n",
       "    </tr>\n",
       "    <tr>\n",
       "      <th>3</th>\n",
       "      <td>1</td>\n",
       "      <td>SFG</td>\n",
       "      <td>ARI</td>\n",
       "      <td>L</td>\n",
       "      <td>5</td>\n",
       "      <td>6</td>\n",
       "      <td>D</td>\n",
       "      <td>49016.0</td>\n",
       "      <td>SF</td>\n",
       "      <td>2</td>\n",
       "    </tr>\n",
       "    <tr>\n",
       "      <th>4</th>\n",
       "      <td>1</td>\n",
       "      <td>STL</td>\n",
       "      <td>CHC</td>\n",
       "      <td>W</td>\n",
       "      <td>4</td>\n",
       "      <td>3</td>\n",
       "      <td>N</td>\n",
       "      <td>47566.0</td>\n",
       "      <td>STL</td>\n",
       "      <td>1</td>\n",
       "    </tr>\n",
       "  </tbody>\n",
       "</table>\n",
       "</div>"
      ],
      "text/plain": [
       "   Game Team  Opp W/L  R  RA D/N      Att Team.1  HR Count\n",
       "0     1  ARI  SFG   W  6   5   D  49016.0    ARI         1\n",
       "1     1  CHC  STL   L  3   4   N  47566.0    CHC         1\n",
       "2     1  NYY  TBR   L  3   7   D  31042.0    NYY         0\n",
       "3     1  SFG  ARI   L  5   6   D  49016.0     SF         2\n",
       "4     1  STL  CHC   W  4   3   N  47566.0    STL         1"
      ]
     },
     "execution_count": 5,
     "metadata": {},
     "output_type": "execute_result"
    }
   ],
   "source": [
    "baseball.head()"
   ]
  },
  {
   "cell_type": "markdown",
   "id": "69b24203",
   "metadata": {},
   "source": [
    "# Data Wrangling"
   ]
  },
  {
   "cell_type": "code",
   "execution_count": 6,
   "id": "6fe9252c",
   "metadata": {},
   "outputs": [],
   "source": [
    "def recode (series):\n",
    "    if series == 'W':\n",
    "        return 1\n",
    "    if series == 'L':\n",
    "        return 0\n",
    "baseball['WLr'] = baseball['W/L'].apply(recode)"
   ]
  },
  {
   "cell_type": "markdown",
   "id": "33fcfa5f",
   "metadata": {},
   "source": [
    "# Make each variable a Dataframe"
   ]
  },
  {
   "cell_type": "code",
   "execution_count": 7,
   "id": "05e1a292",
   "metadata": {},
   "outputs": [],
   "source": [
    "x = baseball['HR Count']\n",
    "y = baseball['WLr']"
   ]
  },
  {
   "cell_type": "markdown",
   "id": "07dce010",
   "metadata": {},
   "source": [
    "# Run the analysis"
   ]
  },
  {
   "cell_type": "code",
   "execution_count": 8,
   "id": "7bc18db0",
   "metadata": {},
   "outputs": [
    {
     "name": "stdout",
     "output_type": "stream",
     "text": [
      "Optimization terminated successfully.\n",
      "         Current function value: 0.667079\n",
      "         Iterations 5\n",
      "                         Results: Logit\n",
      "================================================================\n",
      "Model:              Logit            Pseudo R-squared: 0.038    \n",
      "Dependent Variable: WLr              AIC:              6486.0070\n",
      "Date:               2021-10-14 12:17 BIC:              6492.4958\n",
      "No. Observations:   4860             Log-Likelihood:   -3242.0  \n",
      "Df Model:           0                LL-Null:          -3368.7  \n",
      "Df Residuals:       4859             LLR p-value:      nan      \n",
      "Converged:          1.0000           Scale:            1.0000   \n",
      "No. Iterations:     5.0000                                      \n",
      "------------------------------------------------------------------\n",
      "            Coef.    Std.Err.      z      P>|z|    [0.025   0.975]\n",
      "------------------------------------------------------------------\n",
      "HR Count    0.2798     0.0184   15.2304   0.0000   0.2438   0.3158\n",
      "================================================================\n",
      "\n"
     ]
    }
   ],
   "source": [
    "logit = sm.Logit(y,x)\n",
    "results = logit.fit()\n",
    "print(results.summary2())"
   ]
  },
  {
   "cell_type": "code",
   "execution_count": null,
   "id": "f100dac8",
   "metadata": {},
   "outputs": [],
   "source": []
  },
  {
   "cell_type": "code",
   "execution_count": null,
   "id": "abb8bf1d",
   "metadata": {},
   "outputs": [],
   "source": []
  },
  {
   "cell_type": "code",
   "execution_count": null,
   "id": "d59b47b3",
   "metadata": {},
   "outputs": [],
   "source": []
  },
  {
   "cell_type": "code",
   "execution_count": null,
   "id": "e75874df",
   "metadata": {},
   "outputs": [],
   "source": []
  },
  {
   "cell_type": "code",
   "execution_count": null,
   "id": "7cf4d660",
   "metadata": {},
   "outputs": [],
   "source": []
  },
  {
   "cell_type": "code",
   "execution_count": null,
   "id": "5b4ea3f8",
   "metadata": {},
   "outputs": [],
   "source": []
  }
 ],
 "metadata": {
  "kernelspec": {
   "display_name": "Python 3 (ipykernel)",
   "language": "python",
   "name": "python3"
  },
  "language_info": {
   "codemirror_mode": {
    "name": "ipython",
    "version": 3
   },
   "file_extension": ".py",
   "mimetype": "text/x-python",
   "name": "python",
   "nbconvert_exporter": "python",
   "pygments_lexer": "ipython3",
   "version": "3.9.13"
  }
 },
 "nbformat": 4,
 "nbformat_minor": 5
}
