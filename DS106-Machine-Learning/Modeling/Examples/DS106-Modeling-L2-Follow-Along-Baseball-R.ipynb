{
 "cells": [
  {
   "cell_type": "markdown",
   "metadata": {},
   "source": [
    "### This Notebook is a Walkthrough of Lesson 2 Pages 3-6 in R"
   ]
  },
  {
   "cell_type": "markdown",
   "metadata": {},
   "source": [
    "Logistic regression is a type of regression that works when you have a single categorical dependent variable. "
   ]
  },
  {
   "cell_type": "markdown",
   "metadata": {},
   "source": [
    "There are 5 assumptions of Logistic Regression"
   ]
  },
  {
   "cell_type": "markdown",
   "metadata": {},
   "source": [
    "If your model meets all 5 assumptions, it will be as free of error as possible."
   ]
  },
  {
   "cell_type": "markdown",
   "metadata": {},
   "source": [
    "#### 5 Assumptions:\n",
    "\n",
    "1)Meets minimum sample size of having at least one case per cell, with no more than 20% of cells having less than five cases.\n",
    "(What is meant by cells? If you made a 2x2 chart of the actual and predicted outcomes, you should have at least 1 case in each.)\n",
    "\n",
    "2)Linearity in the logit\n",
    "\n",
    "3)Absence of multicollinearity\n",
    "\n",
    "4)Absence of outliers\n",
    "\n",
    "5)Independence of errors\n",
    "\n",
    "#above from L2P3"
   ]
  },
  {
   "cell_type": "markdown",
   "metadata": {},
   "source": [
    "### Load Libraries"
   ]
  },
  {
   "cell_type": "code",
   "execution_count": 14,
   "metadata": {},
   "outputs": [],
   "source": [
    "library(\"caret\")\n",
    "library(\"magrittr\")\n",
    "library(\"dplyr\")\n",
    "library(\"tidyr\")\n",
    "library(\"lmtest\")\n",
    "library(\"popbio\")\n",
    "library(\"e1071\")\n",
    "#code below hides the pink warning messages that just don't look so nice:)\n",
    "defaultW <- getOption(\"warn\") \n",
    "options(warn = -1)"
   ]
  },
  {
   "cell_type": "markdown",
   "metadata": {},
   "source": [
    "### Load in Data"
   ]
  },
  {
   "cell_type": "code",
   "execution_count": 15,
   "metadata": {},
   "outputs": [],
   "source": [
    "Baseball = read.csv('../Data/baseball.csv')"
   ]
  },
  {
   "cell_type": "code",
   "execution_count": 16,
   "metadata": {},
   "outputs": [
    {
     "data": {
      "text/html": [
       "<table class=\"dataframe\">\n",
       "<caption>A data.frame: 6 × 10</caption>\n",
       "<thead>\n",
       "\t<tr><th></th><th scope=col>Game</th><th scope=col>Team</th><th scope=col>Opp</th><th scope=col>W.L</th><th scope=col>R</th><th scope=col>RA</th><th scope=col>D.N</th><th scope=col>Att</th><th scope=col>Team.1</th><th scope=col>HR.Count</th></tr>\n",
       "\t<tr><th></th><th scope=col>&lt;int&gt;</th><th scope=col>&lt;chr&gt;</th><th scope=col>&lt;chr&gt;</th><th scope=col>&lt;chr&gt;</th><th scope=col>&lt;int&gt;</th><th scope=col>&lt;int&gt;</th><th scope=col>&lt;chr&gt;</th><th scope=col>&lt;int&gt;</th><th scope=col>&lt;chr&gt;</th><th scope=col>&lt;int&gt;</th></tr>\n",
       "</thead>\n",
       "<tbody>\n",
       "\t<tr><th scope=row>1</th><td>1</td><td>ARI</td><td>SFG</td><td>W</td><td>6</td><td>5</td><td>D</td><td>49016</td><td>ARI</td><td>1</td></tr>\n",
       "\t<tr><th scope=row>2</th><td>1</td><td>CHC</td><td>STL</td><td>L</td><td>3</td><td>4</td><td>N</td><td>47566</td><td>CHC</td><td>1</td></tr>\n",
       "\t<tr><th scope=row>3</th><td>1</td><td>NYY</td><td>TBR</td><td>L</td><td>3</td><td>7</td><td>D</td><td>31042</td><td>NYY</td><td>0</td></tr>\n",
       "\t<tr><th scope=row>4</th><td>1</td><td>SFG</td><td>ARI</td><td>L</td><td>5</td><td>6</td><td>D</td><td>49016</td><td>SF </td><td>2</td></tr>\n",
       "\t<tr><th scope=row>5</th><td>1</td><td>STL</td><td>CHC</td><td>W</td><td>4</td><td>3</td><td>N</td><td>47566</td><td>STL</td><td>1</td></tr>\n",
       "\t<tr><th scope=row>6</th><td>1</td><td>TBR</td><td>NYY</td><td>W</td><td>7</td><td>3</td><td>D</td><td>31042</td><td>TB </td><td>2</td></tr>\n",
       "</tbody>\n",
       "</table>\n"
      ],
      "text/latex": [
       "A data.frame: 6 × 10\n",
       "\\begin{tabular}{r|llllllllll}\n",
       "  & Game & Team & Opp & W.L & R & RA & D.N & Att & Team.1 & HR.Count\\\\\n",
       "  & <int> & <chr> & <chr> & <chr> & <int> & <int> & <chr> & <int> & <chr> & <int>\\\\\n",
       "\\hline\n",
       "\t1 & 1 & ARI & SFG & W & 6 & 5 & D & 49016 & ARI & 1\\\\\n",
       "\t2 & 1 & CHC & STL & L & 3 & 4 & N & 47566 & CHC & 1\\\\\n",
       "\t3 & 1 & NYY & TBR & L & 3 & 7 & D & 31042 & NYY & 0\\\\\n",
       "\t4 & 1 & SFG & ARI & L & 5 & 6 & D & 49016 & SF  & 2\\\\\n",
       "\t5 & 1 & STL & CHC & W & 4 & 3 & N & 47566 & STL & 1\\\\\n",
       "\t6 & 1 & TBR & NYY & W & 7 & 3 & D & 31042 & TB  & 2\\\\\n",
       "\\end{tabular}\n"
      ],
      "text/markdown": [
       "\n",
       "A data.frame: 6 × 10\n",
       "\n",
       "| <!--/--> | Game &lt;int&gt; | Team &lt;chr&gt; | Opp &lt;chr&gt; | W.L &lt;chr&gt; | R &lt;int&gt; | RA &lt;int&gt; | D.N &lt;chr&gt; | Att &lt;int&gt; | Team.1 &lt;chr&gt; | HR.Count &lt;int&gt; |\n",
       "|---|---|---|---|---|---|---|---|---|---|---|\n",
       "| 1 | 1 | ARI | SFG | W | 6 | 5 | D | 49016 | ARI | 1 |\n",
       "| 2 | 1 | CHC | STL | L | 3 | 4 | N | 47566 | CHC | 1 |\n",
       "| 3 | 1 | NYY | TBR | L | 3 | 7 | D | 31042 | NYY | 0 |\n",
       "| 4 | 1 | SFG | ARI | L | 5 | 6 | D | 49016 | SF  | 2 |\n",
       "| 5 | 1 | STL | CHC | W | 4 | 3 | N | 47566 | STL | 1 |\n",
       "| 6 | 1 | TBR | NYY | W | 7 | 3 | D | 31042 | TB  | 2 |\n",
       "\n"
      ],
      "text/plain": [
       "  Game Team Opp W.L R RA D.N Att   Team.1 HR.Count\n",
       "1 1    ARI  SFG W   6 5  D   49016 ARI    1       \n",
       "2 1    CHC  STL L   3 4  N   47566 CHC    1       \n",
       "3 1    NYY  TBR L   3 7  D   31042 NYY    0       \n",
       "4 1    SFG  ARI L   5 6  D   49016 SF     2       \n",
       "5 1    STL  CHC W   4 3  N   47566 STL    1       \n",
       "6 1    TBR  NYY W   7 3  D   31042 TB     2       "
      ]
     },
     "metadata": {},
     "output_type": "display_data"
    }
   ],
   "source": [
    "head(Baseball)"
   ]
  },
  {
   "cell_type": "markdown",
   "metadata": {},
   "source": [
    "### Question Set up"
   ]
  },
  {
   "cell_type": "markdown",
   "metadata": {},
   "source": [
    "Perform a regression where the predictor (IV) is the number of home runs hit by a team, and the response variable (DV) is whether the team wins or loses. This is a case of a quantitative predictor variable, and a categorical response variable. So are the home runs a team hits, going to be influencing whether they win?"
   ]
  },
  {
   "cell_type": "markdown",
   "metadata": {},
   "source": [
    "## Data Wrangling**"
   ]
  },
  {
   "cell_type": "markdown",
   "metadata": {},
   "source": [
    "### THIS IS SUPER IMPORTANT ***"
   ]
  },
  {
   "cell_type": "markdown",
   "metadata": {},
   "source": [
    "The outcome variable (DV) MUST be recoded numerically "
   ]
  },
  {
   "cell_type": "markdown",
   "metadata": {},
   "source": [
    "Remember when you learned recoding? You will need to recode the wins and losses to 1s and 0s. The code below will do it for you:)"
   ]
  },
  {
   "cell_type": "code",
   "execution_count": 17,
   "metadata": {},
   "outputs": [],
   "source": [
    "Baseball$WinsR <- NA\n",
    "Baseball$WinsR[Baseball$W.L=='W'] <- 1\n",
    "Baseball$WinsR[Baseball$W.L=='L'] <- 0\n",
    "#to break this down, first a recoding column is created: WinsR\n",
    "#this code follows the format of: \n",
    "#dataset_name$Column_Recoded[dataset_name$original_column=='value']<-0\n",
    "#the $ dollar sign is necessary to separate the dataset name from the column"
   ]
  },
  {
   "cell_type": "markdown",
   "metadata": {},
   "source": [
    "### Testing Assumptions"
   ]
  },
  {
   "cell_type": "markdown",
   "metadata": {},
   "source": [
    "### Looking at Sample Size"
   ]
  },
  {
   "cell_type": "markdown",
   "metadata": {},
   "source": [
    "### Run the Base Logistic Model\n",
    "Create a model before you can verify it meets all assumptions"
   ]
  },
  {
   "cell_type": "code",
   "execution_count": 18,
   "metadata": {},
   "outputs": [],
   "source": [
    "mylogit <- glm(WinsR ~ HR.Count, data=Baseball, family=\"binomial\")\n",
    "#here we are calling our model mylogit\n",
    "#glm is the function\n",
    "#WinsR is our DV recoded column from above\n",
    "#HR.Count is our IV\n",
    "#Baseball is our dataset\n",
    "#family= \"binomial\" because we are doing Binomial Logistic Regression"
   ]
  },
  {
   "cell_type": "markdown",
   "metadata": {},
   "source": [
    "### Predict Wins and Losses using the predict() function"
   ]
  },
  {
   "cell_type": "code",
   "execution_count": 19,
   "metadata": {},
   "outputs": [],
   "source": [
    "probabilities <- predict(mylogit, type = \"response\")"
   ]
  },
  {
   "cell_type": "markdown",
   "metadata": {},
   "source": [
    "Then convert your probabilities to a positive and negative prediction by having anything above .5 (half) be positive, and anything below .5 be negative. This will be done using the ifelse() function on the probabilities variable you just created, and it will be assigned to your baseball data set, as the column Predicted, so that you can later compare it with the recoded wins and losses column.(L2P4)"
   ]
  },
  {
   "cell_type": "code",
   "execution_count": 20,
   "metadata": {},
   "outputs": [],
   "source": [
    "probabilities <- predict(mylogit, type = \"response\")\n",
    "Baseball$Predicted <- ifelse(probabilities > .5, \"pos\", \"neg\")"
   ]
  },
  {
   "cell_type": "markdown",
   "metadata": {},
   "source": [
    "### Recoding the Predicted Variable\n",
    "Just like we recoded above, we need to recode the predicted variable."
   ]
  },
  {
   "cell_type": "code",
   "execution_count": 21,
   "metadata": {},
   "outputs": [],
   "source": [
    "Baseball$PredictedR <- NA\n",
    "Baseball$PredictedR[Baseball$Predicted=='pos'] <- 1\n",
    "Baseball$PredictedR[Baseball$Predicted=='neg'] <- 0"
   ]
  },
  {
   "cell_type": "markdown",
   "metadata": {},
   "source": [
    "### Convert Variables to Factors"
   ]
  },
  {
   "cell_type": "markdown",
   "metadata": {},
   "source": [
    "The next thing you need to do is to convert the WinsR and the PredictedR columns to factors. This is necessary because the next line of code you will run requires these variables to be factors. Simply specify the dataset and call the variable before the arrow, then use the function as.factor() and call the variable again.(L2P4)"
   ]
  },
  {
   "cell_type": "code",
   "execution_count": 22,
   "metadata": {},
   "outputs": [],
   "source": [
    "Baseball$PredictedR <- as.factor(Baseball$PredictedR)\n",
    "Baseball$WinsR <- as.factor(Baseball$WinsR)\n",
    "\n"
   ]
  },
  {
   "cell_type": "markdown",
   "metadata": {},
   "source": [
    "### Create Confusion Matrix\n",
    "Test for Sample Size:"
   ]
  },
  {
   "cell_type": "code",
   "execution_count": 23,
   "metadata": {},
   "outputs": [
    {
     "data": {
      "text/plain": [
       "Confusion Matrix and Statistics\n",
       "\n",
       "          Reference\n",
       "Prediction    0    1\n",
       "         0 1917 1240\n",
       "         1  513 1190\n",
       "                                          \n",
       "               Accuracy : 0.6393          \n",
       "                 95% CI : (0.6256, 0.6528)\n",
       "    No Information Rate : 0.5             \n",
       "    P-Value [Acc > NIR] : < 2.2e-16       \n",
       "                                          \n",
       "                  Kappa : 0.2786          \n",
       "                                          \n",
       " Mcnemar's Test P-Value : < 2.2e-16       \n",
       "                                          \n",
       "            Sensitivity : 0.7889          \n",
       "            Specificity : 0.4897          \n",
       "         Pos Pred Value : 0.6072          \n",
       "         Neg Pred Value : 0.6988          \n",
       "             Prevalence : 0.5000          \n",
       "         Detection Rate : 0.3944          \n",
       "   Detection Prevalence : 0.6496          \n",
       "      Balanced Accuracy : 0.6393          \n",
       "                                          \n",
       "       'Positive' Class : 0               \n",
       "                                          "
      ]
     },
     "metadata": {},
     "output_type": "display_data"
    }
   ],
   "source": [
    "conf_mat <- caret::confusionMatrix(Baseball$PredictedR, Baseball$WinsR)\n",
    "conf_mat"
   ]
  },
  {
   "cell_type": "markdown",
   "metadata": {},
   "source": [
    "Go ahead and look at the top left of the results.\n",
    "\n",
    "Top left corner (Reference: 0, Prediction: 0): These are the cases that failed the condition and were predicted to fail the condition. In your case, a loss was predicted and a loss actually happened.\n",
    "This is the number you accurately predicted as \"did not happen.\"\n",
    "\n",
    "Top right corner (Reference: 1, Prediction: 0): These are the cases that were predicted to fail the condition, but did not actually fail. In terms of the current dataset: a loss was predicted, but the team actually won.\n",
    "\n",
    "Bottom left corner (Reference: 0, Prediction: 1): These are the cases where a success was predicted, but a failure actually happened. This means that the team was predicted to win, but they actually lost.\n",
    "\n",
    "Bottom right corner (Reference: 1, Prediction: 1): These are the cases were a success was predicted and a success actually happened. So, the team was predicted to win and they actually won.\n",
    "This is the number you accurately predicted as \"did happen.\"\n",
    "(L2P4)"
   ]
  },
  {
   "cell_type": "markdown",
   "metadata": {},
   "source": [
    "All 4 cells are above 5 so the minimum sample size is met."
   ]
  },
  {
   "cell_type": "markdown",
   "metadata": {},
   "source": [
    "We also see the .639 accuracy rate means we are 64% accurate our predictions are correct."
   ]
  },
  {
   "cell_type": "markdown",
   "metadata": {},
   "source": [
    "### Logit Linearity"
   ]
  },
  {
   "cell_type": "markdown",
   "metadata": {},
   "source": [
    "Now we have the model and predictions, we can calculate the logit and then graph it against the predicted values.\n",
    "\n",
    "We want to assess the linearity of the logit with numeric variables, so using the library dplyr, and the select_if() function, we will select only numeric columns from the full dataset by specifying as the argument is.numeric."
   ]
  },
  {
   "cell_type": "code",
   "execution_count": 24,
   "metadata": {},
   "outputs": [],
   "source": [
    "#to plot the logit graphs to print, you need to run as.numeric \n",
    "#for the WinsR column \n",
    "Baseball$WinsR <- as.numeric(Baseball$WinsR)"
   ]
  },
  {
   "cell_type": "code",
   "execution_count": 25,
   "metadata": {},
   "outputs": [],
   "source": [
    "Baseball1 <- Baseball %>% \n",
    "dplyr::select_if(is.numeric)"
   ]
  },
  {
   "cell_type": "markdown",
   "metadata": {},
   "source": [
    "We will rename the column names to be fed into predictors using the colnames() function:"
   ]
  },
  {
   "cell_type": "code",
   "execution_count": 26,
   "metadata": {},
   "outputs": [],
   "source": [
    "predictors <- colnames(Baseball1)"
   ]
  },
  {
   "cell_type": "markdown",
   "metadata": {},
   "source": [
    "Lastly, create the logit, using tidyr's mutate() and gather() functions. The logit is calculated as the log of the probabilities divided by one minus the probabilities."
   ]
  },
  {
   "cell_type": "code",
   "execution_count": 27,
   "metadata": {},
   "outputs": [],
   "source": [
    "Baseball2 <- Baseball1 %>%\n",
    "mutate(logit=log(probabilities/(1-probabilities))) %>%\n",
    "gather(key= \"predictors\", value=\"predictor.value\", -logit)"
   ]
  },
  {
   "cell_type": "markdown",
   "metadata": {},
   "source": [
    "We will graph using ggplot!"
   ]
  },
  {
   "cell_type": "code",
   "execution_count": 28,
   "metadata": {},
   "outputs": [
    {
     "name": "stderr",
     "output_type": "stream",
     "text": [
      "`geom_smooth()` using formula 'y ~ x'\n",
      "\n"
     ]
    },
    {
     "data": {
      "image/png": "[encoded data removed]",
      "text/plain": [
       "plot without title"
      ]
     },
     "metadata": {
      "image/png": {
       "height": 420,
       "width": 420
      }
     },
     "output_type": "display_data"
    }
   ],
   "source": [
    "ggplot(Baseball2, aes(logit, predictor.value))+\n",
    "geom_point(size=.5, alpha=.5)+\n",
    "geom_smooth(method= \"loess\")+\n",
    "theme_bw()+\n",
    "facet_wrap(~predictors, scales=\"free_y\")"
   ]
  },
  {
   "cell_type": "markdown",
   "metadata": {},
   "source": [
    "This will automatically graph every numeric variable. The HRCount graph in the top right shows a lovely linear relationship so the assumption has been met! "
   ]
  },
  {
   "cell_type": "markdown",
   "metadata": {},
   "source": [
    "### Multicollinearity"
   ]
  },
  {
   "cell_type": "markdown",
   "metadata": {},
   "source": [
    "Basically meaning the independent variables can't be too closely related to each other. However, since there is only one independent variable, this does not apply here.\n",
    "\n"
   ]
  },
  {
   "cell_type": "markdown",
   "metadata": {},
   "source": [
    "### Independent Errors"
   ]
  },
  {
   "cell_type": "markdown",
   "metadata": {},
   "source": [
    "Graphing the residuals over the index"
   ]
  },
  {
   "cell_type": "code",
   "execution_count": 29,
   "metadata": {},
   "outputs": [
    {
     "data": {
      "image/png": "[encoded data removed]",
      "text/plain": [
       "plot without title"
      ]
     },
     "metadata": {
      "image/png": {
       "height": 420,
       "width": 420
      }
     },
     "output_type": "display_data"
    }
   ],
   "source": [
    "plot(mylogit$residuals)"
   ]
  },
  {
   "cell_type": "markdown",
   "metadata": {},
   "source": [
    "We are looking for a pretty even distribution of points all the way across your x axis. We see that, so the assumption of independent errors is met."
   ]
  },
  {
   "cell_type": "markdown",
   "metadata": {},
   "source": [
    "### Durbin-Watson Test"
   ]
  },
  {
   "cell_type": "markdown",
   "metadata": {},
   "source": [
    "Confirms if there is independence of errors using function dwtest() out of the lmtest library."
   ]
  },
  {
   "cell_type": "code",
   "execution_count": 30,
   "metadata": {},
   "outputs": [
    {
     "data": {
      "text/plain": [
       "\n",
       "\tDurbin-Watson test\n",
       "\n",
       "data:  mylogit\n",
       "DW = 2.0828, p-value = 0.003875\n",
       "alternative hypothesis: true autocorrelation is not 0\n"
      ]
     },
     "metadata": {},
     "output_type": "display_data"
    }
   ],
   "source": [
    "dwtest(mylogit, alternative=\"two.sided\")"
   ]
  },
  {
   "cell_type": "markdown",
   "metadata": {},
   "source": [
    "Using the alternative=\"two.sided\" argument means that we are testing both positive and negative autocorrelation of errors."
   ]
  },
  {
   "cell_type": "markdown",
   "metadata": {},
   "source": [
    "If this test is not statistically significant (> .05), then the condition is satisfied, and there are independent errors. However, if it is significant, look at the actual value of the Durbin-Watson test statistic. If it is under 1 or greater than 3, then the assumption of independent errors has been violated. Since the DW value is 2.08, it is in an ok range and have met the assumption of independent errors through testing as well as graphing!"
   ]
  },
  {
   "cell_type": "markdown",
   "metadata": {},
   "source": [
    "### Screening for Outliers"
   ]
  },
  {
   "cell_type": "code",
   "execution_count": 31,
   "metadata": {},
   "outputs": [
    {
     "name": "stdout",
     "output_type": "stream",
     "text": [
      "Potentially influential observations of\n",
      "\t glm(formula = WinsR ~ HR.Count, family = \"binomial\", data = Baseball) :\n",
      "\n",
      "     dfb.1_ dfb.HR.C dffit   cov.r   cook.d hat  \n",
      "16   -0.01   0.01     0.02    1.00_*  0.00   0.00\n",
      "233  -0.01   0.01     0.01    1.00_*  0.00   0.00\n",
      "275  -0.01   0.01     0.02    1.00_*  0.00   0.00\n",
      "285  -0.01   0.01     0.02    1.00_*  0.00   0.00\n",
      "309  -0.01   0.01     0.02    1.00_*  0.00   0.00\n",
      "320  -0.01   0.01     0.02    1.00_*  0.00   0.00\n",
      "327  -0.01   0.01     0.02    1.00_*  0.00   0.00\n",
      "334  -0.01   0.01     0.02    1.00_*  0.00   0.00\n",
      "345  -0.01   0.01     0.02    1.00_*  0.00   0.00\n",
      "437  -0.01   0.01     0.02    1.00_*  0.00   0.00\n",
      "498  -0.01   0.01     0.02    1.00_*  0.00   0.00\n",
      "501  -0.01   0.01     0.02    1.00_*  0.00   0.00\n",
      "586  -0.01   0.01     0.02    1.00_*  0.00   0.00\n",
      "671  -0.01   0.01     0.01    1.00_*  0.00   0.00\n",
      "679  -0.01   0.01     0.02    1.00_*  0.00   0.00\n",
      "684  -0.01   0.01     0.02    1.00_*  0.00   0.00\n",
      "694  -0.01   0.01     0.01    1.00_*  0.00   0.00\n",
      "698  -0.01   0.01     0.02    1.00_*  0.00   0.00\n",
      "777   0.00   0.01     0.01    1.00_*  0.00   0.00\n",
      "779  -0.01   0.01     0.01    1.00_*  0.00   0.00\n",
      "788   0.04  -0.06    -0.06_*  1.00    0.01   0.00\n",
      "801  -0.01   0.01     0.02    1.00_*  0.00   0.00\n",
      "904  -0.01   0.01     0.01    1.00_*  0.00   0.00\n",
      "1040 -0.01   0.01     0.02    1.00_*  0.00   0.00\n",
      "1088 -0.01   0.01     0.02    1.00_*  0.00   0.00\n",
      "1092 -0.01   0.01     0.02    1.00_*  0.00   0.00\n",
      "1115 -0.01   0.01     0.02    1.00_*  0.00   0.00\n",
      "1133 -0.01   0.01     0.02    1.00_*  0.00   0.00\n",
      "1135 -0.01   0.01     0.02    1.00_*  0.00   0.00\n",
      "1157 -0.01   0.01     0.01    1.00_*  0.00   0.00\n",
      "1213 -0.01   0.01     0.02    1.00_*  0.00   0.00\n",
      "1247 -0.01   0.01     0.02    1.00_*  0.00   0.00\n",
      "1251 -0.01   0.01     0.02    1.00_*  0.00   0.00\n",
      "1258 -0.01   0.01     0.02    1.00_*  0.00   0.00\n",
      "1273 -0.01   0.01     0.02    1.00_*  0.00   0.00\n",
      "1277 -0.01   0.01     0.02    1.00_*  0.00   0.00\n",
      "1280 -0.01   0.01     0.02    1.00_*  0.00   0.00\n",
      "1282 -0.01   0.01     0.02    1.00_*  0.00   0.00\n",
      "1326 -0.01   0.01     0.02    1.00_*  0.00   0.00\n",
      "1330 -0.01   0.01     0.02    1.00_*  0.00   0.00\n",
      "1348 -0.01   0.01     0.02    1.00_*  0.00   0.00\n",
      "1370 -0.01   0.01     0.02    1.00_*  0.00   0.00\n",
      "1377 -0.01   0.01     0.02    1.00_*  0.00   0.00\n",
      "1385 -0.01   0.01     0.02    1.00_*  0.00   0.00\n",
      "1467 -0.01   0.01     0.01    1.00_*  0.00   0.00\n",
      "1474 -0.01   0.01     0.02    1.00_*  0.00   0.00\n",
      "1524  0.00   0.01     0.01    1.00_*  0.00   0.00\n",
      "1539 -0.01   0.01     0.02    1.00_*  0.00   0.00\n",
      "1549 -0.01   0.01     0.02    1.00_*  0.00   0.00\n",
      "1561  0.00   0.01     0.01    1.00_*  0.00   0.00\n",
      "1577 -0.01   0.01     0.02    1.00_*  0.00   0.00\n",
      "1582 -0.01   0.01     0.02    1.00_*  0.00   0.00\n",
      "1626 -0.01   0.01     0.01    1.00_*  0.00   0.00\n",
      "1636 -0.01   0.01     0.02    1.00_*  0.00   0.00\n",
      "1645 -0.01   0.01     0.02    1.00_*  0.00   0.00\n",
      "1646 -0.01   0.01     0.02    1.00_*  0.00   0.00\n",
      "1667 -0.01   0.01     0.02    1.00_*  0.00   0.00\n",
      "1677 -0.01   0.01     0.02    1.00_*  0.00   0.00\n",
      "1703 -0.01   0.01     0.02    1.00_*  0.00   0.00\n",
      "1707 -0.01   0.01     0.02    1.00_*  0.00   0.00\n",
      "1718  0.04  -0.06    -0.06_*  1.00    0.01   0.00\n",
      "1754 -0.01   0.01     0.02    1.00_*  0.00   0.00\n",
      "1759 -0.01   0.01     0.02    1.00_*  0.00   0.00\n",
      "1783 -0.01   0.01     0.02    1.00_*  0.00   0.00\n",
      "1811 -0.01   0.01     0.01    1.00_*  0.00   0.00\n",
      "1827 -0.01   0.01     0.01    1.00_*  0.00   0.00\n",
      "1835 -0.01   0.01     0.01    1.00_*  0.00   0.00\n",
      "1849 -0.01   0.01     0.02    1.00_*  0.00   0.00\n",
      "1853 -0.01   0.01     0.02    1.00_*  0.00   0.00\n",
      "1860 -0.01   0.01     0.02    1.00_*  0.00   0.00\n",
      "1862 -0.01   0.01     0.02    1.00_*  0.00   0.00\n",
      "1867 -0.01   0.01     0.02    1.00_*  0.00   0.00\n",
      "1879 -0.01   0.01     0.01    1.00_*  0.00   0.00\n",
      "1901 -0.01   0.01     0.01    1.00_*  0.00   0.00\n",
      "1914 -0.01   0.01     0.01    1.00_*  0.00   0.00\n",
      "1994 -0.01   0.01     0.02    1.00_*  0.00   0.00\n",
      "2004 -0.01   0.01     0.01    1.00_*  0.00   0.00\n",
      "2011 -0.01   0.01     0.01    1.00_*  0.00   0.00\n",
      "2017 -0.01   0.01     0.02    1.00_*  0.00   0.00\n",
      "2023 -0.01   0.01     0.02    1.00_*  0.00   0.00\n",
      "2033 -0.01   0.01     0.01    1.00_*  0.00   0.00\n",
      "2038 -0.01   0.01     0.02    1.00_*  0.00   0.00\n",
      "2043 -0.01   0.01     0.02    1.00_*  0.00   0.00\n",
      "2067 -0.01   0.01     0.01    1.00_*  0.00   0.00\n",
      "2080 -0.01   0.01     0.02    1.00_*  0.00   0.00\n",
      "2106 -0.01   0.01     0.01    1.00_*  0.00   0.00\n",
      "2148 -0.01   0.01     0.02    1.00_*  0.00   0.00\n",
      "2154 -0.01   0.01     0.02    1.00_*  0.00   0.00\n",
      "2175 -0.01   0.01     0.02    1.00_*  0.00   0.00\n",
      "2206 -0.01   0.01     0.02    1.00_*  0.00   0.00\n",
      "2226 -0.01   0.01     0.02    1.00_*  0.00   0.00\n",
      "2254 -0.01   0.01     0.02    1.00_*  0.00   0.00\n",
      "2289 -0.01   0.01     0.02    1.00_*  0.00   0.00\n",
      "2332  0.04  -0.06    -0.06_*  1.00    0.01   0.00\n",
      "2357  0.00   0.01     0.01    1.00_*  0.00   0.00\n",
      "2390 -0.01   0.01     0.02    1.00_*  0.00   0.00\n",
      "2410 -0.01   0.01     0.02    1.00_*  0.00   0.00\n",
      "2427 -0.01   0.01     0.02    1.00_*  0.00   0.00\n",
      "2496 -0.01   0.01     0.02    1.00_*  0.00   0.00\n",
      "2500 -0.01   0.01     0.02    1.00_*  0.00   0.00\n",
      "2525 -0.01   0.01     0.02    1.00_*  0.00   0.00\n",
      "2538 -0.01   0.01     0.02    1.00_*  0.00   0.00\n",
      "2573 -0.01   0.01     0.02    1.00_*  0.00   0.00\n",
      "2633 -0.01   0.01     0.01    1.00_*  0.00   0.00\n",
      "2643  0.00   0.01     0.01    1.00_*  0.00   0.00\n",
      "2657 -0.01   0.01     0.01    1.00_*  0.00   0.00\n",
      "2744 -0.01   0.01     0.01    1.00_*  0.00   0.00\n",
      "2764 -0.01   0.01     0.02    1.00_*  0.00   0.00\n",
      "2773 -0.01   0.01     0.02    1.00_*  0.00   0.00\n",
      "2809 -0.01   0.01     0.01    1.00_*  0.00   0.00\n",
      "2814 -0.01   0.01     0.02    1.00_*  0.00   0.00\n",
      "2831 -0.01   0.01     0.02    1.00_*  0.00   0.00\n",
      "2833 -0.01   0.01     0.02    1.00_*  0.00   0.00\n",
      "2890 -0.01   0.01     0.01    1.00_*  0.00   0.00\n",
      "2917 -0.01   0.01     0.01    1.00_*  0.00   0.00\n",
      "2920 -0.01   0.01     0.02    1.00_*  0.00   0.00\n",
      "2936 -0.01   0.01     0.02    1.00_*  0.00   0.00\n",
      "2966 -0.01   0.01     0.02    1.00_*  0.00   0.00\n",
      "2992 -0.01   0.01     0.02    1.00_*  0.00   0.00\n",
      "3009 -0.01   0.01     0.02    1.00_*  0.00   0.00\n",
      "3039 -0.01   0.01     0.02    1.00_*  0.00   0.00\n",
      "3060 -0.01   0.01     0.02    1.00_*  0.00   0.00\n",
      "3121 -0.01   0.01     0.02    1.00_*  0.00   0.00\n",
      "3153 -0.01   0.01     0.01    1.00_*  0.00   0.00\n",
      "3207 -0.01   0.01     0.01    1.00_*  0.00   0.00\n",
      "3243 -0.01   0.01     0.01    1.00_*  0.00   0.00\n",
      "3275 -0.01   0.01     0.01    1.00_*  0.00   0.00\n",
      "3293 -0.01   0.01     0.01    1.00_*  0.00   0.00\n",
      "3315 -0.01   0.01     0.02    1.00_*  0.00   0.00\n",
      "3325 -0.01   0.01     0.02    1.00_*  0.00   0.00\n",
      "3353 -0.01   0.01     0.01    1.00_*  0.00   0.00\n",
      "3398 -0.01   0.01     0.02    1.00_*  0.00   0.00\n",
      "3400 -0.01   0.01     0.02    1.00_*  0.00   0.00\n",
      "3410 -0.01   0.01     0.02    1.00_*  0.00   0.00\n",
      "3513 -0.01   0.01     0.02    1.00_*  0.00   0.00\n",
      "3540 -0.01   0.01     0.01    1.00_*  0.00   0.00\n",
      "3577 -0.01   0.01     0.01    1.00_*  0.00   0.00\n",
      "3588 -0.01   0.01     0.02    1.00_*  0.00   0.00\n",
      "3592 -0.01   0.01     0.02    1.00_*  0.00   0.00\n",
      "3593  0.04  -0.07    -0.07_*  1.00    0.01   0.00\n",
      "3615 -0.01   0.01     0.01    1.00_*  0.00   0.00\n",
      "3620 -0.01   0.01     0.02    1.00_*  0.00   0.00\n",
      "3625  0.04  -0.06    -0.06_*  1.00    0.01   0.00\n",
      "3629  0.00   0.01     0.01    1.00_*  0.00   0.00\n",
      "3655 -0.01   0.01     0.02    1.00_*  0.00   0.00\n",
      "3670 -0.01   0.01     0.02    1.00_*  0.00   0.00\n",
      "3705 -0.01   0.01     0.02    1.00_*  0.00   0.00\n",
      "3714 -0.01   0.01     0.02    1.00_*  0.00   0.00\n",
      "3735 -0.01   0.01     0.02    1.00_*  0.00   0.00\n",
      "3741 -0.01   0.01     0.02    1.00_*  0.00   0.00\n",
      "3742  0.04  -0.06    -0.06_*  1.00    0.01   0.00\n",
      "3755 -0.01   0.01     0.02    1.00_*  0.00   0.00\n",
      "3781  0.00   0.01     0.01    1.00_*  0.00   0.00\n",
      "3795 -0.01   0.01     0.02    1.00_*  0.00   0.00\n",
      "3841  0.00   0.01     0.01    1.00_*  0.00   0.00\n",
      "3867 -0.01   0.01     0.02    1.00_*  0.00   0.00\n",
      "3903 -0.01   0.01     0.02    1.00_*  0.00   0.00\n",
      "3920 -0.01   0.01     0.02    1.00_*  0.00   0.00\n",
      "3948 -0.01   0.01     0.02    1.00_*  0.00   0.00\n",
      "3950 -0.01   0.01     0.02    1.00_*  0.00   0.00\n",
      "3959 -0.01   0.01     0.02    1.00_*  0.00   0.00\n",
      "4034 -0.01   0.01     0.02    1.00_*  0.00   0.00\n",
      "4056 -0.01   0.01     0.02    1.00_*  0.00   0.00\n",
      "4081 -0.01   0.01     0.02    1.00_*  0.00   0.00\n",
      "4090 -0.01   0.01     0.02    1.00_*  0.00   0.00\n",
      "4093  0.00   0.01     0.01    1.00_*  0.00   0.00\n",
      "4121 -0.01   0.01     0.02    1.00_*  0.00   0.00\n",
      "4124 -0.01   0.01     0.02    1.00_*  0.00   0.00\n",
      "4129 -0.01   0.01     0.02    1.00_*  0.00   0.00\n",
      "4131  0.00   0.01     0.01    1.00_*  0.00   0.00\n",
      "4186 -0.01   0.01     0.01    1.00_*  0.00   0.00\n",
      "4193 -0.01   0.01     0.02    1.00_*  0.00   0.00\n",
      "4218 -0.01   0.01     0.02    1.00_*  0.00   0.00\n",
      "4234  0.00   0.01     0.01    1.00_*  0.00   0.00\n",
      "4279 -0.01   0.01     0.02    1.00_*  0.00   0.00\n",
      "4280 -0.01   0.01     0.02    1.00_*  0.00   0.00\n",
      "4383 -0.01   0.01     0.02    1.00_*  0.00   0.00\n",
      "4385 -0.01   0.01     0.02    1.00_*  0.00   0.00\n",
      "4397 -0.01   0.01     0.02    1.00_*  0.00   0.00\n",
      "4406 -0.01   0.01     0.02    1.00_*  0.00   0.00\n",
      "4461 -0.01   0.01     0.02    1.00_*  0.00   0.00\n",
      "4467 -0.01   0.01     0.02    1.00_*  0.00   0.00\n",
      "4525 -0.01   0.01     0.02    1.00_*  0.00   0.00\n",
      "4539 -0.01   0.01     0.02    1.00_*  0.00   0.00\n",
      "4547  0.04  -0.06    -0.06_*  1.00    0.01   0.00\n",
      "4577 -0.01   0.01     0.02    1.00_*  0.00   0.00\n",
      "4614 -0.01   0.01     0.02    1.00_*  0.00   0.00\n",
      "4681 -0.01   0.01     0.02    1.00_*  0.00   0.00\n",
      "4685 -0.01   0.01     0.02    1.00_*  0.00   0.00\n",
      "4716 -0.01   0.01     0.02    1.00_*  0.00   0.00\n",
      "4719 -0.01   0.01     0.01    1.00_*  0.00   0.00\n",
      "4779 -0.01   0.01     0.02    1.00_*  0.00   0.00\n"
     ]
    }
   ],
   "source": [
    "infl <- influence.measures(mylogit)\n",
    "summary(infl)"
   ]
  },
  {
   "cell_type": "markdown",
   "metadata": {},
   "source": [
    "Remember that if dfb.1_ or dffit values are greater than 1, or if hat is greater than .3 or so, there is probably an outlier than should be examined and possibly removed.\n",
    "\n"
   ]
  },
  {
   "cell_type": "markdown",
   "metadata": {},
   "source": [
    "### Running Logistic Regression and Interpreting the Output"
   ]
  },
  {
   "cell_type": "markdown",
   "metadata": {},
   "source": [
    "Now proceed to actually calling your logistic regression model and interpreting the output!"
   ]
  },
  {
   "cell_type": "code",
   "execution_count": 32,
   "metadata": {},
   "outputs": [
    {
     "data": {
      "text/plain": [
       "\n",
       "Call:\n",
       "glm(formula = WinsR ~ HR.Count, family = \"binomial\", data = Baseball)\n",
       "\n",
       "Deviance Residuals: \n",
       "    Min       1Q   Median       3Q      Max  \n",
       "-2.5366  -1.1171  -0.3553   1.2389   1.5338  \n",
       "\n",
       "Coefficients:\n",
       "            Estimate Std. Error z value Pr(>|z|)    \n",
       "(Intercept) -0.80749    0.04658  -17.34   <2e-16 ***\n",
       "HR.Count     0.66398    0.03044   21.81   <2e-16 ***\n",
       "---\n",
       "Signif. codes:  0 '***' 0.001 '**' 0.01 '*' 0.05 '.' 0.1 ' ' 1\n",
       "\n",
       "(Dispersion parameter for binomial family taken to be 1)\n",
       "\n",
       "    Null deviance: 6737.4  on 4859  degrees of freedom\n",
       "Residual deviance: 6161.4  on 4858  degrees of freedom\n",
       "AIC: 6165.4\n",
       "\n",
       "Number of Fisher Scoring iterations: 4\n"
      ]
     },
     "metadata": {},
     "output_type": "display_data"
    }
   ],
   "source": [
    "summary(mylogit)"
   ]
  },
  {
   "cell_type": "markdown",
   "metadata": {},
   "source": [
    "First check the independent variable, the number of home runs, if it was a significant predictor of the number of wins and losses a team had. Looking in the Coefficients table under HR.Count, we see that the p value is significant at p < .001! This means that the number of home runs is a significant predictor of the number of wins and losses a team had. The z value given next to p is the Wald Statistic, and we can think of it similarly to the t tests we had for individual predictors in linear regression - it's just that Wald works for categorical variables and t tests don't.\n",
    "\n",
    "In the same line, the estimate tells how much the independent variable influences the dependent. So, for every one unit increase in home runs, the log odds of winning a game (versus losing) are increased by .66.\n"
   ]
  },
  {
   "cell_type": "markdown",
   "metadata": {},
   "source": [
    "### Graphing the Logistic Model"
   ]
  },
  {
   "cell_type": "code",
   "execution_count": 33,
   "metadata": {},
   "outputs": [
    {
     "name": "stdout",
     "output_type": "stream",
     "text": [
      "'data.frame':\t4860 obs. of  13 variables:\n",
      " $ Game      : int  1 1 1 1 1 1 1 1 1 1 ...\n",
      " $ Team      : chr  \"ARI\" \"CHC\" \"NYY\" \"SFG\" ...\n",
      " $ Opp       : chr  \"SFG\" \"STL\" \"TBR\" \"ARI\" ...\n",
      " $ W.L       : chr  \"W\" \"L\" \"L\" \"L\" ...\n",
      " $ R         : int  6 3 3 5 4 7 0 3 5 3 ...\n",
      " $ RA        : int  5 4 7 6 3 3 6 2 3 4 ...\n",
      " $ D.N       : chr  \"D\" \"N\" \"D\" \"D\" ...\n",
      " $ Att       : int  49016 47566 31042 49016 47566 31042 44384 45667 36594 43804 ...\n",
      " $ Team.1    : chr  \"ARI\" \"CHC\" \"NYY\" \"SF\" ...\n",
      " $ HR.Count  : int  1 1 0 2 1 2 0 1 1 1 ...\n",
      " $ WinsR     : num  2 1 1 1 2 2 1 2 2 1 ...\n",
      " $ Predicted : chr  \"neg\" \"neg\" \"neg\" \"pos\" ...\n",
      " $ PredictedR: Factor w/ 2 levels \"0\",\"1\": 1 1 1 2 1 2 1 1 1 1 ...\n"
     ]
    }
   ],
   "source": [
    "str(Baseball)\n",
    "#love this code, shows the variables status of whether it is factor, numeric, etc."
   ]
  },
  {
   "cell_type": "code",
   "execution_count": 34,
   "metadata": {},
   "outputs": [],
   "source": [
    "Baseball$HR.Count <- as.factor(Baseball$HR.Count)\n",
    "Baseball$WinsR <- as.numeric(Baseball$WinsR)"
   ]
  },
  {
   "cell_type": "code",
   "execution_count": 35,
   "metadata": {},
   "outputs": [
    {
     "data": {
      "image/png": "[encoded data removed]",
      "text/plain": [
       "Plot with title \"\""
      ]
     },
     "metadata": {
      "image/png": {
       "height": 420,
       "width": 420
      }
     },
     "output_type": "display_data"
    }
   ],
   "source": [
    "logi.hist.plot(Baseball$WinsR,Baseball$HR.Count, boxp=FALSE, type=\"hist\", col=\"gray\")"
   ]
  },
  {
   "cell_type": "code",
   "execution_count": 36,
   "metadata": {},
   "outputs": [],
   "source": [
    "#the graph above looks silly because all the results are near the bottom because the values of x are of smaller range on the y axis :)\n",
    "#still working on adjusting the y axis values to make this look a little nicer:)\n",
    "#hope you enjoyed this notebook and found it helpful! The verbage of explanations are mostly from the lesson 2 page 3-5, <3 Mia"
   ]
  }
 ],
 "metadata": {
  "kernelspec": {
   "display_name": "R",
   "language": "R",
   "name": "ir"
  },
  "language_info": {
   "codemirror_mode": "r",
   "file_extension": ".r",
   "mimetype": "text/x-r-source",
   "name": "R",
   "pygments_lexer": "r",
   "version": "4.2.1"
  }
 },
 "nbformat": 4,
 "nbformat_minor": 4
}
