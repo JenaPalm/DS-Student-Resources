{
 "cells": [
  {
   "cell_type": "markdown",
   "id": "6bb8ca21-517a-4fc3-88fb-c2d2677968fd",
   "metadata": {},
   "source": [
    "# --- Lesson 5 Randomly Generating Data HandsOn R Example\n",
    "\n",
    "## Simulation Hands-On\n",
    "\n",
    "A retailer wants to create a simulation to predict the profit on the sales of a certain tool she carries.  She knows the profit is a function of several factors, for which she has historical data: \n",
    "\n",
    "* **Units Sold:** Normal distribution, with a mean of 26 units and a standard deviation of 5.7 units.\n",
    "* **Price:** Discrete distribution. 55% of the time the price is 38 dollars, 30% of the time the price is 41.50 dollars, and 15% of the time is 36.25 dollars.\n",
    "* **Cost:** Uniform distribution, with a max of 33.72 dollars and a min of 26.88 dollars.\n",
    "* **Resource Factor:** Normal distribution, with a mean of 3 and a standard deviation of 1.2.\n",
    "\n",
    "The function for profit is as follows:\n",
    "\n",
    "```Profit = (RF * (Units sold) * (Price)) - ((0.2) * (RF) * (Units sold) * (Cost)) + $320```\n",
    "\n",
    "Create a simulation that has 100 rows of monthly profits. Once you have completed this simulation exercise, prepare a report stating what you did, what you learned, and your results. You have the option to complete your simulation in either R, Python or Excel.  Then submit it for grading."
   ]
  },
  {
   "cell_type": "code",
   "execution_count": null,
   "id": "a50e05a4-b5b3-4ead-9f5c-33a394ac98b4",
   "metadata": {},
   "outputs": [],
   "source": [
    "# Units Sold: Normal distribution, with a mean of 26 units and a standard \n",
    "# deviation of 5.7 units.\n",
    "\n",
    "US <- rnorm(100,26,5.7)\n",
    "print(US)"
   ]
  },
  {
   "cell_type": "code",
   "execution_count": null,
   "id": "4332f088-d990-43fa-b6d5-348a72fc1b72",
   "metadata": {},
   "outputs": [],
   "source": [
    "# Cost: Uniform distribution, with a max of 33.72 dollars and a min of 26.88 dollars.\n",
    "Cost <- runif(100, 26.88, 33.72)"
   ]
  },
  {
   "cell_type": "code",
   "execution_count": null,
   "id": "93efaea0-005d-42a2-9528-7337321ec855",
   "metadata": {},
   "outputs": [],
   "source": [
    "# Resource Factor: Normal distribution, with a mean of 3 and a standard deviation of 1.2.\n",
    "RF <- rnorm(100,3,1.2)\n",
    "print(RF)"
   ]
  },
  {
   "cell_type": "code",
   "execution_count": null,
   "id": "ee298818-b68a-4be0-b12a-ab5988a3ab49",
   "metadata": {},
   "outputs": [],
   "source": [
    "# The function for profit is as follows:\n",
    "Profit = (RF * (US) * (Price)) - ((0.2) * (RF) * (US) * (Cost)) + 320\n",
    "print(Profit)c"
   ]
  },
  {
   "cell_type": "code",
   "execution_count": null,
   "id": "ea19a9b0-8b13-4bec-91fe-2d08478c7008",
   "metadata": {},
   "outputs": [],
   "source": [
    "if (Price <= 38) {\n",
    "  Price * .55\n",
    " if (Price <= 36.25) {\n",
    "  Price * .15\n",
    "} else (Price <= 41.5) {\n",
    "  Price * .30\n",
    "} else {}"
   ]
  }
 ],
 "metadata": {
  "kernelspec": {
   "display_name": "R",
   "language": "R",
   "name": "ir"
  },
  "language_info": {
   "name": ""
  }
 },
 "nbformat": 4,
 "nbformat_minor": 5
}
