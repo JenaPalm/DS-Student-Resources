{
 "cells": [
  {
   "cell_type": "code",
   "execution_count": 1,
   "id": "a501881a-bbf1-4422-931c-00120db19d50",
   "metadata": {},
   "outputs": [],
   "source": [
    "# For Loops in R"
   ]
  },
  {
   "cell_type": "code",
   "execution_count": 2,
   "id": "78f3f45f-8ca5-4456-ace6-025ee0c2eda4",
   "metadata": {},
   "outputs": [],
   "source": [
    "# ifelse \n"
   ]
  },
  {
   "cell_type": "code",
   "execution_count": 3,
   "id": "87e379b7-d14f-4ce8-9ccf-3a2b9c17eb99",
   "metadata": {},
   "outputs": [
    {
     "data": {
      "text/html": [
       "'No!'"
      ],
      "text/latex": [
       "'No!'"
      ],
      "text/markdown": [
       "'No!'"
      ],
      "text/plain": [
       "[1] \"No!\""
      ]
     },
     "metadata": {},
     "output_type": "display_data"
    }
   ],
   "source": [
    "ifelse( 4 > 5, \"Yes!\", \"No!\")"
   ]
  },
  {
   "cell_type": "code",
   "execution_count": 4,
   "id": "c2836e4c-ff23-4706-919f-59d029a7bb6e",
   "metadata": {},
   "outputs": [
    {
     "data": {
      "text/html": [
       "'Yes!'"
      ],
      "text/latex": [
       "'Yes!'"
      ],
      "text/markdown": [
       "'Yes!'"
      ],
      "text/plain": [
       "[1] \"Yes!\""
      ]
     },
     "metadata": {},
     "output_type": "display_data"
    }
   ],
   "source": [
    "ifelse( 4 < 5, \"Yes!\", \"No!\")"
   ]
  },
  {
   "cell_type": "code",
   "execution_count": 5,
   "id": "b5445314-3888-484b-a5dc-88fa81e178b4",
   "metadata": {},
   "outputs": [],
   "source": [
    "# if\n"
   ]
  },
  {
   "cell_type": "code",
   "execution_count": 6,
   "id": "d9f15941-c06e-43e5-a3c8-1d2e26336bd0",
   "metadata": {},
   "outputs": [],
   "source": [
    "a <- 5\n",
    "b <- 4"
   ]
  },
  {
   "cell_type": "code",
   "execution_count": 7,
   "id": "61ab2229-f9e3-475e-8a0d-5f5e6dbad625",
   "metadata": {},
   "outputs": [
    {
     "data": {
      "text/html": [
       "1.25"
      ],
      "text/latex": [
       "1.25"
      ],
      "text/markdown": [
       "1.25"
      ],
      "text/plain": [
       "[1] 1.25"
      ]
     },
     "metadata": {},
     "output_type": "display_data"
    }
   ],
   "source": [
    "if(a > b){\n",
    "    a/b\n",
    "}"
   ]
  },
  {
   "cell_type": "code",
   "execution_count": 8,
   "id": "b3f1a57f-a02c-46d3-8c47-fadd75c92e91",
   "metadata": {},
   "outputs": [],
   "source": [
    "if(a < b){\n",
    "    a/b\n",
    "}"
   ]
  },
  {
   "cell_type": "code",
   "execution_count": 9,
   "id": "a1c9c299-2ec9-49d9-a092-d08ed8df2a9d",
   "metadata": {},
   "outputs": [],
   "source": [
    "# prints nothing bc the statement a<b is not true"
   ]
  },
  {
   "cell_type": "code",
   "execution_count": 10,
   "id": "fc65315e-a228-4410-af6d-8261344dfe78",
   "metadata": {},
   "outputs": [],
   "source": [
    "# else \n"
   ]
  },
  {
   "cell_type": "code",
   "execution_count": 11,
   "id": "7e475c01-88c2-4305-bd40-48b24ff9205a",
   "metadata": {},
   "outputs": [
    {
     "data": {
      "text/html": [
       "<span style=white-space:pre-wrap>'b/a =  0.8'</span>"
      ],
      "text/latex": [
       "'b/a =  0.8'"
      ],
      "text/markdown": [
       "<span style=white-space:pre-wrap>'b/a =  0.8'</span>"
      ],
      "text/plain": [
       "[1] \"b/a =  0.8\""
      ]
     },
     "metadata": {},
     "output_type": "display_data"
    }
   ],
   "source": [
    "if(a > b){\n",
    "    paste(\"b/a = \", b/a)\n",
    "}"
   ]
  },
  {
   "cell_type": "code",
   "execution_count": 12,
   "id": "de40ccae-50d6-42fc-a90e-7fcdb3da7dfa",
   "metadata": {},
   "outputs": [
    {
     "data": {
      "text/html": [
       "<span style=white-space:pre-wrap>'a/b =  1.25'</span>"
      ],
      "text/latex": [
       "'a/b =  1.25'"
      ],
      "text/markdown": [
       "<span style=white-space:pre-wrap>'a/b =  1.25'</span>"
      ],
      "text/plain": [
       "[1] \"a/b =  1.25\""
      ]
     },
     "metadata": {},
     "output_type": "display_data"
    }
   ],
   "source": [
    "if(a < b){\n",
    "    paste(\"b/a = \", b/a)\n",
    "} else{\n",
    "    paste(\"a/b = \", a/b)\n",
    "}"
   ]
  },
  {
   "cell_type": "code",
   "execution_count": 13,
   "id": "f6760515-213a-4dd7-9168-d721b20aa1b4",
   "metadata": {},
   "outputs": [],
   "source": [
    "# elseif\n"
   ]
  },
  {
   "cell_type": "code",
   "execution_count": 14,
   "id": "32a1e051-676e-4be3-800b-87e67452c5bb",
   "metadata": {},
   "outputs": [
    {
     "data": {
      "text/html": [
       "<span style=white-space:pre-wrap>'a/b =  1.25'</span>"
      ],
      "text/latex": [
       "'a/b =  1.25'"
      ],
      "text/markdown": [
       "<span style=white-space:pre-wrap>'a/b =  1.25'</span>"
      ],
      "text/plain": [
       "[1] \"a/b =  1.25\""
      ]
     },
     "metadata": {},
     "output_type": "display_data"
    }
   ],
   "source": [
    "if(a < b){\n",
    "    paste(\"b/a = \", b/a)\n",
    "} else if( a==b){\n",
    "    \"a and b are equal!\"\n",
    "} else{\n",
    "    paste(\"a/b = \", a/b)\n",
    "}"
   ]
  },
  {
   "cell_type": "code",
   "execution_count": 15,
   "id": "f3f6e864-eba1-4deb-8ecf-cc690bb94c3c",
   "metadata": {},
   "outputs": [],
   "source": [
    "# while\n"
   ]
  },
  {
   "cell_type": "code",
   "execution_count": null,
   "id": "338011f6-6e8e-4465-b348-c7db9bc70e6f",
   "metadata": {},
   "outputs": [],
   "source": [
    "while(1==1){\n",
    "    print(\"this is true!\")\n",
    "}"
   ]
  },
  {
   "cell_type": "code",
   "execution_count": null,
   "id": "54a821cc-7096-42e2-8d1f-fdbcd3365f81",
   "metadata": {},
   "outputs": [],
   "source": [
    "x<- 1\n",
    "y<- 10"
   ]
  },
  {
   "cell_type": "code",
   "execution_count": null,
   "id": "dd9465ea-64b0-40a8-accf-9dc3d6f9970b",
   "metadata": {},
   "outputs": [],
   "source": [
    "while(x < y){\n",
    "    print(\"x is smaller than y\")\n",
    "    x <- x+1\n",
    "}"
   ]
  },
  {
   "cell_type": "code",
   "execution_count": null,
   "id": "d279dad3-a7de-4309-9aa2-79f325287277",
   "metadata": {},
   "outputs": [],
   "source": [
    "# for loops\n"
   ]
  },
  {
   "cell_type": "code",
   "execution_count": null,
   "id": "7361decd-4370-4eac-9824-24b35047f13a",
   "metadata": {},
   "outputs": [],
   "source": [
    "results <- c()"
   ]
  },
  {
   "cell_type": "code",
   "execution_count": null,
   "id": "214e2065-a3d5-4834-9613-f734cd2c1657",
   "metadata": {},
   "outputs": [],
   "source": []
  }
 ],
 "metadata": {
  "kernelspec": {
   "display_name": "R",
   "language": "R",
   "name": "ir"
  },
  "language_info": {
   "codemirror_mode": "r",
   "file_extension": ".r",
   "mimetype": "text/x-r-source",
   "name": "R",
   "pygments_lexer": "r",
   "version": "4.0.2"
  }
 },
 "nbformat": 4,
 "nbformat_minor": 5
}
