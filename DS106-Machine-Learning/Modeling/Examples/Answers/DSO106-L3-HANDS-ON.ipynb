{
 "cells": [
  {
   "cell_type": "code",
   "execution_count": 2,
   "id": "b3300e74",
   "metadata": {},
   "outputs": [],
   "source": [
    "library(\"ggplot2\")"
   ]
  },
  {
   "cell_type": "code",
   "execution_count": 1,
   "id": "93f629ed",
   "metadata": {},
   "outputs": [],
   "source": [
    "nonlinear= read.csv(\"C:\\\\Users\\\\Jilian\\\\Desktop\\\\nonlinear.csv\")"
   ]
  },
  {
   "cell_type": "code",
   "execution_count": 3,
   "id": "21b9f1e5",
   "metadata": {},
   "outputs": [
    {
     "data": {
      "text/html": [
       "<table class=\"dataframe\">\n",
       "<caption>A data.frame: 39 × 4</caption>\n",
       "<thead>\n",
       "\t<tr><th scope=col>X1</th><th scope=col>Y1</th><th scope=col>X2</th><th scope=col>Y2</th></tr>\n",
       "\t<tr><th scope=col>&lt;dbl&gt;</th><th scope=col>&lt;dbl&gt;</th><th scope=col>&lt;dbl&gt;</th><th scope=col>&lt;dbl&gt;</th></tr>\n",
       "</thead>\n",
       "<tbody>\n",
       "\t<tr><td> 9.55</td><td>183.13</td><td>1.74</td><td>65.01</td></tr>\n",
       "\t<tr><td> 7.98</td><td>204.44</td><td>0.13</td><td>13.55</td></tr>\n",
       "\t<tr><td>13.42</td><td>121.54</td><td>0.20</td><td>16.58</td></tr>\n",
       "\t<tr><td>13.40</td><td>111.86</td><td>0.76</td><td>22.87</td></tr>\n",
       "\t<tr><td> 7.67</td><td>206.74</td><td>0.78</td><td>22.01</td></tr>\n",
       "\t<tr><td> 5.97</td><td>205.72</td><td>1.65</td><td>53.96</td></tr>\n",
       "\t<tr><td> 7.97</td><td>201.99</td><td>1.08</td><td>30.74</td></tr>\n",
       "\t<tr><td> 9.27</td><td>184.84</td><td>1.19</td><td>27.99</td></tr>\n",
       "\t<tr><td> 5.11</td><td>199.13</td><td>1.14</td><td>25.93</td></tr>\n",
       "\t<tr><td>13.73</td><td>103.98</td><td>1.04</td><td>21.46</td></tr>\n",
       "\t<tr><td>10.18</td><td>172.73</td><td>1.51</td><td>41.86</td></tr>\n",
       "\t<tr><td>10.12</td><td>176.17</td><td>0.54</td><td>10.96</td></tr>\n",
       "\t<tr><td>14.49</td><td> 84.04</td><td>0.99</td><td>26.38</td></tr>\n",
       "\t<tr><td> 8.07</td><td>191.19</td><td>1.29</td><td>36.45</td></tr>\n",
       "\t<tr><td> 5.37</td><td>199.63</td><td>0.65</td><td>18.59</td></tr>\n",
       "\t<tr><td>12.68</td><td>129.29</td><td>0.59</td><td>20.62</td></tr>\n",
       "\t<tr><td>14.49</td><td> 94.63</td><td>1.56</td><td>50.17</td></tr>\n",
       "\t<tr><td> 8.75</td><td>197.84</td><td>1.36</td><td>42.14</td></tr>\n",
       "\t<tr><td>11.92</td><td>153.80</td><td>1.72</td><td>60.97</td></tr>\n",
       "\t<tr><td>12.40</td><td>141.56</td><td>0.58</td><td>18.37</td></tr>\n",
       "\t<tr><td> 7.59</td><td>203.92</td><td>1.23</td><td>36.89</td></tr>\n",
       "\t<tr><td>11.83</td><td>151.72</td><td>1.08</td><td>28.28</td></tr>\n",
       "\t<tr><td> 7.93</td><td>199.56</td><td>1.43</td><td>43.12</td></tr>\n",
       "\t<tr><td> 9.78</td><td>177.54</td><td>0.41</td><td>14.93</td></tr>\n",
       "\t<tr><td> 8.48</td><td>198.03</td><td>0.80</td><td>23.89</td></tr>\n",
       "\t<tr><td> 7.85</td><td>203.49</td><td>0.84</td><td>20.06</td></tr>\n",
       "\t<tr><td> 7.73</td><td>205.66</td><td>1.45</td><td>40.22</td></tr>\n",
       "\t<tr><td>10.54</td><td>177.86</td><td>1.56</td><td>45.42</td></tr>\n",
       "\t<tr><td> 7.04</td><td>206.99</td><td>0.09</td><td> 9.21</td></tr>\n",
       "\t<tr><td>10.01</td><td>176.63</td><td>0.97</td><td>25.04</td></tr>\n",
       "\t<tr><td> 9.13</td><td>191.12</td><td>1.20</td><td>36.39</td></tr>\n",
       "\t<tr><td> 8.92</td><td>190.03</td><td>0.81</td><td>15.87</td></tr>\n",
       "\t<tr><td>13.63</td><td>105.41</td><td>1.09</td><td>24.84</td></tr>\n",
       "\t<tr><td> 9.69</td><td>184.20</td><td>1.36</td><td>40.31</td></tr>\n",
       "\t<tr><td>10.06</td><td>187.00</td><td>1.43</td><td>46.18</td></tr>\n",
       "\t<tr><td>   NA</td><td>    NA</td><td>0.24</td><td>14.56</td></tr>\n",
       "\t<tr><td>   NA</td><td>    NA</td><td>1.39</td><td>35.95</td></tr>\n",
       "\t<tr><td>   NA</td><td>    NA</td><td>0.66</td><td>17.30</td></tr>\n",
       "\t<tr><td>   NA</td><td>    NA</td><td>0.32</td><td>15.46</td></tr>\n",
       "</tbody>\n",
       "</table>\n"
      ],
      "text/latex": [
       "A data.frame: 39 × 4\n",
       "\\begin{tabular}{llll}\n",
       " X1 & Y1 & X2 & Y2\\\\\n",
       " <dbl> & <dbl> & <dbl> & <dbl>\\\\\n",
       "\\hline\n",
       "\t  9.55 & 183.13 & 1.74 & 65.01\\\\\n",
       "\t  7.98 & 204.44 & 0.13 & 13.55\\\\\n",
       "\t 13.42 & 121.54 & 0.20 & 16.58\\\\\n",
       "\t 13.40 & 111.86 & 0.76 & 22.87\\\\\n",
       "\t  7.67 & 206.74 & 0.78 & 22.01\\\\\n",
       "\t  5.97 & 205.72 & 1.65 & 53.96\\\\\n",
       "\t  7.97 & 201.99 & 1.08 & 30.74\\\\\n",
       "\t  9.27 & 184.84 & 1.19 & 27.99\\\\\n",
       "\t  5.11 & 199.13 & 1.14 & 25.93\\\\\n",
       "\t 13.73 & 103.98 & 1.04 & 21.46\\\\\n",
       "\t 10.18 & 172.73 & 1.51 & 41.86\\\\\n",
       "\t 10.12 & 176.17 & 0.54 & 10.96\\\\\n",
       "\t 14.49 &  84.04 & 0.99 & 26.38\\\\\n",
       "\t  8.07 & 191.19 & 1.29 & 36.45\\\\\n",
       "\t  5.37 & 199.63 & 0.65 & 18.59\\\\\n",
       "\t 12.68 & 129.29 & 0.59 & 20.62\\\\\n",
       "\t 14.49 &  94.63 & 1.56 & 50.17\\\\\n",
       "\t  8.75 & 197.84 & 1.36 & 42.14\\\\\n",
       "\t 11.92 & 153.80 & 1.72 & 60.97\\\\\n",
       "\t 12.40 & 141.56 & 0.58 & 18.37\\\\\n",
       "\t  7.59 & 203.92 & 1.23 & 36.89\\\\\n",
       "\t 11.83 & 151.72 & 1.08 & 28.28\\\\\n",
       "\t  7.93 & 199.56 & 1.43 & 43.12\\\\\n",
       "\t  9.78 & 177.54 & 0.41 & 14.93\\\\\n",
       "\t  8.48 & 198.03 & 0.80 & 23.89\\\\\n",
       "\t  7.85 & 203.49 & 0.84 & 20.06\\\\\n",
       "\t  7.73 & 205.66 & 1.45 & 40.22\\\\\n",
       "\t 10.54 & 177.86 & 1.56 & 45.42\\\\\n",
       "\t  7.04 & 206.99 & 0.09 &  9.21\\\\\n",
       "\t 10.01 & 176.63 & 0.97 & 25.04\\\\\n",
       "\t  9.13 & 191.12 & 1.20 & 36.39\\\\\n",
       "\t  8.92 & 190.03 & 0.81 & 15.87\\\\\n",
       "\t 13.63 & 105.41 & 1.09 & 24.84\\\\\n",
       "\t  9.69 & 184.20 & 1.36 & 40.31\\\\\n",
       "\t 10.06 & 187.00 & 1.43 & 46.18\\\\\n",
       "\t    NA &     NA & 0.24 & 14.56\\\\\n",
       "\t    NA &     NA & 1.39 & 35.95\\\\\n",
       "\t    NA &     NA & 0.66 & 17.30\\\\\n",
       "\t    NA &     NA & 0.32 & 15.46\\\\\n",
       "\\end{tabular}\n"
      ],
      "text/markdown": [
       "\n",
       "A data.frame: 39 × 4\n",
       "\n",
       "| X1 &lt;dbl&gt; | Y1 &lt;dbl&gt; | X2 &lt;dbl&gt; | Y2 &lt;dbl&gt; |\n",
       "|---|---|---|---|\n",
       "|  9.55 | 183.13 | 1.74 | 65.01 |\n",
       "|  7.98 | 204.44 | 0.13 | 13.55 |\n",
       "| 13.42 | 121.54 | 0.20 | 16.58 |\n",
       "| 13.40 | 111.86 | 0.76 | 22.87 |\n",
       "|  7.67 | 206.74 | 0.78 | 22.01 |\n",
       "|  5.97 | 205.72 | 1.65 | 53.96 |\n",
       "|  7.97 | 201.99 | 1.08 | 30.74 |\n",
       "|  9.27 | 184.84 | 1.19 | 27.99 |\n",
       "|  5.11 | 199.13 | 1.14 | 25.93 |\n",
       "| 13.73 | 103.98 | 1.04 | 21.46 |\n",
       "| 10.18 | 172.73 | 1.51 | 41.86 |\n",
       "| 10.12 | 176.17 | 0.54 | 10.96 |\n",
       "| 14.49 |  84.04 | 0.99 | 26.38 |\n",
       "|  8.07 | 191.19 | 1.29 | 36.45 |\n",
       "|  5.37 | 199.63 | 0.65 | 18.59 |\n",
       "| 12.68 | 129.29 | 0.59 | 20.62 |\n",
       "| 14.49 |  94.63 | 1.56 | 50.17 |\n",
       "|  8.75 | 197.84 | 1.36 | 42.14 |\n",
       "| 11.92 | 153.80 | 1.72 | 60.97 |\n",
       "| 12.40 | 141.56 | 0.58 | 18.37 |\n",
       "|  7.59 | 203.92 | 1.23 | 36.89 |\n",
       "| 11.83 | 151.72 | 1.08 | 28.28 |\n",
       "|  7.93 | 199.56 | 1.43 | 43.12 |\n",
       "|  9.78 | 177.54 | 0.41 | 14.93 |\n",
       "|  8.48 | 198.03 | 0.80 | 23.89 |\n",
       "|  7.85 | 203.49 | 0.84 | 20.06 |\n",
       "|  7.73 | 205.66 | 1.45 | 40.22 |\n",
       "| 10.54 | 177.86 | 1.56 | 45.42 |\n",
       "|  7.04 | 206.99 | 0.09 |  9.21 |\n",
       "| 10.01 | 176.63 | 0.97 | 25.04 |\n",
       "|  9.13 | 191.12 | 1.20 | 36.39 |\n",
       "|  8.92 | 190.03 | 0.81 | 15.87 |\n",
       "| 13.63 | 105.41 | 1.09 | 24.84 |\n",
       "|  9.69 | 184.20 | 1.36 | 40.31 |\n",
       "| 10.06 | 187.00 | 1.43 | 46.18 |\n",
       "|    NA |     NA | 0.24 | 14.56 |\n",
       "|    NA |     NA | 1.39 | 35.95 |\n",
       "|    NA |     NA | 0.66 | 17.30 |\n",
       "|    NA |     NA | 0.32 | 15.46 |\n",
       "\n"
      ],
      "text/plain": [
       "   X1    Y1     X2   Y2   \n",
       "1   9.55 183.13 1.74 65.01\n",
       "2   7.98 204.44 0.13 13.55\n",
       "3  13.42 121.54 0.20 16.58\n",
       "4  13.40 111.86 0.76 22.87\n",
       "5   7.67 206.74 0.78 22.01\n",
       "6   5.97 205.72 1.65 53.96\n",
       "7   7.97 201.99 1.08 30.74\n",
       "8   9.27 184.84 1.19 27.99\n",
       "9   5.11 199.13 1.14 25.93\n",
       "10 13.73 103.98 1.04 21.46\n",
       "11 10.18 172.73 1.51 41.86\n",
       "12 10.12 176.17 0.54 10.96\n",
       "13 14.49  84.04 0.99 26.38\n",
       "14  8.07 191.19 1.29 36.45\n",
       "15  5.37 199.63 0.65 18.59\n",
       "16 12.68 129.29 0.59 20.62\n",
       "17 14.49  94.63 1.56 50.17\n",
       "18  8.75 197.84 1.36 42.14\n",
       "19 11.92 153.80 1.72 60.97\n",
       "20 12.40 141.56 0.58 18.37\n",
       "21  7.59 203.92 1.23 36.89\n",
       "22 11.83 151.72 1.08 28.28\n",
       "23  7.93 199.56 1.43 43.12\n",
       "24  9.78 177.54 0.41 14.93\n",
       "25  8.48 198.03 0.80 23.89\n",
       "26  7.85 203.49 0.84 20.06\n",
       "27  7.73 205.66 1.45 40.22\n",
       "28 10.54 177.86 1.56 45.42\n",
       "29  7.04 206.99 0.09  9.21\n",
       "30 10.01 176.63 0.97 25.04\n",
       "31  9.13 191.12 1.20 36.39\n",
       "32  8.92 190.03 0.81 15.87\n",
       "33 13.63 105.41 1.09 24.84\n",
       "34  9.69 184.20 1.36 40.31\n",
       "35 10.06 187.00 1.43 46.18\n",
       "36    NA     NA 0.24 14.56\n",
       "37    NA     NA 1.39 35.95\n",
       "38    NA     NA 0.66 17.30\n",
       "39    NA     NA 0.32 15.46"
      ]
     },
     "metadata": {},
     "output_type": "display_data"
    }
   ],
   "source": [
    "nonlinear"
   ]
  },
  {
   "cell_type": "markdown",
   "id": "1689787a",
   "metadata": {},
   "source": [
    "First, we'll make a scatterplot to look at the data as required by the lesson instructions. "
   ]
  },
  {
   "cell_type": "code",
   "execution_count": 14,
   "id": "8babb653",
   "metadata": {},
   "outputs": [
    {
     "name": "stderr",
     "output_type": "stream",
     "text": [
      "Warning message:\n",
      "\"Removed 4 rows containing missing values (geom_point).\"\n"
     ]
    },
    {
     "data": {
      "image/png": "[encoded data removed]",
      "text/plain": [
       "plot without title"
      ]
     },
     "metadata": {
      "image/png": {
       "height": 420,
       "width": 420
      }
     },
     "output_type": "display_data"
    }
   ],
   "source": [
    "ggplot(nonlinear, aes(x = X1, y = Y1)) +\n",
    "    geom_point()"
   ]
  },
  {
   "cell_type": "markdown",
   "id": "c24f34ea",
   "metadata": {},
   "source": [
    "Plot X1 and Y1 to see their relationship is quadratic."
   ]
  },
  {
   "cell_type": "code",
   "execution_count": 5,
   "id": "a8dc8265",
   "metadata": {},
   "outputs": [
    {
     "name": "stderr",
     "output_type": "stream",
     "text": [
      "Warning message:\n",
      "\"Removed 4 rows containing non-finite values (stat_smooth).\"\n",
      "Warning message:\n",
      "\"Removed 4 rows containing missing values (geom_point).\"\n"
     ]
    },
    {
     "data": {
      "image/png": "[encoded data removed]",
      "text/plain": [
       "plot without title"
      ]
     },
     "metadata": {
      "image/png": {
       "height": 420,
       "width": 420
      }
     },
     "output_type": "display_data"
    }
   ],
   "source": [
    "quadPlot <- ggplot(nonlinear, aes(x = X1, y=Y1)) + geom_point() + stat_smooth(method = \"lm\", formula = y ~x + I(x^2), size =1)\n",
    "quadPlot"
   ]
  },
  {
   "cell_type": "markdown",
   "id": "6cc90861",
   "metadata": {},
   "source": [
    "It is quadratic, so now lets model the relationship."
   ]
  },
  {
   "cell_type": "code",
   "execution_count": 7,
   "id": "e1b6a355",
   "metadata": {},
   "outputs": [],
   "source": [
    "X1sq <- nonlinear$X1^2"
   ]
  },
  {
   "cell_type": "code",
   "execution_count": 9,
   "id": "2fd278d8",
   "metadata": {},
   "outputs": [
    {
     "data": {
      "text/plain": [
       "\n",
       "Call:\n",
       "lm(formula = nonlinear$Y1 ~ nonlinear$X1 + X1sq)\n",
       "\n",
       "Residuals:\n",
       "    Min      1Q  Median      3Q     Max \n",
       "-8.1829 -3.5405  0.3129  3.3066  8.1229 \n",
       "\n",
       "Coefficients:\n",
       "             Estimate Std. Error t value Pr(>|t|)    \n",
       "(Intercept)  134.0067    10.6525   12.58 6.26e-14 ***\n",
       "nonlinear$X1  22.4021     2.1788   10.28 1.14e-11 ***\n",
       "X1sq          -1.7723     0.1066  -16.62  < 2e-16 ***\n",
       "---\n",
       "Signif. codes:  0 '***' 0.001 '**' 0.01 '*' 0.05 '.' 0.1 ' ' 1\n",
       "\n",
       "Residual standard error: 4.338 on 32 degrees of freedom\n",
       "  (4 observations deleted due to missingness)\n",
       "Multiple R-squared:  0.9871,\tAdjusted R-squared:  0.9863 \n",
       "F-statistic:  1221 on 2 and 32 DF,  p-value: < 2.2e-16\n"
      ]
     },
     "metadata": {},
     "output_type": "display_data"
    }
   ],
   "source": [
    "quadModel <- lm(nonlinear$Y1~nonlinear$X1+X1sq)\n",
    "summary(quadModel)"
   ]
  },
  {
   "cell_type": "markdown",
   "id": "08eaf5bf",
   "metadata": {},
   "source": [
    "Looking at the F-statistic and p-value, this quadratic model is significant. X1 is a quadratic predictor of Y1."
   ]
  },
  {
   "cell_type": "markdown",
   "id": "9da20048",
   "metadata": {},
   "source": [
    "We will begin using X2 and Y2 by creating a scatterplot as required by the lesson instructions. "
   ]
  },
  {
   "cell_type": "code",
   "execution_count": 15,
   "id": "39961505",
   "metadata": {},
   "outputs": [
    {
     "data": {
      "image/png": "[encoded data removed]",
      "text/plain": [
       "plot without title"
      ]
     },
     "metadata": {
      "image/png": {
       "height": 420,
       "width": 420
      }
     },
     "output_type": "display_data"
    }
   ],
   "source": [
    "ggplot(nonlinear, aes(x = X2, y = Y2)) +\n",
    "    geom_point()"
   ]
  },
  {
   "cell_type": "markdown",
   "id": "d53d0551",
   "metadata": {},
   "source": [
    "Now, lets plot X2 and Y2 to see if their relationship is also quadratic."
   ]
  },
  {
   "cell_type": "code",
   "execution_count": 10,
   "id": "c652b98e",
   "metadata": {},
   "outputs": [
    {
     "data": {
      "image/png": "[encoded data removed]",
      "text/plain": [
       "plot without title"
      ]
     },
     "metadata": {
      "image/png": {
       "height": 420,
       "width": 420
      }
     },
     "output_type": "display_data"
    }
   ],
   "source": [
    "quadPlot <- ggplot(nonlinear, aes(x = X2, y=Y2)) + geom_point() + stat_smooth(method = \"lm\", formula = y ~x + I(x^2), size =1)\n",
    "quadPlot"
   ]
  },
  {
   "cell_type": "markdown",
   "id": "64f57305",
   "metadata": {},
   "source": [
    "This is a nice quadratic graph. We'll model the realtionship next. "
   ]
  },
  {
   "cell_type": "code",
   "execution_count": 11,
   "id": "b2492d84",
   "metadata": {},
   "outputs": [],
   "source": [
    "X2sq <- nonlinear$X2^2"
   ]
  },
  {
   "cell_type": "code",
   "execution_count": 12,
   "id": "b3952075",
   "metadata": {},
   "outputs": [
    {
     "data": {
      "text/plain": [
       "\n",
       "Call:\n",
       "lm(formula = nonlinear$Y2 ~ nonlinear$X2 + X2sq)\n",
       "\n",
       "Residuals:\n",
       "    Min      1Q  Median      3Q     Max \n",
       "-5.3133 -3.5044  0.4958  2.4686  5.1790 \n",
       "\n",
       "Coefficients:\n",
       "             Estimate Std. Error t value Pr(>|t|)    \n",
       "(Intercept)    15.318      2.001   7.655 4.63e-09 ***\n",
       "nonlinear$X2  -10.706      4.676  -2.290    0.028 *  \n",
       "X2sq           20.856      2.451   8.510 3.84e-10 ***\n",
       "---\n",
       "Signif. codes:  0 '***' 0.001 '**' 0.01 '*' 0.05 '.' 0.1 ' ' 1\n",
       "\n",
       "Residual standard error: 3.243 on 36 degrees of freedom\n",
       "Multiple R-squared:  0.9499,\tAdjusted R-squared:  0.9471 \n",
       "F-statistic:   341 on 2 and 36 DF,  p-value: < 2.2e-16\n"
      ]
     },
     "metadata": {},
     "output_type": "display_data"
    }
   ],
   "source": [
    "quadModel <- lm(nonlinear$Y2~nonlinear$X2+X2sq)\n",
    "summary(quadModel)"
   ]
  },
  {
   "cell_type": "markdown",
   "id": "b8d58cf7",
   "metadata": {},
   "source": [
    "Looking at the F-statistic and p-value, this quadratic model is also significant. X2 is a quadratic predictor of Y2."
   ]
  },
  {
   "cell_type": "code",
   "execution_count": null,
   "id": "8b72db53",
   "metadata": {},
   "outputs": [],
   "source": []
  }
 ],
 "metadata": {
  "kernelspec": {
   "display_name": "R",
   "language": "R",
   "name": "ir"
  },
  "language_info": {
   "codemirror_mode": "r",
   "file_extension": ".r",
   "mimetype": "text/x-r-source",
   "name": "R",
   "pygments_lexer": "r",
   "version": "4.2.1"
  }
 },
 "nbformat": 4,
 "nbformat_minor": 5
}
