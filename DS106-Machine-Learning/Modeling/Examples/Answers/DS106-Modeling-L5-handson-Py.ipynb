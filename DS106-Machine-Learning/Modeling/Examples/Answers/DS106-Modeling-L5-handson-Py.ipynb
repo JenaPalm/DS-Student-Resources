{
 "cells": [
  {
   "cell_type": "code",
   "execution_count": 20,
   "id": "d87aa344-4786-4477-b88b-e66f5436a417",
   "metadata": {},
   "outputs": [],
   "source": [
    "import numpy as np\n",
    "import pandas as pd"
   ]
  },
  {
   "cell_type": "markdown",
   "id": "c1848b11-72d1-4c7b-8ae9-9a80b81a721d",
   "metadata": {},
   "source": [
    "# DS106 Lesson 5 hands on Python\n",
    "## Nolan Hardeman\n",
    "### Simulation Hands-On\n",
    "A retailer wants to create a simulation to predict the profit on the sales of a certain tool she carries. She knows the profit is a function of several factors, for which she has historical data:\n",
    "\n",
    "*__Units Sold__: Normal distribution, with a mean of 26 units and a standard deviation of 5.7 units.\n",
    "\n",
    "*__Price__: Discrete distribution. 55% of the time the price is 38. 30% of the time the price is 41.50. and 15% of the time is 36.25.\n",
    "\n",
    "*__Cost__: Uniform distribution, with a max of 33.72 and a min of 26.88.\n",
    "\n",
    "*__Resource Factor__: Normal distribution, with a mean of 3 and a standard deviation of 1.2.\n",
    "\n",
    "The function for profit is as follows:\n",
    "$$Profit = (RF * (Units sold) * (Price)) - ((0.2) * (RF) * (Units sold) * (Cost)) + $320$$\n",
    "\n",
    "Create a simulation that has 100 rows of monthly profits. Once you have completed this simulation exercise, prepare a report stating what you did, what you learned, and your results. You have the option to complete your simulation in either R or Excel."
   ]
  },
  {
   "cell_type": "code",
   "execution_count": 3,
   "id": "fd64f235-76cb-4437-932b-e0ed181c8b51",
   "metadata": {},
   "outputs": [],
   "source": [
    "unitsSold = (np.random.normal(size=100))*5.7 + 26"
   ]
  },
  {
   "cell_type": "code",
   "execution_count": 19,
   "id": "1a6cb9c5-9ad3-4750-ba6e-fabda9ebabcc",
   "metadata": {},
   "outputs": [
    {
     "name": "stdout",
     "output_type": "stream",
     "text": [
      "[0.86156262 0.4842161  0.70001476 0.61257673 0.12572014 0.11086985\n",
      " 0.61592295 0.77144062 0.70864945 0.97733409 0.38299897 0.98369296\n",
      " 0.28092917 0.78220487 0.53830497 0.71378264 0.54176742 0.64526134\n",
      " 0.6728845  0.987637   0.16796002 0.46298229 0.11836997 0.13866123\n",
      " 0.33134156 0.45665473 0.63537611 0.78648854 0.47513673 0.67965765\n",
      " 0.74046326 0.99640576 0.58156656 0.68052866 0.45848871 0.96429647\n",
      " 0.03534992 0.62183825 0.80254837 0.2124869  0.32551388 0.09433618\n",
      " 0.4857431  0.95907486 0.69272473 0.11376801 0.26439344 0.47352649\n",
      " 0.54222453 0.40041279 0.33427779 0.26288755 0.98923543 0.86715587\n",
      " 0.91762237 0.04252618 0.38608351 0.13100575 0.62467487 0.32929253\n",
      " 0.08847995 0.55650767 0.49455763 0.50688917 0.11351681 0.50363551\n",
      " 0.16669135 0.140355   0.17294952 0.42597925 0.26686469 0.32527976\n",
      " 0.31399304 0.3109585  0.76463145 0.95866641 0.89737661 0.04651043\n",
      " 0.97141768 0.44656565 0.72092478 0.42436753 0.00180577 0.80965995\n",
      " 0.87311791 0.68890314 0.24300511 0.96745356 0.28921287 0.60733036\n",
      " 0.81951652 0.02541451 0.08758542 0.04554031 0.21272452 0.31614779\n",
      " 0.13333837 0.66741883 0.63679922 0.09140988]\n"
     ]
    }
   ],
   "source": [
    "random = np.random.uniform(0, 1, 100)\n",
    "print(random)"
   ]
  },
  {
   "cell_type": "code",
   "execution_count": 9,
   "id": "e1f4c2f8-5b07-45b1-a798-2c819c3238bd",
   "metadata": {},
   "outputs": [],
   "source": [
    "Cost = np.random.uniform(26.88, 33.72)"
   ]
  },
  {
   "cell_type": "code",
   "execution_count": 6,
   "id": "e5f9b211-9a39-42b2-ae0e-d65e5d741a7e",
   "metadata": {},
   "outputs": [],
   "source": [
    "RF = (np.random.normal(size =100))*1.2 + 3"
   ]
  },
  {
   "cell_type": "code",
   "execution_count": 21,
   "id": "3cc2c4ee-545f-4027-bfce-8d8f4d213f00",
   "metadata": {},
   "outputs": [],
   "source": [
    "df = pd.DataFrame()"
   ]
  },
  {
   "cell_type": "code",
   "execution_count": 22,
   "id": "03a7f93d-3197-4bf1-9099-577909cea62d",
   "metadata": {},
   "outputs": [],
   "source": [
    "df['Price'] = random"
   ]
  },
  {
   "cell_type": "code",
   "execution_count": 23,
   "id": "598d4b2f-69af-4e8f-af87-b4b35a00592d",
   "metadata": {},
   "outputs": [
    {
     "data": {
      "text/html": [
       "<div>\n",
       "<style scoped>\n",
       "    .dataframe tbody tr th:only-of-type {\n",
       "        vertical-align: middle;\n",
       "    }\n",
       "\n",
       "    .dataframe tbody tr th {\n",
       "        vertical-align: top;\n",
       "    }\n",
       "\n",
       "    .dataframe thead th {\n",
       "        text-align: right;\n",
       "    }\n",
       "</style>\n",
       "<table border=\"1\" class=\"dataframe\">\n",
       "  <thead>\n",
       "    <tr style=\"text-align: right;\">\n",
       "      <th></th>\n",
       "      <th>Price</th>\n",
       "    </tr>\n",
       "  </thead>\n",
       "  <tbody>\n",
       "    <tr>\n",
       "      <th>0</th>\n",
       "      <td>0.861563</td>\n",
       "    </tr>\n",
       "    <tr>\n",
       "      <th>1</th>\n",
       "      <td>0.484216</td>\n",
       "    </tr>\n",
       "    <tr>\n",
       "      <th>2</th>\n",
       "      <td>0.700015</td>\n",
       "    </tr>\n",
       "    <tr>\n",
       "      <th>3</th>\n",
       "      <td>0.612577</td>\n",
       "    </tr>\n",
       "    <tr>\n",
       "      <th>4</th>\n",
       "      <td>0.125720</td>\n",
       "    </tr>\n",
       "  </tbody>\n",
       "</table>\n",
       "</div>"
      ],
      "text/plain": [
       "      Price\n",
       "0  0.861563\n",
       "1  0.484216\n",
       "2  0.700015\n",
       "3  0.612577\n",
       "4  0.125720"
      ]
     },
     "execution_count": 23,
     "metadata": {},
     "output_type": "execute_result"
    }
   ],
   "source": [
    "df.head()"
   ]
  },
  {
   "cell_type": "code",
   "execution_count": 24,
   "id": "6ddfc950-7e0d-445c-b5f0-34d2180e59c0",
   "metadata": {},
   "outputs": [],
   "source": [
    "def priceFunction(series):\n",
    "    if series < .15:\n",
    "        return 36.25\n",
    "    elif series < .45:\n",
    "        return 41.50\n",
    "    elif series < 1:\n",
    "        return 38"
   ]
  },
  {
   "cell_type": "code",
   "execution_count": 25,
   "id": "d3d24471-e236-4e79-a52a-a53848eba812",
   "metadata": {},
   "outputs": [],
   "source": [
    "df['PriceR'] = df['Price'].apply(priceFunction)"
   ]
  },
  {
   "cell_type": "code",
   "execution_count": 30,
   "id": "59a55181-d2fe-4171-a868-f72579908f77",
   "metadata": {},
   "outputs": [
    {
     "data": {
      "text/html": [
       "<div>\n",
       "<style scoped>\n",
       "    .dataframe tbody tr th:only-of-type {\n",
       "        vertical-align: middle;\n",
       "    }\n",
       "\n",
       "    .dataframe tbody tr th {\n",
       "        vertical-align: top;\n",
       "    }\n",
       "\n",
       "    .dataframe thead th {\n",
       "        text-align: right;\n",
       "    }\n",
       "</style>\n",
       "<table border=\"1\" class=\"dataframe\">\n",
       "  <thead>\n",
       "    <tr style=\"text-align: right;\">\n",
       "      <th></th>\n",
       "      <th>Price</th>\n",
       "      <th>PriceR</th>\n",
       "    </tr>\n",
       "  </thead>\n",
       "  <tbody>\n",
       "    <tr>\n",
       "      <th>0</th>\n",
       "      <td>0.861563</td>\n",
       "      <td>38.00</td>\n",
       "    </tr>\n",
       "    <tr>\n",
       "      <th>1</th>\n",
       "      <td>0.484216</td>\n",
       "      <td>38.00</td>\n",
       "    </tr>\n",
       "    <tr>\n",
       "      <th>2</th>\n",
       "      <td>0.700015</td>\n",
       "      <td>38.00</td>\n",
       "    </tr>\n",
       "    <tr>\n",
       "      <th>3</th>\n",
       "      <td>0.612577</td>\n",
       "      <td>38.00</td>\n",
       "    </tr>\n",
       "    <tr>\n",
       "      <th>4</th>\n",
       "      <td>0.125720</td>\n",
       "      <td>36.25</td>\n",
       "    </tr>\n",
       "    <tr>\n",
       "      <th>...</th>\n",
       "      <td>...</td>\n",
       "      <td>...</td>\n",
       "    </tr>\n",
       "    <tr>\n",
       "      <th>95</th>\n",
       "      <td>0.316148</td>\n",
       "      <td>41.50</td>\n",
       "    </tr>\n",
       "    <tr>\n",
       "      <th>96</th>\n",
       "      <td>0.133338</td>\n",
       "      <td>36.25</td>\n",
       "    </tr>\n",
       "    <tr>\n",
       "      <th>97</th>\n",
       "      <td>0.667419</td>\n",
       "      <td>38.00</td>\n",
       "    </tr>\n",
       "    <tr>\n",
       "      <th>98</th>\n",
       "      <td>0.636799</td>\n",
       "      <td>38.00</td>\n",
       "    </tr>\n",
       "    <tr>\n",
       "      <th>99</th>\n",
       "      <td>0.091410</td>\n",
       "      <td>36.25</td>\n",
       "    </tr>\n",
       "  </tbody>\n",
       "</table>\n",
       "<p>100 rows × 2 columns</p>\n",
       "</div>"
      ],
      "text/plain": [
       "       Price  PriceR\n",
       "0   0.861563   38.00\n",
       "1   0.484216   38.00\n",
       "2   0.700015   38.00\n",
       "3   0.612577   38.00\n",
       "4   0.125720   36.25\n",
       "..       ...     ...\n",
       "95  0.316148   41.50\n",
       "96  0.133338   36.25\n",
       "97  0.667419   38.00\n",
       "98  0.636799   38.00\n",
       "99  0.091410   36.25\n",
       "\n",
       "[100 rows x 2 columns]"
      ]
     },
     "execution_count": 30,
     "metadata": {},
     "output_type": "execute_result"
    }
   ],
   "source": [
    "df"
   ]
  },
  {
   "cell_type": "code",
   "execution_count": 31,
   "id": "f1d63dab-21a4-4d04-ad3c-6109976cea93",
   "metadata": {},
   "outputs": [],
   "source": [
    "df['unitsSold'] = unitsSold"
   ]
  },
  {
   "cell_type": "code",
   "execution_count": 34,
   "id": "8b8def17-1f6c-4dfd-8a57-690a33f74a6a",
   "metadata": {},
   "outputs": [],
   "source": [
    "df['Cost'] = Cost"
   ]
  },
  {
   "cell_type": "code",
   "execution_count": 35,
   "id": "f4b82c88-4592-4205-9f72-4bd650bd0a20",
   "metadata": {},
   "outputs": [],
   "source": [
    "df['RF'] = RF"
   ]
  },
  {
   "cell_type": "code",
   "execution_count": 36,
   "id": "5f27724c-5ae0-4b3e-b8cb-572bb55a1fea",
   "metadata": {},
   "outputs": [],
   "source": [
    "#p𝑟𝑜𝑓𝑖𝑡=(𝑅𝐹∗(𝑈𝑛𝑖𝑡𝑠𝑠𝑜𝑙𝑑)∗(𝑃𝑟𝑖𝑐𝑒))−((0.2)∗(𝑅𝐹)∗(𝑈𝑛𝑖𝑡𝑠𝑠𝑜𝑙𝑑)∗(𝐶𝑜𝑠𝑡))+$320\n",
    "Profit = (df.RF * df.unitsSold * df.PriceR) - (.2 * df.RF * df.unitsSold * df.Cost) + 320"
   ]
  },
  {
   "cell_type": "code",
   "execution_count": 37,
   "id": "4d76e1a3-5781-46f2-bcb7-9461a24c8611",
   "metadata": {},
   "outputs": [
    {
     "data": {
      "text/plain": [
       "0     2179.451043\n",
       "1     2684.489497\n",
       "2     2003.149050\n",
       "3     2260.121483\n",
       "4     1617.159887\n",
       "         ...     \n",
       "95    5748.544716\n",
       "96    2842.168201\n",
       "97    2505.595331\n",
       "98    2643.892494\n",
       "99       9.315057\n",
       "Length: 100, dtype: float64"
      ]
     },
     "execution_count": 37,
     "metadata": {},
     "output_type": "execute_result"
    }
   ],
   "source": [
    "Profit"
   ]
  },
  {
   "cell_type": "code",
   "execution_count": 38,
   "id": "bd195555-4d96-4d0f-a3ec-2cf35d0164c3",
   "metadata": {},
   "outputs": [],
   "source": [
    "df['Profit'] = Profit"
   ]
  },
  {
   "cell_type": "code",
   "execution_count": 39,
   "id": "c57167bd-79f3-4598-af35-9340ebd6b474",
   "metadata": {},
   "outputs": [
    {
     "data": {
      "text/html": [
       "<div>\n",
       "<style scoped>\n",
       "    .dataframe tbody tr th:only-of-type {\n",
       "        vertical-align: middle;\n",
       "    }\n",
       "\n",
       "    .dataframe tbody tr th {\n",
       "        vertical-align: top;\n",
       "    }\n",
       "\n",
       "    .dataframe thead th {\n",
       "        text-align: right;\n",
       "    }\n",
       "</style>\n",
       "<table border=\"1\" class=\"dataframe\">\n",
       "  <thead>\n",
       "    <tr style=\"text-align: right;\">\n",
       "      <th></th>\n",
       "      <th>Price</th>\n",
       "      <th>PriceR</th>\n",
       "      <th>unitsSold</th>\n",
       "      <th>Cost</th>\n",
       "      <th>RF</th>\n",
       "      <th>Profit</th>\n",
       "    </tr>\n",
       "  </thead>\n",
       "  <tbody>\n",
       "    <tr>\n",
       "      <th>0</th>\n",
       "      <td>0.861563</td>\n",
       "      <td>38.00</td>\n",
       "      <td>30.519636</td>\n",
       "      <td>30.415892</td>\n",
       "      <td>1.908911</td>\n",
       "      <td>2179.451043</td>\n",
       "    </tr>\n",
       "    <tr>\n",
       "      <th>1</th>\n",
       "      <td>0.484216</td>\n",
       "      <td>38.00</td>\n",
       "      <td>28.445776</td>\n",
       "      <td>30.415892</td>\n",
       "      <td>2.604354</td>\n",
       "      <td>2684.489497</td>\n",
       "    </tr>\n",
       "    <tr>\n",
       "      <th>2</th>\n",
       "      <td>0.700015</td>\n",
       "      <td>38.00</td>\n",
       "      <td>26.953455</td>\n",
       "      <td>30.415892</td>\n",
       "      <td>1.956539</td>\n",
       "      <td>2003.149050</td>\n",
       "    </tr>\n",
       "    <tr>\n",
       "      <th>3</th>\n",
       "      <td>0.612577</td>\n",
       "      <td>38.00</td>\n",
       "      <td>20.690197</td>\n",
       "      <td>30.415892</td>\n",
       "      <td>2.937952</td>\n",
       "      <td>2260.121483</td>\n",
       "    </tr>\n",
       "    <tr>\n",
       "      <th>4</th>\n",
       "      <td>0.125720</td>\n",
       "      <td>36.25</td>\n",
       "      <td>30.299750</td>\n",
       "      <td>30.415892</td>\n",
       "      <td>1.419139</td>\n",
       "      <td>1617.159887</td>\n",
       "    </tr>\n",
       "    <tr>\n",
       "      <th>...</th>\n",
       "      <td>...</td>\n",
       "      <td>...</td>\n",
       "      <td>...</td>\n",
       "      <td>...</td>\n",
       "      <td>...</td>\n",
       "      <td>...</td>\n",
       "    </tr>\n",
       "    <tr>\n",
       "      <th>95</th>\n",
       "      <td>0.316148</td>\n",
       "      <td>41.50</td>\n",
       "      <td>34.843457</td>\n",
       "      <td>30.415892</td>\n",
       "      <td>4.398986</td>\n",
       "      <td>5748.544716</td>\n",
       "    </tr>\n",
       "    <tr>\n",
       "      <th>96</th>\n",
       "      <td>0.133338</td>\n",
       "      <td>36.25</td>\n",
       "      <td>31.605798</td>\n",
       "      <td>30.415892</td>\n",
       "      <td>2.645317</td>\n",
       "      <td>2842.168201</td>\n",
       "    </tr>\n",
       "    <tr>\n",
       "      <th>97</th>\n",
       "      <td>0.667419</td>\n",
       "      <td>38.00</td>\n",
       "      <td>25.514327</td>\n",
       "      <td>30.415892</td>\n",
       "      <td>2.683898</td>\n",
       "      <td>2505.595331</td>\n",
       "    </tr>\n",
       "    <tr>\n",
       "      <th>98</th>\n",
       "      <td>0.636799</td>\n",
       "      <td>38.00</td>\n",
       "      <td>21.117337</td>\n",
       "      <td>30.415892</td>\n",
       "      <td>3.447921</td>\n",
       "      <td>2643.892494</td>\n",
       "    </tr>\n",
       "    <tr>\n",
       "      <th>99</th>\n",
       "      <td>0.091410</td>\n",
       "      <td>36.25</td>\n",
       "      <td>23.527069</td>\n",
       "      <td>30.415892</td>\n",
       "      <td>-0.437747</td>\n",
       "      <td>9.315057</td>\n",
       "    </tr>\n",
       "  </tbody>\n",
       "</table>\n",
       "<p>100 rows × 6 columns</p>\n",
       "</div>"
      ],
      "text/plain": [
       "       Price  PriceR  unitsSold       Cost        RF       Profit\n",
       "0   0.861563   38.00  30.519636  30.415892  1.908911  2179.451043\n",
       "1   0.484216   38.00  28.445776  30.415892  2.604354  2684.489497\n",
       "2   0.700015   38.00  26.953455  30.415892  1.956539  2003.149050\n",
       "3   0.612577   38.00  20.690197  30.415892  2.937952  2260.121483\n",
       "4   0.125720   36.25  30.299750  30.415892  1.419139  1617.159887\n",
       "..       ...     ...        ...        ...       ...          ...\n",
       "95  0.316148   41.50  34.843457  30.415892  4.398986  5748.544716\n",
       "96  0.133338   36.25  31.605798  30.415892  2.645317  2842.168201\n",
       "97  0.667419   38.00  25.514327  30.415892  2.683898  2505.595331\n",
       "98  0.636799   38.00  21.117337  30.415892  3.447921  2643.892494\n",
       "99  0.091410   36.25  23.527069  30.415892 -0.437747     9.315057\n",
       "\n",
       "[100 rows x 6 columns]"
      ]
     },
     "execution_count": 39,
     "metadata": {},
     "output_type": "execute_result"
    }
   ],
   "source": [
    "df"
   ]
  },
  {
   "cell_type": "code",
   "execution_count": null,
   "id": "ef984122-42e8-49b5-b51b-930c21c8db81",
   "metadata": {},
   "outputs": [],
   "source": []
  }
 ],
 "metadata": {
  "kernelspec": {
   "display_name": "Python 3 (ipykernel)",
   "language": "python",
   "name": "python3"
  },
  "language_info": {
   "codemirror_mode": {
    "name": "ipython",
    "version": 3
   },
   "file_extension": ".py",
   "mimetype": "text/x-python",
   "name": "python",
   "nbconvert_exporter": "python",
   "pygments_lexer": "ipython3",
   "version": "3.9.13"
  }
 },
 "nbformat": 4,
 "nbformat_minor": 5
}
