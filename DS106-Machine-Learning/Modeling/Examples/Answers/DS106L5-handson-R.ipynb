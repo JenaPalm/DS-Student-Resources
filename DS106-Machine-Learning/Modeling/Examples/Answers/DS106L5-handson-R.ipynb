{
 "cells": [
  {
   "cell_type": "code",
   "execution_count": null,
   "id": "94cb716a-42dd-4bed-9218-847deb8a2995",
   "metadata": {},
   "outputs": [],
   "source": []
  },
  {
   "cell_type": "markdown",
   "id": "10e8cc42-e36e-46dd-bd8e-c0d2c4d277a2",
   "metadata": {},
   "source": [
    "# DS106 Lesson 5 hands on R\n",
    "## Nolan Hardeman\n",
    "### Simulation Hands-On\n",
    "A retailer wants to create a simulation to predict the profit on the sales of a certain tool she carries. She knows the profit is a function of several factors, for which she has historical data:\n",
    "\n",
    "*__Units Sold__: Normal distribution, with a mean of 26 units and a standard deviation of 5.7 units.\n",
    "\n",
    "*__Price__: Discrete distribution. 55% of the time the price is 38. 30% of the time the price is 41.50. and 15% of the time is 36.25.\n",
    "\n",
    "*__Cost__: Uniform distribution, with a max of 33.72 and a min of 26.88.\n",
    "\n",
    "*__Resource Factor__: Normal distribution, with a mean of 3 and a standard deviation of 1.2.\n",
    "\n",
    "The function for profit is as follows:\n",
    "$$Profit = (RF * (Units sold) * (Price)) - ((0.2) * (RF) * (Units sold) * (Cost)) + $320$$\n",
    "\n",
    "Create a simulation that has 100 rows of monthly profits. Once you have completed this simulation exercise, prepare a report stating what you did, what you learned, and your results. You have the option to complete your simulation in either R or Excel."
   ]
  },
  {
   "cell_type": "code",
   "execution_count": 1,
   "id": "b3e586c3-dac1-4843-acaa-f22595444810",
   "metadata": {},
   "outputs": [],
   "source": [
    "unitsSold = rnorm(100, 26, 5.7)"
   ]
  },
  {
   "cell_type": "code",
   "execution_count": null,
   "id": "6d971320-118c-457e-9c61-4fff2fabd209",
   "metadata": {},
   "outputs": [],
   "source": [
    "random"
   ]
  },
  {
   "cell_type": "code",
   "execution_count": null,
   "id": "1562b62c-5b08-4c3c-b2dc-c2c9a7e24370",
   "metadata": {},
   "outputs": [],
   "source": [
    "## =IF(B2<(0.15),36.25,IF(B2<(0.45),41.5,IF(B2<(1),38,)))\n",
    "price = if (random < .15){return "
   ]
  },
  {
   "cell_type": "code",
   "execution_count": 3,
   "id": "dc68dd96-a5ff-4f59-9308-a0a564ec9cfe",
   "metadata": {},
   "outputs": [],
   "source": [
    "cost = runif(100, 26.88, 33.72)"
   ]
  },
  {
   "cell_type": "code",
   "execution_count": 4,
   "id": "c9648d0a-0d20-47a6-be57-e70fca678a93",
   "metadata": {},
   "outputs": [],
   "source": [
    "RF = rnorm(100, 3, 1.2)"
   ]
  },
  {
   "cell_type": "code",
   "execution_count": null,
   "id": "49797ce9-ea05-4047-963b-07d81f3e5513",
   "metadata": {},
   "outputs": [],
   "source": [
    "Profit = "
   ]
  }
 ],
 "metadata": {
  "kernelspec": {
   "display_name": "R",
   "language": "R",
   "name": "ir"
  },
  "language_info": {
   "codemirror_mode": "r",
   "file_extension": ".r",
   "mimetype": "text/x-r-source",
   "name": "R",
   "pygments_lexer": "r",
   "version": "4.1.2"
  }
 },
 "nbformat": 4,
 "nbformat_minor": 5
}
