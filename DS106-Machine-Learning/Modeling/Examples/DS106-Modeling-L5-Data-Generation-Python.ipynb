{
 "cells": [
  {
   "cell_type": "markdown",
   "id": "30c92d45-f9c4-4d86-a5ff-936ebd1b6e0a",
   "metadata": {},
   "source": [
    "# Data Generation in Python\n",
    "\n",
    "Data generation can be helpful in a number of situations from creating toy examples to explore to running full blown simulations. \n",
    "\n",
    "This notebook will review how to create several forms of synthetic data."
   ]
  },
  {
   "cell_type": "code",
   "execution_count": 3,
   "id": "4db6b7b7-d03f-4a9e-8094-9a188075a732",
   "metadata": {},
   "outputs": [
    {
     "data": {
      "text/html": [
       "\n",
       "        <iframe\n",
       "            width=\"720\"\n",
       "            height=\"480\"\n",
       "            src=\"https://player.vimeo.com/video/634528117\"\n",
       "            frameborder=\"0\"\n",
       "            allowfullscreen\n",
       "            \n",
       "        ></iframe>\n",
       "        "
      ],
      "text/plain": [
       "<IPython.lib.display.VimeoVideo at 0x109a9b160>"
      ]
     },
     "execution_count": 3,
     "metadata": {},
     "output_type": "execute_result"
    }
   ],
   "source": [
    "from IPython.display import VimeoVideo\n",
    "# Tutorial Video Name: Data Generation in Python\n",
    "VimeoVideo('634528117', width=720, height=480)"
   ]
  },
  {
   "cell_type": "markdown",
   "id": "7f46ea35-dca0-460e-81b7-86de208c502f",
   "metadata": {},
   "source": [
    "https://vimeo.com/634528117"
   ]
  },
  {
   "cell_type": "code",
   "execution_count": 1,
   "id": "469d3b70-f9dd-4e7f-9536-1e54acaa8fb8",
   "metadata": {},
   "outputs": [],
   "source": [
    "import numpy as np\n",
    "import pandas as pd\n",
    "import seaborn as sns"
   ]
  },
  {
   "cell_type": "markdown",
   "id": "98e1a547-052e-43c0-948b-8dfdb829a039",
   "metadata": {},
   "source": [
    "## Numeric Data\n",
    "* Interger lists and ranges\n",
    "* Sampling from a distribution"
   ]
  },
  {
   "cell_type": "code",
   "execution_count": 2,
   "id": "f8bc9b61-f9e2-4c2e-9590-b0187b8304e4",
   "metadata": {},
   "outputs": [
    {
     "name": "stdout",
     "output_type": "stream",
     "text": [
      "[0, 1, 2, 3, 4, 5, 6, 7, 8, 9, 10, 11, 12, 13, 14, 15, 16, 17, 18, 19, 20, 21, 22, 23, 24, 25, 26, 27, 28, 29, 30, 31, 32, 33, 34, 35, 36, 37, 38, 39, 40, 41, 42, 43, 44, 45, 46, 47, 48, 49, 50, 51, 52, 53, 54, 55, 56, 57, 58, 59, 60, 61, 62, 63, 64, 65, 66, 67, 68, 69, 70, 71, 72, 73, 74, 75, 76, 77, 78, 79, 80, 81, 82, 83, 84, 85, 86, 87, 88, 89, 90, 91, 92, 93, 94, 95, 96, 97, 98, 99]\n"
     ]
    }
   ],
   "source": [
    "int_vector = list(range(0, 100))\n",
    "print(int_vector)"
   ]
  },
  {
   "cell_type": "code",
   "execution_count": 3,
   "id": "613c31fb-f5c8-4277-b988-6990dc93abca",
   "metadata": {},
   "outputs": [
    {
     "name": "stdout",
     "output_type": "stream",
     "text": [
      "[100, 99, 98, 97, 96, 95, 94, 93, 92, 91, 90, 89, 88, 87, 86, 85, 84, 83, 82, 81, 80, 79, 78, 77, 76, 75, 74, 73, 72, 71, 70, 69, 68, 67, 66, 65, 64, 63, 62, 61, 60, 59, 58, 57, 56, 55, 54, 53, 52, 51, 50, 49, 48, 47, 46, 45, 44, 43, 42, 41, 40, 39, 38, 37, 36, 35, 34, 33, 32, 31, 30, 29, 28, 27, 26, 25, 24, 23, 22, 21, 20, 19, 18, 17, 16, 15, 14, 13, 12, 11, 10, 9, 8, 7, 6, 5, 4, 3, 2, 1]\n"
     ]
    }
   ],
   "source": [
    "rev_int_vector = list(range(100, 0, -1))\n",
    "print(rev_int_vector)"
   ]
  },
  {
   "cell_type": "code",
   "execution_count": 4,
   "id": "ce91babf-3513-43c5-b6a5-cdd42c327338",
   "metadata": {},
   "outputs": [
    {
     "name": "stdout",
     "output_type": "stream",
     "text": [
      "[0, 2, 4, 6, 8, 10, 12, 14, 16, 18, 20, 22, 24, 26, 28, 30, 32, 34, 36, 38, 40, 42, 44, 46, 48, 50, 52, 54, 56, 58, 60, 62, 64, 66, 68, 70, 72, 74, 76, 78, 80, 82, 84, 86, 88, 90, 92, 94, 96, 98]\n"
     ]
    }
   ],
   "source": [
    "even_int_vector = list(range(0, 100, 2))\n",
    "print(even_int_vector)"
   ]
  },
  {
   "cell_type": "markdown",
   "id": "711e43ea-1e2a-4a0e-90f6-35b3c2473f43",
   "metadata": {},
   "source": [
    "### Sampling from a distribution"
   ]
  },
  {
   "cell_type": "code",
   "execution_count": 5,
   "id": "b3b3ce51-5e29-4c15-9ab1-e6e318dfd70c",
   "metadata": {},
   "outputs": [
    {
     "data": {
      "text/plain": [
       "\u001b[0;31mDocstring:\u001b[0m\n",
       "normal(loc=0.0, scale=1.0, size=None)\n",
       "\n",
       "Draw random samples from a normal (Gaussian) distribution.\n",
       "\n",
       "The probability density function of the normal distribution, first\n",
       "derived by De Moivre and 200 years later by both Gauss and Laplace\n",
       "independently [2]_, is often called the bell curve because of\n",
       "its characteristic shape (see the example below).\n",
       "\n",
       "The normal distributions occurs often in nature.  For example, it\n",
       "describes the commonly occurring distribution of samples influenced\n",
       "by a large number of tiny, random disturbances, each with its own\n",
       "unique distribution [2]_.\n",
       "\n",
       ".. note::\n",
       "    New code should use the ``normal`` method of a ``default_rng()``\n",
       "    instance instead; please see the :ref:`random-quick-start`.\n",
       "\n",
       "Parameters\n",
       "----------\n",
       "loc : float or array_like of floats\n",
       "    Mean (\"centre\") of the distribution.\n",
       "scale : float or array_like of floats\n",
       "    Standard deviation (spread or \"width\") of the distribution. Must be\n",
       "    non-negative.\n",
       "size : int or tuple of ints, optional\n",
       "    Output shape.  If the given shape is, e.g., ``(m, n, k)``, then\n",
       "    ``m * n * k`` samples are drawn.  If size is ``None`` (default),\n",
       "    a single value is returned if ``loc`` and ``scale`` are both scalars.\n",
       "    Otherwise, ``np.broadcast(loc, scale).size`` samples are drawn.\n",
       "\n",
       "Returns\n",
       "-------\n",
       "out : ndarray or scalar\n",
       "    Drawn samples from the parameterized normal distribution.\n",
       "\n",
       "See Also\n",
       "--------\n",
       "scipy.stats.norm : probability density function, distribution or\n",
       "    cumulative density function, etc.\n",
       "Generator.normal: which should be used for new code.\n",
       "\n",
       "Notes\n",
       "-----\n",
       "The probability density for the Gaussian distribution is\n",
       "\n",
       ".. math:: p(x) = \\frac{1}{\\sqrt{ 2 \\pi \\sigma^2 }}\n",
       "                 e^{ - \\frac{ (x - \\mu)^2 } {2 \\sigma^2} },\n",
       "\n",
       "where :math:`\\mu` is the mean and :math:`\\sigma` the standard\n",
       "deviation. The square of the standard deviation, :math:`\\sigma^2`,\n",
       "is called the variance.\n",
       "\n",
       "The function has its peak at the mean, and its \"spread\" increases with\n",
       "the standard deviation (the function reaches 0.607 times its maximum at\n",
       ":math:`x + \\sigma` and :math:`x - \\sigma` [2]_).  This implies that\n",
       "normal is more likely to return samples lying close to the mean, rather\n",
       "than those far away.\n",
       "\n",
       "References\n",
       "----------\n",
       ".. [1] Wikipedia, \"Normal distribution\",\n",
       "       https://en.wikipedia.org/wiki/Normal_distribution\n",
       ".. [2] P. R. Peebles Jr., \"Central Limit Theorem\" in \"Probability,\n",
       "       Random Variables and Random Signal Principles\", 4th ed., 2001,\n",
       "       pp. 51, 51, 125.\n",
       "\n",
       "Examples\n",
       "--------\n",
       "Draw samples from the distribution:\n",
       "\n",
       ">>> mu, sigma = 0, 0.1 # mean and standard deviation\n",
       ">>> s = np.random.normal(mu, sigma, 1000)\n",
       "\n",
       "Verify the mean and the variance:\n",
       "\n",
       ">>> abs(mu - np.mean(s))\n",
       "0.0  # may vary\n",
       "\n",
       ">>> abs(sigma - np.std(s, ddof=1))\n",
       "0.1  # may vary\n",
       "\n",
       "Display the histogram of the samples, along with\n",
       "the probability density function:\n",
       "\n",
       ">>> import matplotlib.pyplot as plt\n",
       ">>> count, bins, ignored = plt.hist(s, 30, density=True)\n",
       ">>> plt.plot(bins, 1/(sigma * np.sqrt(2 * np.pi)) *\n",
       "...                np.exp( - (bins - mu)**2 / (2 * sigma**2) ),\n",
       "...          linewidth=2, color='r')\n",
       ">>> plt.show()\n",
       "\n",
       "Two-by-four array of samples from N(3, 6.25):\n",
       "\n",
       ">>> np.random.normal(3, 2.5, size=(2, 4))\n",
       "array([[-4.49401501,  4.00950034, -1.81814867,  7.29718677],   # random\n",
       "       [ 0.39924804,  4.68456316,  4.99394529,  4.84057254]])  # random\n",
       "\u001b[0;31mType:\u001b[0m      builtin_function_or_method\n"
      ]
     },
     "metadata": {},
     "output_type": "display_data"
    }
   ],
   "source": [
    "np.random.normal?"
   ]
  },
  {
   "cell_type": "code",
   "execution_count": 6,
   "id": "1bc3d656-323c-44a4-b317-9184666bbc6c",
   "metadata": {},
   "outputs": [
    {
     "name": "stdout",
     "output_type": "stream",
     "text": [
      "[-1.06573476 -0.73558478 -0.22972557 -0.8193588   0.05128218  1.17697912\n",
      "  0.86895602  0.70766468  0.31850725 -1.95340478  0.15620789 -0.119277\n",
      " -0.16709865  0.80811292 -0.43233869 -0.24525095 -1.25663456 -0.70108726\n",
      " -0.61125433 -0.13589569  1.79659868 -0.40486737  0.80984256  0.75373017\n",
      " -0.12911699 -0.50191145 -0.3336169  -0.37737581 -0.03946151 -1.54029215\n",
      " -1.26108959  0.84406414 -1.07012682 -1.22811657  0.7046271  -0.54276994\n",
      "  0.77923332 -1.8387671   0.437063   -0.98101723 -0.93280051  0.88183215\n",
      " -0.07373111 -0.59211484 -1.07762605 -0.51188395  0.4225985  -1.21388738\n",
      "  0.54089999 -0.53102678  0.51021665 -0.8642147   0.86581936 -1.04032084\n",
      " -1.47059284 -0.99479259 -1.23550375 -1.39262584 -0.27941731  1.0299201\n",
      "  0.84733446 -1.02851169 -0.56281834  2.04709507  2.17886073 -0.0630808\n",
      " -1.47677919  0.42858418  0.33854491  0.10252711  0.10959548 -0.70302818\n",
      "  2.10597935 -1.51634466  0.34243477  0.69225711  0.97877237  0.40556575\n",
      " -1.81479581 -0.15586454 -0.15183914  1.99141689  0.94556911 -0.76322321\n",
      " -1.23485955  1.23755813 -2.69666048 -0.4987394   1.6604149  -1.29489224\n",
      "  0.80631353 -0.26394754 -0.41870181  0.09712468 -2.19433091  0.34350562\n",
      "  0.4835501  -1.41843153  0.96571427 -0.31276468]\n"
     ]
    }
   ],
   "source": [
    "dist_sample = np.random.normal(loc=0, scale=1, size=100)\n",
    "print(dist_sample)"
   ]
  },
  {
   "cell_type": "code",
   "execution_count": 7,
   "id": "6cf8ed02-037a-4c29-a55d-2cc50d9d491d",
   "metadata": {},
   "outputs": [
    {
     "data": {
      "text/plain": [
       "<AxesSubplot:ylabel='Count'>"
      ]
     },
     "execution_count": 7,
     "metadata": {},
     "output_type": "execute_result"
    },
    {
     "data": {
      "image/png": "[encoded data removed]",
      "text/plain": [
       "<Figure size 432x288 with 1 Axes>"
      ]
     },
     "metadata": {
      "needs_background": "light"
     },
     "output_type": "display_data"
    }
   ],
   "source": [
    "sns.histplot(dist_sample)"
   ]
  },
  {
   "cell_type": "code",
   "execution_count": 8,
   "id": "7d8e57fe-c125-4908-92ed-6ad1edb3a62a",
   "metadata": {},
   "outputs": [
    {
     "name": "stdout",
     "output_type": "stream",
     "text": [
      "[ 71.92877547 100.38919631 113.09820518  81.83997075  94.78299752\n",
      " 108.47362361 105.46188241  96.20113724 102.52873619  91.31442102\n",
      "  89.30541011 104.04038805 104.96591672 110.57557812  92.22504881\n",
      "  94.44588775 103.79686811 106.41467506  96.54773663 110.34604712\n",
      " 124.13227776 109.63701614 106.96001447  90.16446342 107.33879234\n",
      "  93.02910063 102.07971583 114.11372977 101.46261102  94.56331037\n",
      "  89.33830969  81.59141277 119.00137319 100.08506755  98.86984091\n",
      " 117.07737197 100.5755043  103.543779    90.25240957 112.98835859\n",
      "  88.54345208 100.35602439 103.27554417  87.73738374 120.16303009\n",
      "  99.47662215 102.30330142 114.33586829  99.06214887  94.13160222\n",
      " 104.1474537   96.69394926 115.68070666 100.69349169  81.05493873\n",
      "  93.83914998  96.77816353  94.2164685  106.28530678  77.91892803\n",
      " 105.52294995  99.07128454 103.09026091  97.89775189  95.06103759\n",
      "  94.71303307 105.65032243 110.11881802 100.81837599 113.31285873\n",
      "  88.78341314  88.98351086  98.8181683   89.00338573 115.41463221\n",
      " 104.36110636  82.45817801 105.30949694  99.60289415  72.20774271\n",
      " 103.71997038 117.34174421  99.04159107 105.88876351 102.08661412\n",
      "  99.88390213  84.49378763  97.45295821 116.62977156 104.419369\n",
      "  96.98088785 106.50807141  86.44309393  89.48186352  96.75029205\n",
      "  98.03030399 100.73659069  95.93483572 107.23819451  98.08777299]\n"
     ]
    }
   ],
   "source": [
    "dist_sample2 = np.random.normal(loc=100, scale=10, size=100)\n",
    "print(dist_sample2)"
   ]
  },
  {
   "cell_type": "code",
   "execution_count": 9,
   "id": "e7a02c12-500c-4059-9b92-a48f9f0d5a5d",
   "metadata": {},
   "outputs": [
    {
     "data": {
      "text/plain": [
       "<AxesSubplot:ylabel='Count'>"
      ]
     },
     "execution_count": 9,
     "metadata": {},
     "output_type": "execute_result"
    },
    {
     "data": {
      "image/png": "[encoded data removed]",
      "text/plain": [
       "<Figure size 432x288 with 1 Axes>"
      ]
     },
     "metadata": {
      "needs_background": "light"
     },
     "output_type": "display_data"
    }
   ],
   "source": [
    "sns.histplot(dist_sample2)"
   ]
  },
  {
   "cell_type": "markdown",
   "id": "bacac35f-0969-4ca2-83bd-8d90ce3a3d74",
   "metadata": {},
   "source": [
    "### Recoding floats into bins with Pandas"
   ]
  },
  {
   "cell_type": "code",
   "execution_count": 10,
   "id": "9cd668b7-5469-4885-b060-dafba1bf904e",
   "metadata": {},
   "outputs": [
    {
     "data": {
      "text/html": [
       "<div>\n",
       "<style scoped>\n",
       "    .dataframe tbody tr th:only-of-type {\n",
       "        vertical-align: middle;\n",
       "    }\n",
       "\n",
       "    .dataframe tbody tr th {\n",
       "        vertical-align: top;\n",
       "    }\n",
       "\n",
       "    .dataframe thead th {\n",
       "        text-align: right;\n",
       "    }\n",
       "</style>\n",
       "<table border=\"1\" class=\"dataframe\">\n",
       "  <thead>\n",
       "    <tr style=\"text-align: right;\">\n",
       "      <th></th>\n",
       "      <th>index</th>\n",
       "      <th>low_dist</th>\n",
       "      <th>high_dist</th>\n",
       "    </tr>\n",
       "  </thead>\n",
       "  <tbody>\n",
       "    <tr>\n",
       "      <th>0</th>\n",
       "      <td>0</td>\n",
       "      <td>-1.065735</td>\n",
       "      <td>71.928775</td>\n",
       "    </tr>\n",
       "    <tr>\n",
       "      <th>1</th>\n",
       "      <td>1</td>\n",
       "      <td>-0.735585</td>\n",
       "      <td>100.389196</td>\n",
       "    </tr>\n",
       "    <tr>\n",
       "      <th>2</th>\n",
       "      <td>2</td>\n",
       "      <td>-0.229726</td>\n",
       "      <td>113.098205</td>\n",
       "    </tr>\n",
       "    <tr>\n",
       "      <th>3</th>\n",
       "      <td>3</td>\n",
       "      <td>-0.819359</td>\n",
       "      <td>81.839971</td>\n",
       "    </tr>\n",
       "    <tr>\n",
       "      <th>4</th>\n",
       "      <td>4</td>\n",
       "      <td>0.051282</td>\n",
       "      <td>94.782998</td>\n",
       "    </tr>\n",
       "  </tbody>\n",
       "</table>\n",
       "</div>"
      ],
      "text/plain": [
       "   index  low_dist   high_dist\n",
       "0      0 -1.065735   71.928775\n",
       "1      1 -0.735585  100.389196\n",
       "2      2 -0.229726  113.098205\n",
       "3      3 -0.819359   81.839971\n",
       "4      4  0.051282   94.782998"
      ]
     },
     "execution_count": 10,
     "metadata": {},
     "output_type": "execute_result"
    }
   ],
   "source": [
    "df = pd.DataFrame()\n",
    "df['index'] = int_vector\n",
    "df['low_dist'] = dist_sample\n",
    "df['high_dist'] = dist_sample2\n",
    "df.head()"
   ]
  },
  {
   "cell_type": "code",
   "execution_count": 11,
   "id": "6ca25867-e941-4b89-b8c2-cfcd815ddbc6",
   "metadata": {},
   "outputs": [
    {
     "data": {
      "text/plain": [
       "count    100.000000\n",
       "mean      -0.159285\n",
       "std        1.004520\n",
       "min       -2.696660\n",
       "25%       -0.944855\n",
       "50%       -0.198412\n",
       "75%        0.578739\n",
       "max        2.178861\n",
       "Name: low_dist, dtype: float64"
      ]
     },
     "execution_count": 11,
     "metadata": {},
     "output_type": "execute_result"
    }
   ],
   "source": [
    "df['low_dist'].describe()"
   ]
  },
  {
   "cell_type": "code",
   "execution_count": 12,
   "id": "6842d66b-072a-4014-9f0d-a6f27de82a8d",
   "metadata": {},
   "outputs": [],
   "source": [
    "# NOTE: Your quartile values may differ because of the random nature of the sampling\n",
    "def create_quartiles_low(series):\n",
    "    if series < -0.735367:\n",
    "        return 1\n",
    "    elif series < -0.060946:\n",
    "        return 2\n",
    "    elif series < -0.060946:\n",
    "        return 3\n",
    "    else:\n",
    "        return 4"
   ]
  },
  {
   "cell_type": "code",
   "execution_count": 13,
   "id": "96f7c53f-2fd1-41de-a7ed-f6d82b24c785",
   "metadata": {},
   "outputs": [
    {
     "data": {
      "text/html": [
       "<div>\n",
       "<style scoped>\n",
       "    .dataframe tbody tr th:only-of-type {\n",
       "        vertical-align: middle;\n",
       "    }\n",
       "\n",
       "    .dataframe tbody tr th {\n",
       "        vertical-align: top;\n",
       "    }\n",
       "\n",
       "    .dataframe thead th {\n",
       "        text-align: right;\n",
       "    }\n",
       "</style>\n",
       "<table border=\"1\" class=\"dataframe\">\n",
       "  <thead>\n",
       "    <tr style=\"text-align: right;\">\n",
       "      <th></th>\n",
       "      <th>index</th>\n",
       "      <th>low_dist</th>\n",
       "      <th>high_dist</th>\n",
       "      <th>low_dist_quartiles</th>\n",
       "    </tr>\n",
       "  </thead>\n",
       "  <tbody>\n",
       "    <tr>\n",
       "      <th>0</th>\n",
       "      <td>0</td>\n",
       "      <td>-1.065735</td>\n",
       "      <td>71.928775</td>\n",
       "      <td>1</td>\n",
       "    </tr>\n",
       "    <tr>\n",
       "      <th>1</th>\n",
       "      <td>1</td>\n",
       "      <td>-0.735585</td>\n",
       "      <td>100.389196</td>\n",
       "      <td>1</td>\n",
       "    </tr>\n",
       "    <tr>\n",
       "      <th>2</th>\n",
       "      <td>2</td>\n",
       "      <td>-0.229726</td>\n",
       "      <td>113.098205</td>\n",
       "      <td>2</td>\n",
       "    </tr>\n",
       "    <tr>\n",
       "      <th>3</th>\n",
       "      <td>3</td>\n",
       "      <td>-0.819359</td>\n",
       "      <td>81.839971</td>\n",
       "      <td>1</td>\n",
       "    </tr>\n",
       "    <tr>\n",
       "      <th>4</th>\n",
       "      <td>4</td>\n",
       "      <td>0.051282</td>\n",
       "      <td>94.782998</td>\n",
       "      <td>4</td>\n",
       "    </tr>\n",
       "  </tbody>\n",
       "</table>\n",
       "</div>"
      ],
      "text/plain": [
       "   index  low_dist   high_dist  low_dist_quartiles\n",
       "0      0 -1.065735   71.928775                   1\n",
       "1      1 -0.735585  100.389196                   1\n",
       "2      2 -0.229726  113.098205                   2\n",
       "3      3 -0.819359   81.839971                   1\n",
       "4      4  0.051282   94.782998                   4"
      ]
     },
     "execution_count": 13,
     "metadata": {},
     "output_type": "execute_result"
    }
   ],
   "source": [
    "df['low_dist_quartiles']=df['low_dist'].apply(create_quartiles_low)\n",
    "df.head()"
   ]
  },
  {
   "cell_type": "markdown",
   "id": "543debcd-4377-4df8-92c2-9f1e7786a57e",
   "metadata": {},
   "source": [
    "## Categorical Sampling\n",
    "\n",
    "Sometimes we need categorical variables to be randomly selected from a choice set"
   ]
  },
  {
   "cell_type": "code",
   "execution_count": 14,
   "id": "b51027f4-8deb-4a11-b4ba-50f9d36e9852",
   "metadata": {},
   "outputs": [],
   "source": [
    "choice_set = ['Control', 'Experimental_condition_1', 'Experimental_condition_2']"
   ]
  },
  {
   "cell_type": "code",
   "execution_count": 15,
   "id": "ef92b59a-e000-46a2-b1bd-a61e3b7b0b2b",
   "metadata": {},
   "outputs": [
    {
     "data": {
      "text/plain": [
       "\u001b[0;31mDocstring:\u001b[0m\n",
       "choice(a, size=None, replace=True, p=None)\n",
       "\n",
       "Generates a random sample from a given 1-D array\n",
       "\n",
       ".. versionadded:: 1.7.0\n",
       "\n",
       ".. note::\n",
       "    New code should use the ``choice`` method of a ``default_rng()``\n",
       "    instance instead; please see the :ref:`random-quick-start`.\n",
       "\n",
       "Parameters\n",
       "----------\n",
       "a : 1-D array-like or int\n",
       "    If an ndarray, a random sample is generated from its elements.\n",
       "    If an int, the random sample is generated as if it were ``np.arange(a)``\n",
       "size : int or tuple of ints, optional\n",
       "    Output shape.  If the given shape is, e.g., ``(m, n, k)``, then\n",
       "    ``m * n * k`` samples are drawn.  Default is None, in which case a\n",
       "    single value is returned.\n",
       "replace : boolean, optional\n",
       "    Whether the sample is with or without replacement. Default is True,\n",
       "    meaning that a value of ``a`` can be selected multiple times.\n",
       "p : 1-D array-like, optional\n",
       "    The probabilities associated with each entry in a.\n",
       "    If not given, the sample assumes a uniform distribution over all\n",
       "    entries in ``a``.\n",
       "\n",
       "Returns\n",
       "-------\n",
       "samples : single item or ndarray\n",
       "    The generated random samples\n",
       "\n",
       "Raises\n",
       "------\n",
       "ValueError\n",
       "    If a is an int and less than zero, if a or p are not 1-dimensional,\n",
       "    if a is an array-like of size 0, if p is not a vector of\n",
       "    probabilities, if a and p have different lengths, or if\n",
       "    replace=False and the sample size is greater than the population\n",
       "    size\n",
       "\n",
       "See Also\n",
       "--------\n",
       "randint, shuffle, permutation\n",
       "Generator.choice: which should be used in new code\n",
       "\n",
       "Notes\n",
       "-----\n",
       "Setting user-specified probabilities through ``p`` uses a more general but less\n",
       "efficient sampler than the default. The general sampler produces a different sample\n",
       "than the optimized sampler even if each element of ``p`` is 1 / len(a).\n",
       "\n",
       "Sampling random rows from a 2-D array is not possible with this function,\n",
       "but is possible with `Generator.choice` through its ``axis`` keyword.\n",
       "\n",
       "Examples\n",
       "--------\n",
       "Generate a uniform random sample from np.arange(5) of size 3:\n",
       "\n",
       ">>> np.random.choice(5, 3)\n",
       "array([0, 3, 4]) # random\n",
       ">>> #This is equivalent to np.random.randint(0,5,3)\n",
       "\n",
       "Generate a non-uniform random sample from np.arange(5) of size 3:\n",
       "\n",
       ">>> np.random.choice(5, 3, p=[0.1, 0, 0.3, 0.6, 0])\n",
       "array([3, 3, 0]) # random\n",
       "\n",
       "Generate a uniform random sample from np.arange(5) of size 3 without\n",
       "replacement:\n",
       "\n",
       ">>> np.random.choice(5, 3, replace=False)\n",
       "array([3,1,0]) # random\n",
       ">>> #This is equivalent to np.random.permutation(np.arange(5))[:3]\n",
       "\n",
       "Generate a non-uniform random sample from np.arange(5) of size\n",
       "3 without replacement:\n",
       "\n",
       ">>> np.random.choice(5, 3, replace=False, p=[0.1, 0, 0.3, 0.6, 0])\n",
       "array([2, 3, 0]) # random\n",
       "\n",
       "Any of the above can be repeated with an arbitrary array-like\n",
       "instead of just integers. For instance:\n",
       "\n",
       ">>> aa_milne_arr = ['pooh', 'rabbit', 'piglet', 'Christopher']\n",
       ">>> np.random.choice(aa_milne_arr, 5, p=[0.5, 0.1, 0.1, 0.3])\n",
       "array(['pooh', 'pooh', 'pooh', 'Christopher', 'piglet'], # random\n",
       "      dtype='<U11')\n",
       "\u001b[0;31mType:\u001b[0m      builtin_function_or_method\n"
      ]
     },
     "metadata": {},
     "output_type": "display_data"
    }
   ],
   "source": [
    "np.random.choice?"
   ]
  },
  {
   "cell_type": "code",
   "execution_count": 16,
   "id": "e3b2ce1c-c4f4-42db-8d64-aa36f34f4005",
   "metadata": {},
   "outputs": [
    {
     "name": "stdout",
     "output_type": "stream",
     "text": [
      "['Experimental_condition_2' 'Experimental_condition_2'\n",
      " 'Experimental_condition_2' 'Experimental_condition_2'\n",
      " 'Experimental_condition_1' 'Control' 'Control' 'Experimental_condition_1'\n",
      " 'Experimental_condition_1' 'Experimental_condition_1'\n",
      " 'Experimental_condition_1' 'Experimental_condition_1'\n",
      " 'Experimental_condition_1' 'Control' 'Control' 'Experimental_condition_2'\n",
      " 'Experimental_condition_1' 'Control' 'Control' 'Experimental_condition_2'\n",
      " 'Experimental_condition_2' 'Experimental_condition_2'\n",
      " 'Experimental_condition_2' 'Control' 'Experimental_condition_1' 'Control'\n",
      " 'Control' 'Experimental_condition_1' 'Experimental_condition_2'\n",
      " 'Experimental_condition_1' 'Experimental_condition_1' 'Control'\n",
      " 'Experimental_condition_2' 'Experimental_condition_1'\n",
      " 'Experimental_condition_2' 'Experimental_condition_2' 'Control'\n",
      " 'Experimental_condition_1' 'Experimental_condition_1' 'Control'\n",
      " 'Experimental_condition_1' 'Experimental_condition_2'\n",
      " 'Experimental_condition_2' 'Control' 'Experimental_condition_2'\n",
      " 'Experimental_condition_2' 'Control' 'Experimental_condition_2'\n",
      " 'Experimental_condition_1' 'Control' 'Control' 'Control'\n",
      " 'Experimental_condition_2' 'Experimental_condition_2'\n",
      " 'Experimental_condition_1' 'Experimental_condition_1'\n",
      " 'Experimental_condition_2' 'Experimental_condition_1'\n",
      " 'Experimental_condition_2' 'Experimental_condition_2'\n",
      " 'Experimental_condition_2' 'Experimental_condition_1'\n",
      " 'Experimental_condition_2' 'Experimental_condition_1' 'Control'\n",
      " 'Experimental_condition_1' 'Experimental_condition_1' 'Control' 'Control'\n",
      " 'Experimental_condition_1' 'Control' 'Experimental_condition_1' 'Control'\n",
      " 'Experimental_condition_1' 'Control' 'Experimental_condition_1'\n",
      " 'Experimental_condition_1' 'Control' 'Experimental_condition_1' 'Control'\n",
      " 'Control' 'Experimental_condition_2' 'Experimental_condition_2'\n",
      " 'Experimental_condition_2' 'Experimental_condition_2'\n",
      " 'Experimental_condition_2' 'Experimental_condition_1' 'Control' 'Control'\n",
      " 'Experimental_condition_2' 'Control' 'Experimental_condition_1'\n",
      " 'Experimental_condition_2' 'Control' 'Control' 'Experimental_condition_1'\n",
      " 'Experimental_condition_2' 'Control' 'Control' 'Experimental_condition_2']\n"
     ]
    }
   ],
   "source": [
    "condition_assignment = np.random.choice(choice_set, size=100)\n",
    "print(condition_assignment)"
   ]
  },
  {
   "cell_type": "code",
   "execution_count": 17,
   "id": "c1185746-0b20-417e-bacb-0e52b3951bdd",
   "metadata": {},
   "outputs": [],
   "source": [
    "df['condition'] = condition_assignment"
   ]
  },
  {
   "cell_type": "code",
   "execution_count": 18,
   "id": "95625032-35a8-43d6-8019-786a7dc5f4dd",
   "metadata": {},
   "outputs": [
    {
     "data": {
      "text/html": [
       "<div>\n",
       "<style scoped>\n",
       "    .dataframe tbody tr th:only-of-type {\n",
       "        vertical-align: middle;\n",
       "    }\n",
       "\n",
       "    .dataframe tbody tr th {\n",
       "        vertical-align: top;\n",
       "    }\n",
       "\n",
       "    .dataframe thead th {\n",
       "        text-align: right;\n",
       "    }\n",
       "</style>\n",
       "<table border=\"1\" class=\"dataframe\">\n",
       "  <thead>\n",
       "    <tr style=\"text-align: right;\">\n",
       "      <th></th>\n",
       "      <th>index</th>\n",
       "      <th>low_dist</th>\n",
       "      <th>high_dist</th>\n",
       "      <th>low_dist_quartiles</th>\n",
       "      <th>condition</th>\n",
       "    </tr>\n",
       "  </thead>\n",
       "  <tbody>\n",
       "    <tr>\n",
       "      <th>0</th>\n",
       "      <td>0</td>\n",
       "      <td>-1.065735</td>\n",
       "      <td>71.928775</td>\n",
       "      <td>1</td>\n",
       "      <td>Experimental_condition_2</td>\n",
       "    </tr>\n",
       "    <tr>\n",
       "      <th>1</th>\n",
       "      <td>1</td>\n",
       "      <td>-0.735585</td>\n",
       "      <td>100.389196</td>\n",
       "      <td>1</td>\n",
       "      <td>Experimental_condition_2</td>\n",
       "    </tr>\n",
       "    <tr>\n",
       "      <th>2</th>\n",
       "      <td>2</td>\n",
       "      <td>-0.229726</td>\n",
       "      <td>113.098205</td>\n",
       "      <td>2</td>\n",
       "      <td>Experimental_condition_2</td>\n",
       "    </tr>\n",
       "    <tr>\n",
       "      <th>3</th>\n",
       "      <td>3</td>\n",
       "      <td>-0.819359</td>\n",
       "      <td>81.839971</td>\n",
       "      <td>1</td>\n",
       "      <td>Experimental_condition_2</td>\n",
       "    </tr>\n",
       "    <tr>\n",
       "      <th>4</th>\n",
       "      <td>4</td>\n",
       "      <td>0.051282</td>\n",
       "      <td>94.782998</td>\n",
       "      <td>4</td>\n",
       "      <td>Experimental_condition_1</td>\n",
       "    </tr>\n",
       "  </tbody>\n",
       "</table>\n",
       "</div>"
      ],
      "text/plain": [
       "   index  low_dist   high_dist  low_dist_quartiles                 condition\n",
       "0      0 -1.065735   71.928775                   1  Experimental_condition_2\n",
       "1      1 -0.735585  100.389196                   1  Experimental_condition_2\n",
       "2      2 -0.229726  113.098205                   2  Experimental_condition_2\n",
       "3      3 -0.819359   81.839971                   1  Experimental_condition_2\n",
       "4      4  0.051282   94.782998                   4  Experimental_condition_1"
      ]
     },
     "execution_count": 18,
     "metadata": {},
     "output_type": "execute_result"
    }
   ],
   "source": [
    "df.head()"
   ]
  }
 ],
 "metadata": {
  "kernelspec": {
   "display_name": "Python 3 (ipykernel)",
   "language": "python",
   "name": "python3"
  },
  "language_info": {
   "codemirror_mode": {
    "name": "ipython",
    "version": 3
   },
   "file_extension": ".py",
   "mimetype": "text/x-python",
   "name": "python",
   "nbconvert_exporter": "python",
   "pygments_lexer": "ipython3",
   "version": "3.9.13"
  }
 },
 "nbformat": 4,
 "nbformat_minor": 5
}
