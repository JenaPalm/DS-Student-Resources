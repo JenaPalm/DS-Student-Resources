{
 "cells": [
  {
   "cell_type": "markdown",
   "id": "b46c3f78",
   "metadata": {},
   "source": [
    "# Change Log\n",
    "\n",
    "1.  [DS106MLL1P3 LinearRegression()](../DS106MLL1.ipynb#LR), Changed to Linear Regression(), [UAT Link](https://wozu.uat.exeterlms.com/lesson/47815/topic/785700),  [Jira ticket #](https://woz-u-projects.atlassian.net/browse/CUR-1898)\n",
    "2.  [DS106MLL3P2] Corrected spelling,  [Jira ticket #](https://woz-u-projects.atlassian.net/browse/CUR-2366)\n",
    "3.  [DS106MLL1P7] Corrected kfold code,  [Jira ticket #](https://woz-u-projects.atlassian.net/browse/CUR-2914)"
   ]
  },
  {
   "cell_type": "markdown",
   "id": "a0f9c6d4-a2ec-4f54-815c-43f823f35978",
   "metadata": {},
   "source": [
    "# Need to change \n",
    "\n",
    "from page 2 of L5 NLP -  delete anaconda prompt to install nltk.   update install instructions. "
   ]
  },
  {
   "cell_type": "markdown",
   "id": "8821e2d8-61ae-43ee-b125-cf848628df25",
   "metadata": {},
   "source": [
    "Module/Class: Machine Learning and Modeling\n",
    "Lesson: 3\n",
    "Page Number: 9\n",
    "System: MacOS\n",
    "Issue: Under Exploring Quandl, the link says NASDAQ (even when I try to just type quandle on the web address bar\n",
    "\n",
    "\n",
    "do the following instead:\n",
    "\n",
    "pip install quandl <br>\n",
    "import quandl <br>\n",
    "df = quandl.get(\"FMAC/HPI_AK\")\n",
    "df.head()"
   ]
  },
  {
   "cell_type": "code",
   "execution_count": null,
   "id": "b5101b3b-2ddc-48de-bdd0-f64f20854650",
   "metadata": {},
   "outputs": [],
   "source": []
  }
 ],
 "metadata": {
  "kernelspec": {
   "display_name": "Python 3 (ipykernel)",
   "language": "python",
   "name": "python3"
  },
  "language_info": {
   "codemirror_mode": {
    "name": "ipython",
    "version": 3
   },
   "file_extension": ".py",
   "mimetype": "text/x-python",
   "name": "python",
   "nbconvert_exporter": "python",
   "pygments_lexer": "ipython3",
   "version": "3.10.2"
  }
 },
 "nbformat": 4,
 "nbformat_minor": 5
}
