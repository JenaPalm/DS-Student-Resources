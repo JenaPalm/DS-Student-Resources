{
 "cells": [
  {
   "cell_type": "markdown",
   "id": "fe001d7c-dc28-4efa-8a25-341651f01ff1",
   "metadata": {},
   "source": [
    "# DSO106 ML L5 NLP Walk Through\n",
    "---"
   ]
  },
  {
   "cell_type": "markdown",
   "id": "6730b6fd-9d8e-4124-9f61-718835e1f2d3",
   "metadata": {},
   "source": [
    "\n",
    "## Introduction to Natural Language Processing\n",
    "\n",
    "So much information is presented only as the written or spoken word, yet most of the tools you have learned so far for dealing with data won't handle text! In this lesson, you'll learn a technique called *Natural Language Processing* to handle raw text data and turn it into something usable.  By the end of this lesson, you should be able to:\n",
    "\n",
    "* Read in data from webpages\n",
    "* Convert text to a usable format\n",
    "* Utilize HTML tags to pull data parts\n",
    "* Tokenize your data\n",
    "* Use for loops to remove capitalization and stopwords\n",
    "* Count words used in novels and chart the most frequent ones\n",
    "\n",
    "This lesson will culminate in a hands-ons in which you find the most frequently occurring words in Lewis Carroll's *Alice's Adventures in Wonderland*.  Ready to start down the rabbit hole?\n",
    "\n",
    "<div class=\"panel panel-success\">\n",
    "    <div class=\"panel-heading\">\n",
    "        <h3 class=\"panel-title\">Additional Info!</h3>\n",
    "    </div>\n",
    "    <div class=\"panel-body\">\n",
    "        <p>You may want to watch this <a href=\"https://vimeo.com/441207100\"> recorded live workshop </a> that goes over the material in this lesson. </p>\n",
    "    </div>\n",
    "</div>\n",
    "\n",
    "---"
   ]
  },
  {
   "cell_type": "code",
   "execution_count": 1,
   "id": "ca2a0e49-d743-4580-a75b-8d3d9961d496",
   "metadata": {},
   "outputs": [
    {
     "data": {
      "text/html": [
       "\n",
       "        <iframe\n",
       "            width=\"720\"\n",
       "            height=\"480\"\n",
       "            src=\"https://player.vimeo.com/video/388630868\"\n",
       "            frameborder=\"0\"\n",
       "            allowfullscreen\n",
       "            \n",
       "        ></iframe>\n",
       "        "
      ],
      "text/plain": [
       "<IPython.lib.display.VimeoVideo at 0x118d51640>"
      ]
     },
     "execution_count": 1,
     "metadata": {},
     "output_type": "execute_result"
    }
   ],
   "source": [
    "from IPython.display import VimeoVideo\n",
    "# Tutorial Video Name: Natural Language Processing\n",
    "VimeoVideo('388630868', width=720, height=480)"
   ]
  },
  {
   "cell_type": "markdown",
   "id": "78b19178-97d6-4eab-95b9-e118293cf50f",
   "metadata": {},
   "source": [
    "\n",
    "The transcript for the above overview video **[is located here](https://repo.exeterlms.com/documents/V2/DataScience/Video-Transcripts/DSO106-ML-L05overview.zip)**."
   ]
  },
  {
   "cell_type": "markdown",
   "id": "0f996496-c3c1-4f18-ac92-64598731acc1",
   "metadata": {},
   "source": [
    "---"
   ]
  },
  {
   "cell_type": "markdown",
   "id": "f60d666b-ca54-4c3b-80b1-9dc557e79b35",
   "metadata": {},
   "source": [
    "\n",
    "For this hands-on, you will be using *Alice's Adventures in Wonderland* by Lewis Carroll to practice your newfound NLP skills. The book can be found **[here](https://www.gutenberg.org/files/11/11-h/11-h.htm)**. Follow the process you used on *The Count of Monte Cristo* to create a graphic of the most frequently used words in *Alice's Adventures in Wonderland*.\n",
    "\n",
    "Please attach a Jupyter Notebook with your code, your graphic, and your conclusions.\n",
    "\n",
    "---\n",
    "\n",
    "This Hands-­On **will be graded**, so make sure you complete each part. When you are done, please submit one document with all of your findings for grading.\n",
    "\n",
    "<div class=\"panel panel-danger\">\n",
    "    <div class=\"panel-heading\">\n",
    "        <h3 class=\"panel-title\">Caution!</h3>\n",
    "    </div>\n",
    "    <div class=\"panel-body\">\n",
    "        <p>Do not submit your project until you have completed all requirements, as you will not be able to resubmit. Be sure to zip and submit your entire directory when finished!</p>\n",
    "    </div>\n",
    "</div>\n",
    "\n",
    "---"
   ]
  },
  {
   "cell_type": "markdown",
   "id": "c8b3a10d-9c60-4afa-82b2-590b35e431ba",
   "metadata": {},
   "source": [
    "### NLP Lingo:\n",
    "- Token: words/sentences\n",
    "- Stopwords: part of speech that we don't need (filler words)\n",
    "    - examples: pronouns, simple words, prepositons, conjunctions(sometimes we need, but most of the time no)"
   ]
  },
  {
   "cell_type": "markdown",
   "id": "89ea6ae5-cbf0-4679-9987-ac18d0061989",
   "metadata": {},
   "source": [
    "---\n",
    "### Now let's Practice"
   ]
  },
  {
   "cell_type": "markdown",
   "id": "a5a4677f-1dc9-42ae-be02-7860e007d409",
   "metadata": {},
   "source": [
    "`gutenberg.org` is a website with free books to practice NLP\n",
    "\n",
    "---"
   ]
  },
  {
   "cell_type": "markdown",
   "id": "2e6f9c8e-62ed-402f-a27b-5af4dd18368a",
   "metadata": {},
   "source": [
    "### Import Packages for NLP (page 2)"
   ]
  },
  {
   "cell_type": "code",
   "execution_count": 53,
   "id": "e30b33fb-33ae-4a27-bef2-38af124fb1e0",
   "metadata": {},
   "outputs": [],
   "source": [
    "import requests                                 # bring in data from webpage\n",
    "from bs4 import BeautifulSoup                   # bring in things to parse our data\n",
    "import nltk                                     # import NLP information\n",
    "#nltk.download('stopwords')                     # download `stopwards()` function from nltk module\n",
    "from nltk.tokenize import RegexpTokenizer       # helps brek down our text into smaller chunks\n",
    "import matplotlib.pyplot as plt                 # Visulaizations \n",
    "import seaborn as sns                           # Visulaizations \n",
    "%matplotlib inline                            "
   ]
  },
  {
   "cell_type": "markdown",
   "id": "ec1033bd-b73e-46d6-bb05-776a8d18d33f",
   "metadata": {},
   "source": [
    "---\n",
    "### Find the URL and Pull in the Information from Website (page 3)\n",
    "\n",
    "We want to tell it where to pull our information, so we are going to set up our vairable name as `url` an dpull the information from the webpage, When you go to the website `gutenberg.org`, you will search `Alice's Adventures in Wonderland`, then scroll down and select, plain text. This is the url you will copy and paste to put inside the quotes. "
   ]
  },
  {
   "cell_type": "code",
   "execution_count": 9,
   "id": "ff3e285a-a265-442e-9a56-e78e94af1daa",
   "metadata": {},
   "outputs": [],
   "source": [
    "url = \"https://www.gutenberg.org/cache/epub/11/pg11.txt\""
   ]
  },
  {
   "cell_type": "markdown",
   "id": "94608b94-949f-4e06-b056-23a81c11b9c1",
   "metadata": {},
   "source": [
    "To pull this information down from the website, we need to request it, we are going to name this variable `r`\n"
   ]
  },
  {
   "cell_type": "code",
   "execution_count": 10,
   "id": "ae811124-4086-4264-9bc7-8e4d43099cb1",
   "metadata": {},
   "outputs": [],
   "source": [
    "r = requests.get(url)"
   ]
  },
  {
   "cell_type": "markdown",
   "id": "6a09e488-f0ea-467b-a198-dad3865cbd66",
   "metadata": {},
   "source": [
    "Double checking to see if it worked, and by the look of the output, we did pull something down, we are good to go"
   ]
  },
  {
   "cell_type": "code",
   "execution_count": 11,
   "id": "03257c24-e1ae-4c9e-b9f4-ba86490cb240",
   "metadata": {},
   "outputs": [
    {
     "data": {
      "text/plain": [
       "requests.models.Response"
      ]
     },
     "execution_count": 11,
     "metadata": {},
     "output_type": "execute_result"
    }
   ],
   "source": [
    "type(r)"
   ]
  },
  {
   "cell_type": "markdown",
   "id": "fff78a09-9cff-416a-816d-d53804c7714a",
   "metadata": {},
   "source": [
    "---\n",
    "### Parse our Data (page 4)"
   ]
  },
  {
   "cell_type": "markdown",
   "id": "666dd394-306d-427f-b6f4-384f57679e8d",
   "metadata": {},
   "source": [
    "Data `parsing` is converting data from one format to another. Widely used for data structuring, it is generally done to make the existing, often unstructured, unreadable data more comprehensible.\n",
    "\n",
    "\n",
    "`Beautiful Soup` function is a Python package for parsing HTML and XML documents (including having malformed markup, i.e. non-closed tags, so named after tag soup). It creates a parse tree for parsed pages that can be used to extract data from HTML, which is useful for web scraping.\n",
    "\n",
    "Source:\n",
    "- Google"
   ]
  },
  {
   "cell_type": "code",
   "execution_count": 15,
   "id": "917a3051-3e96-4e29-a0a4-1d9812b02e39",
   "metadata": {},
   "outputs": [],
   "source": [
    "html = r.text"
   ]
  },
  {
   "cell_type": "markdown",
   "id": "f47ac9c2-ae2c-409f-b8d3-732824463307",
   "metadata": {},
   "source": [
    "`html` new variable = `r` (our get request) `.text`(function saying we want the text from the request)"
   ]
  },
  {
   "cell_type": "code",
   "execution_count": 16,
   "id": "3af01717-4d1d-442a-bd5d-5857a437b76c",
   "metadata": {},
   "outputs": [],
   "source": [
    "soup = BeautifulSoup(html, \"html.parser\")"
   ]
  },
  {
   "cell_type": "markdown",
   "id": "992e039c-dc92-4d20-9d93-308528d4ed2d",
   "metadata": {},
   "source": [
    "`soup` new variable = use function `BeautifulSoup`(`html` variable we created, `html.parser`) \n",
    "- html is the background language that all of out webistes run off of. `.parser` is just specifing what we want to take out of the html tags "
   ]
  },
  {
   "cell_type": "markdown",
   "id": "85acbf22-6729-4aba-8fc7-b71e15ade017",
   "metadata": {},
   "source": [
    "Double check our work, our output is going through, we want it to say BeautifulSoup, we know that the function went through"
   ]
  },
  {
   "cell_type": "code",
   "execution_count": 17,
   "id": "e0556e5c-b0d2-4ee1-bfd2-0668a2fbaf7b",
   "metadata": {},
   "outputs": [
    {
     "data": {
      "text/plain": [
       "bs4.BeautifulSoup"
      ]
     },
     "execution_count": 17,
     "metadata": {},
     "output_type": "execute_result"
    }
   ],
   "source": [
    "type(soup)"
   ]
  },
  {
   "cell_type": "markdown",
   "id": "788203ea-80a5-4633-bb4f-40d160250bbb",
   "metadata": {},
   "source": [
    "---"
   ]
  },
  {
   "cell_type": "markdown",
   "id": "270b3ae5-5e2d-4640-a8a6-14aec7c396e8",
   "metadata": {
    "tags": []
   },
   "source": [
    "### Start Tokenizing our Data (page 5)\n",
    "\n",
    "`Tokenization with NLTK`\n",
    "`NLTK` stands for `Natural Language Toolkit`. This is a suite of libraries and programs for statistical natural language processing for English written in Python. NLTK contains a module called tokenize with a `word_tokenize()` method that will help us split a text into tokens.\n",
    "\n",
    "`word_tokenize` is a function in Python that splits a given sentence into words using the `NLTK` library. Figure 1 below shows the tokenization of sentence into words. Figure 1: Splitting of a sentence into words. In Python, we can tokenize with the help of the `Natural Language Toolkit ( NLTK )` library.\n",
    "\n",
    "\n",
    "Source:\n",
    "- Google\n",
    "- https://www.educative.io/answers/what-is-wordtokenize-in-python\n",
    "\n"
   ]
  },
  {
   "cell_type": "code",
   "execution_count": 18,
   "id": "a95601c8-8875-464b-9cc0-d92d24ff1569",
   "metadata": {},
   "outputs": [],
   "source": [
    "text = soup.get_text()"
   ]
  },
  {
   "cell_type": "markdown",
   "id": "128d89e7-dc67-4c9e-aaa2-18c6ea9c7397",
   "metadata": {},
   "source": [
    "Create new variable called `text` = and then take previous work `soup` and the use function `.get_text()` this will pull all the text from the html from the website that is stored in the `soup` variable. "
   ]
  },
  {
   "cell_type": "code",
   "execution_count": 20,
   "id": "a83d46ec-3c2b-4233-9126-f823e4dea7ac",
   "metadata": {},
   "outputs": [],
   "source": [
    "tokenizer = RegexpTokenizer(\"\\w+\")"
   ]
  },
  {
   "cell_type": "markdown",
   "id": "478aea61-a318-4e6c-80ec-11d0a1f9025e",
   "metadata": {},
   "source": [
    "A `RegexpTokenizer()` splits a string into substrings using a regular expression. For example, the following tokenizer forms tokens out of alphabetic sequences, money expressions, and any other non-whitespace sequences: from nltk. In this case `(\"\\w\")` means its splitting the the text up by words."
   ]
  },
  {
   "cell_type": "code",
   "execution_count": 23,
   "id": "9094fe23-9c7d-4be5-9ed1-bbad5034fdbf",
   "metadata": {},
   "outputs": [],
   "source": [
    "tokens = tokenizer.tokenize(text)"
   ]
  },
  {
   "cell_type": "markdown",
   "id": "f78277e9-679e-4e4e-8bdb-8436deb8e917",
   "metadata": {},
   "source": [
    "Then we will use the tokenizer function to pull out the sentences and break it into words as the final variable. "
   ]
  },
  {
   "cell_type": "markdown",
   "id": "dbfc50f5-d04d-4689-bbb4-9bc0de61d2ed",
   "metadata": {},
   "source": [
    "---\n",
    "### Putting NLP to the test"
   ]
  },
  {
   "cell_type": "code",
   "execution_count": 24,
   "id": "9cce98b6-c2aa-4e7d-b4cf-09a52033a2b2",
   "metadata": {},
   "outputs": [
    {
     "data": {
      "text/plain": [
       "['The', 'Project', 'Gutenberg', 'eBook', 'of']"
      ]
     },
     "execution_count": 24,
     "metadata": {},
     "output_type": "execute_result"
    }
   ],
   "source": [
    "# first 5 words\n",
    "tokens[:5]"
   ]
  },
  {
   "cell_type": "markdown",
   "id": "c88000d6-c623-43e5-8147-1cf12f69c0e6",
   "metadata": {},
   "source": [
    "When you go back to the orginally website, you an see that the first 5 words is the output listed above. etc..."
   ]
  },
  {
   "cell_type": "code",
   "execution_count": 25,
   "id": "ce021b9e-6da5-461f-8a44-8d556f3317bf",
   "metadata": {},
   "outputs": [
    {
     "data": {
      "text/plain": [
       "['The',\n",
       " 'Project',\n",
       " 'Gutenberg',\n",
       " 'eBook',\n",
       " 'of',\n",
       " 'Alice',\n",
       " 's',\n",
       " 'Adventures',\n",
       " 'in',\n",
       " 'Wonderland',\n",
       " 'by',\n",
       " 'Lewis',\n",
       " 'Carroll',\n",
       " 'This',\n",
       " 'eBook',\n",
       " 'is',\n",
       " 'for',\n",
       " 'the',\n",
       " 'use',\n",
       " 'of',\n",
       " 'anyone',\n",
       " 'anywhere',\n",
       " 'in',\n",
       " 'the',\n",
       " 'United']"
      ]
     },
     "execution_count": 25,
     "metadata": {},
     "output_type": "execute_result"
    }
   ],
   "source": [
    "# first 25 words\n",
    "tokens[:25]"
   ]
  },
  {
   "cell_type": "markdown",
   "id": "ff806c86-d5c0-44ab-8e70-3144de17ad84",
   "metadata": {},
   "source": [
    "We can see the first 25 words, but some are capitalized and some are lower case, it can cause some problems. Example, if we want ot find frequency counts, how many times something appears it can confuse the computer. To fix this, we can create a simple for loop..."
   ]
  },
  {
   "cell_type": "markdown",
   "id": "2cba1672-03cb-4a93-937a-4b0bd8df9d39",
   "metadata": {},
   "source": [
    "### (page 6)"
   ]
  },
  {
   "cell_type": "code",
   "execution_count": 27,
   "id": "0d23670b-26d8-4f75-bf78-896da6160a1e",
   "metadata": {},
   "outputs": [],
   "source": [
    "words = []                        # create empty dictionary called words\n",
    "for word in tokens:               # for each word in our list, which is the words variable (it has stored the first 25 words)\n",
    "    words.append(word.lower())    # we want to take it and append that word with a function .lower() and put it into empty dictionary\n",
    "    "
   ]
  },
  {
   "cell_type": "code",
   "execution_count": 28,
   "id": "0e2fe9de-8d46-490b-96db-b036c0870d5c",
   "metadata": {},
   "outputs": [
    {
     "data": {
      "text/plain": [
       "['the', 'project', 'gutenberg', 'ebook', 'of']"
      ]
     },
     "execution_count": 28,
     "metadata": {},
     "output_type": "execute_result"
    }
   ],
   "source": [
    "words[:5]                         # can look at the first 5 words to see if it's all lower case and if the looped worked and it worked.\n"
   ]
  },
  {
   "cell_type": "markdown",
   "id": "48d29168-bf48-408c-ae8f-ff99b6481d64",
   "metadata": {},
   "source": [
    "---\n",
    "### Removing all Stopwords (page 7)"
   ]
  },
  {
   "cell_type": "markdown",
   "id": "6fe40352-1f92-44fd-95a1-daf19cac8b5a",
   "metadata": {},
   "source": [
    "We will create a new vairable called `stopwords`, pull out the package `nltk`\n",
    "\n",
    "A `corpus` can be defined as a collection of text documents. It can be thought as just a bunch of text files in a directory, often alongside many other directories of text files. How it is done ? NLTK already defines a list of data paths or directories in nltk. Examples of `corpus` is the Project Gutenberg EBooks, Google Books Ngrams, and arXiv Bulk Data Access. There are many text corpora from newswire. Examples are 20 Newsgroups and Reuters-21578. For informal genre, we can include web data and emails.\n",
    "\n",
    "`Stop words` are a set of commonly used words in a language. Examples of stop words in English are `“a”`, `“the”`, `“is”`, `“are”` and `etc`. `Stop words` are commonly used in Text Mining and `Natural Language Processing (NLP)` to eliminate words that are so commonly used that they carry very little useful information.\n",
    "\n",
    "`('english')` we need to specify what langauge to return the information we are requesting\n",
    "\n",
    "Source:\n",
    "- Google"
   ]
  },
  {
   "cell_type": "code",
   "execution_count": 44,
   "id": "975e4488-5769-4716-9ebf-527ecf27e30e",
   "metadata": {},
   "outputs": [],
   "source": [
    "# import nltk\n",
    "# nltk.download('stopwords')"
   ]
  },
  {
   "cell_type": "code",
   "execution_count": 45,
   "id": "e4e09c0c-c544-4aac-b238-8866ce9cb2b6",
   "metadata": {},
   "outputs": [],
   "source": [
    "stopwords = nltk.corpus.stopwords.words('english')"
   ]
  },
  {
   "cell_type": "markdown",
   "id": "59b4b529-23b4-40d7-be37-2d4d8ce61b5c",
   "metadata": {},
   "source": [
    "Let's take a look at the first 10 stopwords"
   ]
  },
  {
   "cell_type": "code",
   "execution_count": 46,
   "id": "9f79537e-e98e-4322-9fb6-fb148638fefa",
   "metadata": {},
   "outputs": [
    {
     "data": {
      "text/plain": [
       "['i', 'me', 'my', 'myself', 'we', 'our', 'ours', 'ourselves', 'you', \"you're\"]"
      ]
     },
     "execution_count": 46,
     "metadata": {},
     "output_type": "execute_result"
    }
   ],
   "source": [
    "stopwords[:10]"
   ]
  },
  {
   "cell_type": "markdown",
   "id": "fd8bf995-0eb8-41f0-a7da-797ccd46eebf",
   "metadata": {},
   "source": [
    "---\n",
    "### Filter of Text without Stopwords"
   ]
  },
  {
   "cell_type": "code",
   "execution_count": 49,
   "id": "40b45a4b-f6f0-4817-80d0-b549310f12bd",
   "metadata": {},
   "outputs": [],
   "source": [
    "wordsWithoutStops = []                    # create empty dictionary called wordsWithoutStops\n",
    "for word in words:                        # for each word in our list, which is the words variable (it has stored the first 25 words, lower case)\n",
    "    if word not in stopwords:             # if a word in not in out stopwords list:\n",
    "        wordsWithoutStops.append(word)    # add all those variables from word (remember is has the first 25 words, all lower case, and with this new for loop, no stopwords) it to our list called wordWithoutStops\n",
    "    "
   ]
  },
  {
   "cell_type": "markdown",
   "id": "8e850c5e-f229-4d4e-a92d-23a6160768a1",
   "metadata": {},
   "source": [
    "### Check it out"
   ]
  },
  {
   "cell_type": "code",
   "execution_count": 54,
   "id": "255e8fbf-04b2-407e-a177-ebddd52e6a6d",
   "metadata": {},
   "outputs": [
    {
     "data": {
      "text/plain": [
       "['project',\n",
       " 'gutenberg',\n",
       " 'ebook',\n",
       " 'alice',\n",
       " 'adventures',\n",
       " 'wonderland',\n",
       " 'lewis',\n",
       " 'carroll',\n",
       " 'ebook',\n",
       " 'use',\n",
       " 'anyone',\n",
       " 'anywhere',\n",
       " 'united',\n",
       " 'states',\n",
       " 'parts',\n",
       " 'world',\n",
       " 'cost',\n",
       " 'almost',\n",
       " 'restrictions',\n",
       " 'whatsoever',\n",
       " 'may',\n",
       " 'copy',\n",
       " 'give',\n",
       " 'away',\n",
       " 'use',\n",
       " 'terms',\n",
       " 'project',\n",
       " 'gutenberg',\n",
       " 'license',\n",
       " 'included']"
      ]
     },
     "execution_count": 54,
     "metadata": {},
     "output_type": "execute_result"
    }
   ],
   "source": [
    "wordsWithoutStops[:30]"
   ]
  },
  {
   "cell_type": "markdown",
   "id": "0aa9d670-a9c0-44d9-8168-79ae29cbfa6a",
   "metadata": {},
   "source": [
    "We can see that the stopwrds are not in ther, but to get a closer look, visuals help out in this situation. Let's graph."
   ]
  },
  {
   "cell_type": "markdown",
   "id": "63a0aa13-87e6-4de9-98bd-2d13da253960",
   "metadata": {},
   "source": [
    "---\n",
    "### Visualizations (page 8)"
   ]
  },
  {
   "cell_type": "markdown",
   "id": "1b8f9c0b-6677-4d36-a7d7-c8618cd77e49",
   "metadata": {},
   "source": [
    "Now using the we can use the `seaborn` package and `FreqDist()` function from `nltk` to plot the first 25 `wordsWithoutStops` and see what we get..."
   ]
  },
  {
   "cell_type": "code",
   "execution_count": 57,
   "id": "37b23da4-5264-4e44-b3f7-6c13c0c7df54",
   "metadata": {},
   "outputs": [
    {
     "data": {
      "image/png": "[encoded data removed]",
      "text/plain": [
       "<Figure size 432x288 with 1 Axes>"
      ]
     },
     "metadata": {},
     "output_type": "display_data"
    },
    {
     "data": {
      "text/plain": [
       "<AxesSubplot:xlabel='Samples', ylabel='Counts'>"
      ]
     },
     "execution_count": 57,
     "metadata": {},
     "output_type": "execute_result"
    }
   ],
   "source": [
    "sns.set()\n",
    "frequencyDis = nltk.FreqDist(wordsWithoutStops)\n",
    "frequencyDis.plot(25)"
   ]
  }
 ],
 "metadata": {
  "kernelspec": {
   "display_name": "Python 3 (ipykernel)",
   "language": "python",
   "name": "python3"
  },
  "language_info": {
   "codemirror_mode": {
    "name": "ipython",
    "version": 3
   },
   "file_extension": ".py",
   "mimetype": "text/x-python",
   "name": "python",
   "nbconvert_exporter": "python",
   "pygments_lexer": "ipython3",
   "version": "3.9.13"
  }
 },
 "nbformat": 4,
 "nbformat_minor": 5
}
