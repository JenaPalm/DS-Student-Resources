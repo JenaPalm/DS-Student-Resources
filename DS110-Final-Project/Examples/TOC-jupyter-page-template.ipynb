{
 "cells": [
  {
   "cell_type": "markdown",
   "id": "7aae5bf2-b40d-41fb-aa9a-07fd14767e6e",
   "metadata": {},
   "source": [
    "# Title "
   ]
  },
  {
   "cell_type": "markdown",
   "id": "40a3734d-0a5b-4875-a2a7-53b6b541ecc5",
   "metadata": {},
   "source": [
    "### Table of Contents <a class=\"anchor\" id=\"template_toc\"></a>\n",
    "\n",
    "* [Table of Contents](#template_toc)\n",
    "    * [Page 1 - Alpha](#template_page_1)\n",
    "    * [Page 2 - Bravo](#template_page_2)\n",
    "    * [Page 3 - Charlie](#template_page_3)\n",
    "    * [Page 4 - Delta](#template_page_4)\n",
    "    * [Page 5 - Echo](#template_page_5)\n",
    "    * [Page 6 - Foxtrot](#template_page_6)\n",
    "    * [Page 7 - Golf](#template_page_7)\n",
    "    * [Page 8 - Hotel](#template_page_8)\n",
    "    * [Page 9 - India](#template_page_9)\n",
    "    * [Page 10 - Juliet](#template_page_10)\n",
    "    * [Page 11 - Kilo](#template_page_11)"
   ]
  },
  {
   "cell_type": "markdown",
   "id": "caca59d3-c912-4005-9389-845c83eb74de",
   "metadata": {},
   "source": [
    "<hr style=\"height:10px;border-width:0;color:darkorange;background-color:darkorange\">\n",
    "\n",
    "# Page 1 - Alpha <a class=\"anchor\" id=\"template_page_1\"></a>\n",
    "\n",
    "[Back to Top](#template_toc)\n",
    "\n",
    "<hr style=\"height:10px;border-width:0;color:darkorange;background-color:darkorange\">"
   ]
  },
  {
   "cell_type": "markdown",
   "id": "6c6e3e7f-e8a6-414d-8fa6-39093270c85e",
   "metadata": {},
   "source": [
    "Before you make any changes, make sure to right-click and copy this template, so you can use it for other notebooks. \n",
    "\n",
    "Using Control + F, double-click and open up each cell (this is like opening up a book to shine a flashlight on each page.) Then replace the word \"template\" with the name of your final project and replace all. \n",
    "\n",
    "Change each page name everywhere it appears using Control + F and replace all. Each page name appears in a couple of places: the table of contents, or TOC, and on the page itself. Using Control + F ensures you make uniform changes to them all quickly and efficiently.\n",
    "\n",
    "There is a link at the bottom of this document for html colors where you can choose your own color instead of darkorange. \n",
    "\n",
    "Always use png images from a URL for your images and photos, so that anyone who runs the notebook can see the image without having to have a relative or heaven forbid, an absolute path to an image saved in a file. \n",
    "\n",
    "Each and every cell has to be run in order for the hyperlinks to work while you're building the notebook.\n",
    "\n",
    "Happy coding!! "
   ]
  },
  {
   "cell_type": "code",
   "execution_count": null,
   "id": "494cfef3-60f1-4bca-b2f5-191d6163a0ad",
   "metadata": {},
   "outputs": [],
   "source": []
  },
  {
   "cell_type": "markdown",
   "id": "95404699-8e90-4dbb-afa5-ff6afc55d888",
   "metadata": {},
   "source": [
    "<hr style=\"height:10px;border-width:0;color:darkorange;background-color:darkorange\">\n",
    "\n",
    "# Page 2 - Bravo <a class=\"anchor\" id=\"template_page_2\"></a>\n",
    "\n",
    "[Back to Top](#template_toc)\n",
    "\n",
    "<hr style=\"height:10px;border-width:0;color:darkorange;background-color:darkorange\">"
   ]
  },
  {
   "cell_type": "code",
   "execution_count": null,
   "id": "0c955560-840f-4ad2-b306-d8a8f6695a9a",
   "metadata": {},
   "outputs": [],
   "source": []
  },
  {
   "cell_type": "code",
   "execution_count": null,
   "id": "60bdc749-65a8-41fe-a404-fa01ba6b95f2",
   "metadata": {},
   "outputs": [],
   "source": []
  },
  {
   "cell_type": "markdown",
   "id": "52c19391-9681-4205-a859-301ef85a86df",
   "metadata": {},
   "source": [
    "<hr style=\"height:10px;border-width:0;color:darkorange;background-color:darkorange\">\n",
    "\n",
    "# Page 3 - Charlie <a class=\"anchor\" id=\"template_page_3\"></a>\n",
    "\n",
    "[Back to Top](#template_toc)\n",
    "\n",
    "<hr style=\"height:10px;border-width:0;color:darkorange;background-color:darkorange\">"
   ]
  },
  {
   "cell_type": "code",
   "execution_count": null,
   "id": "bbfe13bb-29bb-4be1-b87d-7f31a549f47a",
   "metadata": {},
   "outputs": [],
   "source": []
  },
  {
   "cell_type": "code",
   "execution_count": null,
   "id": "a517b2c8-ba97-40f1-815d-15eb0dd4efb8",
   "metadata": {},
   "outputs": [],
   "source": []
  },
  {
   "cell_type": "markdown",
   "id": "bb9f8778-6a29-43dc-87df-04f71c60ea8b",
   "metadata": {},
   "source": [
    "<hr style=\"height:10px;border-width:0;color:darkorange;background-color:darkorange\">\n",
    "\n",
    "# Page 4 - Delta <a class=\"anchor\" id=\"template_page_4\"></a>\n",
    "\n",
    "[Back to Top](#template_toc)\n",
    "\n",
    "<hr style=\"height:10px;border-width:0;color:darkorange;background-color:darkorange\">"
   ]
  },
  {
   "cell_type": "code",
   "execution_count": null,
   "id": "ebf08113-d7ae-4314-8e06-24571cc95296",
   "metadata": {},
   "outputs": [],
   "source": []
  },
  {
   "cell_type": "code",
   "execution_count": null,
   "id": "7dc70672-436e-4c26-b0e0-0527303a35cc",
   "metadata": {},
   "outputs": [],
   "source": []
  },
  {
   "cell_type": "markdown",
   "id": "c966d48e-ca43-4244-99d6-e35137d1c75f",
   "metadata": {},
   "source": [
    "<hr style=\"height:10px;border-width:0;color:darkorange;background-color:darkorange\">\n",
    "\n",
    "# Page 5 - Echo <a class=\"anchor\" id=\"template_page_5\"></a>\n",
    "\n",
    "[Back to Top](#template_toc)\n",
    "\n",
    "<hr style=\"height:10px;border-width:0;color:darkorange;background-color:darkorange\">"
   ]
  },
  {
   "cell_type": "code",
   "execution_count": null,
   "id": "a48549b5-1721-4d39-9ce7-0c0f69138a05",
   "metadata": {},
   "outputs": [],
   "source": []
  },
  {
   "cell_type": "code",
   "execution_count": null,
   "id": "9b0b573b-8ee0-4826-9119-4cbd9f00dfd7",
   "metadata": {},
   "outputs": [],
   "source": []
  },
  {
   "cell_type": "markdown",
   "id": "e0c38d72-48b3-40b9-a7c8-32e08207e357",
   "metadata": {},
   "source": [
    "<hr style=\"height:10px;border-width:0;color:darkorange;background-color:darkorange\">\n",
    "\n",
    "# Page 6 - Foxtrot <a class=\"anchor\" id=\"template_page_6\"></a>\n",
    "\n",
    "[Back to Top](#template_toc)\n",
    "\n",
    "<hr style=\"height:10px;border-width:0;color:darkorange;background-color:darkorange\">"
   ]
  },
  {
   "cell_type": "code",
   "execution_count": null,
   "id": "145286c3-b12c-4e66-962d-867c779f347c",
   "metadata": {},
   "outputs": [],
   "source": []
  },
  {
   "cell_type": "code",
   "execution_count": null,
   "id": "4d7066f4-8c21-4aba-96c9-f2d1d251b52a",
   "metadata": {},
   "outputs": [],
   "source": []
  },
  {
   "cell_type": "markdown",
   "id": "a32347ae-89a9-45c3-809c-d871ca65f79f",
   "metadata": {},
   "source": [
    "<hr style=\"height:10px;border-width:0;color:darkorange;background-color:darkorange\">\n",
    "\n",
    "# Page 7 - Golf <a class=\"anchor\" id=\"template_page_7\"></a>\n",
    "\n",
    "[Back to Top](#template_toc)\n",
    "\n",
    "<hr style=\"height:10px;border-width:0;color:darkorange;background-color:darkorange\">"
   ]
  },
  {
   "cell_type": "code",
   "execution_count": null,
   "id": "90107ed8-83e7-4379-be60-52722143cc11",
   "metadata": {},
   "outputs": [],
   "source": []
  },
  {
   "cell_type": "code",
   "execution_count": null,
   "id": "d5c59723-4ffa-46df-b5d8-34ef4a4e6034",
   "metadata": {},
   "outputs": [],
   "source": []
  },
  {
   "cell_type": "markdown",
   "id": "df72ef7c-1f14-43f2-8b67-f9e9ef6721d8",
   "metadata": {},
   "source": [
    "<hr style=\"height:10px;border-width:0;color:darkorange;background-color:darkorange\">\n",
    "\n",
    "# Page 8 - Hotel <a class=\"anchor\" id=\"template_page_8\"></a>\n",
    "\n",
    "[Back to Top](#template_toc)\n",
    "\n",
    "<hr style=\"height:10px;border-width:0;color:darkorange;background-color:darkorange\">"
   ]
  },
  {
   "cell_type": "code",
   "execution_count": null,
   "id": "d7f0f147-a5b0-4578-b31f-64df21966ed9",
   "metadata": {},
   "outputs": [],
   "source": []
  },
  {
   "cell_type": "code",
   "execution_count": null,
   "id": "26414a11-631f-4748-a627-dad342d33527",
   "metadata": {},
   "outputs": [],
   "source": []
  },
  {
   "cell_type": "markdown",
   "id": "10045859-d009-437d-a52d-316e58eaaf1e",
   "metadata": {},
   "source": [
    "<hr style=\"height:10px;border-width:0;color:darkorange;background-color:darkorange\">\n",
    "\n",
    "# Page 9 - India <a class=\"anchor\" id=\"template_page_9\"></a>\n",
    "\n",
    "[Back to Top](#template_toc)\n",
    "\n",
    "<hr style=\"height:10px;border-width:0;color:darkorange;background-color:darkorange\">"
   ]
  },
  {
   "cell_type": "code",
   "execution_count": null,
   "id": "30f39710-52c6-46f0-83a9-585dae02e05a",
   "metadata": {},
   "outputs": [],
   "source": []
  },
  {
   "cell_type": "code",
   "execution_count": null,
   "id": "4d5426df-d75e-40d3-a7a9-520eee940bfd",
   "metadata": {},
   "outputs": [],
   "source": []
  },
  {
   "cell_type": "markdown",
   "id": "8cb533aa-837d-40cb-b5e4-e34e14caedc1",
   "metadata": {},
   "source": [
    "<hr style=\"height:10px;border-width:0;color:darkorange;background-color:darkorange\">\n",
    "\n",
    "# Page 10 - Juliet <a class=\"anchor\" id=\"template_page_10\"></a>\n",
    "\n",
    "[Back to Top](#template_toc)\n",
    "\n",
    "<hr style=\"height:10px;border-width:0;color:darkorange;background-color:darkorange\">"
   ]
  },
  {
   "cell_type": "code",
   "execution_count": null,
   "id": "822d9e47-8edc-4564-bd3e-357782b20bc5",
   "metadata": {},
   "outputs": [],
   "source": []
  },
  {
   "cell_type": "code",
   "execution_count": null,
   "id": "b87e538c-5168-4349-9933-1b9b05b7b738",
   "metadata": {},
   "outputs": [],
   "source": []
  },
  {
   "cell_type": "markdown",
   "id": "782181ac-c9a9-469e-a4f4-82ab2d51fb58",
   "metadata": {},
   "source": [
    "<hr style=\"height:10px;border-width:0;color:darkorange;background-color:darkorange\">\n",
    "\n",
    "# Page 11 - Kilo <a class=\"anchor\" id=\"template_page_11\"></a>\n",
    "\n",
    "[Back to Top](#template_toc)\n",
    "\n",
    "<hr style=\"height:10px;border-width:0;color:darkorange;background-color:darkorange\">"
   ]
  },
  {
   "cell_type": "code",
   "execution_count": null,
   "id": "98177cb7-57d1-4015-891f-801903bac17f",
   "metadata": {},
   "outputs": [],
   "source": []
  },
  {
   "cell_type": "code",
   "execution_count": null,
   "id": "3714f54b-693d-4444-b811-f8278282068d",
   "metadata": {},
   "outputs": [],
   "source": []
  },
  {
   "cell_type": "code",
   "execution_count": null,
   "id": "89a3ab47-b4ef-4f79-912d-5e5ea7b73eb9",
   "metadata": {},
   "outputs": [],
   "source": []
  },
  {
   "cell_type": "markdown",
   "id": "d0c29b27-f478-4c9d-8628-7eea3f041736",
   "metadata": {},
   "source": [
    "#### Site with html color list:\n",
    "\n",
    "https://www.rapidtables.com/web/color/html-color-codes.html#:~:text=HTML%20character%20codes%20Black%20color%20Blue,color%20Brown%20color%20Cyan%20color%20Gold%20color\n",
    "\n",
    "---\n",
    "\n"
   ]
  },
  {
   "cell_type": "markdown",
   "id": "312ebd48-4002-4391-adee-556899204c85",
   "metadata": {},
   "source": [
    "# center images \n",
    "<p style=\"text-align: center \">\n",
    "  <img  src=\"https://filepath-online-URL-so-it's-accessible-by-anyone.png\" width=\"200\" height = \"100\" alt=\"FBI Logo\">\n",
    "</p>\n",
    "\n",
    "\n",
    "* __list_name__ – The rabble in which pie libro occluded.  <br>"
   ]
  },
  {
   "cell_type": "markdown",
   "id": "51ee64d0-840f-4c31-a3b2-419b72539921",
   "metadata": {},
   "source": [
    "#center large category names\n",
    "\n",
    "from IPython.display import display, HTML\n",
    "\n",
    "display(\n",
    "    HTML(\"<center><h1>Categorical Columns</h1></center>\"),\n",
    "    HTML(\"<center><h3>Descriptive Statistics</h3></center>\"),\n",
    "    df.describe(include = ['O']) \n",
    ")\n"
   ]
  },
  {
   "cell_type": "code",
   "execution_count": null,
   "id": "a1edca87-0661-45ee-a67c-aafd791f34be",
   "metadata": {},
   "outputs": [],
   "source": []
  }
 ],
 "metadata": {
  "kernelspec": {
   "display_name": "Python 3 (ipykernel)",
   "language": "python",
   "name": "python3"
  },
  "language_info": {
   "codemirror_mode": {
    "name": "ipython",
    "version": 3
   },
   "file_extension": ".py",
   "mimetype": "text/x-python",
   "name": "python",
   "nbconvert_exporter": "python",
   "pygments_lexer": "ipython3",
   "version": "3.10.4"
  }
 },
 "nbformat": 4,
 "nbformat_minor": 5
}
