{
 "cells": [
  {
   "cell_type": "markdown",
   "id": "2df731b4-41fc-4670-81b5-e163d323cfba",
   "metadata": {},
   "source": [
    "# Using Cosine Similarity to Build a Movie Recommendation System\n",
    "A step-by-step guide to build a Python-based Movie Recommender System using Cosine Similarity.\n",
    "[reference](https://towardsdatascience.com/using-cosine-similarity-to-build-a-movie-recommendation-system-ae7f20842599)"
   ]
  },
  {
   "cell_type": "markdown",
   "id": "aba839ce-b2f8-451a-ad7a-24dd91bb91e3",
   "metadata": {},
   "source": [
    "Have you ever imagined that a simple formula that you have studied in high school would play a part in recommending you a movie on the basis of the one you already like?\n",
    "Well, here we are, using the Cosine Similarity (the dot product for normalized vectors) to build a Movie Recommender System!\n",
    "\n",
    "## What are Recommender Systems?\n",
    "Recommender systems are an important class of machine learning algorithms that offer “relevant” suggestions to users. Youtube, Amazon, Netflix, all function on recommendation systems where the system recommends you the next video or product based on your past activity (Content-based Filtering) or based on activities and preferences of other users similar to you (Collaborative Filtering). Likewise, Facebook also uses a recommendation system to suggest Facebook users you may know offline.\n",
    "\n",
    "Recommendation Systems work based on the similarity between either the content or the users who access the content.\n",
    "\n",
    "There are several ways to measure the similarity between two items. The recommendation systems use this similarity matrix to recommend the next most similar product to the user.\n",
    "In this article, we will build a machine learning algorithm that would recommend movies based on a movie the user likes. This Machine Learning model would be based on Cosine Similarity.\n",
    "\n",
    "Get the Dataset\n",
    "The first step to build a movie recommendation system is getting the appropriate data. You may download the movies dataset from the web, or from the link below which contains a 22MB CSV file titled “movie_dataset.csv”: located in the final project data folder. Thank you [Mahnoor Javed](https://mahnoorjaved.medium.com/) \n",
    "\n",
    "Let’s explore the dataset now!\n",
    "\n",
    "Our CSV file contains a total of 4802 movies and 24 columns: index, budget, genres, homepage, id, keywords, original_language, original_title, overview, popularity, production_companies, production_countries, release_date, revenue, runtime, spoken_languages, status, tagline, title, vote_average, vote_count, cast, crew and director (sigh!).\n",
    "\n",
    "Among all these different features, the ones we are interested in to find the similarity for making the next recommendation are the following:\n",
    "\n",
    "keywords, cast, genres & director.\n",
    "\n",
    "A user who likes a horror movie will most probably like another horror movie. Some users may like seeing their favorite actors in the cast of the movie. Others may love movies directed by a particular person. Combining all of these aspects, our shortlisted 4 features are sufficient to train our recommendation algorithm.\n",
    "\n",
    "Start Coding\n",
    "Now, let us start with the coding. First things first, let’s import the libraries we need, as well as the CSV file of the movies’ dataset.\n",
    "\n"
   ]
  },
  {
   "cell_type": "code",
   "execution_count": 20,
   "id": "ebe1f91d-bf1f-4ece-9a67-866600bfcb3a",
   "metadata": {},
   "outputs": [],
   "source": [
    "# import the two important libraries for data analysis and manipulation; pandas and numpy\n",
    "import pandas as pd\n",
    "import numpy as np\n"
   ]
  },
  {
   "cell_type": "code",
   "execution_count": 21,
   "id": "62ac9bfb-8fe9-4c0b-8f2c-6c643cb50517",
   "metadata": {},
   "outputs": [],
   "source": [
    "# import the cosine_similarity from sklearn, as the metric of our similarity matrix\n",
    "from sklearn.feature_extraction.text import CountVectorizer\n",
    "from sklearn.metrics.pairwise import cosine_similarity"
   ]
  },
  {
   "cell_type": "code",
   "execution_count": 22,
   "id": "dd9239c9-d0f7-42a0-81fe-48eeea0f0e94",
   "metadata": {},
   "outputs": [],
   "source": [
    "#r ead our CSV file into a dataframe df, which can then be accessed in the variable explorer of our Python Notebook.\n",
    "df = pd.read_csv(r\"../Data/movie_dataset.csv\")"
   ]
  },
  {
   "cell_type": "markdown",
   "id": "2c35d6a7-1afc-4558-8edf-1f7039e85f39",
   "metadata": {},
   "source": [
    "We will import the two important libraries for data analysis and manipulation; pandas and numpy. We will also import Scikit-learn’s CountVectorizer, used to convert a collection of text documents to a vector of term/token counts.\n",
    "\n",
    "Lastly, we will import the cosine_similarity from sklearn, as the metric of our similarity matrix (which will be discussed in details later).\n",
    "\n",
    "We will read our CSV file into a dataframe df, which can then be accessed in the variable explorer of our Python Notebook.\n",
    "\n",
    "## Features List\n",
    "We will make a list of the features that we will be using. As discussed above, we will only use the features most relevant to us, considering our problem at hand. Hence, our chosen features will be keywords, cast, genres & director.\n",
    "\n",
    "Moreover, we will do a little bit of data preprocessing and replace any rows having NaN values with a space/empty string, so it does not generate an error while running the code. This pre-processing has been done in the for loop."
   ]
  },
  {
   "cell_type": "code",
   "execution_count": 27,
   "id": "cf94d2ab-5b02-4619-8265-492ee416af84",
   "metadata": {},
   "outputs": [],
   "source": [
    "features = ['keywords', 'cast', 'genres', 'director']\n",
    "for feature in features:\n",
    "    df[feature] = df[feature].fillna('')"
   ]
  },
  {
   "cell_type": "markdown",
   "id": "d690d461-261b-44c5-b61d-3de54f0524a4",
   "metadata": {},
   "source": [
    "## Combining Relevant Features into a Single Feature\n",
    "Next, we will define a function called combined_features. The function will combine all our useful features (keywords, cast, genres & director) from their respective rows, and return a row with all the combined features in a single string."
   ]
  },
  {
   "cell_type": "code",
   "execution_count": 28,
   "id": "a654d703-c392-4747-a954-33afc741943b",
   "metadata": {},
   "outputs": [],
   "source": [
    "def combined_features(row):\n",
    "    return row['keywords']+\" \"+row['cast']+\" \"+row['genres']+\" \"+row['director']\n",
    "df[\"combined_features\"] = df.apply(combined_features, axis =1)"
   ]
  },
  {
   "cell_type": "markdown",
   "id": "aff39d4a-caa0-47dc-a100-c3e83c55ffc0",
   "metadata": {},
   "source": [
    "We will add a new column, combined_features to our existing dataframe (df) and apply the above function to each row (axis = 1). The dataframe will now have an extra column at the end, which will comprise of rows of the combined features.\n",
    "\n",
    "## Extracting Features\n",
    "Next, we will extract features from our data.\n",
    "\n",
    "The sklearn.feature_extraction module can be used to extract features in a format supported by machine learning algorithms from datasets consisting of formats such as text and image. We will use CountVectorizer’s fit.tranform to count the number of texts and we will print the transformed matrix count_matrix into an array for better understanding."
   ]
  },
  {
   "cell_type": "code",
   "execution_count": 29,
   "id": "9d837426-2f32-41ba-855f-d03dbb01eb7d",
   "metadata": {},
   "outputs": [
    {
     "name": "stdout",
     "output_type": "stream",
     "text": [
      "Count Matrix: [[0 0 0 ... 0 0 0]\n",
      " [0 0 0 ... 0 0 0]\n",
      " [0 0 0 ... 0 0 0]\n",
      " ...\n",
      " [0 0 0 ... 0 0 0]\n",
      " [0 0 0 ... 0 0 0]\n",
      " [0 0 0 ... 0 0 0]]\n"
     ]
    }
   ],
   "source": [
    "cv = CountVectorizer()\n",
    "count_matrix = cv.fit_transform(df[\"combined_features\"])\n",
    "print(\"Count Matrix:\", count_matrix.toarray())"
   ]
  },
  {
   "cell_type": "markdown",
   "id": "2f0964d4-9bdb-45b0-bf87-1952c8ee73d5",
   "metadata": {},
   "source": [
    "## Using the Cosine Similarity\n",
    "We will use the Cosine Similarity from Sklearn, as the metric to compute the similarity between two movies.\n",
    "\n",
    "Cosine similarity is a metric used to measure how similar two items are. Mathematically, it measures the cosine of the angle between two vectors projected in a multi-dimensional space. The output value ranges from 0–1.\n",
    "\n",
    "0 means no similarity, where as 1 means that both the items are 100% similar.\n",
    "\n",
    "The python Cosine Similarity or cosine kernel, computes similarity as the normalized dot product of input samples X and Y. We will use the sklearn cosine_similarity to find the cos θ for the two vectors in the count matrix."
   ]
  },
  {
   "cell_type": "code",
   "execution_count": 10,
   "id": "e4cd8783-b1c9-454b-a0ce-3a783254d9c2",
   "metadata": {},
   "outputs": [],
   "source": [
    "cosine_sim = cosine_similarity(count_matrix)"
   ]
  },
  {
   "cell_type": "markdown",
   "id": "01623163-9b86-4299-b2c8-fdbe0a46bca3",
   "metadata": {},
   "source": [
    "The cosine_sim matrix is a numpy array with calculated cosine similarity between each movies. As you can see in the image below, the cosine similarity of movie 0 with movie 0 is 1; they are 100% similar (as should be).\n",
    "\n",
    "Similarly the cosine similarity between movie 0 and movie 1 is 0.105409 (the same score between movie 1 and movie 0 — order does not matter).\n",
    "\n",
    "Movies 0 and 4 are more similar to each other (with a similarity score of 0.23094) than movies 0 and 3 (score = 0.0377426).\n",
    "\n",
    "The diagonal with 1s suggests what the case is, each movie ‘x’ is 100% similar to itself!"
   ]
  },
  {
   "cell_type": "code",
   "execution_count": 12,
   "id": "fb9268af-b852-4b70-a7a5-ff864d8a43f2",
   "metadata": {},
   "outputs": [
    {
     "name": "stdout",
     "output_type": "stream",
     "text": [
      "[[1.         0.10540926 0.12038585 ... 0.         0.         0.        ]\n",
      " [0.10540926 1.         0.0761387  ... 0.03651484 0.         0.        ]\n",
      " [0.12038585 0.0761387  1.         ... 0.         0.11145564 0.        ]\n",
      " ...\n",
      " [0.         0.03651484 0.         ... 1.         0.         0.04264014]\n",
      " [0.         0.         0.11145564 ... 0.         1.         0.        ]\n",
      " [0.         0.         0.         ... 0.04264014 0.         1.        ]]\n"
     ]
    }
   ],
   "source": [
    "print(cosine_sim)"
   ]
  },
  {
   "cell_type": "markdown",
   "id": "c2c152d6-b83e-4ee1-ba75-2042dcb10f87",
   "metadata": {},
   "source": [
    "## Content User likes\n",
    "The next step is to take as input a movie that the user likes in the movie_user_likes variable.\n",
    "\n",
    "Since we are building a content based filtering system, we need to know the users’ likes in order to predict a similar item."
   ]
  },
  {
   "cell_type": "code",
   "execution_count": 30,
   "id": "b1412af2-1f66-4b53-ac10-62d5b2455fc6",
   "metadata": {},
   "outputs": [],
   "source": [
    "movie_user_likes = \"Dead Poets Society\"\n",
    "def get_index_from_title(title):\n",
    "    return df[df.title == title][\"index\"].values[0]\n",
    "movie_index = get_index_from_title(movie_user_likes)"
   ]
  },
  {
   "cell_type": "markdown",
   "id": "359dccf9-3ef2-4eb3-ad09-6e2d5a08e1df",
   "metadata": {},
   "source": [
    "Suppose I like the movie “Dead Poets Society”. Next, I will build a function to get the index from the name of this movie. The index will be saved in the movie_index variable."
   ]
  },
  {
   "cell_type": "markdown",
   "id": "d2abb70b-b46e-4f83-8a87-320434600056",
   "metadata": {},
   "source": [
    "## Generating the Similar Movies Matrix\n",
    "Next we will generate a list of similar movies. We will use the movie_index of the movie we have given as input movie_user_likes. The enumerate() method will add a counter to the iterable list cosine_sim and return it in a form of a list similar_movies with the similarity score of each index."
   ]
  },
  {
   "cell_type": "code",
   "execution_count": 31,
   "id": "a146a0eb-7c2e-4567-9041-7289e202702c",
   "metadata": {},
   "outputs": [],
   "source": [
    "similar_movies = list(enumerate(cosine_sim[movie_index]))"
   ]
  },
  {
   "cell_type": "markdown",
   "id": "9bced2a7-3bac-4b19-b55d-1197c51e6cb6",
   "metadata": {},
   "source": [
    "## Sorting the Similar Movies List in Descending Order\n",
    "Next step is to sort the movies in the list similar_movies. We have used the parameter reverse=True since we want the list in the descending order, with the most similar item at the top."
   ]
  },
  {
   "cell_type": "code",
   "execution_count": 32,
   "id": "6c047aaf-e5a4-4185-b4b0-a70aa041d19a",
   "metadata": {},
   "outputs": [],
   "source": [
    "sorted_similar_movies = sorted(similar_movies, key=lambda x:x[1], reverse=True)"
   ]
  },
  {
   "cell_type": "markdown",
   "id": "02b100c7-9908-4e57-9dbd-9e9c3dda20b4",
   "metadata": {},
   "source": [
    "The sorted_similar_movies will be a list of all the movies sorted in descending order with respect to their similarity score with the input movie movie_user_likes.\n",
    "\n",
    "As can be seen in the image below, the most similar one with a similarity score of 0.9999999999999993 is at the top most, with its index number 2453 (the movie is ‘Dead Poets Society’ which we gave as input, makes sense, right?)."
   ]
  },
  {
   "cell_type": "markdown",
   "id": "7b37ae09-2c77-4a05-be02-27cc097fc43b",
   "metadata": {
    "tags": []
   },
   "source": [
    "## Printing the Similar Movies\n",
    "Now, here comes the last part of the project, which is to print the names of the movies similar to the one we have given as input to the system through the movie_user_likes variable.\n",
    "\n",
    "As seen in the sorted_similar_movies list, the movies are sorted by their index number. Printing the index number will be of no use to us, so we will define a simple function that takes the index number and covert it into the movie title as in the dataframe.\n",
    "\n",
    "Index Number → Movie Title\n",
    "\n",
    "Next we will call this function inside the for loop to print the first ‘x’ number of movies from the sorted_similar_movies.\n",
    "\n",
    "In our case, we will print the 15 most similar movies from a pool of 4802 movies.\n",
    "\n",
    "## Running the Code\n",
    "Now comes the application. Use the steps above to code your own recommender systems and run the code by giving a movie you like to the movie_user_likes.\n",
    "\n",
    "I have given “Dead Poets Society”, and it prints me the following similar movies:"
   ]
  },
  {
   "cell_type": "code",
   "execution_count": 33,
   "id": "65113de3-a84e-45d9-921c-3ac998f87cee",
   "metadata": {},
   "outputs": [
    {
     "name": "stdout",
     "output_type": "stream",
     "text": [
      "Dead Poets Society\n",
      "Much Ado About Nothing\n",
      "Patch Adams\n",
      "Good Will Hunting\n",
      "Flightplan\n",
      "Alive\n",
      "The Basket\n",
      "What Just Happened\n",
      "Adulterers\n",
      "The Sting\n",
      "The Tree of Life\n",
      "The Greatest Game Ever Played\n",
      "Light It Up\n",
      "The Wood\n",
      "The Naked Ape\n",
      "Jakob the Liar\n"
     ]
    }
   ],
   "source": [
    "def get_title_from_index(index):\n",
    "    return df[df.index == index][\"title\"].values[0]\n",
    "i=0\n",
    "for movie in sorted_similar_movies:\n",
    "    print(get_title_from_index(movie[0]))\n",
    "    i=i+1\n",
    "    if i>15:\n",
    "        break"
   ]
  },
  {
   "cell_type": "markdown",
   "id": "7dc155c7-2f30-4296-9925-7d1ba4ac5707",
   "metadata": {},
   "source": [
    "As can be seen, the most similar one is obviously the movie itself. The algorithm defines “Much Ado About Nothing” as the next most similar movie! (will add it to my “To-watch list” 😄 )\n",
    "\n",
    "That’s it for this article! The article provided a hands-on approach to build a recommendation system, from scratch, by coding it on any python IDE.\n",
    "\n",
    "Now, once the algorithm is built, its time to grab some popcorn, and watch the movie your system recommends!! 😁\n",
    "\n"
   ]
  },
  {
   "cell_type": "code",
   "execution_count": null,
   "id": "bad8910d-dfaa-473a-a770-369e88d8db71",
   "metadata": {},
   "outputs": [],
   "source": []
  }
 ],
 "metadata": {
  "kernelspec": {
   "display_name": "Python 3 (ipykernel)",
   "language": "python",
   "name": "python3"
  },
  "language_info": {
   "codemirror_mode": {
    "name": "ipython",
    "version": 3
   },
   "file_extension": ".py",
   "mimetype": "text/x-python",
   "name": "python",
   "nbconvert_exporter": "python",
   "pygments_lexer": "ipython3",
   "version": "3.9.16"
  }
 },
 "nbformat": 4,
 "nbformat_minor": 5
}
