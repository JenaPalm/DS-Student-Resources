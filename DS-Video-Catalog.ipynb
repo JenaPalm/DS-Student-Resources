{
 "cells": [
  {
   "cell_type": "markdown",
   "id": "e4474bc8-3555-4cff-b9ba-97872976b679",
   "metadata": {},
   "source": [
    "# DS Video Count"
   ]
  },
  {
   "cell_type": "code",
   "execution_count": 1,
   "id": "8de749fb-f40b-4891-a3d1-a3f37905dc8b",
   "metadata": {
    "tags": []
   },
   "outputs": [],
   "source": [
    "import os\n",
    "import re\n",
    "import json\n",
    "import pandas as pd\n",
    "from pathlib import Path\n",
    "from datetime import datetime"
   ]
  },
  {
   "cell_type": "code",
   "execution_count": 2,
   "id": "f61609db-9047-42cf-a348-22dd4579f146",
   "metadata": {
    "tags": []
   },
   "outputs": [],
   "source": [
    "# Create a function to find all Jupyter Notebook files in local GitHub repository ignoring .ipynb_checkpoint files.\n",
    "def find_notebooks(root_path, extensions):\n",
    "    notebooks = []\n",
    "    for ext in extensions:\n",
    "        notebooks.extend([path for path in Path(root_path).rglob(f\"*.{ext}\") if \".ipynb_checkpoints\" not in str(path)])\n",
    "    return notebooks\n"
   ]
  },
  {
   "cell_type": "code",
   "execution_count": 3,
   "id": "1dcae94b-aa41-44f5-bce2-97ece5b8dcb5",
   "metadata": {
    "tags": []
   },
   "outputs": [],
   "source": [
    "# Create a function to count the number of Vimeo and YouTube videos embedded in a Jupyter Notebook file.\n",
    "def count_videos(notebook_path):\n",
    "    vimeo_pattern = r\"VimeoVideo\\('\\d+\"\n",
    "    youtube_pattern = r\"YouTubeVideo\\('\\d+\"\n",
    "\n",
    "    with open(notebook_path, \"r\", encoding=\"utf-8\") as f:\n",
    "        notebook_data = json.load(f)\n",
    "\n",
    "    vimeo_count = 0\n",
    "    youtube_count = 0\n",
    "\n",
    "    for cell in notebook_data[\"cells\"]:\n",
    "        if cell[\"cell_type\"] == \"code\":\n",
    "            code = \"\".join(cell[\"source\"])\n",
    "            vimeo_count += len(re.findall(vimeo_pattern, code))\n",
    "            youtube_count += len(re.findall(youtube_pattern, code))\n",
    "\n",
    "    return vimeo_count, youtube_count\n"
   ]
  },
  {
   "cell_type": "code",
   "execution_count": 4,
   "id": "a3fb3b93-8ae6-462e-8b67-4ea1312a8b1b",
   "metadata": {
    "tags": []
   },
   "outputs": [],
   "source": [
    "# Define the extensions of notebook files you want to search for and call the find_notebooks function.\n",
    "notebook_extensions = [\"ipynb\"]\n",
    "root_dir = \".\"  # The root directory of your local GitHub repository\n",
    "notebooks = find_notebooks(root_dir, notebook_extensions)\n"
   ]
  },
  {
   "cell_type": "code",
   "execution_count": 5,
   "id": "c859b6d6-4f48-4fdf-b068-bc43a5f55d96",
   "metadata": {
    "tags": []
   },
   "outputs": [],
   "source": [
    "# Create a Pandas DataFrame to store the video count data and write it to a CSV file.\n",
    "video_counts = []\n",
    "\n",
    "for notebook in notebooks:\n",
    "    vimeo_count, youtube_count = count_videos(notebook)\n",
    "    video_counts.append({\n",
    "        \"notebook\": str(notebook),\n",
    "        \"vimeo_count\": vimeo_count,\n",
    "        \"youtube_count\": youtube_count,\n",
    "    })\n",
    "\n",
    "video_counts_df = pd.DataFrame(video_counts)\n",
    "video_counts_df.to_csv(\"ds-video-catalog.csv\", index=False)\n"
   ]
  },
  {
   "cell_type": "code",
   "execution_count": null,
   "id": "467fe7af-6863-4653-8466-67c6e49a9598",
   "metadata": {},
   "outputs": [],
   "source": []
  }
 ],
 "metadata": {
  "kernelspec": {
   "display_name": "Python 3.9",
   "language": "python",
   "name": "python3"
  },
  "language_info": {
   "codemirror_mode": {
    "name": "ipython",
    "version": 3
   },
   "file_extension": ".py",
   "mimetype": "text/x-python",
   "name": "python",
   "nbconvert_exporter": "python",
   "pygments_lexer": "ipython3",
   "version": "3.9.16"
  }
 },
 "nbformat": 4,
 "nbformat_minor": 5
}
