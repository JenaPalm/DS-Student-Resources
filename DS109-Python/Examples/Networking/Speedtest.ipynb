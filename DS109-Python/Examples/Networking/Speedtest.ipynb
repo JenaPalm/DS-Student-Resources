{
 "cells": [
  {
   "cell_type": "code",
   "execution_count": null,
   "id": "1f85eb72-42de-4517-b3e8-ec40868c8df4",
   "metadata": {
    "tags": []
   },
   "outputs": [],
   "source": [
    "import subprocess\n",
    "import time\n",
    "import csv"
   ]
  },
  {
   "cell_type": "code",
   "execution_count": null,
   "id": "ae4aa9d9-5366-40bf-a773-bbd9f7354f98",
   "metadata": {
    "tags": []
   },
   "outputs": [],
   "source": [
    "# create a CSV file and write headers\n",
    "with open('speedtest_results.csv', mode='w') as results_file:\n",
    "    results_writer = csv.writer(results_file)\n",
    "    results_writer.writerow(['Timestamp', 'Download Speed (Mbps)', 'Upload Speed (Mbps)'])"
   ]
  },
  {
   "cell_type": "code",
   "execution_count": null,
   "id": "7175af24-18fd-42bf-a6f4-c53ad6da0768",
   "metadata": {
    "tags": []
   },
   "outputs": [],
   "source": [
    "# infinite loop to run the speed test every 10 minutes\n",
    "while True:\n",
    "    # run the speed test command and capture the output\n",
    "    output = subprocess.check_output(['/usr/local/bin/speedtest', '--json'])\n",
    "    \n",
    "    # parse the JSON output and get the download and upload speeds in Mbps\n",
    "    speedtest_results = json.loads(output.decode('utf-8'))\n",
    "    download_speed = round(speedtest_results['download'] / 1000000, 2)\n",
    "    upload_speed = round(speedtest_results['upload'] / 1000000, 2)\n",
    "    \n",
    "    # get the current timestamp\n",
    "    timestamp = time.strftime('%Y-%m-%d %H:%M:%S')\n",
    "    \n",
    "    # log the results to the CSV file\n",
    "    with open('speedtest_results.csv', mode='a') as results_file:\n",
    "        results_writer = csv.writer(results_file)\n",
    "        results_writer.writerow([timestamp, download_speed, upload_speed])\n",
    "    \n",
    "    # wait for 10 minutes before running the speed test again\n",
    "    time.sleep(600)"
   ]
  },
  {
   "cell_type": "code",
   "execution_count": null,
   "id": "743bd326-b68d-43bb-86b3-b59afd09a4d9",
   "metadata": {},
   "outputs": [],
   "source": []
  }
 ],
 "metadata": {
  "kernelspec": {
   "display_name": "Python 3 (ipykernel)",
   "language": "python",
   "name": "python3"
  },
  "language_info": {
   "codemirror_mode": {
    "name": "ipython",
    "version": 3
   },
   "file_extension": ".py",
   "mimetype": "text/x-python",
   "name": "python",
   "nbconvert_exporter": "python",
   "pygments_lexer": "ipython3",
   "version": "3.9.16"
  }
 },
 "nbformat": 4,
 "nbformat_minor": 5
}
