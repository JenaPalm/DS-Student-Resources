{
 "cells": [
  {
   "cell_type": "code",
   "execution_count": 14,
   "id": "214f4f8b-7642-47a4-8e6a-f9e613556082",
   "metadata": {
    "tags": []
   },
   "outputs": [],
   "source": [
    "# import subprocess\n",
    "import subprocess\n",
    "\n",
    "#import json\n",
    "import json"
   ]
  },
  {
   "cell_type": "code",
   "execution_count": 2,
   "id": "242c488f-396c-42b4-be44-963fb499bf8e",
   "metadata": {
    "tags": []
   },
   "outputs": [],
   "source": [
    "# check the status of en0 interface\n",
    "en0_status = subprocess.run(['ifconfig', 'en0'], capture_output=True)"
   ]
  },
  {
   "cell_type": "code",
   "execution_count": 15,
   "id": "9681749e-735a-478c-b2fa-455a14949848",
   "metadata": {
    "tags": []
   },
   "outputs": [
    {
     "name": "stdout",
     "output_type": "stream",
     "text": [
      "en0 is on\n"
     ]
    }
   ],
   "source": [
    "# check if en0 is on or off\n",
    "if 'status: active' in en0_status.stdout.decode():\n",
    "    print('en0 is on')\n",
    "else:\n",
    "    print('en0 is off')"
   ]
  },
  {
   "cell_type": "code",
   "execution_count": 34,
   "id": "96d7a8f0-67b1-4bd1-ad87-4c92ee677b8f",
   "metadata": {
    "tags": []
   },
   "outputs": [],
   "source": [
    "# check the status of en1 interface\n",
    "en1_status = subprocess.run(['ifconfig', 'en1'], capture_output=True)"
   ]
  },
  {
   "cell_type": "code",
   "execution_count": 35,
   "id": "7c130dd0-14b8-4896-9fcf-dba94524a924",
   "metadata": {
    "tags": []
   },
   "outputs": [
    {
     "name": "stdout",
     "output_type": "stream",
     "text": [
      "en1 is on\n"
     ]
    }
   ],
   "source": [
    "# check if en1 is on or off\n",
    "if 'status: active' in en1_status.stdout.decode():\n",
    "    print('en1 is on')\n",
    "else:\n",
    "    print('en1 is off')"
   ]
  },
  {
   "cell_type": "code",
   "execution_count": 18,
   "id": "903ee6b7-e8ee-4fb0-bedd-186c688e70ef",
   "metadata": {
    "tags": []
   },
   "outputs": [],
   "source": [
    "# run ifconfig command to get IP address of en0 interface\n",
    "result = subprocess.run(['ifconfig', 'en0'], capture_output=True, text=True)"
   ]
  },
  {
   "cell_type": "code",
   "execution_count": 36,
   "id": "889e52db-aa32-4b4a-a8f9-39e9491d7632",
   "metadata": {
    "tags": []
   },
   "outputs": [],
   "source": [
    "# parse output to get IP address\n",
    "output_lines = result.stdout.split('\\n')\n",
    "for line in output_lines:\n",
    "    if 'inet ' in line:\n",
    "        en0_ip_address = line.split('inet ')[1].split(' ')[0]\n",
    "        print(f'IP address of en0: {en0_ip_address}')\n",
    "        break"
   ]
  },
  {
   "cell_type": "code",
   "execution_count": 37,
   "id": "69e278b6-f45d-42e6-a53d-b1626b9abe20",
   "metadata": {
    "tags": []
   },
   "outputs": [
    {
     "data": {
      "text/plain": [
       "'192.168.1.36'"
      ]
     },
     "execution_count": 37,
     "metadata": {},
     "output_type": "execute_result"
    }
   ],
   "source": [
    "en0_ip_address"
   ]
  },
  {
   "cell_type": "code",
   "execution_count": 38,
   "id": "21fe54c7-3986-4edd-8843-a4c9d183ba88",
   "metadata": {
    "tags": []
   },
   "outputs": [],
   "source": [
    "# run ifconfig command to get IP address of en1 interface\n",
    "result_en1 = subprocess.run(['ifconfig', 'en1'], capture_output=True, text=True)"
   ]
  },
  {
   "cell_type": "code",
   "execution_count": 39,
   "id": "9f246075-0f94-4b26-b795-a07ed3b81e26",
   "metadata": {
    "tags": []
   },
   "outputs": [
    {
     "name": "stdout",
     "output_type": "stream",
     "text": [
      "IP address of en0: 172.20.10.4\n"
     ]
    }
   ],
   "source": [
    "# parse output to get IP address\n",
    "output_lines_en1 = result_en1.stdout.split('\\n')\n",
    "for line in output_lines_en1:\n",
    "    if 'inet ' in line:\n",
    "        en1_ip_address = line.split('inet ')[1].split(' ')[0]\n",
    "        print(f'IP address of en0: {en1_ip_address}')\n",
    "        break"
   ]
  },
  {
   "cell_type": "code",
   "execution_count": 40,
   "id": "895637e1-db10-42de-9dfd-f3331bb4cbc7",
   "metadata": {
    "tags": []
   },
   "outputs": [
    {
     "data": {
      "text/plain": [
       "'172.20.10.4'"
      ]
     },
     "execution_count": 40,
     "metadata": {},
     "output_type": "execute_result"
    }
   ],
   "source": [
    "en1_ip_address"
   ]
  },
  {
   "cell_type": "code",
   "execution_count": 42,
   "id": "afadc334-cdf2-457c-94e7-c3258ef40487",
   "metadata": {
    "tags": []
   },
   "outputs": [],
   "source": [
    "# you will need to brew install speedtest for this and restart your kernel and run all cells\n",
    "# Run the speedtest command and capture the output\n",
    "result = subprocess.run(['speedtest', '--json'], capture_output=True, text=True)"
   ]
  },
  {
   "cell_type": "code",
   "execution_count": 41,
   "id": "7c963f55-025c-4661-b5ea-67617c55bd81",
   "metadata": {
    "tags": []
   },
   "outputs": [
    {
     "name": "stdout",
     "output_type": "stream",
     "text": [
      "Download speed: 769.35 Mbps\n",
      "Upload speed: 28.28 Mbps\n",
      "Ping: 16.17 ms\n",
      "Server URL: http://speedtest.wdc1.us.leaseweb.net:8080/speedtest/upload.php\n",
      "Server location: Manassas, VA\n"
     ]
    }
   ],
   "source": [
    "# Extract the JSON data from the output\n",
    "json_data = result.stdout.strip()\n",
    "\n",
    "# Parse the JSON data into a Python object\n",
    "parsed_data = json.loads(json_data)\n",
    "\n",
    "# Access the values in the parsed data as needed\n",
    "download_speed = parsed_data['download']\n",
    "upload_speed = parsed_data['upload']\n",
    "ping = parsed_data['ping']\n",
    "server_url = parsed_data['server']['url']\n",
    "server_location = parsed_data['server']['name']\n",
    "\n",
    "# Print the results\n",
    "#print(f'Download speed: {download_speed/1000000}')\n",
    "print(f'Download speed: {round(download_speed/1000000, 2)} Mbps')\n",
    "print(f'Upload speed: {round(upload_speed/1000000, 2)} Mbps')\n",
    "print(f'Ping: {ping} ms')\n",
    "print(f'Server URL: {server_url}')\n",
    "print(f'Server location: {server_location}')"
   ]
  },
  {
   "cell_type": "code",
   "execution_count": null,
   "id": "bd888dd8-3923-4b20-a395-d56dac1fdb71",
   "metadata": {},
   "outputs": [],
   "source": []
  }
 ],
 "metadata": {
  "kernelspec": {
   "display_name": "Python 3 (ipykernel)",
   "language": "python",
   "name": "python3"
  },
  "language_info": {
   "codemirror_mode": {
    "name": "ipython",
    "version": 3
   },
   "file_extension": ".py",
   "mimetype": "text/x-python",
   "name": "python",
   "nbconvert_exporter": "python",
   "pygments_lexer": "ipython3",
   "version": "3.9.16"
  }
 },
 "nbformat": 4,
 "nbformat_minor": 5
}
