{
 "cells": [
  {
   "cell_type": "markdown",
   "id": "acea3f6e-d206-4f3a-b489-d4f0aef6c7a1",
   "metadata": {},
   "source": [
    "# Virginia Beach Personal Property Tax Calculator"
   ]
  },
  {
   "cell_type": "markdown",
   "id": "9c788f59-fdcc-4906-baed-ec180093df94",
   "metadata": {},
   "source": [
    "The [office](https://www.vbgov.com/government/departments/city-treasurer/Taxes-and-Other-Collections/pages/personal-property.aspx) uses the [NADA](https://www.nada.org/nada/consumer-vehicle-values), national auto dealers association book to asses vehicles. \n",
    "\n",
    "- The `tax rate` for 2023 is _4.00 per one hundred dollars of the assessment_. \n",
    "\n",
    "- If the vehicle is used for personal use you will receive tax relief of `48.2% on the first 20,000 of the assessment`.  \n",
    "\n",
    "- `Anything after the first 20 thousand you will pay the straight 4.0%.`\n",
    "\n",
    "City council votes on the tax relief/tax rates every year. We have no way of knowing what the taxes will be every year. Since covid, we have seen assessments go up not down unfortunately. Also we have not yet received the 2023 Nada book assessments yet. Please check back mid April for a more accurate estimate of your tax for 2023. Thank you.\n",
    "\n",
    "Let's check the NADA assessed value for a 2016 Mercedes Sprinter 3500. Its max value is equal to 31750."
   ]
  },
  {
   "cell_type": "code",
   "execution_count": 19,
   "id": "89b396eb-025c-446b-87c1-89b188fddc50",
   "metadata": {
    "tags": []
   },
   "outputs": [
    {
     "name": "stdout",
     "output_type": "stream",
     "text": [
      "NADA Value:  31750\n",
      "-------------------------\n",
      "Tax Relief on first 20k:  9640.0\n",
      "-------------------------\n",
      "Subtract tax relief from NADA Value:  22110.0\n",
      "-------------------------\n",
      "Anything after the first 20k:  2110.0\n",
      "-------------------------\n",
      "Tax rate on First 20k:  800.0\n",
      "-------------------------\n",
      "Total Personal Property Tax Owed:  884.4\n"
     ]
    }
   ],
   "source": [
    "# current NADA assessed vehicle value\n",
    "NADA_Value = 31750\n",
    "print(\"NADA Value: \", NADA_Value)\n",
    "print(\"-------------------------\")\n",
    "\n",
    "# tax relieve on first 20000\n",
    "Tax_Relief = (.482 * 20000)\n",
    "print(\"Tax Relief on first 20k: \",Tax_Relief)\n",
    "print(\"-------------------------\")\n",
    "\n",
    "# subtract tax relief from NADA_Value \n",
    "Leftover = (NADA_Value - Tax_Relief)\n",
    "print(\"Subtract tax relief from NADA Value: \", Leftover)\n",
    "print(\"-------------------------\")\n",
    "\n",
    "#anything after the first 20k \n",
    "AnythingAfter = (Leftover - 20000)\n",
    "print(\"Anything after the first 20k: \", AnythingAfter)\n",
    "print(\"-------------------------\")\n",
    "\n",
    "#tax rate for 2023 is $4.00 per one hundred dollars of the assessment.\n",
    "First_20k = (20000 / 100) * 4 \n",
    "print(\"Tax rate on First 20k: \", First_20k)\n",
    "print(\"-------------------------\")\n",
    "\n",
    "# Total\n",
    "Total = First_20k + AnythingAfter * .04\n",
    "print(\"Total Personal Property Tax Owed: \", Total)\n"
   ]
  },
  {
   "cell_type": "code",
   "execution_count": null,
   "id": "b5b23deb-d141-4746-8fbf-aa8924259b44",
   "metadata": {},
   "outputs": [],
   "source": []
  }
 ],
 "metadata": {
  "kernelspec": {
   "display_name": "Python 3 (ipykernel)",
   "language": "python",
   "name": "python3"
  },
  "language_info": {
   "codemirror_mode": {
    "name": "ipython",
    "version": 3
   },
   "file_extension": ".py",
   "mimetype": "text/x-python",
   "name": "python",
   "nbconvert_exporter": "python",
   "pygments_lexer": "ipython3",
   "version": "3.9.16"
  }
 },
 "nbformat": 4,
 "nbformat_minor": 5
}
