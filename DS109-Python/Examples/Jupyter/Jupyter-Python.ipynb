{
 "cells": [
  {
   "cell_type": "code",
   "execution_count": 1,
   "id": "93e785c4-086f-4c7b-bd95-211472e2240f",
   "metadata": {
    "tags": []
   },
   "outputs": [
    {
     "name": "stdout",
     "output_type": "stream",
     "text": [
      "3.9.17 (main, Jun 20 2023, 17:20:08) \n",
      "[Clang 14.0.3 (clang-1403.0.22.14.1)]\n"
     ]
    }
   ],
   "source": [
    "# determine which python version your Jupyter notebook is using\n",
    "import sys\n",
    "print(sys.version)"
   ]
  },
  {
   "cell_type": "code",
   "execution_count": 2,
   "id": "213d9d40-7994-421f-bb68-7369e90325f6",
   "metadata": {
    "tags": []
   },
   "outputs": [
    {
     "name": "stdout",
     "output_type": "stream",
     "text": [
      "['/Users/jsr/Documents/GitHub/DS-Student-Resources/DS109-Python/Examples/Jupyter', '/usr/local/Cellar/python@3.9/3.9.17_1/Frameworks/Python.framework/Versions/3.9/lib/python39.zip', '/usr/local/Cellar/python@3.9/3.9.17_1/Frameworks/Python.framework/Versions/3.9/lib/python3.9', '/usr/local/Cellar/python@3.9/3.9.17_1/Frameworks/Python.framework/Versions/3.9/lib/python3.9/lib-dynload', '', '/Users/jsr/Library/Python/3.9/lib/python/site-packages', '/usr/local/lib/python3.9/site-packages']\n"
     ]
    }
   ],
   "source": [
    "print(sys.path)"
   ]
  },
  {
   "cell_type": "code",
   "execution_count": 1,
   "id": "04589e4d-0a21-4273-91a3-e7f6fc5949df",
   "metadata": {
    "tags": []
   },
   "outputs": [
    {
     "name": "stdout",
     "output_type": "stream",
     "text": [
      "Python versions found on this computer:\n",
      " - Python 3.1 (3.1) at /usr/local/bin/python3.11-config\n",
      " - Python 3.9 (3.9) at /usr/local/bin/python3.9\n"
     ]
    }
   ],
   "source": [
    "# list python versions on your computer\n",
    "import os\n",
    "import subprocess\n",
    "\n",
    "# Get the paths where Python looks for installed modules\n",
    "paths = os.environ['PATH'].split(':')\n",
    "\n",
    "# Search for the Python executables in each path\n",
    "versions = {}\n",
    "for path in paths:\n",
    "    if os.path.isdir(path):\n",
    "        files = os.listdir(path)\n",
    "        for file in files:\n",
    "            if file.startswith(\"python\") and len(file) > 6 and file[6].isdigit():\n",
    "                version = file.split(\"python\")[1][:3]\n",
    "                if \".\" in version:\n",
    "                    major_version, minor_version, *_ = version.split(\".\")\n",
    "                    path_to_python = os.path.join(path, file)\n",
    "                    versions[version] = {\n",
    "                        \"major_version\": major_version,\n",
    "                        \"minor_version\": minor_version,\n",
    "                        \"path\": path_to_python\n",
    "                    }\n",
    "\n",
    "# Check conda locations for Python executables\n",
    "conda_prefix = os.environ.get('CONDA_PREFIX')\n",
    "if conda_prefix:\n",
    "    conda_bin = os.path.join(conda_prefix, 'bin')\n",
    "    if os.path.isdir(conda_bin):\n",
    "        files = os.listdir(conda_bin)\n",
    "        for file in files:\n",
    "            if file.startswith(\"python\") and len(file) > 6 and file[6].isdigit():\n",
    "                version = file.split(\"python\")[1][:3]\n",
    "                if \".\" in version:\n",
    "                    major_version, minor_version, *_ = version.split(\".\")\n",
    "                    path_to_python = os.path.join(conda_bin, file)\n",
    "                    versions[version] = {\n",
    "                        \"major_version\": major_version,\n",
    "                        \"minor_version\": minor_version,\n",
    "                        \"path\": path_to_python\n",
    "                    }\n",
    "\n",
    "# Check homebrew locations for Python executables\n",
    "homebrew_prefix = subprocess.getoutput(\"brew --prefix\")\n",
    "homebrew_bin = os.path.join(homebrew_prefix, \"bin\")\n",
    "if os.path.isdir(homebrew_bin):\n",
    "    files = os.listdir(homebrew_bin)\n",
    "    for file in files:\n",
    "        if file.startswith(\"python\") and len(file) > 6 and file[6].isdigit():\n",
    "            version = file.split(\"python\")[1][:3]\n",
    "            if \".\" in version:\n",
    "                major_version, minor_version, *_ = version.split(\".\")\n",
    "                path_to_python = os.path.join(homebrew_bin, file)\n",
    "                versions[version] = {\n",
    "                    \"major_version\": major_version,\n",
    "                    \"minor_version\": minor_version,\n",
    "                    \"path\": path_to_python\n",
    "                }\n",
    "\n",
    "# Print the list of Python versions found\n",
    "print(\"Python versions found on this computer:\")\n",
    "for version in sorted(versions.keys()):\n",
    "    major_version = versions[version][\"major_version\"]\n",
    "    minor_version = versions[version][\"minor_version\"]\n",
    "    path_to_python = versions[version][\"path\"]\n",
    "    print(f\" - Python {major_version}.{minor_version} ({version}) at {path_to_python}\")\n"
   ]
  },
  {
   "cell_type": "markdown",
   "id": "414a20ce-f34c-4ecc-ae26-db03229cdc37",
   "metadata": {
    "tags": []
   },
   "source": [
    "## Steps use Python 3.11\n",
    "###  1. Install the IPython kernel package for Python 3.11:\n",
    " `pip install ipykernel`\n",
    "### 2. Create a new kernel using the following command:\n",
    " `python3.11 -m ipykernel install --user --name mykernel --display-name \"Python 3.11\"`\n",
    "### 3. to edit the name for any given kernelspec\n",
    "  `jupyter kernelspec list`\n",
    "### cd into the directory listed\n",
    "### edit the kernel.json and change the display_name field example: \"display_name\": \"R 4.3.0\",\n"
   ]
  },
  {
   "cell_type": "code",
   "execution_count": 2,
   "id": "3cd372cb-8bc1-4c2f-90f0-fdb41c6bfed7",
   "metadata": {},
   "outputs": [
    {
     "name": "stdout",
     "output_type": "stream",
     "text": [
      "3.11.4 (main, Jun 20 2023, 16:59:59) [Clang 14.0.3 (clang-1403.0.22.14.1)]\n"
     ]
    }
   ],
   "source": [
    "# determine which python version your Jupyter notebook is using after you have installed the new kernel and switching to Python 3.11\n",
    "import sys\n",
    "print(sys.version)"
   ]
  },
  {
   "cell_type": "code",
   "execution_count": 3,
   "id": "c1659d9d-b573-44b8-8bb1-0bda71673939",
   "metadata": {
    "tags": []
   },
   "outputs": [
    {
     "name": "stdout",
     "output_type": "stream",
     "text": [
      "['/Users/jsr/Documents/GitHub/DS-Student-Resources/DS109-Python/Examples/Jupyter', '/usr/local/Cellar/python@3.11/3.11.4_1/Frameworks/Python.framework/Versions/3.11/lib/python311.zip', '/usr/local/Cellar/python@3.11/3.11.4_1/Frameworks/Python.framework/Versions/3.11/lib/python3.11', '/usr/local/Cellar/python@3.11/3.11.4_1/Frameworks/Python.framework/Versions/3.11/lib/python3.11/lib-dynload', '', '/usr/local/lib/python3.11/site-packages', '/usr/local/opt/python-tk@3.11/libexec']\n"
     ]
    }
   ],
   "source": [
    "print(sys.path)"
   ]
  },
  {
   "cell_type": "code",
   "execution_count": null,
   "id": "4fd5a557-2948-4500-880b-bf4b1d6bf044",
   "metadata": {},
   "outputs": [],
   "source": []
  }
 ],
 "metadata": {
  "kernelspec": {
   "display_name": "Python 3.11.4",
   "language": "python",
   "name": "mykernel"
  },
  "language_info": {
   "codemirror_mode": {
    "name": "ipython",
    "version": 3
   },
   "file_extension": ".py",
   "mimetype": "text/x-python",
   "name": "python",
   "nbconvert_exporter": "python",
   "pygments_lexer": "ipython3",
   "version": "3.11.4"
  }
 },
 "nbformat": 4,
 "nbformat_minor": 5
}
