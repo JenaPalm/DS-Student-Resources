{
 "cells": [
  {
   "cell_type": "markdown",
   "id": "c9612ef9-7e2c-4efd-a0b4-2006fe2a4a4d",
   "metadata": {},
   "source": [
    "# Looping through Data Structures\n",
    "\n",
    "|String   |List   |Tuple    |Set    |Dictionary|\n",
    "|:------   |:----   |:-----    |:---    |:----------|\n",
    "|immutable|mutable|immutable|mutable|mutable|\n",
    "|ordered/indexed|ordered/indexed|ordered/indexed|unordered|unordered|\n",
    "|allows duplicate members|allows duplicate members|allows duplicate members|does not allow duplicate members|does not allow duplicate keys|"
   ]
  },
  {
   "cell_type": "markdown",
   "id": "67ee7ed1-bd37-4161-96d2-2df24a9aa1fa",
   "metadata": {},
   "source": [
    "## Looping through a String\n",
    "\n",
    "### Using a for loop:"
   ]
  },
  {
   "cell_type": "code",
   "execution_count": 1,
   "id": "6713e673-20e4-4787-a806-77e9ff0ed675",
   "metadata": {},
   "outputs": [
    {
     "name": "stdout",
     "output_type": "stream",
     "text": [
      "H\n",
      "e\n",
      "l\n",
      "l\n",
      "o\n",
      " \n",
      "W\n",
      "o\n",
      "r\n",
      "l\n",
      "d\n"
     ]
    }
   ],
   "source": [
    "string = \"Hello World\"\n",
    "for char in string:\n",
    "    print(char)"
   ]
  },
  {
   "cell_type": "markdown",
   "id": "5233e4f8-56a9-417a-ad47-47c095eb192b",
   "metadata": {},
   "source": [
    "### Using a while loop:"
   ]
  },
  {
   "cell_type": "code",
   "execution_count": 2,
   "id": "03a886f1-b993-43ab-9199-4f62e4df36d8",
   "metadata": {},
   "outputs": [
    {
     "name": "stdout",
     "output_type": "stream",
     "text": [
      "H\n",
      "e\n",
      "l\n",
      "l\n",
      "o\n",
      " \n",
      "W\n",
      "o\n",
      "r\n",
      "l\n",
      "d\n"
     ]
    }
   ],
   "source": [
    "string = \"Hello World\"\n",
    "i = 0\n",
    "while i < len(string):\n",
    "    print(string[i])\n",
    "    i += 1"
   ]
  },
  {
   "cell_type": "markdown",
   "id": "b02dbb51-1e4a-4297-a34f-397d2662c367",
   "metadata": {},
   "source": [
    "### Using the enumerate() function:"
   ]
  },
  {
   "cell_type": "code",
   "execution_count": 4,
   "id": "81bd27f5-29ee-4294-9446-8c263fafa073",
   "metadata": {},
   "outputs": [
    {
     "name": "stdout",
     "output_type": "stream",
     "text": [
      "0 H\n",
      "1 e\n",
      "2 l\n",
      "3 l\n",
      "4 o\n",
      "5  \n",
      "6 W\n",
      "7 o\n",
      "8 r\n",
      "9 l\n",
      "10 d\n"
     ]
    }
   ],
   "source": [
    "string = \"Hello World\"\n",
    "for i, char in enumerate(string):\n",
    "    print(i, char)"
   ]
  },
  {
   "cell_type": "markdown",
   "id": "1b9fa8e3-3ec6-4448-a5c3-518ae5b5a832",
   "metadata": {},
   "source": [
    "### Using list comprehension:"
   ]
  },
  {
   "cell_type": "code",
   "execution_count": 3,
   "id": "62b38b65-251b-48ea-b142-69e237f66df2",
   "metadata": {},
   "outputs": [
    {
     "name": "stdout",
     "output_type": "stream",
     "text": [
      "H\n",
      "e\n",
      "l\n",
      "l\n",
      "o\n",
      " \n",
      "W\n",
      "o\n",
      "r\n",
      "l\n",
      "d\n"
     ]
    },
    {
     "data": {
      "text/plain": [
       "[None, None, None, None, None, None, None, None, None, None, None]"
      ]
     },
     "execution_count": 3,
     "metadata": {},
     "output_type": "execute_result"
    }
   ],
   "source": [
    "string = \"Hello World\"\n",
    "[print(char) for char in string]"
   ]
  },
  {
   "cell_type": "markdown",
   "id": "789b5290-5be2-4da2-99ed-07327b24a76d",
   "metadata": {},
   "source": [
    "### Using the map() function:"
   ]
  },
  {
   "cell_type": "code",
   "execution_count": 5,
   "id": "d1932006-e8f0-4195-86c2-4c4940d2953c",
   "metadata": {},
   "outputs": [
    {
     "name": "stdout",
     "output_type": "stream",
     "text": [
      "H\n",
      "e\n",
      "l\n",
      "l\n",
      "o\n",
      " \n",
      "W\n",
      "o\n",
      "r\n",
      "l\n",
      "d\n"
     ]
    },
    {
     "data": {
      "text/plain": [
       "[None, None, None, None, None, None, None, None, None, None, None]"
      ]
     },
     "execution_count": 5,
     "metadata": {},
     "output_type": "execute_result"
    }
   ],
   "source": [
    "string = \"Hello World\"\n",
    "list(map(print,string))"
   ]
  },
  {
   "cell_type": "markdown",
   "id": "ea167ed7-0179-40ba-95e0-62057a5bd71c",
   "metadata": {},
   "source": [
    "### Using the filter() function:"
   ]
  },
  {
   "cell_type": "code",
   "execution_count": 6,
   "id": "74f2eb30-e8d2-45d4-937b-13d866c454c5",
   "metadata": {},
   "outputs": [
    {
     "name": "stdout",
     "output_type": "stream",
     "text": [
      "H\n",
      "e\n",
      "l\n",
      "l\n",
      "o\n",
      " \n",
      "W\n",
      "o\n",
      "r\n",
      "l\n",
      "d\n"
     ]
    },
    {
     "data": {
      "text/plain": [
       "[]"
      ]
     },
     "execution_count": 6,
     "metadata": {},
     "output_type": "execute_result"
    }
   ],
   "source": [
    "string = \"Hello World\"\n",
    "list(filter(lambda x:print(x),string))"
   ]
  },
  {
   "cell_type": "markdown",
   "id": "06015234-8d4c-4bcb-abf9-59b362086d15",
   "metadata": {},
   "source": [
    "## Looping through a List\n",
    "\n",
    "### Using a for loop:"
   ]
  },
  {
   "cell_type": "code",
   "execution_count": 7,
   "id": "7f314cef-6232-4197-a892-f25cdcc017f6",
   "metadata": {},
   "outputs": [
    {
     "name": "stdout",
     "output_type": "stream",
     "text": [
      "1\n",
      "2\n",
      "3\n",
      "4\n",
      "5\n"
     ]
    }
   ],
   "source": [
    "my_list = [1, 2, 3, 4, 5]\n",
    "for element in my_list:\n",
    "    print(element)"
   ]
  },
  {
   "cell_type": "code",
   "execution_count": 34,
   "id": "91f22a86-0ad4-4efe-91d2-e185b2f7680a",
   "metadata": {},
   "outputs": [
    {
     "name": "stdout",
     "output_type": "stream",
     "text": [
      "['W', 'o', 'w', '.', ' ', 'L', 'v', 'e', 'd', 't', 'h', 'i', 's', 'p', 'l', 'a', 'c', 'C', 'r', 'u', 'n', 'g', 'N', 'y', 'x', 'j', 'S', 'b', 'M', 'k', 'f', 'R', 'm', 'T', 'I', 'H', \"'\", 'A', ')', ',', '!', 'V', 'B', 'z', '-', '4', 'O', '2', '3', 'q', 'P', 'F', 'G', '5', '1', '0', 'E', 'Z', 'D', 'U', 'J', 'Y', 'K', '&', 'é', ':', ';', '9', '7', '(', 'X', '\"', '/', '8', 'Q', '$', '%', '+', '*', '?', '6', 'ê', '\\x96', '\\t', '\\n', '\\x85', 'å', '\\x97', '#', '[', ']']\n"
     ]
    }
   ],
   "source": [
    "#Find the unique characters:\n",
    "reviews = pd.read_csv('Data/reviews.csv')\n",
    "commentary = reviews['Review']\n",
    "list_of_characters = []\n",
    "for comment in commentary:\n",
    "    for char in comment:\n",
    "        if char not in list_of_characters:\n",
    "            list_of_characters.append(char)\n",
    "print(list_of_characters)"
   ]
  },
  {
   "cell_type": "markdown",
   "id": "f12486f3-1cb8-4b72-8159-e9a9524889b1",
   "metadata": {},
   "source": [
    "### Using a while loop:"
   ]
  },
  {
   "cell_type": "code",
   "execution_count": 8,
   "id": "64dba096-1e76-4647-86a8-d40a9bc0c35f",
   "metadata": {},
   "outputs": [
    {
     "name": "stdout",
     "output_type": "stream",
     "text": [
      "1\n",
      "2\n",
      "3\n",
      "4\n",
      "5\n"
     ]
    }
   ],
   "source": [
    "my_list = [1, 2, 3, 4, 5]\n",
    "i = 0\n",
    "while i < len(my_list):\n",
    "    print(my_list[i])\n",
    "    i += 1"
   ]
  },
  {
   "cell_type": "markdown",
   "id": "89cfb0b5-dc78-4b7a-a14a-60b825bd96fc",
   "metadata": {},
   "source": [
    "### Using the enumerate() function:"
   ]
  },
  {
   "cell_type": "code",
   "execution_count": 9,
   "id": "0f061a82-3515-4c27-837a-7bd373f44920",
   "metadata": {},
   "outputs": [
    {
     "name": "stdout",
     "output_type": "stream",
     "text": [
      "0 1\n",
      "1 2\n",
      "2 3\n",
      "3 4\n",
      "4 5\n"
     ]
    }
   ],
   "source": [
    "my_list = [1, 2, 3, 4, 5]\n",
    "for i, element in enumerate(my_list):\n",
    "    print(i, element)"
   ]
  },
  {
   "cell_type": "markdown",
   "id": "ef7836b3-6d27-40e3-a667-6cc8046b75d1",
   "metadata": {},
   "source": [
    "### Using list comprehension:"
   ]
  },
  {
   "cell_type": "code",
   "execution_count": 10,
   "id": "75598c44-a99c-4caa-9412-d3b6b6c76dd3",
   "metadata": {},
   "outputs": [
    {
     "name": "stdout",
     "output_type": "stream",
     "text": [
      "1\n",
      "2\n",
      "3\n",
      "4\n",
      "5\n"
     ]
    },
    {
     "data": {
      "text/plain": [
       "[None, None, None, None, None]"
      ]
     },
     "execution_count": 10,
     "metadata": {},
     "output_type": "execute_result"
    }
   ],
   "source": [
    "my_list = [1, 2, 3, 4, 5]\n",
    "[print(element) for element in my_list]"
   ]
  },
  {
   "cell_type": "markdown",
   "id": "85c4991e-11e0-481c-b96e-6198d5d6329c",
   "metadata": {},
   "source": [
    "### Using the map() function:"
   ]
  },
  {
   "cell_type": "code",
   "execution_count": 11,
   "id": "9faf2491-2572-4f58-ab07-be68dcb5df9e",
   "metadata": {},
   "outputs": [
    {
     "name": "stdout",
     "output_type": "stream",
     "text": [
      "1\n",
      "2\n",
      "3\n",
      "4\n",
      "5\n"
     ]
    },
    {
     "data": {
      "text/plain": [
       "[None, None, None, None, None]"
      ]
     },
     "execution_count": 11,
     "metadata": {},
     "output_type": "execute_result"
    }
   ],
   "source": [
    "my_list = [1, 2, 3, 4, 5]\n",
    "list(map(print, my_list))"
   ]
  },
  {
   "cell_type": "markdown",
   "id": "1b564e62-6c61-4fb5-856d-d1d93ba110e7",
   "metadata": {},
   "source": [
    "### Using the filter() function:"
   ]
  },
  {
   "cell_type": "code",
   "execution_count": 12,
   "id": "28a567b0-152a-4ac2-aa66-0c646bb5beb9",
   "metadata": {},
   "outputs": [
    {
     "name": "stdout",
     "output_type": "stream",
     "text": [
      "1\n",
      "2\n",
      "3\n",
      "4\n",
      "5\n"
     ]
    },
    {
     "data": {
      "text/plain": [
       "[]"
      ]
     },
     "execution_count": 12,
     "metadata": {},
     "output_type": "execute_result"
    }
   ],
   "source": [
    "my_list = [1, 2, 3, 4, 5]\n",
    "list(filter(lambda x:print(x),my_list))"
   ]
  },
  {
   "cell_type": "markdown",
   "id": "05752575-3646-49a4-943e-e210e1fa472a",
   "metadata": {},
   "source": [
    "### Using for...else loop :"
   ]
  },
  {
   "cell_type": "code",
   "execution_count": 13,
   "id": "f739b317-b63c-4e14-a8ff-9bcdbb8b4ea9",
   "metadata": {},
   "outputs": [
    {
     "name": "stdout",
     "output_type": "stream",
     "text": [
      "1\n",
      "2\n"
     ]
    }
   ],
   "source": [
    "my_list = [1, 2, 3, 4, 5]\n",
    "for element in my_list:\n",
    "    if element == 3:\n",
    "        break\n",
    "    print(element)\n",
    "else:\n",
    "    print(\"Loop ended normally.\")"
   ]
  },
  {
   "cell_type": "markdown",
   "id": "e11c2a04-0406-4e08-aaed-c90b22ddbe15",
   "metadata": {},
   "source": [
    "### Using itertools.count() and zip():"
   ]
  },
  {
   "cell_type": "code",
   "execution_count": 14,
   "id": "a9f035e8-2897-43f8-a951-b5d46b1126e4",
   "metadata": {},
   "outputs": [
    {
     "name": "stdout",
     "output_type": "stream",
     "text": [
      "0 1\n",
      "1 2\n",
      "2 3\n",
      "3 4\n",
      "4 5\n"
     ]
    }
   ],
   "source": [
    "from itertools import count\n",
    "my_list = [1, 2, 3, 4, 5]\n",
    "for i, element in zip(count(), my_list):\n",
    "    print(i, element)"
   ]
  },
  {
   "cell_type": "markdown",
   "id": "7f581eec-8306-41f4-9635-0922b95aa452",
   "metadata": {},
   "source": [
    "## Looping through a Tuple\n",
    "\n",
    "### Using a for loop:"
   ]
  },
  {
   "cell_type": "code",
   "execution_count": 15,
   "id": "ddd4a8d6-2a16-42c1-b3ba-2e7666feabb9",
   "metadata": {},
   "outputs": [
    {
     "name": "stdout",
     "output_type": "stream",
     "text": [
      "1\n",
      "2\n",
      "3\n",
      "4\n",
      "5\n"
     ]
    }
   ],
   "source": [
    "my_tuple = (1, 2, 3, 4, 5)\n",
    "for element in my_tuple:\n",
    "    print(element)"
   ]
  },
  {
   "cell_type": "markdown",
   "id": "1d8360d9-4830-4c0f-b44f-35a2d9ad4089",
   "metadata": {},
   "source": [
    "### Using a while loop:"
   ]
  },
  {
   "cell_type": "code",
   "execution_count": 16,
   "id": "306b9b95-b994-4317-bee9-f7c065e97d61",
   "metadata": {},
   "outputs": [
    {
     "name": "stdout",
     "output_type": "stream",
     "text": [
      "1\n",
      "2\n",
      "3\n",
      "4\n",
      "5\n"
     ]
    }
   ],
   "source": [
    "my_tuple = (1, 2, 3, 4, 5)\n",
    "i = 0\n",
    "while i < len(my_tuple):\n",
    "    print(my_tuple[i])\n",
    "    i += 1"
   ]
  },
  {
   "cell_type": "markdown",
   "id": "009ddbdf-ed93-4451-9d59-8f7d0900f578",
   "metadata": {},
   "source": [
    "### Using the enumerate() function:"
   ]
  },
  {
   "cell_type": "code",
   "execution_count": 17,
   "id": "428a0ee6-9372-4472-8aec-7ec96a93505f",
   "metadata": {},
   "outputs": [
    {
     "name": "stdout",
     "output_type": "stream",
     "text": [
      "0 1\n",
      "1 2\n",
      "2 3\n",
      "3 4\n",
      "4 5\n"
     ]
    }
   ],
   "source": [
    "my_tuple = (1, 2, 3, 4, 5)\n",
    "for i, element in enumerate(my_tuple):\n",
    "    print(i, element)"
   ]
  },
  {
   "cell_type": "markdown",
   "id": "f824aecc-2e06-4727-8297-98e537679413",
   "metadata": {},
   "source": [
    "### Using list comprehension:"
   ]
  },
  {
   "cell_type": "code",
   "execution_count": 18,
   "id": "c38489ca-822d-4785-84ed-8ee11fdfd8d8",
   "metadata": {},
   "outputs": [
    {
     "name": "stdout",
     "output_type": "stream",
     "text": [
      "1\n",
      "2\n",
      "3\n",
      "4\n",
      "5\n"
     ]
    },
    {
     "data": {
      "text/plain": [
       "[None, None, None, None, None]"
      ]
     },
     "execution_count": 18,
     "metadata": {},
     "output_type": "execute_result"
    }
   ],
   "source": [
    "my_tuple = (1, 2, 3, 4, 5)\n",
    "[print(element) for element in my_tuple]"
   ]
  },
  {
   "cell_type": "markdown",
   "id": "19699883-043c-4eef-a558-96e93c36daae",
   "metadata": {},
   "source": [
    "### Using the map() function:"
   ]
  },
  {
   "cell_type": "code",
   "execution_count": 19,
   "id": "2d980d9c-a12b-4542-9423-747d4ff1597e",
   "metadata": {},
   "outputs": [
    {
     "name": "stdout",
     "output_type": "stream",
     "text": [
      "1\n",
      "2\n",
      "3\n",
      "4\n",
      "5\n"
     ]
    },
    {
     "data": {
      "text/plain": [
       "[None, None, None, None, None]"
      ]
     },
     "execution_count": 19,
     "metadata": {},
     "output_type": "execute_result"
    }
   ],
   "source": [
    "my_tuple = (1, 2, 3, 4, 5)\n",
    "list(map(print, my_tuple))"
   ]
  },
  {
   "cell_type": "markdown",
   "id": "d873e059-b533-49d8-a2ae-c04ee4f3b696",
   "metadata": {},
   "source": [
    "### Using the filter() function:"
   ]
  },
  {
   "cell_type": "code",
   "execution_count": 20,
   "id": "e93483e4-3965-4029-9d08-bca9af8623ff",
   "metadata": {},
   "outputs": [
    {
     "name": "stdout",
     "output_type": "stream",
     "text": [
      "1\n",
      "2\n",
      "3\n",
      "4\n",
      "5\n"
     ]
    },
    {
     "data": {
      "text/plain": [
       "[]"
      ]
     },
     "execution_count": 20,
     "metadata": {},
     "output_type": "execute_result"
    }
   ],
   "source": [
    "my_tuple = (1, 2, 3, 4, 5)\n",
    "list(filter(lambda x:print(x),my_tuple))"
   ]
  },
  {
   "cell_type": "markdown",
   "id": "fd05fafa-bb16-49f8-93de-6c393eb51f6d",
   "metadata": {},
   "source": [
    "### Using for...else loop :"
   ]
  },
  {
   "cell_type": "code",
   "execution_count": 21,
   "id": "25116da8-9954-40fa-89b1-81bba00c863f",
   "metadata": {},
   "outputs": [
    {
     "name": "stdout",
     "output_type": "stream",
     "text": [
      "1\n",
      "2\n"
     ]
    }
   ],
   "source": [
    "my_tuple = (1, 2, 3, 4, 5)\n",
    "for element in my_tuple:\n",
    "    if element == 3:\n",
    "        break\n",
    "    print(element)\n",
    "else:\n",
    "    print(\"Loop ended normally.\")"
   ]
  },
  {
   "cell_type": "markdown",
   "id": "41ec009d-717f-4965-97cd-d0b9f0df959a",
   "metadata": {},
   "source": [
    "### Using itertools.count() and zip():"
   ]
  },
  {
   "cell_type": "code",
   "execution_count": 22,
   "id": "f7ca8480-e833-4faf-838e-d3d835532afb",
   "metadata": {},
   "outputs": [
    {
     "name": "stdout",
     "output_type": "stream",
     "text": [
      "0 1\n",
      "1 2\n",
      "2 3\n",
      "3 4\n",
      "4 5\n"
     ]
    }
   ],
   "source": [
    "from itertools import count\n",
    "my_tuple = (1, 2, 3, 4, 5)\n",
    "for i, element in zip(count(), my_tuple):\n",
    "    print(i, element)"
   ]
  },
  {
   "cell_type": "markdown",
   "id": "a9c931d2-d64a-4e01-8b33-7bc0b5b44a5e",
   "metadata": {},
   "source": [
    "## Looping through a Set\n",
    "\n",
    "### Using a for loop:"
   ]
  },
  {
   "cell_type": "code",
   "execution_count": 23,
   "id": "b4f7f3a8-3cc7-410f-b3c6-fd032d89c2c0",
   "metadata": {},
   "outputs": [
    {
     "name": "stdout",
     "output_type": "stream",
     "text": [
      "1\n",
      "2\n",
      "3\n",
      "4\n",
      "5\n"
     ]
    }
   ],
   "source": [
    "my_set = {1, 2, 3, 4, 5}\n",
    "for item in my_set:\n",
    "    print(item)"
   ]
  },
  {
   "cell_type": "markdown",
   "id": "159e306c-2616-408f-bbc4-72c141fd1841",
   "metadata": {},
   "source": [
    "### Using the set's iterator:"
   ]
  },
  {
   "cell_type": "code",
   "execution_count": 24,
   "id": "4c3a577e-7a6a-4536-bd3a-d5d255fcc4b4",
   "metadata": {},
   "outputs": [
    {
     "name": "stdout",
     "output_type": "stream",
     "text": [
      "1\n",
      "2\n",
      "3\n",
      "4\n",
      "5\n"
     ]
    }
   ],
   "source": [
    "my_set = {1, 2, 3, 4, 5}\n",
    "for item in iter(my_set):\n",
    "    print(item)\n",
    "    "
   ]
  },
  {
   "cell_type": "markdown",
   "id": "ac8222fd-f93d-40d2-8b2e-350560500cf5",
   "metadata": {},
   "source": [
    "### Using the set's pop() method in a while loop:"
   ]
  },
  {
   "cell_type": "code",
   "execution_count": 25,
   "id": "328d4e48-9d6d-4f37-8c0c-0d4269c8dd7a",
   "metadata": {},
   "outputs": [
    {
     "name": "stdout",
     "output_type": "stream",
     "text": [
      "1\n",
      "2\n",
      "3\n",
      "4\n",
      "5\n"
     ]
    }
   ],
   "source": [
    "my_set = {1, 2, 3, 4, 5}\n",
    "while my_set:\n",
    "    item = my_set.pop()\n",
    "    print(item)"
   ]
  },
  {
   "cell_type": "code",
   "execution_count": 32,
   "id": "24337483-406f-4d6f-9bca-416080ce1f0b",
   "metadata": {},
   "outputs": [
    {
     "name": "stdout",
     "output_type": "stream",
     "text": [
      "8012\n"
     ]
    }
   ],
   "source": [
    "#Create a list of all the words in the dataset\n",
    "#reviews = pd.read_csv('Data/reviews.csv')\n",
    "words = []\n",
    "for review in reviews['Review']:\n",
    "    words += review.split()\n",
    "#Create a set of distinct words\n",
    "distinct_words = set(words)\n",
    "#Print the number of distinct words\n",
    "print((len(distinct_words)))"
   ]
  },
  {
   "cell_type": "markdown",
   "id": "c702b61b-081f-4ac6-bb2c-f3eb5e64e238",
   "metadata": {},
   "source": [
    "## Looping through a Dictionary\n",
    "\n",
    "### Using a for loop with the items() method:"
   ]
  },
  {
   "cell_type": "code",
   "execution_count": 26,
   "id": "5fa13468-1b7a-4bcd-bbcb-60845d338b05",
   "metadata": {},
   "outputs": [
    {
     "name": "stdout",
     "output_type": "stream",
     "text": [
      "a 1\n",
      "b 2\n",
      "c 3\n"
     ]
    }
   ],
   "source": [
    "my_dict = {'a': 1, 'b': 2, 'c': 3}\n",
    "for key, value in my_dict.items():\n",
    "    print(key, value)"
   ]
  },
  {
   "cell_type": "markdown",
   "id": "9b4caf53-070b-42e1-a801-2454fc741f5a",
   "metadata": {},
   "source": [
    "### Using a for loop with the keys() method:"
   ]
  },
  {
   "cell_type": "code",
   "execution_count": 27,
   "id": "e9ec3a9e-b769-4a7f-9804-3dc6994c676a",
   "metadata": {},
   "outputs": [
    {
     "name": "stdout",
     "output_type": "stream",
     "text": [
      "a 1\n",
      "b 2\n",
      "c 3\n"
     ]
    }
   ],
   "source": [
    "my_dict = {'a': 1, 'b': 2, 'c': 3}\n",
    "for key in my_dict.keys():\n",
    "    print(key, my_dict[key])"
   ]
  },
  {
   "cell_type": "markdown",
   "id": "f6cbafcc-ea9d-4904-bde4-b61464cb12c1",
   "metadata": {},
   "source": [
    "### Using a for loop with the values() method:"
   ]
  },
  {
   "cell_type": "code",
   "execution_count": 28,
   "id": "2a543d05-adc6-4cd5-b450-d0faa4dafff6",
   "metadata": {},
   "outputs": [
    {
     "name": "stdout",
     "output_type": "stream",
     "text": [
      "1\n",
      "2\n",
      "3\n"
     ]
    }
   ],
   "source": [
    "my_dict = {'a': 1, 'b': 2, 'c': 3}\n",
    "for value in my_dict.values():\n",
    "    print(value)"
   ]
  },
  {
   "cell_type": "markdown",
   "id": "d621df2d-6806-4ca8-b4f5-bf7e3052fa5a",
   "metadata": {},
   "source": [
    "### Using the items() method with a list comprehension"
   ]
  },
  {
   "cell_type": "code",
   "execution_count": 29,
   "id": "041a36f9-6eb1-4420-84f3-d5f0427ffc6d",
   "metadata": {},
   "outputs": [
    {
     "name": "stdout",
     "output_type": "stream",
     "text": [
      "a 1\n",
      "b 2\n",
      "c 3\n"
     ]
    },
    {
     "data": {
      "text/plain": [
       "[None, None, None]"
      ]
     },
     "execution_count": 29,
     "metadata": {},
     "output_type": "execute_result"
    }
   ],
   "source": [
    "my_dict = {'a': 1, 'b': 2, 'c': 3}\n",
    "[print(k, v) for k, v in my_dict.items()]"
   ]
  },
  {
   "cell_type": "markdown",
   "id": "9d2141c9-cd53-4e76-acd1-ec4dfa49a3a3",
   "metadata": {},
   "source": [
    "### Using the items() method with a dict comprehension"
   ]
  },
  {
   "cell_type": "code",
   "execution_count": 30,
   "id": "f7bd1041-c27b-4ad3-841b-e4feba8c593d",
   "metadata": {},
   "outputs": [
    {
     "data": {
      "text/plain": [
       "{'a': 1, 'b': 2, 'c': 3}"
      ]
     },
     "execution_count": 30,
     "metadata": {},
     "output_type": "execute_result"
    }
   ],
   "source": [
    "my_dict = {'a': 1, 'b': 2, 'c': 3}\n",
    "{k: v for k, v in my_dict.items()}"
   ]
  },
  {
   "cell_type": "markdown",
   "id": "9f5d777d-ceb2-4d81-8969-d4cc02828092",
   "metadata": {},
   "source": [
    "### Using enumerate method"
   ]
  },
  {
   "cell_type": "code",
   "execution_count": 31,
   "id": "51339a7c-d0c6-4a6b-8d07-f2ca5d975c59",
   "metadata": {},
   "outputs": [
    {
     "name": "stdout",
     "output_type": "stream",
     "text": [
      "0 a 1\n",
      "1 b 2\n",
      "2 c 3\n"
     ]
    }
   ],
   "source": [
    "my_dict = {'a': 1, 'b': 2, 'c': 3}\n",
    "for i, (k,v) in enumerate(my_dict.items()):\n",
    "    print(i,k,v)"
   ]
  },
  {
   "cell_type": "code",
   "execution_count": null,
   "id": "ffb49f38-fd5c-478c-958f-c300a3498958",
   "metadata": {},
   "outputs": [],
   "source": []
  }
 ],
 "metadata": {
  "kernelspec": {
   "display_name": "Python 3 (ipykernel)",
   "language": "python",
   "name": "python3"
  },
  "language_info": {
   "codemirror_mode": {
    "name": "ipython",
    "version": 3
   },
   "file_extension": ".py",
   "mimetype": "text/x-python",
   "name": "python",
   "nbconvert_exporter": "python",
   "pygments_lexer": "ipython3",
   "version": "3.9.16"
  }
 },
 "nbformat": 4,
 "nbformat_minor": 5
}
