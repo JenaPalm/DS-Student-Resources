{
 "cells": [
  {
   "cell_type": "markdown",
   "id": "be476c9a-d616-4caa-9224-f1fe32af2bb3",
   "metadata": {},
   "source": [
    "# Dictionaries in Python"
   ]
  },
  {
   "cell_type": "markdown",
   "id": "fc089137-9434-4050-b657-cdfaa93d2420",
   "metadata": {},
   "source": [
    "# Part 1"
   ]
  },
  {
   "cell_type": "code",
   "execution_count": 5,
   "id": "594f65ea-f922-46ea-9c89-905de92dfd6e",
   "metadata": {},
   "outputs": [],
   "source": [
    "# Creating a bigger dictonary\n",
    "my_dict_1 = {\n",
    "    'Name': 'Potion 1',\n",
    "    'Points': '45',\n",
    "    'Uses': 'healing, restore center'\n",
    "}\n",
    "\n",
    "my_dict_2 = {\n",
    "    'Name': 'Potion 2',\n",
    "    'Points': '20',\n",
    "    'Uses': 'healing, restore mana'\n",
    "}"
   ]
  },
  {
   "cell_type": "code",
   "execution_count": 6,
   "id": "177758e4-7b08-4a71-bd00-b0c221235677",
   "metadata": {},
   "outputs": [
    {
     "name": "stdout",
     "output_type": "stream",
     "text": [
      "Name: Potion 1\n",
      "Points: 45\n",
      "Uses: healing, restore center\n",
      "Name: Potion 2\n",
      "Points: 20\n",
      "Uses: healing, restore mana\n"
     ]
    }
   ],
   "source": [
    "# Iterate over key, value pairs in dictionary\n",
    "for k, v in my_dict_1.items():\n",
    "    print(k + ': ' + v)\n",
    "    \n",
    "for k, v in my_dict_2.items():\n",
    "    print(k + ': ' + v)    \n",
    "  "
   ]
  },
  {
   "cell_type": "markdown",
   "id": "04a820ab-4a20-4858-926f-d8065ac164e2",
   "metadata": {},
   "source": [
    "# Part 2"
   ]
  },
  {
   "cell_type": "code",
   "execution_count": 10,
   "id": "70fc86b3-16dc-4add-90ff-9354f74fd993",
   "metadata": {},
   "outputs": [],
   "source": [
    "# Create empty Dictionaries for each item\n",
    "item_1 = {}\n",
    "item_2 = {}\n",
    "item_3 = {}"
   ]
  },
  {
   "cell_type": "code",
   "execution_count": 11,
   "id": "5fa48509-c656-473e-a65f-603b7eb27e96",
   "metadata": {},
   "outputs": [],
   "source": [
    "# Add key, value pairs to dictionary\n",
    "item_1['Type'] = 'Magic Potion 1'\n",
    "item_1['Points'] = '22'\n",
    "\n",
    "item_2['Type'] = 'Magic Potion 2'\n",
    "item_2['Points'] = '32'\n",
    "\n",
    "item_3['Type'] = 'Magic Potion 3'\n",
    "item_3['Points'] = '33'"
   ]
  },
  {
   "cell_type": "code",
   "execution_count": 12,
   "id": "fca2b965-1281-4022-a34b-5befefe654fd",
   "metadata": {},
   "outputs": [
    {
     "name": "stdout",
     "output_type": "stream",
     "text": [
      "Type: Magic Potion 1\n",
      "Points: 22\n",
      "Type: Magic Potion 2\n",
      "Points: 32\n",
      "Type: Magic Potion 3\n",
      "Points: 33\n"
     ]
    }
   ],
   "source": [
    "# Iterate over key, value pairs in dictionary\n",
    "for k, v in item_1.items():\n",
    "    print(k + ': ' + v)\n",
    "    \n",
    "for k, v in item_2.items():\n",
    "    print(k + ': ' + v)\n",
    "    \n",
    "for k, v in item_3.items():\n",
    "    print(k + ': ' + v)"
   ]
  },
  {
   "cell_type": "markdown",
   "id": "c724dd7e-9ef2-41e2-813f-150357dfbe7f",
   "metadata": {},
   "source": [
    "# Part 3"
   ]
  },
  {
   "cell_type": "code",
   "execution_count": 16,
   "id": "f0351a5c-8e0e-4380-98f4-c529b753c34a",
   "metadata": {},
   "outputs": [],
   "source": [
    "# Create a dictionary called \"Bakery\" \n",
    "bakery = {\n",
    "\"name\" : \"Susan\",\n",
    "\"pie_size\" : \"medium\",\n",
    "\"crust\" : \"graham cracker\",\n",
    "\"fillings\" : \"apple cinnamon\"\n",
    "}"
   ]
  },
  {
   "cell_type": "code",
   "execution_count": 29,
   "id": "e4d8f972-603d-481f-8db8-a70cca621144",
   "metadata": {},
   "outputs": [
    {
     "name": "stdout",
     "output_type": "stream",
     "text": [
      "The customer, Susan is buying a medium pie with a graham cracker and apple cinnamon fillings!\n"
     ]
    }
   ],
   "source": [
    "print(\"The customer,\" , bakery.get(\"name\") , \"is buying a\" , bakery.get(\"pie_size\") , \"pie with a\" , bakery.get(\"crust\") , \"and\" , bakery.get(\"fillings\") , \"fillings!\")\n"
   ]
  }
 ],
 "metadata": {
  "kernelspec": {
   "display_name": "Python 3 (ipykernel)",
   "language": "python",
   "name": "python3"
  },
  "language_info": {
   "codemirror_mode": {
    "name": "ipython",
    "version": 3
   },
   "file_extension": ".py",
   "mimetype": "text/x-python",
   "name": "python",
   "nbconvert_exporter": "python",
   "pygments_lexer": "ipython3",
   "version": "3.9.10"
  }
 },
 "nbformat": 4,
 "nbformat_minor": 5
}
