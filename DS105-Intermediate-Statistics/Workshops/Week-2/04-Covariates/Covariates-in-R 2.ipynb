{
 "cells": [
  {
   "cell_type": "code",
   "execution_count": 2,
   "id": "153018c6-b3ab-4674-a04c-90f6f3383cf8",
   "metadata": {},
   "outputs": [
    {
     "name": "stderr",
     "output_type": "stream",
     "text": [
      "also installing the dependencies ‘proxy’, ‘rootSolve’, ‘e1071’, ‘lmom’, ‘TH.data’, ‘sandwich’, ‘mvtnorm’, ‘expm’, ‘Rcpp’, ‘Exact’, ‘gld’, ‘data.table’, ‘BH’, ‘libcoin’, ‘matrixStats’, ‘modeltools’, ‘multcomp’, ‘zoo’, ‘DescTools’, ‘multcompView’, ‘plyr’, ‘coin’, ‘lmtest’, ‘nortest’\n",
      "\n",
      "\n"
     ]
    },
    {
     "name": "stdout",
     "output_type": "stream",
     "text": [
      "\n",
      "The downloaded binary packages are in\n",
      "\t/var/folders/wk/6why77bn1kn0l0pkd4vd3zl00000gn/T//RtmpRYIfDD/downloaded_packages\n"
     ]
    },
    {
     "name": "stderr",
     "output_type": "stream",
     "text": [
      "also installing the dependencies ‘listenv’, ‘parallelly’, ‘future’, ‘globals’, ‘future.apply’, ‘progressr’, ‘SQUAREM’, ‘lava’, ‘colorspace’, ‘prodlim’, ‘farver’, ‘labeling’, ‘munsell’, ‘RColorBrewer’, ‘viridisLite’, ‘iterators’, ‘gower’, ‘ipred’, ‘lubridate’, ‘timeDate’, ‘gtable’, ‘isoband’, ‘scales’, ‘foreach’, ‘ModelMetrics’, ‘pROC’, ‘recipes’, ‘reshape2’, ‘backports’, ‘generics’, ‘tidyr’, ‘ggplot2’, ‘tidyselect’, ‘caret’, ‘RcppArmadillo’, ‘broom’, ‘dplyr’, ‘numDeriv’, ‘SparseM’, ‘MatrixModels’, ‘conquer’, ‘sp’, ‘minqa’, ‘nloptr’, ‘RcppEigen’, ‘carData’, ‘abind’, ‘pbkrtest’, ‘quantreg’, ‘maptools’, ‘lme4’\n",
      "\n",
      "\n"
     ]
    },
    {
     "name": "stdout",
     "output_type": "stream",
     "text": [
      "\n",
      "The downloaded binary packages are in\n",
      "\t/var/folders/wk/6why77bn1kn0l0pkd4vd3zl00000gn/T//RtmpRYIfDD/downloaded_packages\n"
     ]
    },
    {
     "name": "stderr",
     "output_type": "stream",
     "text": [
      "also installing the dependencies ‘DBI’, ‘mitools’, ‘survey’, ‘estimability’, ‘insight’\n",
      "\n",
      "\n"
     ]
    },
    {
     "name": "stdout",
     "output_type": "stream",
     "text": [
      "\n",
      "The downloaded binary packages are in\n",
      "\t/var/folders/wk/6why77bn1kn0l0pkd4vd3zl00000gn/T//RtmpRYIfDD/downloaded_packages\n",
      "\n",
      "The downloaded binary packages are in\n",
      "\t/var/folders/wk/6why77bn1kn0l0pkd4vd3zl00000gn/T//RtmpRYIfDD/downloaded_packages\n",
      "\n",
      "The downloaded binary packages are in\n",
      "\t/var/folders/wk/6why77bn1kn0l0pkd4vd3zl00000gn/T//RtmpRYIfDD/downloaded_packages\n"
     ]
    }
   ],
   "source": [
    "#### Install packages\n",
    "install.packages(\"rcompanion\")\n",
    "install.packages(\"car\")\n",
    "install.packages(\"effects\")\n",
    "install.packages(\"multcomp\")\n",
    "install.packages(\"dplyr\")"
   ]
  },
  {
   "cell_type": "code",
   "execution_count": 3,
   "id": "7d6dae3b-cfb4-4c8c-9199-907517cd0861",
   "metadata": {},
   "outputs": [
    {
     "name": "stderr",
     "output_type": "stream",
     "text": [
      "Loading required package: carData\n",
      "\n",
      "lattice theme set by effectsTheme()\n",
      "See ?effectsTheme for details.\n",
      "\n",
      "Loading required package: mvtnorm\n",
      "\n",
      "Loading required package: survival\n",
      "\n",
      "Loading required package: TH.data\n",
      "\n",
      "Loading required package: MASS\n",
      "\n",
      "\n",
      "Attaching package: ‘TH.data’\n",
      "\n",
      "\n",
      "The following object is masked from ‘package:MASS’:\n",
      "\n",
      "    geyser\n",
      "\n",
      "\n",
      "\n",
      "Attaching package: ‘dplyr’\n",
      "\n",
      "\n",
      "The following object is masked from ‘package:MASS’:\n",
      "\n",
      "    select\n",
      "\n",
      "\n",
      "The following object is masked from ‘package:car’:\n",
      "\n",
      "    recode\n",
      "\n",
      "\n",
      "The following objects are masked from ‘package:stats’:\n",
      "\n",
      "    filter, lag\n",
      "\n",
      "\n",
      "The following objects are masked from ‘package:base’:\n",
      "\n",
      "    intersect, setdiff, setequal, union\n",
      "\n",
      "\n"
     ]
    }
   ],
   "source": [
    "#### Use Packages\n",
    "library(rcompanion)\n",
    "library(car)\n",
    "library(effects)\n",
    "library(multcomp)\n",
    "library(dplyr)"
   ]
  },
  {
   "cell_type": "markdown",
   "id": "1af1fa23-a2e3-4243-92ed-f5586c8c1cf4",
   "metadata": {},
   "source": [
    "# Data Wrangling\n",
    "## Making this smaller just for the purposes of learning"
   ]
  },
  {
   "cell_type": "code",
   "execution_count": 5,
   "id": "c144e1d6-6ae8-4834-b441-25eead7c73af",
   "metadata": {},
   "outputs": [],
   "source": [
    "burritos = read.csv('burritos.csv')"
   ]
  },
  {
   "cell_type": "code",
   "execution_count": 6,
   "id": "8087b6aa-8ee9-4340-a5c2-07ad5c40b732",
   "metadata": {},
   "outputs": [],
   "source": [
    "burritos3 <- na.omit(burritos %>% select(Burrito, Cost, Reviewer) %>% filter(Burrito %in% c(\"Carne asada\",\"Carnitas\", \"California\")) %>% filter(Reviewer %in% c(\"Emily\", \"Sco \", \"Luis\")))"
   ]
  },
  {
   "cell_type": "code",
   "execution_count": 7,
   "id": "342f5522-5ac9-4abf-a167-a15bb9853248",
   "metadata": {},
   "outputs": [
    {
     "data": {
      "text/html": [
       "<table class=\"dataframe\">\n",
       "<caption>A data.frame: 20 × 3</caption>\n",
       "<thead>\n",
       "\t<tr><th></th><th scope=col>Burrito</th><th scope=col>Cost</th><th scope=col>Reviewer</th></tr>\n",
       "\t<tr><th></th><th scope=col>&lt;chr&gt;</th><th scope=col>&lt;dbl&gt;</th><th scope=col>&lt;chr&gt;</th></tr>\n",
       "</thead>\n",
       "<tbody>\n",
       "\t<tr><th scope=row>1</th><td>Carnitas   </td><td>4.85</td><td>Emily</td></tr>\n",
       "\t<tr><th scope=row>2</th><td>Carnitas   </td><td>6.99</td><td>Emily</td></tr>\n",
       "\t<tr><th scope=row>3</th><td>California </td><td>7.49</td><td>Emily</td></tr>\n",
       "\t<tr><th scope=row>4</th><td>California </td><td>7.49</td><td>Emily</td></tr>\n",
       "\t<tr><th scope=row>5</th><td>Carnitas   </td><td>6.60</td><td>Emily</td></tr>\n",
       "\t<tr><th scope=row>6</th><td>California </td><td>7.49</td><td>Luis </td></tr>\n",
       "\t<tr><th scope=row>7</th><td>Carnitas   </td><td>5.40</td><td>Emily</td></tr>\n",
       "\t<tr><th scope=row>8</th><td>Carne asada</td><td>5.25</td><td>Emily</td></tr>\n",
       "\t<tr><th scope=row>9</th><td>California </td><td>6.25</td><td>Emily</td></tr>\n",
       "\t<tr><th scope=row>10</th><td>California </td><td>6.99</td><td>Emily</td></tr>\n",
       "\t<tr><th scope=row>11</th><td>Carnitas   </td><td>7.15</td><td>Emily</td></tr>\n",
       "\t<tr><th scope=row>12</th><td>California </td><td>7.49</td><td>Luis </td></tr>\n",
       "\t<tr><th scope=row>13</th><td>Carnitas   </td><td>6.70</td><td>Emily</td></tr>\n",
       "\t<tr><th scope=row>14</th><td>Carne asada</td><td>6.49</td><td>Emily</td></tr>\n",
       "\t<tr><th scope=row>15</th><td>Carnitas   </td><td>7.35</td><td>Emily</td></tr>\n",
       "\t<tr><th scope=row>16</th><td>California </td><td>6.25</td><td>Emily</td></tr>\n",
       "\t<tr><th scope=row>17</th><td>California </td><td>7.75</td><td>Luis </td></tr>\n",
       "\t<tr><th scope=row>18</th><td>California </td><td>7.40</td><td>Emily</td></tr>\n",
       "\t<tr><th scope=row>19</th><td>California </td><td>7.89</td><td>Emily</td></tr>\n",
       "\t<tr><th scope=row>20</th><td>California </td><td>7.80</td><td>Emily</td></tr>\n",
       "</tbody>\n",
       "</table>\n"
      ],
      "text/latex": [
       "A data.frame: 20 × 3\n",
       "\\begin{tabular}{r|lll}\n",
       "  & Burrito & Cost & Reviewer\\\\\n",
       "  & <chr> & <dbl> & <chr>\\\\\n",
       "\\hline\n",
       "\t1 & Carnitas    & 4.85 & Emily\\\\\n",
       "\t2 & Carnitas    & 6.99 & Emily\\\\\n",
       "\t3 & California  & 7.49 & Emily\\\\\n",
       "\t4 & California  & 7.49 & Emily\\\\\n",
       "\t5 & Carnitas    & 6.60 & Emily\\\\\n",
       "\t6 & California  & 7.49 & Luis \\\\\n",
       "\t7 & Carnitas    & 5.40 & Emily\\\\\n",
       "\t8 & Carne asada & 5.25 & Emily\\\\\n",
       "\t9 & California  & 6.25 & Emily\\\\\n",
       "\t10 & California  & 6.99 & Emily\\\\\n",
       "\t11 & Carnitas    & 7.15 & Emily\\\\\n",
       "\t12 & California  & 7.49 & Luis \\\\\n",
       "\t13 & Carnitas    & 6.70 & Emily\\\\\n",
       "\t14 & Carne asada & 6.49 & Emily\\\\\n",
       "\t15 & Carnitas    & 7.35 & Emily\\\\\n",
       "\t16 & California  & 6.25 & Emily\\\\\n",
       "\t17 & California  & 7.75 & Luis \\\\\n",
       "\t18 & California  & 7.40 & Emily\\\\\n",
       "\t19 & California  & 7.89 & Emily\\\\\n",
       "\t20 & California  & 7.80 & Emily\\\\\n",
       "\\end{tabular}\n"
      ],
      "text/markdown": [
       "\n",
       "A data.frame: 20 × 3\n",
       "\n",
       "| <!--/--> | Burrito &lt;chr&gt; | Cost &lt;dbl&gt; | Reviewer &lt;chr&gt; |\n",
       "|---|---|---|---|\n",
       "| 1 | Carnitas    | 4.85 | Emily |\n",
       "| 2 | Carnitas    | 6.99 | Emily |\n",
       "| 3 | California  | 7.49 | Emily |\n",
       "| 4 | California  | 7.49 | Emily |\n",
       "| 5 | Carnitas    | 6.60 | Emily |\n",
       "| 6 | California  | 7.49 | Luis  |\n",
       "| 7 | Carnitas    | 5.40 | Emily |\n",
       "| 8 | Carne asada | 5.25 | Emily |\n",
       "| 9 | California  | 6.25 | Emily |\n",
       "| 10 | California  | 6.99 | Emily |\n",
       "| 11 | Carnitas    | 7.15 | Emily |\n",
       "| 12 | California  | 7.49 | Luis  |\n",
       "| 13 | Carnitas    | 6.70 | Emily |\n",
       "| 14 | Carne asada | 6.49 | Emily |\n",
       "| 15 | Carnitas    | 7.35 | Emily |\n",
       "| 16 | California  | 6.25 | Emily |\n",
       "| 17 | California  | 7.75 | Luis  |\n",
       "| 18 | California  | 7.40 | Emily |\n",
       "| 19 | California  | 7.89 | Emily |\n",
       "| 20 | California  | 7.80 | Emily |\n",
       "\n"
      ],
      "text/plain": [
       "   Burrito     Cost Reviewer\n",
       "1  Carnitas    4.85 Emily   \n",
       "2  Carnitas    6.99 Emily   \n",
       "3  California  7.49 Emily   \n",
       "4  California  7.49 Emily   \n",
       "5  Carnitas    6.60 Emily   \n",
       "6  California  7.49 Luis    \n",
       "7  Carnitas    5.40 Emily   \n",
       "8  Carne asada 5.25 Emily   \n",
       "9  California  6.25 Emily   \n",
       "10 California  6.99 Emily   \n",
       "11 Carnitas    7.15 Emily   \n",
       "12 California  7.49 Luis    \n",
       "13 Carnitas    6.70 Emily   \n",
       "14 Carne asada 6.49 Emily   \n",
       "15 Carnitas    7.35 Emily   \n",
       "16 California  6.25 Emily   \n",
       "17 California  7.75 Luis    \n",
       "18 California  7.40 Emily   \n",
       "19 California  7.89 Emily   \n",
       "20 California  7.80 Emily   "
      ]
     },
     "metadata": {},
     "output_type": "display_data"
    }
   ],
   "source": [
    "burritos3"
   ]
  },
  {
   "cell_type": "markdown",
   "id": "4f4d5a2b-2306-42c9-ad39-336ad93cef8e",
   "metadata": {},
   "source": [
    "## Make sure the IV is a factor"
   ]
  },
  {
   "cell_type": "code",
   "execution_count": 8,
   "id": "7cf3ed4a-ee74-49d8-97fe-2820b89478a4",
   "metadata": {},
   "outputs": [
    {
     "name": "stdout",
     "output_type": "stream",
     "text": [
      " chr [1:20] \"Carnitas\" \"Carnitas\" \"California\" \"California\" \"Carnitas\" ...\n"
     ]
    }
   ],
   "source": [
    "str(burritos3$Burrito)"
   ]
  },
  {
   "cell_type": "code",
   "execution_count": null,
   "id": "b81a9cdc-ff51-4742-8aca-da4eb1656cfb",
   "metadata": {},
   "outputs": [],
   "source": []
  }
 ],
 "metadata": {
  "kernelspec": {
   "display_name": "R",
   "language": "R",
   "name": "ir"
  },
  "language_info": {
   "codemirror_mode": "r",
   "file_extension": ".r",
   "mimetype": "text/x-r-source",
   "name": "R",
   "pygments_lexer": "r",
   "version": "4.1.2"
  }
 },
 "nbformat": 4,
 "nbformat_minor": 5
}
