{
 "cells": [
  {
   "cell_type": "markdown",
   "id": "e0d0bf80-eef9-49b7-a5d7-fede3bb1a910",
   "metadata": {},
   "source": [
    "# One Way ANOVAs in Python\n",
    "\n",
    "A One-Way ANOVA (\"analysis of variance\") compares the means of two or more independent groups in order to determine whether there is statistical evidence that the associated population means are significantly different.\n",
    "\n",
    "Here we will test 4 dimensions of 3 flowers to determine if they come from the same popuation.\n",
    "\n",
    "Remember results just tell you if there is a difference at all between the groups, post-hoc t-tests are needed to identify which differ."
   ]
  },
  {
   "cell_type": "code",
   "execution_count": null,
   "id": "109c35f6-b812-42b4-aea1-f7591bab3940",
   "metadata": {},
   "outputs": [],
   "source": [
    "### Uncomment this cell and run the code below if you need to install scikit_posthocs\n",
    "#!pip install scikit_posthocs"
   ]
  },
  {
   "cell_type": "code",
   "execution_count": 2,
   "id": "48da82d0-6363-4a63-b9ce-922e8175692b",
   "metadata": {},
   "outputs": [],
   "source": [
    "# Import packages\n",
    "import pandas as pd\n",
    "import seaborn as sns\n",
    "from scipy.stats import f_oneway\n",
    "from scipy.stats import ttest_ind\n",
    "from scikit_posthocs import posthoc_ttest"
   ]
  },
  {
   "cell_type": "code",
   "execution_count": 3,
   "id": "e3105901-8ed0-4a80-9181-0c455dc4fb13",
   "metadata": {},
   "outputs": [],
   "source": [
    "pd.set_option('precision', 3)"
   ]
  },
  {
   "cell_type": "code",
   "execution_count": 4,
   "id": "a310c204-7f3a-4fbd-b7be-b03637bbe006",
   "metadata": {},
   "outputs": [],
   "source": [
    "# Load data\n",
    "df = sns.load_dataset('iris')"
   ]
  },
  {
   "cell_type": "code",
   "execution_count": 5,
   "id": "d73a53f6-d826-4e2b-ba9e-aba3d5d91f47",
   "metadata": {},
   "outputs": [
    {
     "data": {
      "text/html": [
       "<div>\n",
       "<style scoped>\n",
       "    .dataframe tbody tr th:only-of-type {\n",
       "        vertical-align: middle;\n",
       "    }\n",
       "\n",
       "    .dataframe tbody tr th {\n",
       "        vertical-align: top;\n",
       "    }\n",
       "\n",
       "    .dataframe thead th {\n",
       "        text-align: right;\n",
       "    }\n",
       "</style>\n",
       "<table border=\"1\" class=\"dataframe\">\n",
       "  <thead>\n",
       "    <tr style=\"text-align: right;\">\n",
       "      <th></th>\n",
       "      <th>sepal_length</th>\n",
       "      <th>sepal_width</th>\n",
       "      <th>petal_length</th>\n",
       "      <th>petal_width</th>\n",
       "      <th>species</th>\n",
       "    </tr>\n",
       "  </thead>\n",
       "  <tbody>\n",
       "    <tr>\n",
       "      <th>0</th>\n",
       "      <td>5.1</td>\n",
       "      <td>3.5</td>\n",
       "      <td>1.4</td>\n",
       "      <td>0.2</td>\n",
       "      <td>setosa</td>\n",
       "    </tr>\n",
       "    <tr>\n",
       "      <th>1</th>\n",
       "      <td>4.9</td>\n",
       "      <td>3.0</td>\n",
       "      <td>1.4</td>\n",
       "      <td>0.2</td>\n",
       "      <td>setosa</td>\n",
       "    </tr>\n",
       "    <tr>\n",
       "      <th>2</th>\n",
       "      <td>4.7</td>\n",
       "      <td>3.2</td>\n",
       "      <td>1.3</td>\n",
       "      <td>0.2</td>\n",
       "      <td>setosa</td>\n",
       "    </tr>\n",
       "    <tr>\n",
       "      <th>3</th>\n",
       "      <td>4.6</td>\n",
       "      <td>3.1</td>\n",
       "      <td>1.5</td>\n",
       "      <td>0.2</td>\n",
       "      <td>setosa</td>\n",
       "    </tr>\n",
       "    <tr>\n",
       "      <th>4</th>\n",
       "      <td>5.0</td>\n",
       "      <td>3.6</td>\n",
       "      <td>1.4</td>\n",
       "      <td>0.2</td>\n",
       "      <td>setosa</td>\n",
       "    </tr>\n",
       "    <tr>\n",
       "      <th>...</th>\n",
       "      <td>...</td>\n",
       "      <td>...</td>\n",
       "      <td>...</td>\n",
       "      <td>...</td>\n",
       "      <td>...</td>\n",
       "    </tr>\n",
       "    <tr>\n",
       "      <th>145</th>\n",
       "      <td>6.7</td>\n",
       "      <td>3.0</td>\n",
       "      <td>5.2</td>\n",
       "      <td>2.3</td>\n",
       "      <td>virginica</td>\n",
       "    </tr>\n",
       "    <tr>\n",
       "      <th>146</th>\n",
       "      <td>6.3</td>\n",
       "      <td>2.5</td>\n",
       "      <td>5.0</td>\n",
       "      <td>1.9</td>\n",
       "      <td>virginica</td>\n",
       "    </tr>\n",
       "    <tr>\n",
       "      <th>147</th>\n",
       "      <td>6.5</td>\n",
       "      <td>3.0</td>\n",
       "      <td>5.2</td>\n",
       "      <td>2.0</td>\n",
       "      <td>virginica</td>\n",
       "    </tr>\n",
       "    <tr>\n",
       "      <th>148</th>\n",
       "      <td>6.2</td>\n",
       "      <td>3.4</td>\n",
       "      <td>5.4</td>\n",
       "      <td>2.3</td>\n",
       "      <td>virginica</td>\n",
       "    </tr>\n",
       "    <tr>\n",
       "      <th>149</th>\n",
       "      <td>5.9</td>\n",
       "      <td>3.0</td>\n",
       "      <td>5.1</td>\n",
       "      <td>1.8</td>\n",
       "      <td>virginica</td>\n",
       "    </tr>\n",
       "  </tbody>\n",
       "</table>\n",
       "<p>150 rows × 5 columns</p>\n",
       "</div>"
      ],
      "text/plain": [
       "     sepal_length  sepal_width  petal_length  petal_width    species\n",
       "0             5.1          3.5           1.4          0.2     setosa\n",
       "1             4.9          3.0           1.4          0.2     setosa\n",
       "2             4.7          3.2           1.3          0.2     setosa\n",
       "3             4.6          3.1           1.5          0.2     setosa\n",
       "4             5.0          3.6           1.4          0.2     setosa\n",
       "..            ...          ...           ...          ...        ...\n",
       "145           6.7          3.0           5.2          2.3  virginica\n",
       "146           6.3          2.5           5.0          1.9  virginica\n",
       "147           6.5          3.0           5.2          2.0  virginica\n",
       "148           6.2          3.4           5.4          2.3  virginica\n",
       "149           5.9          3.0           5.1          1.8  virginica\n",
       "\n",
       "[150 rows x 5 columns]"
      ]
     },
     "execution_count": 5,
     "metadata": {},
     "output_type": "execute_result"
    }
   ],
   "source": [
    "# View data\n",
    "df"
   ]
  },
  {
   "cell_type": "code",
   "execution_count": 6,
   "id": "4af7605d-5cf9-4ce7-8c4a-faf56c4d03e1",
   "metadata": {},
   "outputs": [
    {
     "data": {
      "text/plain": [
       "['setosa', 'versicolor', 'virginica']"
      ]
     },
     "execution_count": 6,
     "metadata": {},
     "output_type": "execute_result"
    }
   ],
   "source": [
    "# Get list of flower types\n",
    "flower_types = list(df.species.unique())\n",
    "flower_types"
   ]
  },
  {
   "cell_type": "code",
   "execution_count": 7,
   "id": "58262b3a-97c5-4258-bdd9-4c1f65e7e3c5",
   "metadata": {},
   "outputs": [
    {
     "data": {
      "text/plain": [
       "Index(['sepal_length', 'sepal_width', 'petal_length', 'petal_width'], dtype='object')"
      ]
     },
     "execution_count": 7,
     "metadata": {},
     "output_type": "execute_result"
    }
   ],
   "source": [
    "# List of feature columns\n",
    "cols_to_run = df.columns.drop('species')\n",
    "cols_to_run"
   ]
  },
  {
   "cell_type": "code",
   "execution_count": 8,
   "id": "7d75ffab-025d-4a32-9c28-de732dff534a",
   "metadata": {},
   "outputs": [
    {
     "data": {
      "text/plain": [
       "<AxesSubplot:xlabel='sepal_length', ylabel='sepal_width'>"
      ]
     },
     "execution_count": 8,
     "metadata": {},
     "output_type": "execute_result"
    },
    {
     "data": {
      "image/png": "[encoded data removed]",
      "text/plain": [
       "<Figure size 432x288 with 1 Axes>"
      ]
     },
     "metadata": {
      "needs_background": "light"
     },
     "output_type": "display_data"
    }
   ],
   "source": [
    "sns.scatterplot(data=df, x=\"sepal_length\", y=\"sepal_width\", hue=\"species\")"
   ]
  },
  {
   "cell_type": "code",
   "execution_count": 9,
   "id": "20efe2d5-38ab-4ee1-9179-72b5492e7751",
   "metadata": {},
   "outputs": [
    {
     "data": {
      "text/plain": [
       "<AxesSubplot:xlabel='petal_length', ylabel='petal_width'>"
      ]
     },
     "execution_count": 9,
     "metadata": {},
     "output_type": "execute_result"
    },
    {
     "data": {
      "image/png": "[encoded data removed]",
      "text/plain": [
       "<Figure size 432x288 with 1 Axes>"
      ]
     },
     "metadata": {
      "needs_background": "light"
     },
     "output_type": "display_data"
    }
   ],
   "source": [
    "sns.scatterplot(data=df, x=\"petal_length\", y=\"petal_width\", hue=\"species\")"
   ]
  },
  {
   "cell_type": "code",
   "execution_count": 10,
   "id": "e9d287e2-1122-4ef2-adf4-99dcc91c8772",
   "metadata": {},
   "outputs": [
    {
     "data": {
      "text/plain": [
       "<AxesSubplot:xlabel='species'>"
      ]
     },
     "execution_count": 10,
     "metadata": {},
     "output_type": "execute_result"
    },
    {
     "data": {
      "image/png": "[encoded data removed]",
      "text/plain": [
       "<Figure size 432x288 with 1 Axes>"
      ]
     },
     "metadata": {
      "needs_background": "light"
     },
     "output_type": "display_data"
    }
   ],
   "source": [
    "gby = df.groupby('species')[cols_to_run].mean()\n",
    "gby.plot(kind='bar')"
   ]
  },
  {
   "cell_type": "code",
   "execution_count": 11,
   "id": "c52e1d61-80fc-4f78-abfe-b1085aafcb44",
   "metadata": {},
   "outputs": [],
   "source": [
    "# Start by testing one column-Sepal Length\n",
    "setosa = df[df['species']=='setosa']['sepal_length']\n",
    "versicolor = df[df['species']=='versicolor']['sepal_length']\n",
    "virginica = df[df['species']=='virginica']['sepal_length']"
   ]
  },
  {
   "cell_type": "code",
   "execution_count": 12,
   "id": "e33917e5-605e-4318-8964-868b0dc6890c",
   "metadata": {},
   "outputs": [
    {
     "data": {
      "text/plain": [
       "F_onewayResult(statistic=119.26450218450468, pvalue=1.6696691907693826e-31)"
      ]
     },
     "execution_count": 12,
     "metadata": {},
     "output_type": "execute_result"
    }
   ],
   "source": [
    "# Run one way anova\n",
    "f_oneway(setosa, versicolor, virginica)"
   ]
  },
  {
   "cell_type": "markdown",
   "id": "c20635dd-ae7e-4dbb-b6e5-71e5f10b66bc",
   "metadata": {},
   "source": [
    "Returns a test statistic and a p-value"
   ]
  },
  {
   "cell_type": "code",
   "execution_count": 13,
   "id": "769e9367-a227-43c0-9cdb-a1d3d1cda293",
   "metadata": {},
   "outputs": [
    {
     "data": {
      "text/plain": [
       "Index(['sepal_length', 'sepal_width', 'petal_length', 'petal_width',\n",
       "       'species'],\n",
       "      dtype='object')"
      ]
     },
     "execution_count": 13,
     "metadata": {},
     "output_type": "execute_result"
    }
   ],
   "source": [
    "# List all columns\n",
    "df.columns"
   ]
  },
  {
   "cell_type": "code",
   "execution_count": 14,
   "id": "b92a1372-439d-4088-8c73-5fbd6decbb29",
   "metadata": {},
   "outputs": [
    {
     "data": {
      "text/plain": [
       "Index(['sepal_length', 'sepal_width', 'petal_length', 'petal_width'], dtype='object')"
      ]
     },
     "execution_count": 14,
     "metadata": {},
     "output_type": "execute_result"
    }
   ],
   "source": [
    "# Select columns to run\n",
    "cols_to_run = df.columns.drop('species')\n",
    "cols_to_run"
   ]
  },
  {
   "cell_type": "code",
   "execution_count": 15,
   "id": "15a3e115-3b71-4008-9ad2-719fb75b9413",
   "metadata": {},
   "outputs": [
    {
     "name": "stdout",
     "output_type": "stream",
     "text": [
      "sepal_length\n",
      "F_onewayResult(statistic=119.26450218450468, pvalue=1.6696691907693826e-31)\n",
      "\n",
      "\n",
      "sepal_width\n",
      "F_onewayResult(statistic=49.160040089612075, pvalue=4.492017133309115e-17)\n",
      "\n",
      "\n",
      "petal_length\n",
      "F_onewayResult(statistic=1180.161182252981, pvalue=2.8567766109615584e-91)\n",
      "\n",
      "\n",
      "petal_width\n",
      "F_onewayResult(statistic=960.007146801809, pvalue=4.169445839443116e-85)\n",
      "\n",
      "\n"
     ]
    }
   ],
   "source": [
    "# Use for loop to iterate over the columns and run a one way anova on each\n",
    "for col in cols_to_run:\n",
    "    print(col)\n",
    "    setosa = df[df['species']=='setosa'][col]\n",
    "    versicolor = df[df['species']=='versicolor'][col]\n",
    "    virginica = df[df['species']=='virginica'][col]\n",
    "    print(f_oneway(setosa, versicolor, virginica))\n",
    "    print('\\n')"
   ]
  },
  {
   "cell_type": "markdown",
   "id": "90e08024-a3fc-46df-bf75-4349f06cf44c",
   "metadata": {},
   "source": [
    "# Can also run multiple analyses at once"
   ]
  },
  {
   "cell_type": "code",
   "execution_count": 16,
   "id": "0dfc54ae-84af-4e9a-8909-0c861c256d51",
   "metadata": {},
   "outputs": [],
   "source": [
    "setosa = df[df['species']=='setosa'][cols_to_run]\n",
    "versicolor = df[df['species']=='versicolor'][cols_to_run]\n",
    "virginica = df[df['species']=='virginica'][cols_to_run]"
   ]
  },
  {
   "cell_type": "code",
   "execution_count": 18,
   "id": "a78052fd-4926-481c-972f-6647549f8602",
   "metadata": {},
   "outputs": [],
   "source": [
    "stats, pvals = f_oneway(setosa, versicolor, virginica)"
   ]
  },
  {
   "cell_type": "code",
   "execution_count": 19,
   "id": "5ae12bd5-fcf3-459c-b89e-a1ded32d9705",
   "metadata": {},
   "outputs": [
    {
     "name": "stdout",
     "output_type": "stream",
     "text": [
      "For the column of sepal_length, the stat was 119.26 with a p-value of 0.000\n",
      "For the column of sepal_width, the stat was 49.16 with a p-value of 0.000\n",
      "For the column of petal_length, the stat was 1180.16 with a p-value of 0.000\n",
      "For the column of petal_width, the stat was 960.01 with a p-value of 0.000\n"
     ]
    }
   ],
   "source": [
    "for col, stat, pval in zip(cols_to_run, stats, pvals):\n",
    "    print(f'For the column of {col}, the stat was {stat:.2f} with a p-value of {pval:.3f}')"
   ]
  },
  {
   "cell_type": "code",
   "execution_count": 20,
   "id": "93eac53f-5316-4f46-85fb-526c03253369",
   "metadata": {},
   "outputs": [
    {
     "data": {
      "text/html": [
       "<div>\n",
       "<style scoped>\n",
       "    .dataframe tbody tr th:only-of-type {\n",
       "        vertical-align: middle;\n",
       "    }\n",
       "\n",
       "    .dataframe tbody tr th {\n",
       "        vertical-align: top;\n",
       "    }\n",
       "\n",
       "    .dataframe thead th {\n",
       "        text-align: right;\n",
       "    }\n",
       "</style>\n",
       "<table border=\"1\" class=\"dataframe\">\n",
       "  <thead>\n",
       "    <tr style=\"text-align: right;\">\n",
       "      <th></th>\n",
       "      <th>sepal_length</th>\n",
       "      <th>sepal_width</th>\n",
       "      <th>petal_length</th>\n",
       "      <th>petal_width</th>\n",
       "      <th>species</th>\n",
       "    </tr>\n",
       "  </thead>\n",
       "  <tbody>\n",
       "    <tr>\n",
       "      <th>0</th>\n",
       "      <td>5.1</td>\n",
       "      <td>3.5</td>\n",
       "      <td>1.4</td>\n",
       "      <td>0.2</td>\n",
       "      <td>setosa</td>\n",
       "    </tr>\n",
       "    <tr>\n",
       "      <th>1</th>\n",
       "      <td>4.9</td>\n",
       "      <td>3.0</td>\n",
       "      <td>1.4</td>\n",
       "      <td>0.2</td>\n",
       "      <td>setosa</td>\n",
       "    </tr>\n",
       "    <tr>\n",
       "      <th>2</th>\n",
       "      <td>4.7</td>\n",
       "      <td>3.2</td>\n",
       "      <td>1.3</td>\n",
       "      <td>0.2</td>\n",
       "      <td>setosa</td>\n",
       "    </tr>\n",
       "    <tr>\n",
       "      <th>3</th>\n",
       "      <td>4.6</td>\n",
       "      <td>3.1</td>\n",
       "      <td>1.5</td>\n",
       "      <td>0.2</td>\n",
       "      <td>setosa</td>\n",
       "    </tr>\n",
       "    <tr>\n",
       "      <th>4</th>\n",
       "      <td>5.0</td>\n",
       "      <td>3.6</td>\n",
       "      <td>1.4</td>\n",
       "      <td>0.2</td>\n",
       "      <td>setosa</td>\n",
       "    </tr>\n",
       "  </tbody>\n",
       "</table>\n",
       "</div>"
      ],
      "text/plain": [
       "   sepal_length  sepal_width  petal_length  petal_width species\n",
       "0           5.1          3.5           1.4          0.2  setosa\n",
       "1           4.9          3.0           1.4          0.2  setosa\n",
       "2           4.7          3.2           1.3          0.2  setosa\n",
       "3           4.6          3.1           1.5          0.2  setosa\n",
       "4           5.0          3.6           1.4          0.2  setosa"
      ]
     },
     "execution_count": 20,
     "metadata": {},
     "output_type": "execute_result"
    }
   ],
   "source": [
    "df.head()"
   ]
  },
  {
   "cell_type": "code",
   "execution_count": 21,
   "id": "429924ba-88ab-4c6b-b0fe-8236242aee80",
   "metadata": {},
   "outputs": [
    {
     "data": {
      "text/plain": [
       "Index(['sepal_length', 'sepal_width', 'petal_length', 'petal_width'], dtype='object')"
      ]
     },
     "execution_count": 21,
     "metadata": {},
     "output_type": "execute_result"
    }
   ],
   "source": [
    "cols_to_run"
   ]
  },
  {
   "cell_type": "code",
   "execution_count": 22,
   "id": "7d7cf8bb-3e34-4e91-b9fa-1f3cba285009",
   "metadata": {},
   "outputs": [
    {
     "name": "stdout",
     "output_type": "stream",
     "text": [
      "sepal_length\n",
      "            setosa  versicolor  virginica\n",
      "setosa         1.0         0.0        0.0\n",
      "versicolor     0.0         1.0        0.0\n",
      "virginica      0.0         0.0        1.0\n",
      "\n",
      "\n",
      "sepal_width\n",
      "            setosa  versicolor  virginica\n",
      "setosa         1.0       0.000      0.000\n",
      "versicolor     0.0       1.000      0.002\n",
      "virginica      0.0       0.002      1.000\n",
      "\n",
      "\n",
      "petal_length\n",
      "            setosa  versicolor  virginica\n",
      "setosa         1.0         0.0        0.0\n",
      "versicolor     0.0         1.0        0.0\n",
      "virginica      0.0         0.0        1.0\n",
      "\n",
      "\n",
      "petal_width\n",
      "            setosa  versicolor  virginica\n",
      "setosa         1.0         0.0        0.0\n",
      "versicolor     0.0         1.0        0.0\n",
      "virginica      0.0         0.0        1.0\n",
      "\n",
      "\n"
     ]
    }
   ],
   "source": [
    "for col in cols_to_run:\n",
    "    melted = pd.melt(df, id_vars=['species'], value_vars=[col])\n",
    "    print(col)\n",
    "    print(posthoc_ttest(melted, val_col='value', group_col='species', sort=True).round(5))\n",
    "    print('\\n')"
   ]
  },
  {
   "cell_type": "code",
   "execution_count": 23,
   "id": "04de1a84-99b2-4f2b-8072-9d3a80d69033",
   "metadata": {},
   "outputs": [
    {
     "data": {
      "text/plain": [
       "Ttest_indResult(statistic=array([-10.52098627,   9.45497585, -39.49271939, -34.08034154]), pvalue=array([8.98523504e-18, 1.84525995e-15, 5.40491051e-62, 3.83109539e-56]))"
      ]
     },
     "execution_count": 23,
     "metadata": {},
     "output_type": "execute_result"
    }
   ],
   "source": [
    "ttest_ind(setosa, versicolor)"
   ]
  },
  {
   "cell_type": "code",
   "execution_count": 24,
   "id": "e09ecf3b-9b26-4f62-bb69-b98d7230540e",
   "metadata": {},
   "outputs": [
    {
     "data": {
      "text/plain": [
       "Ttest_indResult(statistic=array([-15.38619582,   6.45034909, -49.98618626, -42.78579752]), pvalue=array([6.89254606e-28, 4.24635538e-09, 1.50480070e-71, 3.23037482e-65]))"
      ]
     },
     "execution_count": 24,
     "metadata": {},
     "output_type": "execute_result"
    }
   ],
   "source": [
    "ttest_ind(setosa, virginica)"
   ]
  },
  {
   "cell_type": "code",
   "execution_count": 25,
   "id": "832c1a6c-3762-41bf-bdb9-a9f77d593836",
   "metadata": {},
   "outputs": [
    {
     "data": {
      "text/plain": [
       "Ttest_indResult(statistic=array([ -5.62916526,  -3.20576075, -12.60377944, -14.62536705]), pvalue=array([1.72485630e-07, 1.81910042e-03, 3.17881955e-22, 2.23040907e-26]))"
      ]
     },
     "execution_count": 25,
     "metadata": {},
     "output_type": "execute_result"
    }
   ],
   "source": [
    "ttest_ind(versicolor, virginica)"
   ]
  },
  {
   "cell_type": "markdown",
   "id": "296f59cf-ef42-40be-b79b-a9dae01d0988",
   "metadata": {},
   "source": [
    "# NOTE: There should be a p-value penalty applied for multiple comparisons"
   ]
  },
  {
   "cell_type": "code",
   "execution_count": 26,
   "id": "7fc14b60-9a09-47d8-8e2c-a6ee566db198",
   "metadata": {},
   "outputs": [
    {
     "name": "stdout",
     "output_type": "stream",
     "text": [
      "sepal_length\n",
      "            setosa  versicolor  virginica\n",
      "setosa         1.0         0.0        0.0\n",
      "versicolor     0.0         1.0        0.0\n",
      "virginica      0.0         0.0        1.0\n",
      "\n",
      "\n",
      "sepal_width\n",
      "            setosa  versicolor  virginica\n",
      "setosa         1.0       0.000      0.000\n",
      "versicolor     0.0       1.000      0.005\n",
      "virginica      0.0       0.005      1.000\n",
      "\n",
      "\n",
      "petal_length\n",
      "            setosa  versicolor  virginica\n",
      "setosa         1.0         0.0        0.0\n",
      "versicolor     0.0         1.0        0.0\n",
      "virginica      0.0         0.0        1.0\n",
      "\n",
      "\n",
      "petal_width\n",
      "            setosa  versicolor  virginica\n",
      "setosa         1.0         0.0        0.0\n",
      "versicolor     0.0         1.0        0.0\n",
      "virginica      0.0         0.0        1.0\n",
      "\n",
      "\n"
     ]
    }
   ],
   "source": [
    "for col in cols_to_run:\n",
    "    melted = pd.melt(df, id_vars=['species'], value_vars=[col])\n",
    "    print(col)\n",
    "    print(posthoc_ttest(melted, val_col='value', group_col='species', sort=True, p_adjust='bonferroni').round(5))\n",
    "    print('\\n')"
   ]
  },
  {
   "cell_type": "code",
   "execution_count": null,
   "id": "72deb1d9-8fd3-42d5-83ce-4767af981905",
   "metadata": {},
   "outputs": [],
   "source": []
  }
 ],
 "metadata": {
  "kernelspec": {
   "display_name": "Python 3 (ipykernel)",
   "language": "python",
   "name": "python3"
  },
  "language_info": {
   "codemirror_mode": {
    "name": "ipython",
    "version": 3
   },
   "file_extension": ".py",
   "mimetype": "text/x-python",
   "name": "python",
   "nbconvert_exporter": "python",
   "pygments_lexer": "ipython3",
   "version": "3.9.7"
  }
 },
 "nbformat": 4,
 "nbformat_minor": 5
}
