{
 "cells": [
  {
   "cell_type": "code",
   "execution_count": 1,
   "id": "cb167bd1-4a90-4a32-b05b-2f43defb09a8",
   "metadata": {},
   "outputs": [
    {
     "data": {
      "text/html": [
       "\n",
       "        <iframe\n",
       "            width=\"720\"\n",
       "            height=\"480\"\n",
       "            src=\"https://player.vimeo.com/video/644136212\"\n",
       "            frameborder=\"0\"\n",
       "            allowfullscreen\n",
       "            \n",
       "        ></iframe>\n",
       "        "
      ],
      "text/plain": [
       "<IPython.lib.display.VimeoVideo at 0x103c9c5e0>"
      ]
     },
     "execution_count": 1,
     "metadata": {},
     "output_type": "execute_result"
    }
   ],
   "source": [
    "from IPython.display import VimeoVideo\n",
    "# Tutorial Video Name: Creating a project proposal\n",
    "VimeoVideo('644136212', width=720, height=480)"
   ]
  },
  {
   "cell_type": "markdown",
   "id": "2fad8022-2222-43c8-b729-6501630c278a",
   "metadata": {},
   "source": [
    "https://vimeo.com/644136212"
   ]
  },
  {
   "cell_type": "code",
   "execution_count": null,
   "id": "dbe67e47-f0f4-4d24-b56f-25c56343f032",
   "metadata": {},
   "outputs": [],
   "source": []
  }
 ],
 "metadata": {
  "kernelspec": {
   "display_name": "Python 3 (ipykernel)",
   "language": "python",
   "name": "python3"
  },
  "language_info": {
   "codemirror_mode": {
    "name": "ipython",
    "version": 3
   },
   "file_extension": ".py",
   "mimetype": "text/x-python",
   "name": "python",
   "nbconvert_exporter": "python",
   "pygments_lexer": "ipython3",
   "version": "3.9.9"
  }
 },
 "nbformat": 4,
 "nbformat_minor": 5
}
