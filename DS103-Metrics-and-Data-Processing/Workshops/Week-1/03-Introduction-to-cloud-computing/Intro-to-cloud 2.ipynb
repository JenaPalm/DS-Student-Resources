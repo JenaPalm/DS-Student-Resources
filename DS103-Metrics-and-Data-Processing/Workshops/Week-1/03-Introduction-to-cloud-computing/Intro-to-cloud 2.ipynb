{
 "cells": [
  {
   "cell_type": "markdown",
   "id": "1e587859-84f8-45a6-b510-de6cf500d9dd",
   "metadata": {},
   "source": [
    "# Introduction to Cloud Computing"
   ]
  },
  {
   "cell_type": "code",
   "execution_count": 1,
   "id": "3c38be28-edc4-49b6-976e-f562463920e8",
   "metadata": {},
   "outputs": [
    {
     "data": {
      "text/plain": [
       "'/Users/jsr/Documents/GitHub/DS-Student-Resources/DS103-Metrics-and-Data-Processing/Workshops/Week1/03-Introduction-to-cloud-computing'"
      ]
     },
     "execution_count": 1,
     "metadata": {},
     "output_type": "execute_result"
    }
   ],
   "source": [
    "pwd"
   ]
  },
  {
   "cell_type": "code",
   "execution_count": null,
   "id": "f80da551-70a7-4b41-9a4b-12f4ca67a558",
   "metadata": {},
   "outputs": [],
   "source": []
  }
 ],
 "metadata": {
  "kernelspec": {
   "display_name": "Python 3 (ipykernel)",
   "language": "python",
   "name": "python3"
  },
  "language_info": {
   "codemirror_mode": {
    "name": "ipython",
    "version": 3
   },
   "file_extension": ".py",
   "mimetype": "text/x-python",
   "name": "python",
   "nbconvert_exporter": "python",
   "pygments_lexer": "ipython3",
   "version": "3.9.12"
  }
 },
 "nbformat": 4,
 "nbformat_minor": 5
}
