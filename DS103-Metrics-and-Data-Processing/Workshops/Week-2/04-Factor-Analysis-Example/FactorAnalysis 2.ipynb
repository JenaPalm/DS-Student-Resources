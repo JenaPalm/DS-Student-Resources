{
 "cells": [
  {
   "cell_type": "code",
   "execution_count": null,
   "id": "aa88c7fe-0b05-42ad-bb89-2f42a2b4099d",
   "metadata": {},
   "outputs": [],
   "source": [
    "library(\"corpcor\") library(\"GPArotation\") library(\"psych\") library(\"IDPmisc\")\n",
    "# Subsetting Data\n",
    "FWB1 <- financialWB[, 19:28]\n",
    "# Test Assumptions\n",
    "## Multicollinearity - looking for things > .9, there are none\n",
    "FWBmatrix <- cor(FWB1) View(round(FWBmatrix, 2))\n",
    "## Some relationship - look for things < .3 with multiple variables ### FS3 may be suspect - we may want to try to leave it out\n",
    "## Bartleti's test\n",
    "cortest.bartleti(FWB1)\n",
    "### You want the test to be significant and it is! Huzzah!\n",
    "## Check the determinants\n",
    "det(FWBmatrix)\n",
    "### Want it to be < .00001 and it is not - so don't meet assumptions but proceed anyway\n",
    "## Trying without that last one since we didn't meet determinant\n",
    "FWB2 <- financialWB[, 19:27] FWBmatrix2 <- cor(FWB2)\n",
    "det(FWBmatrix2)\n",
    "### still nothing good there, move on\n",
    "## Factor Analysis\n",
    "pcModel1 <- principal(FWB1, nfactors=10, rotate=\"none\") pcModel1\n",
    "## Based on teh SS Loadings, there are probably 2 factors here ### Examine the scree plot\n",
    "plot(pcModel1$values, type=\"b\")\n",
    "### It confirms 2\n",
    "pcModel2 <- principal(FWB1, nfactors = 2, rotate = \"none\") pcModel2\n",
    "## Examine the residuals. It's a good fit if it is less than 50%\n",
    "residuals <- factor.residuals(FWBmatrix, pcModel2$loadings) residuals <- as.matrix(residuals[upper.tri(residuals)]) largeResid <- abs(residuals) > .05\n",
    "sum(largeResid)\n",
    "sum(largeResid/nrow(residuals))\n",
    "### Rotation and interpretation and cut\n",
    "### But try 3 also because it was > 50%\n",
    "pcModel3 <- principal(FWB1, nfactors = 3, rotate = \"none\") pcModel3\n",
    "residuals <- factor.residuals(FWBmatrix, pcModel3$loadings) residuals <- as.matrix(residuals[upper.tri(residuals)]) largeResid <- abs(residuals) > .05\n",
    "sum(largeResid)\n",
    "sum(largeResid/nrow(residuals))\n",
    "### That actually looks much betier - so you may want to interpret with 2 or with 3 print.psych(pcModel3, cut = .3, sort=TRUE)\n",
    "print.psych(pcModel2, cut = .3, sort=TRUE)\n",
    "#### Try with some different rotations\n",
    "pcModel4 <- principal(FWB2, nfactors = 3, rotate = \"oblimin\") print.psych(pcModel4, cut=.3, sort=FALSE)\n",
    "pcModel5 <- principal(FWB2, nfactors = 3, rotate = \"varimax\") print.psych(pcModel5, cut=.3, sort=FALSE)"
   ]
  }
 ],
 "metadata": {
  "kernelspec": {
   "display_name": "R",
   "language": "R",
   "name": "ir"
  },
  "language_info": {
   "codemirror_mode": "r",
   "file_extension": ".r",
   "mimetype": "text/x-r-source",
   "name": "R",
   "pygments_lexer": "r",
   "version": "4.1.2"
  }
 },
 "nbformat": 4,
 "nbformat_minor": 5
}
