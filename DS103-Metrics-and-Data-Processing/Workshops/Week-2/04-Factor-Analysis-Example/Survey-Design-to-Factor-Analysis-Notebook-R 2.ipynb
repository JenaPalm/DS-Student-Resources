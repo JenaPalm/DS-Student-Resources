{
 "cells": [
  {
   "cell_type": "markdown",
   "id": "bb2ee724-08c0-4c4f-90e3-9dcb37eef19a",
   "metadata": {
    "tags": []
   },
   "source": [
    "# Survey Design to Factor Analysis Notebook\n",
    "\n",
    "Like anything else even somewhat creative, it pays to not rush in blindly, but rather to spend some time thinking through requirements and figuring about your overall goals. Here are the general steps in survey development:\n",
    "\n",
    "- Determine the overall purpose of the survey\n",
    "- Brainstorm the questions you are trying to answer with the survey\n",
    "- Create survey items that align with your questions\n",
    "- Format the survey as appropriate for your questions and your audience\n",
    "- Write scoring and administration rules if needed\n",
    "- Test out your survey\n",
    "- Administer your survey\n",
    "\n",
    "## Once you have all that data from your survey what do you do?"
   ]
  },
  {
   "cell_type": "code",
   "execution_count": 47,
   "id": "87c4c45c-1434-4302-934a-b39ec684136a",
   "metadata": {},
   "outputs": [
    {
     "name": "stdout",
     "output_type": "stream",
     "text": [
      "\n",
      "The downloaded binary packages are in\n",
      "\t/var/folders/wk/6why77bn1kn0l0pkd4vd3zl00000gn/T//RtmpDHhCzY/downloaded_packages\n"
     ]
    },
    {
     "data": {
      "text/html": [
       "<!doctype html>\n",
       "<html>\n",
       "\t<head>\n",
       "\t\t<meta charset=\"utf-8\">\n",
       "\t\t<link href=\"data:text/css;charset-utf-8;base64,LnZlbWJlZHIgewogIG1hcmdpbi1ib3R0b206IDEwcHg7Cn0KCi52ZW1iZWRyLXJvdW5kZWQgewogIGRpc3BsYXk6IGlubGluZS1ibG9jazsKICBib3JkZXItcmFkaXVzOiAxNXB4OwogIG92ZXJmbG93OiBoaWRkZW47Cn0KCi52ZW1iZWRyLXJvdW5kZWQgaWZyYW1lIHsKICBkaXNwbGF5OiBibG9jazsKICBib3JkZXI6IG5vbmU7Cn0K\" rel=\"stylesheet\" />\n",
       "\t</head>\n",
       "\t<body>\n",
       "\t\t<div class=\"vembedr\">\n",
       "  <div>\n",
       "    <iframe class=\"vimeo-embed\" src=\"https://player.vimeo.com/video/651807175\" width=\"533\" height=\"300\" frameborder=\"0\" webkitallowfullscreen=\"\" mozallowfullscreen=\"\" allowfullscreen=\"\"></iframe>\n",
       "  </div>\n",
       "</div>\n",
       "\t</body>\n",
       "</html>\n"
      ],
      "text/plain": [
       "Shiny tags cannot be represented in plain text (need html)"
      ]
     },
     "metadata": {
      "text/html": {
       "isolated": true
      }
     },
     "output_type": "display_data"
    }
   ],
   "source": [
    "install.packages(\"vembedr\")\n",
    "library(\"vembedr\")\n",
    "embed_vimeo(\"651807175\")"
   ]
  },
  {
   "cell_type": "markdown",
   "id": "f60e8beb-6b04-43ea-81e9-826737b9f244",
   "metadata": {},
   "source": [
    "https://vimeo.com/651807175"
   ]
  },
  {
   "cell_type": "markdown",
   "id": "2c1383b3-1bc5-409e-90c8-b7ac34f3c458",
   "metadata": {
    "tags": []
   },
   "source": [
    "# Factor Analysis\n",
    "\n",
    "An important thing to think about when analyzing surveys is how well the items \"hang together\" and whether you are measuring more than one concept in your survey.  You may ask several questions about a similar broad topic, but is that all one topic, or does it really have some subtopics in it? *Factor analysis* has the answer to these questions and more! The basic goal of factor analysis is to see how items fall together and to see if they group in any particular patterns that make sense logically.\n",
    "\n",
    "---\n",
    "\n",
    "## Types of Factor Analysis\n",
    "\n",
    "There are two broad types of factor analysis: *exploratory factor analysis* and *confirmatory factor analysis*. Exploratory factor analysis, abbreviated *EFA*, is used when you don't really have an inkling of what your data will yield.  You are intrepid explorers, traversing unknown survey data worlds! Confirmatory factor analysis, abbreviated *CFA* (so original!), is either for after you have completed EFA or when you are so confident about what your data holds you feel you can skip the EFA and just want a validation check. You are confirming your thoughts about the data with CFA. An example of when you might proceed straight to CFA is when you have already used a validated, previously studied set of survey items, and just want to make sure that your data is behaving the same way as it did for others.  \n",
    "\n",
    "The most common type of factor analysis is definitely EFA, and it's a good thing, because it's easier, too! Conducting a CFA is actually a form of structural equation modeling (SEM), and you won't get into that here. However, you will learn how to rock the heck out of an EFA, and that knowledge will take you a long way!\n",
    "\n",
    "---\n",
    "\n",
    "## Assumptions of EFA\n",
    "\n",
    "There are only three assumptions for EFA - yes you heard that right - three! Let the party commence! \n",
    "\n",
    "---\n",
    "\n",
    "### Sample Size \n",
    "\n",
    "Although there are many different opinions about sample size for EFA, the safest rule you can follow is to have at least 300 data points. However, you may be able to get away with as few as 150 data points if you have a small number of survey questions you're examining and those survey questions are moderately correlated with each other. \n",
    "\n",
    "---\n",
    "\n",
    "### Absence of Multicollinearity\n",
    "\n",
    "*Multicollinearity*, or having a lot of overlap between variables, is a problem, because it will make sorting your survey items into distinct groups quite difficult.  Chances are that if your survey items all have really high multicollinearity, then you should have asked fewer survey items, because they are all getting at the same concept! You can test for multicollinearity by running a correlation matrix on all your survey items. If anything correlates with anything else at .9 or higher, than it's got to go, and you'll want to eliminate it from your analysis.  Though that's a good guideline, you may run into situations where lower correlations also cause problems.  You'll be able to catch this by looking at the *determinants*. You can think of determinants as another measure of how well survey items are correlated. When you run a determinant test, you are looking for a value of greater than .00001.    \n",
    "\n",
    "---\n",
    "\n",
    "### Some Relationship between Survey Items\n",
    "\n",
    "Although multicollinearity is to be avoided, it's important that there is some relationship between your survey items. Otherwise, they probably shouldn't be grouped together at all! So you'll also want to scan your correlation matrix for any variable that has multiple correlations with other items of .3 or lower, which is a good indication it's not going to play nicely with the others and should be removed. You can also run a catch-all test to make sure that there is some relation between all the variables - this is *Bartlett's test*, which you will want to be significant, since it tests against an *identity matrix*, or a matrix that assumes no relationship between all variables (correlations of 0 for everything).\n",
    "\n",
    "---\n",
    "\n",
    "## Factor Rotation\n",
    "\n",
    "The other big thing you need to know about EFA before diving in is *factor rotation*.  In order to better see the relationships between your different survey items, you will want to rotate the data.  You can rotate it 90 degrees, which is called *orthogonal rotation* and is really meant for when you theoretically don't think your survey items are related, or you can rotate it with *oblique rotation*, which does not maintain right angles at 90 degrees.  Oblique rotation is when you theoretically believe your survey items should be related. The most common types of orthogonal rotation are *varimax* and *quartimax*.  The most common types of oblique rotation are *oblimin* and *promax*. You don't need to know the mathematical differences between then, and chances are, you will use a process of trial and error in which you'll try at least two different rotation types for each data set.\n",
    "\n",
    "In the image below, you'll see that Figure A shows off the raw data, which is scattered all over the place.  Figure B, in the middle, shows a type of orthogonal rotation, in which the axes are now turned 90 degrees from where they once were.  And Figure C shows a type of oblique rotation, which also rotates the data, just not at 90 degrees.  In this example, the data remain spread apart (probably because there are only three data points), but in most cases, as you rotate, the data will start to clump together, forming factors.\n",
    "\n",
    "# Factor Analysis Setup\n",
    "\n",
    "Now that you understand the basics of factor analysis, you will run one of your own in R!\n",
    "\n",
    "---\n",
    "\n",
    "## Load Libraries\n",
    "\n",
    "You will need to install and load several libraries in order to complete factor analysis in R. You will use ```corpcor``` for correlations, and ```GPArotation``` for the factor analysis proper.  ```psych``` will help you with interpreting the factor loadings, and ```IDPmisc``` can be used to remove missing data.\n",
    "\n",
    "```{r}\n",
    "library(\"corpcor\")\n",
    "library(\"GPArotation\")\n",
    "library(\"psych\")\n",
    "library(\"IDPmisc\")\n",
    "```\n",
    "\n"
   ]
  },
  {
   "cell_type": "code",
   "execution_count": 4,
   "id": "391c5b0a-16f1-4d71-9404-4634165a055b",
   "metadata": {},
   "outputs": [
    {
     "name": "stdout",
     "output_type": "stream",
     "text": [
      "\n",
      "The downloaded binary packages are in\n",
      "\t/var/folders/wk/6why77bn1kn0l0pkd4vd3zl00000gn/T//RtmpDHhCzY/downloaded_packages\n",
      "\n",
      "The downloaded binary packages are in\n",
      "\t/var/folders/wk/6why77bn1kn0l0pkd4vd3zl00000gn/T//RtmpDHhCzY/downloaded_packages\n",
      "\n",
      "The downloaded binary packages are in\n",
      "\t/var/folders/wk/6why77bn1kn0l0pkd4vd3zl00000gn/T//RtmpDHhCzY/downloaded_packages\n",
      "\n",
      "The downloaded binary packages are in\n",
      "\t/var/folders/wk/6why77bn1kn0l0pkd4vd3zl00000gn/T//RtmpDHhCzY/downloaded_packages\n"
     ]
    }
   ],
   "source": [
    "## Install packages\n",
    "install.packages(\"corpcor\")\n",
    "install.packages(\"GPArotation\")\n",
    "install.packages(\"psych\")\n",
    "install.packages(\"IDPmisc\")\n",
    "\n",
    "## Load Packages\n",
    "library(\"corpcor\") \n",
    "library(\"GPArotation\") \n",
    "library(\"psych\") \n",
    "library(\"IDPmisc\")"
   ]
  },
  {
   "cell_type": "markdown",
   "id": "373dbd88-082d-44b3-bdaf-3577b8b3c610",
   "metadata": {},
   "source": [
    "---\n",
    "\n",
    "## Load in Data\n",
    "\n",
    "For this walkthrough, you will  be using **[data from a survey on financial wellbeing](https://repo.exeterlms.com/documents/V2/DataScience/Metrics-Data-Processing/financialWB.zip)**  The codebook is located **[here](https://s3.amazonaws.com/files.consumerfinance.gov/f/documents/cfpb_nfwbs-puf-codebook.pdf)**. Check out the variable list starting on page 5 if you'd like to know what all the survey items are (or at least the ones you'll be working with)."
   ]
  },
  {
   "cell_type": "code",
   "execution_count": 5,
   "id": "49e93f49-1619-462e-b519-275e9ac2da7e",
   "metadata": {},
   "outputs": [],
   "source": [
    "# Load data\n",
    "financialWB <- read.csv(\"financialWB.csv\")"
   ]
  },
  {
   "cell_type": "code",
   "execution_count": 6,
   "id": "4c4979c9-6254-4e9c-adf9-21c68ea185d4",
   "metadata": {},
   "outputs": [
    {
     "data": {
      "text/html": [
       "<table class=\"dataframe\">\n",
       "<caption>A data.frame: 6 × 217</caption>\n",
       "<thead>\n",
       "\t<tr><th></th><th scope=col>PUF_ID</th><th scope=col>sample</th><th scope=col>fpl</th><th scope=col>SWB_1</th><th scope=col>SWB_2</th><th scope=col>SWB_3</th><th scope=col>FWBscore</th><th scope=col>FWB1_1</th><th scope=col>FWB1_2</th><th scope=col>FWB1_3</th><th scope=col>⋯</th><th scope=col>PPMSACAT</th><th scope=col>PPREG4</th><th scope=col>PPREG9</th><th scope=col>PPT01</th><th scope=col>PPT25</th><th scope=col>PPT612</th><th scope=col>PPT1317</th><th scope=col>PPT18OV</th><th scope=col>PCTLT200FPL</th><th scope=col>finalwt</th></tr>\n",
       "\t<tr><th></th><th scope=col>&lt;int&gt;</th><th scope=col>&lt;int&gt;</th><th scope=col>&lt;int&gt;</th><th scope=col>&lt;int&gt;</th><th scope=col>&lt;int&gt;</th><th scope=col>&lt;int&gt;</th><th scope=col>&lt;int&gt;</th><th scope=col>&lt;int&gt;</th><th scope=col>&lt;int&gt;</th><th scope=col>&lt;int&gt;</th><th scope=col>⋯</th><th scope=col>&lt;int&gt;</th><th scope=col>&lt;int&gt;</th><th scope=col>&lt;int&gt;</th><th scope=col>&lt;int&gt;</th><th scope=col>&lt;int&gt;</th><th scope=col>&lt;int&gt;</th><th scope=col>&lt;int&gt;</th><th scope=col>&lt;int&gt;</th><th scope=col>&lt;int&gt;</th><th scope=col>&lt;dbl&gt;</th></tr>\n",
       "</thead>\n",
       "<tbody>\n",
       "\t<tr><th scope=row>1</th><td>10350</td><td>2</td><td>3</td><td>5</td><td>5</td><td>6</td><td>55</td><td>3</td><td>3</td><td>3</td><td>⋯</td><td>1</td><td>4</td><td>8</td><td>0</td><td>0</td><td>0</td><td>0</td><td>1</td><td>0</td><td>0.3672919</td></tr>\n",
       "\t<tr><th scope=row>2</th><td> 7740</td><td>1</td><td>3</td><td>6</td><td>6</td><td>6</td><td>51</td><td>2</td><td>2</td><td>3</td><td>⋯</td><td>1</td><td>2</td><td>3</td><td>0</td><td>0</td><td>0</td><td>0</td><td>2</td><td>0</td><td>1.3275607</td></tr>\n",
       "\t<tr><th scope=row>3</th><td>13699</td><td>1</td><td>3</td><td>4</td><td>3</td><td>4</td><td>49</td><td>3</td><td>3</td><td>3</td><td>⋯</td><td>1</td><td>4</td><td>9</td><td>0</td><td>0</td><td>0</td><td>1</td><td>2</td><td>1</td><td>0.8351558</td></tr>\n",
       "\t<tr><th scope=row>4</th><td> 7267</td><td>1</td><td>3</td><td>6</td><td>6</td><td>6</td><td>49</td><td>3</td><td>3</td><td>3</td><td>⋯</td><td>1</td><td>3</td><td>7</td><td>0</td><td>0</td><td>0</td><td>0</td><td>1</td><td>0</td><td>1.4108710</td></tr>\n",
       "\t<tr><th scope=row>5</th><td> 7375</td><td>1</td><td>3</td><td>4</td><td>4</td><td>4</td><td>49</td><td>3</td><td>3</td><td>3</td><td>⋯</td><td>1</td><td>2</td><td>4</td><td>0</td><td>0</td><td>1</td><td>0</td><td>4</td><td>1</td><td>4.2606681</td></tr>\n",
       "\t<tr><th scope=row>6</th><td>10910</td><td>1</td><td>3</td><td>5</td><td>7</td><td>5</td><td>67</td><td>5</td><td>1</td><td>1</td><td>⋯</td><td>1</td><td>2</td><td>3</td><td>0</td><td>0</td><td>0</td><td>0</td><td>2</td><td>0</td><td>0.7600609</td></tr>\n",
       "</tbody>\n",
       "</table>\n"
      ],
      "text/latex": [
       "A data.frame: 6 × 217\n",
       "\\begin{tabular}{r|lllllllllllllllllllll}\n",
       "  & PUF\\_ID & sample & fpl & SWB\\_1 & SWB\\_2 & SWB\\_3 & FWBscore & FWB1\\_1 & FWB1\\_2 & FWB1\\_3 & ⋯ & PPMSACAT & PPREG4 & PPREG9 & PPT01 & PPT25 & PPT612 & PPT1317 & PPT18OV & PCTLT200FPL & finalwt\\\\\n",
       "  & <int> & <int> & <int> & <int> & <int> & <int> & <int> & <int> & <int> & <int> & ⋯ & <int> & <int> & <int> & <int> & <int> & <int> & <int> & <int> & <int> & <dbl>\\\\\n",
       "\\hline\n",
       "\t1 & 10350 & 2 & 3 & 5 & 5 & 6 & 55 & 3 & 3 & 3 & ⋯ & 1 & 4 & 8 & 0 & 0 & 0 & 0 & 1 & 0 & 0.3672919\\\\\n",
       "\t2 &  7740 & 1 & 3 & 6 & 6 & 6 & 51 & 2 & 2 & 3 & ⋯ & 1 & 2 & 3 & 0 & 0 & 0 & 0 & 2 & 0 & 1.3275607\\\\\n",
       "\t3 & 13699 & 1 & 3 & 4 & 3 & 4 & 49 & 3 & 3 & 3 & ⋯ & 1 & 4 & 9 & 0 & 0 & 0 & 1 & 2 & 1 & 0.8351558\\\\\n",
       "\t4 &  7267 & 1 & 3 & 6 & 6 & 6 & 49 & 3 & 3 & 3 & ⋯ & 1 & 3 & 7 & 0 & 0 & 0 & 0 & 1 & 0 & 1.4108710\\\\\n",
       "\t5 &  7375 & 1 & 3 & 4 & 4 & 4 & 49 & 3 & 3 & 3 & ⋯ & 1 & 2 & 4 & 0 & 0 & 1 & 0 & 4 & 1 & 4.2606681\\\\\n",
       "\t6 & 10910 & 1 & 3 & 5 & 7 & 5 & 67 & 5 & 1 & 1 & ⋯ & 1 & 2 & 3 & 0 & 0 & 0 & 0 & 2 & 0 & 0.7600609\\\\\n",
       "\\end{tabular}\n"
      ],
      "text/markdown": [
       "\n",
       "A data.frame: 6 × 217\n",
       "\n",
       "| <!--/--> | PUF_ID &lt;int&gt; | sample &lt;int&gt; | fpl &lt;int&gt; | SWB_1 &lt;int&gt; | SWB_2 &lt;int&gt; | SWB_3 &lt;int&gt; | FWBscore &lt;int&gt; | FWB1_1 &lt;int&gt; | FWB1_2 &lt;int&gt; | FWB1_3 &lt;int&gt; | ⋯ ⋯ | PPMSACAT &lt;int&gt; | PPREG4 &lt;int&gt; | PPREG9 &lt;int&gt; | PPT01 &lt;int&gt; | PPT25 &lt;int&gt; | PPT612 &lt;int&gt; | PPT1317 &lt;int&gt; | PPT18OV &lt;int&gt; | PCTLT200FPL &lt;int&gt; | finalwt &lt;dbl&gt; |\n",
       "|---|---|---|---|---|---|---|---|---|---|---|---|---|---|---|---|---|---|---|---|---|---|\n",
       "| 1 | 10350 | 2 | 3 | 5 | 5 | 6 | 55 | 3 | 3 | 3 | ⋯ | 1 | 4 | 8 | 0 | 0 | 0 | 0 | 1 | 0 | 0.3672919 |\n",
       "| 2 |  7740 | 1 | 3 | 6 | 6 | 6 | 51 | 2 | 2 | 3 | ⋯ | 1 | 2 | 3 | 0 | 0 | 0 | 0 | 2 | 0 | 1.3275607 |\n",
       "| 3 | 13699 | 1 | 3 | 4 | 3 | 4 | 49 | 3 | 3 | 3 | ⋯ | 1 | 4 | 9 | 0 | 0 | 0 | 1 | 2 | 1 | 0.8351558 |\n",
       "| 4 |  7267 | 1 | 3 | 6 | 6 | 6 | 49 | 3 | 3 | 3 | ⋯ | 1 | 3 | 7 | 0 | 0 | 0 | 0 | 1 | 0 | 1.4108710 |\n",
       "| 5 |  7375 | 1 | 3 | 4 | 4 | 4 | 49 | 3 | 3 | 3 | ⋯ | 1 | 2 | 4 | 0 | 0 | 1 | 0 | 4 | 1 | 4.2606681 |\n",
       "| 6 | 10910 | 1 | 3 | 5 | 7 | 5 | 67 | 5 | 1 | 1 | ⋯ | 1 | 2 | 3 | 0 | 0 | 0 | 0 | 2 | 0 | 0.7600609 |\n",
       "\n"
      ],
      "text/plain": [
       "  PUF_ID sample fpl SWB_1 SWB_2 SWB_3 FWBscore FWB1_1 FWB1_2 FWB1_3 ⋯ PPMSACAT\n",
       "1 10350  2      3   5     5     6     55       3      3      3      ⋯ 1       \n",
       "2  7740  1      3   6     6     6     51       2      2      3      ⋯ 1       \n",
       "3 13699  1      3   4     3     4     49       3      3      3      ⋯ 1       \n",
       "4  7267  1      3   6     6     6     49       3      3      3      ⋯ 1       \n",
       "5  7375  1      3   4     4     4     49       3      3      3      ⋯ 1       \n",
       "6 10910  1      3   5     7     5     67       5      1      1      ⋯ 1       \n",
       "  PPREG4 PPREG9 PPT01 PPT25 PPT612 PPT1317 PPT18OV PCTLT200FPL finalwt  \n",
       "1 4      8      0     0     0      0       1       0           0.3672919\n",
       "2 2      3      0     0     0      0       2       0           1.3275607\n",
       "3 4      9      0     0     0      1       2       1           0.8351558\n",
       "4 3      7      0     0     0      0       1       0           1.4108710\n",
       "5 2      4      0     0     1      0       4       1           4.2606681\n",
       "6 2      3      0     0     0      0       2       0           0.7600609"
      ]
     },
     "metadata": {},
     "output_type": "display_data"
    }
   ],
   "source": [
    "head(financialWB)"
   ]
  },
  {
   "cell_type": "markdown",
   "id": "bf272e76-a3dc-4612-806f-67b4a055baa5",
   "metadata": {},
   "source": [
    "---\n",
    "\n",
    "## Question Setup\n",
    "\n",
    "With the data above, you will be determining how a set of questions from the financial wellbeing survey hang together and whether there are any subscales. To do this, you will perform factor analysis.  In factor analysis, there is no x or y variables - you are simply seeing how variables fit together.\n",
    "\n",
    "---\n",
    "\n",
    "## Data Wrangling\n",
    "\n",
    "Before you begin, there is one data wrangling item that needs to take place - you will subset your data.  The function you'll use in R for factor analysis does not allow you to specify variables, so you'll need to trim your data to only the variables you are interested in looking at to begin with. In order to subset, take a look at the data and identify the columns you want to keep. In this case, you want the items that start with ```FWB```. They are contained in columns numbered 8-17.  With the below code, you will only have those columns in your new dataset to use:\n"
   ]
  },
  {
   "cell_type": "code",
   "execution_count": 7,
   "id": "99e0b5b9-7a4b-4047-8882-20e981fb3b8d",
   "metadata": {},
   "outputs": [],
   "source": [
    "# FWB data\n",
    "financialWB1 <- financialWB[, 8:17]"
   ]
  },
  {
   "cell_type": "code",
   "execution_count": 8,
   "id": "be57dccc-84f9-49d4-b8e2-72cf6f3df4de",
   "metadata": {},
   "outputs": [
    {
     "data": {
      "text/html": [
       "<table class=\"dataframe\">\n",
       "<caption>A data.frame: 6 × 10</caption>\n",
       "<thead>\n",
       "\t<tr><th></th><th scope=col>FWB1_1</th><th scope=col>FWB1_2</th><th scope=col>FWB1_3</th><th scope=col>FWB1_4</th><th scope=col>FWB1_5</th><th scope=col>FWB1_6</th><th scope=col>FWB2_1</th><th scope=col>FWB2_2</th><th scope=col>FWB2_3</th><th scope=col>FWB2_4</th></tr>\n",
       "\t<tr><th></th><th scope=col>&lt;int&gt;</th><th scope=col>&lt;int&gt;</th><th scope=col>&lt;int&gt;</th><th scope=col>&lt;int&gt;</th><th scope=col>&lt;int&gt;</th><th scope=col>&lt;int&gt;</th><th scope=col>&lt;int&gt;</th><th scope=col>&lt;int&gt;</th><th scope=col>&lt;int&gt;</th><th scope=col>&lt;int&gt;</th></tr>\n",
       "</thead>\n",
       "<tbody>\n",
       "\t<tr><th scope=row>1</th><td>3</td><td>3</td><td>3</td><td>3</td><td>2</td><td>3</td><td>2</td><td>3</td><td>2</td><td>4</td></tr>\n",
       "\t<tr><th scope=row>2</th><td>2</td><td>2</td><td>3</td><td>3</td><td>3</td><td>4</td><td>2</td><td>2</td><td>2</td><td>3</td></tr>\n",
       "\t<tr><th scope=row>3</th><td>3</td><td>3</td><td>3</td><td>3</td><td>3</td><td>3</td><td>3</td><td>3</td><td>3</td><td>3</td></tr>\n",
       "\t<tr><th scope=row>4</th><td>3</td><td>3</td><td>3</td><td>3</td><td>3</td><td>3</td><td>3</td><td>3</td><td>3</td><td>3</td></tr>\n",
       "\t<tr><th scope=row>5</th><td>3</td><td>3</td><td>3</td><td>3</td><td>3</td><td>3</td><td>3</td><td>3</td><td>3</td><td>3</td></tr>\n",
       "\t<tr><th scope=row>6</th><td>5</td><td>1</td><td>1</td><td>1</td><td>1</td><td>1</td><td>2</td><td>5</td><td>2</td><td>2</td></tr>\n",
       "</tbody>\n",
       "</table>\n"
      ],
      "text/latex": [
       "A data.frame: 6 × 10\n",
       "\\begin{tabular}{r|llllllllll}\n",
       "  & FWB1\\_1 & FWB1\\_2 & FWB1\\_3 & FWB1\\_4 & FWB1\\_5 & FWB1\\_6 & FWB2\\_1 & FWB2\\_2 & FWB2\\_3 & FWB2\\_4\\\\\n",
       "  & <int> & <int> & <int> & <int> & <int> & <int> & <int> & <int> & <int> & <int>\\\\\n",
       "\\hline\n",
       "\t1 & 3 & 3 & 3 & 3 & 2 & 3 & 2 & 3 & 2 & 4\\\\\n",
       "\t2 & 2 & 2 & 3 & 3 & 3 & 4 & 2 & 2 & 2 & 3\\\\\n",
       "\t3 & 3 & 3 & 3 & 3 & 3 & 3 & 3 & 3 & 3 & 3\\\\\n",
       "\t4 & 3 & 3 & 3 & 3 & 3 & 3 & 3 & 3 & 3 & 3\\\\\n",
       "\t5 & 3 & 3 & 3 & 3 & 3 & 3 & 3 & 3 & 3 & 3\\\\\n",
       "\t6 & 5 & 1 & 1 & 1 & 1 & 1 & 2 & 5 & 2 & 2\\\\\n",
       "\\end{tabular}\n"
      ],
      "text/markdown": [
       "\n",
       "A data.frame: 6 × 10\n",
       "\n",
       "| <!--/--> | FWB1_1 &lt;int&gt; | FWB1_2 &lt;int&gt; | FWB1_3 &lt;int&gt; | FWB1_4 &lt;int&gt; | FWB1_5 &lt;int&gt; | FWB1_6 &lt;int&gt; | FWB2_1 &lt;int&gt; | FWB2_2 &lt;int&gt; | FWB2_3 &lt;int&gt; | FWB2_4 &lt;int&gt; |\n",
       "|---|---|---|---|---|---|---|---|---|---|---|\n",
       "| 1 | 3 | 3 | 3 | 3 | 2 | 3 | 2 | 3 | 2 | 4 |\n",
       "| 2 | 2 | 2 | 3 | 3 | 3 | 4 | 2 | 2 | 2 | 3 |\n",
       "| 3 | 3 | 3 | 3 | 3 | 3 | 3 | 3 | 3 | 3 | 3 |\n",
       "| 4 | 3 | 3 | 3 | 3 | 3 | 3 | 3 | 3 | 3 | 3 |\n",
       "| 5 | 3 | 3 | 3 | 3 | 3 | 3 | 3 | 3 | 3 | 3 |\n",
       "| 6 | 5 | 1 | 1 | 1 | 1 | 1 | 2 | 5 | 2 | 2 |\n",
       "\n"
      ],
      "text/plain": [
       "  FWB1_1 FWB1_2 FWB1_3 FWB1_4 FWB1_5 FWB1_6 FWB2_1 FWB2_2 FWB2_3 FWB2_4\n",
       "1 3      3      3      3      2      3      2      3      2      4     \n",
       "2 2      2      3      3      3      4      2      2      2      3     \n",
       "3 3      3      3      3      3      3      3      3      3      3     \n",
       "4 3      3      3      3      3      3      3      3      3      3     \n",
       "5 3      3      3      3      3      3      3      3      3      3     \n",
       "6 5      1      1      1      1      1      2      5      2      2     "
      ]
     },
     "metadata": {},
     "output_type": "display_data"
    }
   ],
   "source": [
    "head(financialWB1)"
   ]
  },
  {
   "cell_type": "code",
   "execution_count": 9,
   "id": "0484e5ca-53f7-4f3a-ae88-11a1aff6510d",
   "metadata": {},
   "outputs": [
    {
     "name": "stdout",
     "output_type": "stream",
     "text": [
      "       FWB1_1 FWB1_2 FWB1_3 FWB1_4 FWB1_5 FWB1_6 FWB2_1 FWB2_2 FWB2_3 FWB2_4\n",
      "FWB1_1   1.00   0.68  -0.48   0.69  -0.42  -0.44  -0.57   0.65  -0.48  -0.45\n",
      "FWB1_2   0.68   1.00  -0.48   0.70  -0.36  -0.45  -0.51   0.60  -0.43  -0.41\n",
      "FWB1_3  -0.48  -0.48   1.00  -0.49   0.53   0.62   0.60  -0.50   0.52   0.55\n",
      "FWB1_4   0.69   0.70  -0.49   1.00  -0.35  -0.43  -0.50   0.62  -0.46  -0.43\n",
      "FWB1_5  -0.42  -0.36   0.53  -0.35   1.00   0.47   0.50  -0.41   0.43   0.44\n",
      "FWB1_6  -0.44  -0.45   0.62  -0.43   0.47   1.00   0.52  -0.45   0.44   0.51\n",
      "FWB2_1  -0.57  -0.51   0.60  -0.50   0.50   0.52   1.00  -0.60   0.64   0.61\n",
      "FWB2_2   0.65   0.60  -0.50   0.62  -0.41  -0.45  -0.60   1.00  -0.53  -0.46\n",
      "FWB2_3  -0.48  -0.43   0.52  -0.46   0.43   0.44   0.64  -0.53   1.00   0.55\n",
      "FWB2_4  -0.45  -0.41   0.55  -0.43   0.44   0.51   0.61  -0.46   0.55   1.00\n"
     ]
    }
   ],
   "source": [
    "# Test Assumptions\n",
    "## Multicollinearity - looking for things > .9, there are none\n",
    "FWBmatrix1 <- cor(financialWB1 ) \n",
    "\n",
    "print(round(FWBmatrix1, 2))\n",
    "## Some relationship - look for things < .3 with multiple variables \n",
    "### If any look suspect like FS2_3 - we may want to try to leave it out"
   ]
  },
  {
   "cell_type": "markdown",
   "id": "5389a4c1-04e0-48d9-8d7d-d4dcee43fdcb",
   "metadata": {},
   "source": [
    "In it, you want to look at only half the matrix (remember that the top and bottom halves along the diagonal are mirror image of each other). As you go down the columns, starting to look only after the 1.0 on the diagonal, look for any correlations that are higher than .9. This would indicate really high multicollinearity, and if there's an item that has a correlation of .9, you will most likely want to remove that item. A quick scan indicates that there is nothing above .9 here and you are good to go. "
   ]
  },
  {
   "cell_type": "code",
   "execution_count": 10,
   "id": "f236a887-b54b-4b7e-a0d3-238b37627c08",
   "metadata": {},
   "outputs": [
    {
     "data": {
      "text/html": [
       "<table class=\"dataframe\">\n",
       "<caption>A data.frame: 6 × 10</caption>\n",
       "<thead>\n",
       "\t<tr><th></th><th scope=col>FS1_1</th><th scope=col>FS1_2</th><th scope=col>FS1_3</th><th scope=col>FS1_4</th><th scope=col>FS1_5</th><th scope=col>FS1_6</th><th scope=col>FS1_7</th><th scope=col>FS2_1</th><th scope=col>FS2_2</th><th scope=col>FS2_3</th></tr>\n",
       "\t<tr><th></th><th scope=col>&lt;int&gt;</th><th scope=col>&lt;int&gt;</th><th scope=col>&lt;int&gt;</th><th scope=col>&lt;int&gt;</th><th scope=col>&lt;int&gt;</th><th scope=col>&lt;int&gt;</th><th scope=col>&lt;int&gt;</th><th scope=col>&lt;int&gt;</th><th scope=col>&lt;int&gt;</th><th scope=col>&lt;int&gt;</th></tr>\n",
       "</thead>\n",
       "<tbody>\n",
       "\t<tr><th scope=row>1</th><td>3</td><td>3</td><td>4</td><td>3</td><td>3</td><td>3</td><td>4</td><td>4</td><td>3</td><td>4</td></tr>\n",
       "\t<tr><th scope=row>2</th><td>3</td><td>3</td><td>3</td><td>3</td><td>4</td><td>3</td><td>2</td><td>4</td><td>3</td><td>2</td></tr>\n",
       "\t<tr><th scope=row>3</th><td>3</td><td>3</td><td>3</td><td>3</td><td>3</td><td>3</td><td>3</td><td>3</td><td>3</td><td>3</td></tr>\n",
       "\t<tr><th scope=row>4</th><td>3</td><td>3</td><td>3</td><td>3</td><td>3</td><td>3</td><td>3</td><td>3</td><td>3</td><td>3</td></tr>\n",
       "\t<tr><th scope=row>5</th><td>3</td><td>3</td><td>3</td><td>3</td><td>3</td><td>3</td><td>3</td><td>3</td><td>3</td><td>3</td></tr>\n",
       "\t<tr><th scope=row>6</th><td>4</td><td>4</td><td>4</td><td>4</td><td>3</td><td>4</td><td>4</td><td>4</td><td>4</td><td>1</td></tr>\n",
       "</tbody>\n",
       "</table>\n"
      ],
      "text/latex": [
       "A data.frame: 6 × 10\n",
       "\\begin{tabular}{r|llllllllll}\n",
       "  & FS1\\_1 & FS1\\_2 & FS1\\_3 & FS1\\_4 & FS1\\_5 & FS1\\_6 & FS1\\_7 & FS2\\_1 & FS2\\_2 & FS2\\_3\\\\\n",
       "  & <int> & <int> & <int> & <int> & <int> & <int> & <int> & <int> & <int> & <int>\\\\\n",
       "\\hline\n",
       "\t1 & 3 & 3 & 4 & 3 & 3 & 3 & 4 & 4 & 3 & 4\\\\\n",
       "\t2 & 3 & 3 & 3 & 3 & 4 & 3 & 2 & 4 & 3 & 2\\\\\n",
       "\t3 & 3 & 3 & 3 & 3 & 3 & 3 & 3 & 3 & 3 & 3\\\\\n",
       "\t4 & 3 & 3 & 3 & 3 & 3 & 3 & 3 & 3 & 3 & 3\\\\\n",
       "\t5 & 3 & 3 & 3 & 3 & 3 & 3 & 3 & 3 & 3 & 3\\\\\n",
       "\t6 & 4 & 4 & 4 & 4 & 3 & 4 & 4 & 4 & 4 & 1\\\\\n",
       "\\end{tabular}\n"
      ],
      "text/markdown": [
       "\n",
       "A data.frame: 6 × 10\n",
       "\n",
       "| <!--/--> | FS1_1 &lt;int&gt; | FS1_2 &lt;int&gt; | FS1_3 &lt;int&gt; | FS1_4 &lt;int&gt; | FS1_5 &lt;int&gt; | FS1_6 &lt;int&gt; | FS1_7 &lt;int&gt; | FS2_1 &lt;int&gt; | FS2_2 &lt;int&gt; | FS2_3 &lt;int&gt; |\n",
       "|---|---|---|---|---|---|---|---|---|---|---|\n",
       "| 1 | 3 | 3 | 4 | 3 | 3 | 3 | 4 | 4 | 3 | 4 |\n",
       "| 2 | 3 | 3 | 3 | 3 | 4 | 3 | 2 | 4 | 3 | 2 |\n",
       "| 3 | 3 | 3 | 3 | 3 | 3 | 3 | 3 | 3 | 3 | 3 |\n",
       "| 4 | 3 | 3 | 3 | 3 | 3 | 3 | 3 | 3 | 3 | 3 |\n",
       "| 5 | 3 | 3 | 3 | 3 | 3 | 3 | 3 | 3 | 3 | 3 |\n",
       "| 6 | 4 | 4 | 4 | 4 | 3 | 4 | 4 | 4 | 4 | 1 |\n",
       "\n"
      ],
      "text/plain": [
       "  FS1_1 FS1_2 FS1_3 FS1_4 FS1_5 FS1_6 FS1_7 FS2_1 FS2_2 FS2_3\n",
       "1 3     3     4     3     3     3     4     4     3     4    \n",
       "2 3     3     3     3     4     3     2     4     3     2    \n",
       "3 3     3     3     3     3     3     3     3     3     3    \n",
       "4 3     3     3     3     3     3     3     3     3     3    \n",
       "5 3     3     3     3     3     3     3     3     3     3    \n",
       "6 4     4     4     4     3     4     4     4     4     1    "
      ]
     },
     "metadata": {},
     "output_type": "display_data"
    }
   ],
   "source": [
    "# Subsetting Data we would like looking at our CodeBook (FS data)\n",
    "FWB1 <- financialWB[, 19:28]\n",
    "head(FWB1)"
   ]
  },
  {
   "cell_type": "markdown",
   "id": "0f8ebe25-b4c6-4b93-bd5c-f25753dfb4ed",
   "metadata": {},
   "source": [
    "---\n",
    "\n",
    "## Test Assumptions\n",
    "\n",
    "Now that you have the columns you'll be examining in the factor analysis, you'll need to test the assumptions for them! You will be looking at sample size and how well the variables relate to each other.\n",
    "\n",
    "---\n",
    "\n",
    "### Sample Size\n",
    "\n",
    "Sample size should ideally be 300 or more. Luckily, there are 6,394 rows here, so you have met this assumption!\n",
    "\n",
    "---\n",
    "\n",
    "### Absence of Multicollinearity\n",
    "\n",
    "Next, you will test for the absence of multicollinearity. The first way to do this is with a correlation matrix.  You can use the function ```cor()``` to do that: \n"
   ]
  },
  {
   "cell_type": "markdown",
   "id": "211203d5-fc10-4433-a237-6f3210f04678",
   "metadata": {},
   "source": [
    "---\n",
    "\n",
    "### Some Relationship between Survey Items\n",
    "\n",
    "You will also want to look at the correlation matrix to ensure that correlations aren't too low, since factor analysis requires some relationship between the variables.  Look for any variable that correlates with more than one variable lower than .3. Again, this doesn't seem to be a problem in the matrix above, so you are good to go!"
   ]
  },
  {
   "cell_type": "code",
   "execution_count": 11,
   "id": "58d40f1f-0054-4e7a-bf7d-ae6bbe765cf0",
   "metadata": {},
   "outputs": [
    {
     "name": "stdout",
     "output_type": "stream",
     "text": [
      "      FS1_1 FS1_2 FS1_3 FS1_4 FS1_5 FS1_6 FS1_7 FS2_1 FS2_2 FS2_3\n",
      "FS1_1  1.00  0.56  0.62  0.65  0.55  0.66  0.70  0.38  0.37 -0.29\n",
      "FS1_2  0.56  1.00  0.54  0.57  0.56  0.48  0.52  0.35  0.43 -0.26\n",
      "FS1_3  0.62  0.54  1.00  0.72  0.67  0.48  0.52  0.30  0.28 -0.40\n",
      "FS1_4  0.65  0.57  0.72  1.00  0.67  0.54  0.58  0.34  0.32 -0.36\n",
      "FS1_5  0.55  0.56  0.67  0.67  1.00  0.44  0.50  0.31  0.30 -0.37\n",
      "FS1_6  0.66  0.48  0.48  0.54  0.44  1.00  0.70  0.38  0.33 -0.20\n",
      "FS1_7  0.70  0.52  0.52  0.58  0.50  0.70  1.00  0.34  0.33 -0.23\n",
      "FS2_1  0.38  0.35  0.30  0.34  0.31  0.38  0.34  1.00  0.61 -0.03\n",
      "FS2_2  0.37  0.43  0.28  0.32  0.30  0.33  0.33  0.61  1.00  0.04\n",
      "FS2_3 -0.29 -0.26 -0.40 -0.36 -0.37 -0.20 -0.23 -0.03  0.04  1.00\n"
     ]
    }
   ],
   "source": [
    "# Test Assumptions\n",
    "## Multicollinearity - looking for things > .9, there are none\n",
    "FWBmatrix <- cor(FWB1) \n",
    "\n",
    "print(round(FWBmatrix, 2))\n",
    "## Some relationship - look for things < .3 with multiple variables \n",
    "### If any look suspect like FS2_3 - we may want to try to leave it out"
   ]
  },
  {
   "cell_type": "markdown",
   "id": "9f9bd53a-6034-4e5f-9725-51d3fde40b6f",
   "metadata": {},
   "source": [
    "---\n",
    "\n",
    "#### Bartlett's Test\n",
    "\n",
    "To double check your findings from the correlation matrix, you can also run Bartlett's test with t"
   ]
  },
  {
   "cell_type": "code",
   "execution_count": 12,
   "id": "6b467319-6963-43ca-8f3f-4d062b5d4744",
   "metadata": {},
   "outputs": [
    {
     "name": "stderr",
     "output_type": "stream",
     "text": [
      "R was not square, finding R from data\n",
      "\n"
     ]
    },
    {
     "data": {
      "text/html": [
       "<dl>\n",
       "\t<dt>$chisq</dt>\n",
       "\t\t<dd>33447.0168096637</dd>\n",
       "\t<dt>$p.value</dt>\n",
       "\t\t<dd>0</dd>\n",
       "\t<dt>$df</dt>\n",
       "\t\t<dd>45</dd>\n",
       "</dl>\n"
      ],
      "text/latex": [
       "\\begin{description}\n",
       "\\item[\\$chisq] 33447.0168096637\n",
       "\\item[\\$p.value] 0\n",
       "\\item[\\$df] 45\n",
       "\\end{description}\n"
      ],
      "text/markdown": [
       "$chisq\n",
       ":   33447.0168096637\n",
       "$p.value\n",
       ":   0\n",
       "$df\n",
       ":   45\n",
       "\n",
       "\n"
      ],
      "text/plain": [
       "$chisq\n",
       "[1] 33447.02\n",
       "\n",
       "$p.value\n",
       "[1] 0\n",
       "\n",
       "$df\n",
       "[1] 45\n"
      ]
     },
     "metadata": {},
     "output_type": "display_data"
    }
   ],
   "source": [
    "## Bartlett's test\n",
    "cortest.bartlett(FWB1)\n",
    "### You want the test to be significant and it is! Huzzah!"
   ]
  },
  {
   "cell_type": "markdown",
   "id": "0cebef3e-0b0a-4f38-9687-3bad8d1e8e97",
   "metadata": {},
   "source": [
    "First, you will get a warning in red that ```R was not square, finding R from data```.  That can be ignored; it is just acknowledging that you fed in raw data instead of a matrix, which is perfectly fine.\n",
    "\n",
    "Next, you will see a Chi-Square value (```chisq```) and a *p* value. You want this test to be significant, and if it is, this means that you have suitable correlations (not too high, not too low) to proceed with a factor analysis.\n",
    "\n",
    "----\n",
    "\n",
    "#### Check your Determinants\n",
    "\n",
    "If you want further proof that you are good to proceed forward, you can also check the determinants, which is basically another measure of how variables relate to each other. You'll do this by using the function ```det()```: "
   ]
  },
  {
   "cell_type": "code",
   "execution_count": 13,
   "id": "980345fb-e537-48d0-b610-b0ad02a63088",
   "metadata": {},
   "outputs": [
    {
     "data": {
      "text/html": [
       "0.00532559538887684"
      ],
      "text/latex": [
       "0.00532559538887684"
      ],
      "text/markdown": [
       "0.00532559538887684"
      ],
      "text/plain": [
       "[1] 0.005325595"
      ]
     },
     "metadata": {},
     "output_type": "display_data"
    }
   ],
   "source": [
    "## Check the determinants\n",
    "det(FWBmatrix)\n",
    "### Want it to be < .00001 and it is not - so don't meet assumptions but proceed anyway"
   ]
  },
  {
   "cell_type": "markdown",
   "id": "c982bcdb-a2a2-4a97-9513-bd63abc4be20",
   "metadata": {},
   "source": [
    "If this value is greater than .00001 (yes, that's 4 zeros), then again, you have a sufficient relation between your variables to proceed with a factor analysis.  With all ways to test - correlation matrix, Bartlett's test, and determinants - you are good to go! You'll do the actual factor analysis work on the next page.\n",
    "\n",
    "---"
   ]
  },
  {
   "cell_type": "code",
   "execution_count": 14,
   "id": "6100f5db-090f-44c6-8a40-bd5d599de8e2",
   "metadata": {},
   "outputs": [
    {
     "data": {
      "text/html": [
       "0.00689125522555265"
      ],
      "text/latex": [
       "0.00689125522555265"
      ],
      "text/markdown": [
       "0.00689125522555265"
      ],
      "text/plain": [
       "[1] 0.006891255"
      ]
     },
     "metadata": {},
     "output_type": "display_data"
    }
   ],
   "source": [
    "## Trying without that last one since we didn't meet determinant\n",
    "FWB2 <- financialWB[, 19:27] \n",
    "FWBmatrix2 <- cor(FWB2)\n",
    "det(FWBmatrix2)\n",
    "### still nothing good there, move on"
   ]
  },
  {
   "cell_type": "markdown",
   "id": "6db4f8ad-b824-4356-b4ae-25f5368cd064",
   "metadata": {},
   "source": [
    "# Factor Analysis in R\n",
    "\n",
    "Now that you know your data has met the assumptions for factor analysis, you can hop right into the good stuff! \n",
    "\n",
    "---\n",
    "\n",
    "## Initial Pass to Determine Approximate Number of Factors\n",
    "\n",
    "\n",
    "The first thing you will do is to run a basic principal components analysis (fancy term for factor analysis) with as many factors as you have survey items in your factor analysis, and without any rotation. You'll use the function ```principal()```, with the arguments of the trimmed dataset, the argument ```nfactors=``` for the number of factors you want to use, and the argument ```rotate=\"none\"``` to indicate that you are not rotating your factors yet.  \n"
   ]
  },
  {
   "cell_type": "code",
   "execution_count": 15,
   "id": "afaae918-50d3-42ff-809f-5bf481a1c2f0",
   "metadata": {},
   "outputs": [
    {
     "data": {
      "text/plain": [
       "Principal Components Analysis\n",
       "Call: principal(r = FWB1, nfactors = 10, rotate = \"none\")\n",
       "Standardized loadings (pattern matrix) based upon correlation matrix\n",
       "        PC1   PC2   PC3   PC4   PC5   PC6   PC7   PC8   PC9  PC10 h2       u2\n",
       "FS1_1  0.84 -0.02  0.24 -0.05  0.02 -0.16  0.13 -0.32  0.21 -0.22  1  1.1e-16\n",
       "FS1_2  0.75  0.04 -0.12  0.23 -0.54  0.18  0.19  0.02  0.01  0.04  1 -1.3e-15\n",
       "FS1_3  0.80 -0.25 -0.16  0.17  0.23 -0.18  0.16  0.13  0.19  0.28  1  1.1e-16\n",
       "FS1_4  0.83 -0.18 -0.08  0.18  0.17 -0.09  0.14  0.07 -0.37 -0.19  1 -6.7e-16\n",
       "FS1_5  0.77 -0.21 -0.24  0.26  0.14  0.25 -0.37 -0.06  0.10 -0.08  1 -4.4e-16\n",
       "FS1_6  0.75  0.08  0.47 -0.19  0.01  0.10 -0.05  0.37  0.11 -0.11  1 -8.9e-16\n",
       "FS1_7  0.79  0.02  0.43 -0.09 -0.05  0.00 -0.17 -0.18 -0.21  0.29  1 -8.9e-16\n",
       "FS2_1  0.54  0.61 -0.26 -0.30  0.24  0.28  0.17 -0.08 -0.02  0.05  1  4.4e-16\n",
       "FS2_2  0.53  0.67 -0.28 -0.04 -0.15 -0.34 -0.22  0.08  0.00 -0.03  1  4.4e-16\n",
       "FS2_3 -0.40  0.63  0.33  0.55  0.15  0.04  0.05 -0.01  0.02  0.01  1  0.0e+00\n",
       "      com\n",
       "FS1_1 2.0\n",
       "FS1_2 2.4\n",
       "FS1_3 2.4\n",
       "FS1_4 2.0\n",
       "FS1_5 2.6\n",
       "FS1_6 2.6\n",
       "FS1_7 2.3\n",
       "FS2_1 4.0\n",
       "FS2_2 3.3\n",
       "FS2_3 3.5\n",
       "\n",
       "                       PC1  PC2  PC3  PC4  PC5  PC6  PC7  PC8  PC9 PC10\n",
       "SS loadings           5.11 1.37 0.83 0.62 0.50 0.37 0.35 0.30 0.28 0.27\n",
       "Proportion Var        0.51 0.14 0.08 0.06 0.05 0.04 0.03 0.03 0.03 0.03\n",
       "Cumulative Var        0.51 0.65 0.73 0.79 0.84 0.88 0.91 0.94 0.97 1.00\n",
       "Proportion Explained  0.51 0.14 0.08 0.06 0.05 0.04 0.03 0.03 0.03 0.03\n",
       "Cumulative Proportion 0.51 0.65 0.73 0.79 0.84 0.88 0.91 0.94 0.97 1.00\n",
       "\n",
       "Mean item complexity =  2.7\n",
       "Test of the hypothesis that 10 components are sufficient.\n",
       "\n",
       "The root mean square of the residuals (RMSR) is  0 \n",
       " with the empirical chi square  0  with prob <  NA \n",
       "\n",
       "Fit based upon off diagonal values = 1"
      ]
     },
     "metadata": {},
     "output_type": "display_data"
    }
   ],
   "source": [
    "## Factor Analysis\n",
    "pcModel1 <- principal(FWB1, nfactors=10, rotate=\"none\") \n",
    "pcModel1"
   ]
  },
  {
   "cell_type": "markdown",
   "id": "70ffdeb9-117d-402e-93d8-bfe407caaa03",
   "metadata": {},
   "source": [
    "Because you asked for ten factors, R has tried to break down your data into ten factors.  You see then along the top matrix labeled as ```PC1```, ```PC2```, etc.  and you can also see them in the bottom matrix.  What you are really looking at here on the first pass is the ```SS loadings``` column on the bottom, which contains something called *eigenvalues*. The larger the eigenvalue, the more likely that the factor is important. Typically there is a cutoff of 1, so if you see a factor with an eigenvalue of > 1, chances are it's something real to examine.\n",
    "\n",
    "---\n",
    "\n",
    "### Examine the Scree Plot\n",
    "\n",
    "For those of you who are visual, you can also check out the scree plot, accessibly by the command below.  You are plotting the eigenvalues generated by your model, and the argument ```type=\"b\"``` shows both a line and points on the same graph.\n"
   ]
  },
  {
   "cell_type": "code",
   "execution_count": 16,
   "id": "543ea061-1428-4e62-8f38-84322fe5db32",
   "metadata": {},
   "outputs": [
    {
     "data": {
      "image/png": "[encoded data removed]",
      "text/plain": [
       "plot without title"
      ]
     },
     "metadata": {
      "image/png": {
       "height": 420,
       "width": 420
      }
     },
     "output_type": "display_data"
    }
   ],
   "source": [
    "## Based on teh SS Loadings, there are probably 2 factors here \n",
    "### Examine the scree plot\n",
    "plot(pcModel1$values, type=\"b\")\n",
    "### It confirms 2"
   ]
  },
  {
   "cell_type": "markdown",
   "id": "89e62076-4f1e-493b-814a-3318e2c1f898",
   "metadata": {},
   "source": [
    "What you are looking for on this graph is when the plot seems to break or shear off.  The name \"scree plot\" comes from the geology world, where scree means falling rocks off a cliff. In this case, you can see that there is quite a jump down between 1 and 2, and another not-quite-so-large jump down between 2 and 3. The rest really seem to trail off after that. This info, along with examining the eigenvalues, tells us that probably there are two factors.  So you can now test that assumption, to see if the model fit improves with two factors.\n",
    "\n",
    "---"
   ]
  },
  {
   "cell_type": "markdown",
   "id": "27ac8145-30e4-4eed-b3ab-76767ea7ed68",
   "metadata": {},
   "source": [
    "## Second Pass to Test the Suspected Number of Factors\n",
    "\n",
    "Now, you'll run similar code again, but this time, you will change ```nfactors=``` to 2 instead of 10: \n",
    "\n",
    "```{r}\n",
    "pcModel2 <- principal(financialWB1, nfactors = 2, rotate = \"none\")\n",
    "```\n",
    "\n",
    "---\n"
   ]
  },
  {
   "cell_type": "code",
   "execution_count": 34,
   "id": "3923a7e0-b167-4074-af50-2d162175cd61",
   "metadata": {},
   "outputs": [
    {
     "data": {
      "text/plain": [
       "Principal Components Analysis\n",
       "Call: principal(r = FWB1, nfactors = 2, rotate = \"none\")\n",
       "Standardized loadings (pattern matrix) based upon correlation matrix\n",
       "        PC1   PC2   h2   u2 com\n",
       "FS1_1  0.84 -0.02 0.70 0.30 1.0\n",
       "FS1_2  0.75  0.04 0.57 0.43 1.0\n",
       "FS1_3  0.80 -0.25 0.70 0.30 1.2\n",
       "FS1_4  0.83 -0.18 0.72 0.28 1.1\n",
       "FS1_5  0.77 -0.21 0.64 0.36 1.2\n",
       "FS1_6  0.75  0.08 0.57 0.43 1.0\n",
       "FS1_7  0.79  0.02 0.62 0.38 1.0\n",
       "FS2_1  0.54  0.61 0.67 0.33 2.0\n",
       "FS2_2  0.53  0.67 0.73 0.27 1.9\n",
       "FS2_3 -0.40  0.63 0.56 0.44 1.7\n",
       "\n",
       "                       PC1  PC2\n",
       "SS loadings           5.11 1.37\n",
       "Proportion Var        0.51 0.14\n",
       "Cumulative Var        0.51 0.65\n",
       "Proportion Explained  0.79 0.21\n",
       "Cumulative Proportion 0.79 1.00\n",
       "\n",
       "Mean item complexity =  1.3\n",
       "Test of the hypothesis that 2 components are sufficient.\n",
       "\n",
       "The root mean square of the residuals (RMSR) is  0.08 \n",
       " with the empirical chi square  3515.18  with prob <  0 \n",
       "\n",
       "Fit based upon off diagonal values = 0.97"
      ]
     },
     "metadata": {},
     "output_type": "display_data"
    }
   ],
   "source": [
    "pcModel2 <- principal(FWB1, nfactors = 2, rotate = \"none\") \n",
    "pcModel2\n"
   ]
  },
  {
   "cell_type": "code",
   "execution_count": 35,
   "id": "e8e97a98-3bc3-4cd3-8e97-67586b8534d7",
   "metadata": {},
   "outputs": [
    {
     "data": {
      "text/plain": [
       "Principal Components Analysis\n",
       "Call: principal(r = FWB1, nfactors = 3, rotate = \"none\")\n",
       "Standardized loadings (pattern matrix) based upon correlation matrix\n",
       "        PC1   PC2   PC3   h2   u2 com\n",
       "FS1_1  0.84 -0.02  0.24 0.76 0.24 1.2\n",
       "FS1_2  0.75  0.04 -0.12 0.58 0.42 1.1\n",
       "FS1_3  0.80 -0.25 -0.16 0.73 0.27 1.3\n",
       "FS1_4  0.83 -0.18 -0.08 0.73 0.27 1.1\n",
       "FS1_5  0.77 -0.21 -0.24 0.69 0.31 1.4\n",
       "FS1_6  0.75  0.08  0.47 0.80 0.20 1.7\n",
       "FS1_7  0.79  0.02  0.43 0.81 0.19 1.6\n",
       "FS2_1  0.54  0.61 -0.26 0.74 0.26 2.3\n",
       "FS2_2  0.53  0.67 -0.28 0.81 0.19 2.3\n",
       "FS2_3 -0.40  0.63  0.33 0.67 0.33 2.3\n",
       "\n",
       "                       PC1  PC2  PC3\n",
       "SS loadings           5.11 1.37 0.83\n",
       "Proportion Var        0.51 0.14 0.08\n",
       "Cumulative Var        0.51 0.65 0.73\n",
       "Proportion Explained  0.70 0.19 0.11\n",
       "Cumulative Proportion 0.70 0.89 1.00\n",
       "\n",
       "Mean item complexity =  1.6\n",
       "Test of the hypothesis that 3 components are sufficient.\n",
       "\n",
       "The root mean square of the residuals (RMSR) is  0.06 \n",
       " with the empirical chi square  2353.55  with prob <  0 \n",
       "\n",
       "Fit based upon off diagonal values = 0.98"
      ]
     },
     "metadata": {},
     "output_type": "display_data"
    }
   ],
   "source": [
    "### But try 3 also because it was > 50%\n",
    "pcModel3 <- principal(FWB1, nfactors = 3, rotate = \"none\") \n",
    "pcModel3"
   ]
  },
  {
   "cell_type": "markdown",
   "id": "5bb3dc6f-fb3b-4073-ab59-f9af3ec2ebac",
   "metadata": {},
   "source": [
    "### Examining Residuals to Determine Model Fit\n",
    "\n",
    "You don't really need to even examine the output right now, but you will use the new model generated, ```pcModel2```, to examine model fit through the residuals. The basic idea behind this test is that the model fits your data very well if there is very little difference between the correlation matrix and the loadings generated through your model.  The difference between them is known as the *residual*. A general rule of thumb is that you have good model fit if the percentage of large residuals (over .05) is less than 50%.  In order to make all this easier, you will go through a series of steps.  The first line creates your residuals, using the ```factor.residuals()``` function.  The argument it takes are your correlation matrix and the loadings from your most recent factor analysis model."
   ]
  },
  {
   "cell_type": "code",
   "execution_count": 36,
   "id": "9a4dcd82-c9b5-43f3-9fba-2bd679e40282",
   "metadata": {},
   "outputs": [],
   "source": [
    "residuals <- factor.residuals(FWBmatrix, pcModel3$loadings) "
   ]
  },
  {
   "cell_type": "code",
   "execution_count": 37,
   "id": "9c36aa51-2265-459c-abda-d0408b8328c3",
   "metadata": {},
   "outputs": [],
   "source": [
    "residuals <- as.matrix(residuals[upper.tri(residuals)]) "
   ]
  },
  {
   "cell_type": "markdown",
   "id": "119f28ce-443f-4dbf-a67a-419ed23f8225",
   "metadata": {},
   "source": [
    "The second line formats the residuals as a matrix using the function ```as.matrix()```, and keeps only the top half (remember, the top triangle and bottom triangle mirror each other), using the function ```upper.tri()```. "
   ]
  },
  {
   "cell_type": "code",
   "execution_count": 38,
   "id": "aca1410f-5331-4c2b-9e14-4de93db7d458",
   "metadata": {},
   "outputs": [],
   "source": [
    "largeResid <- abs(residuals) > .05"
   ]
  },
  {
   "cell_type": "markdown",
   "id": "af569eec-f9ed-4d4d-b325-43c80eb9de60",
   "metadata": {},
   "source": [
    "The next line will find only the large residuals values and put them in a new variable named ```largeResid```.  This uses the ```abs()``` function to take the absolute value, and qualifies a large residual as > .05:"
   ]
  },
  {
   "cell_type": "code",
   "execution_count": 39,
   "id": "ebdb391c-bfff-4fff-9453-bf88b723b9e9",
   "metadata": {},
   "outputs": [
    {
     "data": {
      "text/html": [
       "15"
      ],
      "text/latex": [
       "15"
      ],
      "text/markdown": [
       "15"
      ],
      "text/plain": [
       "[1] 15"
      ]
     },
     "metadata": {},
     "output_type": "display_data"
    }
   ],
   "source": [
    "sum(largeResid)"
   ]
  },
  {
   "cell_type": "markdown",
   "id": "b9ca80c8-26d3-45ca-8142-5ccb04e27840",
   "metadata": {},
   "source": [
    "Then you can find the number of residuals that are large by using the ```sum()``` function:"
   ]
  },
  {
   "cell_type": "code",
   "execution_count": 40,
   "id": "76b7e78a-855e-48c4-98af-be081cd24d08",
   "metadata": {},
   "outputs": [
    {
     "data": {
      "text/html": [
       "0.333333333333333"
      ],
      "text/latex": [
       "0.333333333333333"
      ],
      "text/markdown": [
       "0.333333333333333"
      ],
      "text/plain": [
       "[1] 0.3333333"
      ]
     },
     "metadata": {},
     "output_type": "display_data"
    }
   ],
   "source": [
    "sum(largeResid/nrow(residuals))"
   ]
  },
  {
   "cell_type": "markdown",
   "id": "12fb4b2f-b2a7-4bcb-97cf-1410685849b6",
   "metadata": {},
   "source": [
    "And lastly, you can get the percentage of residuals that are large as compared to the total number of rows, by using the ```sum()``` function on ```largeResid``` divided by the number of rows in the residuals you generated, using the ```nrow()``` function."
   ]
  },
  {
   "cell_type": "markdown",
   "id": "ffb687ab-a014-4ac7-8fae-795389d23e3f",
   "metadata": {},
   "source": [
    "When you go through this, you find that the final output is: \n",
    "\n",
    "```text\n",
    "[1] 0.333333333333333\n",
    "```\n",
    "\n",
    "Meaning that 33% of residuals are large.  This is under 50%, so having only three factors is a pretty good model fit for the data."
   ]
  },
  {
   "cell_type": "markdown",
   "id": "62380c99-a5e0-4379-9cf8-d3441da2b919",
   "metadata": {},
   "source": [
    "## Rotate the Factors to Determine Where Each Survey Item Fits\n",
    "\n",
    "You will now play around with rotating the factors, to see where each survey item fits.  You will mostly likely try multiple rotations, and you may even try them with different numbers of factors as well if you think the results above may point to a few different numbers."
   ]
  },
  {
   "cell_type": "code",
   "execution_count": 41,
   "id": "334f6f50-f8bd-44da-9d26-14ea84d8291f",
   "metadata": {},
   "outputs": [
    {
     "name": "stdout",
     "output_type": "stream",
     "text": [
      "Principal Components Analysis\n",
      "Call: principal(r = FWB1, nfactors = 3, rotate = \"none\")\n",
      "Standardized loadings (pattern matrix) based upon correlation matrix\n",
      "      item   PC1   PC2   PC3   h2   u2 com\n",
      "FS1_1    1  0.84             0.76 0.24 1.2\n",
      "FS1_4    4  0.83             0.73 0.27 1.1\n",
      "FS1_3    3  0.80             0.73 0.27 1.3\n",
      "FS1_7    7  0.79        0.43 0.81 0.19 1.6\n",
      "FS1_5    5  0.77             0.69 0.31 1.4\n",
      "FS1_2    2  0.75             0.58 0.42 1.1\n",
      "FS1_6    6  0.75        0.47 0.80 0.20 1.7\n",
      "FS2_2    9  0.53  0.67       0.81 0.19 2.3\n",
      "FS2_3   10 -0.40  0.63  0.33 0.67 0.33 2.3\n",
      "FS2_1    8  0.54  0.61       0.74 0.26 2.3\n",
      "\n",
      "                       PC1  PC2  PC3\n",
      "SS loadings           5.11 1.37 0.83\n",
      "Proportion Var        0.51 0.14 0.08\n",
      "Cumulative Var        0.51 0.65 0.73\n",
      "Proportion Explained  0.70 0.19 0.11\n",
      "Cumulative Proportion 0.70 0.89 1.00\n",
      "\n",
      "Mean item complexity =  1.6\n",
      "Test of the hypothesis that 3 components are sufficient.\n",
      "\n",
      "The root mean square of the residuals (RMSR) is  0.06 \n",
      " with the empirical chi square  2353.55  with prob <  0 \n",
      "\n",
      "Fit based upon off diagonal values = 0.98"
     ]
    }
   ],
   "source": [
    "### That actually looks much betier - so you may want to interpret with 2 or with 3 \n",
    "print.psych(pcModel3, cut = .3, sort=TRUE)"
   ]
  },
  {
   "cell_type": "code",
   "execution_count": 42,
   "id": "e7b73ef7-e3fe-4f71-a2f6-e21b05b7ace8",
   "metadata": {},
   "outputs": [
    {
     "name": "stdout",
     "output_type": "stream",
     "text": [
      "Principal Components Analysis\n",
      "Call: principal(r = FWB1, nfactors = 2, rotate = \"none\")\n",
      "Standardized loadings (pattern matrix) based upon correlation matrix\n",
      "      item   PC1   PC2   h2   u2 com\n",
      "FS1_1    1  0.84       0.70 0.30 1.0\n",
      "FS1_4    4  0.83       0.72 0.28 1.1\n",
      "FS1_3    3  0.80       0.70 0.30 1.2\n",
      "FS1_7    7  0.79       0.62 0.38 1.0\n",
      "FS1_5    5  0.77       0.64 0.36 1.2\n",
      "FS1_2    2  0.75       0.57 0.43 1.0\n",
      "FS1_6    6  0.75       0.57 0.43 1.0\n",
      "FS2_2    9  0.53  0.67 0.73 0.27 1.9\n",
      "FS2_3   10 -0.40  0.63 0.56 0.44 1.7\n",
      "FS2_1    8  0.54  0.61 0.67 0.33 2.0\n",
      "\n",
      "                       PC1  PC2\n",
      "SS loadings           5.11 1.37\n",
      "Proportion Var        0.51 0.14\n",
      "Cumulative Var        0.51 0.65\n",
      "Proportion Explained  0.79 0.21\n",
      "Cumulative Proportion 0.79 1.00\n",
      "\n",
      "Mean item complexity =  1.3\n",
      "Test of the hypothesis that 2 components are sufficient.\n",
      "\n",
      "The root mean square of the residuals (RMSR) is  0.08 \n",
      " with the empirical chi square  3515.18  with prob <  0 \n",
      "\n",
      "Fit based upon off diagonal values = 0.97"
     ]
    }
   ],
   "source": [
    "print.psych(pcModel2, cut = .3, sort=TRUE)"
   ]
  },
  {
   "cell_type": "markdown",
   "id": "abba020c-b36a-4123-8a24-ce175cabb550",
   "metadata": {},
   "source": [
    "### Oblique Rotation\n",
    "\n",
    "You will now run your model a third time, but using the argument ```rotate=\"oblimin\"```.  Oblimin is the most commonly used type of oblique rotation, and you'll start with it because it's assumed that these survey items are conceptually related to each other.  They are, after all, all about financial well-being. Keep the number of factors as two (```nfactors=2```), because an examination of residuals showed that it was a good fit for the data."
   ]
  },
  {
   "cell_type": "code",
   "execution_count": 46,
   "id": "82101034-c4e2-4b0e-bc0a-a9c74f54086b",
   "metadata": {},
   "outputs": [
    {
     "name": "stdout",
     "output_type": "stream",
     "text": [
      "Principal Components Analysis\n",
      "Call: principal(r = FWB2, nfactors = 3, rotate = \"oblimin\")\n",
      "Standardized loadings (pattern matrix) based upon correlation matrix\n",
      "        TC1   TC3   TC2   h2   u2 com\n",
      "FS1_1        0.65       0.76 0.24 1.4\n",
      "FS1_2  0.59             0.60 0.40 1.4\n",
      "FS1_3  0.87             0.77 0.23 1.0\n",
      "FS1_4  0.77             0.77 0.23 1.1\n",
      "FS1_5  0.93             0.77 0.23 1.0\n",
      "FS1_6        0.95       0.83 0.17 1.0\n",
      "FS1_7        0.87       0.81 0.19 1.0\n",
      "FS2_1              0.87 0.78 0.22 1.0\n",
      "FS2_2              0.91 0.82 0.18 1.0\n",
      "\n",
      "                       TC1  TC3  TC2\n",
      "SS loadings           2.87 2.33 1.71\n",
      "Proportion Var        0.32 0.26 0.19\n",
      "Cumulative Var        0.32 0.58 0.77\n",
      "Proportion Explained  0.41 0.34 0.25\n",
      "Cumulative Proportion 0.41 0.75 1.00\n",
      "\n",
      " With component correlations of \n",
      "     TC1  TC3  TC2\n",
      "TC1 1.00 0.62 0.38\n",
      "TC3 0.62 1.00 0.41\n",
      "TC2 0.38 0.41 1.00\n",
      "\n",
      "Mean item complexity =  1.1\n",
      "Test of the hypothesis that 3 components are sufficient.\n",
      "\n",
      "The root mean square of the residuals (RMSR) is  0.06 \n",
      " with the empirical chi square  1563.67  with prob <  0 \n",
      "\n",
      "Fit based upon off diagonal values = 0.99"
     ]
    }
   ],
   "source": [
    "#### Try with some different rotations\n",
    "pcModel4 <- principal(FWB2, nfactors = 3, rotate = \"oblimin\") \n",
    "print.psych(pcModel4, cut=.3, sort=FALSE)"
   ]
  },
  {
   "cell_type": "markdown",
   "id": "ca7c51a3-530b-4469-9bce-8acddac6c5ca",
   "metadata": {},
   "source": [
    "You now have access to what is called a *pattern matrix*, and the print outs in the columns ```TC1``` and ```TC2``` tell you how well each item fits into that factor.  The values can range from 0 to 1, and the larger the value, the better the fit.  If you want to examine the output all at once, it can be handy to put it into a spreadsheet or print it out and highlight the values that load highly.  What is meant by loading highly? Your exact cutoff will determine how your data looks, but generally anything above .3 - .4 loads on that factor ok. \n",
    "\n"
   ]
  },
  {
   "cell_type": "markdown",
   "id": "ccc8eb58-4166-4646-a3d0-2fcb6144f12d",
   "metadata": {},
   "source": [
    "\n",
    "\n",
    "Luckily this is pretty cut and dry in ths example, but sometimes you will find that things load relatively highly on more than one factor and you have to make the best decision you can. There is a lot of subjective judgement in factor analysis. \n",
    "\n",
    "When you examine the actual items and what the questions are asking you find that factor 1, ```TC1```, is all about the negative side of financial well being - not having enough money or not being in control of your finances.  The second factor, ```TC2```, looks like it is the opposite - about being good with money management. \n",
    "\n",
    "Now that process wasn't too bad with a small number of factors and a small number of survey items, but what if you had more? Then it would become a much larger task and a bit of a pain.  Happily, the ```psych``` package swoops in to save the day and make your life easier! The line of code below will print out only the loadings that are higher than .3, and sorts them from largest to smallest."
   ]
  },
  {
   "cell_type": "code",
   "execution_count": 44,
   "id": "b521fc33-dc23-44f7-bbe8-65633166c0cb",
   "metadata": {},
   "outputs": [
    {
     "name": "stdout",
     "output_type": "stream",
     "text": [
      "Principal Components Analysis\n",
      "Call: principal(r = FWB2, nfactors = 3, rotate = \"varimax\")\n",
      "Standardized loadings (pattern matrix) based upon correlation matrix\n",
      "       RC1  RC3  RC2   h2   u2 com\n",
      "FS1_1 0.49 0.69      0.76 0.24 2.0\n",
      "FS1_2 0.63 0.31 0.34 0.60 0.40 2.1\n",
      "FS1_3 0.82           0.77 0.23 1.3\n",
      "FS1_4 0.78 0.38      0.77 0.23 1.5\n",
      "FS1_5 0.84           0.77 0.23 1.2\n",
      "FS1_6      0.86      0.83 0.17 1.3\n",
      "FS1_7 0.34 0.82      0.81 0.19 1.4\n",
      "FS2_1           0.85 0.78 0.22 1.2\n",
      "FS2_2           0.87 0.82 0.18 1.1\n",
      "\n",
      "                       RC1  RC3  RC2\n",
      "SS loadings           2.86 2.31 1.75\n",
      "Proportion Var        0.32 0.26 0.19\n",
      "Cumulative Var        0.32 0.57 0.77\n",
      "Proportion Explained  0.41 0.33 0.25\n",
      "Cumulative Proportion 0.41 0.75 1.00\n",
      "\n",
      "Mean item complexity =  1.4\n",
      "Test of the hypothesis that 3 components are sufficient.\n",
      "\n",
      "The root mean square of the residuals (RMSR) is  0.06 \n",
      " with the empirical chi square  1563.67  with prob <  0 \n",
      "\n",
      "Fit based upon off diagonal values = 0.99"
     ]
    }
   ],
   "source": [
    "pcModel5 <- principal(FWB2, nfactors = 3, rotate = \"varimax\") \n",
    "print.psych(pcModel5, cut=.3, sort=FALSE)"
   ]
  },
  {
   "cell_type": "markdown",
   "id": "71b806ab-b561-4c5a-927b-20d7f148fd12",
   "metadata": {},
   "source": []
  }
 ],
 "metadata": {
  "kernelspec": {
   "display_name": "R",
   "language": "R",
   "name": "ir"
  },
  "language_info": {
   "codemirror_mode": "r",
   "file_extension": ".r",
   "mimetype": "text/x-r-source",
   "name": "R",
   "pygments_lexer": "r",
   "version": "4.1.2"
  }
 },
 "nbformat": 4,
 "nbformat_minor": 5
}
