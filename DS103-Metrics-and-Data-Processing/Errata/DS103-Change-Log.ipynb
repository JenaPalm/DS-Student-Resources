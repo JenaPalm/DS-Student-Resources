{
 "cells": [
  {
   "cell_type": "markdown",
   "id": "0c0db268-1874-49ec-ba25-2886d998c467",
   "metadata": {},
   "source": [
    "# Change Log\n",
    "\n",
    "1. DS103L3 Spec Limit Video, Added PowerBI example, [DS103L3P7 New Vimeo](../DS103L3.ipynb#DS103L3_SpecLimitVideo), [Jira ticket link]() \n",
    "2. example: DS101L2P1, Issue to be changed, link to issue, link to UAT, Jira ticket link\n",
    "3. DSO103L4P13, [Jira ticket link](https://woz-u-projects.atlassian.net/browse/CUR-2596)\n",
    "4. DSO103L4P8, [Jira ticket link](https://woz-u-projects.atlassian.net/browse/CUR-2595)\n",
    "5. DSO103L5P8, [Jira ticket link](https://woz-u-projects.atlassian.net/browse/CUR-2617)\n",
    "6. DSO103L2P1, [Jira ticket link](https://woz-u-projects.atlassian.net/browse/CUR-2619)"
   ]
  },
  {
   "cell_type": "markdown",
   "id": "801ebebd-03e0-45f7-b402-a8cdb0fbcb10",
   "metadata": {},
   "source": [
    "# TODO List:\n",
    "\n",
    "1. Example: Lesson 2 Page 5 needs better example\n",
    "2.\n"
   ]
  },
  {
   "cell_type": "code",
   "execution_count": null,
   "id": "c851f389-e53e-4129-b05a-c2d1ff60858e",
   "metadata": {},
   "outputs": [],
   "source": []
  }
 ],
 "metadata": {
  "kernelspec": {
   "display_name": "Python 3 (ipykernel)",
   "language": "python",
   "name": "python3"
  },
  "language_info": {
   "codemirror_mode": {
    "name": "ipython",
    "version": 3
   },
   "file_extension": ".py",
   "mimetype": "text/x-python",
   "name": "python",
   "nbconvert_exporter": "python",
   "pygments_lexer": "ipython3",
   "version": "3.10.2"
  }
 },
 "nbformat": 4,
 "nbformat_minor": 5
}
