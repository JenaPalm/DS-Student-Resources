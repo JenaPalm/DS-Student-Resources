{
 "cells": [
  {
   "cell_type": "markdown",
   "id": "3e227af5-5a1b-4d3f-aab3-d58d9762bd92",
   "metadata": {},
   "source": [
    "# Jupyter Notebooks Contained in DS-Student-Resources"
   ]
  },
  {
   "cell_type": "code",
   "execution_count": 1,
   "id": "fb0d52e2-5ed7-4a62-9af6-323d7cef149e",
   "metadata": {
    "tags": []
   },
   "outputs": [],
   "source": [
    "# Import the necessary libraries \n",
    "import os\n",
    "import pandas as pd\n",
    "import glob\n",
    "from pathlib import Path\n",
    "import csv\n",
    "from datetime import datetime\n",
    "import mimetypes"
   ]
  },
  {
   "cell_type": "code",
   "execution_count": 2,
   "id": "1bdf969b-a815-4aa2-b377-90a3c122d472",
   "metadata": {
    "tags": []
   },
   "outputs": [],
   "source": [
    "# function to recursively find all Jupyter notebooks in local GitHub repository ignoring .ipynb_checkpoint files\n",
    "def find_notebooks(root_path, extensions):\n",
    "    notebooks = []\n",
    "    for ext in extensions:\n",
    "        notebooks.extend([path for path in Path(root_path).rglob(f\"*.{ext}\") if \".ipynb_checkpoints\" not in str(path)])\n",
    "    return notebooks"
   ]
  },
  {
   "cell_type": "code",
   "execution_count": 3,
   "id": "1f13e6b2-79fb-48d3-aecd-7e606e20e5b4",
   "metadata": {
    "tags": []
   },
   "outputs": [],
   "source": [
    "# Define the Jupyter notebook extension you want to search for and call the find_notebooks function.\n",
    "notebook_extensions = [\"ipynb\"]\n",
    "root_dir = \".\"  # The root directory of your local GitHub repository\n",
    "notebooks = find_notebooks(root_dir, notebook_extensions)"
   ]
  },
  {
   "cell_type": "code",
   "execution_count": 4,
   "id": "f281ebfd-f661-42bb-8339-b999b122c767",
   "metadata": {
    "tags": []
   },
   "outputs": [],
   "source": [
    "# Create a function to extract the necessary metadata from each Jupyter notebook.\n",
    "def get_notebook_metadata(notebook_path):\n",
    "    metadata = {\n",
    "        \"filename\": notebook_path.name,\n",
    "        \"path\": str(notebook_path),\n",
    "        \"size\": notebook_path.stat().st_size,\n",
    "        \"modified_date\": datetime.fromtimestamp(notebook_path.stat().st_mtime).strftime('%Y-%m-%d %H:%M:%S'),\n",
    "    }\n",
    "    return metadata"
   ]
  },
  {
   "cell_type": "code",
   "execution_count": 5,
   "id": "10a6f7cd-2293-4226-866e-6ee5a3e89832",
   "metadata": {
    "tags": []
   },
   "outputs": [],
   "source": [
    "# Create a Pandas DataFrame to store the Jupyter notebook metadata and write it to a CSV file.\n",
    "notebook_metadata = [get_notebook_metadata(nb) for nb in notebooks]\n",
    "metadata_df = pd.DataFrame(notebook_metadata)\n",
    "metadata_df.to_csv(\"ds-jupyter-notebooks.csv\", index=False)"
   ]
  },
  {
   "cell_type": "code",
   "execution_count": 6,
   "id": "31406435-02a6-4f81-9f32-f646b4803aee",
   "metadata": {
    "tags": []
   },
   "outputs": [
    {
     "data": {
      "text/html": [
       "<div>\n",
       "<style scoped>\n",
       "    .dataframe tbody tr th:only-of-type {\n",
       "        vertical-align: middle;\n",
       "    }\n",
       "\n",
       "    .dataframe tbody tr th {\n",
       "        vertical-align: top;\n",
       "    }\n",
       "\n",
       "    .dataframe thead th {\n",
       "        text-align: right;\n",
       "    }\n",
       "</style>\n",
       "<table border=\"1\" class=\"dataframe\">\n",
       "  <thead>\n",
       "    <tr style=\"text-align: right;\">\n",
       "      <th></th>\n",
       "      <th>filename</th>\n",
       "      <th>path</th>\n",
       "      <th>size</th>\n",
       "      <th>modified_date</th>\n",
       "    </tr>\n",
       "  </thead>\n",
       "  <tbody>\n",
       "    <tr>\n",
       "      <th>0</th>\n",
       "      <td>DS-Notebook-Catalog.ipynb</td>\n",
       "      <td>DS-Notebook-Catalog.ipynb</td>\n",
       "      <td>8152</td>\n",
       "      <td>2023-05-15 18:01:55</td>\n",
       "    </tr>\n",
       "    <tr>\n",
       "      <th>1</th>\n",
       "      <td>DS-Data-Catalog.ipynb</td>\n",
       "      <td>DS-Data-Catalog.ipynb</td>\n",
       "      <td>9983</td>\n",
       "      <td>2023-05-27 07:31:08</td>\n",
       "    </tr>\n",
       "    <tr>\n",
       "      <th>2</th>\n",
       "      <td>DS-Video-Catalog.ipynb</td>\n",
       "      <td>DS-Video-Catalog.ipynb</td>\n",
       "      <td>3933</td>\n",
       "      <td>2023-05-15 18:03:29</td>\n",
       "    </tr>\n",
       "    <tr>\n",
       "      <th>3</th>\n",
       "      <td>DS108Questions.ipynb</td>\n",
       "      <td>DS108-Databases/DS108Questions.ipynb</td>\n",
       "      <td>3810</td>\n",
       "      <td>2021-12-27 09:18:13</td>\n",
       "    </tr>\n",
       "    <tr>\n",
       "      <th>4</th>\n",
       "      <td>DS108NoSQL-L3-Updating-Documents.ipynb</td>\n",
       "      <td>DS108-Databases/NoSQL/DS108NoSQL-L3-Updating-D...</td>\n",
       "      <td>40601</td>\n",
       "      <td>2023-01-13 15:40:22</td>\n",
       "    </tr>\n",
       "  </tbody>\n",
       "</table>\n",
       "</div>"
      ],
      "text/plain": [
       "                                 filename   \n",
       "0               DS-Notebook-Catalog.ipynb  \\\n",
       "1                   DS-Data-Catalog.ipynb   \n",
       "2                  DS-Video-Catalog.ipynb   \n",
       "3                    DS108Questions.ipynb   \n",
       "4  DS108NoSQL-L3-Updating-Documents.ipynb   \n",
       "\n",
       "                                                path   size   \n",
       "0                          DS-Notebook-Catalog.ipynb   8152  \\\n",
       "1                              DS-Data-Catalog.ipynb   9983   \n",
       "2                             DS-Video-Catalog.ipynb   3933   \n",
       "3               DS108-Databases/DS108Questions.ipynb   3810   \n",
       "4  DS108-Databases/NoSQL/DS108NoSQL-L3-Updating-D...  40601   \n",
       "\n",
       "         modified_date  \n",
       "0  2023-05-15 18:01:55  \n",
       "1  2023-05-27 07:31:08  \n",
       "2  2023-05-15 18:03:29  \n",
       "3  2021-12-27 09:18:13  \n",
       "4  2023-01-13 15:40:22  "
      ]
     },
     "execution_count": 6,
     "metadata": {},
     "output_type": "execute_result"
    }
   ],
   "source": [
    "# list the metadata contained in the metadata_df\n",
    "metadata_df.head()"
   ]
  },
  {
   "cell_type": "code",
   "execution_count": 7,
   "id": "9aee98d0-395e-47bc-84f3-cc586b4625e4",
   "metadata": {
    "tags": []
   },
   "outputs": [
    {
     "name": "stdout",
     "output_type": "stream",
     "text": [
      "Total size of all Jupyter Notebooks: 177.48 MB\n"
     ]
    }
   ],
   "source": [
    "# computer and print total size of all Jupyter notebooks\n",
    "total_size_bytes = metadata_df[\"size\"].sum()\n",
    "total_size_mb = total_size_bytes / (1024 ** 2)  # Convert bytes to megabytes\n",
    "print(f\"Total size of all Jupyter Notebooks: {total_size_mb:.2f} MB\")"
   ]
  },
  {
   "cell_type": "code",
   "execution_count": 8,
   "id": "166fe958-cb92-4e58-9f90-df9a985c47c9",
   "metadata": {
    "tags": []
   },
   "outputs": [
    {
     "name": "stdout",
     "output_type": "stream",
     "text": [
      "Total number of Jupyter Notebooks: 765\n"
     ]
    }
   ],
   "source": [
    "# count total number of Jupyter notebooks\n",
    "total_notebooks = len(notebooks)\n",
    "print(f\"Total number of Jupyter Notebooks: {total_notebooks}\")"
   ]
  },
  {
   "cell_type": "code",
   "execution_count": null,
   "id": "8f6f8d63-e316-4e0c-8f95-e8613a24e756",
   "metadata": {},
   "outputs": [],
   "source": []
  }
 ],
 "metadata": {
  "kernelspec": {
   "display_name": "Python 3.9",
   "language": "python",
   "name": "python3"
  },
  "language_info": {
   "codemirror_mode": {
    "name": "ipython",
    "version": 3
   },
   "file_extension": ".py",
   "mimetype": "text/x-python",
   "name": "python",
   "nbconvert_exporter": "python",
   "pygments_lexer": "ipython3",
   "version": "3.9.16"
  }
 },
 "nbformat": 4,
 "nbformat_minor": 5
}
