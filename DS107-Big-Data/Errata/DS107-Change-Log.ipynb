{
 "cells": [
  {
   "cell_type": "markdown",
   "id": "dc8bc06c-333f-4dc9-9e0f-9749dbbf078c",
   "metadata": {},
   "source": [
    "# Change Log\n",
    "\n",
    "1.  DS107L1P1, Issue to be changed, Jira ticket #\n",
    "2.  DS107L2P14, Change directories to maria_dev, [Jira ticket #](https://woz-u-projects.atlassian.net/browse/CUR-2805)"
   ]
  },
  {
   "cell_type": "code",
   "execution_count": null,
   "id": "f6e8c488-6a70-4943-9f61-8441ee6b6e4a",
   "metadata": {},
   "outputs": [],
   "source": []
  }
 ],
 "metadata": {
  "kernelspec": {
   "display_name": "Python 3 (ipykernel)",
   "language": "python",
   "name": "python3"
  },
  "language_info": {
   "codemirror_mode": {
    "name": "ipython",
    "version": 3
   },
   "file_extension": ".py",
   "mimetype": "text/x-python",
   "name": "python",
   "nbconvert_exporter": "python",
   "pygments_lexer": "ipython3",
   "version": "3.10.2"
  }
 },
 "nbformat": 4,
 "nbformat_minor": 5
}
