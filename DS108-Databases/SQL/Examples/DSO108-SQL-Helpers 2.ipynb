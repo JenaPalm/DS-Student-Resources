{
 "cells": [
  {
   "cell_type": "markdown",
   "id": "c6f2abc0-2331-4da3-868a-faac0e9bb877",
   "metadata": {},
   "source": [
    "# DSO108 - Databases"
   ]
  },
  {
   "cell_type": "markdown",
   "id": "92b62cde-f60b-4fd0-bd36-ca21ff9df5c4",
   "metadata": {},
   "source": [
    "---"
   ]
  },
  {
   "cell_type": "markdown",
   "id": "73b7cecb-b012-4815-b628-3bfa1956ed59",
   "metadata": {},
   "source": [
    "### Connecting Sakila Schema to MySQL"
   ]
  },
  {
   "cell_type": "code",
   "execution_count": 1,
   "id": "a609bd72-24e5-4e50-afd7-61228a732764",
   "metadata": {},
   "outputs": [
    {
     "data": {
      "text/html": [
       "\n",
       "        <iframe\n",
       "            width=\"720\"\n",
       "            height=\"480\"\n",
       "            src=\"https://player.vimeo.com/video/631560491\"\n",
       "            frameborder=\"0\"\n",
       "            allowfullscreen\n",
       "            \n",
       "        ></iframe>\n",
       "        "
      ],
      "text/plain": [
       "<IPython.lib.display.VimeoVideo at 0x12c93e910>"
      ]
     },
     "execution_count": 1,
     "metadata": {},
     "output_type": "execute_result"
    }
   ],
   "source": [
    "from IPython.display import VimeoVideo\n",
    "# Tutorial Video Name: Loading Sakila Database\n",
    "VimeoVideo('631560491', width=720, height=480)\n",
    "# https://vimeo.com/631560491"
   ]
  },
  {
   "cell_type": "markdown",
   "id": "936b9b7d-3506-4d41-9508-84ec6625e020",
   "metadata": {},
   "source": [
    "---\n",
    "### Lesson 1: Getting Started with SQL"
   ]
  },
  {
   "cell_type": "code",
   "execution_count": 2,
   "id": "095246ff-96d9-4b6d-94d8-f62c1ee108dd",
   "metadata": {},
   "outputs": [
    {
     "data": {
      "text/html": [
       "\n",
       "        <iframe\n",
       "            width=\"720\"\n",
       "            height=\"480\"\n",
       "            src=\"https://player.vimeo.com/video/560652250\"\n",
       "            frameborder=\"0\"\n",
       "            allowfullscreen\n",
       "            \n",
       "        ></iframe>\n",
       "        "
      ],
      "text/plain": [
       "<IPython.lib.display.VimeoVideo at 0x12c93e2b0>"
      ]
     },
     "execution_count": 2,
     "metadata": {},
     "output_type": "execute_result"
    }
   ],
   "source": [
    "from IPython.display import VimeoVideo\n",
    "# Database - Getting Started - SQL Lesson\n",
    "VimeoVideo('560652250', width=720, height=480)"
   ]
  },
  {
   "cell_type": "markdown",
   "id": "14182068-3182-4f5d-bd32-966447fcd220",
   "metadata": {},
   "source": [
    "---\n",
    "### Lesson 2: Joins"
   ]
  },
  {
   "cell_type": "code",
   "execution_count": 2,
   "id": "40307b3b-380a-4907-9ce8-2689e921f85d",
   "metadata": {},
   "outputs": [
    {
     "data": {
      "text/html": [
       "\n",
       "        <iframe\n",
       "            width=\"720\"\n",
       "            height=\"480\"\n",
       "            src=\"https://player.vimeo.com/video/561034501\"\n",
       "            frameborder=\"0\"\n",
       "            allowfullscreen\n",
       "            \n",
       "        ></iframe>\n",
       "        "
      ],
      "text/plain": [
       "<IPython.lib.display.VimeoVideo at 0x258aea0f8e0>"
      ]
     },
     "execution_count": 2,
     "metadata": {},
     "output_type": "execute_result"
    }
   ],
   "source": [
    "from IPython.display import VimeoVideo\n",
    "# Database - Getting Started - SQL Lesson\n",
    "VimeoVideo('561034501', width=720, height=480)\n",
    "\n"
   ]
  },
  {
   "cell_type": "markdown",
   "id": "7d754230-6035-458c-8748-60a43647b6ff",
   "metadata": {},
   "source": [
    "---\n",
    "### Lesson 3: CRUD in SQL  "
   ]
  },
  {
   "cell_type": "code",
   "execution_count": 3,
   "id": "6bb0eb42-4e5b-4dbc-bbd8-1dbd4132937f",
   "metadata": {},
   "outputs": [
    {
     "data": {
      "text/html": [
       "\n",
       "        <iframe\n",
       "            width=\"720\"\n",
       "            height=\"480\"\n",
       "            src=\"https://player.vimeo.com/video/561516529\"\n",
       "            frameborder=\"0\"\n",
       "            allowfullscreen\n",
       "            \n",
       "        ></iframe>\n",
       "        "
      ],
      "text/plain": [
       "<IPython.lib.display.VimeoVideo at 0x258aea0f610>"
      ]
     },
     "execution_count": 3,
     "metadata": {},
     "output_type": "execute_result"
    }
   ],
   "source": [
    "from IPython.display import VimeoVideo\n",
    "# Database - Getting Started - SQL Lesson\n",
    "VimeoVideo('561516529', width=720, height=480)\n",
    "\n"
   ]
  },
  {
   "cell_type": "markdown",
   "id": "a4f11d18-1679-4786-9e5f-b73f421bd13c",
   "metadata": {},
   "source": [
    "---\n",
    "### Lesson 4: Creating Tables "
   ]
  },
  {
   "cell_type": "code",
   "execution_count": 4,
   "id": "e3d2519e-835d-4520-b358-8816aa8fd1d1",
   "metadata": {},
   "outputs": [
    {
     "data": {
      "text/html": [
       "\n",
       "        <iframe\n",
       "            width=\"720\"\n",
       "            height=\"480\"\n",
       "            src=\"https://player.vimeo.com/video/562966139\"\n",
       "            frameborder=\"0\"\n",
       "            allowfullscreen\n",
       "            \n",
       "        ></iframe>\n",
       "        "
      ],
      "text/plain": [
       "<IPython.lib.display.VimeoVideo at 0x258aea0d420>"
      ]
     },
     "execution_count": 4,
     "metadata": {},
     "output_type": "execute_result"
    }
   ],
   "source": [
    "from IPython.display import VimeoVideo\n",
    "# Database - Getting Started - SQL Lesson\n",
    "VimeoVideo('562966139', width=720, height=480)\n",
    "\n"
   ]
  },
  {
   "cell_type": "markdown",
   "id": "ff0955fb-c928-48ec-976f-b9f026690d68",
   "metadata": {},
   "source": [
    "---\n",
    "### Lesson 5: Final - Indexes and Projects "
   ]
  },
  {
   "cell_type": "code",
   "execution_count": 5,
   "id": "e0f6290e-ad62-4c5b-80c2-2f5d82dab886",
   "metadata": {},
   "outputs": [
    {
     "data": {
      "text/html": [
       "\n",
       "        <iframe\n",
       "            width=\"720\"\n",
       "            height=\"480\"\n",
       "            src=\"https://player.vimeo.com/video/563359034\"\n",
       "            frameborder=\"0\"\n",
       "            allowfullscreen\n",
       "            \n",
       "        ></iframe>\n",
       "        "
      ],
      "text/plain": [
       "<IPython.lib.display.VimeoVideo at 0x258aea0d7e0>"
      ]
     },
     "execution_count": 5,
     "metadata": {},
     "output_type": "execute_result"
    }
   ],
   "source": [
    "from IPython.display import VimeoVideo\n",
    "# Database - Getting Started - SQL Lesson\n",
    "VimeoVideo('563359034', width=720, height=480)\n",
    "\n"
   ]
  }
 ],
 "metadata": {
  "kernelspec": {
   "display_name": "Python 3 (ipykernel)",
   "language": "python",
   "name": "python3"
  },
  "language_info": {
   "codemirror_mode": {
    "name": "ipython",
    "version": 3
   },
   "file_extension": ".py",
   "mimetype": "text/x-python",
   "name": "python",
   "nbconvert_exporter": "python",
   "pygments_lexer": "ipython3",
   "version": "3.9.13"
  }
 },
 "nbformat": 4,
 "nbformat_minor": 5
}
