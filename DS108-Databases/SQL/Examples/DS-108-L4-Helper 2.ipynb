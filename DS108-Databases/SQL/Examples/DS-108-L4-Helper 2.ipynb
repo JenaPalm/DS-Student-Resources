{
 "cells": [
  {
   "cell_type": "markdown",
   "id": "0b55edd5-03ab-4a94-b6ba-464a4de59180",
   "metadata": {},
   "source": [
    "### Table of Contents <a class=\"anchor\" id=\"DS108L4_toc\"></a>\n",
    "\n",
    "* [Table of Contents](#DS108L4_toc)\n",
    "    * [Page 1 - Part 1](#DS108L4_page_1)\n",
    "    * [Page 2 - Part 2](#DS108L4_page_2)\n",
    "     * [Page 3 - Fun Extras](#DS108L4_page_3)\n",
    "    \n",
    "    "
   ]
  },
  {
   "cell_type": "markdown",
   "id": "15dadfe1-c95b-453d-b92b-5bf5f508eb0e",
   "metadata": {},
   "source": [
    "<hr style=\"height:10px;border-width:0;color:gray;background-color:navy\">\n",
    "\n",
    "# Page 1 - Part One<a class=\"anchor\" id=\"DS108L4_page_1\"></a>\n",
    "\n",
    "[Back to Top](#DS108L4_toc)\n",
    "\n",
    "<hr style=\"height:10px;border-width:0;color:gray;background-color:navy\">"
   ]
  },
  {
   "cell_type": "markdown",
   "id": "6b2cf3ef-b9a6-405f-b3d8-f17f94b191e0",
   "metadata": {},
   "source": [
    "### 1. Create a view named \"FilmList that shows the title, release year, rating and length of films that have a length of less than 100. Once that is complete, select and view your newly created view."
   ]
  },
  {
   "cell_type": "code",
   "execution_count": null,
   "id": "40a7b7fb-e04d-4fa6-a75d-19ba54557705",
   "metadata": {},
   "outputs": [],
   "source": []
  },
  {
   "cell_type": "markdown",
   "id": "8012ac68-3e41-439c-86c4-c08f7f507362",
   "metadata": {},
   "source": [
    "query 1 \n",
    "```SQL\n",
    "\n",
    "create view FilmList as \n",
    "select title, release_year, rating, length \n",
    "from film \n",
    "where length < 100; \n",
    "\n",
    "\n",
    "```"
   ]
  },
  {
   "cell_type": "markdown",
   "id": "33bb82e6-ea09-4ea4-93d0-1b2a696baa58",
   "metadata": {},
   "source": [
    "-- query 2 \n",
    "```SQL\n",
    "\n",
    "select * from FilmList; \n",
    "```"
   ]
  },
  {
   "cell_type": "markdown",
   "id": "833302bf-e190-451d-8cf1-f6b3202b5b63",
   "metadata": {},
   "source": [
    "<hr style=\"height:10px;border-width:0;color:gray;background-color:navy\">\n",
    "\n",
    "# Page 2 - Part Two<a class=\"anchor\" id=\"DS108L4_page_2\"></a>\n",
    "\n",
    "[Back to Top](#DS108L4_toc)\n",
    "\n",
    "<hr style=\"height:10px;border-width:0;color:gray;background-color:navy\">"
   ]
  },
  {
   "cell_type": "markdown",
   "id": "6c3fbeaf-5262-4315-be10-73e5e95715c2",
   "metadata": {},
   "source": [
    "#### Create a table named \"SalesAnalysis\". Keep in mind when you're building databases, you are safeguarding the integrity of the data that's entered -  always.  Imagine an 18-year-old teen whose job is data entry and they aren't super careful. You are building safeguards in with the data types you specify for the values in each column. \n",
    "\n",
    "Include the following columns: <br>\n",
    "* ProductId \n",
    "* ProductName \n",
    "* ListPrice \n",
    "* DateAdded \n",
    "* ProductRanking \n",
    "\n",
    "### Include the following requirements: <br>\n",
    "\n",
    "#### Every product should have an automatically generated id number that should be unique for each product. <br>\n",
    "#### Give each column a data type that would apply <br>\n",
    "#### Make ListPrice in a price format: 12.99, for example.\n",
    "#### Give the DateAdded column a default value for the current local time. <br>\n",
    "#### All columns CANNOT be null. <br>\n",
    "#### Next, insert one product into the table following the given guidelines when the table was created. When inserting the data, don't include the ProductId or the DateAdded. <br>Finally, run a query to see the single product in your table.\n",
    "\n"
   ]
  },
  {
   "cell_type": "markdown",
   "id": "afad895f-4c74-4bc7-969c-d15e8efd7d70",
   "metadata": {},
   "source": [
    "```SQL\n",
    "CREATE TABLE sakila.SalesAnalysis ( \n",
    "ProductId INTEGER PRIMARY KEY AUTO_INCREMENT, \n",
    "ProductName VARCHAR(50) NOT NULL, \n",
    "ListPrice NUMERIC(4,2) NOT NULL,\n",
    "DateAdded DATETIME DEFAULT CURRENT_TIMESTAMP,\n",
    "SalesRanking INTEGER NOT NULL \n",
    "); \n",
    "```\n",
    "\n"
   ]
  },
  {
   "cell_type": "markdown",
   "id": "3276e8ac-e08b-44fc-bfdf-af5788f0fb43",
   "metadata": {},
   "source": [
    "### Query 2 <br>\n",
    "```SQL\n",
    "INSERT INTO sakila.SalesAnalysis(ProductName, ListPrice, SalesRanking) \n",
    "values(\"Yoga Heated Toe Socks\", 16.99, \"19562\"); \n",
    "--- Don't forget to add a semicolon so SQL knows that's the end of this insert.\n",
    "\n",
    "INSERT INTO sakila.SalesAnalysis(ProductName, ListPrice, SalesRanking)  \n",
    "values(\"Stream\", 15.99, \"4564\"); \n",
    "```"
   ]
  },
  {
   "cell_type": "markdown",
   "id": "3fff6df7-9f86-42d8-b550-65e74dcee42f",
   "metadata": {},
   "source": [
    "###  Note that when you use an integer, or numeric value, it is not a string and values added to a database don't need quotation marks.  If you were to use quotation marks, thereby making them a string, you would not be able to perform aggregation  with them and use them as integers.  It's valuable to be able to sum, average, or get a mean or median from, say a price and you can only do that if it's entered as a numeric value. "
   ]
  },
  {
   "cell_type": "markdown",
   "id": "aad4ffcb-7158-4319-a676-3d688771d7a7",
   "metadata": {},
   "source": [
    "### Once your values are added,  select * all to view them"
   ]
  },
  {
   "cell_type": "markdown",
   "id": "d7cfaf71-227f-4375-89ff-72a8799da9ad",
   "metadata": {},
   "source": [
    "```SQL\n",
    "SELECT * FROM sakila.SalesAnalysis;\n",
    "```"
   ]
  },
  {
   "cell_type": "markdown",
   "id": "913fce88-cccc-48a7-8aec-d5d2bf50e863",
   "metadata": {},
   "source": [
    "<hr style=\"height:10px;border-width:0;color:gray;background-color:navy\">\n",
    "\n",
    "# Page 3 - Part Three Fun Extras<a class=\"anchor\" id=\"DS108L4_page_3\"></a>\n",
    "\n",
    "[Back to Top](#DS108L4_toc)\n",
    "\n",
    "<hr style=\"height:10px;border-width:0;color:gray;background-color:navy\">"
   ]
  },
  {
   "cell_type": "markdown",
   "id": "af605a5c-c078-40b6-a136-2b6608c09159",
   "metadata": {},
   "source": [
    "#### Now, for fun, you can look at columns like this:"
   ]
  },
  {
   "cell_type": "markdown",
   "id": "34d78382-ebf6-41bf-9071-951a66b5b8db",
   "metadata": {},
   "source": [
    "### And you can save this code to use later when you have real databases as a data analyst!  the only things you'll change are sakila and film_id."
   ]
  },
  {
   "cell_type": "markdown",
   "id": "4c7f5b26-6a29-4657-af3e-af4abb85561c",
   "metadata": {},
   "source": [
    "```SQL\n",
    "SELECT TABLE_NAME \n",
    "FROM information_schema.columns\n",
    "WHERE column_name = \"film_id\"\n",
    "AND table_schema = \"sakila\"; \n",
    "```"
   ]
  },
  {
   "cell_type": "markdown",
   "id": "9f1a2184-7db9-4807-bd81-4a699d91652a",
   "metadata": {},
   "source": [
    "#### We get an output of table names which contain the column name film id. This is saying select the tables by name from information schema.columns where the column name equals film id and the table schema equals sakila. All tables in sakila that have the film id column, output is the five tables that have that column name. This is a quicker way to identify what your columns are in a new database. "
   ]
  },
  {
   "cell_type": "markdown",
   "id": "1ff759a1-4f47-4913-b18d-387d784246b0",
   "metadata": {},
   "source": [
    "### If you wanted to save a SQL dataset to CSV to examine using Python, R or Tableau, you can save to CSV this way:"
   ]
  },
  {
   "cell_type": "markdown",
   "id": "eb1fb489-ebea-4780-b389-24d10e353ebe",
   "metadata": {},
   "source": [
    "```SQL\n",
    "COPY SalesAnalysis TO 'C:\\FILEPATH\\FILENAME.txt'\n",
    "WITH (FORMAT CSV, HEADER, DELIMITER '|');\n",
    "```"
   ]
  },
  {
   "cell_type": "markdown",
   "id": "e7727091-e0b3-4c8e-bfc0-35b111cd31c7",
   "metadata": {},
   "source": [
    "#### Once you're finished, you can drop the SalesAnalysis table from sakila this way:"
   ]
  },
  {
   "cell_type": "markdown",
   "id": "a733674d-5c09-433c-a07b-28c507890170",
   "metadata": {},
   "source": [
    "```SQL\n",
    "DROP TABLE SalesAnalysis;\n",
    "```"
   ]
  },
  {
   "cell_type": "code",
   "execution_count": null,
   "id": "db284bc2-f585-4d7e-905c-c9dbf32c3c8e",
   "metadata": {},
   "outputs": [],
   "source": []
  }
 ],
 "metadata": {
  "kernelspec": {
   "display_name": "Python 3 (ipykernel)",
   "language": "python",
   "name": "python3"
  },
  "language_info": {
   "codemirror_mode": {
    "name": "ipython",
    "version": 3
   },
   "file_extension": ".py",
   "mimetype": "text/x-python",
   "name": "python",
   "nbconvert_exporter": "python",
   "pygments_lexer": "ipython3",
   "version": "3.10.4"
  }
 },
 "nbformat": 4,
 "nbformat_minor": 5
}
