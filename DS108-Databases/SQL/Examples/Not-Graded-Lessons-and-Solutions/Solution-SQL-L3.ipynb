{
 "cells": [
  {
   "cell_type": "markdown",
   "id": "106b62df-0cb3-4d2f-95a3-3c18c75f773d",
   "metadata": {},
   "source": [
    "# Solution\n",
    "\n",
    "Below is the solution for your Lesson 3 Practice Hands-On.\n",
    "\n",
    "---\n",
    "\n",
    "## Part 1\n",
    "\n",
    "1.\n",
    "\n",
    "```sql\n",
    "-- query 1\n",
    "\n",
    "INSERT INTO actor (first_name, last_name) VALUES (\"Emma\", \"Stone\")\n",
    "\n",
    "-- query 2\n",
    "\n",
    "SELECT * FROM actor WHERE first_name = \"Emma\" AND last_name = \"Stone\"\n",
    "```\n",
    "\n",
    "2.\n",
    "\n",
    "```sql\n",
    "-- query 1\n",
    "\n",
    "UPDATE actor SET first_name = \"Emmy\", last_name = \"Rock\" WHERE actor_id = 203\n",
    "\n",
    "-- query 2\n",
    "\n",
    "SELECT * FROM actor WHERE actor_id = 203\n",
    "```\n",
    "\n",
    "3.\n",
    "\n",
    "```sql\n",
    "SELECT * FROM staff WHERE password IS NULL\n",
    "```\n",
    "\n",
    "4.\n",
    "\n",
    "```sql\n",
    "SELECT * FROM staff WHERE first_name IS NOT NULL AND store_id IS NOT NULL\n",
    "```\n",
    "\n",
    "5.\n",
    "\n",
    "-- query 1\n",
    "\n",
    "```sql\n",
    "UPDATE address\n",
    "SET address2 = \"Canada\"\n",
    "WHERE district = \"Alberta\"\n",
    "\n",
    "-- query 2\n",
    "\n",
    "UPDATE address\n",
    "SET address2 = \"Australia\"\n",
    "WHERE district = \"QLD\"\n",
    "```"
   ]
  },
  {
   "cell_type": "code",
   "execution_count": null,
   "id": "9c21d42f-6e42-428a-a7f3-442f17d4d91d",
   "metadata": {},
   "outputs": [],
   "source": []
  }
 ],
 "metadata": {
  "kernelspec": {
   "display_name": "Python 3 (ipykernel)",
   "language": "python",
   "name": "python3"
  },
  "language_info": {
   "codemirror_mode": {
    "name": "ipython",
    "version": 3
   },
   "file_extension": ".py",
   "mimetype": "text/x-python",
   "name": "python",
   "nbconvert_exporter": "python",
   "pygments_lexer": "ipython3",
   "version": "3.9.13"
  }
 },
 "nbformat": 4,
 "nbformat_minor": 5
}
