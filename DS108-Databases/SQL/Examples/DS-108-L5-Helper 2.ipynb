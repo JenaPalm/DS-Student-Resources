{
 "cells": [
  {
   "cell_type": "markdown",
   "id": "6e3ee6dd-4622-4379-a2ab-52fae01b50e4",
   "metadata": {},
   "source": [
    "## DS108 Lesson 5 Hands On Helper "
   ]
  },
  {
   "cell_type": "markdown",
   "id": "4c2da7d5-9c48-4063-abc9-a95367e771cd",
   "metadata": {},
   "source": [
    "### Table of Contents <a class=\"anchor\" id=\"DS108L5_toc\"></a>\n",
    "\n",
    "* [Table of Contents](#DS108L5_toc)\n",
    "    * [Page 1 - Part 1](#DS108L5_page_1)\n",
    "    * [Page 2 - Part 2](#DS108L5_page_2)\n",
    "    * [Page 3 - Part 3](#DS108L5_page_3)\n",
    "    "
   ]
  },
  {
   "cell_type": "markdown",
   "id": "72c25b5b-c48c-41bc-9d1b-199e5a3c4c95",
   "metadata": {},
   "source": [
    "<hr style=\"height:10px;border-width:0;color:gray;background-color:darkorchid\">\n",
    "\n",
    "# Page 1 - Part One<a class=\"anchor\" id=\"DS108L5_page_1\"></a>\n",
    "\n",
    "[Back to Top](#DS108L5_toc)\n",
    "\n",
    "<hr style=\"height:10px;border-width:0;color:gray;background-color:darkorchid\">"
   ]
  },
  {
   "cell_type": "markdown",
   "id": "25dc1f85-49cb-4b56-97a6-83bd30f071f7",
   "metadata": {},
   "source": [
    "## Part 1 <br>\n",
    "#### Run a query that creates a table named Recipes that has the following columns: RecipID, RecipeName, CountryOrigin. <br>\n",
    "\n",
    "#### RecipeID is the primary key and auto increments.<br>\n"
   ]
  },
  {
   "cell_type": "markdown",
   "id": "f62b5f71-9820-4d22-9643-dd43f36bcdd3",
   "metadata": {},
   "source": [
    "```SQL\n",
    "CREATE TABLE Recipes ( \n",
    "RecipeID INTEGER PRIMARY KEY AUTO_INCREMENT, \n",
    "RecipeName VARCHAR(50) NOT NULL,\n",
    "CountryOrigin VARCHAR(50) NOT NULL\n",
    ");\n",
    "```"
   ]
  },
  {
   "cell_type": "markdown",
   "id": "67847e58-bb50-41a7-b169-6780bf1f6640",
   "metadata": {},
   "source": [
    "```SQL\n",
    "INSERT INTO Recipes (RecipeID, RecipeName, CountryOrigin)\n",
    "VALUE \n",
    "(1, \"Chicken Cordon Bleu\", \"France\"),\n",
    "(2, \"Creme Brulee\", \"France\"),\n",
    "(3, \"Pasta Puttancesca\", \"Italy\"), \n",
    "(4, \"Carne Asada\", \"Mexico\"),\n",
    "(5, \"Paella\", \"Spain\");\n",
    "```"
   ]
  },
  {
   "cell_type": "markdown",
   "id": "78c51e62-055f-45f3-b21c-833737c3356c",
   "metadata": {},
   "source": [
    "#### INSERT INTO inserts names and data for five recipes. After the INSERT INTO keword is the name of the table, and in parentheses are the columns to be filled. In the next row is the VALUE keyword and the data to insert into each column in each row. Enclose the data for each row in a set of parentheses and inside each set of (), use a comma to separate each column value. The order of the values must match the order of the columns specified after the table name. Each row of data ends with a comma and the last row ends the entire statement with a semicolon.  Text and dates require quotes, numbers including integers and decimals don't require quotes. "
   ]
  },
  {
   "cell_type": "markdown",
   "id": "987658c7-f046-444e-961f-d1b229bb14c2",
   "metadata": {},
   "source": [
    "### Run a query to see all of the recipes in the database."
   ]
  },
  {
   "cell_type": "markdown",
   "id": "53dede6d-fd54-4f74-b0cf-66c04405a2ff",
   "metadata": {},
   "source": [
    "```SQL\n",
    "SELECT * FROM Recipes;\n",
    "```"
   ]
  },
  {
   "cell_type": "markdown",
   "id": "13df5e49-7905-4014-a64e-fd016924847a",
   "metadata": {},
   "source": [
    "<hr style=\"height:10px;border-width:0;color:gray;background-color:darkorchid\">\n",
    "\n",
    "# Page 2 - Part Two<a class=\"anchor\" id=\"DS108L5_page_2\"></a>\n",
    "\n",
    "[Back to Top](#DS108L5_toc)\n",
    "\n",
    "<hr style=\"height:10px;border-width:0;color:gray;background-color:darkorchid\">"
   ]
  },
  {
   "cell_type": "markdown",
   "id": "f9bb439e-d3c5-4bab-97ce-cad06828e0e1",
   "metadata": {},
   "source": [
    "### Part 2\n",
    "#### Run a query that creates a table named Chefs that has the following columns: ChefID, Name, RecipeID as a foreign key and Recipes.\n",
    "\n",
    "#### ChefID is the primary key and auto increments. <br>\n",
    "#### RecipeID is a foreign key that references the Recipes table on the RecipeID column.\n",
    "\n",
    "#### Run a query to see all of the Chefs within the database."
   ]
  },
  {
   "cell_type": "markdown",
   "id": "dee4ec21-0323-430b-82a8-3749b237aed9",
   "metadata": {},
   "source": [
    "```SQL\n",
    "CREATE TABLE Chefs ( \n",
    "ChefID INTEGER PRIMARY KEY AUTO_INCREMENT,\n",
    "Name VARCHAR(50) NOT NULL, \n",
    "RecipeID INTEGER, FOREIGN KEY (RecipeID) REFERENCES Recipes(RecipeID) \n",
    ");\n",
    "\n",
    "INSERT INTO Chefs (Name, RecipeID) \n",
    "VALUE \n",
    "(\"Jacques Pepin\", 1), \n",
    "(\"Massimo Bottura\", 3),\n",
    "(\"Enrique Olvera\", 4),\n",
    "(\"Jose Andres\", 5);\n",
    "\n",
    "SELECT * FROM Chefs; \n",
    "\n",
    "SELECT * FROM Recipes \n",
    "JOIN Chefs USING (RecipeID); \n",
    "\n",
    "SELECT * FROM Recipes; \n",
    "```"
   ]
  },
  {
   "cell_type": "markdown",
   "id": "b391036d-bae3-4a37-84b0-11f5eac5feae",
   "metadata": {},
   "source": [
    "<hr style=\"height:10px;border-width:0;color:gray;background-color:darkorchid\">\n",
    "\n",
    "# Page 3 - Part Three<a class=\"anchor\" id=\"DS108L5_page_3\"></a>\n",
    "\n",
    "[Back to Top](#DS108L5_toc)\n",
    "\n",
    "<hr style=\"height:10px;border-width:0;color:gray;background-color:darkorchid\">\n"
   ]
  },
  {
   "cell_type": "markdown",
   "id": "7c91d6e9-4d77-4fcc-8595-ec96d4cf1865",
   "metadata": {},
   "source": [
    "### Part 3\n",
    "\n",
    "#### Run a query that joins the Recipes and Chefs table together using the RecipeID foreign key."
   ]
  },
  {
   "cell_type": "markdown",
   "id": "c58c00d2-d138-4670-8326-6d3832aecca3",
   "metadata": {},
   "source": [
    "\n",
    "\n",
    "#### Next, create a view named  using the join query created in step 1 adding the following parameters:\n",
    "\n",
    "#### Show only the Chefs' full name and recipe name.\n",
    "#### Rename the column name results using the AS keyword.\n",
    "#### The Authors FullName should display as ChefName.\n",
    "#### The Recipe should display as RecipeName.\n",
    "#### Order the results alphabetically by the authors full name.\n",
    "#### Lastly, run a query to see the view you just created."
   ]
  },
  {
   "cell_type": "markdown",
   "id": "12a3a909-49bd-426d-996f-af5a0a3946ef",
   "metadata": {},
   "source": [
    "```SQL\n",
    "CREATE VIEW ChefRecipes AS \n",
    "SELECT Name AS ChefName, RecipeName as Recipe FROM Recipes \n",
    "JOIN Chefs USING (RecipeID) \n",
    "ORDER BY Name; \n",
    "\n",
    "SELECT * FROM ChefRecipes;\n"
   ]
  },
  {
   "cell_type": "markdown",
   "id": "eb6b2997-fc78-4fa1-90f8-739625ee6e78",
   "metadata": {},
   "source": [
    "#### Note that date time format is YYYY-MM-DD - this is the international standard for date formats; using it will help avoid confusion. \n",
    "<p style=\"text-align: left\">\n",
    "  <img  src=\"../Media/dateFormatComic.jpg\" width=\"400\" alt=\"Video Games\">\n",
    "</p>\n"
   ]
  },
  {
   "cell_type": "code",
   "execution_count": null,
   "id": "8e774263-b54a-4a0e-8b48-7137c4542e73",
   "metadata": {},
   "outputs": [],
   "source": []
  }
 ],
 "metadata": {
  "kernelspec": {
   "display_name": "Python 3 (ipykernel)",
   "language": "python",
   "name": "python3"
  },
  "language_info": {
   "codemirror_mode": {
    "name": "ipython",
    "version": 3
   },
   "file_extension": ".py",
   "mimetype": "text/x-python",
   "name": "python",
   "nbconvert_exporter": "python",
   "pygments_lexer": "ipython3",
   "version": "3.10.4"
  }
 },
 "nbformat": 4,
 "nbformat_minor": 5
}
